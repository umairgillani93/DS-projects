{
 "cells": [
  {
   "cell_type": "code",
   "execution_count": 24,
   "metadata": {},
   "outputs": [],
   "source": [
    "import numpy as np\n",
    "import keras \n",
    "from keras.layers import Dense \n",
    "from keras.models import Sequential \n",
    "import matplotlib.pyplot as plt"
   ]
  },
  {
   "cell_type": "code",
   "execution_count": 8,
   "metadata": {},
   "outputs": [
    {
     "name": "stderr",
     "output_type": "stream",
     "text": [
      "W1029 12:51:30.068284 140563647420224 deprecation_wrapper.py:119] From /home/umairshah/anaconda3/lib/python3.7/site-packages/keras/backend/tensorflow_backend.py:47: The name tf.get_default_graph is deprecated. Please use tf.compat.v1.get_default_graph instead.\n",
      "\n"
     ]
    }
   ],
   "source": [
    "model = Sequential()"
   ]
  },
  {
   "cell_type": "code",
   "execution_count": 9,
   "metadata": {},
   "outputs": [
    {
     "name": "stderr",
     "output_type": "stream",
     "text": [
      "W1029 12:52:38.044112 140563647420224 deprecation_wrapper.py:119] From /home/umairshah/anaconda3/lib/python3.7/site-packages/keras/backend/tensorflow_backend.py:349: The name tf.placeholder is deprecated. Please use tf.compat.v1.placeholder instead.\n",
      "\n",
      "W1029 12:52:38.048634 140563647420224 deprecation_wrapper.py:119] From /home/umairshah/anaconda3/lib/python3.7/site-packages/keras/backend/tensorflow_backend.py:3147: The name tf.random_uniform is deprecated. Please use tf.random.uniform instead.\n",
      "\n",
      "W1029 12:52:38.065920 140563647420224 deprecation_wrapper.py:119] From /home/umairshah/anaconda3/lib/python3.7/site-packages/keras/optimizers.py:675: The name tf.train.Optimizer is deprecated. Please use tf.compat.v1.train.Optimizer instead.\n",
      "\n"
     ]
    }
   ],
   "source": [
    "model.add(Dense(units = 1, input_shape = [1]))\n",
    "model.compile(optimizer = 'sgd', loss = 'mean_squared_error')"
   ]
  },
  {
   "cell_type": "code",
   "execution_count": 13,
   "metadata": {},
   "outputs": [],
   "source": [
    "xs = np.array([-1,0,1,2,3,4], dtype = float)\n",
    "ys = np.array([-3,-1,1,3,5,7], dtype = float)"
   ]
  },
  {
   "cell_type": "code",
   "execution_count": 28,
   "metadata": {},
   "outputs": [
    {
     "name": "stdout",
     "output_type": "stream",
     "text": [
      "Train on 4 samples, validate on 2 samples\n",
      "Epoch 1/10\n",
      "4/4 [==============================] - 0s - loss: 0.0013 - val_loss: 0.0019\n",
      "Epoch 2/10\n",
      "4/4 [==============================] - 0s - loss: 0.0013 - val_loss: 0.0018\n",
      "Epoch 3/10\n",
      "4/4 [==============================] - 0s - loss: 0.0012 - val_loss: 0.0018\n",
      "Epoch 4/10\n",
      "4/4 [==============================] - 0s - loss: 0.0012 - val_loss: 0.0017\n",
      "Epoch 5/10\n",
      "4/4 [==============================] - 0s - loss: 0.0012 - val_loss: 0.0017\n",
      "Epoch 6/10\n",
      "4/4 [==============================] - 0s - loss: 0.0011 - val_loss: 0.0016\n",
      "Epoch 7/10\n",
      "4/4 [==============================] - 0s - loss: 0.0011 - val_loss: 0.0016\n",
      "Epoch 8/10\n",
      "4/4 [==============================] - 0s - loss: 0.0011 - val_loss: 0.0015\n",
      "Epoch 9/10\n",
      "4/4 [==============================] - 0s - loss: 0.0010 - val_loss: 0.0015\n",
      "Epoch 10/10\n",
      "4/4 [==============================] - 0s - loss: 0.0010 - val_loss: 0.0015\n"
     ]
    }
   ],
   "source": [
    "result = model.fit(xs, ys, epochs = 10, validation_split = 0.2)"
   ]
  },
  {
   "cell_type": "code",
   "execution_count": 29,
   "metadata": {},
   "outputs": [
    {
     "data": {
      "text/plain": [
       "dict_keys(['val_loss', 'loss'])"
      ]
     },
     "execution_count": 29,
     "metadata": {},
     "output_type": "execute_result"
    }
   ],
   "source": [
    "result.history.keys()"
   ]
  },
  {
   "cell_type": "code",
   "execution_count": 34,
   "metadata": {},
   "outputs": [
    {
     "data": {
      "image/png": "[encoded data removed]",
      "text/plain": [
       "<Figure size 864x432 with 1 Axes>"
      ]
     },
     "metadata": {
      "needs_background": "light"
     },
     "output_type": "display_data"
    }
   ],
   "source": [
    "plt.figure(figsize = (12,6))\n",
    "plt.plot(result.history['loss'])\n",
    "plt.plot(result.history['val_loss'])\n",
    "plt.title('Model Loss')\n",
    "plt.xlabel('Epochs')\n",
    "plt.ylabel('Loss')\n",
    "plt.legend(['Train', 'Validation',], loc = 'upper_right')\n",
    "\n",
    "import warnings\n",
    "warnings.filterwarnings(\"ignore\")"
   ]
  },
  {
   "cell_type": "markdown",
   "metadata": {},
   "source": [
    "## Second Model:"
   ]
  },
  {
   "cell_type": "code",
   "execution_count": 36,
   "metadata": {},
   "outputs": [],
   "source": [
    "import tensorflow as tf \n",
    "from tensorflow import keras \n",
    "import numpy as np"
   ]
  },
  {
   "cell_type": "code",
   "execution_count": 42,
   "metadata": {},
   "outputs": [],
   "source": [
    "model = tf.keras.Sequential([keras.layers.Dense(units = 1, input_shape = [1])])"
   ]
  },
  {
   "cell_type": "code",
   "execution_count": 43,
   "metadata": {},
   "outputs": [],
   "source": [
    "model.compile(optimizer = 'sgd', loss = 'mean_absolute_error')"
   ]
  },
  {
   "cell_type": "code",
   "execution_count": 44,
   "metadata": {},
   "outputs": [
    {
     "name": "stdout",
     "output_type": "stream",
     "text": [
      "[-1.  0.  1.  2.  3.  4.]\n",
      "[-3. -1.  1.  3.  5.  7.]\n"
     ]
    }
   ],
   "source": [
    "print(xs)\n",
    "print(ys)"
   ]
  },
  {
   "cell_type": "code",
   "execution_count": 51,
   "metadata": {},
   "outputs": [
    {
     "name": "stdout",
     "output_type": "stream",
     "text": [
      "Train on 4 samples, validate on 2 samples\n",
      "Epoch 1/10\n",
      "4/4 [==============================] - 0s 10ms/sample - loss: 0.7702 - val_loss: 0.8791\n",
      "Epoch 2/10\n",
      "4/4 [==============================] - 0s 637us/sample - loss: 0.7652 - val_loss: 0.8666\n",
      "Epoch 3/10\n",
      "4/4 [==============================] - 0s 1ms/sample - loss: 0.7602 - val_loss: 0.8541\n",
      "Epoch 4/10\n",
      "4/4 [==============================] - 0s 1ms/sample - loss: 0.7552 - val_loss: 0.8416\n",
      "Epoch 5/10\n",
      "4/4 [==============================] - 0s 2ms/sample - loss: 0.7502 - val_loss: 0.8291\n",
      "Epoch 6/10\n",
      "4/4 [==============================] - 0s 724us/sample - loss: 0.7452 - val_loss: 0.8166\n",
      "Epoch 7/10\n",
      "4/4 [==============================] - 0s 844us/sample - loss: 0.7402 - val_loss: 0.8041\n",
      "Epoch 8/10\n",
      "4/4 [==============================] - 0s 886us/sample - loss: 0.7352 - val_loss: 0.7916\n",
      "Epoch 9/10\n",
      "4/4 [==============================] - 0s 995us/sample - loss: 0.7302 - val_loss: 0.7791\n",
      "Epoch 10/10\n",
      "4/4 [==============================] - 0s 2ms/sample - loss: 0.7252 - val_loss: 0.7666\n"
     ]
    }
   ],
   "source": [
    "history = model.fit(xs, ys, epochs = 10, validation_split = 0.2)"
   ]
  },
  {
   "cell_type": "code",
   "execution_count": 52,
   "metadata": {},
   "outputs": [
    {
     "data": {
      "text/plain": [
       "array([[15.045301]], dtype=float32)"
      ]
     },
     "execution_count": 52,
     "metadata": {},
     "output_type": "execute_result"
    }
   ],
   "source": [
    "model.predict([10.0])"
   ]
  },
  {
   "cell_type": "code",
   "execution_count": 53,
   "metadata": {},
   "outputs": [
    {
     "data": {
      "text/plain": [
       "dict_keys(['loss', 'val_loss'])"
      ]
     },
     "execution_count": 53,
     "metadata": {},
     "output_type": "execute_result"
    }
   ],
   "source": [
    "history.history.keys()"
   ]
  },
  {
   "cell_type": "code",
   "execution_count": 57,
   "metadata": {},
   "outputs": [
    {
     "data": {
      "text/plain": [
       "<matplotlib.legend.Legend at 0x7fd70b6a3fd0>"
      ]
     },
     "execution_count": 57,
     "metadata": {},
     "output_type": "execute_result"
    },
    {
     "data": {
      "image/png": "[encoded data removed]",
      "text/plain": [
       "<Figure size 864x432 with 1 Axes>"
      ]
     },
     "metadata": {
      "needs_background": "light"
     },
     "output_type": "display_data"
    }
   ],
   "source": [
    "plt.figure(figsize = (12,6))\n",
    "plt.plot(history.history['loss'])\n",
    "plt.plot(history.history['val_loss'])\n",
    "plt.title('Model Loss')\n",
    "plt.xlabel('Epochs')\n",
    "plt.ylabel('Loss')\n",
    "plt.legend(['Train', 'Validation'], loc = \"upper_right\")"
   ]
  },
  {
   "cell_type": "code",
   "execution_count": 60,
   "metadata": {},
   "outputs": [
    {
     "name": "stdout",
     "output_type": "stream",
     "text": [
      "1.14.0\n"
     ]
    }
   ],
   "source": [
    "print(tf.__version__)"
   ]
  },
  {
   "cell_type": "code",
   "execution_count": null,
   "metadata": {},
   "outputs": [],
   "source": []
  }
 ],
 "metadata": {
  "kernelspec": {
   "display_name": "Python 3",
   "language": "python",
   "name": "python3"
  },
  "language_info": {
   "codemirror_mode": {
    "name": "ipython",
    "version": 3
   },
   "file_extension": ".py",
   "mimetype": "text/x-python",
   "name": "python",
   "nbconvert_exporter": "python",
   "pygments_lexer": "ipython3",
   "version": "3.7.3"
  }
 },
 "nbformat": 4,
 "nbformat_minor": 2
}
