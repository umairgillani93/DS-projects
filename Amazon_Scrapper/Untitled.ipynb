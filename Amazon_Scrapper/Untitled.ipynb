{
 "cells": [
  {
   "cell_type": "code",
   "execution_count": 1,
   "metadata": {},
   "outputs": [],
   "source": [
    "import pandas as pd"
   ]
  },
  {
   "cell_type": "code",
   "execution_count": 2,
   "metadata": {},
   "outputs": [],
   "source": [
    "df = pd.read_csv('scraped_data.csv')"
   ]
  },
  {
   "cell_type": "code",
   "execution_count": 5,
   "metadata": {},
   "outputs": [],
   "source": [
    "df = pd.read_csv('questions_answers.csv')"
   ]
  },
  {
   "cell_type": "code",
   "execution_count": 8,
   "metadata": {},
   "outputs": [
    {
     "name": "stdout",
     "output_type": "stream",
     "text": [
      "<class 'pandas.core.frame.DataFrame'>\n",
      "RangeIndex: 1 entries, 0 to 0\n",
      "Data columns (total 2 columns):\n",
      "questions    1 non-null object\n",
      "answers      1 non-null object\n",
      "dtypes: object(2)\n",
      "memory usage: 144.0+ bytes\n"
     ]
    }
   ],
   "source": [
    "df.info()"
   ]
  },
  {
   "cell_type": "code",
   "execution_count": 9,
   "metadata": {},
   "outputs": [],
   "source": [
    "df1 = pd.read_json('questions.json')"
   ]
  },
  {
   "cell_type": "code",
   "execution_count": 31,
   "metadata": {},
   "outputs": [],
   "source": [
    "df2 = pd.read_csv('questions.csv')"
   ]
  },
  {
   "cell_type": "code",
   "execution_count": 33,
   "metadata": {},
   "outputs": [
    {
     "data": {
      "text/html": [
       "<div>\n",
       "<style scoped>\n",
       "    .dataframe tbody tr th:only-of-type {\n",
       "        vertical-align: middle;\n",
       "    }\n",
       "\n",
       "    .dataframe tbody tr th {\n",
       "        vertical-align: top;\n",
       "    }\n",
       "\n",
       "    .dataframe thead th {\n",
       "        text-align: right;\n",
       "    }\n",
       "</style>\n",
       "<table border=\"1\" class=\"dataframe\">\n",
       "  <thead>\n",
       "    <tr style=\"text-align: right;\">\n",
       "      <th></th>\n",
       "      <th>Unnamed: 0</th>\n",
       "      <th>title</th>\n",
       "      <th>questions</th>\n",
       "      <th>answers</th>\n",
       "    </tr>\n",
       "  </thead>\n",
       "  <tbody>\n",
       "    <tr>\n",
       "      <td>0</td>\n",
       "      <td>0</td>\n",
       "      <td>ARRIS SURFboard (24x8) DOCSIS 3.0 Cable Modem ...</td>\n",
       "      <td>How many ethernet ports does it have?</td>\n",
       "      <td>four</td>\n",
       "    </tr>\n",
       "    <tr>\n",
       "      <td>1</td>\n",
       "      <td>1</td>\n",
       "      <td>NaN</td>\n",
       "      <td>does it have voice over IP?</td>\n",
       "      <td>No, this gateway does not have the VOIP ports</td>\n",
       "    </tr>\n",
       "    <tr>\n",
       "      <td>2</td>\n",
       "      <td>2</td>\n",
       "      <td>NaN</td>\n",
       "      <td>Does this device work with optimum services ?</td>\n",
       "      <td>No not compatible</td>\n",
       "    </tr>\n",
       "    <tr>\n",
       "      <td>3</td>\n",
       "      <td>3</td>\n",
       "      <td>NaN</td>\n",
       "      <td>Would this support a 2500 to 3000 sq ft home?</td>\n",
       "      <td>We use this device and it supports feeds to ab...</td>\n",
       "    </tr>\n",
       "    <tr>\n",
       "      <td>4</td>\n",
       "      <td>4</td>\n",
       "      <td>NaN</td>\n",
       "      <td>Does this modem and its manufacturer support a...</td>\n",
       "      <td>The firmware updates for this model are contro...</td>\n",
       "    </tr>\n",
       "    <tr>\n",
       "      <td>5</td>\n",
       "      <td>5</td>\n",
       "      <td>NaN</td>\n",
       "      <td>Can i use nord vpn with this modem?</td>\n",
       "      <td>I'd like to be able to help you. Unfortunately...</td>\n",
       "    </tr>\n",
       "    <tr>\n",
       "      <td>6</td>\n",
       "      <td>6</td>\n",
       "      <td>NaN</td>\n",
       "      <td>Can you select the 5Ghz channels between 52 an...</td>\n",
       "      <td>none, all are higher</td>\n",
       "    </tr>\n",
       "    <tr>\n",
       "      <td>7</td>\n",
       "      <td>7</td>\n",
       "      <td>NaN</td>\n",
       "      <td>does it have voice over IP?</td>\n",
       "      <td>not directly...to get voip you would need some...</td>\n",
       "    </tr>\n",
       "    <tr>\n",
       "      <td>8</td>\n",
       "      <td>8</td>\n",
       "      <td>NaN</td>\n",
       "      <td>Does anyone know of a wall mount for this cabl...</td>\n",
       "      <td>Yes</td>\n",
       "    </tr>\n",
       "    <tr>\n",
       "      <td>9</td>\n",
       "      <td>9</td>\n",
       "      <td>NaN</td>\n",
       "      <td>There is a usb 3.0 in the front, can i plug my...</td>\n",
       "      <td>Yes, this model can support external storage.</td>\n",
       "    </tr>\n",
       "  </tbody>\n",
       "</table>\n",
       "</div>"
      ],
      "text/plain": [
       "   Unnamed: 0                                              title  \\\n",
       "0           0  ARRIS SURFboard (24x8) DOCSIS 3.0 Cable Modem ...   \n",
       "1           1                                                NaN   \n",
       "2           2                                                NaN   \n",
       "3           3                                                NaN   \n",
       "4           4                                                NaN   \n",
       "5           5                                                NaN   \n",
       "6           6                                                NaN   \n",
       "7           7                                                NaN   \n",
       "8           8                                                NaN   \n",
       "9           9                                                NaN   \n",
       "\n",
       "                                           questions  \\\n",
       "0              How many ethernet ports does it have?   \n",
       "1                        does it have voice over IP?   \n",
       "2      Does this device work with optimum services ?   \n",
       "3      Would this support a 2500 to 3000 sq ft home?   \n",
       "4  Does this modem and its manufacturer support a...   \n",
       "5                Can i use nord vpn with this modem?   \n",
       "6  Can you select the 5Ghz channels between 52 an...   \n",
       "7                        does it have voice over IP?   \n",
       "8  Does anyone know of a wall mount for this cabl...   \n",
       "9  There is a usb 3.0 in the front, can i plug my...   \n",
       "\n",
       "                                             answers  \n",
       "0                                               four  \n",
       "1      No, this gateway does not have the VOIP ports  \n",
       "2                                  No not compatible  \n",
       "3  We use this device and it supports feeds to ab...  \n",
       "4  The firmware updates for this model are contro...  \n",
       "5  I'd like to be able to help you. Unfortunately...  \n",
       "6                               none, all are higher  \n",
       "7  not directly...to get voip you would need some...  \n",
       "8                                                Yes  \n",
       "9      Yes, this model can support external storage.  "
      ]
     },
     "execution_count": 33,
     "metadata": {},
     "output_type": "execute_result"
    }
   ],
   "source": [
    "df2"
   ]
  },
  {
   "cell_type": "code",
   "execution_count": null,
   "metadata": {},
   "outputs": [],
   "source": []
  }
 ],
 "metadata": {
  "kernelspec": {
   "display_name": "Python 3",
   "language": "python",
   "name": "python3"
  },
  "language_info": {
   "codemirror_mode": {
    "name": "ipython",
    "version": 3
   },
   "file_extension": ".py",
   "mimetype": "text/x-python",
   "name": "python",
   "nbconvert_exporter": "python",
   "pygments_lexer": "ipython3",
   "version": "3.7.4"
  }
 },
 "nbformat": 4,
 "nbformat_minor": 2
}
