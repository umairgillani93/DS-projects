{
 "cells": [
  {
   "cell_type": "markdown",
   "metadata": {},
   "source": [
    "## Loading Dataset and Importing Libraries:\n",
    "\n",
    "Let's start off with few essential __Imports__. Below I've explained briefly the purpose of imported libraries.\n",
    "\n",
    "__pandas:__ creating dataframes and data pre-processing.  \n",
    "__matplotlib:__ data visualization.  \n",
    "__seaborn:__ data visualization.  \n",
    "__warnings:__ to get rid off those annoying warnigns.    \n",
    "__gensim:__ creating word embeddings, implementing __Word2Vec__ for keyword column.  \n",
    "__keras:__ for implementing deep neural networks and Keras Functional API (for multiple input models).    \n",
    "__nltk:__ for performing Natural language preprocessing tasks (stop words removal, tokenization etc).    \n",
    "__sklearn:__ splitting the training and test data, features normalizations, shuffling dataframe and for applying ML algorithms if needed!    \n",
    "__collections:__ since it gets tidious sometimes to write your own code, for word count, BOW, etc. So it's better to use, built-in pythons's collections library.  "
   ]
  },
  {
   "cell_type": "code",
   "execution_count": 1,
   "metadata": {},
   "outputs": [
    {
     "name": "stderr",
     "output_type": "stream",
     "text": [
      "Using TensorFlow backend.\n"
     ]
    }
   ],
   "source": [
    "import pandas as pd\n",
    "import matplotlib.pyplot as plt\n",
    "import seaborn as sns\n",
    "import warnings\n",
    "import gensim\n",
    "import keras\n",
    "from keras.layers import Input, Dense, concatenate, Activation\n",
    "from keras.models import Sequential\n",
    "from keras.models import Model\n",
    "import nltk\n",
    "from nltk import RegexpTokenizer\n",
    "from nltk.corpus import stopwords\n",
    "from nltk.tokenize import word_tokenize\n",
    "from sklearn import metrics\n",
    "from sklearn.linear_model import LinearRegression\n",
    "from sklearn.feature_extraction.text import TfidfVectorizer\n",
    "from sklearn.preprocessing import StandardScaler\n",
    "from sklearn.model_selection import train_test_split\n",
    "from sklearn.utils import shuffle # we can also shuffle in input_func with tensorflow\n",
    "warnings.filterwarnings(\"ignore\")\n",
    "from collections import Counter\n",
    "\n",
    "%matplotlib inline"
   ]
  },
  {
   "cell_type": "markdown",
   "metadata": {},
   "source": [
    "__Okay.__ Once we're done with importing all the libraries we needed. Let's go ahead and load our data set. Check the head of it, get some basic information about every single feature, and finally applying pandas built-in describe() method, to see some high-level statistical insighs of the data set have."
   ]
  },
  {
   "cell_type": "code",
   "execution_count": 2,
   "metadata": {},
   "outputs": [],
   "source": [
    "df = pd.read_csv('SEM_KeyWord_Dataset.csv')"
   ]
  },
  {
   "cell_type": "code",
   "execution_count": 3,
   "metadata": {},
   "outputs": [
    {
     "data": {
      "text/html": [
       "<div>\n",
       "<style scoped>\n",
       "    .dataframe tbody tr th:only-of-type {\n",
       "        vertical-align: middle;\n",
       "    }\n",
       "\n",
       "    .dataframe tbody tr th {\n",
       "        vertical-align: top;\n",
       "    }\n",
       "\n",
       "    .dataframe thead th {\n",
       "        text-align: right;\n",
       "    }\n",
       "</style>\n",
       "<table border=\"1\" class=\"dataframe\">\n",
       "  <thead>\n",
       "    <tr style=\"text-align: right;\">\n",
       "      <th></th>\n",
       "      <th>Date</th>\n",
       "      <th>Market</th>\n",
       "      <th>Keyword</th>\n",
       "      <th>Average.Position</th>\n",
       "      <th>CPC</th>\n",
       "      <th>Clicks</th>\n",
       "      <th>CTR</th>\n",
       "      <th>Impressions</th>\n",
       "      <th>Cost</th>\n",
       "    </tr>\n",
       "  </thead>\n",
       "  <tbody>\n",
       "    <tr>\n",
       "      <td>0</td>\n",
       "      <td>20120524</td>\n",
       "      <td>US-Market</td>\n",
       "      <td>secure online back up</td>\n",
       "      <td>0.0</td>\n",
       "      <td>0.0</td>\n",
       "      <td>0.00</td>\n",
       "      <td>0.00%</td>\n",
       "      <td>0.0</td>\n",
       "      <td>0.00</td>\n",
       "    </tr>\n",
       "    <tr>\n",
       "      <td>1</td>\n",
       "      <td>20120524</td>\n",
       "      <td>US-Market</td>\n",
       "      <td>agile management software</td>\n",
       "      <td>1.0</td>\n",
       "      <td>1.2</td>\n",
       "      <td>21.22</td>\n",
       "      <td>8.20%</td>\n",
       "      <td>260.0</td>\n",
       "      <td>25.45</td>\n",
       "    </tr>\n",
       "    <tr>\n",
       "      <td>2</td>\n",
       "      <td>20120524</td>\n",
       "      <td>US-Market</td>\n",
       "      <td>crm for financial</td>\n",
       "      <td>0.0</td>\n",
       "      <td>0.0</td>\n",
       "      <td>0.00</td>\n",
       "      <td>0.00%</td>\n",
       "      <td>0.0</td>\n",
       "      <td>0.00</td>\n",
       "    </tr>\n",
       "    <tr>\n",
       "      <td>3</td>\n",
       "      <td>20120524</td>\n",
       "      <td>US-Market</td>\n",
       "      <td>disaster recovery planning for it</td>\n",
       "      <td>0.0</td>\n",
       "      <td>0.0</td>\n",
       "      <td>0.00</td>\n",
       "      <td>0.00%</td>\n",
       "      <td>0.0</td>\n",
       "      <td>0.00</td>\n",
       "    </tr>\n",
       "    <tr>\n",
       "      <td>4</td>\n",
       "      <td>20120524</td>\n",
       "      <td>US-Market</td>\n",
       "      <td>tracking a vehicle</td>\n",
       "      <td>0.0</td>\n",
       "      <td>0.0</td>\n",
       "      <td>0.00</td>\n",
       "      <td>0.00%</td>\n",
       "      <td>0.0</td>\n",
       "      <td>0.00</td>\n",
       "    </tr>\n",
       "  </tbody>\n",
       "</table>\n",
       "</div>"
      ],
      "text/plain": [
       "       Date     Market                            Keyword  Average.Position  \\\n",
       "0  20120524  US-Market              secure online back up               0.0   \n",
       "1  20120524  US-Market          agile management software               1.0   \n",
       "2  20120524  US-Market                  crm for financial               0.0   \n",
       "3  20120524  US-Market  disaster recovery planning for it               0.0   \n",
       "4  20120524  US-Market                 tracking a vehicle               0.0   \n",
       "\n",
       "   CPC  Clicks    CTR  Impressions   Cost  \n",
       "0  0.0    0.00  0.00%          0.0   0.00  \n",
       "1  1.2   21.22  8.20%        260.0  25.45  \n",
       "2  0.0    0.00  0.00%          0.0   0.00  \n",
       "3  0.0    0.00  0.00%          0.0   0.00  \n",
       "4  0.0    0.00  0.00%          0.0   0.00  "
      ]
     },
     "execution_count": 3,
     "metadata": {},
     "output_type": "execute_result"
    }
   ],
   "source": [
    "df.head()"
   ]
  },
  {
   "cell_type": "code",
   "execution_count": 4,
   "metadata": {},
   "outputs": [
    {
     "name": "stdout",
     "output_type": "stream",
     "text": [
      "<class 'pandas.core.frame.DataFrame'>\n",
      "RangeIndex: 356054 entries, 0 to 356053\n",
      "Data columns (total 9 columns):\n",
      "Date                356054 non-null int64\n",
      "Market              356054 non-null object\n",
      "Keyword             355575 non-null object\n",
      "Average.Position    353018 non-null float64\n",
      "CPC                 353018 non-null float64\n",
      "Clicks              353018 non-null float64\n",
      "CTR                 353018 non-null object\n",
      "Impressions         353018 non-null float64\n",
      "Cost                353018 non-null float64\n",
      "dtypes: float64(5), int64(1), object(3)\n",
      "memory usage: 24.4+ MB\n"
     ]
    }
   ],
   "source": [
    "df.info()"
   ]
  },
  {
   "cell_type": "code",
   "execution_count": 5,
   "metadata": {},
   "outputs": [
    {
     "data": {
      "text/html": [
       "<div>\n",
       "<style scoped>\n",
       "    .dataframe tbody tr th:only-of-type {\n",
       "        vertical-align: middle;\n",
       "    }\n",
       "\n",
       "    .dataframe tbody tr th {\n",
       "        vertical-align: top;\n",
       "    }\n",
       "\n",
       "    .dataframe thead th {\n",
       "        text-align: right;\n",
       "    }\n",
       "</style>\n",
       "<table border=\"1\" class=\"dataframe\">\n",
       "  <thead>\n",
       "    <tr style=\"text-align: right;\">\n",
       "      <th></th>\n",
       "      <th>Date</th>\n",
       "      <th>Average.Position</th>\n",
       "      <th>CPC</th>\n",
       "      <th>Clicks</th>\n",
       "      <th>Impressions</th>\n",
       "      <th>Cost</th>\n",
       "    </tr>\n",
       "  </thead>\n",
       "  <tbody>\n",
       "    <tr>\n",
       "      <td>count</td>\n",
       "      <td>3.560540e+05</td>\n",
       "      <td>353018.000000</td>\n",
       "      <td>353018.000000</td>\n",
       "      <td>353018.000000</td>\n",
       "      <td>3.530180e+05</td>\n",
       "      <td>3.530180e+05</td>\n",
       "    </tr>\n",
       "    <tr>\n",
       "      <td>mean</td>\n",
       "      <td>2.012269e+07</td>\n",
       "      <td>0.611737</td>\n",
       "      <td>14.285071</td>\n",
       "      <td>439.052699</td>\n",
       "      <td>1.874365e+04</td>\n",
       "      <td>3.598259e+03</td>\n",
       "    </tr>\n",
       "    <tr>\n",
       "      <td>std</td>\n",
       "      <td>3.577676e+03</td>\n",
       "      <td>0.643839</td>\n",
       "      <td>37.858433</td>\n",
       "      <td>7559.532663</td>\n",
       "      <td>2.970826e+05</td>\n",
       "      <td>5.718301e+04</td>\n",
       "    </tr>\n",
       "    <tr>\n",
       "      <td>min</td>\n",
       "      <td>2.012052e+07</td>\n",
       "      <td>0.000000</td>\n",
       "      <td>0.000000</td>\n",
       "      <td>0.000000</td>\n",
       "      <td>0.000000e+00</td>\n",
       "      <td>0.000000e+00</td>\n",
       "    </tr>\n",
       "    <tr>\n",
       "      <td>25%</td>\n",
       "      <td>2.012090e+07</td>\n",
       "      <td>0.000000</td>\n",
       "      <td>0.000000</td>\n",
       "      <td>0.000000</td>\n",
       "      <td>0.000000e+00</td>\n",
       "      <td>0.000000e+00</td>\n",
       "    </tr>\n",
       "    <tr>\n",
       "      <td>50%</td>\n",
       "      <td>2.012102e+07</td>\n",
       "      <td>1.000000</td>\n",
       "      <td>1.100000</td>\n",
       "      <td>2.120000</td>\n",
       "      <td>1.290000e+02</td>\n",
       "      <td>8.070000e+00</td>\n",
       "    </tr>\n",
       "    <tr>\n",
       "      <td>75%</td>\n",
       "      <td>2.012122e+07</td>\n",
       "      <td>1.000000</td>\n",
       "      <td>12.100000</td>\n",
       "      <td>35.230000</td>\n",
       "      <td>1.571000e+03</td>\n",
       "      <td>3.749975e+02</td>\n",
       "    </tr>\n",
       "    <tr>\n",
       "      <td>max</td>\n",
       "      <td>2.013021e+07</td>\n",
       "      <td>12.000000</td>\n",
       "      <td>632.730000</td>\n",
       "      <td>441963.500000</td>\n",
       "      <td>1.566667e+07</td>\n",
       "      <td>3.269108e+06</td>\n",
       "    </tr>\n",
       "  </tbody>\n",
       "</table>\n",
       "</div>"
      ],
      "text/plain": [
       "               Date  Average.Position            CPC         Clicks  \\\n",
       "count  3.560540e+05     353018.000000  353018.000000  353018.000000   \n",
       "mean   2.012269e+07          0.611737      14.285071     439.052699   \n",
       "std    3.577676e+03          0.643839      37.858433    7559.532663   \n",
       "min    2.012052e+07          0.000000       0.000000       0.000000   \n",
       "25%    2.012090e+07          0.000000       0.000000       0.000000   \n",
       "50%    2.012102e+07          1.000000       1.100000       2.120000   \n",
       "75%    2.012122e+07          1.000000      12.100000      35.230000   \n",
       "max    2.013021e+07         12.000000     632.730000  441963.500000   \n",
       "\n",
       "        Impressions          Cost  \n",
       "count  3.530180e+05  3.530180e+05  \n",
       "mean   1.874365e+04  3.598259e+03  \n",
       "std    2.970826e+05  5.718301e+04  \n",
       "min    0.000000e+00  0.000000e+00  \n",
       "25%    0.000000e+00  0.000000e+00  \n",
       "50%    1.290000e+02  8.070000e+00  \n",
       "75%    1.571000e+03  3.749975e+02  \n",
       "max    1.566667e+07  3.269108e+06  "
      ]
     },
     "execution_count": 5,
     "metadata": {},
     "output_type": "execute_result"
    }
   ],
   "source": [
    "df.describe()"
   ]
  },
  {
   "cell_type": "markdown",
   "metadata": {},
   "source": [
    "So! After getting a bird-eye view, of our dataset, we can see that we need to pre-process our dataset, in order to apply any __Machine__ or __Deep__ learning algorithms.\n",
    "\n",
    "First thing, I'm gonna do, is to remove that \"%\" from our __CTR__ columns, and re-convert those values to floating point numbers. I could not have done that, but since I'm intending to use this feature in our dataset, I must dot that. And I'll explain later why, I want to use that feature in our Training model.\n",
    "\n",
    "Then, I'll drop all then __NaN__ values in our data set. And make sure, we're I'm not left with any __NaN__ value in my dataset, as it can seriously reduce the performance of the model.\n",
    "\n",
    "Then, I'll move on to pre-process the __Market__ feature. This is very imported, since my task requires, to must have this column, so I'll have to find out the way to incorporate this. This is very simple, I'll go ahead and map those values with a dictionary that returns for ___1___ for __US-Market__ and __-1__ for __UK-Market__. \n",
    "The reason I've chosen those values, is when I give this feature as an __input__ to my deep learnig model, this will get multiplied with __weights__. And if we have value mapped as __Zero__ it will make the product equals to __Zero__, and hence will eventually reduce the learing of our model.\n",
    "\n",
    "And finally, I'll grab the data, where __COST PER CLICK__ i.e __CPC__ values are not __Zero__. Doing this will 2 two things:\n",
    "\n",
    "* First it'll reduce the number of observations in our dataset. And this will reduce the chance to underfit our model, because if we have way too large number of observations, then our features in our dataset, our model might end up underfitting.  \n",
    "* Second, it'll reduce the chance of overfitting the model. Because, there's a lot of repreated values (zeros), that would be removed from our dataset. And hence removing the same values from our dataset might help us avoid high variance or __overfitting__ problem.\n",
    "\n",
    "So, Let's go ahead and pre-process our dataset!"
   ]
  },
  {
   "cell_type": "markdown",
   "metadata": {},
   "source": [
    "## Data Pre-processing:"
   ]
  },
  {
   "cell_type": "code",
   "execution_count": 6,
   "metadata": {},
   "outputs": [
    {
     "data": {
      "text/html": [
       "<div>\n",
       "<style scoped>\n",
       "    .dataframe tbody tr th:only-of-type {\n",
       "        vertical-align: middle;\n",
       "    }\n",
       "\n",
       "    .dataframe tbody tr th {\n",
       "        vertical-align: top;\n",
       "    }\n",
       "\n",
       "    .dataframe thead th {\n",
       "        text-align: right;\n",
       "    }\n",
       "</style>\n",
       "<table border=\"1\" class=\"dataframe\">\n",
       "  <thead>\n",
       "    <tr style=\"text-align: right;\">\n",
       "      <th></th>\n",
       "      <th>Date</th>\n",
       "      <th>Market</th>\n",
       "      <th>Keyword</th>\n",
       "      <th>Average.Position</th>\n",
       "      <th>CPC</th>\n",
       "      <th>Clicks</th>\n",
       "      <th>CTR</th>\n",
       "      <th>Impressions</th>\n",
       "      <th>Cost</th>\n",
       "    </tr>\n",
       "  </thead>\n",
       "  <tbody>\n",
       "    <tr>\n",
       "      <td>1</td>\n",
       "      <td>20120524</td>\n",
       "      <td>1</td>\n",
       "      <td>agile management software</td>\n",
       "      <td>1.0</td>\n",
       "      <td>1.20</td>\n",
       "      <td>21.22</td>\n",
       "      <td>8.2</td>\n",
       "      <td>260.0</td>\n",
       "      <td>25.45</td>\n",
       "    </tr>\n",
       "    <tr>\n",
       "      <td>9</td>\n",
       "      <td>20120524</td>\n",
       "      <td>1</td>\n",
       "      <td>android app developers</td>\n",
       "      <td>1.0</td>\n",
       "      <td>0.66</td>\n",
       "      <td>23.31</td>\n",
       "      <td>8.6</td>\n",
       "      <td>270.0</td>\n",
       "      <td>15.31</td>\n",
       "    </tr>\n",
       "    <tr>\n",
       "      <td>13</td>\n",
       "      <td>20120524</td>\n",
       "      <td>1</td>\n",
       "      <td>android application developer</td>\n",
       "      <td>1.0</td>\n",
       "      <td>1.02</td>\n",
       "      <td>46.92</td>\n",
       "      <td>8.6</td>\n",
       "      <td>546.0</td>\n",
       "      <td>47.77</td>\n",
       "    </tr>\n",
       "    <tr>\n",
       "      <td>14</td>\n",
       "      <td>20120524</td>\n",
       "      <td>1</td>\n",
       "      <td>android app developer</td>\n",
       "      <td>1.0</td>\n",
       "      <td>1.30</td>\n",
       "      <td>147.46</td>\n",
       "      <td>6.0</td>\n",
       "      <td>2469.0</td>\n",
       "      <td>191.99</td>\n",
       "    </tr>\n",
       "    <tr>\n",
       "      <td>17</td>\n",
       "      <td>20120524</td>\n",
       "      <td>1</td>\n",
       "      <td>mobile applications developers</td>\n",
       "      <td>1.0</td>\n",
       "      <td>0.57</td>\n",
       "      <td>21.69</td>\n",
       "      <td>8.3</td>\n",
       "      <td>260.0</td>\n",
       "      <td>12.31</td>\n",
       "    </tr>\n",
       "    <tr>\n",
       "      <td>19</td>\n",
       "      <td>20120524</td>\n",
       "      <td>1</td>\n",
       "      <td>cloud computing for dummies</td>\n",
       "      <td>1.0</td>\n",
       "      <td>0.50</td>\n",
       "      <td>37.89</td>\n",
       "      <td>11.4</td>\n",
       "      <td>330.0</td>\n",
       "      <td>19.10</td>\n",
       "    </tr>\n",
       "    <tr>\n",
       "      <td>24</td>\n",
       "      <td>20120524</td>\n",
       "      <td>1</td>\n",
       "      <td>apps development</td>\n",
       "      <td>1.0</td>\n",
       "      <td>0.69</td>\n",
       "      <td>23.69</td>\n",
       "      <td>5.5</td>\n",
       "      <td>433.0</td>\n",
       "      <td>16.25</td>\n",
       "    </tr>\n",
       "    <tr>\n",
       "      <td>27</td>\n",
       "      <td>20120524</td>\n",
       "      <td>1</td>\n",
       "      <td>mobile apps developers</td>\n",
       "      <td>1.0</td>\n",
       "      <td>2.53</td>\n",
       "      <td>22.94</td>\n",
       "      <td>4.3</td>\n",
       "      <td>529.0</td>\n",
       "      <td>58.04</td>\n",
       "    </tr>\n",
       "    <tr>\n",
       "      <td>28</td>\n",
       "      <td>20120524</td>\n",
       "      <td>1</td>\n",
       "      <td>joomla designers</td>\n",
       "      <td>1.0</td>\n",
       "      <td>1.37</td>\n",
       "      <td>17.84</td>\n",
       "      <td>6.6</td>\n",
       "      <td>268.0</td>\n",
       "      <td>24.36</td>\n",
       "    </tr>\n",
       "    <tr>\n",
       "      <td>44</td>\n",
       "      <td>20120524</td>\n",
       "      <td>1</td>\n",
       "      <td>ink 8560</td>\n",
       "      <td>1.0</td>\n",
       "      <td>1.59</td>\n",
       "      <td>0.26</td>\n",
       "      <td>0.1</td>\n",
       "      <td>216.0</td>\n",
       "      <td>0.41</td>\n",
       "    </tr>\n",
       "  </tbody>\n",
       "</table>\n",
       "</div>"
      ],
      "text/plain": [
       "        Date  Market                         Keyword  Average.Position   CPC  \\\n",
       "1   20120524       1       agile management software               1.0  1.20   \n",
       "9   20120524       1          android app developers               1.0  0.66   \n",
       "13  20120524       1   android application developer               1.0  1.02   \n",
       "14  20120524       1           android app developer               1.0  1.30   \n",
       "17  20120524       1  mobile applications developers               1.0  0.57   \n",
       "19  20120524       1     cloud computing for dummies               1.0  0.50   \n",
       "24  20120524       1                apps development               1.0  0.69   \n",
       "27  20120524       1          mobile apps developers               1.0  2.53   \n",
       "28  20120524       1                joomla designers               1.0  1.37   \n",
       "44  20120524       1                        ink 8560               1.0  1.59   \n",
       "\n",
       "    Clicks   CTR  Impressions    Cost  \n",
       "1    21.22   8.2        260.0   25.45  \n",
       "9    23.31   8.6        270.0   15.31  \n",
       "13   46.92   8.6        546.0   47.77  \n",
       "14  147.46   6.0       2469.0  191.99  \n",
       "17   21.69   8.3        260.0   12.31  \n",
       "19   37.89  11.4        330.0   19.10  \n",
       "24   23.69   5.5        433.0   16.25  \n",
       "27   22.94   4.3        529.0   58.04  \n",
       "28   17.84   6.6        268.0   24.36  \n",
       "44    0.26   0.1        216.0    0.41  "
      ]
     },
     "execution_count": 6,
     "metadata": {},
     "output_type": "execute_result"
    }
   ],
   "source": [
    "df['CTR'] = df['CTR'].apply(lambda x: float(str(x).replace('%', ''))) # remove extra character string\n",
    "df = df.dropna() # drop the null values \n",
    "# print(df.isnull().any())\n",
    "# df.head()\n",
    "\n",
    "mapped_market = {'US-Market': 1, 'UK-Market': -1}\n",
    "\n",
    "new_df = df[df['CPC'] != 0]\n",
    "new_df['Market'] = new_df[\"Market\"].map(mapped_market) # map the market values with 1's and 0's\n",
    "# new_df.info() # new data set with \"CPC\" not equals to \"Zero\"\n",
    "# new_df = shuffle(new_df)\n",
    "new_df.head(10)"
   ]
  },
  {
   "cell_type": "code",
   "execution_count": 7,
   "metadata": {},
   "outputs": [
    {
     "name": "stderr",
     "output_type": "stream",
     "text": [
      "[nltk_data] Downloading package stopwords to C:\\Users\\Umair\n",
      "[nltk_data]     Gillani\\AppData\\Roaming\\nltk_data...\n",
      "[nltk_data]   Package stopwords is already up-to-date!\n"
     ]
    }
   ],
   "source": [
    "nltk.download(\"stopwords\") # downloading all the stopwords for English from nltk\n",
    "stopwords = set(stopwords.words(\"english\"))"
   ]
  },
  {
   "cell_type": "code",
   "execution_count": 8,
   "metadata": {},
   "outputs": [
    {
     "data": {
      "text/plain": [
       "480702"
      ]
     },
     "execution_count": 8,
     "metadata": {},
     "output_type": "execute_result"
    }
   ],
   "source": [
    "def remove_stops(example_sent):\n",
    "    word_tokens = example_sent.split()\n",
    "    filtered_sentence = ' '.join([word for word in word_tokens if not word in stopwords])\n",
    "    return filtered_sentence\n",
    "\n",
    "new_df['Keyword'] = new_df['Keyword'].apply(remove_stops)\n",
    "new_df.head()\n",
    "\n",
    "cleaned_list = []\n",
    "\n",
    "for word in list(new_df[\"Keyword\"]):\n",
    "    for w in word.split():\n",
    "        cleaned_list.append(w)\n",
    "        \n",
    "len(cleaned_list) # Length of the words has reduced to 480702 from 501285 after removing stop words!"
   ]
  },
  {
   "cell_type": "markdown",
   "metadata": {},
   "source": [
    "## Data Normalization:\n",
    "\n",
    "__Data Standardization__ plays a very important role specially when dealing with __Deep Neural Networks__. It helps __Optimizers__ (Gradient Descent, etc) to learn the patterns of the data quickly and our model learns and converges to global minimum with less number of iterations. Here' we'll go ahead, and __Standardize__ our dataset, with mean __Zero__ and Standard deviation __1__. This will map our values from range -1 to 1. The reason I'm standardizing our data and not Normalizing (values range from 0-1) is we have a categorical column (Market) in our dataset having only 2 values.\n",
    "\n",
    "So, once we perform __Normalization__ it'll map those strings with 1's and 0's. And once these __Zero__ values will be passed to __Deep Learning__ model, it'll give the the Product with weights = Zero, hence reducing the effeciency of our model.\n",
    "\n",
    "Let's go ahead and __Standardize__ our data.."
   ]
  },
  {
   "cell_type": "code",
   "execution_count": 9,
   "metadata": {},
   "outputs": [
    {
     "data": {
      "text/html": [
       "<div>\n",
       "<style scoped>\n",
       "    .dataframe tbody tr th:only-of-type {\n",
       "        vertical-align: middle;\n",
       "    }\n",
       "\n",
       "    .dataframe tbody tr th {\n",
       "        vertical-align: top;\n",
       "    }\n",
       "\n",
       "    .dataframe thead th {\n",
       "        text-align: right;\n",
       "    }\n",
       "</style>\n",
       "<table border=\"1\" class=\"dataframe\">\n",
       "  <thead>\n",
       "    <tr style=\"text-align: right;\">\n",
       "      <th></th>\n",
       "      <th>Date</th>\n",
       "      <th>CPC</th>\n",
       "      <th>Market</th>\n",
       "      <th>CTR</th>\n",
       "      <th>Impressions</th>\n",
       "      <th>Cost</th>\n",
       "      <th>Clicks</th>\n",
       "    </tr>\n",
       "  </thead>\n",
       "  <tbody>\n",
       "    <tr>\n",
       "      <td>0</td>\n",
       "      <td>-0.631763</td>\n",
       "      <td>-0.498912</td>\n",
       "      <td>0.681652</td>\n",
       "      <td>2.760522</td>\n",
       "      <td>-0.178170</td>\n",
       "      <td>-0.249947</td>\n",
       "      <td>-0.160203</td>\n",
       "    </tr>\n",
       "    <tr>\n",
       "      <td>1</td>\n",
       "      <td>-0.631763</td>\n",
       "      <td>-0.510357</td>\n",
       "      <td>0.681652</td>\n",
       "      <td>2.965919</td>\n",
       "      <td>-0.178063</td>\n",
       "      <td>-0.250723</td>\n",
       "      <td>-0.159274</td>\n",
       "    </tr>\n",
       "    <tr>\n",
       "      <td>2</td>\n",
       "      <td>-0.631763</td>\n",
       "      <td>-0.502727</td>\n",
       "      <td>0.681652</td>\n",
       "      <td>2.965919</td>\n",
       "      <td>-0.175108</td>\n",
       "      <td>-0.248238</td>\n",
       "      <td>-0.148774</td>\n",
       "    </tr>\n",
       "    <tr>\n",
       "      <td>3</td>\n",
       "      <td>-0.631763</td>\n",
       "      <td>-0.496793</td>\n",
       "      <td>0.681652</td>\n",
       "      <td>1.630839</td>\n",
       "      <td>-0.154515</td>\n",
       "      <td>-0.237199</td>\n",
       "      <td>-0.104064</td>\n",
       "    </tr>\n",
       "    <tr>\n",
       "      <td>4</td>\n",
       "      <td>-0.631763</td>\n",
       "      <td>-0.512264</td>\n",
       "      <td>0.681652</td>\n",
       "      <td>2.811872</td>\n",
       "      <td>-0.178170</td>\n",
       "      <td>-0.250952</td>\n",
       "      <td>-0.159994</td>\n",
       "    </tr>\n",
       "  </tbody>\n",
       "</table>\n",
       "</div>"
      ],
      "text/plain": [
       "       Date       CPC    Market       CTR  Impressions      Cost    Clicks\n",
       "0 -0.631763 -0.498912  0.681652  2.760522    -0.178170 -0.249947 -0.160203\n",
       "1 -0.631763 -0.510357  0.681652  2.965919    -0.178063 -0.250723 -0.159274\n",
       "2 -0.631763 -0.502727  0.681652  2.965919    -0.175108 -0.248238 -0.148774\n",
       "3 -0.631763 -0.496793  0.681652  1.630839    -0.154515 -0.237199 -0.104064\n",
       "4 -0.631763 -0.512264  0.681652  2.811872    -0.178170 -0.250952 -0.159994"
      ]
     },
     "execution_count": 9,
     "metadata": {},
     "output_type": "execute_result"
    }
   ],
   "source": [
    "scaler = StandardScaler()\n",
    "scaler.fit(new_df[['Date', 'CPC', 'Market', 'CTR', 'Impressions', 'Cost', 'Clicks']])\n",
    "scaled_features = scaler.transform(new_df[['Date', 'CPC', 'Market', 'CTR', 'Impressions', 'Cost', 'Clicks']])\n",
    "scaled_df = pd.DataFrame(scaled_features, columns = ['Date', 'CPC', 'Market', 'CTR', 'Impressions', 'Cost', 'Clicks'])\n",
    "scaled_df.head()\n",
    "\n",
    "scaled_df.head()"
   ]
  },
  {
   "cell_type": "markdown",
   "metadata": {},
   "source": [
    "## Data Visualization:\n",
    "\n",
    "Let's now go ahead and plot some features of our dataset, and try to find out the insights of our dataset. We'll try to find out how our data is scattered, and will look for distributions of our target Variable, and will also try to create some __heatmaps__ to find out the correlations of features inputs."
   ]
  },
  {
   "cell_type": "code",
   "execution_count": 35,
   "metadata": {},
   "outputs": [
    {
     "data": {
      "text/plain": [
       "<matplotlib.axes._subplots.AxesSubplot at 0x1c53d39ffc8>"
      ]
     },
     "execution_count": 35,
     "metadata": {},
     "output_type": "execute_result"
    },
    {
     "data": {
      "image/png": "[encoded data removed]",
      "text/plain": [
       "<Figure size 864x432 with 1 Axes>"
      ]
     },
     "metadata": {
      "needs_background": "light"
     },
     "output_type": "display_data"
    }
   ],
   "source": [
    "plt.figure(figsize = (12,6))\n",
    "sns.scatterplot(x = new_df['CTR'], y = new_df['Clicks'])"
   ]
  },
  {
   "cell_type": "code",
   "execution_count": 36,
   "metadata": {},
   "outputs": [
    {
     "data": {
      "text/plain": [
       "<seaborn.axisgrid.FacetGrid at 0x1c53d3b1708>"
      ]
     },
     "execution_count": 36,
     "metadata": {},
     "output_type": "execute_result"
    },
    {
     "data": {
      "text/plain": [
       "<Figure size 864x432 with 0 Axes>"
      ]
     },
     "metadata": {},
     "output_type": "display_data"
    },
    {
     "data": {
      "image/png": "[encoded data removed]",
      "text/plain": [
       "<Figure size 430.625x360 with 1 Axes>"
      ]
     },
     "metadata": {
      "needs_background": "light"
     },
     "output_type": "display_data"
    }
   ],
   "source": [
    "plt.figure(figsize = (12,6))\n",
    "sns.relplot(x = 'CPC', y = 'Clicks', data = new_df, hue = 'Market')"
   ]
  },
  {
   "cell_type": "code",
   "execution_count": 37,
   "metadata": {},
   "outputs": [
    {
     "data": {
      "text/plain": [
       "<matplotlib.axes._subplots.AxesSubplot at 0x1c537ed7608>"
      ]
     },
     "execution_count": 37,
     "metadata": {},
     "output_type": "execute_result"
    },
    {
     "data": {
      "image/png": "[encoded data removed]",
      "text/plain": [
       "<Figure size 864x432 with 1 Axes>"
      ]
     },
     "metadata": {
      "needs_background": "light"
     },
     "output_type": "display_data"
    }
   ],
   "source": [
    "# Lets quickly check how our target variable is distribted \n",
    "plt.figure(figsize = (12,6))\n",
    "sns.distplot(new_df['Clicks'], bins = 40, kde = True)"
   ]
  },
  {
   "cell_type": "code",
   "execution_count": 38,
   "metadata": {},
   "outputs": [
    {
     "data": {
      "text/plain": [
       "<matplotlib.axes._subplots.AxesSubplot at 0x1c53d371508>"
      ]
     },
     "execution_count": 38,
     "metadata": {},
     "output_type": "execute_result"
    },
    {
     "data": {
      "image/png": "[encoded data removed]",
      "text/plain": [
       "<Figure size 864x432 with 2 Axes>"
      ]
     },
     "metadata": {
      "needs_background": "light"
     },
     "output_type": "display_data"
    }
   ],
   "source": [
    "corr = scaled_df.corr()\n",
    "\n",
    "plt.figure(figsize = (12,6))\n",
    "sns.heatmap(data = corr, cmap = 'viridis')"
   ]
  },
  {
   "cell_type": "markdown",
   "metadata": {},
   "source": [
    "## Word2Vec Model for Word Embeddings:\n",
    "\n",
    "In order to make use of our feature __Keyword__, we need to somehow transform the text to Numbers or Vectors in order to make our __Deep Learning__ model extract the information correctly. For this we can use multiple approaches like __Bag of Words, Word Counter, Tf-Idf and Word2Vec model.__ Basically what __Word2Vec__ does, that it transforms words to corresponding vectors keeping the semantice information into account. For example if we subtract vector __Man__ from vector __King__ and add a vector __Woman__, it will give us back the vector for __Queen__. \n",
    "\n",
    "So let's go ahead and vectorize our words to what we call __Word Embeddings__."
   ]
  },
  {
   "cell_type": "code",
   "execution_count": 18,
   "metadata": {},
   "outputs": [
    {
     "name": "stdout",
     "output_type": "stream",
     "text": [
      "[['agile', 'management', 'software'], ['android', 'app', 'developers'], ['android', 'application', 'developer'], ['android', 'app', 'developer'], ['mobile', 'applications', 'developers'], ['cloud', 'computing', 'dummies'], ['apps', 'development'], ['mobile', 'apps', 'developers'], ['joomla', 'designers'], ['ink', '8560']]\n",
      "203595\n",
      "Here is the Vocabulary Size .. 729\n"
     ]
    }
   ],
   "source": [
    "######## DEALING WITH KEYWORDS COLUMNS ############:\n",
    "\n",
    "keywords_list = list(new_df['Keyword'])\n",
    "cleaned_keyword_list = list()\n",
    "for line in keywords_list:\n",
    "    rem_token_punc = RegexpTokenizer(r'\\w+')\n",
    "    tokens = rem_token_punc.tokenize(line)\n",
    "    # print(tokens)\n",
    "    words = [w.lower() for w in tokens]\n",
    "    # print(words)\n",
    "    words = [word for word in words if not word in stopwords]\n",
    "    # print(words)\n",
    "    cleaned_keyword_list.append(words)\n",
    "    \n",
    "print(cleaned_keyword_list[:10])\n",
    "print(len(cleaned_keyword_list))\n",
    "\n",
    "EMB_dim = 32\n",
    "\n",
    "# train Word2Vec model\n",
    "model = gensim.models.Word2Vec(sentences = cleaned_keyword_list, size = EMB_dim, workers = 4, min_count = 1)\n",
    "# vocabulary size\n",
    "words = list(model.wv.vocab)\n",
    "print(\"Here is the Vocabulary Size .. %d\" % len(words))"
   ]
  },
  {
   "cell_type": "code",
   "execution_count": 19,
   "metadata": {},
   "outputs": [
    {
     "data": {
      "text/plain": [
       "[('cards', 0.7990201115608215),\n",
       " ('checks', 0.7376149892807007),\n",
       " ('history', 0.7353885173797607),\n",
       " ('repair', 0.7305301427841187),\n",
       " ('equifax', 0.7264928817749023),\n",
       " ('chase', 0.7147120237350464),\n",
       " ('counselors', 0.7143851518630981),\n",
       " ('college', 0.6962260007858276),\n",
       " ('approval', 0.6778482794761658),\n",
       " ('services', 0.6768372654914856)]"
      ]
     },
     "execution_count": 19,
     "metadata": {},
     "output_type": "execute_result"
    }
   ],
   "source": [
    "model.wv.most_similar(\"card\")"
   ]
  },
  {
   "cell_type": "markdown",
   "metadata": {},
   "source": [
    "## Deep Learning Model:\n",
    "\n",
    "Now after setting everything up, it's time to select the model we are gonna implement in order to predict our target variable __Clicks__. Although it's is a __Regression__ problem, but still we can not use __Linear Regression__, because the data is scattered in such a way that it will not fit on a __straight line__. So we need to use a __Deep Neural Network__ to train our model, and for this we are gonna do the following things:\n",
    "\n",
    "Since we have __Numerical__ as well as __Textual__ data in our dataset, we'll be using __two__ different __Neural Network Models__ and finally will concatenate them to make a single model, by passing the __Training__ and __Testing__ attributes of our separate models. This whole process will be done using __Keras Functional API__ which is designed to train multiple inputs and outputs models. This will make more sense, once we code this along.\n",
    "\n",
    "So, let's go ahead and do it!"
   ]
  },
  {
   "cell_type": "code",
   "execution_count": 20,
   "metadata": {},
   "outputs": [
    {
     "name": "stdout",
     "output_type": "stream",
     "text": [
      "Model: \"sequential_1\"\n",
      "_________________________________________________________________\n",
      "Layer (type)                 Output Shape              Param #   \n",
      "=================================================================\n",
      "dense_1 (Dense)              (None, 8)                 56        \n",
      "_________________________________________________________________\n",
      "dense_2 (Dense)              (None, 8)                 72        \n",
      "_________________________________________________________________\n",
      "dense_3 (Dense)              (None, 8)                 72        \n",
      "_________________________________________________________________\n",
      "dense_4 (Dense)              (None, 1)                 9         \n",
      "=================================================================\n",
      "Total params: 209\n",
      "Trainable params: 209\n",
      "Non-trainable params: 0\n",
      "_________________________________________________________________\n"
     ]
    }
   ],
   "source": [
    "# Model trained only on Numerical / Categorical columns\n",
    "\n",
    "model = Sequential()\n",
    "model.add(Dense(8, input_dim = 6, activation = 'relu'))\n",
    "model.add(Dense(8, activation = 'relu'))\n",
    "model.add(Dense(8, activation = \"relu\"))\n",
    "model.add(Dense(1, activation = 'linear'))\n",
    "model.summary()"
   ]
  },
  {
   "cell_type": "code",
   "execution_count": 23,
   "metadata": {},
   "outputs": [],
   "source": [
    "model.compile(loss = 'mse', optimizer = 'adam', metrics = ['accuracy'])"
   ]
  },
  {
   "cell_type": "code",
   "execution_count": 24,
   "metadata": {},
   "outputs": [],
   "source": [
    "X = scaled_df.drop('Clicks', axis = 1)\n",
    "y = scaled_df['Clicks']\n",
    "\n",
    "X_train, X_test, y_train, y_test = train_test_split(X, y, test_size = 0.3, random_state = 101)"
   ]
  },
  {
   "cell_type": "code",
   "execution_count": 25,
   "metadata": {},
   "outputs": [
    {
     "name": "stdout",
     "output_type": "stream",
     "text": [
      "WARNING:tensorflow:From C:\\Users\\Umair Gillani\\Anaconda3\\lib\\site-packages\\keras\\backend\\tensorflow_backend.py:422: The name tf.global_variables is deprecated. Please use tf.compat.v1.global_variables instead.\n",
      "\n",
      "Train on 114012 samples, validate on 28504 samples\n",
      "Epoch 1/20\n",
      "114012/114012 [==============================] - 2s 15us/step - loss: 0.3525 - accuracy: 0.0000e+00 - val_loss: 0.1361 - val_accuracy: 0.0000e+00\n",
      "Epoch 2/20\n",
      "114012/114012 [==============================] - 1s 12us/step - loss: 0.1125 - accuracy: 0.0000e+00 - val_loss: 0.0540 - val_accuracy: 0.0000e+00\n",
      "Epoch 3/20\n",
      "114012/114012 [==============================] - 1s 12us/step - loss: 0.0428 - accuracy: 0.0000e+00 - val_loss: 0.0261 - val_accuracy: 0.0000e+00\n",
      "Epoch 4/20\n",
      "114012/114012 [==============================] - 1s 12us/step - loss: 0.0261 - accuracy: 0.0000e+00 - val_loss: 0.0235 - val_accuracy: 0.0000e+00\n",
      "Epoch 5/20\n",
      "114012/114012 [==============================] - 1s 13us/step - loss: 0.0217 - accuracy: 0.0000e+00 - val_loss: 0.0144 - val_accuracy: 0.0000e+00\n",
      "Epoch 6/20\n",
      "114012/114012 [==============================] - 1s 13us/step - loss: 0.0203 - accuracy: 0.0000e+00 - val_loss: 0.0143 - val_accuracy: 0.0000e+00\n",
      "Epoch 7/20\n",
      "114012/114012 [==============================] - 1s 13us/step - loss: 0.0164 - accuracy: 0.0000e+00 - val_loss: 0.0231 - val_accuracy: 0.0000e+00\n",
      "Epoch 8/20\n",
      "114012/114012 [==============================] - 1s 13us/step - loss: 0.0163 - accuracy: 0.0000e+00 - val_loss: 0.0127 - val_accuracy: 0.0000e+00\n",
      "Epoch 9/20\n",
      "114012/114012 [==============================] - 1s 13us/step - loss: 0.0155 - accuracy: 0.0000e+00 - val_loss: 0.0117 - val_accuracy: 0.0000e+00\n",
      "Epoch 10/20\n",
      "114012/114012 [==============================] - 1s 13us/step - loss: 0.0142 - accuracy: 0.0000e+00 - val_loss: 0.0094 - val_accuracy: 0.0000e+00\n",
      "Epoch 11/20\n",
      "114012/114012 [==============================] - 1s 13us/step - loss: 0.0142 - accuracy: 0.0000e+00 - val_loss: 0.0089 - val_accuracy: 0.0000e+00\n",
      "Epoch 12/20\n",
      "114012/114012 [==============================] - 1s 13us/step - loss: 0.0143 - accuracy: 0.0000e+00 - val_loss: 0.0093 - val_accuracy: 0.0000e+00\n",
      "Epoch 13/20\n",
      "114012/114012 [==============================] - 1s 13us/step - loss: 0.0143 - accuracy: 0.0000e+00 - val_loss: 0.0081 - val_accuracy: 0.0000e+00\n",
      "Epoch 14/20\n",
      "114012/114012 [==============================] - 1s 13us/step - loss: 0.0147 - accuracy: 0.0000e+00 - val_loss: 0.0078 - val_accuracy: 0.0000e+00\n",
      "Epoch 15/20\n",
      "114012/114012 [==============================] - 2s 13us/step - loss: 0.0123 - accuracy: 0.0000e+00 - val_loss: 0.0088 - val_accuracy: 0.0000e+00\n",
      "Epoch 16/20\n",
      "114012/114012 [==============================] - 1s 13us/step - loss: 0.0119 - accuracy: 0.0000e+00 - val_loss: 0.0080 - val_accuracy: 0.0000e+00\n",
      "Epoch 17/20\n",
      "114012/114012 [==============================] - 1s 13us/step - loss: 0.0133 - accuracy: 0.0000e+00 - val_loss: 0.0163 - val_accuracy: 0.0000e+00\n",
      "Epoch 18/20\n",
      "114012/114012 [==============================] - 1s 13us/step - loss: 0.0114 - accuracy: 0.0000e+00 - val_loss: 0.0071 - val_accuracy: 0.0000e+00\n",
      "Epoch 19/20\n",
      "114012/114012 [==============================] - 1s 12us/step - loss: 0.0121 - accuracy: 0.0000e+00 - val_loss: 0.0068 - val_accuracy: 0.0000e+00\n",
      "Epoch 20/20\n",
      "114012/114012 [==============================] - 1s 13us/step - loss: 0.0109 - accuracy: 0.0000e+00 - val_loss: 0.0067 - val_accuracy: 0.0000e+00\n"
     ]
    }
   ],
   "source": [
    "history = model.fit(x = X_train, y = y_train, epochs = 20, batch_size = 128,\n",
    "                   validation_split = 0.2)"
   ]
  },
  {
   "cell_type": "code",
   "execution_count": 26,
   "metadata": {},
   "outputs": [
    {
     "data": {
      "image/png": "[encoded data removed]",
      "text/plain": [
       "<Figure size 864x432 with 1 Axes>"
      ]
     },
     "metadata": {
      "needs_background": "light"
     },
     "output_type": "display_data"
    }
   ],
   "source": [
    "plt.figure(figsize = (12,6))\n",
    "plt.plot(history.history['loss'])\n",
    "plt.plot(history.history['val_loss'])\n",
    "plt.title('Model Loss')\n",
    "plt.ylabel('Loss')\n",
    "plt.xlabel('Epochs')\n",
    "plt.legend(['train', 'validation'], loc = 'upper_right')\n",
    "plt.show()"
   ]
  },
  {
   "cell_type": "markdown",
   "metadata": {},
   "source": [
    "## The TF-IDF Approach:\n",
    "\n",
    "Now we need to create a seperate model that finds out the target Variable __Clicks__ only for __Keyword__ as input feature.\n",
    "But for this, first we need to vectorize our __Keyword__ feature. This can be done using sklearn built-in __TfidfVectorizer__. \n",
    "\n",
    "So let's Vectorize our __Keyword__ feature and then train our second model."
   ]
  },
  {
   "cell_type": "code",
   "execution_count": 28,
   "metadata": {},
   "outputs": [
    {
     "name": "stdout",
     "output_type": "stream",
     "text": [
      "(142516, 724)\n",
      "(142516,)\n"
     ]
    }
   ],
   "source": [
    "corpus = list(new_df['Keyword'])\n",
    "vectorizer = TfidfVectorizer()\n",
    "\n",
    "tf_corpus = vectorizer.fit_transform(corpus)\n",
    "\n",
    "# print(vectorizer.get_feature_names())\n",
    "# print(len(vectorizer.get_feature_names()))\n",
    "\n",
    "X_text = tf_corpus\n",
    "y = new_df['Clicks']\n",
    "\n",
    "X_text_train, X_text_test, y_train, y_test = train_test_split(X_text, y, test_size = 0.3, random_state = 101)\n",
    "\n",
    "print(X_text_train.shape)\n",
    "print(y_train.shape)\n",
    "\n",
    "model1 = Sequential()\n",
    "\n",
    "model1.add(Dense(8, activation = \"relu\", input_dim = X_text_train.shape[1]))\n",
    "model1.add(Dense(8, activation = \"relu\"))\n",
    "model1.add(Dense(8, activation = \"relu\"))\n",
    "model1.add(Dense(1, activation = \"linear\"))\n",
    "\n",
    "model1.compile(optimizer = \"adam\", loss = \"mse\", metrics = [\"accuracy\"])"
   ]
  },
  {
   "cell_type": "code",
   "execution_count": 29,
   "metadata": {},
   "outputs": [
    {
     "name": "stdout",
     "output_type": "stream",
     "text": [
      "Train on 114012 samples, validate on 28504 samples\n",
      "Epoch 1/50\n",
      "114012/114012 [==============================] - 6s 49us/step - loss: 4843173.6790 - accuracy: 3.3330e-04 - val_loss: 4092523.0572 - val_accuracy: 1.7541e-04\n",
      "Epoch 2/50\n",
      "114012/114012 [==============================] - 6s 50us/step - loss: 3893121.5648 - accuracy: 1.6665e-04 - val_loss: 3212131.1583 - val_accuracy: 1.0525e-04\n",
      "Epoch 3/50\n",
      "114012/114012 [==============================] - 5s 48us/step - loss: 3142728.6185 - accuracy: 9.6481e-05 - val_loss: 2708828.5540 - val_accuracy: 0.0000e+00\n",
      "Epoch 4/50\n",
      "114012/114012 [==============================] - 5s 45us/step - loss: 2677982.7361 - accuracy: 9.6481e-05 - val_loss: 2426597.5933 - val_accuracy: 0.0000e+00\n",
      "Epoch 5/50\n",
      "114012/114012 [==============================] - 5s 44us/step - loss: 2391281.3311 - accuracy: 8.7710e-06 - val_loss: 2263434.7022 - val_accuracy: 3.5083e-05\n",
      "Epoch 6/50\n",
      "114012/114012 [==============================] - 5s 47us/step - loss: 2207439.3309 - accuracy: 4.3855e-05 - val_loss: 2159463.4644 - val_accuracy: 0.0000e+00\n",
      "Epoch 7/50\n",
      "114012/114012 [==============================] - 6s 48us/step - loss: 2084152.0104 - accuracy: 4.3855e-05 - val_loss: 2094956.9141 - val_accuracy: 7.0166e-05\n",
      "Epoch 8/50\n",
      "114012/114012 [==============================] - 5s 45us/step - loss: 2008731.5913 - accuracy: 2.6313e-05 - val_loss: 2060125.6276 - val_accuracy: 3.5083e-05\n",
      "Epoch 9/50\n",
      "114012/114012 [==============================] - 5s 48us/step - loss: 1969487.0467 - accuracy: 1.7542e-05 - val_loss: 2042113.9489 - val_accuracy: 3.5083e-05\n",
      "Epoch 10/50\n",
      "114012/114012 [==============================] - 5s 47us/step - loss: 1948870.4223 - accuracy: 1.7542e-05 - val_loss: 2032967.1700 - val_accuracy: 0.0000e+00\n",
      "Epoch 11/50\n",
      "114012/114012 [==============================] - 6s 51us/step - loss: 1937897.1708 - accuracy: 8.7710e-06 - val_loss: 2031049.6304 - val_accuracy: 0.0000e+00\n",
      "Epoch 12/50\n",
      "114012/114012 [==============================] - 5s 48us/step - loss: 1932294.4810 - accuracy: 1.7542e-05 - val_loss: 2030836.0920 - val_accuracy: 0.0000e+00\n",
      "Epoch 13/50\n",
      "114012/114012 [==============================] - 5s 48us/step - loss: 1929600.7971 - accuracy: 1.7542e-05 - val_loss: 2032458.7914 - val_accuracy: 3.5083e-05\n",
      "Epoch 14/50\n",
      "114012/114012 [==============================] - 5s 48us/step - loss: 1928971.1505 - accuracy: 1.7542e-05 - val_loss: 2029736.0130 - val_accuracy: 3.5083e-05\n",
      "Epoch 15/50\n",
      "114012/114012 [==============================] - 6s 49us/step - loss: 1926274.0570 - accuracy: 1.7542e-05 - val_loss: 2033180.7978 - val_accuracy: 0.0000e+00\n",
      "Epoch 16/50\n",
      "114012/114012 [==============================] - 5s 47us/step - loss: 1926096.6124 - accuracy: 3.5084e-05 - val_loss: 2030613.0692 - val_accuracy: 0.0000e+00\n",
      "Epoch 17/50\n",
      "114012/114012 [==============================] - 5s 46us/step - loss: 1924687.4688 - accuracy: 2.6313e-05 - val_loss: 2034378.5269 - val_accuracy: 7.0166e-05\n",
      "Epoch 18/50\n",
      "114012/114012 [==============================] - 5s 46us/step - loss: 1924498.0495 - accuracy: 8.7710e-06 - val_loss: 2028702.7524 - val_accuracy: 3.5083e-05\n",
      "Epoch 19/50\n",
      "114012/114012 [==============================] - 5s 45us/step - loss: 1921840.2469 - accuracy: 8.7710e-06 - val_loss: 2027727.5416 - val_accuracy: 3.5083e-05\n",
      "Epoch 20/50\n",
      "114012/114012 [==============================] - 6s 49us/step - loss: 1920421.2422 - accuracy: 2.6313e-05 - val_loss: 2025092.9753 - val_accuracy: 3.5083e-05\n",
      "Epoch 21/50\n",
      "114012/114012 [==============================] - 5s 45us/step - loss: 1916423.2334 - accuracy: 1.7542e-05 - val_loss: 2026609.6002 - val_accuracy: 0.0000e+00\n",
      "Epoch 22/50\n",
      "114012/114012 [==============================] - 6s 49us/step - loss: 1916710.0696 - accuracy: 1.7542e-05 - val_loss: 2020282.6713 - val_accuracy: 0.0000e+00\n",
      "Epoch 23/50\n",
      "114012/114012 [==============================] - 5s 47us/step - loss: 1913501.3743 - accuracy: 1.7542e-05 - val_loss: 2017751.3795 - val_accuracy: 3.5083e-05\n",
      "Epoch 24/50\n",
      "114012/114012 [==============================] - 5s 46us/step - loss: 1912839.7497 - accuracy: 1.7542e-05 - val_loss: 2020675.6215 - val_accuracy: 3.5083e-05\n",
      "Epoch 25/50\n",
      "114012/114012 [==============================] - 5s 47us/step - loss: 1911844.6742 - accuracy: 3.5084e-05 - val_loss: 2015958.3160 - val_accuracy: 0.0000e+00\n",
      "Epoch 26/50\n",
      "114012/114012 [==============================] - 5s 46us/step - loss: 1907931.4299 - accuracy: 2.6313e-05 - val_loss: 2013682.7662 - val_accuracy: 0.0000e+00\n",
      "Epoch 27/50\n",
      "114012/114012 [==============================] - 5s 47us/step - loss: 1910093.9413 - accuracy: 3.5084e-05 - val_loss: 2014048.1018 - val_accuracy: 0.0000e+00\n",
      "Epoch 28/50\n",
      "114012/114012 [==============================] - 5s 47us/step - loss: 1907117.7310 - accuracy: 2.6313e-05 - val_loss: 2014229.9553 - val_accuracy: 3.5083e-05\n",
      "Epoch 29/50\n",
      "114012/114012 [==============================] - 5s 45us/step - loss: 1907978.1746 - accuracy: 1.7542e-05 - val_loss: 2008296.3780 - val_accuracy: 3.5083e-05\n",
      "Epoch 30/50\n",
      "114012/114012 [==============================] - 5s 47us/step - loss: 1906894.8947 - accuracy: 2.6313e-05 - val_loss: 2008878.1458 - val_accuracy: 3.5083e-05\n",
      "Epoch 31/50\n",
      "114012/114012 [==============================] - 6s 48us/step - loss: 1905013.5088 - accuracy: 8.7710e-05 - val_loss: 2006721.0533 - val_accuracy: 3.5083e-05\n",
      "Epoch 32/50\n",
      "114012/114012 [==============================] - 5s 47us/step - loss: 1904208.0865 - accuracy: 5.2626e-05 - val_loss: 2005276.5109 - val_accuracy: 1.0525e-04\n",
      "Epoch 33/50\n",
      "114012/114012 [==============================] - 5s 47us/step - loss: 1902781.5944 - accuracy: 3.5084e-05 - val_loss: 2004449.7461 - val_accuracy: 3.5083e-05\n",
      "Epoch 34/50\n",
      "114012/114012 [==============================] - 5s 47us/step - loss: 1903610.2690 - accuracy: 6.1397e-05 - val_loss: 2005745.9361 - val_accuracy: 3.5083e-05\n",
      "Epoch 35/50\n",
      "114012/114012 [==============================] - 6s 49us/step - loss: 1900256.6222 - accuracy: 6.1397e-05 - val_loss: 2011293.5740 - val_accuracy: 3.5083e-05\n",
      "Epoch 36/50\n",
      "114012/114012 [==============================] - 5s 47us/step - loss: 1902794.1881 - accuracy: 5.2626e-05 - val_loss: 2000153.1774 - val_accuracy: 3.5083e-05\n",
      "Epoch 37/50\n",
      "114012/114012 [==============================] - 5s 47us/step - loss: 1900944.8621 - accuracy: 4.3855e-05 - val_loss: 2006125.2345 - val_accuracy: 3.5083e-05\n",
      "Epoch 38/50\n",
      "114012/114012 [==============================] - 5s 48us/step - loss: 1900471.5050 - accuracy: 7.0168e-05 - val_loss: 2002628.1892 - val_accuracy: 0.0000e+00\n",
      "Epoch 39/50\n",
      "114012/114012 [==============================] - 5s 48us/step - loss: 1899920.5207 - accuracy: 8.7710e-05 - val_loss: 2000777.9053 - val_accuracy: 0.0000e+00\n",
      "Epoch 40/50\n",
      "114012/114012 [==============================] - 6s 49us/step - loss: 1898851.1176 - accuracy: 4.3855e-05 - val_loss: 2001595.7310 - val_accuracy: 3.5083e-05\n",
      "Epoch 41/50\n",
      "114012/114012 [==============================] - 5s 46us/step - loss: 1897454.4981 - accuracy: 5.2626e-05 - val_loss: 2001232.5458 - val_accuracy: 0.0000e+00\n",
      "Epoch 42/50\n",
      "114012/114012 [==============================] - 5s 45us/step - loss: 1898754.4517 - accuracy: 4.3855e-05 - val_loss: 1999920.4885 - val_accuracy: 3.5083e-05\n",
      "Epoch 43/50\n",
      "114012/114012 [==============================] - 5s 46us/step - loss: 1897925.9498 - accuracy: 4.3855e-05 - val_loss: 1995334.3196 - val_accuracy: 3.5083e-05\n",
      "Epoch 44/50\n",
      "114012/114012 [==============================] - 5s 47us/step - loss: 1898155.2131 - accuracy: 4.3855e-05 - val_loss: 1996610.0643 - val_accuracy: 0.0000e+00\n",
      "Epoch 45/50\n",
      "114012/114012 [==============================] - 5s 48us/step - loss: 1895052.6713 - accuracy: 5.2626e-05 - val_loss: 2000710.1979 - val_accuracy: 0.0000e+00\n",
      "Epoch 46/50\n",
      "114012/114012 [==============================] - 5s 45us/step - loss: 1897494.4154 - accuracy: 6.1397e-05 - val_loss: 1998395.9958 - val_accuracy: 0.0000e+00\n",
      "Epoch 47/50\n",
      "114012/114012 [==============================] - 5s 46us/step - loss: 1896137.4485 - accuracy: 6.1397e-05 - val_loss: 1995804.1677 - val_accuracy: 0.0000e+00\n",
      "Epoch 48/50\n",
      "114012/114012 [==============================] - 5s 47us/step - loss: 1895945.7877 - accuracy: 4.3855e-05 - val_loss: 1995223.9471 - val_accuracy: 0.0000e+00\n"
     ]
    },
    {
     "name": "stdout",
     "output_type": "stream",
     "text": [
      "Epoch 49/50\n",
      "114012/114012 [==============================] - 5s 45us/step - loss: 1895375.8237 - accuracy: 6.1397e-05 - val_loss: 1995793.9690 - val_accuracy: 0.0000e+00\n",
      "Epoch 50/50\n",
      "114012/114012 [==============================] - 5s 44us/step - loss: 1894976.1649 - accuracy: 3.5084e-05 - val_loss: 1990844.0264 - val_accuracy: 0.0000e+00\n"
     ]
    }
   ],
   "source": [
    "history = model1.fit(x = X_text_train, y = y_train, batch_size = 64, epochs = 50,\n",
    "         verbose = 1, validation_split = 0.2)"
   ]
  },
  {
   "cell_type": "code",
   "execution_count": 30,
   "metadata": {},
   "outputs": [
    {
     "data": {
      "text/plain": [
       "dict_keys(['val_loss', 'val_accuracy', 'loss', 'accuracy'])"
      ]
     },
     "execution_count": 30,
     "metadata": {},
     "output_type": "execute_result"
    }
   ],
   "source": [
    "history.history.keys()"
   ]
  },
  {
   "cell_type": "code",
   "execution_count": 31,
   "metadata": {},
   "outputs": [
    {
     "data": {
      "image/png": "[encoded data removed]",
      "text/plain": [
       "<Figure size 864x432 with 1 Axes>"
      ]
     },
     "metadata": {
      "needs_background": "light"
     },
     "output_type": "display_data"
    }
   ],
   "source": [
    "plt.figure(figsize = (12,6))\n",
    "plt.plot(history.history['loss'])\n",
    "plt.plot(history.history['val_loss'])\n",
    "plt.title('Model Loss')\n",
    "plt.ylabel('Loss')\n",
    "plt.xlabel('Epochs')\n",
    "plt.legend(['train', 'validation'], loc = 'upper_right')\n",
    "plt.show()"
   ]
  },
  {
   "cell_type": "markdown",
   "metadata": {},
   "source": [
    "## Keras Multi-input Model:"
   ]
  },
  {
   "cell_type": "code",
   "execution_count": 32,
   "metadata": {},
   "outputs": [],
   "source": [
    "inputA = Input(shape=(6,))\n",
    "inputB = Input(shape=(724,))\n",
    " \n",
    "# the first branch operates on the first input\n",
    "x = Dense(8, activation=\"relu\")(inputA)\n",
    "x = Dense(8, activation=\"relu\")(x)\n",
    "x = Dense(8, activation = \"relu\")(x)\n",
    "x = Dense(1, activation = \"linear\")(x)\n",
    "x = Model(inputs=inputA, outputs=x)\n",
    " \n",
    "# the second branch opreates on the second input\n",
    "y = Dense(64, activation=\"relu\")(inputB)\n",
    "y = Dense(32, activation=\"relu\")(y)\n",
    "y = Dense(16, activation=\"relu\")(y)\n",
    "y = Dense(4, activation = \"linear\")(y)\n",
    "y = Model(inputs=inputB, outputs=y)\n",
    " \n",
    "# combine the output of the two branches\n",
    "combined = concatenate([x.output, y.output])\n",
    " \n",
    "# apply a FC layer and then a regression prediction on the\n",
    "# combined outputs\n",
    "z = Dense(8, activation=\"relu\")(combined)\n",
    "z = Dense(8, activation=\"relu\")(z)\n",
    "z = Dense(8, activation = \"relu\")(z)\n",
    "z = Dense(1, activation = \"linear\")(z)\n",
    " \n",
    "# our model will accept the inputs of the two branches and\n",
    "# then output a single value\n",
    "model = Model(inputs=[x.input, y.input], outputs=z)"
   ]
  },
  {
   "cell_type": "code",
   "execution_count": 33,
   "metadata": {},
   "outputs": [],
   "source": [
    "model.compile(optimizer = 'adam', loss = 'mse', metrics = ['accuracy'])"
   ]
  },
  {
   "cell_type": "code",
   "execution_count": 34,
   "metadata": {},
   "outputs": [
    {
     "name": "stdout",
     "output_type": "stream",
     "text": [
      "Train on 142516 samples, validate on 61079 samples\n",
      "Epoch 1/20\n",
      "142516/142516 [==============================] - 11s 78us/step - loss: 1412311.9733 - accuracy: 2.1050e-04 - val_loss: 534574.4284 - val_accuracy: 1.6372e-05\n",
      "Epoch 2/20\n",
      "142516/142516 [==============================] - 11s 78us/step - loss: 377216.8601 - accuracy: 7.0168e-05 - val_loss: 306541.5880 - val_accuracy: 1.6372e-05\n",
      "Epoch 3/20\n",
      "142516/142516 [==============================] - 11s 80us/step - loss: 284815.7484 - accuracy: 7.7184e-05 - val_loss: 265200.4690 - val_accuracy: 8.1861e-05\n",
      "Epoch 4/20\n",
      "142516/142516 [==============================] - 11s 78us/step - loss: 246904.9104 - accuracy: 1.6139e-04 - val_loss: 274266.3465 - val_accuracy: 4.4205e-04\n",
      "Epoch 5/20\n",
      "142516/142516 [==============================] - 11s 78us/step - loss: 219692.5122 - accuracy: 2.2454e-04 - val_loss: 207125.6672 - val_accuracy: 2.2921e-04\n",
      "Epoch 6/20\n",
      "142516/142516 [==============================] - 11s 79us/step - loss: 189865.0342 - accuracy: 1.6840e-04 - val_loss: 170502.3840 - val_accuracy: 6.5489e-05\n",
      "Epoch 7/20\n",
      "142516/142516 [==============================] - 11s 79us/step - loss: 159274.9549 - accuracy: 1.5437e-04 - val_loss: 156253.5310 - val_accuracy: 1.6372e-04\n",
      "Epoch 8/20\n",
      "142516/142516 [==============================] - 11s 79us/step - loss: 138148.6735 - accuracy: 5.6134e-05 - val_loss: 130649.3054 - val_accuracy: 1.1461e-04\n",
      "Epoch 9/20\n",
      "142516/142516 [==============================] - 13s 89us/step - loss: 115884.0254 - accuracy: 1.6139e-04 - val_loss: 176512.8905 - val_accuracy: 1.1461e-04\n",
      "Epoch 10/20\n",
      "142516/142516 [==============================] - 12s 84us/step - loss: 105503.9476 - accuracy: 1.7542e-04 - val_loss: 107881.2620 - val_accuracy: 1.9647e-04\n",
      "Epoch 11/20\n",
      "142516/142516 [==============================] - 12s 82us/step - loss: 96832.7358 - accuracy: 1.8244e-04 - val_loss: 152435.9183 - val_accuracy: 2.6196e-04\n",
      "Epoch 12/20\n",
      "142516/142516 [==============================] - 12s 81us/step - loss: 88622.6989 - accuracy: 2.0349e-04 - val_loss: 96630.4120 - val_accuracy: 1.6372e-04\n",
      "Epoch 13/20\n",
      "142516/142516 [==============================] - 11s 80us/step - loss: 85531.7889 - accuracy: 2.1752e-04 - val_loss: 83334.7263 - val_accuracy: 2.7833e-04\n",
      "Epoch 14/20\n",
      "142516/142516 [==============================] - 11s 80us/step - loss: 87408.0400 - accuracy: 1.1928e-04 - val_loss: 79984.4238 - val_accuracy: 3.1107e-04\n",
      "Epoch 15/20\n",
      "142516/142516 [==============================] - 12s 82us/step - loss: 75267.8747 - accuracy: 1.6840e-04 - val_loss: 95100.2790 - val_accuracy: 1.8009e-04\n",
      "Epoch 16/20\n",
      "142516/142516 [==============================] - 14s 98us/step - loss: 73300.0285 - accuracy: 2.5962e-04 - val_loss: 67498.1331 - val_accuracy: 1.4735e-04\n",
      "Epoch 17/20\n",
      "142516/142516 [==============================] - 16s 110us/step - loss: 70193.2402 - accuracy: 1.6840e-04 - val_loss: 70222.5539 - val_accuracy: 2.1284e-04\n",
      "Epoch 18/20\n",
      "142516/142516 [==============================] - 13s 88us/step - loss: 68587.8582 - accuracy: 2.1050e-04 - val_loss: 64861.3672 - val_accuracy: 4.9117e-05\n",
      "Epoch 19/20\n",
      "142516/142516 [==============================] - 12s 86us/step - loss: 63319.5432 - accuracy: 2.1752e-04 - val_loss: 72701.0527 - val_accuracy: 1.1461e-04\n",
      "Epoch 20/20\n",
      "142516/142516 [==============================] - 13s 88us/step - loss: 54366.1985 - accuracy: 2.2454e-04 - val_loss: 50291.7243 - val_accuracy: 3.4382e-04\n"
     ]
    }
   ],
   "source": [
    "history = model.fit([X_train, X_text_train], y_train,\n",
    "                   validation_data = ([X_test, X_text_test], y_test), epochs = 20, batch_size = 64)"
   ]
  },
  {
   "cell_type": "markdown",
   "metadata": {},
   "source": [
    "## Question No. 01\n",
    "\n",
    "__How did you manipulate the data, and why? Illustrate your answer with plots.__"
   ]
  },
  {
   "cell_type": "markdown",
   "metadata": {},
   "source": [
    "The Data manipulation was not a big deal. The only thing, which has made this problem a bit tricky and challenging is, we had various types of feature inputs. And we needed to manipulate almost all those (Numerical, Categorical and Text inputs) to train our model. For this we needed to create such model that would receive all these inputs at a time and for that obviously we needed to transforms all those non-numerical features, to something that our can get trained on. And this is what we're gonna discuss in detail in next questions.\n",
    "\n",
    "As far as the features selection is concerned, __Market, Keyword, and CPC__ are the ones which we needed to predict our model results on. So, we have to keep them in our dataset. __Impressions and Cost__ are that ones, that impacted our target variable the most, and needed to be kept in dataset. __CTR__ generally made sense to be kept in dataset, and also if we would drop more features, our model might end up __underfitting__. __Heatmap__ below shows the clear picture."
   ]
  },
  {
   "cell_type": "code",
   "execution_count": 42,
   "metadata": {},
   "outputs": [
    {
     "data": {
      "text/plain": [
       "<matplotlib.axes._subplots.AxesSubplot at 0x1c53dabdf08>"
      ]
     },
     "execution_count": 42,
     "metadata": {},
     "output_type": "execute_result"
    },
    {
     "data": {
      "image/png": "[encoded data removed]",
      "text/plain": [
       "<Figure size 864x432 with 2 Axes>"
      ]
     },
     "metadata": {
      "needs_background": "light"
     },
     "output_type": "display_data"
    }
   ],
   "source": [
    "plt.figure(figsize = (12,6))\n",
    "sns.heatmap(corr, cmap = 'coolwarm')"
   ]
  },
  {
   "cell_type": "markdown",
   "metadata": {},
   "source": [
    "## Question No. 2:\n",
    "\n",
    "__How did you perform NLP, if any?__"
   ]
  },
  {
   "cell_type": "markdown",
   "metadata": {},
   "source": [
    "Yes I did perform NLP. I Vectorized the __Keyword__ column by __TfidfVectorizer__ using __sklearn__, and used it in our __Neural Network__ model. Aslo I used __gensim__ library to implement __Word2Vec__ model on our __Keyword__ column to convert the words to corresonding __Word Embeddings__. The model could be trained using any of the discussed algorithms."
   ]
  },
  {
   "cell_type": "markdown",
   "metadata": {},
   "source": [
    "## Question No. 3:\n",
    "\n",
    "__How did you model the problem, and why?__"
   ]
  },
  {
   "cell_type": "markdown",
   "metadata": {},
   "source": [
    "I used __Keras Functional API__ for multiple input models. The reason I did this, is as discussed earlier, we had various kind of features in our dataset. To incorporate the Textual features as well as Numerical features, I needed to create such model that trains on both __Text__ data as well as __Numeric__ data. For this I first trained a model only on numerical features and predicted the labels for that particular model. Same thing I did for the __Textual__ data as well using a second __Neural Network Model__. Then finally I concatenated both the models to create a single model, and made my final predictions off of that.\n",
    "\n",
    "I did this, because I think this kind of modeling perfectly suits the given problem, and we can come up better results than ordinary Regression techniques."
   ]
  },
  {
   "cell_type": "markdown",
   "metadata": {},
   "source": [
    "## Question No. 4:\n",
    "\n",
    "__How did you evaluate your model? What were the results of the evaluation?__\n",
    "\n",
    "I evaluated the model using __Mean Squared Error loss__. I trained the model, and simultaneoulsy checked the results of our trained model on __Cross Validation Split__. The graphs would show the learnings curves of our models. The maximum accuracy of the model was above 70% trained on different __Hyper-paramerters__."
   ]
  },
  {
   "cell_type": "markdown",
   "metadata": {},
   "source": [
    "## Question No. 5:\n",
    "\n",
    "__If you had extra time, what would you do next?__"
   ]
  },
  {
   "cell_type": "markdown",
   "metadata": {},
   "source": [
    "If I had extra time, I would have explained the things I have done in this task with more detail, convering every single thing I observed and find about the dataset, and every single step I made towards modeling this problem.\n",
    "\n",
    "I also have done number of things, like using __Word2Vec__ word embeddings for textual features, and tried to figure out if our model learns slightly better or not. I also would have tuned the __hyperparameters__ like Epochs, batch_size, hidden units, hidden layers, activation fucntions and optimizers to see what performs best on given data.\n",
    "\n",
    "As far as the dataset is concerned, I think the dataset is not informative enough to train the best model on."
   ]
  },
  {
   "cell_type": "code",
   "execution_count": null,
   "metadata": {},
   "outputs": [],
   "source": []
  }
 ],
 "metadata": {
  "kernelspec": {
   "display_name": "Python 3",
   "language": "python",
   "name": "python3"
  },
  "language_info": {
   "codemirror_mode": {
    "name": "ipython",
    "version": 3
   },
   "file_extension": ".py",
   "mimetype": "text/x-python",
   "name": "python",
   "nbconvert_exporter": "python",
   "pygments_lexer": "ipython3",
   "version": "3.7.4"
  }
 },
 "nbformat": 4,
 "nbformat_minor": 2
}
