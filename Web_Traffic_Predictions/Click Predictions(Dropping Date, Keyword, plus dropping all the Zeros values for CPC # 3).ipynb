{
 "cells": [
  {
   "cell_type": "markdown",
   "metadata": {},
   "source": [
    "## Loading Dataset and Importing Libraries:"
   ]
  },
  {
   "cell_type": "code",
   "execution_count": 1,
   "metadata": {},
   "outputs": [
    {
     "name": "stderr",
     "output_type": "stream",
     "text": [
      "Using TensorFlow backend.\n",
      "[nltk_data] Downloading package stopwords to C:\\Users\\Umair\n",
      "[nltk_data]     Gillani\\AppData\\Roaming\\nltk_data...\n",
      "[nltk_data]   Package stopwords is already up-to-date!\n"
     ]
    }
   ],
   "source": [
    "import pandas as pd\n",
    "import matplotlib.pyplot as plt\n",
    "import seaborn as sns\n",
    "import warnings\n",
    "import gensim\n",
    "import keras\n",
    "from keras.layers import Input, Dense, concatenate, Activation\n",
    "from keras.models import Sequential\n",
    "from keras.models import Model\n",
    "import nltk\n",
    "from nltk import RegexpTokenizer\n",
    "from nltk.corpus import stopwords\n",
    "from nltk.tokenize import word_tokenize\n",
    "from sklearn import metrics\n",
    "from sklearn.preprocessing import MinMaxScaler\n",
    "from sklearn.model_selection import train_test_split\n",
    "from sklearn.utils import shuffle # we can also shuffle in input_func with tensorflow\n",
    "warnings.filterwarnings(\"ignore\")\n",
    "from collections import Counter\n",
    "nltk.download(\"stopwords\")\n",
    "# nltk.download(\"punkt\")\n",
    "\n",
    "%matplotlib inline"
   ]
  },
  {
   "cell_type": "code",
   "execution_count": 2,
   "metadata": {},
   "outputs": [],
   "source": [
    "df = pd.read_csv('SEM_KeyWord_Dataset.csv')"
   ]
  },
  {
   "cell_type": "code",
   "execution_count": 3,
   "metadata": {},
   "outputs": [
    {
     "data": {
      "text/html": [
       "<div>\n",
       "<style scoped>\n",
       "    .dataframe tbody tr th:only-of-type {\n",
       "        vertical-align: middle;\n",
       "    }\n",
       "\n",
       "    .dataframe tbody tr th {\n",
       "        vertical-align: top;\n",
       "    }\n",
       "\n",
       "    .dataframe thead th {\n",
       "        text-align: right;\n",
       "    }\n",
       "</style>\n",
       "<table border=\"1\" class=\"dataframe\">\n",
       "  <thead>\n",
       "    <tr style=\"text-align: right;\">\n",
       "      <th></th>\n",
       "      <th>Date</th>\n",
       "      <th>Market</th>\n",
       "      <th>Keyword</th>\n",
       "      <th>Average.Position</th>\n",
       "      <th>CPC</th>\n",
       "      <th>Clicks</th>\n",
       "      <th>CTR</th>\n",
       "      <th>Impressions</th>\n",
       "      <th>Cost</th>\n",
       "    </tr>\n",
       "  </thead>\n",
       "  <tbody>\n",
       "    <tr>\n",
       "      <td>0</td>\n",
       "      <td>20120524</td>\n",
       "      <td>US-Market</td>\n",
       "      <td>secure online back up</td>\n",
       "      <td>0.0</td>\n",
       "      <td>0.0</td>\n",
       "      <td>0.00</td>\n",
       "      <td>0.00%</td>\n",
       "      <td>0.0</td>\n",
       "      <td>0.00</td>\n",
       "    </tr>\n",
       "    <tr>\n",
       "      <td>1</td>\n",
       "      <td>20120524</td>\n",
       "      <td>US-Market</td>\n",
       "      <td>agile management software</td>\n",
       "      <td>1.0</td>\n",
       "      <td>1.2</td>\n",
       "      <td>21.22</td>\n",
       "      <td>8.20%</td>\n",
       "      <td>260.0</td>\n",
       "      <td>25.45</td>\n",
       "    </tr>\n",
       "    <tr>\n",
       "      <td>2</td>\n",
       "      <td>20120524</td>\n",
       "      <td>US-Market</td>\n",
       "      <td>crm for financial</td>\n",
       "      <td>0.0</td>\n",
       "      <td>0.0</td>\n",
       "      <td>0.00</td>\n",
       "      <td>0.00%</td>\n",
       "      <td>0.0</td>\n",
       "      <td>0.00</td>\n",
       "    </tr>\n",
       "    <tr>\n",
       "      <td>3</td>\n",
       "      <td>20120524</td>\n",
       "      <td>US-Market</td>\n",
       "      <td>disaster recovery planning for it</td>\n",
       "      <td>0.0</td>\n",
       "      <td>0.0</td>\n",
       "      <td>0.00</td>\n",
       "      <td>0.00%</td>\n",
       "      <td>0.0</td>\n",
       "      <td>0.00</td>\n",
       "    </tr>\n",
       "    <tr>\n",
       "      <td>4</td>\n",
       "      <td>20120524</td>\n",
       "      <td>US-Market</td>\n",
       "      <td>tracking a vehicle</td>\n",
       "      <td>0.0</td>\n",
       "      <td>0.0</td>\n",
       "      <td>0.00</td>\n",
       "      <td>0.00%</td>\n",
       "      <td>0.0</td>\n",
       "      <td>0.00</td>\n",
       "    </tr>\n",
       "  </tbody>\n",
       "</table>\n",
       "</div>"
      ],
      "text/plain": [
       "       Date     Market                            Keyword  Average.Position  \\\n",
       "0  20120524  US-Market              secure online back up               0.0   \n",
       "1  20120524  US-Market          agile management software               1.0   \n",
       "2  20120524  US-Market                  crm for financial               0.0   \n",
       "3  20120524  US-Market  disaster recovery planning for it               0.0   \n",
       "4  20120524  US-Market                 tracking a vehicle               0.0   \n",
       "\n",
       "   CPC  Clicks    CTR  Impressions   Cost  \n",
       "0  0.0    0.00  0.00%          0.0   0.00  \n",
       "1  1.2   21.22  8.20%        260.0  25.45  \n",
       "2  0.0    0.00  0.00%          0.0   0.00  \n",
       "3  0.0    0.00  0.00%          0.0   0.00  \n",
       "4  0.0    0.00  0.00%          0.0   0.00  "
      ]
     },
     "execution_count": 3,
     "metadata": {},
     "output_type": "execute_result"
    }
   ],
   "source": [
    "df.head()"
   ]
  },
  {
   "cell_type": "code",
   "execution_count": 4,
   "metadata": {},
   "outputs": [
    {
     "name": "stdout",
     "output_type": "stream",
     "text": [
      "<class 'pandas.core.frame.DataFrame'>\n",
      "RangeIndex: 356054 entries, 0 to 356053\n",
      "Data columns (total 9 columns):\n",
      "Date                356054 non-null int64\n",
      "Market              356054 non-null object\n",
      "Keyword             355575 non-null object\n",
      "Average.Position    353018 non-null float64\n",
      "CPC                 353018 non-null float64\n",
      "Clicks              353018 non-null float64\n",
      "CTR                 353018 non-null object\n",
      "Impressions         353018 non-null float64\n",
      "Cost                353018 non-null float64\n",
      "dtypes: float64(5), int64(1), object(3)\n",
      "memory usage: 24.4+ MB\n"
     ]
    }
   ],
   "source": [
    "df.info()"
   ]
  },
  {
   "cell_type": "code",
   "execution_count": 5,
   "metadata": {},
   "outputs": [
    {
     "data": {
      "text/html": [
       "<div>\n",
       "<style scoped>\n",
       "    .dataframe tbody tr th:only-of-type {\n",
       "        vertical-align: middle;\n",
       "    }\n",
       "\n",
       "    .dataframe tbody tr th {\n",
       "        vertical-align: top;\n",
       "    }\n",
       "\n",
       "    .dataframe thead th {\n",
       "        text-align: right;\n",
       "    }\n",
       "</style>\n",
       "<table border=\"1\" class=\"dataframe\">\n",
       "  <thead>\n",
       "    <tr style=\"text-align: right;\">\n",
       "      <th></th>\n",
       "      <th>Date</th>\n",
       "      <th>Average.Position</th>\n",
       "      <th>CPC</th>\n",
       "      <th>Clicks</th>\n",
       "      <th>Impressions</th>\n",
       "      <th>Cost</th>\n",
       "    </tr>\n",
       "  </thead>\n",
       "  <tbody>\n",
       "    <tr>\n",
       "      <td>count</td>\n",
       "      <td>3.560540e+05</td>\n",
       "      <td>353018.000000</td>\n",
       "      <td>353018.000000</td>\n",
       "      <td>353018.000000</td>\n",
       "      <td>3.530180e+05</td>\n",
       "      <td>3.530180e+05</td>\n",
       "    </tr>\n",
       "    <tr>\n",
       "      <td>mean</td>\n",
       "      <td>2.012269e+07</td>\n",
       "      <td>0.611737</td>\n",
       "      <td>14.285071</td>\n",
       "      <td>439.052699</td>\n",
       "      <td>1.874365e+04</td>\n",
       "      <td>3.598259e+03</td>\n",
       "    </tr>\n",
       "    <tr>\n",
       "      <td>std</td>\n",
       "      <td>3.577676e+03</td>\n",
       "      <td>0.643839</td>\n",
       "      <td>37.858433</td>\n",
       "      <td>7559.532663</td>\n",
       "      <td>2.970826e+05</td>\n",
       "      <td>5.718301e+04</td>\n",
       "    </tr>\n",
       "    <tr>\n",
       "      <td>min</td>\n",
       "      <td>2.012052e+07</td>\n",
       "      <td>0.000000</td>\n",
       "      <td>0.000000</td>\n",
       "      <td>0.000000</td>\n",
       "      <td>0.000000e+00</td>\n",
       "      <td>0.000000e+00</td>\n",
       "    </tr>\n",
       "    <tr>\n",
       "      <td>25%</td>\n",
       "      <td>2.012090e+07</td>\n",
       "      <td>0.000000</td>\n",
       "      <td>0.000000</td>\n",
       "      <td>0.000000</td>\n",
       "      <td>0.000000e+00</td>\n",
       "      <td>0.000000e+00</td>\n",
       "    </tr>\n",
       "    <tr>\n",
       "      <td>50%</td>\n",
       "      <td>2.012102e+07</td>\n",
       "      <td>1.000000</td>\n",
       "      <td>1.100000</td>\n",
       "      <td>2.120000</td>\n",
       "      <td>1.290000e+02</td>\n",
       "      <td>8.070000e+00</td>\n",
       "    </tr>\n",
       "    <tr>\n",
       "      <td>75%</td>\n",
       "      <td>2.012122e+07</td>\n",
       "      <td>1.000000</td>\n",
       "      <td>12.100000</td>\n",
       "      <td>35.230000</td>\n",
       "      <td>1.571000e+03</td>\n",
       "      <td>3.749975e+02</td>\n",
       "    </tr>\n",
       "    <tr>\n",
       "      <td>max</td>\n",
       "      <td>2.013021e+07</td>\n",
       "      <td>12.000000</td>\n",
       "      <td>632.730000</td>\n",
       "      <td>441963.500000</td>\n",
       "      <td>1.566667e+07</td>\n",
       "      <td>3.269108e+06</td>\n",
       "    </tr>\n",
       "  </tbody>\n",
       "</table>\n",
       "</div>"
      ],
      "text/plain": [
       "               Date  Average.Position            CPC         Clicks  \\\n",
       "count  3.560540e+05     353018.000000  353018.000000  353018.000000   \n",
       "mean   2.012269e+07          0.611737      14.285071     439.052699   \n",
       "std    3.577676e+03          0.643839      37.858433    7559.532663   \n",
       "min    2.012052e+07          0.000000       0.000000       0.000000   \n",
       "25%    2.012090e+07          0.000000       0.000000       0.000000   \n",
       "50%    2.012102e+07          1.000000       1.100000       2.120000   \n",
       "75%    2.012122e+07          1.000000      12.100000      35.230000   \n",
       "max    2.013021e+07         12.000000     632.730000  441963.500000   \n",
       "\n",
       "        Impressions          Cost  \n",
       "count  3.530180e+05  3.530180e+05  \n",
       "mean   1.874365e+04  3.598259e+03  \n",
       "std    2.970826e+05  5.718301e+04  \n",
       "min    0.000000e+00  0.000000e+00  \n",
       "25%    0.000000e+00  0.000000e+00  \n",
       "50%    1.290000e+02  8.070000e+00  \n",
       "75%    1.571000e+03  3.749975e+02  \n",
       "max    1.566667e+07  3.269108e+06  "
      ]
     },
     "execution_count": 5,
     "metadata": {},
     "output_type": "execute_result"
    }
   ],
   "source": [
    "df.describe()"
   ]
  },
  {
   "cell_type": "markdown",
   "metadata": {},
   "source": [
    "## Data Pre-processing:"
   ]
  },
  {
   "cell_type": "code",
   "execution_count": 6,
   "metadata": {},
   "outputs": [
    {
     "data": {
      "text/html": [
       "<div>\n",
       "<style scoped>\n",
       "    .dataframe tbody tr th:only-of-type {\n",
       "        vertical-align: middle;\n",
       "    }\n",
       "\n",
       "    .dataframe tbody tr th {\n",
       "        vertical-align: top;\n",
       "    }\n",
       "\n",
       "    .dataframe thead th {\n",
       "        text-align: right;\n",
       "    }\n",
       "</style>\n",
       "<table border=\"1\" class=\"dataframe\">\n",
       "  <thead>\n",
       "    <tr style=\"text-align: right;\">\n",
       "      <th></th>\n",
       "      <th>Date</th>\n",
       "      <th>Market</th>\n",
       "      <th>Keyword</th>\n",
       "      <th>Average.Position</th>\n",
       "      <th>CPC</th>\n",
       "      <th>Clicks</th>\n",
       "      <th>CTR</th>\n",
       "      <th>Impressions</th>\n",
       "      <th>Cost</th>\n",
       "    </tr>\n",
       "  </thead>\n",
       "  <tbody>\n",
       "    <tr>\n",
       "      <td>0</td>\n",
       "      <td>20120524</td>\n",
       "      <td>US-Market</td>\n",
       "      <td>secure online back up</td>\n",
       "      <td>0.0</td>\n",
       "      <td>0.0</td>\n",
       "      <td>0.00</td>\n",
       "      <td>0.0</td>\n",
       "      <td>0.0</td>\n",
       "      <td>0.00</td>\n",
       "    </tr>\n",
       "    <tr>\n",
       "      <td>1</td>\n",
       "      <td>20120524</td>\n",
       "      <td>US-Market</td>\n",
       "      <td>agile management software</td>\n",
       "      <td>1.0</td>\n",
       "      <td>1.2</td>\n",
       "      <td>21.22</td>\n",
       "      <td>8.2</td>\n",
       "      <td>260.0</td>\n",
       "      <td>25.45</td>\n",
       "    </tr>\n",
       "    <tr>\n",
       "      <td>2</td>\n",
       "      <td>20120524</td>\n",
       "      <td>US-Market</td>\n",
       "      <td>crm for financial</td>\n",
       "      <td>0.0</td>\n",
       "      <td>0.0</td>\n",
       "      <td>0.00</td>\n",
       "      <td>0.0</td>\n",
       "      <td>0.0</td>\n",
       "      <td>0.00</td>\n",
       "    </tr>\n",
       "    <tr>\n",
       "      <td>3</td>\n",
       "      <td>20120524</td>\n",
       "      <td>US-Market</td>\n",
       "      <td>disaster recovery planning for it</td>\n",
       "      <td>0.0</td>\n",
       "      <td>0.0</td>\n",
       "      <td>0.00</td>\n",
       "      <td>0.0</td>\n",
       "      <td>0.0</td>\n",
       "      <td>0.00</td>\n",
       "    </tr>\n",
       "    <tr>\n",
       "      <td>4</td>\n",
       "      <td>20120524</td>\n",
       "      <td>US-Market</td>\n",
       "      <td>tracking a vehicle</td>\n",
       "      <td>0.0</td>\n",
       "      <td>0.0</td>\n",
       "      <td>0.00</td>\n",
       "      <td>0.0</td>\n",
       "      <td>0.0</td>\n",
       "      <td>0.00</td>\n",
       "    </tr>\n",
       "  </tbody>\n",
       "</table>\n",
       "</div>"
      ],
      "text/plain": [
       "       Date     Market                            Keyword  Average.Position  \\\n",
       "0  20120524  US-Market              secure online back up               0.0   \n",
       "1  20120524  US-Market          agile management software               1.0   \n",
       "2  20120524  US-Market                  crm for financial               0.0   \n",
       "3  20120524  US-Market  disaster recovery planning for it               0.0   \n",
       "4  20120524  US-Market                 tracking a vehicle               0.0   \n",
       "\n",
       "   CPC  Clicks  CTR  Impressions   Cost  \n",
       "0  0.0    0.00  0.0          0.0   0.00  \n",
       "1  1.2   21.22  8.2        260.0  25.45  \n",
       "2  0.0    0.00  0.0          0.0   0.00  \n",
       "3  0.0    0.00  0.0          0.0   0.00  \n",
       "4  0.0    0.00  0.0          0.0   0.00  "
      ]
     },
     "execution_count": 6,
     "metadata": {},
     "output_type": "execute_result"
    }
   ],
   "source": [
    "df['CTR'] = df['CTR'].apply(lambda x: float(str(x).replace('%', ''))) # remove extra character string\n",
    "\n",
    "df = df.dropna() # drop the null values \n",
    "\n",
    "# df['Market'] = pd.get_dummies(df['Market']) # set dummies for market feature (binary)\n",
    "\n",
    "df.head() # check head"
   ]
  },
  {
   "cell_type": "code",
   "execution_count": 7,
   "metadata": {},
   "outputs": [
    {
     "data": {
      "text/plain": [
       "Date                False\n",
       "Market              False\n",
       "Keyword             False\n",
       "Average.Position    False\n",
       "CPC                 False\n",
       "Clicks              False\n",
       "CTR                 False\n",
       "Impressions         False\n",
       "Cost                False\n",
       "dtype: bool"
      ]
     },
     "execution_count": 7,
     "metadata": {},
     "output_type": "execute_result"
    }
   ],
   "source": [
    "# Let's quickly make sure we are not left with any null value in out data set\n",
    "#  plt.figure(figsize = (12,6))\n",
    "# sns.heatmap(df.isnull(), cmap = 'YlGnBu')\n",
    "df.isnull().any()"
   ]
  },
  {
   "cell_type": "code",
   "execution_count": 8,
   "metadata": {},
   "outputs": [
    {
     "name": "stdout",
     "output_type": "stream",
     "text": [
      "<class 'pandas.core.frame.DataFrame'>\n",
      "Int64Index: 203595 entries, 1 to 356039\n",
      "Data columns (total 9 columns):\n",
      "Date                203595 non-null int64\n",
      "Market              203595 non-null int64\n",
      "Keyword             203595 non-null object\n",
      "Average.Position    203595 non-null float64\n",
      "CPC                 203595 non-null float64\n",
      "Clicks              203595 non-null float64\n",
      "CTR                 203595 non-null float64\n",
      "Impressions         203595 non-null float64\n",
      "Cost                203595 non-null float64\n",
      "dtypes: float64(6), int64(2), object(1)\n",
      "memory usage: 15.5+ MB\n"
     ]
    },
    {
     "data": {
      "text/html": [
       "<div>\n",
       "<style scoped>\n",
       "    .dataframe tbody tr th:only-of-type {\n",
       "        vertical-align: middle;\n",
       "    }\n",
       "\n",
       "    .dataframe tbody tr th {\n",
       "        vertical-align: top;\n",
       "    }\n",
       "\n",
       "    .dataframe thead th {\n",
       "        text-align: right;\n",
       "    }\n",
       "</style>\n",
       "<table border=\"1\" class=\"dataframe\">\n",
       "  <thead>\n",
       "    <tr style=\"text-align: right;\">\n",
       "      <th></th>\n",
       "      <th>Date</th>\n",
       "      <th>Market</th>\n",
       "      <th>Keyword</th>\n",
       "      <th>Average.Position</th>\n",
       "      <th>CPC</th>\n",
       "      <th>Clicks</th>\n",
       "      <th>CTR</th>\n",
       "      <th>Impressions</th>\n",
       "      <th>Cost</th>\n",
       "    </tr>\n",
       "  </thead>\n",
       "  <tbody>\n",
       "    <tr>\n",
       "      <td>1</td>\n",
       "      <td>20120524</td>\n",
       "      <td>1</td>\n",
       "      <td>agile management software</td>\n",
       "      <td>1.0</td>\n",
       "      <td>1.20</td>\n",
       "      <td>21.22</td>\n",
       "      <td>8.2</td>\n",
       "      <td>260.0</td>\n",
       "      <td>25.45</td>\n",
       "    </tr>\n",
       "    <tr>\n",
       "      <td>9</td>\n",
       "      <td>20120524</td>\n",
       "      <td>1</td>\n",
       "      <td>android app developers</td>\n",
       "      <td>1.0</td>\n",
       "      <td>0.66</td>\n",
       "      <td>23.31</td>\n",
       "      <td>8.6</td>\n",
       "      <td>270.0</td>\n",
       "      <td>15.31</td>\n",
       "    </tr>\n",
       "    <tr>\n",
       "      <td>13</td>\n",
       "      <td>20120524</td>\n",
       "      <td>1</td>\n",
       "      <td>android application developer</td>\n",
       "      <td>1.0</td>\n",
       "      <td>1.02</td>\n",
       "      <td>46.92</td>\n",
       "      <td>8.6</td>\n",
       "      <td>546.0</td>\n",
       "      <td>47.77</td>\n",
       "    </tr>\n",
       "    <tr>\n",
       "      <td>14</td>\n",
       "      <td>20120524</td>\n",
       "      <td>1</td>\n",
       "      <td>android app developer</td>\n",
       "      <td>1.0</td>\n",
       "      <td>1.30</td>\n",
       "      <td>147.46</td>\n",
       "      <td>6.0</td>\n",
       "      <td>2469.0</td>\n",
       "      <td>191.99</td>\n",
       "    </tr>\n",
       "    <tr>\n",
       "      <td>17</td>\n",
       "      <td>20120524</td>\n",
       "      <td>1</td>\n",
       "      <td>mobile applications developers</td>\n",
       "      <td>1.0</td>\n",
       "      <td>0.57</td>\n",
       "      <td>21.69</td>\n",
       "      <td>8.3</td>\n",
       "      <td>260.0</td>\n",
       "      <td>12.31</td>\n",
       "    </tr>\n",
       "    <tr>\n",
       "      <td>19</td>\n",
       "      <td>20120524</td>\n",
       "      <td>1</td>\n",
       "      <td>cloud computing for dummies</td>\n",
       "      <td>1.0</td>\n",
       "      <td>0.50</td>\n",
       "      <td>37.89</td>\n",
       "      <td>11.4</td>\n",
       "      <td>330.0</td>\n",
       "      <td>19.10</td>\n",
       "    </tr>\n",
       "    <tr>\n",
       "      <td>24</td>\n",
       "      <td>20120524</td>\n",
       "      <td>1</td>\n",
       "      <td>apps development</td>\n",
       "      <td>1.0</td>\n",
       "      <td>0.69</td>\n",
       "      <td>23.69</td>\n",
       "      <td>5.5</td>\n",
       "      <td>433.0</td>\n",
       "      <td>16.25</td>\n",
       "    </tr>\n",
       "    <tr>\n",
       "      <td>27</td>\n",
       "      <td>20120524</td>\n",
       "      <td>1</td>\n",
       "      <td>mobile apps developers</td>\n",
       "      <td>1.0</td>\n",
       "      <td>2.53</td>\n",
       "      <td>22.94</td>\n",
       "      <td>4.3</td>\n",
       "      <td>529.0</td>\n",
       "      <td>58.04</td>\n",
       "    </tr>\n",
       "    <tr>\n",
       "      <td>28</td>\n",
       "      <td>20120524</td>\n",
       "      <td>1</td>\n",
       "      <td>joomla designers</td>\n",
       "      <td>1.0</td>\n",
       "      <td>1.37</td>\n",
       "      <td>17.84</td>\n",
       "      <td>6.6</td>\n",
       "      <td>268.0</td>\n",
       "      <td>24.36</td>\n",
       "    </tr>\n",
       "    <tr>\n",
       "      <td>44</td>\n",
       "      <td>20120524</td>\n",
       "      <td>1</td>\n",
       "      <td>ink 8560</td>\n",
       "      <td>1.0</td>\n",
       "      <td>1.59</td>\n",
       "      <td>0.26</td>\n",
       "      <td>0.1</td>\n",
       "      <td>216.0</td>\n",
       "      <td>0.41</td>\n",
       "    </tr>\n",
       "  </tbody>\n",
       "</table>\n",
       "</div>"
      ],
      "text/plain": [
       "        Date  Market                         Keyword  Average.Position   CPC  \\\n",
       "1   20120524       1       agile management software               1.0  1.20   \n",
       "9   20120524       1          android app developers               1.0  0.66   \n",
       "13  20120524       1   android application developer               1.0  1.02   \n",
       "14  20120524       1           android app developer               1.0  1.30   \n",
       "17  20120524       1  mobile applications developers               1.0  0.57   \n",
       "19  20120524       1     cloud computing for dummies               1.0  0.50   \n",
       "24  20120524       1                apps development               1.0  0.69   \n",
       "27  20120524       1          mobile apps developers               1.0  2.53   \n",
       "28  20120524       1                joomla designers               1.0  1.37   \n",
       "44  20120524       1                        ink 8560               1.0  1.59   \n",
       "\n",
       "    Clicks   CTR  Impressions    Cost  \n",
       "1    21.22   8.2        260.0   25.45  \n",
       "9    23.31   8.6        270.0   15.31  \n",
       "13   46.92   8.6        546.0   47.77  \n",
       "14  147.46   6.0       2469.0  191.99  \n",
       "17   21.69   8.3        260.0   12.31  \n",
       "19   37.89  11.4        330.0   19.10  \n",
       "24   23.69   5.5        433.0   16.25  \n",
       "27   22.94   4.3        529.0   58.04  \n",
       "28   17.84   6.6        268.0   24.36  \n",
       "44    0.26   0.1        216.0    0.41  "
      ]
     },
     "execution_count": 8,
     "metadata": {},
     "output_type": "execute_result"
    }
   ],
   "source": [
    "# Now as we can see we have a lot of values that are \"zeros\"\n",
    "# having those values in our data set make the model not learn properly and might overfit\n",
    "# due to the repeated nature. So we might wanna eliminate those zero values \n",
    "# from our data set \n",
    "\n",
    "mapped_market = {'US-Market': 1, 'UK-Market': -1}\n",
    "\n",
    "new_df = df[df['CPC'] != 0]\n",
    "new_df['Market'] = new_df[\"Market\"].map(mapped_market) # map the market values with 1's and 0's\n",
    "new_df.info() # new data set with \"CPC\" not equals to \"Zero\"\n",
    "new_df.head(10)\n",
    "\n",
    "# Now we have 2 data sets\n",
    "# one with all the observations i.e with \"CPC\" having zero values\n",
    "# other, having \"CPC\" not equals to zero"
   ]
  },
  {
   "cell_type": "code",
   "execution_count": 9,
   "metadata": {},
   "outputs": [
    {
     "data": {
      "text/plain": [
       "2"
      ]
     },
     "execution_count": 9,
     "metadata": {},
     "output_type": "execute_result"
    }
   ],
   "source": [
    "new_df = shuffle(new_df)\n",
    "new_df.head()\n",
    "\n",
    "new_df['Market'].nunique()"
   ]
  },
  {
   "cell_type": "code",
   "execution_count": 10,
   "metadata": {},
   "outputs": [
    {
     "data": {
      "text/html": [
       "<div>\n",
       "<style scoped>\n",
       "    .dataframe tbody tr th:only-of-type {\n",
       "        vertical-align: middle;\n",
       "    }\n",
       "\n",
       "    .dataframe tbody tr th {\n",
       "        vertical-align: top;\n",
       "    }\n",
       "\n",
       "    .dataframe thead th {\n",
       "        text-align: right;\n",
       "    }\n",
       "</style>\n",
       "<table border=\"1\" class=\"dataframe\">\n",
       "  <thead>\n",
       "    <tr style=\"text-align: right;\">\n",
       "      <th></th>\n",
       "      <th>Date</th>\n",
       "      <th>Market</th>\n",
       "      <th>Keyword</th>\n",
       "      <th>Average.Position</th>\n",
       "      <th>CPC</th>\n",
       "      <th>Clicks</th>\n",
       "      <th>CTR</th>\n",
       "      <th>Impressions</th>\n",
       "      <th>Cost</th>\n",
       "    </tr>\n",
       "  </thead>\n",
       "  <tbody>\n",
       "    <tr>\n",
       "      <td>102314</td>\n",
       "      <td>20130125</td>\n",
       "      <td>1</td>\n",
       "      <td>lil kim</td>\n",
       "      <td>1.0</td>\n",
       "      <td>0.03</td>\n",
       "      <td>3.81</td>\n",
       "      <td>1.4</td>\n",
       "      <td>273.0</td>\n",
       "      <td>0.11</td>\n",
       "    </tr>\n",
       "    <tr>\n",
       "      <td>102357</td>\n",
       "      <td>20130125</td>\n",
       "      <td>1</td>\n",
       "      <td>world cup</td>\n",
       "      <td>1.0</td>\n",
       "      <td>0.14</td>\n",
       "      <td>11.75</td>\n",
       "      <td>1.1</td>\n",
       "      <td>1044.0</td>\n",
       "      <td>1.60</td>\n",
       "    </tr>\n",
       "    <tr>\n",
       "      <td>18792</td>\n",
       "      <td>20120711</td>\n",
       "      <td>1</td>\n",
       "      <td>san diego dui lawyer</td>\n",
       "      <td>1.0</td>\n",
       "      <td>2.14</td>\n",
       "      <td>26.54</td>\n",
       "      <td>6.9</td>\n",
       "      <td>382.0</td>\n",
       "      <td>56.93</td>\n",
       "    </tr>\n",
       "    <tr>\n",
       "      <td>321423</td>\n",
       "      <td>20121216</td>\n",
       "      <td>-1</td>\n",
       "      <td>stock images</td>\n",
       "      <td>1.0</td>\n",
       "      <td>7.21</td>\n",
       "      <td>89.44</td>\n",
       "      <td>2.1</td>\n",
       "      <td>4283.0</td>\n",
       "      <td>645.14</td>\n",
       "    </tr>\n",
       "    <tr>\n",
       "      <td>140633</td>\n",
       "      <td>20120914</td>\n",
       "      <td>1</td>\n",
       "      <td>apply for credit cards</td>\n",
       "      <td>1.1</td>\n",
       "      <td>114.03</td>\n",
       "      <td>12.77</td>\n",
       "      <td>0.9</td>\n",
       "      <td>1458.0</td>\n",
       "      <td>1456.23</td>\n",
       "    </tr>\n",
       "  </tbody>\n",
       "</table>\n",
       "</div>"
      ],
      "text/plain": [
       "            Date  Market                 Keyword  Average.Position     CPC  \\\n",
       "102314  20130125       1                 lil kim               1.0    0.03   \n",
       "102357  20130125       1               world cup               1.0    0.14   \n",
       "18792   20120711       1    san diego dui lawyer               1.0    2.14   \n",
       "321423  20121216      -1            stock images               1.0    7.21   \n",
       "140633  20120914       1  apply for credit cards               1.1  114.03   \n",
       "\n",
       "        Clicks  CTR  Impressions     Cost  \n",
       "102314    3.81  1.4        273.0     0.11  \n",
       "102357   11.75  1.1       1044.0     1.60  \n",
       "18792    26.54  6.9        382.0    56.93  \n",
       "321423   89.44  2.1       4283.0   645.14  \n",
       "140633   12.77  0.9       1458.0  1456.23  "
      ]
     },
     "execution_count": 10,
     "metadata": {},
     "output_type": "execute_result"
    }
   ],
   "source": [
    "new_df.head()"
   ]
  },
  {
   "cell_type": "code",
   "execution_count": 11,
   "metadata": {},
   "outputs": [
    {
     "name": "stderr",
     "output_type": "stream",
     "text": [
      "[nltk_data] Downloading package stopwords to C:\\Users\\Umair\n",
      "[nltk_data]     Gillani\\AppData\\Roaming\\nltk_data...\n",
      "[nltk_data]   Package stopwords is already up-to-date!\n"
     ]
    },
    {
     "data": {
      "text/plain": [
       "True"
      ]
     },
     "execution_count": 11,
     "metadata": {},
     "output_type": "execute_result"
    }
   ],
   "source": [
    "nltk.download(\"stopwords\") # downloading all the stopwords for English from nltk"
   ]
  },
  {
   "cell_type": "code",
   "execution_count": 12,
   "metadata": {},
   "outputs": [],
   "source": [
    "stopwords = set(stopwords.words(\"english\"))"
   ]
  },
  {
   "cell_type": "code",
   "execution_count": 13,
   "metadata": {},
   "outputs": [
    {
     "data": {
      "text/plain": [
       "480702"
      ]
     },
     "execution_count": 13,
     "metadata": {},
     "output_type": "execute_result"
    }
   ],
   "source": [
    "def remove_stops(example_sent):\n",
    "    word_tokens = example_sent.split()\n",
    "    filtered_sentence = ' '.join([word for word in word_tokens if not word in stopwords])\n",
    "    return filtered_sentence\n",
    "\n",
    "new_df['Keyword'] = new_df['Keyword'].apply(remove_stops)\n",
    "new_df.head()\n",
    "\n",
    "cleaned_list = []\n",
    "\n",
    "for word in list(new_df[\"Keyword\"]):\n",
    "    for w in word.split():\n",
    "        cleaned_list.append(w)\n",
    "        \n",
    "len(cleaned_list) # Length of the words has reduced to 480702 from 501285 after removing stop words!"
   ]
  },
  {
   "cell_type": "markdown",
   "metadata": {},
   "source": [
    "## Data Normalization:"
   ]
  },
  {
   "cell_type": "code",
   "execution_count": 14,
   "metadata": {},
   "outputs": [
    {
     "data": {
      "text/html": [
       "<div>\n",
       "<style scoped>\n",
       "    .dataframe tbody tr th:only-of-type {\n",
       "        vertical-align: middle;\n",
       "    }\n",
       "\n",
       "    .dataframe tbody tr th {\n",
       "        vertical-align: top;\n",
       "    }\n",
       "\n",
       "    .dataframe thead th {\n",
       "        text-align: right;\n",
       "    }\n",
       "</style>\n",
       "<table border=\"1\" class=\"dataframe\">\n",
       "  <thead>\n",
       "    <tr style=\"text-align: right;\">\n",
       "      <th></th>\n",
       "      <th>Date</th>\n",
       "      <th>Market</th>\n",
       "      <th>Keyword</th>\n",
       "      <th>Average.Position</th>\n",
       "      <th>CPC</th>\n",
       "      <th>Clicks</th>\n",
       "      <th>CTR</th>\n",
       "      <th>Impressions</th>\n",
       "      <th>Cost</th>\n",
       "    </tr>\n",
       "  </thead>\n",
       "  <tbody>\n",
       "    <tr>\n",
       "      <td>102314</td>\n",
       "      <td>20130125</td>\n",
       "      <td>1</td>\n",
       "      <td>lil kim</td>\n",
       "      <td>1.0</td>\n",
       "      <td>0.03</td>\n",
       "      <td>3.81</td>\n",
       "      <td>1.4</td>\n",
       "      <td>273.0</td>\n",
       "      <td>0.11</td>\n",
       "    </tr>\n",
       "    <tr>\n",
       "      <td>102357</td>\n",
       "      <td>20130125</td>\n",
       "      <td>1</td>\n",
       "      <td>world cup</td>\n",
       "      <td>1.0</td>\n",
       "      <td>0.14</td>\n",
       "      <td>11.75</td>\n",
       "      <td>1.1</td>\n",
       "      <td>1044.0</td>\n",
       "      <td>1.60</td>\n",
       "    </tr>\n",
       "    <tr>\n",
       "      <td>18792</td>\n",
       "      <td>20120711</td>\n",
       "      <td>1</td>\n",
       "      <td>san diego dui lawyer</td>\n",
       "      <td>1.0</td>\n",
       "      <td>2.14</td>\n",
       "      <td>26.54</td>\n",
       "      <td>6.9</td>\n",
       "      <td>382.0</td>\n",
       "      <td>56.93</td>\n",
       "    </tr>\n",
       "    <tr>\n",
       "      <td>321423</td>\n",
       "      <td>20121216</td>\n",
       "      <td>-1</td>\n",
       "      <td>stock images</td>\n",
       "      <td>1.0</td>\n",
       "      <td>7.21</td>\n",
       "      <td>89.44</td>\n",
       "      <td>2.1</td>\n",
       "      <td>4283.0</td>\n",
       "      <td>645.14</td>\n",
       "    </tr>\n",
       "    <tr>\n",
       "      <td>140633</td>\n",
       "      <td>20120914</td>\n",
       "      <td>1</td>\n",
       "      <td>apply credit cards</td>\n",
       "      <td>1.1</td>\n",
       "      <td>114.03</td>\n",
       "      <td>12.77</td>\n",
       "      <td>0.9</td>\n",
       "      <td>1458.0</td>\n",
       "      <td>1456.23</td>\n",
       "    </tr>\n",
       "  </tbody>\n",
       "</table>\n",
       "</div>"
      ],
      "text/plain": [
       "            Date  Market               Keyword  Average.Position     CPC  \\\n",
       "102314  20130125       1               lil kim               1.0    0.03   \n",
       "102357  20130125       1             world cup               1.0    0.14   \n",
       "18792   20120711       1  san diego dui lawyer               1.0    2.14   \n",
       "321423  20121216      -1          stock images               1.0    7.21   \n",
       "140633  20120914       1    apply credit cards               1.1  114.03   \n",
       "\n",
       "        Clicks  CTR  Impressions     Cost  \n",
       "102314    3.81  1.4        273.0     0.11  \n",
       "102357   11.75  1.1       1044.0     1.60  \n",
       "18792    26.54  6.9        382.0    56.93  \n",
       "321423   89.44  2.1       4283.0   645.14  \n",
       "140633   12.77  0.9       1458.0  1456.23  "
      ]
     },
     "execution_count": 14,
     "metadata": {},
     "output_type": "execute_result"
    }
   ],
   "source": [
    "new_df.head()"
   ]
  },
  {
   "cell_type": "code",
   "execution_count": 26,
   "metadata": {},
   "outputs": [
    {
     "name": "stdout",
     "output_type": "stream",
     "text": [
      "Prediction Accuracy: 72.108\n"
     ]
    }
   ],
   "source": [
    "scaler = MinMaxScaler()\n",
    "scaler.fit(new_df[['Date', 'CPC', 'Market', 'CTR', 'Impressions', 'Cost', 'Clicks']])\n",
    "scaled_features = scaler.transform(new_df[['Date', 'CPC', 'Market', 'CTR', 'Impressions', 'Cost', 'Clicks']])\n",
    "scaled_df = pd.DataFrame(data = scaled_features, columns = ['Date', 'CPC', 'Market', 'CTR', 'Impressions', 'Cost', 'Clicks'])\n",
    "scaled_df.head()\n",
    "X = data\n",
    "y = df['Clicks']\n",
    "\n",
    "X_train, X_test, y_train, y_test = train_test_split(X, y, test_size = 0.3, random_state = 101)\n",
    "# Randome Linear Regression Test\n",
    "model = LinearRegression()\n",
    "model.fit(X_train, y_train)\n",
    "predictions = model.predict(X_test)\n",
    "print(\"Prediction Accuracy: {0:0.3f}\".format(metrics.r2_score(y_test, predictions) * 100))"
   ]
  },
  {
   "cell_type": "markdown",
   "metadata": {},
   "source": [
    "## Data Visualization:"
   ]
  },
  {
   "cell_type": "code",
   "execution_count": 17,
   "metadata": {},
   "outputs": [],
   "source": [
    "#plt.figure(figsize = (12,6))\n",
    "#sns.scatterplot(x = new_df['CTR'], y = new_df['Clicks'])"
   ]
  },
  {
   "cell_type": "code",
   "execution_count": 18,
   "metadata": {},
   "outputs": [],
   "source": [
    "#plt.figure(figsize = (12,6))\n",
    "#sns.relplot(x = 'CPC', y = 'Clicks', data = new_df, hue = 'Market')"
   ]
  },
  {
   "cell_type": "code",
   "execution_count": 19,
   "metadata": {},
   "outputs": [],
   "source": [
    "# Lets quickly check how our target variable is distribted \n",
    "#plt.figure(figsize = (12,6))\n",
    "#sns.distplot(new_df['Clicks'], bins = 40, kde = True)"
   ]
  },
  {
   "cell_type": "code",
   "execution_count": 20,
   "metadata": {},
   "outputs": [],
   "source": [
    "#clicks = list(new_df['Clicks'])\n",
    "\n",
    "#max(clicks)"
   ]
  },
  {
   "cell_type": "code",
   "execution_count": 21,
   "metadata": {},
   "outputs": [
    {
     "data": {
      "text/plain": [
       "<matplotlib.axes._subplots.AxesSubplot at 0x29a23f92c88>"
      ]
     },
     "execution_count": 21,
     "metadata": {},
     "output_type": "execute_result"
    },
    {
     "data": {
      "image/png": "[encoded data removed]",
      "text/plain": [
       "<Figure size 864x432 with 2 Axes>"
      ]
     },
     "metadata": {
      "needs_background": "light"
     },
     "output_type": "display_data"
    }
   ],
   "source": [
    "corr = new_df.corr()\n",
    "\n",
    "plt.figure(figsize = (12,6))\n",
    "sns.heatmap(data = corr, cmap = 'viridis')"
   ]
  },
  {
   "cell_type": "code",
   "execution_count": 22,
   "metadata": {},
   "outputs": [],
   "source": [
    "#sns.distplot((y_test-predictions), bins = 30)"
   ]
  },
  {
   "cell_type": "markdown",
   "metadata": {},
   "source": [
    "## Correlations:"
   ]
  },
  {
   "cell_type": "code",
   "execution_count": 23,
   "metadata": {},
   "outputs": [],
   "source": [
    "corr = new_df.corr()"
   ]
  },
  {
   "cell_type": "code",
   "execution_count": 24,
   "metadata": {},
   "outputs": [
    {
     "data": {
      "text/plain": [
       "<matplotlib.axes._subplots.AxesSubplot at 0x29a29bcff08>"
      ]
     },
     "execution_count": 24,
     "metadata": {},
     "output_type": "execute_result"
    },
    {
     "data": {
      "image/png": "[encoded data removed]",
      "text/plain": [
       "<Figure size 864x432 with 2 Axes>"
      ]
     },
     "metadata": {
      "needs_background": "light"
     },
     "output_type": "display_data"
    }
   ],
   "source": [
    "plt.figure(figsize = (12,6))\n",
    "sns.heatmap(corr)"
   ]
  },
  {
   "cell_type": "code",
   "execution_count": 25,
   "metadata": {},
   "outputs": [
    {
     "data": {
      "text/plain": [
       "0.5307991295567503"
      ]
     },
     "execution_count": 25,
     "metadata": {},
     "output_type": "execute_result"
    }
   ],
   "source": [
    "new_df['Clicks'].corr(new_df['Cost'])"
   ]
  },
  {
   "cell_type": "markdown",
   "metadata": {},
   "source": [
    "## Keras Test:"
   ]
  },
  {
   "cell_type": "code",
   "execution_count": 27,
   "metadata": {},
   "outputs": [
    {
     "data": {
      "text/html": [
       "<div>\n",
       "<style scoped>\n",
       "    .dataframe tbody tr th:only-of-type {\n",
       "        vertical-align: middle;\n",
       "    }\n",
       "\n",
       "    .dataframe tbody tr th {\n",
       "        vertical-align: top;\n",
       "    }\n",
       "\n",
       "    .dataframe thead th {\n",
       "        text-align: right;\n",
       "    }\n",
       "</style>\n",
       "<table border=\"1\" class=\"dataframe\">\n",
       "  <thead>\n",
       "    <tr style=\"text-align: right;\">\n",
       "      <th></th>\n",
       "      <th>Date</th>\n",
       "      <th>CPC</th>\n",
       "      <th>Market</th>\n",
       "      <th>CTR</th>\n",
       "      <th>Impressions</th>\n",
       "      <th>Cost</th>\n",
       "      <th>Clicks</th>\n",
       "    </tr>\n",
       "  </thead>\n",
       "  <tbody>\n",
       "    <tr>\n",
       "      <td>0</td>\n",
       "      <td>0.991020</td>\n",
       "      <td>0.000032</td>\n",
       "      <td>1.0</td>\n",
       "      <td>0.059072</td>\n",
       "      <td>0.000071</td>\n",
       "      <td>3.849976e-07</td>\n",
       "      <td>0.000043</td>\n",
       "    </tr>\n",
       "    <tr>\n",
       "      <td>1</td>\n",
       "      <td>0.991020</td>\n",
       "      <td>0.000205</td>\n",
       "      <td>1.0</td>\n",
       "      <td>0.046414</td>\n",
       "      <td>0.000282</td>\n",
       "      <td>5.599965e-06</td>\n",
       "      <td>0.000132</td>\n",
       "    </tr>\n",
       "    <tr>\n",
       "      <td>2</td>\n",
       "      <td>0.019302</td>\n",
       "      <td>0.003366</td>\n",
       "      <td>1.0</td>\n",
       "      <td>0.291139</td>\n",
       "      <td>0.000101</td>\n",
       "      <td>1.992538e-04</td>\n",
       "      <td>0.000297</td>\n",
       "    </tr>\n",
       "    <tr>\n",
       "      <td>3</td>\n",
       "      <td>0.071429</td>\n",
       "      <td>0.011379</td>\n",
       "      <td>0.0</td>\n",
       "      <td>0.088608</td>\n",
       "      <td>0.001165</td>\n",
       "      <td>2.257976e-03</td>\n",
       "      <td>0.001002</td>\n",
       "    </tr>\n",
       "    <tr>\n",
       "      <td>4</td>\n",
       "      <td>0.040256</td>\n",
       "      <td>0.180206</td>\n",
       "      <td>1.0</td>\n",
       "      <td>0.037975</td>\n",
       "      <td>0.000394</td>\n",
       "      <td>5.096774e-03</td>\n",
       "      <td>0.000143</td>\n",
       "    </tr>\n",
       "  </tbody>\n",
       "</table>\n",
       "</div>"
      ],
      "text/plain": [
       "       Date       CPC  Market       CTR  Impressions          Cost    Clicks\n",
       "0  0.991020  0.000032     1.0  0.059072     0.000071  3.849976e-07  0.000043\n",
       "1  0.991020  0.000205     1.0  0.046414     0.000282  5.599965e-06  0.000132\n",
       "2  0.019302  0.003366     1.0  0.291139     0.000101  1.992538e-04  0.000297\n",
       "3  0.071429  0.011379     0.0  0.088608     0.001165  2.257976e-03  0.001002\n",
       "4  0.040256  0.180206     1.0  0.037975     0.000394  5.096774e-03  0.000143"
      ]
     },
     "execution_count": 27,
     "metadata": {},
     "output_type": "execute_result"
    }
   ],
   "source": [
    "scaled_df.head()"
   ]
  },
  {
   "cell_type": "code",
   "execution_count": 28,
   "metadata": {},
   "outputs": [
    {
     "name": "stdout",
     "output_type": "stream",
     "text": [
      "Model: \"sequential_1\"\n",
      "_________________________________________________________________\n",
      "Layer (type)                 Output Shape              Param #   \n",
      "=================================================================\n",
      "dense_1 (Dense)              (None, 8)                 56        \n",
      "_________________________________________________________________\n",
      "dense_2 (Dense)              (None, 8)                 72        \n",
      "_________________________________________________________________\n",
      "dense_3 (Dense)              (None, 8)                 72        \n",
      "_________________________________________________________________\n",
      "dense_4 (Dense)              (None, 1)                 9         \n",
      "=================================================================\n",
      "Total params: 209\n",
      "Trainable params: 209\n",
      "Non-trainable params: 0\n",
      "_________________________________________________________________\n"
     ]
    }
   ],
   "source": [
    "model = Sequential()\n",
    "model.add(Dense(8, input_dim = 6, activation = 'relu'))\n",
    "model.add(Dense(8, activation = 'relu'))\n",
    "model.add(Dense(8, activation = \"relu\"))\n",
    "model.add(Dense(1, activation = 'linear'))\n",
    "model.summary()"
   ]
  },
  {
   "cell_type": "code",
   "execution_count": 29,
   "metadata": {},
   "outputs": [
    {
     "name": "stdout",
     "output_type": "stream",
     "text": [
      "WARNING:tensorflow:From C:\\Users\\Umair Gillani\\Anaconda3\\lib\\site-packages\\keras\\backend\\tensorflow_backend.py:422: The name tf.global_variables is deprecated. Please use tf.compat.v1.global_variables instead.\n",
      "\n",
      "Train on 114012 samples, validate on 28504 samples\n",
      "Epoch 1/20\n",
      "114012/114012 [==============================] - 2s 16us/step - loss: 2.7024e-04 - accuracy: 0.0059 - val_loss: 1.5595e-04 - val_accuracy: 0.0062\n",
      "Epoch 2/20\n",
      "114012/114012 [==============================] - 2s 15us/step - loss: 1.2195e-04 - accuracy: 0.0059 - val_loss: 9.1786e-05 - val_accuracy: 0.0062\n",
      "Epoch 3/20\n",
      "114012/114012 [==============================] - 2s 14us/step - loss: 7.7027e-05 - accuracy: 0.0059 - val_loss: 6.6222e-05 - val_accuracy: 0.0062\n",
      "Epoch 4/20\n",
      "114012/114012 [==============================] - 2s 13us/step - loss: 5.3995e-05 - accuracy: 0.0059 - val_loss: 4.4498e-05 - val_accuracy: 0.0062\n",
      "Epoch 5/20\n",
      "114012/114012 [==============================] - 2s 14us/step - loss: 4.1124e-05 - accuracy: 0.0059 - val_loss: 2.9846e-05 - val_accuracy: 0.0062\n",
      "Epoch 6/20\n",
      "114012/114012 [==============================] - 2s 14us/step - loss: 3.2457e-05 - accuracy: 0.0059 - val_loss: 2.6423e-05 - val_accuracy: 0.0062\n",
      "Epoch 7/20\n",
      "114012/114012 [==============================] - 2s 15us/step - loss: 2.7404e-05 - accuracy: 0.0059 - val_loss: 2.0251e-05 - val_accuracy: 0.0062\n",
      "Epoch 8/20\n",
      "114012/114012 [==============================] - 2s 14us/step - loss: 2.3408e-05 - accuracy: 0.0059 - val_loss: 1.8710e-05 - val_accuracy: 0.0062\n",
      "Epoch 9/20\n",
      "114012/114012 [==============================] - 2s 14us/step - loss: 1.9647e-05 - accuracy: 0.0059 - val_loss: 1.5753e-05 - val_accuracy: 0.0062\n",
      "Epoch 10/20\n",
      "114012/114012 [==============================] - 2s 15us/step - loss: 1.5449e-05 - accuracy: 0.0059 - val_loss: 1.1163e-05 - val_accuracy: 0.0062\n",
      "Epoch 11/20\n",
      "114012/114012 [==============================] - 2s 15us/step - loss: 1.4243e-05 - accuracy: 0.0059 - val_loss: 1.0240e-05 - val_accuracy: 0.0062\n",
      "Epoch 12/20\n",
      "114012/114012 [==============================] - 2s 14us/step - loss: 1.1383e-05 - accuracy: 0.0059 - val_loss: 8.7995e-06 - val_accuracy: 0.0062\n",
      "Epoch 13/20\n",
      "114012/114012 [==============================] - 2s 14us/step - loss: 1.0460e-05 - accuracy: 0.0059 - val_loss: 8.1926e-06 - val_accuracy: 0.0062\n",
      "Epoch 14/20\n",
      "114012/114012 [==============================] - 2s 14us/step - loss: 1.1229e-05 - accuracy: 0.0059 - val_loss: 7.2129e-06 - val_accuracy: 0.0062\n",
      "Epoch 15/20\n",
      "114012/114012 [==============================] - 2s 15us/step - loss: 1.0333e-05 - accuracy: 0.0059 - val_loss: 8.0290e-06 - val_accuracy: 0.0062\n",
      "Epoch 16/20\n",
      "114012/114012 [==============================] - 2s 14us/step - loss: 9.4740e-06 - accuracy: 0.0059 - val_loss: 7.9483e-06 - val_accuracy: 0.0062\n",
      "Epoch 17/20\n",
      "114012/114012 [==============================] - 2s 14us/step - loss: 9.0161e-06 - accuracy: 0.0059 - val_loss: 6.6840e-06 - val_accuracy: 0.0062\n",
      "Epoch 18/20\n",
      "114012/114012 [==============================] - 2s 14us/step - loss: 9.2902e-06 - accuracy: 0.0059 - val_loss: 5.9393e-06 - val_accuracy: 0.0062\n",
      "Epoch 19/20\n",
      "114012/114012 [==============================] - 2s 14us/step - loss: 7.6221e-06 - accuracy: 0.0059 - val_loss: 1.8971e-05 - val_accuracy: 0.0062\n",
      "Epoch 20/20\n",
      "114012/114012 [==============================] - 2s 14us/step - loss: 9.7335e-06 - accuracy: 0.0059 - val_loss: 1.0956e-05 - val_accuracy: 0.0062\n"
     ]
    }
   ],
   "source": [
    "model.compile(loss = 'mse', optimizer = 'adam', metrics = ['accuracy'])\n",
    "\n",
    "X = scaled_df.drop('Clicks', axis = 1)\n",
    "y = scaled_df['Clicks']\n",
    "\n",
    "X_train, X_test, y_train, y_test = train_test_split(X, y, test_size = 0.3, random_state = 101)\n",
    "\n",
    "history = model.fit(X_train, y_train, epochs = 20, batch_size = 128,\n",
    "                   validation_split = 0.2, shuffle = True)"
   ]
  },
  {
   "cell_type": "code",
   "execution_count": 30,
   "metadata": {},
   "outputs": [
    {
     "data": {
      "image/png": "[encoded data removed]",
      "text/plain": [
       "<Figure size 864x432 with 1 Axes>"
      ]
     },
     "metadata": {
      "needs_background": "light"
     },
     "output_type": "display_data"
    }
   ],
   "source": [
    "plt.figure(figsize = (12,6))\n",
    "plt.plot(history.history['loss'])\n",
    "plt.plot(history.history['val_loss'])\n",
    "plt.title('Model Loss')\n",
    "plt.ylabel('Loss')\n",
    "plt.xlabel('Epochs')\n",
    "plt.legend(['train', 'validation'], loc = 'upper_right')\n",
    "plt.show()"
   ]
  },
  {
   "cell_type": "markdown",
   "metadata": {},
   "source": [
    "## Word2Vec Model for Word Embeddings:"
   ]
  },
  {
   "cell_type": "code",
   "execution_count": 31,
   "metadata": {},
   "outputs": [
    {
     "name": "stdout",
     "output_type": "stream",
     "text": [
      "[['lil', 'kim'], ['world', 'cup'], ['san', 'diego', 'dui', 'lawyer'], ['stock', 'images'], ['apply', 'credit', 'cards'], ['citifinancial'], ['lil', 'kim'], ['equity', 'loan', 'rates'], ['camcorders', 'camera'], ['degree']]\n",
      "203595\n",
      "Here is the Vocabulary Size .. 729\n"
     ]
    }
   ],
   "source": [
    "######## DEALING WITH KEYWORDS COLUMNS ############:\n",
    "\n",
    "keywords_list = list(new_df['Keyword'])\n",
    "cleaned_keyword_list = list()\n",
    "for line in keywords_list:\n",
    "    rem_token_punc = RegexpTokenizer(r'\\w+')\n",
    "    tokens = rem_token_punc.tokenize(line)\n",
    "    # print(tokens)\n",
    "    words = [w.lower() for w in tokens]\n",
    "    # print(words)\n",
    "    words = [word for word in words if not word in stopwords]\n",
    "    # print(words)\n",
    "    cleaned_keyword_list.append(words)\n",
    "    \n",
    "print(cleaned_keyword_list[:10])\n",
    "print(len(cleaned_keyword_list))\n",
    "\n",
    "EMB_dim = 32\n",
    "\n",
    "# train Word2Vec model\n",
    "model = gensim.models.Word2Vec(sentences = cleaned_keyword_list, size = EMB_dim, workers = 4, min_count = 1)\n",
    "# vocabulary size\n",
    "words = list(model.wv.vocab)\n",
    "print(\"Here is the Vocabulary Size .. %d\" % len(words))"
   ]
  },
  {
   "cell_type": "code",
   "execution_count": 32,
   "metadata": {},
   "outputs": [
    {
     "data": {
      "text/plain": [
       "[('tracking', 0.7874703407287598),\n",
       " ('21', 0.7512573003768921),\n",
       " ('assurance', 0.622692346572876),\n",
       " ('critical', 0.5895940065383911),\n",
       " ('quote', 0.5838733315467834),\n",
       " ('private', 0.5796915888786316),\n",
       " ('whole', 0.5615999698638916),\n",
       " ('term', 0.5520616173744202),\n",
       " ('plans', 0.5479406714439392),\n",
       " ('owners', 0.5463212728500366)]"
      ]
     },
     "execution_count": 32,
     "metadata": {},
     "output_type": "execute_result"
    }
   ],
   "source": [
    "model.wv.most_similar(\"insurance\")"
   ]
  },
  {
   "cell_type": "code",
   "execution_count": 33,
   "metadata": {},
   "outputs": [
    {
     "name": "stdout",
     "output_type": "stream",
     "text": [
      "[-1.1247857   0.5874214   0.36081704 -0.18142487  0.8397575   1.9041008\n",
      "  0.4540054  -0.17217039  0.6587162   0.15736642 -2.1298223  -0.30249652\n",
      " -2.059311    2.4636073  -1.5106937   2.7907934  -1.1095431   0.08096094\n",
      " -1.6099793  -0.8938683   0.3160625   1.1057665  -1.5247617   0.1779569\n",
      " -0.07165117 -1.5879406  -1.4303409  -1.3157313   1.5187339   0.2972652\n",
      " -0.12954785 -0.8807036 ]\n"
     ]
    }
   ],
   "source": [
    "card = model['card']\n",
    "\n",
    "print(card)"
   ]
  },
  {
   "cell_type": "code",
   "execution_count": 36,
   "metadata": {},
   "outputs": [
    {
     "data": {
      "text/plain": [
       "Index(['Date', 'CPC', 'Market', 'CTR', 'Impressions', 'Cost', 'Clicks'], dtype='object')"
      ]
     },
     "execution_count": 36,
     "metadata": {},
     "output_type": "execute_result"
    }
   ],
   "source": [
    "scaled_df.columns"
   ]
  },
  {
   "cell_type": "code",
   "execution_count": 42,
   "metadata": {},
   "outputs": [],
   "source": [
    "inputA = Input(shape=(6,))\n",
    "inputB = Input(shape=(724,))\n",
    " \n",
    "# the first branch operates on the first input\n",
    "x = Dense(8, activation=\"relu\")(inputA)\n",
    "x = Dense(8, activation=\"relu\")(x)\n",
    "x = Dense(8, activation = \"relu\")(x)\n",
    "x = Dense(1, activation = \"linear\")(x)\n",
    "x = Model(inputs=inputA, outputs=x)\n",
    " \n",
    "# the second branch opreates on the second input\n",
    "y = Dense(64, activation=\"relu\")(inputB)\n",
    "y = Dense(32, activation=\"relu\")(y)\n",
    "y = Dense(16, activation=\"relu\")(y)\n",
    "y = Dense(4, activation = \"linear\")(y)\n",
    "y = Model(inputs=inputB, outputs=y)\n",
    " \n",
    "# combine the output of the two branches\n",
    "combined = concatenate([x.output, y.output])\n",
    " \n",
    "# apply a FC layer and then a regression prediction on the\n",
    "# combined outputs\n",
    "z = Dense(8, activation=\"relu\")(combined)\n",
    "z = Dense(8, activation=\"relu\")(z)\n",
    "z = Dense(8, activation = \"relu\")(z)\n",
    "z = Dense(1, activation = \"linear\")(z)\n",
    " \n",
    "# our model will accept the inputs of the two branches and\n",
    "# then output a single value\n",
    "model = Model(inputs=[x.input, y.input], outputs=z)"
   ]
  },
  {
   "cell_type": "code",
   "execution_count": 43,
   "metadata": {},
   "outputs": [],
   "source": [
    "model.compile(optimizer = 'adam', loss = 'mse', metrics = ['accuracy'])"
   ]
  },
  {
   "cell_type": "code",
   "execution_count": 44,
   "metadata": {},
   "outputs": [
    {
     "name": "stdout",
     "output_type": "stream",
     "text": [
      "Train on 142516 samples, validate on 61079 samples\n",
      "Epoch 1/20\n",
      "142516/142516 [==============================] - 12s 86us/step - loss: 2835080.0930 - accuracy: 2.2454e-04 - val_loss: 1321992.9181 - val_accuracy: 8.1861e-05\n",
      "Epoch 2/20\n",
      "142516/142516 [==============================] - 12s 82us/step - loss: 855953.9600 - accuracy: 4.9117e-05 - val_loss: 555922.5004 - val_accuracy: 1.6372e-04\n",
      "Epoch 3/20\n",
      "142516/142516 [==============================] - 12s 82us/step - loss: 548754.9543 - accuracy: 1.4735e-04 - val_loss: 440662.4326 - val_accuracy: 8.1861e-05\n",
      "Epoch 4/20\n",
      "142516/142516 [==============================] - 12s 81us/step - loss: 422542.4697 - accuracy: 9.1218e-05 - val_loss: 382156.0289 - val_accuracy: 3.2744e-05\n",
      "Epoch 5/20\n",
      "142516/142516 [==============================] - 12s 81us/step - loss: 293361.5455 - accuracy: 9.1218e-05 - val_loss: 275304.2907 - val_accuracy: 1.6372e-05\n",
      "Epoch 6/20\n",
      "142516/142516 [==============================] - 12s 83us/step - loss: 202524.1856 - accuracy: 8.4201e-05 - val_loss: 163752.2260 - val_accuracy: 6.5489e-05\n",
      "Epoch 7/20\n",
      "142516/142516 [==============================] - 12s 83us/step - loss: 166464.7079 - accuracy: 1.1928e-04 - val_loss: 142052.2018 - val_accuracy: 2.4558e-04\n",
      "Epoch 8/20\n",
      "142516/142516 [==============================] - 12s 83us/step - loss: 148627.1975 - accuracy: 8.4201e-05 - val_loss: 156484.9750 - val_accuracy: 8.1861e-05\n",
      "Epoch 9/20\n",
      "142516/142516 [==============================] - 12s 82us/step - loss: 132723.4265 - accuracy: 1.6139e-04 - val_loss: 114895.2071 - val_accuracy: 1.4735e-04\n",
      "Epoch 10/20\n",
      "142516/142516 [==============================] - 12s 85us/step - loss: 125273.7856 - accuracy: 1.3332e-04 - val_loss: 105397.4279 - val_accuracy: 2.4558e-04\n",
      "Epoch 11/20\n",
      "142516/142516 [==============================] - 12s 84us/step - loss: 113012.1190 - accuracy: 1.4034e-04 - val_loss: 161906.8946 - val_accuracy: 1.6372e-04\n",
      "Epoch 12/20\n",
      "142516/142516 [==============================] - 12s 85us/step - loss: 108199.5700 - accuracy: 1.3332e-04 - val_loss: 92006.9197 - val_accuracy: 8.1861e-05\n",
      "Epoch 13/20\n",
      "142516/142516 [==============================] - 12s 83us/step - loss: 101904.1106 - accuracy: 1.4034e-04 - val_loss: 77665.4946 - val_accuracy: 1.4735e-04\n",
      "Epoch 14/20\n",
      "142516/142516 [==============================] - 12s 86us/step - loss: 97379.0220 - accuracy: 1.1928e-04 - val_loss: 109514.4664 - val_accuracy: 1.3098e-04\n",
      "Epoch 15/20\n",
      "142516/142516 [==============================] - 12s 84us/step - loss: 92934.9536 - accuracy: 1.2630e-04 - val_loss: 105653.6891 - val_accuracy: 1.3098e-04\n",
      "Epoch 16/20\n",
      "142516/142516 [==============================] - 12s 81us/step - loss: 92486.3076 - accuracy: 1.6840e-04 - val_loss: 75088.4163 - val_accuracy: 6.5489e-05\n",
      "Epoch 17/20\n",
      "142516/142516 [==============================] - 11s 80us/step - loss: 90158.1457 - accuracy: 1.1227e-04 - val_loss: 93487.0118 - val_accuracy: 1.6372e-04\n",
      "Epoch 18/20\n",
      "142516/142516 [==============================] - 12s 84us/step - loss: 88837.4564 - accuracy: 1.4034e-04 - val_loss: 74658.0216 - val_accuracy: 1.3098e-04\n",
      "Epoch 19/20\n",
      "142516/142516 [==============================] - 12s 83us/step - loss: 88961.7432 - accuracy: 1.7542e-04 - val_loss: 79383.2935 - val_accuracy: 1.3098e-04\n",
      "Epoch 20/20\n",
      "142516/142516 [==============================] - 12s 86us/step - loss: 87386.0934 - accuracy: 1.4735e-04 - val_loss: 84894.4657 - val_accuracy: 0.0000e+00\n"
     ]
    }
   ],
   "source": [
    "history = model.fit([X_train, X_text_train], y_train,\n",
    "                   validation_data = ([X_test, X_text_test], y_test), epochs = 20, batch_size = 64)"
   ]
  },
  {
   "cell_type": "code",
   "execution_count": 45,
   "metadata": {},
   "outputs": [
    {
     "data": {
      "text/plain": [
       "dict_keys(['val_loss', 'val_accuracy', 'loss', 'accuracy'])"
      ]
     },
     "execution_count": 45,
     "metadata": {},
     "output_type": "execute_result"
    }
   ],
   "source": [
    "history.history.keys()"
   ]
  },
  {
   "cell_type": "code",
   "execution_count": 46,
   "metadata": {},
   "outputs": [
    {
     "data": {
      "image/png": "[encoded data removed]",
      "text/plain": [
       "<Figure size 864x432 with 1 Axes>"
      ]
     },
     "metadata": {
      "needs_background": "light"
     },
     "output_type": "display_data"
    }
   ],
   "source": [
    "plt.figure(figsize = (12,6))\n",
    "plt.plot(history.history['loss'])\n",
    "plt.plot(history.history['val_loss'])\n",
    "plt.title('Model Loss')\n",
    "plt.ylabel('Loss')\n",
    "plt.xlabel('Epochs')\n",
    "plt.legend(['train', 'validation'], loc = 'upper_right')\n",
    "plt.show()"
   ]
  },
  {
   "cell_type": "markdown",
   "metadata": {},
   "source": [
    "## The TF-IDF Approach"
   ]
  },
  {
   "cell_type": "code",
   "execution_count": 34,
   "metadata": {},
   "outputs": [],
   "source": [
    "from sklearn.feature_extraction.text import TfidfVectorizer"
   ]
  },
  {
   "cell_type": "code",
   "execution_count": 37,
   "metadata": {},
   "outputs": [
    {
     "name": "stdout",
     "output_type": "stream",
     "text": [
      "(142516, 724)\n",
      "(142516,)\n"
     ]
    }
   ],
   "source": [
    "corpus = list(new_df['Keyword'])\n",
    "vectorizer = TfidfVectorizer()\n",
    "\n",
    "tf_corpus = vectorizer.fit_transform(corpus)\n",
    "\n",
    "# print(vectorizer.get_feature_names())\n",
    "# print(len(vectorizer.get_feature_names()))\n",
    "\n",
    "X_text = tf_corpus\n",
    "y = new_df['Clicks']\n",
    "\n",
    "X_text_train, X_text_test, y_train, y_test = train_test_split(X_text, y, test_size = 0.3, random_state = 101)\n",
    "\n",
    "print(X_text_train.shape)\n",
    "print(y_train.shape)\n",
    "\n",
    "model1 = Sequential()\n",
    "\n",
    "model1.add(Dense(8, activation = \"relu\", input_dim = X_text_train.shape[1]))\n",
    "model1.add(Dense(8, activation = \"relu\"))\n",
    "model1.add(Dense(8, activation = \"relu\"))\n",
    "model1.add(Dense(1, activation = \"linear\"))\n",
    "\n",
    "model1.compile(optimizer = \"adam\", loss = \"mse\", metrics = [\"accuracy\"])"
   ]
  },
  {
   "cell_type": "code",
   "execution_count": 38,
   "metadata": {},
   "outputs": [
    {
     "name": "stdout",
     "output_type": "stream",
     "text": [
      "Train on 114012 samples, validate on 28504 samples\n",
      "Epoch 1/50\n",
      "114012/114012 [==============================] - 5s 47us/step - loss: 5037994.5182 - accuracy: 4.2101e-04 - val_loss: 4145988.0971 - val_accuracy: 3.5083e-05\n",
      "Epoch 2/50\n",
      "114012/114012 [==============================] - 5s 47us/step - loss: 4163965.8993 - accuracy: 1.1402e-04 - val_loss: 3360864.2422 - val_accuracy: 5.6132e-04\n",
      "Epoch 3/50\n",
      "114012/114012 [==============================] - 5s 47us/step - loss: 3445954.8107 - accuracy: 2.5436e-04 - val_loss: 2871596.5918 - val_accuracy: 1.4033e-04\n",
      "Epoch 4/50\n",
      "114012/114012 [==============================] - 5s 47us/step - loss: 2964276.9333 - accuracy: 2.5436e-04 - val_loss: 2593728.7538 - val_accuracy: 2.1050e-04\n",
      "Epoch 5/50\n",
      "114012/114012 [==============================] - 5s 47us/step - loss: 2696463.6689 - accuracy: 2.4559e-04 - val_loss: 2439633.3232 - val_accuracy: 1.0525e-04\n",
      "Epoch 6/50\n",
      "114012/114012 [==============================] - 5s 47us/step - loss: 2524556.9869 - accuracy: 2.8944e-04 - val_loss: 2322021.7568 - val_accuracy: 3.8591e-04\n",
      "Epoch 7/50\n",
      "114012/114012 [==============================] - 5s 47us/step - loss: 2401426.4669 - accuracy: 2.9821e-04 - val_loss: 2218474.7320 - val_accuracy: 5.9641e-04\n",
      "Epoch 8/50\n",
      "114012/114012 [==============================] - 5s 47us/step - loss: 2308070.9967 - accuracy: 4.5609e-04 - val_loss: 2136462.5259 - val_accuracy: 5.2624e-04\n",
      "Epoch 9/50\n",
      "114012/114012 [==============================] - 5s 48us/step - loss: 2240834.5967 - accuracy: 4.9118e-04 - val_loss: 2078976.2285 - val_accuracy: 5.2624e-04\n",
      "Epoch 10/50\n",
      "114012/114012 [==============================] - 5s 47us/step - loss: 2198081.8047 - accuracy: 4.3855e-04 - val_loss: 2036229.1191 - val_accuracy: 3.8591e-04\n",
      "Epoch 11/50\n",
      "114012/114012 [==============================] - 5s 47us/step - loss: 2171930.2630 - accuracy: 3.5084e-04 - val_loss: 2006357.6192 - val_accuracy: 3.8591e-04\n",
      "Epoch 12/50\n",
      "114012/114012 [==============================] - 5s 48us/step - loss: 2155726.3174 - accuracy: 3.4207e-04 - val_loss: 1988902.4901 - val_accuracy: 4.2099e-04\n",
      "Epoch 13/50\n",
      "114012/114012 [==============================] - 5s 48us/step - loss: 2148631.5837 - accuracy: 2.1050e-04 - val_loss: 1976742.0804 - val_accuracy: 3.8591e-04\n",
      "Epoch 14/50\n",
      "114012/114012 [==============================] - 5s 48us/step - loss: 2142431.3849 - accuracy: 2.1050e-04 - val_loss: 1967763.4603 - val_accuracy: 3.5083e-04\n",
      "Epoch 15/50\n",
      "114012/114012 [==============================] - 5s 48us/step - loss: 2139955.4346 - accuracy: 2.2805e-04 - val_loss: 1962336.9221 - val_accuracy: 3.5083e-04\n",
      "Epoch 16/50\n",
      "114012/114012 [==============================] - 5s 48us/step - loss: 2136838.7206 - accuracy: 2.1050e-04 - val_loss: 1957205.8859 - val_accuracy: 3.5083e-04\n",
      "Epoch 17/50\n",
      "114012/114012 [==============================] - 5s 48us/step - loss: 2135916.6955 - accuracy: 1.6665e-04 - val_loss: 1958922.3076 - val_accuracy: 3.5083e-04\n",
      "Epoch 18/50\n",
      "114012/114012 [==============================] - 5s 47us/step - loss: 2132835.1978 - accuracy: 1.6665e-04 - val_loss: 1960757.7417 - val_accuracy: 3.8591e-04\n",
      "Epoch 19/50\n",
      "114012/114012 [==============================] - 5s 47us/step - loss: 2135392.2892 - accuracy: 1.6665e-04 - val_loss: 1953351.5426 - val_accuracy: 3.5083e-04\n",
      "Epoch 20/50\n",
      "114012/114012 [==============================] - 5s 47us/step - loss: 2132419.1241 - accuracy: 2.1928e-04 - val_loss: 1955073.8930 - val_accuracy: 3.5083e-05\n",
      "Epoch 21/50\n",
      "114012/114012 [==============================] - 5s 47us/step - loss: 2133218.0005 - accuracy: 1.9296e-04 - val_loss: 1950984.4790 - val_accuracy: 1.0525e-04\n",
      "Epoch 22/50\n",
      "114012/114012 [==============================] - 5s 47us/step - loss: 2131484.5623 - accuracy: 1.8419e-04 - val_loss: 1949794.1510 - val_accuracy: 3.5083e-05\n",
      "Epoch 23/50\n",
      "114012/114012 [==============================] - 5s 47us/step - loss: 2129859.1057 - accuracy: 2.0173e-04 - val_loss: 1959825.7016 - val_accuracy: 2.8066e-04\n",
      "Epoch 24/50\n",
      "114012/114012 [==============================] - 5s 48us/step - loss: 2128713.7359 - accuracy: 1.4034e-04 - val_loss: 1949276.6692 - val_accuracy: 2.8066e-04\n",
      "Epoch 25/50\n",
      "114012/114012 [==============================] - 5s 47us/step - loss: 2125108.9111 - accuracy: 1.4034e-04 - val_loss: 1945987.4630 - val_accuracy: 3.1575e-04\n",
      "Epoch 26/50\n",
      "114012/114012 [==============================] - 5s 48us/step - loss: 2125536.0754 - accuracy: 1.4911e-04 - val_loss: 1939012.8596 - val_accuracy: 2.8066e-04\n",
      "Epoch 27/50\n",
      "114012/114012 [==============================] - 5s 48us/step - loss: 2124627.8020 - accuracy: 1.8419e-04 - val_loss: 1940868.9488 - val_accuracy: 1.4033e-04\n",
      "Epoch 28/50\n",
      "114012/114012 [==============================] - 5s 48us/step - loss: 2123269.7256 - accuracy: 2.1050e-04 - val_loss: 1938964.3747 - val_accuracy: 1.4033e-04\n",
      "Epoch 29/50\n",
      "114012/114012 [==============================] - 5s 48us/step - loss: 2122261.0957 - accuracy: 1.8419e-04 - val_loss: 1936059.8823 - val_accuracy: 1.4033e-04\n",
      "Epoch 30/50\n",
      "114012/114012 [==============================] - 5s 48us/step - loss: 2121495.2650 - accuracy: 1.1402e-04 - val_loss: 1938821.8604 - val_accuracy: 1.4033e-04\n",
      "Epoch 31/50\n",
      "114012/114012 [==============================] - 6s 48us/step - loss: 2122005.3155 - accuracy: 1.4034e-04 - val_loss: 1939674.8989 - val_accuracy: 1.4033e-04\n",
      "Epoch 32/50\n",
      "114012/114012 [==============================] - 6s 48us/step - loss: 2119991.9582 - accuracy: 1.3157e-04 - val_loss: 1944382.7241 - val_accuracy: 1.4033e-04\n",
      "Epoch 33/50\n",
      "114012/114012 [==============================] - 5s 48us/step - loss: 2121030.6952 - accuracy: 1.3157e-04 - val_loss: 1944300.9689 - val_accuracy: 7.0166e-05\n",
      "Epoch 34/50\n",
      "114012/114012 [==============================] - 5s 48us/step - loss: 2116936.0779 - accuracy: 1.5788e-04 - val_loss: 1937991.4049 - val_accuracy: 7.0166e-05\n",
      "Epoch 35/50\n",
      "114012/114012 [==============================] - 6s 48us/step - loss: 2120082.4159 - accuracy: 1.6665e-04 - val_loss: 1935299.0379 - val_accuracy: 7.0166e-05\n",
      "Epoch 36/50\n",
      "114012/114012 [==============================] - 6s 48us/step - loss: 2118405.4163 - accuracy: 1.6665e-04 - val_loss: 1939618.2237 - val_accuracy: 7.0166e-05\n",
      "Epoch 37/50\n",
      "114012/114012 [==============================] - 5s 47us/step - loss: 2117596.8832 - accuracy: 1.2279e-04 - val_loss: 1938054.7742 - val_accuracy: 1.7541e-04\n",
      "Epoch 38/50\n",
      "114012/114012 [==============================] - 5s 48us/step - loss: 2113866.9636 - accuracy: 9.6481e-05 - val_loss: 1944621.2260 - val_accuracy: 1.7541e-04\n",
      "Epoch 39/50\n",
      "114012/114012 [==============================] - 5s 48us/step - loss: 2115858.6962 - accuracy: 1.2279e-04 - val_loss: 1937574.3994 - val_accuracy: 2.1050e-04\n",
      "Epoch 40/50\n",
      "114012/114012 [==============================] - 5s 48us/step - loss: 2115154.1289 - accuracy: 1.2279e-04 - val_loss: 1936822.6055 - val_accuracy: 1.4033e-04\n",
      "Epoch 41/50\n",
      "114012/114012 [==============================] - 5s 48us/step - loss: 2115416.7859 - accuracy: 1.0525e-04 - val_loss: 1935881.4048 - val_accuracy: 1.4033e-04\n",
      "Epoch 42/50\n",
      "114012/114012 [==============================] - 6s 48us/step - loss: 2115078.4040 - accuracy: 1.2279e-04 - val_loss: 1937625.4476 - val_accuracy: 1.4033e-04\n",
      "Epoch 43/50\n",
      "114012/114012 [==============================] - 6s 48us/step - loss: 2113000.0593 - accuracy: 1.5788e-04 - val_loss: 1942771.8187 - val_accuracy: 1.0525e-04\n",
      "Epoch 44/50\n",
      "114012/114012 [==============================] - 6s 49us/step - loss: 2114216.2601 - accuracy: 1.1402e-04 - val_loss: 1938083.3436 - val_accuracy: 1.4033e-04\n",
      "Epoch 45/50\n",
      "114012/114012 [==============================] - 6s 50us/step - loss: 2114010.0584 - accuracy: 1.2279e-04 - val_loss: 1932458.5163 - val_accuracy: 7.0166e-05\n",
      "Epoch 46/50\n",
      "114012/114012 [==============================] - 6s 50us/step - loss: 2112026.7924 - accuracy: 1.2279e-04 - val_loss: 1932195.7700 - val_accuracy: 7.0166e-05\n",
      "Epoch 47/50\n",
      "114012/114012 [==============================] - 5s 48us/step - loss: 2111816.0292 - accuracy: 1.3157e-04 - val_loss: 1934305.9619 - val_accuracy: 7.0166e-05\n",
      "Epoch 48/50\n",
      "114012/114012 [==============================] - 6s 48us/step - loss: 2113106.4625 - accuracy: 1.4911e-04 - val_loss: 1932230.0968 - val_accuracy: 2.1050e-04\n"
     ]
    },
    {
     "name": "stdout",
     "output_type": "stream",
     "text": [
      "Epoch 49/50\n",
      "114012/114012 [==============================] - 5s 45us/step - loss: 2111255.4322 - accuracy: 1.7542e-04 - val_loss: 1932879.4025 - val_accuracy: 2.1050e-04\n",
      "Epoch 50/50\n",
      "114012/114012 [==============================] - 5s 45us/step - loss: 2108141.0520 - accuracy: 1.5788e-04 - val_loss: 1932905.3424 - val_accuracy: 1.7541e-04\n"
     ]
    }
   ],
   "source": [
    "history = model1.fit(x = X_text_train, y = y_train, batch_size = 64, epochs = 50,\n",
    "         verbose = 1, validation_split = 0.2)"
   ]
  },
  {
   "cell_type": "code",
   "execution_count": 39,
   "metadata": {},
   "outputs": [
    {
     "data": {
      "text/plain": [
       "dict_keys(['val_loss', 'val_accuracy', 'loss', 'accuracy'])"
      ]
     },
     "execution_count": 39,
     "metadata": {},
     "output_type": "execute_result"
    }
   ],
   "source": [
    "history.history.keys()"
   ]
  },
  {
   "cell_type": "code",
   "execution_count": 40,
   "metadata": {},
   "outputs": [
    {
     "data": {
      "image/png": "[encoded data removed]",
      "text/plain": [
       "<Figure size 864x432 with 1 Axes>"
      ]
     },
     "metadata": {
      "needs_background": "light"
     },
     "output_type": "display_data"
    }
   ],
   "source": [
    "plt.figure(figsize = (12,6))\n",
    "plt.plot(history.history['loss'])\n",
    "plt.plot(history.history['val_loss'])\n",
    "plt.title('Model Loss')\n",
    "plt.ylabel('Loss')\n",
    "plt.xlabel('Epochs')\n",
    "plt.legend(['train', 'validation'], loc = 'upper_right')\n",
    "plt.show()"
   ]
  },
  {
   "cell_type": "code",
   "execution_count": null,
   "metadata": {},
   "outputs": [],
   "source": []
  }
 ],
 "metadata": {
  "kernelspec": {
   "display_name": "Python 3",
   "language": "python",
   "name": "python3"
  },
  "language_info": {
   "codemirror_mode": {
    "name": "ipython",
    "version": 3
   },
   "file_extension": ".py",
   "mimetype": "text/x-python",
   "name": "python",
   "nbconvert_exporter": "python",
   "pygments_lexer": "ipython3",
   "version": "3.7.4"
  }
 },
 "nbformat": 4,
 "nbformat_minor": 2
}
