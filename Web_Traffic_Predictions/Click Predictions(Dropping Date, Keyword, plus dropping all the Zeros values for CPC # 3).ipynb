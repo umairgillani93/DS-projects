{
 "cells": [
  {
   "cell_type": "markdown",
   "metadata": {},
   "source": [
    "## Loading Dataset and Importing Libraries:"
   ]
  },
  {
   "cell_type": "code",
   "execution_count": 401,
   "metadata": {},
   "outputs": [],
   "source": [
    "import numpy as np\n",
    "import pandas as pd\n",
    "import matplotlib.pyplot as plt\n",
    "import seaborn as sns\n",
    "import warnings\n",
    "import tensorflow as tf \n",
    "import gensim\n",
    "import spacy\n",
    "import nltk\n",
    "from sklearn.model_selection import train_test_split\n",
    "from sklearn.linear_model import LinearRegression\n",
    "from sklearn.utils import shuffle # we can also shuffle in input_func with tensorflow\n",
    "warnings.filterwarnings(\"ignore\")\n",
    "\n",
    "%matplotlib inline"
   ]
  },
  {
   "cell_type": "code",
   "execution_count": 388,
   "metadata": {},
   "outputs": [],
   "source": [
    "df = pd.read_csv('SEM_KeyWord_Dataset.csv')"
   ]
  },
  {
   "cell_type": "code",
   "execution_count": 389,
   "metadata": {},
   "outputs": [
    {
     "data": {
      "text/html": [
       "<div>\n",
       "<style scoped>\n",
       "    .dataframe tbody tr th:only-of-type {\n",
       "        vertical-align: middle;\n",
       "    }\n",
       "\n",
       "    .dataframe tbody tr th {\n",
       "        vertical-align: top;\n",
       "    }\n",
       "\n",
       "    .dataframe thead th {\n",
       "        text-align: right;\n",
       "    }\n",
       "</style>\n",
       "<table border=\"1\" class=\"dataframe\">\n",
       "  <thead>\n",
       "    <tr style=\"text-align: right;\">\n",
       "      <th></th>\n",
       "      <th>Date</th>\n",
       "      <th>Market</th>\n",
       "      <th>Keyword</th>\n",
       "      <th>Average.Position</th>\n",
       "      <th>CPC</th>\n",
       "      <th>Clicks</th>\n",
       "      <th>CTR</th>\n",
       "      <th>Impressions</th>\n",
       "      <th>Cost</th>\n",
       "    </tr>\n",
       "  </thead>\n",
       "  <tbody>\n",
       "    <tr>\n",
       "      <th>0</th>\n",
       "      <td>20120524</td>\n",
       "      <td>US-Market</td>\n",
       "      <td>secure online back up</td>\n",
       "      <td>0.0</td>\n",
       "      <td>0.0</td>\n",
       "      <td>0.00</td>\n",
       "      <td>0.00%</td>\n",
       "      <td>0.0</td>\n",
       "      <td>0.00</td>\n",
       "    </tr>\n",
       "    <tr>\n",
       "      <th>1</th>\n",
       "      <td>20120524</td>\n",
       "      <td>US-Market</td>\n",
       "      <td>agile management software</td>\n",
       "      <td>1.0</td>\n",
       "      <td>1.2</td>\n",
       "      <td>21.22</td>\n",
       "      <td>8.20%</td>\n",
       "      <td>260.0</td>\n",
       "      <td>25.45</td>\n",
       "    </tr>\n",
       "    <tr>\n",
       "      <th>2</th>\n",
       "      <td>20120524</td>\n",
       "      <td>US-Market</td>\n",
       "      <td>crm for financial</td>\n",
       "      <td>0.0</td>\n",
       "      <td>0.0</td>\n",
       "      <td>0.00</td>\n",
       "      <td>0.00%</td>\n",
       "      <td>0.0</td>\n",
       "      <td>0.00</td>\n",
       "    </tr>\n",
       "    <tr>\n",
       "      <th>3</th>\n",
       "      <td>20120524</td>\n",
       "      <td>US-Market</td>\n",
       "      <td>disaster recovery planning for it</td>\n",
       "      <td>0.0</td>\n",
       "      <td>0.0</td>\n",
       "      <td>0.00</td>\n",
       "      <td>0.00%</td>\n",
       "      <td>0.0</td>\n",
       "      <td>0.00</td>\n",
       "    </tr>\n",
       "    <tr>\n",
       "      <th>4</th>\n",
       "      <td>20120524</td>\n",
       "      <td>US-Market</td>\n",
       "      <td>tracking a vehicle</td>\n",
       "      <td>0.0</td>\n",
       "      <td>0.0</td>\n",
       "      <td>0.00</td>\n",
       "      <td>0.00%</td>\n",
       "      <td>0.0</td>\n",
       "      <td>0.00</td>\n",
       "    </tr>\n",
       "  </tbody>\n",
       "</table>\n",
       "</div>"
      ],
      "text/plain": [
       "       Date     Market                            Keyword  Average.Position  \\\n",
       "0  20120524  US-Market              secure online back up               0.0   \n",
       "1  20120524  US-Market          agile management software               1.0   \n",
       "2  20120524  US-Market                  crm for financial               0.0   \n",
       "3  20120524  US-Market  disaster recovery planning for it               0.0   \n",
       "4  20120524  US-Market                 tracking a vehicle               0.0   \n",
       "\n",
       "   CPC  Clicks    CTR  Impressions   Cost  \n",
       "0  0.0    0.00  0.00%          0.0   0.00  \n",
       "1  1.2   21.22  8.20%        260.0  25.45  \n",
       "2  0.0    0.00  0.00%          0.0   0.00  \n",
       "3  0.0    0.00  0.00%          0.0   0.00  \n",
       "4  0.0    0.00  0.00%          0.0   0.00  "
      ]
     },
     "execution_count": 389,
     "metadata": {},
     "output_type": "execute_result"
    }
   ],
   "source": [
    "df.head()"
   ]
  },
  {
   "cell_type": "code",
   "execution_count": 380,
   "metadata": {},
   "outputs": [
    {
     "name": "stdout",
     "output_type": "stream",
     "text": [
      "<class 'pandas.core.frame.DataFrame'>\n",
      "Int64Index: 352540 entries, 0 to 356053\n",
      "Data columns (total 9 columns):\n",
      "Date                352540 non-null int64\n",
      "Market              352540 non-null object\n",
      "Keyword             352540 non-null object\n",
      "Average.Position    352540 non-null float64\n",
      "CPC                 352540 non-null float64\n",
      "Clicks              352540 non-null float64\n",
      "CTR                 352540 non-null float64\n",
      "Impressions         352540 non-null float64\n",
      "Cost                352540 non-null float64\n",
      "dtypes: float64(6), int64(1), object(2)\n",
      "memory usage: 26.9+ MB\n"
     ]
    }
   ],
   "source": [
    "df.info()"
   ]
  },
  {
   "cell_type": "code",
   "execution_count": 381,
   "metadata": {},
   "outputs": [
    {
     "data": {
      "text/html": [
       "<div>\n",
       "<style scoped>\n",
       "    .dataframe tbody tr th:only-of-type {\n",
       "        vertical-align: middle;\n",
       "    }\n",
       "\n",
       "    .dataframe tbody tr th {\n",
       "        vertical-align: top;\n",
       "    }\n",
       "\n",
       "    .dataframe thead th {\n",
       "        text-align: right;\n",
       "    }\n",
       "</style>\n",
       "<table border=\"1\" class=\"dataframe\">\n",
       "  <thead>\n",
       "    <tr style=\"text-align: right;\">\n",
       "      <th></th>\n",
       "      <th>Date</th>\n",
       "      <th>Average.Position</th>\n",
       "      <th>CPC</th>\n",
       "      <th>Clicks</th>\n",
       "      <th>CTR</th>\n",
       "      <th>Impressions</th>\n",
       "      <th>Cost</th>\n",
       "    </tr>\n",
       "  </thead>\n",
       "  <tbody>\n",
       "    <tr>\n",
       "      <th>count</th>\n",
       "      <td>3.525400e+05</td>\n",
       "      <td>352540.000000</td>\n",
       "      <td>352540.000000</td>\n",
       "      <td>352540.000000</td>\n",
       "      <td>352540.000000</td>\n",
       "      <td>3.525400e+05</td>\n",
       "      <td>352540.000000</td>\n",
       "    </tr>\n",
       "    <tr>\n",
       "      <th>mean</th>\n",
       "      <td>2.012271e+07</td>\n",
       "      <td>0.611163</td>\n",
       "      <td>14.287964</td>\n",
       "      <td>220.299838</td>\n",
       "      <td>1.630900</td>\n",
       "      <td>9.758862e+03</td>\n",
       "      <td>1900.441204</td>\n",
       "    </tr>\n",
       "    <tr>\n",
       "      <th>std</th>\n",
       "      <td>3.589467e+03</td>\n",
       "      <td>0.644052</td>\n",
       "      <td>37.882436</td>\n",
       "      <td>1719.222177</td>\n",
       "      <td>2.033744</td>\n",
       "      <td>7.145521e+04</td>\n",
       "      <td>10060.075649</td>\n",
       "    </tr>\n",
       "    <tr>\n",
       "      <th>min</th>\n",
       "      <td>2.012052e+07</td>\n",
       "      <td>0.000000</td>\n",
       "      <td>0.000000</td>\n",
       "      <td>0.000000</td>\n",
       "      <td>0.000000</td>\n",
       "      <td>0.000000e+00</td>\n",
       "      <td>0.000000</td>\n",
       "    </tr>\n",
       "    <tr>\n",
       "      <th>25%</th>\n",
       "      <td>2.012090e+07</td>\n",
       "      <td>0.000000</td>\n",
       "      <td>0.000000</td>\n",
       "      <td>0.000000</td>\n",
       "      <td>0.000000</td>\n",
       "      <td>0.000000e+00</td>\n",
       "      <td>0.000000</td>\n",
       "    </tr>\n",
       "    <tr>\n",
       "      <th>50%</th>\n",
       "      <td>2.012102e+07</td>\n",
       "      <td>1.000000</td>\n",
       "      <td>1.080000</td>\n",
       "      <td>2.090000</td>\n",
       "      <td>0.800000</td>\n",
       "      <td>1.270000e+02</td>\n",
       "      <td>7.930000</td>\n",
       "    </tr>\n",
       "    <tr>\n",
       "      <th>75%</th>\n",
       "      <td>2.012122e+07</td>\n",
       "      <td>1.000000</td>\n",
       "      <td>12.070000</td>\n",
       "      <td>34.870000</td>\n",
       "      <td>2.800000</td>\n",
       "      <td>1.553000e+03</td>\n",
       "      <td>369.810000</td>\n",
       "    </tr>\n",
       "    <tr>\n",
       "      <th>max</th>\n",
       "      <td>2.013021e+07</td>\n",
       "      <td>12.000000</td>\n",
       "      <td>632.730000</td>\n",
       "      <td>89233.580000</td>\n",
       "      <td>23.700000</td>\n",
       "      <td>3.666042e+06</td>\n",
       "      <td>285716.050000</td>\n",
       "    </tr>\n",
       "  </tbody>\n",
       "</table>\n",
       "</div>"
      ],
      "text/plain": [
       "               Date  Average.Position            CPC         Clicks  \\\n",
       "count  3.525400e+05     352540.000000  352540.000000  352540.000000   \n",
       "mean   2.012271e+07          0.611163      14.287964     220.299838   \n",
       "std    3.589467e+03          0.644052      37.882436    1719.222177   \n",
       "min    2.012052e+07          0.000000       0.000000       0.000000   \n",
       "25%    2.012090e+07          0.000000       0.000000       0.000000   \n",
       "50%    2.012102e+07          1.000000       1.080000       2.090000   \n",
       "75%    2.012122e+07          1.000000      12.070000      34.870000   \n",
       "max    2.013021e+07         12.000000     632.730000   89233.580000   \n",
       "\n",
       "                 CTR   Impressions           Cost  \n",
       "count  352540.000000  3.525400e+05  352540.000000  \n",
       "mean        1.630900  9.758862e+03    1900.441204  \n",
       "std         2.033744  7.145521e+04   10060.075649  \n",
       "min         0.000000  0.000000e+00       0.000000  \n",
       "25%         0.000000  0.000000e+00       0.000000  \n",
       "50%         0.800000  1.270000e+02       7.930000  \n",
       "75%         2.800000  1.553000e+03     369.810000  \n",
       "max        23.700000  3.666042e+06  285716.050000  "
      ]
     },
     "execution_count": 381,
     "metadata": {},
     "output_type": "execute_result"
    }
   ],
   "source": [
    "df.describe()"
   ]
  },
  {
   "cell_type": "markdown",
   "metadata": {},
   "source": [
    "## Data Pre-processing:"
   ]
  },
  {
   "cell_type": "code",
   "execution_count": 390,
   "metadata": {},
   "outputs": [
    {
     "data": {
      "text/html": [
       "<div>\n",
       "<style scoped>\n",
       "    .dataframe tbody tr th:only-of-type {\n",
       "        vertical-align: middle;\n",
       "    }\n",
       "\n",
       "    .dataframe tbody tr th {\n",
       "        vertical-align: top;\n",
       "    }\n",
       "\n",
       "    .dataframe thead th {\n",
       "        text-align: right;\n",
       "    }\n",
       "</style>\n",
       "<table border=\"1\" class=\"dataframe\">\n",
       "  <thead>\n",
       "    <tr style=\"text-align: right;\">\n",
       "      <th></th>\n",
       "      <th>Date</th>\n",
       "      <th>Market</th>\n",
       "      <th>Keyword</th>\n",
       "      <th>Average.Position</th>\n",
       "      <th>CPC</th>\n",
       "      <th>Clicks</th>\n",
       "      <th>CTR</th>\n",
       "      <th>Impressions</th>\n",
       "      <th>Cost</th>\n",
       "    </tr>\n",
       "  </thead>\n",
       "  <tbody>\n",
       "    <tr>\n",
       "      <th>0</th>\n",
       "      <td>20120524</td>\n",
       "      <td>US-Market</td>\n",
       "      <td>secure online back up</td>\n",
       "      <td>0.0</td>\n",
       "      <td>0.0</td>\n",
       "      <td>0.00</td>\n",
       "      <td>0.0</td>\n",
       "      <td>0.0</td>\n",
       "      <td>0.00</td>\n",
       "    </tr>\n",
       "    <tr>\n",
       "      <th>1</th>\n",
       "      <td>20120524</td>\n",
       "      <td>US-Market</td>\n",
       "      <td>agile management software</td>\n",
       "      <td>1.0</td>\n",
       "      <td>1.2</td>\n",
       "      <td>21.22</td>\n",
       "      <td>8.2</td>\n",
       "      <td>260.0</td>\n",
       "      <td>25.45</td>\n",
       "    </tr>\n",
       "    <tr>\n",
       "      <th>2</th>\n",
       "      <td>20120524</td>\n",
       "      <td>US-Market</td>\n",
       "      <td>crm for financial</td>\n",
       "      <td>0.0</td>\n",
       "      <td>0.0</td>\n",
       "      <td>0.00</td>\n",
       "      <td>0.0</td>\n",
       "      <td>0.0</td>\n",
       "      <td>0.00</td>\n",
       "    </tr>\n",
       "    <tr>\n",
       "      <th>3</th>\n",
       "      <td>20120524</td>\n",
       "      <td>US-Market</td>\n",
       "      <td>disaster recovery planning for it</td>\n",
       "      <td>0.0</td>\n",
       "      <td>0.0</td>\n",
       "      <td>0.00</td>\n",
       "      <td>0.0</td>\n",
       "      <td>0.0</td>\n",
       "      <td>0.00</td>\n",
       "    </tr>\n",
       "    <tr>\n",
       "      <th>4</th>\n",
       "      <td>20120524</td>\n",
       "      <td>US-Market</td>\n",
       "      <td>tracking a vehicle</td>\n",
       "      <td>0.0</td>\n",
       "      <td>0.0</td>\n",
       "      <td>0.00</td>\n",
       "      <td>0.0</td>\n",
       "      <td>0.0</td>\n",
       "      <td>0.00</td>\n",
       "    </tr>\n",
       "  </tbody>\n",
       "</table>\n",
       "</div>"
      ],
      "text/plain": [
       "       Date     Market                            Keyword  Average.Position  \\\n",
       "0  20120524  US-Market              secure online back up               0.0   \n",
       "1  20120524  US-Market          agile management software               1.0   \n",
       "2  20120524  US-Market                  crm for financial               0.0   \n",
       "3  20120524  US-Market  disaster recovery planning for it               0.0   \n",
       "4  20120524  US-Market                 tracking a vehicle               0.0   \n",
       "\n",
       "   CPC  Clicks  CTR  Impressions   Cost  \n",
       "0  0.0    0.00  0.0          0.0   0.00  \n",
       "1  1.2   21.22  8.2        260.0  25.45  \n",
       "2  0.0    0.00  0.0          0.0   0.00  \n",
       "3  0.0    0.00  0.0          0.0   0.00  \n",
       "4  0.0    0.00  0.0          0.0   0.00  "
      ]
     },
     "execution_count": 390,
     "metadata": {},
     "output_type": "execute_result"
    }
   ],
   "source": [
    "df['CTR'] = df['CTR'].apply(lambda x: float(str(x).replace('%', ''))) # remove extra character string\n",
    "\n",
    "df = df.dropna() # drop the null values \n",
    "\n",
    "# df['Market'] = pd.get_dummies(df['Market']) # set dummies for market feature (binary)\n",
    "\n",
    "df.head() # check head"
   ]
  },
  {
   "cell_type": "code",
   "execution_count": 392,
   "metadata": {},
   "outputs": [
    {
     "name": "stdout",
     "output_type": "stream",
     "text": [
      "2\n",
      "US-Market    229163\n",
      "UK-Market    123377\n",
      "Name: Market, dtype: int64\n"
     ]
    }
   ],
   "source": [
    "print(df['Market'].nunique())\n",
    "print(df['Market'].value_counts())\n",
    "\n",
    "# since market is an important column, on which we'll be forecasting\n",
    "# we need to somehow use this in our training data"
   ]
  },
  {
   "cell_type": "code",
   "execution_count": 397,
   "metadata": {},
   "outputs": [
    {
     "data": {
      "text/plain": [
       "<matplotlib.axes._subplots.AxesSubplot at 0x7f05cfefc208>"
      ]
     },
     "execution_count": 397,
     "metadata": {},
     "output_type": "execute_result"
    },
    {
     "data": {
      "image/png": "[encoded data removed]",
      "text/plain": [
       "<Figure size 864x432 with 2 Axes>"
      ]
     },
     "metadata": {
      "needs_background": "light"
     },
     "output_type": "display_data"
    }
   ],
   "source": [
    "# Let's quickly make sure we are not left with any null value in out data set\n",
    "plt.figure(figsize = (12,6))\n",
    "sns.heatmap(df.isnull(), cmap = 'YlGnBu')"
   ]
  },
  {
   "cell_type": "code",
   "execution_count": 448,
   "metadata": {},
   "outputs": [
    {
     "name": "stdout",
     "output_type": "stream",
     "text": [
      "<class 'pandas.core.frame.DataFrame'>\n",
      "Int64Index: 203595 entries, 1 to 356039\n",
      "Data columns (total 9 columns):\n",
      "Date                203595 non-null int64\n",
      "Market              203595 non-null int64\n",
      "Keyword             203595 non-null object\n",
      "Average.Position    203595 non-null float64\n",
      "CPC                 203595 non-null float64\n",
      "Clicks              203595 non-null float64\n",
      "CTR                 203595 non-null float64\n",
      "Impressions         203595 non-null float64\n",
      "Cost                203595 non-null float64\n",
      "dtypes: float64(6), int64(2), object(1)\n",
      "memory usage: 15.5+ MB\n"
     ]
    },
    {
     "data": {
      "text/html": [
       "<div>\n",
       "<style scoped>\n",
       "    .dataframe tbody tr th:only-of-type {\n",
       "        vertical-align: middle;\n",
       "    }\n",
       "\n",
       "    .dataframe tbody tr th {\n",
       "        vertical-align: top;\n",
       "    }\n",
       "\n",
       "    .dataframe thead th {\n",
       "        text-align: right;\n",
       "    }\n",
       "</style>\n",
       "<table border=\"1\" class=\"dataframe\">\n",
       "  <thead>\n",
       "    <tr style=\"text-align: right;\">\n",
       "      <th></th>\n",
       "      <th>Date</th>\n",
       "      <th>Market</th>\n",
       "      <th>Keyword</th>\n",
       "      <th>Average.Position</th>\n",
       "      <th>CPC</th>\n",
       "      <th>Clicks</th>\n",
       "      <th>CTR</th>\n",
       "      <th>Impressions</th>\n",
       "      <th>Cost</th>\n",
       "    </tr>\n",
       "  </thead>\n",
       "  <tbody>\n",
       "    <tr>\n",
       "      <th>1</th>\n",
       "      <td>20120524</td>\n",
       "      <td>0</td>\n",
       "      <td>agile management software</td>\n",
       "      <td>1.0</td>\n",
       "      <td>1.20</td>\n",
       "      <td>21.22</td>\n",
       "      <td>8.2</td>\n",
       "      <td>260.0</td>\n",
       "      <td>25.45</td>\n",
       "    </tr>\n",
       "    <tr>\n",
       "      <th>9</th>\n",
       "      <td>20120524</td>\n",
       "      <td>0</td>\n",
       "      <td>android app developers</td>\n",
       "      <td>1.0</td>\n",
       "      <td>0.66</td>\n",
       "      <td>23.31</td>\n",
       "      <td>8.6</td>\n",
       "      <td>270.0</td>\n",
       "      <td>15.31</td>\n",
       "    </tr>\n",
       "    <tr>\n",
       "      <th>13</th>\n",
       "      <td>20120524</td>\n",
       "      <td>0</td>\n",
       "      <td>android application developer</td>\n",
       "      <td>1.0</td>\n",
       "      <td>1.02</td>\n",
       "      <td>46.92</td>\n",
       "      <td>8.6</td>\n",
       "      <td>546.0</td>\n",
       "      <td>47.77</td>\n",
       "    </tr>\n",
       "    <tr>\n",
       "      <th>14</th>\n",
       "      <td>20120524</td>\n",
       "      <td>0</td>\n",
       "      <td>android app developer</td>\n",
       "      <td>1.0</td>\n",
       "      <td>1.30</td>\n",
       "      <td>147.46</td>\n",
       "      <td>6.0</td>\n",
       "      <td>2469.0</td>\n",
       "      <td>191.99</td>\n",
       "    </tr>\n",
       "    <tr>\n",
       "      <th>17</th>\n",
       "      <td>20120524</td>\n",
       "      <td>0</td>\n",
       "      <td>mobile applications developers</td>\n",
       "      <td>1.0</td>\n",
       "      <td>0.57</td>\n",
       "      <td>21.69</td>\n",
       "      <td>8.3</td>\n",
       "      <td>260.0</td>\n",
       "      <td>12.31</td>\n",
       "    </tr>\n",
       "    <tr>\n",
       "      <th>19</th>\n",
       "      <td>20120524</td>\n",
       "      <td>0</td>\n",
       "      <td>cloud computing for dummies</td>\n",
       "      <td>1.0</td>\n",
       "      <td>0.50</td>\n",
       "      <td>37.89</td>\n",
       "      <td>11.4</td>\n",
       "      <td>330.0</td>\n",
       "      <td>19.10</td>\n",
       "    </tr>\n",
       "    <tr>\n",
       "      <th>24</th>\n",
       "      <td>20120524</td>\n",
       "      <td>0</td>\n",
       "      <td>apps development</td>\n",
       "      <td>1.0</td>\n",
       "      <td>0.69</td>\n",
       "      <td>23.69</td>\n",
       "      <td>5.5</td>\n",
       "      <td>433.0</td>\n",
       "      <td>16.25</td>\n",
       "    </tr>\n",
       "    <tr>\n",
       "      <th>27</th>\n",
       "      <td>20120524</td>\n",
       "      <td>0</td>\n",
       "      <td>mobile apps developers</td>\n",
       "      <td>1.0</td>\n",
       "      <td>2.53</td>\n",
       "      <td>22.94</td>\n",
       "      <td>4.3</td>\n",
       "      <td>529.0</td>\n",
       "      <td>58.04</td>\n",
       "    </tr>\n",
       "    <tr>\n",
       "      <th>28</th>\n",
       "      <td>20120524</td>\n",
       "      <td>0</td>\n",
       "      <td>joomla designers</td>\n",
       "      <td>1.0</td>\n",
       "      <td>1.37</td>\n",
       "      <td>17.84</td>\n",
       "      <td>6.6</td>\n",
       "      <td>268.0</td>\n",
       "      <td>24.36</td>\n",
       "    </tr>\n",
       "    <tr>\n",
       "      <th>44</th>\n",
       "      <td>20120524</td>\n",
       "      <td>0</td>\n",
       "      <td>ink 8560</td>\n",
       "      <td>1.0</td>\n",
       "      <td>1.59</td>\n",
       "      <td>0.26</td>\n",
       "      <td>0.1</td>\n",
       "      <td>216.0</td>\n",
       "      <td>0.41</td>\n",
       "    </tr>\n",
       "  </tbody>\n",
       "</table>\n",
       "</div>"
      ],
      "text/plain": [
       "        Date  Market                         Keyword  Average.Position   CPC  \\\n",
       "1   20120524       0       agile management software               1.0  1.20   \n",
       "9   20120524       0          android app developers               1.0  0.66   \n",
       "13  20120524       0   android application developer               1.0  1.02   \n",
       "14  20120524       0           android app developer               1.0  1.30   \n",
       "17  20120524       0  mobile applications developers               1.0  0.57   \n",
       "19  20120524       0     cloud computing for dummies               1.0  0.50   \n",
       "24  20120524       0                apps development               1.0  0.69   \n",
       "27  20120524       0          mobile apps developers               1.0  2.53   \n",
       "28  20120524       0                joomla designers               1.0  1.37   \n",
       "44  20120524       0                        ink 8560               1.0  1.59   \n",
       "\n",
       "    Clicks   CTR  Impressions    Cost  \n",
       "1    21.22   8.2        260.0   25.45  \n",
       "9    23.31   8.6        270.0   15.31  \n",
       "13   46.92   8.6        546.0   47.77  \n",
       "14  147.46   6.0       2469.0  191.99  \n",
       "17   21.69   8.3        260.0   12.31  \n",
       "19   37.89  11.4        330.0   19.10  \n",
       "24   23.69   5.5        433.0   16.25  \n",
       "27   22.94   4.3        529.0   58.04  \n",
       "28   17.84   6.6        268.0   24.36  \n",
       "44    0.26   0.1        216.0    0.41  "
      ]
     },
     "execution_count": 448,
     "metadata": {},
     "output_type": "execute_result"
    }
   ],
   "source": [
    "# Now as we can see we have a lot of values that are \"zeros\"\n",
    "# having those values in our data set make the model not learn properly and might overfit\n",
    "# due to the repeated nature. So we might wanna eliminate those zero values \n",
    "# from our data set \n",
    "\n",
    "mapped_market = {'US-Market': 0, 'UK-Market': 1}\n",
    "\n",
    "new_df = df[df['CPC'] != 0]\n",
    "new_df['Market'] = new_df[\"Market\"].map(mapped_market) # map the market values with 1's and 0's\n",
    "new_df.info() # new data set with \"CPC\" not equals to \"Zero\"\n",
    "new_df.head(10)\n",
    "\n",
    "# Now we have 2 data sets\n",
    "# one with all the observations i.e with \"CPC\" having zero values\n",
    "# other, having \"CPC\" not equals to zero"
   ]
  },
  {
   "cell_type": "code",
   "execution_count": 449,
   "metadata": {},
   "outputs": [
    {
     "data": {
      "text/html": [
       "<div>\n",
       "<style scoped>\n",
       "    .dataframe tbody tr th:only-of-type {\n",
       "        vertical-align: middle;\n",
       "    }\n",
       "\n",
       "    .dataframe tbody tr th {\n",
       "        vertical-align: top;\n",
       "    }\n",
       "\n",
       "    .dataframe thead th {\n",
       "        text-align: right;\n",
       "    }\n",
       "</style>\n",
       "<table border=\"1\" class=\"dataframe\">\n",
       "  <thead>\n",
       "    <tr style=\"text-align: right;\">\n",
       "      <th></th>\n",
       "      <th>Date</th>\n",
       "      <th>Market</th>\n",
       "      <th>Keyword</th>\n",
       "      <th>Average.Position</th>\n",
       "      <th>CPC</th>\n",
       "      <th>Clicks</th>\n",
       "      <th>CTR</th>\n",
       "      <th>Impressions</th>\n",
       "      <th>Cost</th>\n",
       "    </tr>\n",
       "  </thead>\n",
       "  <tbody>\n",
       "    <tr>\n",
       "      <th>181217</th>\n",
       "      <td>20121120</td>\n",
       "      <td>0</td>\n",
       "      <td>quotes</td>\n",
       "      <td>1.0</td>\n",
       "      <td>0.61</td>\n",
       "      <td>1413.83</td>\n",
       "      <td>2.3</td>\n",
       "      <td>61989.0</td>\n",
       "      <td>865.11</td>\n",
       "    </tr>\n",
       "    <tr>\n",
       "      <th>76036</th>\n",
       "      <td>20121125</td>\n",
       "      <td>0</td>\n",
       "      <td>att go</td>\n",
       "      <td>1.0</td>\n",
       "      <td>0.57</td>\n",
       "      <td>16.29</td>\n",
       "      <td>3.6</td>\n",
       "      <td>446.0</td>\n",
       "      <td>9.23</td>\n",
       "    </tr>\n",
       "    <tr>\n",
       "      <th>189221</th>\n",
       "      <td>20121203</td>\n",
       "      <td>0</td>\n",
       "      <td>credit card services</td>\n",
       "      <td>1.0</td>\n",
       "      <td>20.30</td>\n",
       "      <td>118.50</td>\n",
       "      <td>4.1</td>\n",
       "      <td>2899.0</td>\n",
       "      <td>2405.90</td>\n",
       "    </tr>\n",
       "    <tr>\n",
       "      <th>334473</th>\n",
       "      <td>20130105</td>\n",
       "      <td>1</td>\n",
       "      <td>consumer credit</td>\n",
       "      <td>1.0</td>\n",
       "      <td>6.25</td>\n",
       "      <td>5.34</td>\n",
       "      <td>2.0</td>\n",
       "      <td>265.0</td>\n",
       "      <td>33.42</td>\n",
       "    </tr>\n",
       "    <tr>\n",
       "      <th>308438</th>\n",
       "      <td>20121125</td>\n",
       "      <td>1</td>\n",
       "      <td>adwords marketing</td>\n",
       "      <td>1.0</td>\n",
       "      <td>48.88</td>\n",
       "      <td>2.25</td>\n",
       "      <td>3.5</td>\n",
       "      <td>64.0</td>\n",
       "      <td>109.89</td>\n",
       "    </tr>\n",
       "  </tbody>\n",
       "</table>\n",
       "</div>"
      ],
      "text/plain": [
       "            Date  Market               Keyword  Average.Position    CPC  \\\n",
       "181217  20121120       0                quotes               1.0   0.61   \n",
       "76036   20121125       0                att go               1.0   0.57   \n",
       "189221  20121203       0  credit card services               1.0  20.30   \n",
       "334473  20130105       1       consumer credit               1.0   6.25   \n",
       "308438  20121125       1     adwords marketing               1.0  48.88   \n",
       "\n",
       "         Clicks  CTR  Impressions     Cost  \n",
       "181217  1413.83  2.3      61989.0   865.11  \n",
       "76036     16.29  3.6        446.0     9.23  \n",
       "189221   118.50  4.1       2899.0  2405.90  \n",
       "334473     5.34  2.0        265.0    33.42  \n",
       "308438     2.25  3.5         64.0   109.89  "
      ]
     },
     "execution_count": 449,
     "metadata": {},
     "output_type": "execute_result"
    }
   ],
   "source": [
    "new_df = shuffle(new_df)\n",
    "new_df.head()"
   ]
  },
  {
   "cell_type": "markdown",
   "metadata": {},
   "source": [
    "## Data Visualization:"
   ]
  },
  {
   "cell_type": "code",
   "execution_count": 450,
   "metadata": {},
   "outputs": [
    {
     "data": {
      "text/plain": [
       "<matplotlib.axes._subplots.AxesSubplot at 0x7f0616b53a90>"
      ]
     },
     "execution_count": 450,
     "metadata": {},
     "output_type": "execute_result"
    },
    {
     "data": {
      "image/png": "[encoded data removed]",
      "text/plain": [
       "<Figure size 864x432 with 1 Axes>"
      ]
     },
     "metadata": {
      "needs_background": "light"
     },
     "output_type": "display_data"
    }
   ],
   "source": [
    "plt.figure(figsize = (12,6))\n",
    "sns.scatterplot(x = new_df['CTR'], y = new_df['Clicks'])"
   ]
  },
  {
   "cell_type": "code",
   "execution_count": 451,
   "metadata": {},
   "outputs": [
    {
     "data": {
      "text/plain": [
       "<seaborn.axisgrid.FacetGrid at 0x7f05cf58fbe0>"
      ]
     },
     "execution_count": 451,
     "metadata": {},
     "output_type": "execute_result"
    },
    {
     "data": {
      "text/plain": [
       "<Figure size 864x432 with 0 Axes>"
      ]
     },
     "metadata": {},
     "output_type": "display_data"
    },
    {
     "data": {
      "image/png": "[encoded data removed]",
      "text/plain": [
       "<Figure size 430.625x360 with 1 Axes>"
      ]
     },
     "metadata": {
      "needs_background": "light"
     },
     "output_type": "display_data"
    }
   ],
   "source": [
    "plt.figure(figsize = (12,6))\n",
    "sns.relplot(x = 'CPC', y = 'Clicks', data = new_df, hue = 'Market')"
   ]
  },
  {
   "cell_type": "code",
   "execution_count": null,
   "metadata": {},
   "outputs": [],
   "source": []
  },
  {
   "cell_type": "code",
   "execution_count": 441,
   "metadata": {},
   "outputs": [
    {
     "data": {
      "text/plain": [
       "<matplotlib.axes._subplots.AxesSubplot at 0x7f05cfe94278>"
      ]
     },
     "execution_count": 441,
     "metadata": {},
     "output_type": "execute_result"
    },
    {
     "data": {
      "image/png": "[encoded data removed]",
      "text/plain": [
       "<Figure size 864x432 with 2 Axes>"
      ]
     },
     "metadata": {
      "needs_background": "light"
     },
     "output_type": "display_data"
    }
   ],
   "source": [
    "corr = new_df.corr()\n",
    "\n",
    "plt.figure(figsize = (12,6))\n",
    "sns.heatmap(data = corr, cmap = 'viridis')"
   ]
  },
  {
   "cell_type": "code",
   "execution_count": 67,
   "metadata": {},
   "outputs": [],
   "source": [
    "X = new_df.drop(['Date', 'Clicks', 'Keyword'], axis = 1)\n",
    "y = new_df['Clicks']\n",
    "\n",
    "X_train, X_test, y_train, y_test = train_test_split(X, y, test_size=0.33, random_state=101)"
   ]
  },
  {
   "cell_type": "code",
   "execution_count": 68,
   "metadata": {},
   "outputs": [],
   "source": [
    "model = LinearRegression()"
   ]
  },
  {
   "cell_type": "code",
   "execution_count": 69,
   "metadata": {},
   "outputs": [
    {
     "data": {
      "text/plain": [
       "LinearRegression(copy_X=True, fit_intercept=True, n_jobs=None,\n",
       "         normalize=False)"
      ]
     },
     "execution_count": 69,
     "metadata": {},
     "output_type": "execute_result"
    }
   ],
   "source": [
    "model.fit(X_train, y_train)"
   ]
  },
  {
   "cell_type": "code",
   "execution_count": 70,
   "metadata": {},
   "outputs": [],
   "source": [
    "predictions = model.predict(X_test)"
   ]
  },
  {
   "cell_type": "code",
   "execution_count": 71,
   "metadata": {},
   "outputs": [
    {
     "data": {
      "text/plain": [
       "<matplotlib.collections.PathCollection at 0x7f068a1cdc18>"
      ]
     },
     "execution_count": 71,
     "metadata": {},
     "output_type": "execute_result"
    },
    {
     "data": {
      "image/png": "[encoded data removed]",
      "text/plain": [
       "<Figure size 432x288 with 1 Axes>"
      ]
     },
     "metadata": {
      "needs_background": "light"
     },
     "output_type": "display_data"
    }
   ],
   "source": [
    "from sklearn import metrics\n",
    "\n",
    "plt.scatter(y_test, predictions)"
   ]
  },
  {
   "cell_type": "code",
   "execution_count": 72,
   "metadata": {},
   "outputs": [
    {
     "data": {
      "text/plain": [
       "259.72876628364185"
      ]
     },
     "execution_count": 72,
     "metadata": {},
     "output_type": "execute_result"
    }
   ],
   "source": [
    "metrics.mean_absolute_error(y_test, predictions)"
   ]
  },
  {
   "cell_type": "code",
   "execution_count": 73,
   "metadata": {},
   "outputs": [
    {
     "data": {
      "text/plain": [
       "1235.4746097966586"
      ]
     },
     "execution_count": 73,
     "metadata": {},
     "output_type": "execute_result"
    }
   ],
   "source": [
    "(metrics.mean_squared_error(y_test, predictions) ** 0.5)"
   ]
  },
  {
   "cell_type": "code",
   "execution_count": 74,
   "metadata": {},
   "outputs": [
    {
     "name": "stderr",
     "output_type": "stream",
     "text": [
      "/home/umairshah/anaconda3/lib/python3.7/site-packages/scipy/stats/stats.py:1713: FutureWarning: Using a non-tuple sequence for multidimensional indexing is deprecated; use `arr[tuple(seq)]` instead of `arr[seq]`. In the future this will be interpreted as an array index, `arr[np.array(seq)]`, which will result either in an error or a different result.\n",
      "  return np.add.reduce(sorted[indexer] * weights, axis=axis) / sumval\n"
     ]
    },
    {
     "data": {
      "text/plain": [
       "<matplotlib.axes._subplots.AxesSubplot at 0x7f068a1e8eb8>"
      ]
     },
     "execution_count": 74,
     "metadata": {},
     "output_type": "execute_result"
    },
    {
     "data": {
      "image/png": "[encoded data removed]",
      "text/plain": [
       "<Figure size 432x288 with 1 Axes>"
      ]
     },
     "metadata": {
      "needs_background": "light"
     },
     "output_type": "display_data"
    }
   ],
   "source": [
    "sns.distplot((y_test-predictions), bins = 30)"
   ]
  },
  {
   "cell_type": "code",
   "execution_count": 75,
   "metadata": {},
   "outputs": [
    {
     "data": {
      "text/plain": [
       "0.7076517852325654"
      ]
     },
     "execution_count": 75,
     "metadata": {},
     "output_type": "execute_result"
    }
   ],
   "source": [
    "metrics.r2_score(y_test, predictions)"
   ]
  },
  {
   "cell_type": "markdown",
   "metadata": {},
   "source": [
    "## Correlations:"
   ]
  },
  {
   "cell_type": "code",
   "execution_count": 76,
   "metadata": {},
   "outputs": [],
   "source": [
    "corr = new_df.corr()"
   ]
  },
  {
   "cell_type": "code",
   "execution_count": 226,
   "metadata": {},
   "outputs": [
    {
     "data": {
      "text/plain": [
       "<matplotlib.axes._subplots.AxesSubplot at 0x7f0624029ba8>"
      ]
     },
     "execution_count": 226,
     "metadata": {},
     "output_type": "execute_result"
    },
    {
     "data": {
      "image/png": "[encoded data removed]",
      "text/plain": [
       "<Figure size 864x432 with 2 Axes>"
      ]
     },
     "metadata": {
      "needs_background": "light"
     },
     "output_type": "display_data"
    }
   ],
   "source": [
    "plt.figure(figsize = (12,6))\n",
    "sns.heatmap(corr)"
   ]
  },
  {
   "cell_type": "code",
   "execution_count": 78,
   "metadata": {},
   "outputs": [
    {
     "data": {
      "text/plain": [
       "0.5307991295567502"
      ]
     },
     "execution_count": 78,
     "metadata": {},
     "output_type": "execute_result"
    }
   ],
   "source": [
    "new_df['Clicks'].corr(new_df['Cost'])"
   ]
  },
  {
   "cell_type": "code",
   "execution_count": 79,
   "metadata": {},
   "outputs": [],
   "source": [
    "X1 = new_df.drop(['Date', 'CTR', 'Average.Position', 'Clicks'], axis = 1)\n",
    "y1 = new_df['Clicks']\n",
    "\n",
    "X1_train, X1_test, y1_train, y1_test = train_test_split(X1, y1, test_size=0.33, random_state=101)"
   ]
  },
  {
   "cell_type": "code",
   "execution_count": 80,
   "metadata": {},
   "outputs": [],
   "source": [
    "model = LinearRegression()"
   ]
  },
  {
   "cell_type": "code",
   "execution_count": 81,
   "metadata": {},
   "outputs": [
    {
     "data": {
      "text/plain": [
       "LinearRegression(copy_X=True, fit_intercept=True, n_jobs=None,\n",
       "         normalize=False)"
      ]
     },
     "execution_count": 81,
     "metadata": {},
     "output_type": "execute_result"
    }
   ],
   "source": [
    "model.fit(X_train, y_train)"
   ]
  },
  {
   "cell_type": "code",
   "execution_count": 82,
   "metadata": {},
   "outputs": [],
   "source": [
    "predictions = model.predict(X_test)"
   ]
  },
  {
   "cell_type": "code",
   "execution_count": 83,
   "metadata": {},
   "outputs": [
    {
     "data": {
      "text/plain": [
       "<matplotlib.collections.PathCollection at 0x7f068a07c710>"
      ]
     },
     "execution_count": 83,
     "metadata": {},
     "output_type": "execute_result"
    },
    {
     "data": {
      "image/png": "[encoded data removed]",
      "text/plain": [
       "<Figure size 432x288 with 1 Axes>"
      ]
     },
     "metadata": {
      "needs_background": "light"
     },
     "output_type": "display_data"
    }
   ],
   "source": [
    "from sklearn import metrics\n",
    "plt.scatter(y_test, predictions)"
   ]
  },
  {
   "cell_type": "code",
   "execution_count": 84,
   "metadata": {},
   "outputs": [
    {
     "data": {
      "text/plain": [
       "259.72876628364185"
      ]
     },
     "execution_count": 84,
     "metadata": {},
     "output_type": "execute_result"
    }
   ],
   "source": [
    "metrics.mean_absolute_error(y_test, predictions)"
   ]
  },
  {
   "cell_type": "code",
   "execution_count": 85,
   "metadata": {},
   "outputs": [
    {
     "data": {
      "text/plain": [
       "1235.4746097966586"
      ]
     },
     "execution_count": 85,
     "metadata": {},
     "output_type": "execute_result"
    }
   ],
   "source": [
    "(metrics.mean_squared_error(y_test, predictions) ** 0.5)"
   ]
  },
  {
   "cell_type": "code",
   "execution_count": 86,
   "metadata": {},
   "outputs": [
    {
     "name": "stderr",
     "output_type": "stream",
     "text": [
      "/home/umairshah/anaconda3/lib/python3.7/site-packages/scipy/stats/stats.py:1713: FutureWarning: Using a non-tuple sequence for multidimensional indexing is deprecated; use `arr[tuple(seq)]` instead of `arr[seq]`. In the future this will be interpreted as an array index, `arr[np.array(seq)]`, which will result either in an error or a different result.\n",
      "  return np.add.reduce(sorted[indexer] * weights, axis=axis) / sumval\n"
     ]
    },
    {
     "data": {
      "text/plain": [
       "<matplotlib.axes._subplots.AxesSubplot at 0x7f068a032390>"
      ]
     },
     "execution_count": 86,
     "metadata": {},
     "output_type": "execute_result"
    },
    {
     "data": {
      "image/png": "[encoded data removed]",
      "text/plain": [
       "<Figure size 432x288 with 1 Axes>"
      ]
     },
     "metadata": {
      "needs_background": "light"
     },
     "output_type": "display_data"
    }
   ],
   "source": [
    "sns.distplot((y_test-predictions), bins = 30)"
   ]
  },
  {
   "cell_type": "code",
   "execution_count": 87,
   "metadata": {},
   "outputs": [
    {
     "data": {
      "text/plain": [
       "0.7076517852325654"
      ]
     },
     "execution_count": 87,
     "metadata": {},
     "output_type": "execute_result"
    }
   ],
   "source": [
    "metrics.r2_score(y_test, predictions)"
   ]
  },
  {
   "cell_type": "markdown",
   "metadata": {},
   "source": [
    "## Ridge Regression:"
   ]
  },
  {
   "cell_type": "code",
   "execution_count": 88,
   "metadata": {},
   "outputs": [
    {
     "data": {
      "text/plain": [
       "LassoLars(alpha=0.1, copy_X=True, eps=2.220446049250313e-16,\n",
       "     fit_intercept=True, fit_path=True, max_iter=500, normalize=True,\n",
       "     positive=False, precompute='auto', verbose=False)"
      ]
     },
     "execution_count": 88,
     "metadata": {},
     "output_type": "execute_result"
    }
   ],
   "source": [
    "from sklearn import linear_model\n",
    "\n",
    "reg = linear_model.LassoLars(alpha = 0.1)\n",
    "\n",
    "reg.fit(X_train, y_train)"
   ]
  },
  {
   "cell_type": "code",
   "execution_count": 89,
   "metadata": {},
   "outputs": [],
   "source": [
    "reg_predictions = reg.predict(X_test)"
   ]
  },
  {
   "cell_type": "code",
   "execution_count": 90,
   "metadata": {},
   "outputs": [
    {
     "data": {
      "text/plain": [
       "0.7065768306821503"
      ]
     },
     "execution_count": 90,
     "metadata": {},
     "output_type": "execute_result"
    }
   ],
   "source": [
    "metrics.r2_score(y_test, reg_predictions)"
   ]
  },
  {
   "cell_type": "markdown",
   "metadata": {},
   "source": [
    "## Keyword Preprocessing"
   ]
  },
  {
   "cell_type": "code",
   "execution_count": 91,
   "metadata": {},
   "outputs": [
    {
     "name": "stdout",
     "output_type": "stream",
     "text": [
      "{'cloud', 'commercial', 'sql', 'electricity', 'Los', 'index', 'call', 'security', 'disease', 'finepix', 'apprendimento', 'illness', 'your', 'iphone', 'dish', 'flu', 'crm', 'snooki', 'payday', 'dvd', 'ohio', 'trader', 'машинное', 'consolidation', 'commodities', 'sky', 'grooveshark', 'claims', 'locks', 'money', 'removal', 'randy', 'gomez', 'gift', 'college', 'developers', 'photography', 'monitors', 'claim', 'wayne', 'Adsense', 'University', 'disney', 'anti', 'drug', 'deal', 'remortgage', 'grange', 'youtube', 'nfp', 'uk', '100', 'earthquake', 'ink', 'menowin', 'comparison', 'sims', 'words', 'drive', 'martial', 'kim', 'суши', 'employee', 'shavers', 'of', 'mundial', 'gostoso', '3g', 'prices', 'points', 'olympics', 'tours', 'pizza', 'knight', 'optimization', 'harrison', 'glaze', 'd90', 'laptop', 'haiti', 'mortgage', 'notes', 'solar', 'cross', 'apply', 'my', 'facebook', 'fee', 'rebate', 'bryant', 'payments', 'lotus', 'dual', 'heat', 'scott', 'megan', 'services', 'antonio', 'reward', 'desk', 'station', 'fraud', 'scrum', 'exchange', 'with', 'low', 'renters', 'theft', 'locksmithing', 'celebrex', 'layouts', 'besiktas', 'virginia', 'fröhlich', 'book', 'accounts', 'vioxx', 'countrywide', 'for', 'otterbox', 'cough', 'or', 'georgia', 'realtime', 'apartments', 'trans', 'servers', 'myxer', 'sites', 'c5650', '食べログ', 'darvish', 'cash', 'htc', 'bundeskanzleramt', 'loans', 'pdanet', 'mygrid', 'hartford', 'emerson', 'electrónico', 'rv', 'lcd', 'offer', 'solare', 'policies', 'wardrobe', 'duracell', 'duvet', 'vanities', 'commodity', 'conference', 'rio', 'Orlando', 'training', 'rehab', 'score', 'death', 'e', 'high', 'wedding', 'everest', 'csl', 'medical', 'texas', 'problems', 'cricket', 'energia', 'option', 'bpp', 'contracts', 'best', 'francisco', 'Asbestos', 'fifa', 'now', 'American', 'appendicitis', 'canada', 'refinancing', 'ray', 'world', 'reflux', 'cyrus', 'lincoln', 'recipe', 'singles', 'как', 'prepaid', 'poor', 'family', 'search', 'wisconsin', 'teach', 'network', 'pattinson', 'gas', 'login', 'secured', 'history', 'purchase', 'agile', 'cupcakes', 'download', 'spam', 'razors', 'michael', 'wan', 'pengar', 'apps', 'games', 'development', 'hard', 'vitamin', 'mastercard', 'Angeles', 'as', 'balance', 'fujifilm', 'minaj', 'attorneys', 'trade', 'joomla', \"homeowner's\", 'kardashian', 'recorder', 'brokers', 'los', 'va', 'mininova', 'administration', 'developing', 'automobile', 'cartridge', 'reporting', 'indiana', 'designers', 'lemon', 'installation', 'discover', 'imagine', 'go', 'pre', 'att', 'print', 'slumdog', 'profit', 'deals', 'discount', 'making', 'brother', 'event', 'device', 'without', 'martens', 'era', 'rent', 'California', 'mutual', 'illinois', 'ways', 'i', 'sell', 'solicitor', 'interactive', 'jon', 'phone', 'consumer', 'Washington', 'click', 'mobile', 'household', 'american', 'marketing', 'donation', 'chatroulette', 'bieber', 'laser', 'affiliate', 'gardens', 'speed', 'players', 'coolpix', 'يلوستون', 'Cancer', 'stock', 'consolidate', 'borders', 'printer', 'eminem', 'software', 'samsung', '49ers', 'nikon', 'lenders', 'panasonic', 'Maryland', 'Online', 'hot', 'cable', 'justin', 'company', 'books', 'play', 'Miami', 'friv', 'options', 'transformers', 'ipad', 'angeles', 'learning', 'bush', 'lawsuit', 'whole', 'symptoms', 'manhattan', 'new', 'photo', 'metal', 'colorado', 'buying', 'note', 'sale', 'all', 'vancouver', 'hosting', 'toner', 'engine', '8560', 'real', 'automatico', 'tax', 'cars', 'accept', 'masterchef', 'cards', 'indesign', 'swine', 'benchmark', 'students', 'in', 'loan', 'reversal', 'fast', 'prognosis', 'server', 'calculator', 'camp', 'counselors', 'movie', 'accident', 'compare', 'pc', 'red', 'database', 'nutrition', 'express', 'card', 'donate', 'machines', '11', 'agency', 'bankruptcy', 'owner', 'small', 'incorporate', 'blackberry', 'mesothelioma', 'ben', 'chicago', 'broker', 'dc', 'at', 'washington', 'criminal', 'yu', 'selena', 'gmac', 'diego', 'individual', 'video', 'only', 'clothing', 'gucken', 'watch', 'moon', 'taylor', 'programs', 'notebook', 'approval', 'jovi', 'miles', 'malpractice', 'stocks', 'petersburg', 'online', 'boat', 'mcdonalds', 'canon', 'rate', 'advertising', 'assurance', 'rates', 'Equifax', 'access', 'shock', 'moss', 'villa', 'cobra', 'california', 'nürburgring', 'is', 'laptops', 'service', 'policy', 'v3', 'camcorder', 'peritoneal', 'people', 'mortgages', 'health', 'bank', 'disk', 'help', 'trading', 'what', 'acid', 'quote', 'you', 'united', 'sx', 'Credit', 'SEO', 'activities', 'ideas', 'appliance', 'second', '0', 'applebees', 'page', 'citifinancial', 'dmc', 'internet', 'firm', 'lease', 'wm', 'diagnosis', 'cameras', 'disaster', 'fortis', '5530', 'refinance', 'hd', 'webhost', 'beijing', 'aspergers', 'magazine', 't', 'Google', 'mens', 'mesotheloma', 'cartridges', 'app', 'katy', 'platinum', 'transfer', 'tracking', 'dubai', 'law', 'micro', 'lung', 'webhosting', 'checks', 'mbna', 'offers', 'san', 'circuit', 'companies', 'maryland', 'kobe', 'domain', 'south', 'tour', 'epocrates', 'defense', 'vehicle', 'videos', 'nicki', 'auto', 'interest', 'buyer', 'usaa', 'asbestos', 'digital', 'guacamole', 'oz', 'skynews', 'foundations', '4', 'shakira', 'blood', 'terminal', 'boot', 'names', 'lautner', 'forex', 'irs', 'make', 'futures', 'photos', 'Degrees', 'one', 'on', 'Illinois', 'steelers', 'used', 'management', 'applications', 'preapproved', 'comercio', 'prom', 'secure', 'office', 'term', \"renter's\", 'hidden', 'g', 'brokerage', 'processing', 'tudo', 'zurich', 'camcorders', 'attorney', 'Virginia', 'cancer', 'up', 'منتزه', 'cheap', 'broadband', '2010', 'funds', 'program', 'lil', 'dui', 'johns', 'mesothilioma', 'york', 'covers', 'deficiency', 'automotive', 'corporate', 'microsoft', '5d', 'adwords', 'dr', 'pakistan', 'owners', 'equity', '125', 'apr', 'lawyers', '32', 'object', 'mcsa', 'leasing', 'India', 'hamlet', 'david', 'жрать', 'federal', 'century', 'house', 'market', 'pulmonary', '&', 'jackson', 'phones', 'lady', 'hair', 'planning', 'branco', 'cholera', 'wireless', 'miami', 'platform', 'holiday', 'earn', 'mourinho', 'sim', 'roethlisberger', '21', 'dresses', 'gaga', 'notebooks', 'application', 'critical', 'technology', 'Florida', 'nutshell', 'st.', 'primary', 'action', 'instant', 'Wisconsin', 'it', 'machine', 'business', 'silver', 'susan', 'web', 'chase', 'bad', 'send', 'classes', 'registration', 'student', 'great', 'нью-йорк', 'mercury', 'myspace', 'orlando', 'jimmy', 'Canada', 'domains', 'wrinkle', 'dept', 'how', 'account', 'MCSA', 'extra', 'n900', 'businesses', 'line', 'tools', 'developer', 'team', 'need', 'rewards', 'websites', 'no', 'pixma', 'bluray', 'buy', 'kew', 'perry', '3', 'city', 'news', 'holidays', 'treatment', 'cannon', 'evo', 'kesha', 'computing', 'itil', 'register', 'advance', 'android', 'power', 'chile', 'dominos', 'الوطني', 'dark', 'james', 'the', 'lending', 'annual', 'h1n1', 'overture', 'plans', 'airlines', 'button', 'freecreditreport', 'system', 'xbox', 'injury', '트위터', 'name', 'visa', 'certification', '1031', 'pleasant', 'truck', 'credit', 'christmas', 'spill', 'cost', 'estate', 'adword', 'restaurants', 'Manhattan', 'quotes', 'and', 'florida', 'cup', 'design', 'international', 'vacina', 'state', 'hypertension', 'free', 'menu', 'center', 'conferencing', 'zero', 'fico', 'driven', 'foreign', 'direct', 'robert', 'wamu', 'homeowners', 'repair', 'vasectomy', '2008', 'mt', 'rental', 'homeowner', 'dress', 'utah', 'host', 'from', 'drives', 'photographers', 'fox', 'd', 'gpa', 'estimate', 'pet', 'universal', 'trailer', 'saturn', 'debt', 'live', '360', 'parque', 'citi', 'per', 'home', 'ресторан', 'adverse', 'sense', 'non', 'yourself', 'short', 'aetna', 'ATT', 'eastwood', 'oil', 'car', 'Ohio', 'purchases', 'Ernst', 'bon', 'tv', 'watches', 'external', 'johnny', 'counseling', 'docking', 'google', 'com', 'Baines', 'nokia', 'solutions', 'knox', 'clippers', 'anhembi', 'personals', 'group', 'pay', 'dead', 'brown', 'plasma', 'fx', 'doctors', 'maxi', 're', 'report', 'UK', 'miley', 'hope', 'information', 'eiffel', 'ad', 'identity', 'hertz', 'Point', 'insurance', 'cell', 'get', 'ixus', 'Chicago', 'national', 'union', 'egg', 'gamezer', 'ameriquest', 'обучение', 'leads', 'fargo', 'malignant', 'motorcycle', 'michigan', 'australia', 'mcse', 'rooney', 'financial', 'systems', 'travel', 'restrictions', 'kids', 'shoes', 'blu', 'diet', 'consolidating', 'life', 'hdmi', 'kinect', 'percent', 'humana', 'park', 'check', 'cables', 'adsense', 'lakers', 'recovery', 'millionaire', 'degree', 'private', 'school', 'merchant', 'select', 'Lexington', 'lawyer', 'espn3', 'back', 'wrongful', 'currency', '4g', 'investment', 'property', 'detector', 'programmers', 'receitas', 'twitter', 'gold', 'by', 'text', 'to', 'chevron', 'a', 'pittsburgh', 'pleural', 'battery', 'router', 'find', 'powershot', 'rises', 'box', 'liability', 'ca', 'idiots', 'personal', 'affordable', 'comcast', 'netflix', 'cord', 'led', 'rachel', 'machinery', 'reports', 'jörg', 'hcg', 'yahoo', 'project', 'oxford', 'street', 'building', 'class', 'lumix', 'lens', 'boyle', 'dummies', 'temporary', 'kachelmann', 'camera', 'images', 'orchard', 'whooping'}\n",
      "{'cloud', 'commercial', 'sql', 'electricity', 'Los', 'index', 'call', 'security', 'disease', 'finepix', 'apprendimento', 'illness', 'your', 'iphone', 'dish', 'flu', 'crm', 'snooki', 'payday', 'dvd', 'ohio', 'trader', 'машинное', 'consolidation', 'commodities', 'sky', 'grooveshark', 'claims', 'locks', 'money', 'removal', 'randy', 'gomez', 'gift', 'college', 'developers', 'photography', 'monitors', 'claim', 'wayne', 'Adsense', 'University', 'disney', 'anti', 'drug', 'deal', 'remortgage', 'grange', 'youtube', 'nfp', 'uk', '100', 'earthquake', 'ink', 'menowin', 'comparison', 'sims', 'words', 'drive', 'martial', 'kim', 'суши', 'employee', 'shavers', 'of', 'mundial', 'gostoso', '3g', 'prices', 'points', 'olympics', 'tours', 'pizza', 'knight', 'optimization', 'harrison', 'glaze', 'd90', 'laptop', 'haiti', 'mortgage', 'notes', 'solar', 'cross', 'apply', 'my', 'facebook', 'fee', 'rebate', 'bryant', 'payments', 'lotus', 'dual', 'heat', 'scott', 'megan', 'services', 'antonio', 'reward', 'desk', 'station', 'fraud', 'scrum', 'exchange', 'with', 'low', 'renters', 'theft', 'locksmithing', 'celebrex', 'layouts', 'besiktas', 'virginia', 'fröhlich', 'book', 'accounts', 'vioxx', 'countrywide', 'for', 'otterbox', 'cough', 'or', 'georgia', 'realtime', 'apartments', 'trans', 'servers', 'myxer', 'sites', 'c5650', '食べログ', 'darvish', 'cash', 'htc', 'bundeskanzleramt', 'loans', 'pdanet', 'mygrid', 'hartford', 'emerson', 'electrónico', 'rv', 'lcd', 'offer', 'solare', 'policies', 'wardrobe', 'duracell', 'duvet', 'vanities', 'commodity', 'conference', 'rio', 'Orlando', 'training', 'rehab', 'score', 'death', 'e', 'high', 'wedding', 'everest', 'csl', 'medical', 'texas', 'problems', 'cricket', 'energia', 'option', 'bpp', 'contracts', 'best', 'francisco', 'Asbestos', 'fifa', 'now', 'American', 'appendicitis', 'canada', 'refinancing', 'ray', 'world', 'reflux', 'cyrus', 'lincoln', 'recipe', 'singles', 'как', 'prepaid', 'poor', 'family', 'search', 'wisconsin', 'teach', 'network', 'pattinson', 'gas', 'login', 'secured', 'history', 'purchase', 'agile', 'cupcakes', 'download', 'spam', 'razors', 'michael', 'wan', 'pengar', 'apps', 'games', 'development', 'hard', 'vitamin', 'mastercard', 'Angeles', 'as', 'balance', 'fujifilm', 'minaj', 'attorneys', 'trade', 'joomla', \"homeowner's\", 'recorder', 'kardashian', 'brokers', 'los', 'va', 'mininova', 'administration', 'developing', 'automobile', 'cartridge', 'reporting', 'indiana', 'designers', 'lemon', 'installation', 'discover', 'imagine', 'go', 'pre', 'att', 'print', 'slumdog', 'profit', 'deals', 'discount', 'making', 'brother', 'event', 'device', 'without', 'martens', 'era', 'rent', 'California', 'mutual', 'illinois', 'ways', 'i', 'sell', 'solicitor', 'interactive', 'jon', 'phone', 'consumer', 'Washington', 'click', 'mobile', 'household', 'american', 'marketing', 'donation', 'chatroulette', 'bieber', 'laser', 'affiliate', 'gardens', 'speed', 'players', 'coolpix', 'يلوستون', 'Cancer', 'stock', 'consolidate', 'borders', 'printer', 'eminem', 'software', 'samsung', '49ers', 'nikon', 'lenders', 'panasonic', 'Maryland', 'Online', 'hot', 'cable', 'justin', 'company', 'books', 'play', 'Miami', 'friv', 'options', 'transformers', 'ipad', 'angeles', 'learning', 'bush', 'lawsuit', 'whole', 'symptoms', 'manhattan', 'new', 'photo', 'metal', 'colorado', 'buying', 'note', 'sale', 'all', 'vancouver', 'hosting', 'toner', 'engine', '8560', 'real', 'automatico', 'tax', 'cars', 'accept', 'masterchef', 'cards', 'indesign', 'swine', 'benchmark', 'students', 'in', 'loan', 'reversal', 'fast', 'prognosis', 'server', 'calculator', 'camp', 'counselors', 'movie', 'accident', 'compare', 'pc', 'red', 'database', 'nutrition', 'express', 'card', 'donate', 'machines', '11', 'agency', 'bankruptcy', 'owner', 'small', 'incorporate', 'blackberry', 'mesothelioma', 'ben', 'chicago', 'broker', 'dc', 'at', 'washington', 'criminal', 'yu', 'selena', 'gmac', 'diego', 'individual', 'video', 'only', 'clothing', 'gucken', 'watch', 'moon', 'taylor', 'programs', 'notebook', 'approval', 'jovi', 'miles', 'malpractice', 'stocks', 'petersburg', 'online', 'boat', 'mcdonalds', 'canon', 'rate', 'advertising', 'assurance', 'rates', 'Equifax', 'access', 'shock', 'moss', 'villa', 'cobra', 'california', 'nürburgring', 'is', 'laptops', 'service', 'policy', 'v3', 'camcorder', 'peritoneal', 'people', 'mortgages', 'health', 'bank', 'disk', 'help', 'trading', 'what', 'acid', 'quote', 'you', 'united', 'sx', 'Credit', 'SEO', 'activities', 'ideas', 'appliance', 'second', '0', 'applebees', 'page', 'citifinancial', 'dmc', 'internet', 'firm', 'lease', 'wm', 'diagnosis', 'cameras', 'disaster', 'fortis', '5530', 'refinance', 'hd', 'webhost', 'beijing', 'aspergers', 'magazine', 't', 'Google', 'mens', 'mesotheloma', 'cartridges', 'app', 'katy', 'platinum', 'transfer', 'tracking', 'dubai', 'law', 'micro', 'lung', 'webhosting', 'checks', 'mbna', 'offers', 'san', 'circuit', 'companies', 'maryland', 'kobe', 'domain', 'south', 'tour', 'epocrates', 'defense', 'vehicle', 'videos', 'nicki', 'auto', 'interest', 'buyer', 'usaa', 'asbestos', 'digital', 'guacamole', 'oz', 'skynews', 'foundations', '4', 'shakira', 'blood', 'terminal', 'boot', 'names', 'lautner', 'forex', 'irs', 'make', 'futures', 'photos', 'Degrees', 'one', 'on', 'Illinois', 'steelers', 'used', 'management', 'applications', 'preapproved', 'comercio', 'prom', 'secure', 'office', 'term', \"renter's\", 'hidden', 'g', 'brokerage', 'processing', 'tudo', 'zurich', 'camcorders', 'attorney', 'Virginia', 'cancer', 'up', 'منتزه', 'cheap', 'broadband', '2010', 'funds', 'program', 'lil', 'dui', 'johns', 'mesothilioma', 'york', 'covers', 'deficiency', 'automotive', 'corporate', 'microsoft', '5d', 'adwords', 'dr', 'pakistan', 'owners', 'equity', '125', 'apr', 'lawyers', '32', 'object', 'mcsa', 'leasing', 'India', 'hamlet', 'david', 'жрать', 'federal', 'century', 'house', 'market', 'pulmonary', '&', 'jackson', 'phones', 'lady', 'hair', 'planning', 'branco', 'cholera', 'wireless', 'miami', 'platform', 'holiday', 'earn', 'mourinho', 'sim', 'roethlisberger', '21', 'dresses', 'gaga', 'notebooks', 'application', 'critical', 'technology', 'Florida', 'nutshell', 'st.', 'primary', 'action', 'instant', 'Wisconsin', 'it', 'machine', 'business', 'silver', 'susan', 'web', 'chase', 'bad', 'send', 'classes', 'registration', 'student', 'great', 'нью-йорк', 'mercury', 'myspace', 'orlando', 'jimmy', 'Canada', 'domains', 'wrinkle', 'dept', 'how', 'account', 'MCSA', 'extra', 'n900', 'businesses', 'line', 'tools', 'developer', 'team', 'need', 'rewards', 'websites', 'no', 'pixma', 'bluray', 'buy', 'kew', 'perry', '3', 'city', 'news', 'holidays', 'treatment', 'cannon', 'evo', 'kesha', 'computing', 'itil', 'register', 'advance', 'android', 'power', 'chile', 'dominos', 'الوطني', 'dark', 'james', 'the', 'lending', 'annual', 'h1n1', 'overture', 'plans', 'airlines', 'button', 'freecreditreport', 'system', 'xbox', 'injury', '트위터', 'name', 'visa', 'certification', '1031', 'pleasant', 'truck', 'credit', 'christmas', 'spill', 'cost', 'estate', 'adword', 'restaurants', 'Manhattan', 'quotes', 'and', 'florida', 'cup', 'design', 'international', 'vacina', 'state', 'hypertension', 'free', 'menu', 'center', 'conferencing', 'zero', 'fico', 'driven', 'foreign', 'direct', 'robert', 'wamu', 'homeowners', 'repair', 'vasectomy', '2008', 'mt', 'rental', 'homeowner', 'dress', 'utah', 'host', 'from', 'drives', 'photographers', 'fox', 'd', 'gpa', 'estimate', 'pet', 'universal', 'trailer', 'saturn', 'debt', 'live', '360', 'parque', 'citi', 'per', 'home', 'ресторан', 'adverse', 'sense', 'non', 'yourself', 'short', 'aetna', 'ATT', 'eastwood', 'oil', 'car', 'Ohio', 'purchases', 'Ernst', 'bon', 'tv', 'watches', 'external', 'johnny', 'counseling', 'docking', 'google', 'com', 'Baines', 'nokia', 'solutions', 'knox', 'clippers', 'anhembi', 'personals', 'group', 'pay', 'dead', 'brown', 'plasma', 'fx', 'doctors', 'maxi', 're', 'report', 'UK', 'miley', 'hope', 'information', 'eiffel', 'ad', 'identity', 'hertz', 'Point', 'insurance', 'cell', 'get', 'ixus', 'Chicago', 'national', 'union', 'egg', 'gamezer', 'ameriquest', 'обучение', 'leads', 'fargo', 'malignant', 'motorcycle', 'michigan', 'australia', 'mcse', 'rooney', 'financial', 'systems', 'travel', 'restrictions', 'kids', 'shoes', 'blu', 'diet', 'consolidating', 'life', 'hdmi', 'kinect', 'percent', 'humana', 'park', 'check', 'cables', 'adsense', 'lakers', 'recovery', 'millionaire', 'degree', 'private', 'school', 'merchant', 'select', 'Lexington', 'lawyer', 'espn3', 'back', 'wrongful', 'currency', '4g', 'investment', 'property', 'detector', 'programmers', 'receitas', 'twitter', 'gold', 'by', 'text', 'to', 'chevron', 'a', 'pittsburgh', 'pleural', 'battery', 'router', 'find', 'powershot', 'rises', 'box', 'liability', 'ca', 'idiots', 'personal', 'affordable', 'comcast', 'netflix', 'cord', 'led', 'rachel', 'machinery', 'reports', 'jörg', 'hcg', 'yahoo', 'project', 'oxford', 'street', 'building', 'class', 'lumix', 'lens', 'boyle', 'dummies', 'temporary', 'kachelmann', 'camera', 'images', 'orchard', 'whooping'}\n",
      "890\n"
     ]
    }
   ],
   "source": [
    "words_list = list(df['Keyword'])\n",
    "\n",
    "final_list = []\n",
    "\n",
    "for segment in words_list:\n",
    "    new_list = segment.split()\n",
    "    for i in new_list:\n",
    "        final_list.append(i)\n",
    "        \n",
    "word_dict = {}\n",
    "\n",
    "for word in final_list:\n",
    "    if word in word_dict:\n",
    "        word_dict[word] += 1\n",
    "    else:\n",
    "        word_dict[word] = 1\n",
    "        \n",
    "print(set(final_list))\n",
    "print(set(word_dict))\n",
    "\n",
    "print(len(set((final_list))))"
   ]
  },
  {
   "cell_type": "code",
   "execution_count": 92,
   "metadata": {},
   "outputs": [],
   "source": [
    "import spacy\n",
    "from spacy.lang.en.stop_words import STOP_WORDS\n",
    "\n",
    "nlp = spacy.load('en_core_web_sm')\n",
    "\n",
    "def remove_stops(text):\n",
    "    my_doc = nlp(text)\n",
    "    token_list = []\n",
    "    filtered_sentence = []\n",
    "    \n",
    "    for token in my_doc:\n",
    "        token_list.append(token.text)\n",
    "        \n",
    "    for word in token_list:\n",
    "        lexeme = nlp.vocab[word]\n",
    "        if lexeme.is_stop == False:\n",
    "            filtered_sentence.append(word)\n",
    "            \n",
    "    return \" \".join(filtered_sentence)"
   ]
  },
  {
   "cell_type": "code",
   "execution_count": 93,
   "metadata": {},
   "outputs": [
    {
     "data": {
      "text/plain": [
       "'tracking vehicle'"
      ]
     },
     "execution_count": 93,
     "metadata": {},
     "output_type": "execute_result"
    }
   ],
   "source": [
    "remove_stops(\"tracking a vehicle\")"
   ]
  },
  {
   "cell_type": "code",
   "execution_count": 94,
   "metadata": {},
   "outputs": [
    {
     "data": {
      "text/plain": [
       "286428     credit card company\n",
       "163763    life insurance quote\n",
       "293225               mortgages\n",
       "217868      debt consolidation\n",
       "200937           school quotes\n",
       "Name: Keyword, dtype: object"
      ]
     },
     "execution_count": 94,
     "metadata": {},
     "output_type": "execute_result"
    }
   ],
   "source": [
    "new_df['Keyword'].head()"
   ]
  },
  {
   "cell_type": "code",
   "execution_count": 95,
   "metadata": {},
   "outputs": [
    {
     "data": {
      "text/plain": [
       "180925                     credit report\n",
       "157242                     gmac mortgage\n",
       "126618                    college credit\n",
       "152178                   credit card apr\n",
       "37040                       donate haiti\n",
       "196459                       line credit\n",
       "23182                             credit\n",
       "240125                         mortgages\n",
       "270831                  zurich insurance\n",
       "341978      credit card balance transfer\n",
       "82147                     james harrison\n",
       "212671               domain registration\n",
       "194798                               dui\n",
       "131925                      equity loans\n",
       "242957                 mercury insurance\n",
       "237021                 apply credit card\n",
       "289563                 visa credit cards\n",
       "118159                             money\n",
       "134837              credit card services\n",
       "118400                       scott trade\n",
       "135491                       oil futures\n",
       "152732             auto insurance quotes\n",
       "280274                 consolidate loans\n",
       "204171            stock trading software\n",
       "273080         lease management software\n",
       "167983               hard drive recovery\n",
       "186724                   register domain\n",
       "96567                              dr oz\n",
       "66721             android app developers\n",
       "145184    credit card debt consolidation\n",
       "                       ...              \n",
       "53607                       donate haiti\n",
       "329192                mortgage insurance\n",
       "228783                credit card online\n",
       "303408                        webhosting\n",
       "261961                      money making\n",
       "1935                    fujifilm finepix\n",
       "202117            marketing optimization\n",
       "145914          universal life insurance\n",
       "283251                 home equity loans\n",
       "56322                             degree\n",
       "331827                     debt problems\n",
       "300572            credit card processing\n",
       "335815                  video conference\n",
       "289850                      credit score\n",
       "170550                  merchant account\n",
       "47379                              claim\n",
       "210021                  wan optimization\n",
       "24228            android development app\n",
       "354116                      tax attorney\n",
       "183970            homeowner 's insurance\n",
       "348728                      credit loans\n",
       "52361               att prepaid wireless\n",
       "176475                       credit card\n",
       "259793                 renters insurance\n",
       "37802                    blu ray players\n",
       "318177                     school quotes\n",
       "54494                mcdonalds nutrition\n",
       "172799                 buy stocks online\n",
       "305806       project management software\n",
       "105474                       htc evo 4 g\n",
       "Name: Keyword, Length: 90, dtype: object"
      ]
     },
     "execution_count": 95,
     "metadata": {},
     "output_type": "execute_result"
    }
   ],
   "source": [
    "new_df['Keyword'][10:100].apply(remove_stops)"
   ]
  },
  {
   "cell_type": "code",
   "execution_count": 96,
   "metadata": {},
   "outputs": [
    {
     "name": "stdout",
     "output_type": "stream",
     "text": [
      "['this', 'is', 'a', 'word', 'list', 'and', 'list', 'word']\n",
      "{'this': 1, 'is': 1, 'a': 1, 'word': 2, 'list': 2, 'and': 1}\n",
      "{'this', 'list', 'is', 'word', 'a', 'and'}\n"
     ]
    }
   ],
   "source": [
    "word_list = 'this is a word list and list word'.split()\n",
    "\n",
    "word_dict = {}\n",
    "\n",
    "for word in word_list:\n",
    "    if word in word_dict:\n",
    "        word_dict[word] += 1\n",
    "    else:\n",
    "        word_dict[word] = 1\n",
    "        \n",
    "print(word_list)\n",
    "print(word_dict)\n",
    "\n",
    "filtered_words = set(word_dict)\n",
    "print(filtered_words)"
   ]
  },
  {
   "cell_type": "markdown",
   "metadata": {},
   "source": [
    "## Neural Network Model:"
   ]
  },
  {
   "cell_type": "code",
   "execution_count": 131,
   "metadata": {},
   "outputs": [],
   "source": [
    "import tensorflow as tf"
   ]
  },
  {
   "cell_type": "code",
   "execution_count": 305,
   "metadata": {},
   "outputs": [
    {
     "data": {
      "text/plain": [
       "array(['US-Market', 'UK-Market'], dtype=object)"
      ]
     },
     "execution_count": 305,
     "metadata": {},
     "output_type": "execute_result"
    }
   ],
   "source": [
    "new_df['Market'].unique()"
   ]
  },
  {
   "cell_type": "code",
   "execution_count": 358,
   "metadata": {},
   "outputs": [],
   "source": [
    "X = new_df.drop(['Market', 'Average.Position', 'Clicks', 'Date',], axis = 1)\n",
    "y = new_df['Clicks']\n",
    "\n",
    "X_train, X_test, y_train, y_test = train_test_split(X, y, test_size = 0.8, random_state = 101)"
   ]
  },
  {
   "cell_type": "code",
   "execution_count": 360,
   "metadata": {},
   "outputs": [
    {
     "data": {
      "text/html": [
       "<div>\n",
       "<style scoped>\n",
       "    .dataframe tbody tr th:only-of-type {\n",
       "        vertical-align: middle;\n",
       "    }\n",
       "\n",
       "    .dataframe tbody tr th {\n",
       "        vertical-align: top;\n",
       "    }\n",
       "\n",
       "    .dataframe thead th {\n",
       "        text-align: right;\n",
       "    }\n",
       "</style>\n",
       "<table border=\"1\" class=\"dataframe\">\n",
       "  <thead>\n",
       "    <tr style=\"text-align: right;\">\n",
       "      <th></th>\n",
       "      <th>Keyword</th>\n",
       "      <th>CPC</th>\n",
       "      <th>CTR</th>\n",
       "      <th>Impressions</th>\n",
       "      <th>Cost</th>\n",
       "    </tr>\n",
       "  </thead>\n",
       "  <tbody>\n",
       "    <tr>\n",
       "      <th>185025</th>\n",
       "      <td>comcast high speed</td>\n",
       "      <td>10.05</td>\n",
       "      <td>2.9</td>\n",
       "      <td>356.0</td>\n",
       "      <td>103.42</td>\n",
       "    </tr>\n",
       "    <tr>\n",
       "      <th>158238</th>\n",
       "      <td>home equity loans</td>\n",
       "      <td>44.35</td>\n",
       "      <td>1.4</td>\n",
       "      <td>2247.0</td>\n",
       "      <td>1382.94</td>\n",
       "    </tr>\n",
       "    <tr>\n",
       "      <th>225072</th>\n",
       "      <td>one credit card</td>\n",
       "      <td>67.32</td>\n",
       "      <td>2.3</td>\n",
       "      <td>591.0</td>\n",
       "      <td>933.65</td>\n",
       "    </tr>\n",
       "    <tr>\n",
       "      <th>189721</th>\n",
       "      <td>commercial auto insurance</td>\n",
       "      <td>40.61</td>\n",
       "      <td>4.8</td>\n",
       "      <td>663.0</td>\n",
       "      <td>1304.03</td>\n",
       "    </tr>\n",
       "    <tr>\n",
       "      <th>197836</th>\n",
       "      <td>chase credit</td>\n",
       "      <td>16.46</td>\n",
       "      <td>2.7</td>\n",
       "      <td>2071.0</td>\n",
       "      <td>904.33</td>\n",
       "    </tr>\n",
       "  </tbody>\n",
       "</table>\n",
       "</div>"
      ],
      "text/plain": [
       "                          Keyword    CPC  CTR  Impressions     Cost\n",
       "185025         comcast high speed  10.05  2.9        356.0   103.42\n",
       "158238          home equity loans  44.35  1.4       2247.0  1382.94\n",
       "225072            one credit card  67.32  2.3        591.0   933.65\n",
       "189721  commercial auto insurance  40.61  4.8        663.0  1304.03\n",
       "197836               chase credit  16.46  2.7       2071.0   904.33"
      ]
     },
     "execution_count": 360,
     "metadata": {},
     "output_type": "execute_result"
    }
   ],
   "source": [
    "X.head()"
   ]
  },
  {
   "cell_type": "code",
   "execution_count": 350,
   "metadata": {},
   "outputs": [
    {
     "data": {
      "text/plain": [
       "Index(['CPC', 'CTR', 'Impressions', 'Cost'], dtype='object')"
      ]
     },
     "execution_count": 350,
     "metadata": {},
     "output_type": "execute_result"
    }
   ],
   "source": [
    "X.columns"
   ]
  },
  {
   "cell_type": "code",
   "execution_count": 369,
   "metadata": {},
   "outputs": [
    {
     "data": {
      "text/plain": [
       "[NumericColumn(key='Keyword', shape=(1,), default_value=None, dtype=tf.float32, normalizer_fn=None),\n",
       " NumericColumn(key='CPC', shape=(1,), default_value=None, dtype=tf.float32, normalizer_fn=None),\n",
       " NumericColumn(key='CTR', shape=(1,), default_value=None, dtype=tf.float32, normalizer_fn=None),\n",
       " NumericColumn(key='Impressions', shape=(1,), default_value=None, dtype=tf.float32, normalizer_fn=None),\n",
       " NumericColumn(key='Cost', shape=(1,), default_value=None, dtype=tf.float32, normalizer_fn=None),\n",
       " HashedCategoricalColumn(key='keyword', hash_bucket_size=1000, dtype=tf.string)]"
      ]
     },
     "execution_count": 369,
     "metadata": {},
     "output_type": "execute_result"
    }
   ],
   "source": [
    "keyword = tf.feature_column.categorical_column_with_hash_bucket(\"keyword\", hash_bucket_size = 1000)\n",
    "\n",
    "feat_cols = []\n",
    "\n",
    "for col in X.columns:\n",
    "    col = tf.feature_column.numeric_column(col)\n",
    "    feat_cols.append(col)\n",
    "\n",
    "feat_cols.append(keyword)\n",
    "\n",
    "feat_cols"
   ]
  },
  {
   "cell_type": "code",
   "execution_count": 370,
   "metadata": {},
   "outputs": [
    {
     "data": {
      "text/plain": [
       "6"
      ]
     },
     "execution_count": 370,
     "metadata": {},
     "output_type": "execute_result"
    }
   ],
   "source": [
    "len(feat_cols)"
   ]
  },
  {
   "cell_type": "code",
   "execution_count": 371,
   "metadata": {},
   "outputs": [
    {
     "data": {
      "text/plain": [
       "(40719, 5)"
      ]
     },
     "execution_count": 371,
     "metadata": {},
     "output_type": "execute_result"
    }
   ],
   "source": [
    "X_train.shape"
   ]
  },
  {
   "cell_type": "code",
   "execution_count": 372,
   "metadata": {},
   "outputs": [
    {
     "data": {
      "text/plain": [
       "(40719,)"
      ]
     },
     "execution_count": 372,
     "metadata": {},
     "output_type": "execute_result"
    }
   ],
   "source": [
    "y_train.shape"
   ]
  },
  {
   "cell_type": "code",
   "execution_count": 373,
   "metadata": {},
   "outputs": [],
   "source": [
    "## 2) Input Function\n",
    "\n",
    "input_func = tf.estimator.inputs.pandas_input_fn(x = X_train, y = y_train,\n",
    "                                                batch_size = 64, num_epochs = 1000,\n",
    "                                                shuffle = True)"
   ]
  },
  {
   "cell_type": "code",
   "execution_count": 374,
   "metadata": {},
   "outputs": [
    {
     "data": {
      "text/plain": [
       "6"
      ]
     },
     "execution_count": 374,
     "metadata": {},
     "output_type": "execute_result"
    }
   ],
   "source": [
    "len(feat_cols)"
   ]
  },
  {
   "cell_type": "code",
   "execution_count": 375,
   "metadata": {},
   "outputs": [
    {
     "name": "stderr",
     "output_type": "stream",
     "text": [
      "W1024 20:00:14.262848 139667087357760 estimator.py:1811] Using temporary folder as model directory: /tmp/tmp1ranfg6i\n"
     ]
    }
   ],
   "source": [
    "## 3) Estimator Model\n",
    "\n",
    "model = tf.estimator.DNNRegressor(hidden_units = [8,8,8], feature_columns = feat_cols)"
   ]
  },
  {
   "cell_type": "code",
   "execution_count": 376,
   "metadata": {},
   "outputs": [
    {
     "ename": "ValueError",
     "evalue": "Items of feature_columns must be a <class 'tensorflow.python.feature_column.feature_column_v2.DenseColumn'>. You can wrap a categorical column with an embedding_column or indicator_column. Given: HashedCategoricalColumn(key='keyword', hash_bucket_size=1000, dtype=tf.string)",
     "output_type": "error",
     "traceback": [
      "\u001b[0;31m---------------------------------------------------------------------------\u001b[0m",
      "\u001b[0;31mValueError\u001b[0m                                Traceback (most recent call last)",
      "\u001b[0;32m<ipython-input-376-a8c03caecdbf>\u001b[0m in \u001b[0;36m<module>\u001b[0;34m\u001b[0m\n\u001b[0;32m----> 1\u001b[0;31m \u001b[0mmodel\u001b[0m\u001b[0;34m.\u001b[0m\u001b[0mtrain\u001b[0m\u001b[0;34m(\u001b[0m\u001b[0minput_fn\u001b[0m \u001b[0;34m=\u001b[0m \u001b[0minput_func\u001b[0m\u001b[0;34m,\u001b[0m \u001b[0msteps\u001b[0m \u001b[0;34m=\u001b[0m \u001b[0;36m200\u001b[0m\u001b[0;34m)\u001b[0m\u001b[0;34m\u001b[0m\u001b[0;34m\u001b[0m\u001b[0m\n\u001b[0m",
      "\u001b[0;32m~/anaconda3/lib/python3.7/site-packages/tensorflow_estimator/python/estimator/estimator.py\u001b[0m in \u001b[0;36mtrain\u001b[0;34m(self, input_fn, hooks, steps, max_steps, saving_listeners)\u001b[0m\n\u001b[1;32m    365\u001b[0m \u001b[0;34m\u001b[0m\u001b[0m\n\u001b[1;32m    366\u001b[0m       \u001b[0msaving_listeners\u001b[0m \u001b[0;34m=\u001b[0m \u001b[0m_check_listeners_type\u001b[0m\u001b[0;34m(\u001b[0m\u001b[0msaving_listeners\u001b[0m\u001b[0;34m)\u001b[0m\u001b[0;34m\u001b[0m\u001b[0;34m\u001b[0m\u001b[0m\n\u001b[0;32m--> 367\u001b[0;31m       \u001b[0mloss\u001b[0m \u001b[0;34m=\u001b[0m \u001b[0mself\u001b[0m\u001b[0;34m.\u001b[0m\u001b[0m_train_model\u001b[0m\u001b[0;34m(\u001b[0m\u001b[0minput_fn\u001b[0m\u001b[0;34m,\u001b[0m \u001b[0mhooks\u001b[0m\u001b[0;34m,\u001b[0m \u001b[0msaving_listeners\u001b[0m\u001b[0;34m)\u001b[0m\u001b[0;34m\u001b[0m\u001b[0;34m\u001b[0m\u001b[0m\n\u001b[0m\u001b[1;32m    368\u001b[0m       \u001b[0mlogging\u001b[0m\u001b[0;34m.\u001b[0m\u001b[0minfo\u001b[0m\u001b[0;34m(\u001b[0m\u001b[0;34m'Loss for final step: %s.'\u001b[0m\u001b[0;34m,\u001b[0m \u001b[0mloss\u001b[0m\u001b[0;34m)\u001b[0m\u001b[0;34m\u001b[0m\u001b[0;34m\u001b[0m\u001b[0m\n\u001b[1;32m    369\u001b[0m       \u001b[0;32mreturn\u001b[0m \u001b[0mself\u001b[0m\u001b[0;34m\u001b[0m\u001b[0;34m\u001b[0m\u001b[0m\n",
      "\u001b[0;32m~/anaconda3/lib/python3.7/site-packages/tensorflow_estimator/python/estimator/estimator.py\u001b[0m in \u001b[0;36m_train_model\u001b[0;34m(self, input_fn, hooks, saving_listeners)\u001b[0m\n\u001b[1;32m   1156\u001b[0m       \u001b[0;32mreturn\u001b[0m \u001b[0mself\u001b[0m\u001b[0;34m.\u001b[0m\u001b[0m_train_model_distributed\u001b[0m\u001b[0;34m(\u001b[0m\u001b[0minput_fn\u001b[0m\u001b[0;34m,\u001b[0m \u001b[0mhooks\u001b[0m\u001b[0;34m,\u001b[0m \u001b[0msaving_listeners\u001b[0m\u001b[0;34m)\u001b[0m\u001b[0;34m\u001b[0m\u001b[0;34m\u001b[0m\u001b[0m\n\u001b[1;32m   1157\u001b[0m     \u001b[0;32melse\u001b[0m\u001b[0;34m:\u001b[0m\u001b[0;34m\u001b[0m\u001b[0;34m\u001b[0m\u001b[0m\n\u001b[0;32m-> 1158\u001b[0;31m       \u001b[0;32mreturn\u001b[0m \u001b[0mself\u001b[0m\u001b[0;34m.\u001b[0m\u001b[0m_train_model_default\u001b[0m\u001b[0;34m(\u001b[0m\u001b[0minput_fn\u001b[0m\u001b[0;34m,\u001b[0m \u001b[0mhooks\u001b[0m\u001b[0;34m,\u001b[0m \u001b[0msaving_listeners\u001b[0m\u001b[0;34m)\u001b[0m\u001b[0;34m\u001b[0m\u001b[0;34m\u001b[0m\u001b[0m\n\u001b[0m\u001b[1;32m   1159\u001b[0m \u001b[0;34m\u001b[0m\u001b[0m\n\u001b[1;32m   1160\u001b[0m   \u001b[0;32mdef\u001b[0m \u001b[0m_train_model_default\u001b[0m\u001b[0;34m(\u001b[0m\u001b[0mself\u001b[0m\u001b[0;34m,\u001b[0m \u001b[0minput_fn\u001b[0m\u001b[0;34m,\u001b[0m \u001b[0mhooks\u001b[0m\u001b[0;34m,\u001b[0m \u001b[0msaving_listeners\u001b[0m\u001b[0;34m)\u001b[0m\u001b[0;34m:\u001b[0m\u001b[0;34m\u001b[0m\u001b[0;34m\u001b[0m\u001b[0m\n",
      "\u001b[0;32m~/anaconda3/lib/python3.7/site-packages/tensorflow_estimator/python/estimator/estimator.py\u001b[0m in \u001b[0;36m_train_model_default\u001b[0;34m(self, input_fn, hooks, saving_listeners)\u001b[0m\n\u001b[1;32m   1186\u001b[0m       \u001b[0mworker_hooks\u001b[0m\u001b[0;34m.\u001b[0m\u001b[0mextend\u001b[0m\u001b[0;34m(\u001b[0m\u001b[0minput_hooks\u001b[0m\u001b[0;34m)\u001b[0m\u001b[0;34m\u001b[0m\u001b[0;34m\u001b[0m\u001b[0m\n\u001b[1;32m   1187\u001b[0m       estimator_spec = self._call_model_fn(\n\u001b[0;32m-> 1188\u001b[0;31m           features, labels, ModeKeys.TRAIN, self.config)\n\u001b[0m\u001b[1;32m   1189\u001b[0m       \u001b[0mglobal_step_tensor\u001b[0m \u001b[0;34m=\u001b[0m \u001b[0mtraining_util\u001b[0m\u001b[0;34m.\u001b[0m\u001b[0mget_global_step\u001b[0m\u001b[0;34m(\u001b[0m\u001b[0mg\u001b[0m\u001b[0;34m)\u001b[0m\u001b[0;34m\u001b[0m\u001b[0;34m\u001b[0m\u001b[0m\n\u001b[1;32m   1190\u001b[0m       return self._train_with_estimator_spec(estimator_spec, worker_hooks,\n",
      "\u001b[0;32m~/anaconda3/lib/python3.7/site-packages/tensorflow_estimator/python/estimator/estimator.py\u001b[0m in \u001b[0;36m_call_model_fn\u001b[0;34m(self, features, labels, mode, config)\u001b[0m\n\u001b[1;32m   1144\u001b[0m \u001b[0;34m\u001b[0m\u001b[0m\n\u001b[1;32m   1145\u001b[0m     \u001b[0mlogging\u001b[0m\u001b[0;34m.\u001b[0m\u001b[0minfo\u001b[0m\u001b[0;34m(\u001b[0m\u001b[0;34m'Calling model_fn.'\u001b[0m\u001b[0;34m)\u001b[0m\u001b[0;34m\u001b[0m\u001b[0;34m\u001b[0m\u001b[0m\n\u001b[0;32m-> 1146\u001b[0;31m     \u001b[0mmodel_fn_results\u001b[0m \u001b[0;34m=\u001b[0m \u001b[0mself\u001b[0m\u001b[0;34m.\u001b[0m\u001b[0m_model_fn\u001b[0m\u001b[0;34m(\u001b[0m\u001b[0mfeatures\u001b[0m\u001b[0;34m=\u001b[0m\u001b[0mfeatures\u001b[0m\u001b[0;34m,\u001b[0m \u001b[0;34m**\u001b[0m\u001b[0mkwargs\u001b[0m\u001b[0;34m)\u001b[0m\u001b[0;34m\u001b[0m\u001b[0;34m\u001b[0m\u001b[0m\n\u001b[0m\u001b[1;32m   1147\u001b[0m     \u001b[0mlogging\u001b[0m\u001b[0;34m.\u001b[0m\u001b[0minfo\u001b[0m\u001b[0;34m(\u001b[0m\u001b[0;34m'Done calling model_fn.'\u001b[0m\u001b[0;34m)\u001b[0m\u001b[0;34m\u001b[0m\u001b[0;34m\u001b[0m\u001b[0m\n\u001b[1;32m   1148\u001b[0m \u001b[0;34m\u001b[0m\u001b[0m\n",
      "\u001b[0;32m~/anaconda3/lib/python3.7/site-packages/tensorflow_estimator/python/estimator/canned/dnn.py\u001b[0m in \u001b[0;36m_model_fn\u001b[0;34m(features, labels, mode, config)\u001b[0m\n\u001b[1;32m   1213\u001b[0m           \u001b[0minput_layer_partitioner\u001b[0m\u001b[0;34m=\u001b[0m\u001b[0minput_layer_partitioner\u001b[0m\u001b[0;34m,\u001b[0m\u001b[0;34m\u001b[0m\u001b[0;34m\u001b[0m\u001b[0m\n\u001b[1;32m   1214\u001b[0m           \u001b[0mconfig\u001b[0m\u001b[0;34m=\u001b[0m\u001b[0mconfig\u001b[0m\u001b[0;34m,\u001b[0m\u001b[0;34m\u001b[0m\u001b[0;34m\u001b[0m\u001b[0m\n\u001b[0;32m-> 1215\u001b[0;31m           batch_norm=batch_norm)\n\u001b[0m\u001b[1;32m   1216\u001b[0m \u001b[0;34m\u001b[0m\u001b[0m\n\u001b[1;32m   1217\u001b[0m     super(DNNRegressor, self).__init__(\n",
      "\u001b[0;32m~/anaconda3/lib/python3.7/site-packages/tensorflow_estimator/python/estimator/canned/dnn.py\u001b[0m in \u001b[0;36m_dnn_model_fn\u001b[0;34m(features, labels, mode, head, hidden_units, feature_columns, optimizer, activation_fn, dropout, input_layer_partitioner, config, use_tpu, batch_norm)\u001b[0m\n\u001b[1;32m    462\u001b[0m         \u001b[0minput_layer_partitioner\u001b[0m\u001b[0;34m=\u001b[0m\u001b[0minput_layer_partitioner\u001b[0m\u001b[0;34m,\u001b[0m\u001b[0;34m\u001b[0m\u001b[0;34m\u001b[0m\u001b[0m\n\u001b[1;32m    463\u001b[0m         batch_norm=batch_norm)\n\u001b[0;32m--> 464\u001b[0;31m     \u001b[0mlogits\u001b[0m \u001b[0;34m=\u001b[0m \u001b[0mlogit_fn\u001b[0m\u001b[0;34m(\u001b[0m\u001b[0mfeatures\u001b[0m\u001b[0;34m=\u001b[0m\u001b[0mfeatures\u001b[0m\u001b[0;34m,\u001b[0m \u001b[0mmode\u001b[0m\u001b[0;34m=\u001b[0m\u001b[0mmode\u001b[0m\u001b[0;34m)\u001b[0m\u001b[0;34m\u001b[0m\u001b[0;34m\u001b[0m\u001b[0m\n\u001b[0m\u001b[1;32m    465\u001b[0m \u001b[0;34m\u001b[0m\u001b[0m\n\u001b[1;32m    466\u001b[0m     return _get_dnn_estimator_spec(use_tpu, head, features, labels, mode,\n",
      "\u001b[0;32m~/anaconda3/lib/python3.7/site-packages/tensorflow_estimator/python/estimator/canned/dnn.py\u001b[0m in \u001b[0;36mdnn_logit_fn\u001b[0;34m(features, mode)\u001b[0m\n\u001b[1;32m    104\u001b[0m         \u001b[0minput_layer_partitioner\u001b[0m\u001b[0;34m,\u001b[0m\u001b[0;34m\u001b[0m\u001b[0;34m\u001b[0m\u001b[0m\n\u001b[1;32m    105\u001b[0m         \u001b[0mbatch_norm\u001b[0m\u001b[0;34m,\u001b[0m\u001b[0;34m\u001b[0m\u001b[0;34m\u001b[0m\u001b[0m\n\u001b[0;32m--> 106\u001b[0;31m         name='dnn')\n\u001b[0m\u001b[1;32m    107\u001b[0m     \u001b[0;32mreturn\u001b[0m \u001b[0mdnn_model\u001b[0m\u001b[0;34m(\u001b[0m\u001b[0mfeatures\u001b[0m\u001b[0;34m,\u001b[0m \u001b[0mmode\u001b[0m\u001b[0;34m)\u001b[0m\u001b[0;34m\u001b[0m\u001b[0;34m\u001b[0m\u001b[0m\n\u001b[1;32m    108\u001b[0m \u001b[0;34m\u001b[0m\u001b[0m\n",
      "\u001b[0;32m~/anaconda3/lib/python3.7/site-packages/tensorflow_estimator/python/estimator/canned/dnn.py\u001b[0m in \u001b[0;36m__init__\u001b[0;34m(self, units, hidden_units, feature_columns, activation_fn, dropout, input_layer_partitioner, batch_norm, name, **kwargs)\u001b[0m\n\u001b[1;32m    182\u001b[0m     \u001b[0;32mif\u001b[0m \u001b[0mfeature_column_lib\u001b[0m\u001b[0;34m.\u001b[0m\u001b[0mis_feature_column_v2\u001b[0m\u001b[0;34m(\u001b[0m\u001b[0mfeature_columns\u001b[0m\u001b[0;34m)\u001b[0m\u001b[0;34m:\u001b[0m\u001b[0;34m\u001b[0m\u001b[0;34m\u001b[0m\u001b[0m\n\u001b[1;32m    183\u001b[0m       self._input_layer = feature_column_lib.DenseFeatures(\n\u001b[0;32m--> 184\u001b[0;31m           feature_columns=feature_columns, name='input_layer')\n\u001b[0m\u001b[1;32m    185\u001b[0m     \u001b[0;32melse\u001b[0m\u001b[0;34m:\u001b[0m\u001b[0;34m\u001b[0m\u001b[0;34m\u001b[0m\u001b[0m\n\u001b[1;32m    186\u001b[0m       self._input_layer = feature_column.InputLayer(\n",
      "\u001b[0;32m~/anaconda3/lib/python3.7/site-packages/tensorflow/python/feature_column/feature_column_v2.py\u001b[0m in \u001b[0;36m__init__\u001b[0;34m(self, feature_columns, trainable, name, **kwargs)\u001b[0m\n\u001b[1;32m    436\u001b[0m         \u001b[0mname\u001b[0m\u001b[0;34m=\u001b[0m\u001b[0mname\u001b[0m\u001b[0;34m,\u001b[0m\u001b[0;34m\u001b[0m\u001b[0;34m\u001b[0m\u001b[0m\n\u001b[1;32m    437\u001b[0m         \u001b[0mexpected_column_type\u001b[0m\u001b[0;34m=\u001b[0m\u001b[0mDenseColumn\u001b[0m\u001b[0;34m,\u001b[0m\u001b[0;34m\u001b[0m\u001b[0;34m\u001b[0m\u001b[0m\n\u001b[0;32m--> 438\u001b[0;31m         **kwargs)\n\u001b[0m\u001b[1;32m    439\u001b[0m \u001b[0;34m\u001b[0m\u001b[0m\n\u001b[1;32m    440\u001b[0m   \u001b[0;34m@\u001b[0m\u001b[0mproperty\u001b[0m\u001b[0;34m\u001b[0m\u001b[0;34m\u001b[0m\u001b[0m\n",
      "\u001b[0;32m~/anaconda3/lib/python3.7/site-packages/tensorflow/python/feature_column/feature_column_v2.py\u001b[0m in \u001b[0;36m__init__\u001b[0;34m(self, feature_columns, expected_column_type, trainable, name, **kwargs)\u001b[0m\n\u001b[1;32m    336\u001b[0m             \u001b[0;34m'You can wrap a categorical column with an '\u001b[0m\u001b[0;34m\u001b[0m\u001b[0;34m\u001b[0m\u001b[0m\n\u001b[1;32m    337\u001b[0m             'embedding_column or indicator_column. Given: {}'.format(\n\u001b[0;32m--> 338\u001b[0;31m                 expected_column_type, column))\n\u001b[0m\u001b[1;32m    339\u001b[0m \u001b[0;34m\u001b[0m\u001b[0m\n\u001b[1;32m    340\u001b[0m   \u001b[0;32mdef\u001b[0m \u001b[0mbuild\u001b[0m\u001b[0;34m(\u001b[0m\u001b[0mself\u001b[0m\u001b[0;34m,\u001b[0m \u001b[0m_\u001b[0m\u001b[0;34m)\u001b[0m\u001b[0;34m:\u001b[0m\u001b[0;34m\u001b[0m\u001b[0;34m\u001b[0m\u001b[0m\n",
      "\u001b[0;31mValueError\u001b[0m: Items of feature_columns must be a <class 'tensorflow.python.feature_column.feature_column_v2.DenseColumn'>. You can wrap a categorical column with an embedding_column or indicator_column. Given: HashedCategoricalColumn(key='keyword', hash_bucket_size=1000, dtype=tf.string)"
     ]
    }
   ],
   "source": [
    "model.train(input_fn = input_func, steps = 200)"
   ]
  },
  {
   "cell_type": "code",
   "execution_count": 276,
   "metadata": {},
   "outputs": [],
   "source": [
    "predict_input_func = tf.estimator.inputs.pandas_input_fn(x = X_test, batch_size = 64,\n",
    "                                                        num_epochs = 1, shuffle = True)"
   ]
  },
  {
   "cell_type": "code",
   "execution_count": 277,
   "metadata": {},
   "outputs": [],
   "source": [
    "pred_generator = model.predict(input_fn = predict_input_func)"
   ]
  },
  {
   "cell_type": "code",
   "execution_count": 278,
   "metadata": {},
   "outputs": [],
   "source": [
    "predictions = list(pred_generator)"
   ]
  },
  {
   "cell_type": "code",
   "execution_count": 279,
   "metadata": {},
   "outputs": [
    {
     "name": "stdout",
     "output_type": "stream",
     "text": [
      "282032\n"
     ]
    }
   ],
   "source": [
    "final_predictions = [pred[\"predictions\"] for pred in predictions]\n",
    "final_predictions\n",
    "print(len(final_predictions))"
   ]
  },
  {
   "cell_type": "code",
   "execution_count": 280,
   "metadata": {},
   "outputs": [
    {
     "name": "stdout",
     "output_type": "stream",
     "text": [
      "2020.7134591653312\n"
     ]
    }
   ],
   "source": [
    "from sklearn.metrics import mean_squared_error\n",
    "\n",
    "MSE = mean_squared_error(y_test, final_predictions) ** 0.5\n",
    "\n",
    "print(MSE)"
   ]
  },
  {
   "cell_type": "code",
   "execution_count": 281,
   "metadata": {},
   "outputs": [],
   "source": [
    "from sklearn.metrics import r2_score"
   ]
  },
  {
   "cell_type": "code",
   "execution_count": 282,
   "metadata": {},
   "outputs": [
    {
     "name": "stdout",
     "output_type": "stream",
     "text": [
      "Model Accuracy: -0.357\n"
     ]
    }
   ],
   "source": [
    "print(\"Model Accuracy: {0:0.3f}\".format(r2_score(y_test, final_predictions)))"
   ]
  },
  {
   "cell_type": "code",
   "execution_count": 222,
   "metadata": {},
   "outputs": [
    {
     "data": {
      "text/html": [
       "<div>\n",
       "<style scoped>\n",
       "    .dataframe tbody tr th:only-of-type {\n",
       "        vertical-align: middle;\n",
       "    }\n",
       "\n",
       "    .dataframe tbody tr th {\n",
       "        vertical-align: top;\n",
       "    }\n",
       "\n",
       "    .dataframe thead th {\n",
       "        text-align: right;\n",
       "    }\n",
       "</style>\n",
       "<table border=\"1\" class=\"dataframe\">\n",
       "  <thead>\n",
       "    <tr style=\"text-align: right;\">\n",
       "      <th></th>\n",
       "      <th>Date</th>\n",
       "      <th>Market</th>\n",
       "      <th>Keyword</th>\n",
       "      <th>Average.Position</th>\n",
       "      <th>CPC</th>\n",
       "      <th>Clicks</th>\n",
       "      <th>CTR</th>\n",
       "      <th>Impressions</th>\n",
       "      <th>Cost</th>\n",
       "    </tr>\n",
       "  </thead>\n",
       "  <tbody>\n",
       "    <tr>\n",
       "      <th>286428</th>\n",
       "      <td>20121020</td>\n",
       "      <td>1</td>\n",
       "      <td>credit card company</td>\n",
       "      <td>1.0</td>\n",
       "      <td>0.48</td>\n",
       "      <td>12.26</td>\n",
       "      <td>7.7</td>\n",
       "      <td>159.0</td>\n",
       "      <td>5.89</td>\n",
       "    </tr>\n",
       "    <tr>\n",
       "      <th>163763</th>\n",
       "      <td>20121021</td>\n",
       "      <td>0</td>\n",
       "      <td>life insurance quote</td>\n",
       "      <td>1.0</td>\n",
       "      <td>15.82</td>\n",
       "      <td>22.34</td>\n",
       "      <td>1.7</td>\n",
       "      <td>1343.0</td>\n",
       "      <td>353.57</td>\n",
       "    </tr>\n",
       "    <tr>\n",
       "      <th>293225</th>\n",
       "      <td>20121101</td>\n",
       "      <td>1</td>\n",
       "      <td>mortgages</td>\n",
       "      <td>1.0</td>\n",
       "      <td>10.27</td>\n",
       "      <td>1098.48</td>\n",
       "      <td>2.4</td>\n",
       "      <td>45002.0</td>\n",
       "      <td>11281.14</td>\n",
       "    </tr>\n",
       "    <tr>\n",
       "      <th>217868</th>\n",
       "      <td>20130117</td>\n",
       "      <td>0</td>\n",
       "      <td>debt consolidation</td>\n",
       "      <td>1.0</td>\n",
       "      <td>52.70</td>\n",
       "      <td>375.10</td>\n",
       "      <td>1.9</td>\n",
       "      <td>19399.0</td>\n",
       "      <td>19768.77</td>\n",
       "    </tr>\n",
       "    <tr>\n",
       "      <th>200937</th>\n",
       "      <td>20121221</td>\n",
       "      <td>0</td>\n",
       "      <td>school quotes</td>\n",
       "      <td>1.0</td>\n",
       "      <td>0.22</td>\n",
       "      <td>0.16</td>\n",
       "      <td>0.2</td>\n",
       "      <td>89.0</td>\n",
       "      <td>0.03</td>\n",
       "    </tr>\n",
       "    <tr>\n",
       "      <th>119768</th>\n",
       "      <td>20120811</td>\n",
       "      <td>0</td>\n",
       "      <td>small business credit cards</td>\n",
       "      <td>1.0</td>\n",
       "      <td>12.59</td>\n",
       "      <td>34.60</td>\n",
       "      <td>5.1</td>\n",
       "      <td>677.0</td>\n",
       "      <td>435.61</td>\n",
       "    </tr>\n",
       "    <tr>\n",
       "      <th>262599</th>\n",
       "      <td>20120912</td>\n",
       "      <td>1</td>\n",
       "      <td>ways to make money</td>\n",
       "      <td>1.0</td>\n",
       "      <td>11.20</td>\n",
       "      <td>2.88</td>\n",
       "      <td>0.6</td>\n",
       "      <td>516.0</td>\n",
       "      <td>32.28</td>\n",
       "    </tr>\n",
       "    <tr>\n",
       "      <th>151332</th>\n",
       "      <td>20120930</td>\n",
       "      <td>0</td>\n",
       "      <td>consolidate student loans</td>\n",
       "      <td>1.0</td>\n",
       "      <td>27.73</td>\n",
       "      <td>6.03</td>\n",
       "      <td>0.6</td>\n",
       "      <td>957.0</td>\n",
       "      <td>167.16</td>\n",
       "    </tr>\n",
       "    <tr>\n",
       "      <th>331028</th>\n",
       "      <td>20121231</td>\n",
       "      <td>1</td>\n",
       "      <td>apply credit cards</td>\n",
       "      <td>1.0</td>\n",
       "      <td>64.33</td>\n",
       "      <td>4.37</td>\n",
       "      <td>4.3</td>\n",
       "      <td>100.0</td>\n",
       "      <td>280.87</td>\n",
       "    </tr>\n",
       "    <tr>\n",
       "      <th>90855</th>\n",
       "      <td>20121229</td>\n",
       "      <td>0</td>\n",
       "      <td>primary pulmonary hypertension</td>\n",
       "      <td>1.0</td>\n",
       "      <td>6.96</td>\n",
       "      <td>1.96</td>\n",
       "      <td>1.0</td>\n",
       "      <td>189.0</td>\n",
       "      <td>13.66</td>\n",
       "    </tr>\n",
       "  </tbody>\n",
       "</table>\n",
       "</div>"
      ],
      "text/plain": [
       "            Date  Market                         Keyword  Average.Position  \\\n",
       "286428  20121020       1             credit card company               1.0   \n",
       "163763  20121021       0            life insurance quote               1.0   \n",
       "293225  20121101       1                       mortgages               1.0   \n",
       "217868  20130117       0              debt consolidation               1.0   \n",
       "200937  20121221       0                   school quotes               1.0   \n",
       "119768  20120811       0     small business credit cards               1.0   \n",
       "262599  20120912       1              ways to make money               1.0   \n",
       "151332  20120930       0       consolidate student loans               1.0   \n",
       "331028  20121231       1              apply credit cards               1.0   \n",
       "90855   20121229       0  primary pulmonary hypertension               1.0   \n",
       "\n",
       "          CPC   Clicks  CTR  Impressions      Cost  \n",
       "286428   0.48    12.26  7.7        159.0      5.89  \n",
       "163763  15.82    22.34  1.7       1343.0    353.57  \n",
       "293225  10.27  1098.48  2.4      45002.0  11281.14  \n",
       "217868  52.70   375.10  1.9      19399.0  19768.77  \n",
       "200937   0.22     0.16  0.2         89.0      0.03  \n",
       "119768  12.59    34.60  5.1        677.0    435.61  \n",
       "262599  11.20     2.88  0.6        516.0     32.28  \n",
       "151332  27.73     6.03  0.6        957.0    167.16  \n",
       "331028  64.33     4.37  4.3        100.0    280.87  \n",
       "90855    6.96     1.96  1.0        189.0     13.66  "
      ]
     },
     "execution_count": 222,
     "metadata": {},
     "output_type": "execute_result"
    }
   ],
   "source": [
    "new_df.head(10)"
   ]
  },
  {
   "cell_type": "code",
   "execution_count": 407,
   "metadata": {},
   "outputs": [
    {
     "data": {
      "text/html": [
       "<div>\n",
       "<style scoped>\n",
       "    .dataframe tbody tr th:only-of-type {\n",
       "        vertical-align: middle;\n",
       "    }\n",
       "\n",
       "    .dataframe tbody tr th {\n",
       "        vertical-align: top;\n",
       "    }\n",
       "\n",
       "    .dataframe thead th {\n",
       "        text-align: right;\n",
       "    }\n",
       "</style>\n",
       "<table border=\"1\" class=\"dataframe\">\n",
       "  <thead>\n",
       "    <tr style=\"text-align: right;\">\n",
       "      <th></th>\n",
       "      <th>Date</th>\n",
       "      <th>Market</th>\n",
       "      <th>Keyword</th>\n",
       "      <th>Average.Position</th>\n",
       "      <th>CPC</th>\n",
       "      <th>Clicks</th>\n",
       "      <th>CTR</th>\n",
       "      <th>Impressions</th>\n",
       "      <th>Cost</th>\n",
       "    </tr>\n",
       "  </thead>\n",
       "  <tbody>\n",
       "    <tr>\n",
       "      <th>219232</th>\n",
       "      <td>20130119</td>\n",
       "      <td>US-Market</td>\n",
       "      <td>webhost</td>\n",
       "      <td>1.0</td>\n",
       "      <td>2.10</td>\n",
       "      <td>5.16</td>\n",
       "      <td>1.1</td>\n",
       "      <td>473.0</td>\n",
       "      <td>10.85</td>\n",
       "    </tr>\n",
       "    <tr>\n",
       "      <th>188445</th>\n",
       "      <td>20121201</td>\n",
       "      <td>US-Market</td>\n",
       "      <td>credit cards com</td>\n",
       "      <td>1.0</td>\n",
       "      <td>16.39</td>\n",
       "      <td>121.46</td>\n",
       "      <td>5.2</td>\n",
       "      <td>2324.0</td>\n",
       "      <td>1990.82</td>\n",
       "    </tr>\n",
       "    <tr>\n",
       "      <th>133098</th>\n",
       "      <td>20120902</td>\n",
       "      <td>US-Market</td>\n",
       "      <td>college credit</td>\n",
       "      <td>1.0</td>\n",
       "      <td>358.08</td>\n",
       "      <td>0.00</td>\n",
       "      <td>0.0</td>\n",
       "      <td>136.0</td>\n",
       "      <td>1.71</td>\n",
       "    </tr>\n",
       "    <tr>\n",
       "      <th>224183</th>\n",
       "      <td>20130127</td>\n",
       "      <td>US-Market</td>\n",
       "      <td>credit cards for students</td>\n",
       "      <td>1.0</td>\n",
       "      <td>65.64</td>\n",
       "      <td>20.75</td>\n",
       "      <td>3.7</td>\n",
       "      <td>559.0</td>\n",
       "      <td>1362.04</td>\n",
       "    </tr>\n",
       "    <tr>\n",
       "      <th>111030</th>\n",
       "      <td>20120728</td>\n",
       "      <td>US-Market</td>\n",
       "      <td>money fast</td>\n",
       "      <td>1.0</td>\n",
       "      <td>4.58</td>\n",
       "      <td>33.65</td>\n",
       "      <td>4.2</td>\n",
       "      <td>794.0</td>\n",
       "      <td>154.07</td>\n",
       "    </tr>\n",
       "  </tbody>\n",
       "</table>\n",
       "</div>"
      ],
      "text/plain": [
       "            Date     Market                    Keyword  Average.Position  \\\n",
       "219232  20130119  US-Market                    webhost               1.0   \n",
       "188445  20121201  US-Market           credit cards com               1.0   \n",
       "133098  20120902  US-Market             college credit               1.0   \n",
       "224183  20130127  US-Market  credit cards for students               1.0   \n",
       "111030  20120728  US-Market                 money fast               1.0   \n",
       "\n",
       "           CPC  Clicks  CTR  Impressions     Cost  \n",
       "219232    2.10    5.16  1.1        473.0    10.85  \n",
       "188445   16.39  121.46  5.2       2324.0  1990.82  \n",
       "133098  358.08    0.00  0.0        136.0     1.71  \n",
       "224183   65.64   20.75  3.7        559.0  1362.04  \n",
       "111030    4.58   33.65  4.2        794.0   154.07  "
      ]
     },
     "execution_count": 407,
     "metadata": {},
     "output_type": "execute_result"
    }
   ],
   "source": [
    "new_df.head()"
   ]
  },
  {
   "cell_type": "code",
   "execution_count": 429,
   "metadata": {},
   "outputs": [
    {
     "name": "stdout",
     "output_type": "stream",
     "text": [
      "6\n",
      "1\n"
     ]
    }
   ],
   "source": [
    "max_entry_len = max([len(string.split()) for string in list(new_df['Keyword'])])\n",
    "\n",
    "min_entry_len = min([len(string.split()) for string in list(new_df['Keyword'])])\n",
    "\n",
    "print(max_entry_len)\n",
    "print(min_entry_len)"
   ]
  },
  {
   "cell_type": "code",
   "execution_count": 431,
   "metadata": {},
   "outputs": [
    {
     "name": "stdout",
     "output_type": "stream",
     "text": [
      "8\n",
      "1\n"
     ]
    }
   ],
   "source": [
    "max_entry_len_previous = max([len(string.split()) for string in list(df['Keyword'])])\n",
    "\n",
    "min_entry_len_previous = min([len(string.split()) for string in list(df['Keyword'])])\n",
    "\n",
    "print(max_entry_len_previous)\n",
    "print(min_entry_len_previous)"
   ]
  },
  {
   "cell_type": "code",
   "execution_count": null,
   "metadata": {},
   "outputs": [],
   "source": []
  }
 ],
 "metadata": {
  "kernelspec": {
   "display_name": "Python 3",
   "language": "python",
   "name": "python3"
  },
  "language_info": {
   "codemirror_mode": {
    "name": "ipython",
    "version": 3
   },
   "file_extension": ".py",
   "mimetype": "text/x-python",
   "name": "python",
   "nbconvert_exporter": "python",
   "pygments_lexer": "ipython3",
   "version": "3.7.3"
  }
 },
 "nbformat": 4,
 "nbformat_minor": 2
}
