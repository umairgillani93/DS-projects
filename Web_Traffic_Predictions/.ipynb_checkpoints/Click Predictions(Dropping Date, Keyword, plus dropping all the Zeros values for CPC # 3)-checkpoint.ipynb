{
 "cells": [
  {
   "cell_type": "markdown",
   "metadata": {},
   "source": [
    "## Loading Dataset and Importing Libraries:\n",
    "\n",
    "Let's start off with few essential __Imports__. Below I've explained briefly the purpose of imported libraries.\n",
    "\n",
    "__pandas:__ creating dataframes and data pre-processing.  \n",
    "__matplotlib:__ data visualization.  \n",
    "__seaborn:__ data visualization.  \n",
    "__warnings:__ to get rid off those annoying warnigns.    \n",
    "__gensim:__ creating word embeddings, implementing __Word2Vec__ for keyword column.  \n",
    "__keras:__ for implementing deep neural networks and Keras Functional API (for multiple input models).    \n",
    "__nltk:__ for performing Natural language preprocessing tasks (stop words removal, tokenization etc).    \n",
    "__sklearn:__ splitting the training and test data, features normalizations, shuffling dataframe and for applying ML algorithms if needed!    \n",
    "__collections:__ since it gets tidious sometimes to write your own code, for word count, BOW, etc. So it's better to use, built-in pythons's collections library.  "
   ]
  },
  {
   "cell_type": "code",
   "execution_count": 33,
   "metadata": {},
   "outputs": [],
   "source": [
    "import pandas as pd\n",
    "import matplotlib.pyplot as plt\n",
    "import seaborn as sns\n",
    "import warnings\n",
    "import gensim\n",
    "import keras\n",
    "from keras.layers import Input, Dense, concatenate, Activation\n",
    "from keras.models import Sequential\n",
    "from keras.models import Model\n",
    "import nltk\n",
    "from nltk import RegexpTokenizer\n",
    "from nltk.corpus import stopwords\n",
    "from nltk.tokenize import word_tokenize\n",
    "from sklearn import metrics\n",
    "from sklearn.linear_model import LinearRegression\n",
    "from sklearn.preprocessing import StandardScaler\n",
    "from sklearn.model_selection import train_test_split\n",
    "from sklearn.utils import shuffle # we can also shuffle in input_func with tensorflow\n",
    "warnings.filterwarnings(\"ignore\")\n",
    "from collections import Counter\n",
    "\n",
    "%matplotlib inline"
   ]
  },
  {
   "cell_type": "markdown",
   "metadata": {},
   "source": [
    "__Okay.__ Once we're done with importing all the libraries we needed. Let's go ahead and load our data set. Check the head of it, get some basic information about every single feature, and finally applying pandas built-in describe() method, to see some high-level statistical insighs of the data set have."
   ]
  },
  {
   "cell_type": "code",
   "execution_count": 34,
   "metadata": {},
   "outputs": [],
   "source": [
    "df = pd.read_csv('SEM_KeyWord_Dataset.csv')"
   ]
  },
  {
   "cell_type": "code",
   "execution_count": 35,
   "metadata": {},
   "outputs": [
    {
     "data": {
      "text/html": [
       "<div>\n",
       "<style scoped>\n",
       "    .dataframe tbody tr th:only-of-type {\n",
       "        vertical-align: middle;\n",
       "    }\n",
       "\n",
       "    .dataframe tbody tr th {\n",
       "        vertical-align: top;\n",
       "    }\n",
       "\n",
       "    .dataframe thead th {\n",
       "        text-align: right;\n",
       "    }\n",
       "</style>\n",
       "<table border=\"1\" class=\"dataframe\">\n",
       "  <thead>\n",
       "    <tr style=\"text-align: right;\">\n",
       "      <th></th>\n",
       "      <th>Date</th>\n",
       "      <th>Market</th>\n",
       "      <th>Keyword</th>\n",
       "      <th>Average.Position</th>\n",
       "      <th>CPC</th>\n",
       "      <th>Clicks</th>\n",
       "      <th>CTR</th>\n",
       "      <th>Impressions</th>\n",
       "      <th>Cost</th>\n",
       "    </tr>\n",
       "  </thead>\n",
       "  <tbody>\n",
       "    <tr>\n",
       "      <th>0</th>\n",
       "      <td>20120524</td>\n",
       "      <td>US-Market</td>\n",
       "      <td>secure online back up</td>\n",
       "      <td>0.0</td>\n",
       "      <td>0.0</td>\n",
       "      <td>0.00</td>\n",
       "      <td>0.00%</td>\n",
       "      <td>0.0</td>\n",
       "      <td>0.00</td>\n",
       "    </tr>\n",
       "    <tr>\n",
       "      <th>1</th>\n",
       "      <td>20120524</td>\n",
       "      <td>US-Market</td>\n",
       "      <td>agile management software</td>\n",
       "      <td>1.0</td>\n",
       "      <td>1.2</td>\n",
       "      <td>21.22</td>\n",
       "      <td>8.20%</td>\n",
       "      <td>260.0</td>\n",
       "      <td>25.45</td>\n",
       "    </tr>\n",
       "    <tr>\n",
       "      <th>2</th>\n",
       "      <td>20120524</td>\n",
       "      <td>US-Market</td>\n",
       "      <td>crm for financial</td>\n",
       "      <td>0.0</td>\n",
       "      <td>0.0</td>\n",
       "      <td>0.00</td>\n",
       "      <td>0.00%</td>\n",
       "      <td>0.0</td>\n",
       "      <td>0.00</td>\n",
       "    </tr>\n",
       "    <tr>\n",
       "      <th>3</th>\n",
       "      <td>20120524</td>\n",
       "      <td>US-Market</td>\n",
       "      <td>disaster recovery planning for it</td>\n",
       "      <td>0.0</td>\n",
       "      <td>0.0</td>\n",
       "      <td>0.00</td>\n",
       "      <td>0.00%</td>\n",
       "      <td>0.0</td>\n",
       "      <td>0.00</td>\n",
       "    </tr>\n",
       "    <tr>\n",
       "      <th>4</th>\n",
       "      <td>20120524</td>\n",
       "      <td>US-Market</td>\n",
       "      <td>tracking a vehicle</td>\n",
       "      <td>0.0</td>\n",
       "      <td>0.0</td>\n",
       "      <td>0.00</td>\n",
       "      <td>0.00%</td>\n",
       "      <td>0.0</td>\n",
       "      <td>0.00</td>\n",
       "    </tr>\n",
       "  </tbody>\n",
       "</table>\n",
       "</div>"
      ],
      "text/plain": [
       "       Date     Market                            Keyword  Average.Position  \\\n",
       "0  20120524  US-Market              secure online back up               0.0   \n",
       "1  20120524  US-Market          agile management software               1.0   \n",
       "2  20120524  US-Market                  crm for financial               0.0   \n",
       "3  20120524  US-Market  disaster recovery planning for it               0.0   \n",
       "4  20120524  US-Market                 tracking a vehicle               0.0   \n",
       "\n",
       "   CPC  Clicks    CTR  Impressions   Cost  \n",
       "0  0.0    0.00  0.00%          0.0   0.00  \n",
       "1  1.2   21.22  8.20%        260.0  25.45  \n",
       "2  0.0    0.00  0.00%          0.0   0.00  \n",
       "3  0.0    0.00  0.00%          0.0   0.00  \n",
       "4  0.0    0.00  0.00%          0.0   0.00  "
      ]
     },
     "execution_count": 35,
     "metadata": {},
     "output_type": "execute_result"
    }
   ],
   "source": [
    "df.head()"
   ]
  },
  {
   "cell_type": "code",
   "execution_count": 36,
   "metadata": {},
   "outputs": [
    {
     "name": "stdout",
     "output_type": "stream",
     "text": [
      "<class 'pandas.core.frame.DataFrame'>\n",
      "RangeIndex: 356054 entries, 0 to 356053\n",
      "Data columns (total 9 columns):\n",
      "Date                356054 non-null int64\n",
      "Market              356054 non-null object\n",
      "Keyword             355575 non-null object\n",
      "Average.Position    353018 non-null float64\n",
      "CPC                 353018 non-null float64\n",
      "Clicks              353018 non-null float64\n",
      "CTR                 353018 non-null object\n",
      "Impressions         353018 non-null float64\n",
      "Cost                353018 non-null float64\n",
      "dtypes: float64(5), int64(1), object(3)\n",
      "memory usage: 24.4+ MB\n"
     ]
    }
   ],
   "source": [
    "df.info()"
   ]
  },
  {
   "cell_type": "code",
   "execution_count": 37,
   "metadata": {},
   "outputs": [
    {
     "data": {
      "text/html": [
       "<div>\n",
       "<style scoped>\n",
       "    .dataframe tbody tr th:only-of-type {\n",
       "        vertical-align: middle;\n",
       "    }\n",
       "\n",
       "    .dataframe tbody tr th {\n",
       "        vertical-align: top;\n",
       "    }\n",
       "\n",
       "    .dataframe thead th {\n",
       "        text-align: right;\n",
       "    }\n",
       "</style>\n",
       "<table border=\"1\" class=\"dataframe\">\n",
       "  <thead>\n",
       "    <tr style=\"text-align: right;\">\n",
       "      <th></th>\n",
       "      <th>Date</th>\n",
       "      <th>Average.Position</th>\n",
       "      <th>CPC</th>\n",
       "      <th>Clicks</th>\n",
       "      <th>Impressions</th>\n",
       "      <th>Cost</th>\n",
       "    </tr>\n",
       "  </thead>\n",
       "  <tbody>\n",
       "    <tr>\n",
       "      <th>count</th>\n",
       "      <td>3.560540e+05</td>\n",
       "      <td>353018.000000</td>\n",
       "      <td>353018.000000</td>\n",
       "      <td>353018.000000</td>\n",
       "      <td>3.530180e+05</td>\n",
       "      <td>3.530180e+05</td>\n",
       "    </tr>\n",
       "    <tr>\n",
       "      <th>mean</th>\n",
       "      <td>2.012269e+07</td>\n",
       "      <td>0.611737</td>\n",
       "      <td>14.285071</td>\n",
       "      <td>439.052699</td>\n",
       "      <td>1.874365e+04</td>\n",
       "      <td>3.598259e+03</td>\n",
       "    </tr>\n",
       "    <tr>\n",
       "      <th>std</th>\n",
       "      <td>3.577676e+03</td>\n",
       "      <td>0.643839</td>\n",
       "      <td>37.858433</td>\n",
       "      <td>7559.532663</td>\n",
       "      <td>2.970826e+05</td>\n",
       "      <td>5.718301e+04</td>\n",
       "    </tr>\n",
       "    <tr>\n",
       "      <th>min</th>\n",
       "      <td>2.012052e+07</td>\n",
       "      <td>0.000000</td>\n",
       "      <td>0.000000</td>\n",
       "      <td>0.000000</td>\n",
       "      <td>0.000000e+00</td>\n",
       "      <td>0.000000e+00</td>\n",
       "    </tr>\n",
       "    <tr>\n",
       "      <th>25%</th>\n",
       "      <td>2.012090e+07</td>\n",
       "      <td>0.000000</td>\n",
       "      <td>0.000000</td>\n",
       "      <td>0.000000</td>\n",
       "      <td>0.000000e+00</td>\n",
       "      <td>0.000000e+00</td>\n",
       "    </tr>\n",
       "    <tr>\n",
       "      <th>50%</th>\n",
       "      <td>2.012102e+07</td>\n",
       "      <td>1.000000</td>\n",
       "      <td>1.100000</td>\n",
       "      <td>2.120000</td>\n",
       "      <td>1.290000e+02</td>\n",
       "      <td>8.070000e+00</td>\n",
       "    </tr>\n",
       "    <tr>\n",
       "      <th>75%</th>\n",
       "      <td>2.012122e+07</td>\n",
       "      <td>1.000000</td>\n",
       "      <td>12.100000</td>\n",
       "      <td>35.230000</td>\n",
       "      <td>1.571000e+03</td>\n",
       "      <td>3.749975e+02</td>\n",
       "    </tr>\n",
       "    <tr>\n",
       "      <th>max</th>\n",
       "      <td>2.013021e+07</td>\n",
       "      <td>12.000000</td>\n",
       "      <td>632.730000</td>\n",
       "      <td>441963.500000</td>\n",
       "      <td>1.566667e+07</td>\n",
       "      <td>3.269108e+06</td>\n",
       "    </tr>\n",
       "  </tbody>\n",
       "</table>\n",
       "</div>"
      ],
      "text/plain": [
       "               Date  Average.Position            CPC         Clicks  \\\n",
       "count  3.560540e+05     353018.000000  353018.000000  353018.000000   \n",
       "mean   2.012269e+07          0.611737      14.285071     439.052699   \n",
       "std    3.577676e+03          0.643839      37.858433    7559.532663   \n",
       "min    2.012052e+07          0.000000       0.000000       0.000000   \n",
       "25%    2.012090e+07          0.000000       0.000000       0.000000   \n",
       "50%    2.012102e+07          1.000000       1.100000       2.120000   \n",
       "75%    2.012122e+07          1.000000      12.100000      35.230000   \n",
       "max    2.013021e+07         12.000000     632.730000  441963.500000   \n",
       "\n",
       "        Impressions          Cost  \n",
       "count  3.530180e+05  3.530180e+05  \n",
       "mean   1.874365e+04  3.598259e+03  \n",
       "std    2.970826e+05  5.718301e+04  \n",
       "min    0.000000e+00  0.000000e+00  \n",
       "25%    0.000000e+00  0.000000e+00  \n",
       "50%    1.290000e+02  8.070000e+00  \n",
       "75%    1.571000e+03  3.749975e+02  \n",
       "max    1.566667e+07  3.269108e+06  "
      ]
     },
     "execution_count": 37,
     "metadata": {},
     "output_type": "execute_result"
    }
   ],
   "source": [
    "df.describe()"
   ]
  },
  {
   "cell_type": "markdown",
   "metadata": {},
   "source": [
    "So! After getting a bird-eye view, of our dataset, we can see that we need to pre-process our dataset, in order to apply any __Machine__ or __Deep__ learning algorithms.\n",
    "\n",
    "First thing, I'm gonna do, is to remove that \"%\" from our __CTR__ columns, and re-convert those values to floating point numbers. I could not have done that, but since I'm intending to use this feature in our dataset, I must dot that. And I'll explain later why, I want to use that feature in our Training model.\n",
    "\n",
    "Then, I'll drop all then __NaN__ values in our data set. And make sure, we're I'm not left with any __NaN__ value in my dataset, as it cas seriously reduce the performance of the model.\n",
    "\n",
    "Then, I'll move on to pre-process the __Market__ feature. This is very imported, since my task requires, to must have this column, so I'll have to find out the way to incorporte this. This is very simple, I'll go ahead an map those values with a dictionary that returns for ___1___ for __US-Market__ and __-1__ for __UK-Market__. \n",
    "The reason I've chosen those values, is when I give this feature as an __input__ to my deep learnig model, this will get multiplied with __weights__. And if we have value mapped as __Zero__ it will make the product equals to __Zeros__, and hence will eventually reduce the learing of our model.\n",
    "\n",
    "And finally, I'll grab the data, where __COST PER CLICK__ i.e __CPC__ values are not __Zero__. Doing this will 2 two things:\n",
    "\n",
    "* First it'll reduce the number of observations in our dataset. And this will reduce the chance to underfit our model, because if we have way too large number of observations, then our features in our dataset, our model might end up underfitting. (Source --> Machine Learning course by Prof. Andrew NG)  \n",
    "* Second, it'll reduce the chance of overfitting the model. Because, there's a lot of repreated values (zeros), that would be removed from our dataset. And hence removing the same values from our dataset might help us avoid high variance or __overfitting__ problem. (Source --> Machine Andrew NG.)\n",
    "\n",
    "So, Let's go ahead and pre-process our dataset!"
   ]
  },
  {
   "cell_type": "markdown",
   "metadata": {},
   "source": [
    "## Data Pre-processing:"
   ]
  },
  {
   "cell_type": "code",
   "execution_count": 38,
   "metadata": {},
   "outputs": [
    {
     "data": {
      "text/html": [
       "<div>\n",
       "<style scoped>\n",
       "    .dataframe tbody tr th:only-of-type {\n",
       "        vertical-align: middle;\n",
       "    }\n",
       "\n",
       "    .dataframe tbody tr th {\n",
       "        vertical-align: top;\n",
       "    }\n",
       "\n",
       "    .dataframe thead th {\n",
       "        text-align: right;\n",
       "    }\n",
       "</style>\n",
       "<table border=\"1\" class=\"dataframe\">\n",
       "  <thead>\n",
       "    <tr style=\"text-align: right;\">\n",
       "      <th></th>\n",
       "      <th>Date</th>\n",
       "      <th>Market</th>\n",
       "      <th>Keyword</th>\n",
       "      <th>Average.Position</th>\n",
       "      <th>CPC</th>\n",
       "      <th>Clicks</th>\n",
       "      <th>CTR</th>\n",
       "      <th>Impressions</th>\n",
       "      <th>Cost</th>\n",
       "    </tr>\n",
       "  </thead>\n",
       "  <tbody>\n",
       "    <tr>\n",
       "      <th>1</th>\n",
       "      <td>20120524</td>\n",
       "      <td>1</td>\n",
       "      <td>agile management software</td>\n",
       "      <td>1.0</td>\n",
       "      <td>1.20</td>\n",
       "      <td>21.22</td>\n",
       "      <td>8.2</td>\n",
       "      <td>260.0</td>\n",
       "      <td>25.45</td>\n",
       "    </tr>\n",
       "    <tr>\n",
       "      <th>9</th>\n",
       "      <td>20120524</td>\n",
       "      <td>1</td>\n",
       "      <td>android app developers</td>\n",
       "      <td>1.0</td>\n",
       "      <td>0.66</td>\n",
       "      <td>23.31</td>\n",
       "      <td>8.6</td>\n",
       "      <td>270.0</td>\n",
       "      <td>15.31</td>\n",
       "    </tr>\n",
       "    <tr>\n",
       "      <th>13</th>\n",
       "      <td>20120524</td>\n",
       "      <td>1</td>\n",
       "      <td>android application developer</td>\n",
       "      <td>1.0</td>\n",
       "      <td>1.02</td>\n",
       "      <td>46.92</td>\n",
       "      <td>8.6</td>\n",
       "      <td>546.0</td>\n",
       "      <td>47.77</td>\n",
       "    </tr>\n",
       "    <tr>\n",
       "      <th>14</th>\n",
       "      <td>20120524</td>\n",
       "      <td>1</td>\n",
       "      <td>android app developer</td>\n",
       "      <td>1.0</td>\n",
       "      <td>1.30</td>\n",
       "      <td>147.46</td>\n",
       "      <td>6.0</td>\n",
       "      <td>2469.0</td>\n",
       "      <td>191.99</td>\n",
       "    </tr>\n",
       "    <tr>\n",
       "      <th>17</th>\n",
       "      <td>20120524</td>\n",
       "      <td>1</td>\n",
       "      <td>mobile applications developers</td>\n",
       "      <td>1.0</td>\n",
       "      <td>0.57</td>\n",
       "      <td>21.69</td>\n",
       "      <td>8.3</td>\n",
       "      <td>260.0</td>\n",
       "      <td>12.31</td>\n",
       "    </tr>\n",
       "    <tr>\n",
       "      <th>19</th>\n",
       "      <td>20120524</td>\n",
       "      <td>1</td>\n",
       "      <td>cloud computing for dummies</td>\n",
       "      <td>1.0</td>\n",
       "      <td>0.50</td>\n",
       "      <td>37.89</td>\n",
       "      <td>11.4</td>\n",
       "      <td>330.0</td>\n",
       "      <td>19.10</td>\n",
       "    </tr>\n",
       "    <tr>\n",
       "      <th>24</th>\n",
       "      <td>20120524</td>\n",
       "      <td>1</td>\n",
       "      <td>apps development</td>\n",
       "      <td>1.0</td>\n",
       "      <td>0.69</td>\n",
       "      <td>23.69</td>\n",
       "      <td>5.5</td>\n",
       "      <td>433.0</td>\n",
       "      <td>16.25</td>\n",
       "    </tr>\n",
       "    <tr>\n",
       "      <th>27</th>\n",
       "      <td>20120524</td>\n",
       "      <td>1</td>\n",
       "      <td>mobile apps developers</td>\n",
       "      <td>1.0</td>\n",
       "      <td>2.53</td>\n",
       "      <td>22.94</td>\n",
       "      <td>4.3</td>\n",
       "      <td>529.0</td>\n",
       "      <td>58.04</td>\n",
       "    </tr>\n",
       "    <tr>\n",
       "      <th>28</th>\n",
       "      <td>20120524</td>\n",
       "      <td>1</td>\n",
       "      <td>joomla designers</td>\n",
       "      <td>1.0</td>\n",
       "      <td>1.37</td>\n",
       "      <td>17.84</td>\n",
       "      <td>6.6</td>\n",
       "      <td>268.0</td>\n",
       "      <td>24.36</td>\n",
       "    </tr>\n",
       "    <tr>\n",
       "      <th>44</th>\n",
       "      <td>20120524</td>\n",
       "      <td>1</td>\n",
       "      <td>ink 8560</td>\n",
       "      <td>1.0</td>\n",
       "      <td>1.59</td>\n",
       "      <td>0.26</td>\n",
       "      <td>0.1</td>\n",
       "      <td>216.0</td>\n",
       "      <td>0.41</td>\n",
       "    </tr>\n",
       "  </tbody>\n",
       "</table>\n",
       "</div>"
      ],
      "text/plain": [
       "        Date  Market                         Keyword  Average.Position   CPC  \\\n",
       "1   20120524       1       agile management software               1.0  1.20   \n",
       "9   20120524       1          android app developers               1.0  0.66   \n",
       "13  20120524       1   android application developer               1.0  1.02   \n",
       "14  20120524       1           android app developer               1.0  1.30   \n",
       "17  20120524       1  mobile applications developers               1.0  0.57   \n",
       "19  20120524       1     cloud computing for dummies               1.0  0.50   \n",
       "24  20120524       1                apps development               1.0  0.69   \n",
       "27  20120524       1          mobile apps developers               1.0  2.53   \n",
       "28  20120524       1                joomla designers               1.0  1.37   \n",
       "44  20120524       1                        ink 8560               1.0  1.59   \n",
       "\n",
       "    Clicks   CTR  Impressions    Cost  \n",
       "1    21.22   8.2        260.0   25.45  \n",
       "9    23.31   8.6        270.0   15.31  \n",
       "13   46.92   8.6        546.0   47.77  \n",
       "14  147.46   6.0       2469.0  191.99  \n",
       "17   21.69   8.3        260.0   12.31  \n",
       "19   37.89  11.4        330.0   19.10  \n",
       "24   23.69   5.5        433.0   16.25  \n",
       "27   22.94   4.3        529.0   58.04  \n",
       "28   17.84   6.6        268.0   24.36  \n",
       "44    0.26   0.1        216.0    0.41  "
      ]
     },
     "execution_count": 38,
     "metadata": {},
     "output_type": "execute_result"
    }
   ],
   "source": [
    "df['CTR'] = df['CTR'].apply(lambda x: float(str(x).replace('%', ''))) # remove extra character string\n",
    "df = df.dropna() # drop the null values \n",
    "# print(df.isnull().any())\n",
    "# df.head()\n",
    "\n",
    "mapped_market = {'US-Market': 1, 'UK-Market': -1}\n",
    "\n",
    "new_df = df[df['CPC'] != 0]\n",
    "new_df['Market'] = new_df[\"Market\"].map(mapped_market) # map the market values with 1's and 0's\n",
    "# new_df.info() # new data set with \"CPC\" not equals to \"Zero\"\n",
    "# new_df = shuffle(new_df)\n",
    "new_df.head(10)"
   ]
  },
  {
   "cell_type": "code",
   "execution_count": 39,
   "metadata": {},
   "outputs": [
    {
     "name": "stderr",
     "output_type": "stream",
     "text": [
      "[nltk_data] Downloading package stopwords to\n",
      "[nltk_data]     /home/umairshah/nltk_data...\n",
      "[nltk_data]   Package stopwords is already up-to-date!\n"
     ]
    }
   ],
   "source": [
    "nltk.download(\"stopwords\") # downloading all the stopwords for English from nltk\n",
    "stopwords = set(stopwords.words(\"english\"))"
   ]
  },
  {
   "cell_type": "code",
   "execution_count": 40,
   "metadata": {},
   "outputs": [
    {
     "data": {
      "text/plain": [
       "480702"
      ]
     },
     "execution_count": 40,
     "metadata": {},
     "output_type": "execute_result"
    }
   ],
   "source": [
    "def remove_stops(example_sent):\n",
    "    word_tokens = example_sent.split()\n",
    "    filtered_sentence = ' '.join([word for word in word_tokens if not word in stopwords])\n",
    "    return filtered_sentence\n",
    "\n",
    "new_df['Keyword'] = new_df['Keyword'].apply(remove_stops)\n",
    "new_df.head()\n",
    "\n",
    "cleaned_list = []\n",
    "\n",
    "for word in list(new_df[\"Keyword\"]):\n",
    "    for w in word.split():\n",
    "        cleaned_list.append(w)\n",
    "        \n",
    "len(cleaned_list) # Length of the words has reduced to 480702 from 501285 after removing stop words!"
   ]
  },
  {
   "cell_type": "markdown",
   "metadata": {},
   "source": [
    "## Data Normalization:\n",
    "\n",
    "__Data Standardization__ plays a very important role specially when dealing with __Deep Neural Networks__. It helps __Optimizers__ (Gradient Descent, etc) to learn the patterns of the data quickly and our model learns and converges to global minimum with less number of iterations. Here' we'll go ahead, and __Standardize__ our dataset, with mean __Zero__ and Standard deviation __1__. This will map our values from range -1 to 1. The reason I'm standardizing our data and not Normalizing (values range from 0-1) is we have a categorical column (Market) in our dataset having only 2 values.\n",
    "\n",
    "So, once we perform __Normalization__ it'll map those strings with 1's and 0's. And once these __Zero__ values will be passed to __Deep Learning__ model, it'll give the the Product with weights = Zero, hence reducing the effeciency of our model.\n",
    "\n",
    "Let's go ahead and __Standardize__ our data.."
   ]
  },
  {
   "cell_type": "code",
   "execution_count": 42,
   "metadata": {},
   "outputs": [
    {
     "data": {
      "text/html": [
       "<div>\n",
       "<style scoped>\n",
       "    .dataframe tbody tr th:only-of-type {\n",
       "        vertical-align: middle;\n",
       "    }\n",
       "\n",
       "    .dataframe tbody tr th {\n",
       "        vertical-align: top;\n",
       "    }\n",
       "\n",
       "    .dataframe thead th {\n",
       "        text-align: right;\n",
       "    }\n",
       "</style>\n",
       "<table border=\"1\" class=\"dataframe\">\n",
       "  <thead>\n",
       "    <tr style=\"text-align: right;\">\n",
       "      <th></th>\n",
       "      <th>Date</th>\n",
       "      <th>CPC</th>\n",
       "      <th>Market</th>\n",
       "      <th>CTR</th>\n",
       "      <th>Impressions</th>\n",
       "      <th>Cost</th>\n",
       "      <th>Clicks</th>\n",
       "    </tr>\n",
       "  </thead>\n",
       "  <tbody>\n",
       "    <tr>\n",
       "      <th>0</th>\n",
       "      <td>-0.631763</td>\n",
       "      <td>-0.498912</td>\n",
       "      <td>0.681652</td>\n",
       "      <td>2.760522</td>\n",
       "      <td>-0.178170</td>\n",
       "      <td>-0.249947</td>\n",
       "      <td>-0.160203</td>\n",
       "    </tr>\n",
       "    <tr>\n",
       "      <th>1</th>\n",
       "      <td>-0.631763</td>\n",
       "      <td>-0.510357</td>\n",
       "      <td>0.681652</td>\n",
       "      <td>2.965919</td>\n",
       "      <td>-0.178063</td>\n",
       "      <td>-0.250723</td>\n",
       "      <td>-0.159274</td>\n",
       "    </tr>\n",
       "    <tr>\n",
       "      <th>2</th>\n",
       "      <td>-0.631763</td>\n",
       "      <td>-0.502727</td>\n",
       "      <td>0.681652</td>\n",
       "      <td>2.965919</td>\n",
       "      <td>-0.175108</td>\n",
       "      <td>-0.248238</td>\n",
       "      <td>-0.148774</td>\n",
       "    </tr>\n",
       "    <tr>\n",
       "      <th>3</th>\n",
       "      <td>-0.631763</td>\n",
       "      <td>-0.496793</td>\n",
       "      <td>0.681652</td>\n",
       "      <td>1.630839</td>\n",
       "      <td>-0.154515</td>\n",
       "      <td>-0.237199</td>\n",
       "      <td>-0.104064</td>\n",
       "    </tr>\n",
       "    <tr>\n",
       "      <th>4</th>\n",
       "      <td>-0.631763</td>\n",
       "      <td>-0.512264</td>\n",
       "      <td>0.681652</td>\n",
       "      <td>2.811872</td>\n",
       "      <td>-0.178170</td>\n",
       "      <td>-0.250952</td>\n",
       "      <td>-0.159994</td>\n",
       "    </tr>\n",
       "  </tbody>\n",
       "</table>\n",
       "</div>"
      ],
      "text/plain": [
       "       Date       CPC    Market       CTR  Impressions      Cost    Clicks\n",
       "0 -0.631763 -0.498912  0.681652  2.760522    -0.178170 -0.249947 -0.160203\n",
       "1 -0.631763 -0.510357  0.681652  2.965919    -0.178063 -0.250723 -0.159274\n",
       "2 -0.631763 -0.502727  0.681652  2.965919    -0.175108 -0.248238 -0.148774\n",
       "3 -0.631763 -0.496793  0.681652  1.630839    -0.154515 -0.237199 -0.104064\n",
       "4 -0.631763 -0.512264  0.681652  2.811872    -0.178170 -0.250952 -0.159994"
      ]
     },
     "execution_count": 42,
     "metadata": {},
     "output_type": "execute_result"
    }
   ],
   "source": [
    "scaler = StandardScaler()\n",
    "scaler.fit(new_df[['Date', 'CPC', 'Market', 'CTR', 'Impressions', 'Cost', 'Clicks']])\n",
    "scaled_features = scaler.transform(new_df[['Date', 'CPC', 'Market', 'CTR', 'Impressions', 'Cost', 'Clicks']])\n",
    "scaled_df = pd.DataFrame(scaled_features, columns = ['Date', 'CPC', 'Market', 'CTR', 'Impressions', 'Cost', 'Clicks'])\n",
    "scaled_df.head()\n",
    "\n",
    "scaled_df.head()"
   ]
  },
  {
   "cell_type": "markdown",
   "metadata": {},
   "source": [
    "## Data Visualization:"
   ]
  },
  {
   "cell_type": "code",
   "execution_count": 10,
   "metadata": {},
   "outputs": [],
   "source": [
    "# plt.figure(figsize = (12,6))\n",
    "# sns.scatterplot(x = new_df['CTR'], y = new_df['Clicks'])"
   ]
  },
  {
   "cell_type": "code",
   "execution_count": 11,
   "metadata": {},
   "outputs": [],
   "source": [
    "# plt.figure(figsize = (12,6))\n",
    "# sns.relplot(x = 'CPC', y = 'Clicks', data = new_df, hue = 'Market')"
   ]
  },
  {
   "cell_type": "code",
   "execution_count": 12,
   "metadata": {},
   "outputs": [],
   "source": [
    "# Lets quickly check how our target variable is distribted \n",
    "#plt.figure(figsize = (12,6))\n",
    "#sns.distplot(new_df['Clicks'], bins = 40, kde = True)"
   ]
  },
  {
   "cell_type": "code",
   "execution_count": 13,
   "metadata": {},
   "outputs": [],
   "source": [
    "#clicks = list(new_df['Clicks'])\n",
    "\n",
    "#max(clicks)"
   ]
  },
  {
   "cell_type": "code",
   "execution_count": 14,
   "metadata": {},
   "outputs": [
    {
     "data": {
      "text/plain": [
       "<matplotlib.axes._subplots.AxesSubplot at 0x7f217017c668>"
      ]
     },
     "execution_count": 14,
     "metadata": {},
     "output_type": "execute_result"
    },
    {
     "data": {
      "image/png": "[encoded data removed]",
      "text/plain": [
       "<Figure size 864x432 with 2 Axes>"
      ]
     },
     "metadata": {
      "needs_background": "light"
     },
     "output_type": "display_data"
    }
   ],
   "source": [
    "corr = scaled_df.corr()\n",
    "\n",
    "plt.figure(figsize = (12,6))\n",
    "sns.heatmap(data = corr, cmap = 'viridis')"
   ]
  },
  {
   "cell_type": "code",
   "execution_count": 15,
   "metadata": {},
   "outputs": [],
   "source": [
    "#sns.distplot((y_test-predictions), bins = 30)"
   ]
  },
  {
   "cell_type": "code",
   "execution_count": 16,
   "metadata": {},
   "outputs": [],
   "source": [
    "corr = new_df.corr()"
   ]
  },
  {
   "cell_type": "code",
   "execution_count": 17,
   "metadata": {},
   "outputs": [
    {
     "data": {
      "text/plain": [
       "<matplotlib.axes._subplots.AxesSubplot at 0x7f21648ae4a8>"
      ]
     },
     "execution_count": 17,
     "metadata": {},
     "output_type": "execute_result"
    },
    {
     "data": {
      "image/png": "[encoded data removed]",
      "text/plain": [
       "<Figure size 864x432 with 2 Axes>"
      ]
     },
     "metadata": {
      "needs_background": "light"
     },
     "output_type": "display_data"
    }
   ],
   "source": [
    "plt.figure(figsize = (12,6))\n",
    "sns.heatmap(corr)"
   ]
  },
  {
   "cell_type": "code",
   "execution_count": 18,
   "metadata": {},
   "outputs": [
    {
     "data": {
      "text/plain": [
       "0.530799129556749"
      ]
     },
     "execution_count": 18,
     "metadata": {},
     "output_type": "execute_result"
    }
   ],
   "source": [
    "new_df['Clicks'].corr(new_df['Cost'])"
   ]
  },
  {
   "cell_type": "markdown",
   "metadata": {},
   "source": [
    "## Deep Learning Model:"
   ]
  },
  {
   "cell_type": "code",
   "execution_count": 19,
   "metadata": {},
   "outputs": [
    {
     "data": {
      "text/plain": [
       "Index(['Date', 'CPC', 'Market', 'CTR', 'Impressions', 'Cost', 'Clicks'], dtype='object')"
      ]
     },
     "execution_count": 19,
     "metadata": {},
     "output_type": "execute_result"
    }
   ],
   "source": [
    "scaled_df.columns"
   ]
  },
  {
   "cell_type": "code",
   "execution_count": 20,
   "metadata": {},
   "outputs": [
    {
     "name": "stderr",
     "output_type": "stream",
     "text": [
      "WARNING: Logging before flag parsing goes to stderr.\n",
      "W1028 16:21:39.173749 139782750127936 deprecation_wrapper.py:119] From /home/umairshah/anaconda3/lib/python3.7/site-packages/keras/backend/tensorflow_backend.py:47: The name tf.get_default_graph is deprecated. Please use tf.compat.v1.get_default_graph instead.\n",
      "\n",
      "W1028 16:21:39.195588 139782750127936 deprecation_wrapper.py:119] From /home/umairshah/anaconda3/lib/python3.7/site-packages/keras/backend/tensorflow_backend.py:349: The name tf.placeholder is deprecated. Please use tf.compat.v1.placeholder instead.\n",
      "\n",
      "W1028 16:21:39.199387 139782750127936 deprecation_wrapper.py:119] From /home/umairshah/anaconda3/lib/python3.7/site-packages/keras/backend/tensorflow_backend.py:3147: The name tf.random_uniform is deprecated. Please use tf.random.uniform instead.\n",
      "\n"
     ]
    },
    {
     "name": "stdout",
     "output_type": "stream",
     "text": [
      "_________________________________________________________________\n",
      "Layer (type)                 Output Shape              Param #   \n",
      "=================================================================\n",
      "dense_1 (Dense)              (None, 8)                 56        \n",
      "_________________________________________________________________\n",
      "dense_2 (Dense)              (None, 8)                 72        \n",
      "_________________________________________________________________\n",
      "dense_3 (Dense)              (None, 8)                 72        \n",
      "_________________________________________________________________\n",
      "dense_4 (Dense)              (None, 1)                 9         \n",
      "=================================================================\n",
      "Total params: 209.0\n",
      "Trainable params: 209\n",
      "Non-trainable params: 0.0\n",
      "_________________________________________________________________\n"
     ]
    }
   ],
   "source": [
    "model = Sequential()\n",
    "model.add(Dense(8, input_dim = 6, activation = 'relu'))\n",
    "model.add(Dense(8, activation = 'relu'))\n",
    "model.add(Dense(8, activation = \"relu\"))\n",
    "model.add(Dense(1, activation = 'linear'))\n",
    "model.summary()"
   ]
  },
  {
   "cell_type": "code",
   "execution_count": 21,
   "metadata": {},
   "outputs": [
    {
     "name": "stderr",
     "output_type": "stream",
     "text": [
      "W1028 16:21:42.246147 139782750127936 deprecation_wrapper.py:119] From /home/umairshah/anaconda3/lib/python3.7/site-packages/keras/optimizers.py:675: The name tf.train.Optimizer is deprecated. Please use tf.compat.v1.train.Optimizer instead.\n",
      "\n"
     ]
    }
   ],
   "source": [
    "model.compile(loss = 'mse', optimizer = 'adam', metrics = ['accuracy'])"
   ]
  },
  {
   "cell_type": "code",
   "execution_count": 24,
   "metadata": {},
   "outputs": [
    {
     "data": {
      "text/plain": [
       "Index(['Date', 'CPC', 'Market', 'CTR', 'Impressions', 'Cost', 'Clicks'], dtype='object')"
      ]
     },
     "execution_count": 24,
     "metadata": {},
     "output_type": "execute_result"
    }
   ],
   "source": [
    "scaled_df.columns"
   ]
  },
  {
   "cell_type": "code",
   "execution_count": 25,
   "metadata": {},
   "outputs": [],
   "source": [
    "X = scaled_df.drop('Clicks', axis = 1)\n",
    "y = scaled_df['Clicks']\n",
    "\n",
    "X_train, X_test, y_train, y_test = train_test_split(X, y, test_size = 0.3, random_state = 101)"
   ]
  },
  {
   "cell_type": "code",
   "execution_count": 26,
   "metadata": {},
   "outputs": [
    {
     "name": "stdout",
     "output_type": "stream",
     "text": [
      "Train on 114012 samples, validate on 28504 samples\n",
      "Epoch 1/20\n"
     ]
    },
    {
     "ename": "KeyError",
     "evalue": "\"None of [Int64Index([ 31762, 113336,  63289,  60186,  95511,  58059,     75,  80975,\\n             90782,  24797,\\n            ...\\n            107446,  36960,  15870,  55728,  89038,  59954,  92905,  34025,\\n            106536,  10666],\\n           dtype='int64', length=128)] are in the [columns]\"",
     "output_type": "error",
     "traceback": [
      "\u001b[0;31m---------------------------------------------------------------------------\u001b[0m",
      "\u001b[0;31mKeyError\u001b[0m                                  Traceback (most recent call last)",
      "\u001b[0;32m<ipython-input-26-dab84a6dcffb>\u001b[0m in \u001b[0;36m<module>\u001b[0;34m\u001b[0m\n\u001b[1;32m      1\u001b[0m history = model.fit(x = X_train, y = y_train, epochs = 20, batch_size = 128,\n\u001b[0;32m----> 2\u001b[0;31m                    validation_split = 0.2)\n\u001b[0m",
      "\u001b[0;32m~/anaconda3/lib/python3.7/site-packages/keras/models.py\u001b[0m in \u001b[0;36mfit\u001b[0;34m(self, x, y, batch_size, epochs, verbose, callbacks, validation_split, validation_data, shuffle, class_weight, sample_weight, initial_epoch, **kwargs)\u001b[0m\n\u001b[1;32m    843\u001b[0m                               \u001b[0mclass_weight\u001b[0m\u001b[0;34m=\u001b[0m\u001b[0mclass_weight\u001b[0m\u001b[0;34m,\u001b[0m\u001b[0;34m\u001b[0m\u001b[0;34m\u001b[0m\u001b[0m\n\u001b[1;32m    844\u001b[0m                               \u001b[0msample_weight\u001b[0m\u001b[0;34m=\u001b[0m\u001b[0msample_weight\u001b[0m\u001b[0;34m,\u001b[0m\u001b[0;34m\u001b[0m\u001b[0;34m\u001b[0m\u001b[0m\n\u001b[0;32m--> 845\u001b[0;31m                               initial_epoch=initial_epoch)\n\u001b[0m\u001b[1;32m    846\u001b[0m \u001b[0;34m\u001b[0m\u001b[0m\n\u001b[1;32m    847\u001b[0m     def evaluate(self, x, y, batch_size=32, verbose=1,\n",
      "\u001b[0;32m~/anaconda3/lib/python3.7/site-packages/keras/engine/training.py\u001b[0m in \u001b[0;36mfit\u001b[0;34m(self, x, y, batch_size, epochs, verbose, callbacks, validation_split, validation_data, shuffle, class_weight, sample_weight, initial_epoch, **kwargs)\u001b[0m\n\u001b[1;32m   1483\u001b[0m                               \u001b[0mval_f\u001b[0m\u001b[0;34m=\u001b[0m\u001b[0mval_f\u001b[0m\u001b[0;34m,\u001b[0m \u001b[0mval_ins\u001b[0m\u001b[0;34m=\u001b[0m\u001b[0mval_ins\u001b[0m\u001b[0;34m,\u001b[0m \u001b[0mshuffle\u001b[0m\u001b[0;34m=\u001b[0m\u001b[0mshuffle\u001b[0m\u001b[0;34m,\u001b[0m\u001b[0;34m\u001b[0m\u001b[0;34m\u001b[0m\u001b[0m\n\u001b[1;32m   1484\u001b[0m                               \u001b[0mcallback_metrics\u001b[0m\u001b[0;34m=\u001b[0m\u001b[0mcallback_metrics\u001b[0m\u001b[0;34m,\u001b[0m\u001b[0;34m\u001b[0m\u001b[0;34m\u001b[0m\u001b[0m\n\u001b[0;32m-> 1485\u001b[0;31m                               initial_epoch=initial_epoch)\n\u001b[0m\u001b[1;32m   1486\u001b[0m \u001b[0;34m\u001b[0m\u001b[0m\n\u001b[1;32m   1487\u001b[0m     \u001b[0;32mdef\u001b[0m \u001b[0mevaluate\u001b[0m\u001b[0;34m(\u001b[0m\u001b[0mself\u001b[0m\u001b[0;34m,\u001b[0m \u001b[0mx\u001b[0m\u001b[0;34m,\u001b[0m \u001b[0my\u001b[0m\u001b[0;34m,\u001b[0m \u001b[0mbatch_size\u001b[0m\u001b[0;34m=\u001b[0m\u001b[0;36m32\u001b[0m\u001b[0;34m,\u001b[0m \u001b[0mverbose\u001b[0m\u001b[0;34m=\u001b[0m\u001b[0;36m1\u001b[0m\u001b[0;34m,\u001b[0m \u001b[0msample_weight\u001b[0m\u001b[0;34m=\u001b[0m\u001b[0;32mNone\u001b[0m\u001b[0;34m)\u001b[0m\u001b[0;34m:\u001b[0m\u001b[0;34m\u001b[0m\u001b[0;34m\u001b[0m\u001b[0m\n",
      "\u001b[0;32m~/anaconda3/lib/python3.7/site-packages/keras/engine/training.py\u001b[0m in \u001b[0;36m_fit_loop\u001b[0;34m(self, f, ins, out_labels, batch_size, epochs, verbose, callbacks, val_f, val_ins, shuffle, callback_metrics, initial_epoch)\u001b[0m\n\u001b[1;32m   1129\u001b[0m                         \u001b[0mins_batch\u001b[0m \u001b[0;34m=\u001b[0m \u001b[0m_slice_arrays\u001b[0m\u001b[0;34m(\u001b[0m\u001b[0mins\u001b[0m\u001b[0;34m[\u001b[0m\u001b[0;34m:\u001b[0m\u001b[0;34m-\u001b[0m\u001b[0;36m1\u001b[0m\u001b[0;34m]\u001b[0m\u001b[0;34m,\u001b[0m \u001b[0mbatch_ids\u001b[0m\u001b[0;34m)\u001b[0m \u001b[0;34m+\u001b[0m \u001b[0;34m[\u001b[0m\u001b[0mins\u001b[0m\u001b[0;34m[\u001b[0m\u001b[0;34m-\u001b[0m\u001b[0;36m1\u001b[0m\u001b[0;34m]\u001b[0m\u001b[0;34m]\u001b[0m\u001b[0;34m\u001b[0m\u001b[0;34m\u001b[0m\u001b[0m\n\u001b[1;32m   1130\u001b[0m                     \u001b[0;32melse\u001b[0m\u001b[0;34m:\u001b[0m\u001b[0;34m\u001b[0m\u001b[0;34m\u001b[0m\u001b[0m\n\u001b[0;32m-> 1131\u001b[0;31m                         \u001b[0mins_batch\u001b[0m \u001b[0;34m=\u001b[0m \u001b[0m_slice_arrays\u001b[0m\u001b[0;34m(\u001b[0m\u001b[0mins\u001b[0m\u001b[0;34m,\u001b[0m \u001b[0mbatch_ids\u001b[0m\u001b[0;34m)\u001b[0m\u001b[0;34m\u001b[0m\u001b[0;34m\u001b[0m\u001b[0m\n\u001b[0m\u001b[1;32m   1132\u001b[0m                 \u001b[0;32mexcept\u001b[0m \u001b[0mTypeError\u001b[0m\u001b[0;34m:\u001b[0m\u001b[0;34m\u001b[0m\u001b[0;34m\u001b[0m\u001b[0m\n\u001b[1;32m   1133\u001b[0m                     raise TypeError('TypeError while preparing batch. '\n",
      "\u001b[0;32m~/anaconda3/lib/python3.7/site-packages/keras/engine/training.py\u001b[0m in \u001b[0;36m_slice_arrays\u001b[0;34m(arrays, start, stop)\u001b[0m\n\u001b[1;32m    386\u001b[0m             \u001b[0;32mif\u001b[0m \u001b[0mhasattr\u001b[0m\u001b[0;34m(\u001b[0m\u001b[0mstart\u001b[0m\u001b[0;34m,\u001b[0m \u001b[0;34m'shape'\u001b[0m\u001b[0;34m)\u001b[0m\u001b[0;34m:\u001b[0m\u001b[0;34m\u001b[0m\u001b[0;34m\u001b[0m\u001b[0m\n\u001b[1;32m    387\u001b[0m                 \u001b[0mstart\u001b[0m \u001b[0;34m=\u001b[0m \u001b[0mstart\u001b[0m\u001b[0;34m.\u001b[0m\u001b[0mtolist\u001b[0m\u001b[0;34m(\u001b[0m\u001b[0;34m)\u001b[0m\u001b[0;34m\u001b[0m\u001b[0;34m\u001b[0m\u001b[0m\n\u001b[0;32m--> 388\u001b[0;31m             \u001b[0;32mreturn\u001b[0m \u001b[0;34m[\u001b[0m\u001b[0mx\u001b[0m\u001b[0;34m[\u001b[0m\u001b[0mstart\u001b[0m\u001b[0;34m]\u001b[0m \u001b[0;32mfor\u001b[0m \u001b[0mx\u001b[0m \u001b[0;32min\u001b[0m \u001b[0marrays\u001b[0m\u001b[0;34m]\u001b[0m\u001b[0;34m\u001b[0m\u001b[0;34m\u001b[0m\u001b[0m\n\u001b[0m\u001b[1;32m    389\u001b[0m         \u001b[0;32melse\u001b[0m\u001b[0;34m:\u001b[0m\u001b[0;34m\u001b[0m\u001b[0;34m\u001b[0m\u001b[0m\n\u001b[1;32m    390\u001b[0m             \u001b[0;32mreturn\u001b[0m \u001b[0;34m[\u001b[0m\u001b[0mx\u001b[0m\u001b[0;34m[\u001b[0m\u001b[0mstart\u001b[0m\u001b[0;34m:\u001b[0m\u001b[0mstop\u001b[0m\u001b[0;34m]\u001b[0m \u001b[0;32mfor\u001b[0m \u001b[0mx\u001b[0m \u001b[0;32min\u001b[0m \u001b[0marrays\u001b[0m\u001b[0;34m]\u001b[0m\u001b[0;34m\u001b[0m\u001b[0;34m\u001b[0m\u001b[0m\n",
      "\u001b[0;32m~/anaconda3/lib/python3.7/site-packages/keras/engine/training.py\u001b[0m in \u001b[0;36m<listcomp>\u001b[0;34m(.0)\u001b[0m\n\u001b[1;32m    386\u001b[0m             \u001b[0;32mif\u001b[0m \u001b[0mhasattr\u001b[0m\u001b[0;34m(\u001b[0m\u001b[0mstart\u001b[0m\u001b[0;34m,\u001b[0m \u001b[0;34m'shape'\u001b[0m\u001b[0;34m)\u001b[0m\u001b[0;34m:\u001b[0m\u001b[0;34m\u001b[0m\u001b[0;34m\u001b[0m\u001b[0m\n\u001b[1;32m    387\u001b[0m                 \u001b[0mstart\u001b[0m \u001b[0;34m=\u001b[0m \u001b[0mstart\u001b[0m\u001b[0;34m.\u001b[0m\u001b[0mtolist\u001b[0m\u001b[0;34m(\u001b[0m\u001b[0;34m)\u001b[0m\u001b[0;34m\u001b[0m\u001b[0;34m\u001b[0m\u001b[0m\n\u001b[0;32m--> 388\u001b[0;31m             \u001b[0;32mreturn\u001b[0m \u001b[0;34m[\u001b[0m\u001b[0mx\u001b[0m\u001b[0;34m[\u001b[0m\u001b[0mstart\u001b[0m\u001b[0;34m]\u001b[0m \u001b[0;32mfor\u001b[0m \u001b[0mx\u001b[0m \u001b[0;32min\u001b[0m \u001b[0marrays\u001b[0m\u001b[0;34m]\u001b[0m\u001b[0;34m\u001b[0m\u001b[0;34m\u001b[0m\u001b[0m\n\u001b[0m\u001b[1;32m    389\u001b[0m         \u001b[0;32melse\u001b[0m\u001b[0;34m:\u001b[0m\u001b[0;34m\u001b[0m\u001b[0;34m\u001b[0m\u001b[0m\n\u001b[1;32m    390\u001b[0m             \u001b[0;32mreturn\u001b[0m \u001b[0;34m[\u001b[0m\u001b[0mx\u001b[0m\u001b[0;34m[\u001b[0m\u001b[0mstart\u001b[0m\u001b[0;34m:\u001b[0m\u001b[0mstop\u001b[0m\u001b[0;34m]\u001b[0m \u001b[0;32mfor\u001b[0m \u001b[0mx\u001b[0m \u001b[0;32min\u001b[0m \u001b[0marrays\u001b[0m\u001b[0;34m]\u001b[0m\u001b[0;34m\u001b[0m\u001b[0;34m\u001b[0m\u001b[0m\n",
      "\u001b[0;32m~/anaconda3/lib/python3.7/site-packages/pandas/core/frame.py\u001b[0m in \u001b[0;36m__getitem__\u001b[0;34m(self, key)\u001b[0m\n\u001b[1;32m   2932\u001b[0m                 \u001b[0mkey\u001b[0m \u001b[0;34m=\u001b[0m \u001b[0mlist\u001b[0m\u001b[0;34m(\u001b[0m\u001b[0mkey\u001b[0m\u001b[0;34m)\u001b[0m\u001b[0;34m\u001b[0m\u001b[0;34m\u001b[0m\u001b[0m\n\u001b[1;32m   2933\u001b[0m             indexer = self.loc._convert_to_indexer(key, axis=1,\n\u001b[0;32m-> 2934\u001b[0;31m                                                    raise_missing=True)\n\u001b[0m\u001b[1;32m   2935\u001b[0m \u001b[0;34m\u001b[0m\u001b[0m\n\u001b[1;32m   2936\u001b[0m         \u001b[0;31m# take() does not accept boolean indexers\u001b[0m\u001b[0;34m\u001b[0m\u001b[0;34m\u001b[0m\u001b[0;34m\u001b[0m\u001b[0m\n",
      "\u001b[0;32m~/anaconda3/lib/python3.7/site-packages/pandas/core/indexing.py\u001b[0m in \u001b[0;36m_convert_to_indexer\u001b[0;34m(self, obj, axis, is_setter, raise_missing)\u001b[0m\n\u001b[1;32m   1352\u001b[0m                 kwargs = {'raise_missing': True if is_setter else\n\u001b[1;32m   1353\u001b[0m                           raise_missing}\n\u001b[0;32m-> 1354\u001b[0;31m                 \u001b[0;32mreturn\u001b[0m \u001b[0mself\u001b[0m\u001b[0;34m.\u001b[0m\u001b[0m_get_listlike_indexer\u001b[0m\u001b[0;34m(\u001b[0m\u001b[0mobj\u001b[0m\u001b[0;34m,\u001b[0m \u001b[0maxis\u001b[0m\u001b[0;34m,\u001b[0m \u001b[0;34m**\u001b[0m\u001b[0mkwargs\u001b[0m\u001b[0;34m)\u001b[0m\u001b[0;34m[\u001b[0m\u001b[0;36m1\u001b[0m\u001b[0;34m]\u001b[0m\u001b[0;34m\u001b[0m\u001b[0;34m\u001b[0m\u001b[0m\n\u001b[0m\u001b[1;32m   1355\u001b[0m         \u001b[0;32melse\u001b[0m\u001b[0;34m:\u001b[0m\u001b[0;34m\u001b[0m\u001b[0;34m\u001b[0m\u001b[0m\n\u001b[1;32m   1356\u001b[0m             \u001b[0;32mtry\u001b[0m\u001b[0;34m:\u001b[0m\u001b[0;34m\u001b[0m\u001b[0;34m\u001b[0m\u001b[0m\n",
      "\u001b[0;32m~/anaconda3/lib/python3.7/site-packages/pandas/core/indexing.py\u001b[0m in \u001b[0;36m_get_listlike_indexer\u001b[0;34m(self, key, axis, raise_missing)\u001b[0m\n\u001b[1;32m   1159\u001b[0m         self._validate_read_indexer(keyarr, indexer,\n\u001b[1;32m   1160\u001b[0m                                     \u001b[0mo\u001b[0m\u001b[0;34m.\u001b[0m\u001b[0m_get_axis_number\u001b[0m\u001b[0;34m(\u001b[0m\u001b[0maxis\u001b[0m\u001b[0;34m)\u001b[0m\u001b[0;34m,\u001b[0m\u001b[0;34m\u001b[0m\u001b[0;34m\u001b[0m\u001b[0m\n\u001b[0;32m-> 1161\u001b[0;31m                                     raise_missing=raise_missing)\n\u001b[0m\u001b[1;32m   1162\u001b[0m         \u001b[0;32mreturn\u001b[0m \u001b[0mkeyarr\u001b[0m\u001b[0;34m,\u001b[0m \u001b[0mindexer\u001b[0m\u001b[0;34m\u001b[0m\u001b[0;34m\u001b[0m\u001b[0m\n\u001b[1;32m   1163\u001b[0m \u001b[0;34m\u001b[0m\u001b[0m\n",
      "\u001b[0;32m~/anaconda3/lib/python3.7/site-packages/pandas/core/indexing.py\u001b[0m in \u001b[0;36m_validate_read_indexer\u001b[0;34m(self, key, indexer, axis, raise_missing)\u001b[0m\n\u001b[1;32m   1244\u001b[0m                 raise KeyError(\n\u001b[1;32m   1245\u001b[0m                     u\"None of [{key}] are in the [{axis}]\".format(\n\u001b[0;32m-> 1246\u001b[0;31m                         key=key, axis=self.obj._get_axis_name(axis)))\n\u001b[0m\u001b[1;32m   1247\u001b[0m \u001b[0;34m\u001b[0m\u001b[0m\n\u001b[1;32m   1248\u001b[0m             \u001b[0;31m# We (temporarily) allow for some missing keys with .loc, except in\u001b[0m\u001b[0;34m\u001b[0m\u001b[0;34m\u001b[0m\u001b[0;34m\u001b[0m\u001b[0m\n",
      "\u001b[0;31mKeyError\u001b[0m: \"None of [Int64Index([ 31762, 113336,  63289,  60186,  95511,  58059,     75,  80975,\\n             90782,  24797,\\n            ...\\n            107446,  36960,  15870,  55728,  89038,  59954,  92905,  34025,\\n            106536,  10666],\\n           dtype='int64', length=128)] are in the [columns]\""
     ]
    }
   ],
   "source": [
    "history = model.fit(x = X_train, y = y_train, epochs = 20, batch_size = 128,\n",
    "                   validation_split = 0.2)"
   ]
  },
  {
   "cell_type": "code",
   "execution_count": 42,
   "metadata": {},
   "outputs": [
    {
     "data": {
      "text/html": [
       "<div>\n",
       "<style scoped>\n",
       "    .dataframe tbody tr th:only-of-type {\n",
       "        vertical-align: middle;\n",
       "    }\n",
       "\n",
       "    .dataframe tbody tr th {\n",
       "        vertical-align: top;\n",
       "    }\n",
       "\n",
       "    .dataframe thead th {\n",
       "        text-align: right;\n",
       "    }\n",
       "</style>\n",
       "<table border=\"1\" class=\"dataframe\">\n",
       "  <thead>\n",
       "    <tr style=\"text-align: right;\">\n",
       "      <th></th>\n",
       "      <th>Date</th>\n",
       "      <th>CPC</th>\n",
       "      <th>Market</th>\n",
       "      <th>CTR</th>\n",
       "      <th>Impressions</th>\n",
       "      <th>Cost</th>\n",
       "    </tr>\n",
       "  </thead>\n",
       "  <tbody>\n",
       "    <tr>\n",
       "      <th>0</th>\n",
       "      <td>-0.502160</td>\n",
       "      <td>-0.507390</td>\n",
       "      <td>-1.467025</td>\n",
       "      <td>-0.577179</td>\n",
       "      <td>-0.169218</td>\n",
       "      <td>-0.250730</td>\n",
       "    </tr>\n",
       "    <tr>\n",
       "      <th>1</th>\n",
       "      <td>1.960034</td>\n",
       "      <td>-0.250947</td>\n",
       "      <td>0.681652</td>\n",
       "      <td>0.501155</td>\n",
       "      <td>-0.172698</td>\n",
       "      <td>-0.222662</td>\n",
       "    </tr>\n",
       "    <tr>\n",
       "      <th>2</th>\n",
       "      <td>-0.551301</td>\n",
       "      <td>-0.052151</td>\n",
       "      <td>-1.467025</td>\n",
       "      <td>1.733537</td>\n",
       "      <td>-0.174240</td>\n",
       "      <td>-0.185185</td>\n",
       "    </tr>\n",
       "    <tr>\n",
       "      <th>3</th>\n",
       "      <td>-0.575872</td>\n",
       "      <td>-0.243317</td>\n",
       "      <td>0.681652</td>\n",
       "      <td>-0.166385</td>\n",
       "      <td>0.154404</td>\n",
       "      <td>0.534952</td>\n",
       "    </tr>\n",
       "    <tr>\n",
       "      <th>4</th>\n",
       "      <td>-0.473269</td>\n",
       "      <td>-0.316011</td>\n",
       "      <td>0.681652</td>\n",
       "      <td>-0.885275</td>\n",
       "      <td>-0.164517</td>\n",
       "      <td>-0.239196</td>\n",
       "    </tr>\n",
       "  </tbody>\n",
       "</table>\n",
       "</div>"
      ],
      "text/plain": [
       "       Date       CPC    Market       CTR  Impressions      Cost\n",
       "0 -0.502160 -0.507390 -1.467025 -0.577179    -0.169218 -0.250730\n",
       "1  1.960034 -0.250947  0.681652  0.501155    -0.172698 -0.222662\n",
       "2 -0.551301 -0.052151 -1.467025  1.733537    -0.174240 -0.185185\n",
       "3 -0.575872 -0.243317  0.681652 -0.166385     0.154404  0.534952\n",
       "4 -0.473269 -0.316011  0.681652 -0.885275    -0.164517 -0.239196"
      ]
     },
     "execution_count": 42,
     "metadata": {},
     "output_type": "execute_result"
    }
   ],
   "source": [
    "X.head()"
   ]
  },
  {
   "cell_type": "code",
   "execution_count": 44,
   "metadata": {},
   "outputs": [
    {
     "name": "stdout",
     "output_type": "stream",
     "text": [
      "(203595, 6)\n",
      "(203595,)\n"
     ]
    }
   ],
   "source": [
    "print(X.shape)\n",
    "print(y.shape)"
   ]
  },
  {
   "cell_type": "code",
   "execution_count": 30,
   "metadata": {},
   "outputs": [
    {
     "data": {
      "image/png": "[encoded data removed]",
      "text/plain": [
       "<Figure size 864x432 with 1 Axes>"
      ]
     },
     "metadata": {
      "needs_background": "light"
     },
     "output_type": "display_data"
    }
   ],
   "source": [
    "plt.figure(figsize = (12,6))\n",
    "plt.plot(history.history['loss'])\n",
    "plt.plot(history.history['val_loss'])\n",
    "plt.title('Model Loss')\n",
    "plt.ylabel('Loss')\n",
    "plt.xlabel('Epochs')\n",
    "plt.legend(['train', 'validation'], loc = 'upper_right')\n",
    "plt.show()"
   ]
  },
  {
   "cell_type": "markdown",
   "metadata": {},
   "source": [
    "## Word2Vec Model for Word Embeddings:"
   ]
  },
  {
   "cell_type": "code",
   "execution_count": 27,
   "metadata": {},
   "outputs": [
    {
     "name": "stdout",
     "output_type": "stream",
     "text": [
      "[['agile', 'management', 'software'], ['android', 'app', 'developers'], ['android', 'application', 'developer'], ['android', 'app', 'developer'], ['mobile', 'applications', 'developers'], ['cloud', 'computing', 'dummies'], ['apps', 'development'], ['mobile', 'apps', 'developers'], ['joomla', 'designers'], ['ink', '8560']]\n",
      "203595\n",
      "Here is the Vocabulary Size .. 729\n"
     ]
    }
   ],
   "source": [
    "######## DEALING WITH KEYWORDS COLUMNS ############:\n",
    "\n",
    "keywords_list = list(new_df['Keyword'])\n",
    "cleaned_keyword_list = list()\n",
    "for line in keywords_list:\n",
    "    rem_token_punc = RegexpTokenizer(r'\\w+')\n",
    "    tokens = rem_token_punc.tokenize(line)\n",
    "    # print(tokens)\n",
    "    words = [w.lower() for w in tokens]\n",
    "    # print(words)\n",
    "    words = [word for word in words if not word in stopwords]\n",
    "    # print(words)\n",
    "    cleaned_keyword_list.append(words)\n",
    "    \n",
    "print(cleaned_keyword_list[:10])\n",
    "print(len(cleaned_keyword_list))\n",
    "\n",
    "EMB_dim = 32\n",
    "\n",
    "# train Word2Vec model\n",
    "model = gensim.models.Word2Vec(sentences = cleaned_keyword_list, size = EMB_dim, workers = 4, min_count = 1)\n",
    "# vocabulary size\n",
    "words = list(model.wv.vocab)\n",
    "print(\"Here is the Vocabulary Size .. %d\" % len(words))"
   ]
  },
  {
   "cell_type": "code",
   "execution_count": 28,
   "metadata": {},
   "outputs": [
    {
     "data": {
      "text/plain": [
       "[('tracking', 0.7912771105766296),\n",
       " ('21', 0.7328250408172607),\n",
       " ('assurance', 0.628747820854187),\n",
       " ('quote', 0.6262915134429932),\n",
       " ('term', 0.5759748220443726),\n",
       " ('aetna', 0.5728580951690674),\n",
       " ('century', 0.5653750896453857),\n",
       " ('plans', 0.563106894493103),\n",
       " ('universal', 0.5619962215423584),\n",
       " ('private', 0.5603671669960022)]"
      ]
     },
     "execution_count": 28,
     "metadata": {},
     "output_type": "execute_result"
    }
   ],
   "source": [
    "model.wv.most_similar(\"insurance\")"
   ]
  },
  {
   "cell_type": "code",
   "execution_count": 29,
   "metadata": {},
   "outputs": [
    {
     "data": {
      "text/plain": [
       "Index(['Date', 'CPC', 'Market', 'CTR', 'Impressions', 'Cost', 'Clicks'], dtype='object')"
      ]
     },
     "execution_count": 29,
     "metadata": {},
     "output_type": "execute_result"
    }
   ],
   "source": [
    "scaled_df.columns"
   ]
  },
  {
   "cell_type": "code",
   "execution_count": 42,
   "metadata": {},
   "outputs": [],
   "source": [
    "inputA = Input(shape=(6,))\n",
    "inputB = Input(shape=(724,))\n",
    " \n",
    "# the first branch operates on the first input\n",
    "x = Dense(8, activation=\"relu\")(inputA)\n",
    "x = Dense(8, activation=\"relu\")(x)\n",
    "x = Dense(8, activation = \"relu\")(x)\n",
    "x = Dense(1, activation = \"linear\")(x)\n",
    "x = Model(inputs=inputA, outputs=x)\n",
    " \n",
    "# the second branch opreates on the second input\n",
    "y = Dense(64, activation=\"relu\")(inputB)\n",
    "y = Dense(32, activation=\"relu\")(y)\n",
    "y = Dense(16, activation=\"relu\")(y)\n",
    "y = Dense(4, activation = \"linear\")(y)\n",
    "y = Model(inputs=inputB, outputs=y)\n",
    " \n",
    "# combine the output of the two branches\n",
    "combined = concatenate([x.output, y.output])\n",
    " \n",
    "# apply a FC layer and then a regression prediction on the\n",
    "# combined outputs\n",
    "z = Dense(8, activation=\"relu\")(combined)\n",
    "z = Dense(8, activation=\"relu\")(z)\n",
    "z = Dense(8, activation = \"relu\")(z)\n",
    "z = Dense(1, activation = \"linear\")(z)\n",
    " \n",
    "# our model will accept the inputs of the two branches and\n",
    "# then output a single value\n",
    "model = Model(inputs=[x.input, y.input], outputs=z)"
   ]
  },
  {
   "cell_type": "code",
   "execution_count": 43,
   "metadata": {},
   "outputs": [],
   "source": [
    "model.compile(optimizer = 'adam', loss = 'mse', metrics = ['accuracy'])"
   ]
  },
  {
   "cell_type": "code",
   "execution_count": 44,
   "metadata": {},
   "outputs": [
    {
     "name": "stdout",
     "output_type": "stream",
     "text": [
      "Train on 142516 samples, validate on 61079 samples\n",
      "Epoch 1/20\n",
      "142516/142516 [==============================] - 12s 86us/step - loss: 2835080.0930 - accuracy: 2.2454e-04 - val_loss: 1321992.9181 - val_accuracy: 8.1861e-05\n",
      "Epoch 2/20\n",
      "142516/142516 [==============================] - 12s 82us/step - loss: 855953.9600 - accuracy: 4.9117e-05 - val_loss: 555922.5004 - val_accuracy: 1.6372e-04\n",
      "Epoch 3/20\n",
      "142516/142516 [==============================] - 12s 82us/step - loss: 548754.9543 - accuracy: 1.4735e-04 - val_loss: 440662.4326 - val_accuracy: 8.1861e-05\n",
      "Epoch 4/20\n",
      "142516/142516 [==============================] - 12s 81us/step - loss: 422542.4697 - accuracy: 9.1218e-05 - val_loss: 382156.0289 - val_accuracy: 3.2744e-05\n",
      "Epoch 5/20\n",
      "142516/142516 [==============================] - 12s 81us/step - loss: 293361.5455 - accuracy: 9.1218e-05 - val_loss: 275304.2907 - val_accuracy: 1.6372e-05\n",
      "Epoch 6/20\n",
      "142516/142516 [==============================] - 12s 83us/step - loss: 202524.1856 - accuracy: 8.4201e-05 - val_loss: 163752.2260 - val_accuracy: 6.5489e-05\n",
      "Epoch 7/20\n",
      "142516/142516 [==============================] - 12s 83us/step - loss: 166464.7079 - accuracy: 1.1928e-04 - val_loss: 142052.2018 - val_accuracy: 2.4558e-04\n",
      "Epoch 8/20\n",
      "142516/142516 [==============================] - 12s 83us/step - loss: 148627.1975 - accuracy: 8.4201e-05 - val_loss: 156484.9750 - val_accuracy: 8.1861e-05\n",
      "Epoch 9/20\n",
      "142516/142516 [==============================] - 12s 82us/step - loss: 132723.4265 - accuracy: 1.6139e-04 - val_loss: 114895.2071 - val_accuracy: 1.4735e-04\n",
      "Epoch 10/20\n",
      "142516/142516 [==============================] - 12s 85us/step - loss: 125273.7856 - accuracy: 1.3332e-04 - val_loss: 105397.4279 - val_accuracy: 2.4558e-04\n",
      "Epoch 11/20\n",
      "142516/142516 [==============================] - 12s 84us/step - loss: 113012.1190 - accuracy: 1.4034e-04 - val_loss: 161906.8946 - val_accuracy: 1.6372e-04\n",
      "Epoch 12/20\n",
      "142516/142516 [==============================] - 12s 85us/step - loss: 108199.5700 - accuracy: 1.3332e-04 - val_loss: 92006.9197 - val_accuracy: 8.1861e-05\n",
      "Epoch 13/20\n",
      "142516/142516 [==============================] - 12s 83us/step - loss: 101904.1106 - accuracy: 1.4034e-04 - val_loss: 77665.4946 - val_accuracy: 1.4735e-04\n",
      "Epoch 14/20\n",
      "142516/142516 [==============================] - 12s 86us/step - loss: 97379.0220 - accuracy: 1.1928e-04 - val_loss: 109514.4664 - val_accuracy: 1.3098e-04\n",
      "Epoch 15/20\n",
      "142516/142516 [==============================] - 12s 84us/step - loss: 92934.9536 - accuracy: 1.2630e-04 - val_loss: 105653.6891 - val_accuracy: 1.3098e-04\n",
      "Epoch 16/20\n",
      "142516/142516 [==============================] - 12s 81us/step - loss: 92486.3076 - accuracy: 1.6840e-04 - val_loss: 75088.4163 - val_accuracy: 6.5489e-05\n",
      "Epoch 17/20\n",
      "142516/142516 [==============================] - 11s 80us/step - loss: 90158.1457 - accuracy: 1.1227e-04 - val_loss: 93487.0118 - val_accuracy: 1.6372e-04\n",
      "Epoch 18/20\n",
      "142516/142516 [==============================] - 12s 84us/step - loss: 88837.4564 - accuracy: 1.4034e-04 - val_loss: 74658.0216 - val_accuracy: 1.3098e-04\n",
      "Epoch 19/20\n",
      "142516/142516 [==============================] - 12s 83us/step - loss: 88961.7432 - accuracy: 1.7542e-04 - val_loss: 79383.2935 - val_accuracy: 1.3098e-04\n",
      "Epoch 20/20\n",
      "142516/142516 [==============================] - 12s 86us/step - loss: 87386.0934 - accuracy: 1.4735e-04 - val_loss: 84894.4657 - val_accuracy: 0.0000e+00\n"
     ]
    }
   ],
   "source": [
    "history = model.fit([X_train, X_text_train], y_train,\n",
    "                   validation_data = ([X_test, X_text_test], y_test), epochs = 20, batch_size = 64)"
   ]
  },
  {
   "cell_type": "code",
   "execution_count": 45,
   "metadata": {},
   "outputs": [
    {
     "data": {
      "text/plain": [
       "dict_keys(['val_loss', 'val_accuracy', 'loss', 'accuracy'])"
      ]
     },
     "execution_count": 45,
     "metadata": {},
     "output_type": "execute_result"
    }
   ],
   "source": [
    "history.history.keys()"
   ]
  },
  {
   "cell_type": "code",
   "execution_count": 46,
   "metadata": {},
   "outputs": [
    {
     "data": {
      "image/png": "[encoded data removed]",
      "text/plain": [
       "<Figure size 864x432 with 1 Axes>"
      ]
     },
     "metadata": {
      "needs_background": "light"
     },
     "output_type": "display_data"
    }
   ],
   "source": [
    "plt.figure(figsize = (12,6))\n",
    "plt.plot(history.history['loss'])\n",
    "plt.plot(history.history['val_loss'])\n",
    "plt.title('Model Loss')\n",
    "plt.ylabel('Loss')\n",
    "plt.xlabel('Epochs')\n",
    "plt.legend(['train', 'validation'], loc = 'upper_right')\n",
    "plt.show()"
   ]
  },
  {
   "cell_type": "markdown",
   "metadata": {},
   "source": [
    "## The TF-IDF Approach"
   ]
  },
  {
   "cell_type": "code",
   "execution_count": 30,
   "metadata": {},
   "outputs": [],
   "source": [
    "from sklearn.feature_extraction.text import TfidfVectorizer"
   ]
  },
  {
   "cell_type": "code",
   "execution_count": 31,
   "metadata": {},
   "outputs": [
    {
     "name": "stdout",
     "output_type": "stream",
     "text": [
      "(142516, 724)\n",
      "(142516,)\n"
     ]
    }
   ],
   "source": [
    "corpus = list(new_df['Keyword'])\n",
    "vectorizer = TfidfVectorizer()\n",
    "\n",
    "tf_corpus = vectorizer.fit_transform(corpus)\n",
    "\n",
    "# print(vectorizer.get_feature_names())\n",
    "# print(len(vectorizer.get_feature_names()))\n",
    "\n",
    "X_text = tf_corpus\n",
    "y = new_df['Clicks']\n",
    "\n",
    "X_text_train, X_text_test, y_train, y_test = train_test_split(X_text, y, test_size = 0.3, random_state = 101)\n",
    "\n",
    "print(X_text_train.shape)\n",
    "print(y_train.shape)\n",
    "\n",
    "model1 = Sequential()\n",
    "\n",
    "model1.add(Dense(8, activation = \"relu\", input_dim = X_text_train.shape[1]))\n",
    "model1.add(Dense(8, activation = \"relu\"))\n",
    "model1.add(Dense(8, activation = \"relu\"))\n",
    "model1.add(Dense(1, activation = \"linear\"))\n",
    "\n",
    "model1.compile(optimizer = \"adam\", loss = \"mse\", metrics = [\"accuracy\"])"
   ]
  },
  {
   "cell_type": "code",
   "execution_count": 32,
   "metadata": {},
   "outputs": [
    {
     "ename": "TypeError",
     "evalue": "sparse matrix length is ambiguous; use getnnz() or shape[0]",
     "output_type": "error",
     "traceback": [
      "\u001b[0;31m---------------------------------------------------------------------------\u001b[0m",
      "\u001b[0;31mTypeError\u001b[0m                                 Traceback (most recent call last)",
      "\u001b[0;32m<ipython-input-32-3943c0f0cb49>\u001b[0m in \u001b[0;36m<module>\u001b[0;34m\u001b[0m\n\u001b[1;32m      1\u001b[0m history = model1.fit(x = X_text_train, y = y_train, batch_size = 64, epochs = 50,\n\u001b[0;32m----> 2\u001b[0;31m          verbose = 1, validation_split = 0.2)\n\u001b[0m",
      "\u001b[0;32m~/anaconda3/lib/python3.7/site-packages/keras/models.py\u001b[0m in \u001b[0;36mfit\u001b[0;34m(self, x, y, batch_size, epochs, verbose, callbacks, validation_split, validation_data, shuffle, class_weight, sample_weight, initial_epoch, **kwargs)\u001b[0m\n\u001b[1;32m    843\u001b[0m                               \u001b[0mclass_weight\u001b[0m\u001b[0;34m=\u001b[0m\u001b[0mclass_weight\u001b[0m\u001b[0;34m,\u001b[0m\u001b[0;34m\u001b[0m\u001b[0;34m\u001b[0m\u001b[0m\n\u001b[1;32m    844\u001b[0m                               \u001b[0msample_weight\u001b[0m\u001b[0;34m=\u001b[0m\u001b[0msample_weight\u001b[0m\u001b[0;34m,\u001b[0m\u001b[0;34m\u001b[0m\u001b[0;34m\u001b[0m\u001b[0m\n\u001b[0;32m--> 845\u001b[0;31m                               initial_epoch=initial_epoch)\n\u001b[0m\u001b[1;32m    846\u001b[0m \u001b[0;34m\u001b[0m\u001b[0m\n\u001b[1;32m    847\u001b[0m     def evaluate(self, x, y, batch_size=32, verbose=1,\n",
      "\u001b[0;32m~/anaconda3/lib/python3.7/site-packages/keras/engine/training.py\u001b[0m in \u001b[0;36mfit\u001b[0;34m(self, x, y, batch_size, epochs, verbose, callbacks, validation_split, validation_data, shuffle, class_weight, sample_weight, initial_epoch, **kwargs)\u001b[0m\n\u001b[1;32m   1433\u001b[0m         \u001b[0;32melif\u001b[0m \u001b[0mvalidation_split\u001b[0m \u001b[0;32mand\u001b[0m \u001b[0;36m0.\u001b[0m \u001b[0;34m<\u001b[0m \u001b[0mvalidation_split\u001b[0m \u001b[0;34m<\u001b[0m \u001b[0;36m1.\u001b[0m\u001b[0;34m:\u001b[0m\u001b[0;34m\u001b[0m\u001b[0;34m\u001b[0m\u001b[0m\n\u001b[1;32m   1434\u001b[0m             \u001b[0mdo_validation\u001b[0m \u001b[0;34m=\u001b[0m \u001b[0;32mTrue\u001b[0m\u001b[0;34m\u001b[0m\u001b[0;34m\u001b[0m\u001b[0m\n\u001b[0;32m-> 1435\u001b[0;31m             \u001b[0msplit_at\u001b[0m \u001b[0;34m=\u001b[0m \u001b[0mint\u001b[0m\u001b[0;34m(\u001b[0m\u001b[0mlen\u001b[0m\u001b[0;34m(\u001b[0m\u001b[0mx\u001b[0m\u001b[0;34m[\u001b[0m\u001b[0;36m0\u001b[0m\u001b[0;34m]\u001b[0m\u001b[0;34m)\u001b[0m \u001b[0;34m*\u001b[0m \u001b[0;34m(\u001b[0m\u001b[0;36m1.\u001b[0m \u001b[0;34m-\u001b[0m \u001b[0mvalidation_split\u001b[0m\u001b[0;34m)\u001b[0m\u001b[0;34m)\u001b[0m\u001b[0;34m\u001b[0m\u001b[0;34m\u001b[0m\u001b[0m\n\u001b[0m\u001b[1;32m   1436\u001b[0m             \u001b[0mx\u001b[0m\u001b[0;34m,\u001b[0m \u001b[0mval_x\u001b[0m \u001b[0;34m=\u001b[0m \u001b[0;34m(\u001b[0m\u001b[0m_slice_arrays\u001b[0m\u001b[0;34m(\u001b[0m\u001b[0mx\u001b[0m\u001b[0;34m,\u001b[0m \u001b[0;36m0\u001b[0m\u001b[0;34m,\u001b[0m \u001b[0msplit_at\u001b[0m\u001b[0;34m)\u001b[0m\u001b[0;34m,\u001b[0m \u001b[0m_slice_arrays\u001b[0m\u001b[0;34m(\u001b[0m\u001b[0mx\u001b[0m\u001b[0;34m,\u001b[0m \u001b[0msplit_at\u001b[0m\u001b[0;34m)\u001b[0m\u001b[0;34m)\u001b[0m\u001b[0;34m\u001b[0m\u001b[0;34m\u001b[0m\u001b[0m\n\u001b[1;32m   1437\u001b[0m             \u001b[0my\u001b[0m\u001b[0;34m,\u001b[0m \u001b[0mval_y\u001b[0m \u001b[0;34m=\u001b[0m \u001b[0;34m(\u001b[0m\u001b[0m_slice_arrays\u001b[0m\u001b[0;34m(\u001b[0m\u001b[0my\u001b[0m\u001b[0;34m,\u001b[0m \u001b[0;36m0\u001b[0m\u001b[0;34m,\u001b[0m \u001b[0msplit_at\u001b[0m\u001b[0;34m)\u001b[0m\u001b[0;34m,\u001b[0m \u001b[0m_slice_arrays\u001b[0m\u001b[0;34m(\u001b[0m\u001b[0my\u001b[0m\u001b[0;34m,\u001b[0m \u001b[0msplit_at\u001b[0m\u001b[0;34m)\u001b[0m\u001b[0;34m)\u001b[0m\u001b[0;34m\u001b[0m\u001b[0;34m\u001b[0m\u001b[0m\n",
      "\u001b[0;32m~/anaconda3/lib/python3.7/site-packages/scipy/sparse/base.py\u001b[0m in \u001b[0;36m__len__\u001b[0;34m(self)\u001b[0m\n\u001b[1;32m    294\u001b[0m     \u001b[0;31m# non-zeros is more important.  For now, raise an exception!\u001b[0m\u001b[0;34m\u001b[0m\u001b[0;34m\u001b[0m\u001b[0;34m\u001b[0m\u001b[0m\n\u001b[1;32m    295\u001b[0m     \u001b[0;32mdef\u001b[0m \u001b[0m__len__\u001b[0m\u001b[0;34m(\u001b[0m\u001b[0mself\u001b[0m\u001b[0;34m)\u001b[0m\u001b[0;34m:\u001b[0m\u001b[0;34m\u001b[0m\u001b[0;34m\u001b[0m\u001b[0m\n\u001b[0;32m--> 296\u001b[0;31m         raise TypeError(\"sparse matrix length is ambiguous; use getnnz()\"\n\u001b[0m\u001b[1;32m    297\u001b[0m                         \" or shape[0]\")\n\u001b[1;32m    298\u001b[0m \u001b[0;34m\u001b[0m\u001b[0m\n",
      "\u001b[0;31mTypeError\u001b[0m: sparse matrix length is ambiguous; use getnnz() or shape[0]"
     ]
    }
   ],
   "source": [
    "history = model1.fit(x = X_text_train, y = y_train, batch_size = 64, epochs = 50,\n",
    "         verbose = 1, validation_split = 0.2)"
   ]
  },
  {
   "cell_type": "code",
   "execution_count": 39,
   "metadata": {},
   "outputs": [
    {
     "data": {
      "text/plain": [
       "dict_keys(['val_loss', 'val_accuracy', 'loss', 'accuracy'])"
      ]
     },
     "execution_count": 39,
     "metadata": {},
     "output_type": "execute_result"
    }
   ],
   "source": [
    "history.history.keys()"
   ]
  },
  {
   "cell_type": "code",
   "execution_count": 40,
   "metadata": {},
   "outputs": [
    {
     "data": {
      "image/png": "[encoded data removed]",
      "text/plain": [
       "<Figure size 864x432 with 1 Axes>"
      ]
     },
     "metadata": {
      "needs_background": "light"
     },
     "output_type": "display_data"
    }
   ],
   "source": [
    "plt.figure(figsize = (12,6))\n",
    "plt.plot(history.history['loss'])\n",
    "plt.plot(history.history['val_loss'])\n",
    "plt.title('Model Loss')\n",
    "plt.ylabel('Loss')\n",
    "plt.xlabel('Epochs')\n",
    "plt.legend(['train', 'validation'], loc = 'upper_right')\n",
    "plt.show()"
   ]
  },
  {
   "cell_type": "markdown",
   "metadata": {},
   "source": [
    "## Question No. 01\n",
    "\n",
    "__How did you manipulate the data, and why? Illustrate your answer with plots.__"
   ]
  },
  {
   "cell_type": "markdown",
   "metadata": {},
   "source": [
    "The Data manipulation was not a big deal. The only thing, which has made this problem a bit tricky and challenging is, we had various types of feature inputs. And we needed to manipulate almost all those (Numerical, Categorical and Text inputs) to train our model. For this we needed to create such model that would receive all these inputs at a time and for that obviously we needed to transforms all those non-numerical features, to something that our can get trained on. And this is what we're gonna discuss in detail in next questions.\n",
    "\n",
    "As far as the features selection is concerned, __Market, Keyword, and CPC__ are the ones which we needed to predict our model results on. So, we have to keep them in our dataset. __Impressions and Cost__ are that ones, that impacted our target variable the most, and needed to be kept in dataset. __CTR__ generally made sense to be kept in dataset, and also if we would drop more features, our model might end up __underfitting__. __Heatmap__ below shows the clear picture."
   ]
  },
  {
   "cell_type": "code",
   "execution_count": 45,
   "metadata": {},
   "outputs": [
    {
     "data": {
      "text/plain": [
       "<matplotlib.axes._subplots.AxesSubplot at 0x7f2155c9ba90>"
      ]
     },
     "execution_count": 45,
     "metadata": {},
     "output_type": "execute_result"
    },
    {
     "data": {
      "image/png": "[encoded data removed]",
      "text/plain": [
       "<Figure size 864x432 with 2 Axes>"
      ]
     },
     "metadata": {
      "needs_background": "light"
     },
     "output_type": "display_data"
    }
   ],
   "source": [
    "plt.figure(figsize = (12,6))\n",
    "sns.heatmap(corr, cmap = 'coolwarm')"
   ]
  },
  {
   "cell_type": "code",
   "execution_count": null,
   "metadata": {},
   "outputs": [],
   "source": []
  }
 ],
 "metadata": {
  "kernelspec": {
   "display_name": "Python 3",
   "language": "python",
   "name": "python3"
  },
  "language_info": {
   "codemirror_mode": {
    "name": "ipython",
    "version": 3
   },
   "file_extension": ".py",
   "mimetype": "text/x-python",
   "name": "python",
   "nbconvert_exporter": "python",
   "pygments_lexer": "ipython3",
   "version": "3.7.3"
  }
 },
 "nbformat": 4,
 "nbformat_minor": 2
}
