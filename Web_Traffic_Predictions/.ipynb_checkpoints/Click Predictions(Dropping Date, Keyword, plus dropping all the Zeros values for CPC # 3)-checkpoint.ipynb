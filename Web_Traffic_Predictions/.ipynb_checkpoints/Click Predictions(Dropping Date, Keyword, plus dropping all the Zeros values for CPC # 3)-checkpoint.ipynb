{
 "cells": [
  {
   "cell_type": "markdown",
   "metadata": {},
   "source": [
    "## Loading Dataset and Importing Libraries:"
   ]
  },
  {
   "cell_type": "code",
   "execution_count": 1,
   "metadata": {},
   "outputs": [
    {
     "name": "stderr",
     "output_type": "stream",
     "text": [
      "Using TensorFlow backend.\n",
      "[nltk_data] Downloading package stopwords to C:\\Users\\Umair\n",
      "[nltk_data]     Gillani\\AppData\\Roaming\\nltk_data...\n",
      "[nltk_data]   Package stopwords is already up-to-date!\n"
     ]
    }
   ],
   "source": [
    "import pandas as pd\n",
    "import matplotlib.pyplot as plt\n",
    "import seaborn as sns\n",
    "import warnings\n",
    "import gensim\n",
    "import keras\n",
    "from keras.layers import Input, Dense, concatenate, Activation\n",
    "from keras.models import Sequential\n",
    "from keras.models import Model\n",
    "import nltk\n",
    "from nltk import RegexpTokenizer\n",
    "from nltk.corpus import stopwords\n",
    "from nltk.tokenize import word_tokenize\n",
    "from sklearn import metrics\n",
    "from sklearn.preprocessing import MinMaxScaler\n",
    "from sklearn.model_selection import train_test_split\n",
    "from sklearn.utils import shuffle # we can also shuffle in input_func with tensorflow\n",
    "warnings.filterwarnings(\"ignore\")\n",
    "from collections import Counter\n",
    "nltk.download(\"stopwords\")\n",
    "# nltk.download(\"punkt\")\n",
    "\n",
    "%matplotlib inline"
   ]
  },
  {
   "cell_type": "code",
   "execution_count": 2,
   "metadata": {},
   "outputs": [],
   "source": [
    "df = pd.read_csv('SEM_KeyWord_Dataset.csv')"
   ]
  },
  {
   "cell_type": "code",
   "execution_count": 3,
   "metadata": {},
   "outputs": [
    {
     "data": {
      "text/html": [
       "<div>\n",
       "<style scoped>\n",
       "    .dataframe tbody tr th:only-of-type {\n",
       "        vertical-align: middle;\n",
       "    }\n",
       "\n",
       "    .dataframe tbody tr th {\n",
       "        vertical-align: top;\n",
       "    }\n",
       "\n",
       "    .dataframe thead th {\n",
       "        text-align: right;\n",
       "    }\n",
       "</style>\n",
       "<table border=\"1\" class=\"dataframe\">\n",
       "  <thead>\n",
       "    <tr style=\"text-align: right;\">\n",
       "      <th></th>\n",
       "      <th>Date</th>\n",
       "      <th>Market</th>\n",
       "      <th>Keyword</th>\n",
       "      <th>Average.Position</th>\n",
       "      <th>CPC</th>\n",
       "      <th>Clicks</th>\n",
       "      <th>CTR</th>\n",
       "      <th>Impressions</th>\n",
       "      <th>Cost</th>\n",
       "    </tr>\n",
       "  </thead>\n",
       "  <tbody>\n",
       "    <tr>\n",
       "      <td>0</td>\n",
       "      <td>20120524</td>\n",
       "      <td>US-Market</td>\n",
       "      <td>secure online back up</td>\n",
       "      <td>0.0</td>\n",
       "      <td>0.0</td>\n",
       "      <td>0.00</td>\n",
       "      <td>0.00%</td>\n",
       "      <td>0.0</td>\n",
       "      <td>0.00</td>\n",
       "    </tr>\n",
       "    <tr>\n",
       "      <td>1</td>\n",
       "      <td>20120524</td>\n",
       "      <td>US-Market</td>\n",
       "      <td>agile management software</td>\n",
       "      <td>1.0</td>\n",
       "      <td>1.2</td>\n",
       "      <td>21.22</td>\n",
       "      <td>8.20%</td>\n",
       "      <td>260.0</td>\n",
       "      <td>25.45</td>\n",
       "    </tr>\n",
       "    <tr>\n",
       "      <td>2</td>\n",
       "      <td>20120524</td>\n",
       "      <td>US-Market</td>\n",
       "      <td>crm for financial</td>\n",
       "      <td>0.0</td>\n",
       "      <td>0.0</td>\n",
       "      <td>0.00</td>\n",
       "      <td>0.00%</td>\n",
       "      <td>0.0</td>\n",
       "      <td>0.00</td>\n",
       "    </tr>\n",
       "    <tr>\n",
       "      <td>3</td>\n",
       "      <td>20120524</td>\n",
       "      <td>US-Market</td>\n",
       "      <td>disaster recovery planning for it</td>\n",
       "      <td>0.0</td>\n",
       "      <td>0.0</td>\n",
       "      <td>0.00</td>\n",
       "      <td>0.00%</td>\n",
       "      <td>0.0</td>\n",
       "      <td>0.00</td>\n",
       "    </tr>\n",
       "    <tr>\n",
       "      <td>4</td>\n",
       "      <td>20120524</td>\n",
       "      <td>US-Market</td>\n",
       "      <td>tracking a vehicle</td>\n",
       "      <td>0.0</td>\n",
       "      <td>0.0</td>\n",
       "      <td>0.00</td>\n",
       "      <td>0.00%</td>\n",
       "      <td>0.0</td>\n",
       "      <td>0.00</td>\n",
       "    </tr>\n",
       "  </tbody>\n",
       "</table>\n",
       "</div>"
      ],
      "text/plain": [
       "       Date     Market                            Keyword  Average.Position  \\\n",
       "0  20120524  US-Market              secure online back up               0.0   \n",
       "1  20120524  US-Market          agile management software               1.0   \n",
       "2  20120524  US-Market                  crm for financial               0.0   \n",
       "3  20120524  US-Market  disaster recovery planning for it               0.0   \n",
       "4  20120524  US-Market                 tracking a vehicle               0.0   \n",
       "\n",
       "   CPC  Clicks    CTR  Impressions   Cost  \n",
       "0  0.0    0.00  0.00%          0.0   0.00  \n",
       "1  1.2   21.22  8.20%        260.0  25.45  \n",
       "2  0.0    0.00  0.00%          0.0   0.00  \n",
       "3  0.0    0.00  0.00%          0.0   0.00  \n",
       "4  0.0    0.00  0.00%          0.0   0.00  "
      ]
     },
     "execution_count": 3,
     "metadata": {},
     "output_type": "execute_result"
    }
   ],
   "source": [
    "df.head()"
   ]
  },
  {
   "cell_type": "code",
   "execution_count": 4,
   "metadata": {},
   "outputs": [
    {
     "name": "stdout",
     "output_type": "stream",
     "text": [
      "<class 'pandas.core.frame.DataFrame'>\n",
      "RangeIndex: 356054 entries, 0 to 356053\n",
      "Data columns (total 9 columns):\n",
      "Date                356054 non-null int64\n",
      "Market              356054 non-null object\n",
      "Keyword             355575 non-null object\n",
      "Average.Position    353018 non-null float64\n",
      "CPC                 353018 non-null float64\n",
      "Clicks              353018 non-null float64\n",
      "CTR                 353018 non-null object\n",
      "Impressions         353018 non-null float64\n",
      "Cost                353018 non-null float64\n",
      "dtypes: float64(5), int64(1), object(3)\n",
      "memory usage: 24.4+ MB\n"
     ]
    }
   ],
   "source": [
    "df.info()"
   ]
  },
  {
   "cell_type": "code",
   "execution_count": 5,
   "metadata": {},
   "outputs": [
    {
     "data": {
      "text/html": [
       "<div>\n",
       "<style scoped>\n",
       "    .dataframe tbody tr th:only-of-type {\n",
       "        vertical-align: middle;\n",
       "    }\n",
       "\n",
       "    .dataframe tbody tr th {\n",
       "        vertical-align: top;\n",
       "    }\n",
       "\n",
       "    .dataframe thead th {\n",
       "        text-align: right;\n",
       "    }\n",
       "</style>\n",
       "<table border=\"1\" class=\"dataframe\">\n",
       "  <thead>\n",
       "    <tr style=\"text-align: right;\">\n",
       "      <th></th>\n",
       "      <th>Date</th>\n",
       "      <th>Average.Position</th>\n",
       "      <th>CPC</th>\n",
       "      <th>Clicks</th>\n",
       "      <th>Impressions</th>\n",
       "      <th>Cost</th>\n",
       "    </tr>\n",
       "  </thead>\n",
       "  <tbody>\n",
       "    <tr>\n",
       "      <td>count</td>\n",
       "      <td>3.560540e+05</td>\n",
       "      <td>353018.000000</td>\n",
       "      <td>353018.000000</td>\n",
       "      <td>353018.000000</td>\n",
       "      <td>3.530180e+05</td>\n",
       "      <td>3.530180e+05</td>\n",
       "    </tr>\n",
       "    <tr>\n",
       "      <td>mean</td>\n",
       "      <td>2.012269e+07</td>\n",
       "      <td>0.611737</td>\n",
       "      <td>14.285071</td>\n",
       "      <td>439.052699</td>\n",
       "      <td>1.874365e+04</td>\n",
       "      <td>3.598259e+03</td>\n",
       "    </tr>\n",
       "    <tr>\n",
       "      <td>std</td>\n",
       "      <td>3.577676e+03</td>\n",
       "      <td>0.643839</td>\n",
       "      <td>37.858433</td>\n",
       "      <td>7559.532663</td>\n",
       "      <td>2.970826e+05</td>\n",
       "      <td>5.718301e+04</td>\n",
       "    </tr>\n",
       "    <tr>\n",
       "      <td>min</td>\n",
       "      <td>2.012052e+07</td>\n",
       "      <td>0.000000</td>\n",
       "      <td>0.000000</td>\n",
       "      <td>0.000000</td>\n",
       "      <td>0.000000e+00</td>\n",
       "      <td>0.000000e+00</td>\n",
       "    </tr>\n",
       "    <tr>\n",
       "      <td>25%</td>\n",
       "      <td>2.012090e+07</td>\n",
       "      <td>0.000000</td>\n",
       "      <td>0.000000</td>\n",
       "      <td>0.000000</td>\n",
       "      <td>0.000000e+00</td>\n",
       "      <td>0.000000e+00</td>\n",
       "    </tr>\n",
       "    <tr>\n",
       "      <td>50%</td>\n",
       "      <td>2.012102e+07</td>\n",
       "      <td>1.000000</td>\n",
       "      <td>1.100000</td>\n",
       "      <td>2.120000</td>\n",
       "      <td>1.290000e+02</td>\n",
       "      <td>8.070000e+00</td>\n",
       "    </tr>\n",
       "    <tr>\n",
       "      <td>75%</td>\n",
       "      <td>2.012122e+07</td>\n",
       "      <td>1.000000</td>\n",
       "      <td>12.100000</td>\n",
       "      <td>35.230000</td>\n",
       "      <td>1.571000e+03</td>\n",
       "      <td>3.749975e+02</td>\n",
       "    </tr>\n",
       "    <tr>\n",
       "      <td>max</td>\n",
       "      <td>2.013021e+07</td>\n",
       "      <td>12.000000</td>\n",
       "      <td>632.730000</td>\n",
       "      <td>441963.500000</td>\n",
       "      <td>1.566667e+07</td>\n",
       "      <td>3.269108e+06</td>\n",
       "    </tr>\n",
       "  </tbody>\n",
       "</table>\n",
       "</div>"
      ],
      "text/plain": [
       "               Date  Average.Position            CPC         Clicks  \\\n",
       "count  3.560540e+05     353018.000000  353018.000000  353018.000000   \n",
       "mean   2.012269e+07          0.611737      14.285071     439.052699   \n",
       "std    3.577676e+03          0.643839      37.858433    7559.532663   \n",
       "min    2.012052e+07          0.000000       0.000000       0.000000   \n",
       "25%    2.012090e+07          0.000000       0.000000       0.000000   \n",
       "50%    2.012102e+07          1.000000       1.100000       2.120000   \n",
       "75%    2.012122e+07          1.000000      12.100000      35.230000   \n",
       "max    2.013021e+07         12.000000     632.730000  441963.500000   \n",
       "\n",
       "        Impressions          Cost  \n",
       "count  3.530180e+05  3.530180e+05  \n",
       "mean   1.874365e+04  3.598259e+03  \n",
       "std    2.970826e+05  5.718301e+04  \n",
       "min    0.000000e+00  0.000000e+00  \n",
       "25%    0.000000e+00  0.000000e+00  \n",
       "50%    1.290000e+02  8.070000e+00  \n",
       "75%    1.571000e+03  3.749975e+02  \n",
       "max    1.566667e+07  3.269108e+06  "
      ]
     },
     "execution_count": 5,
     "metadata": {},
     "output_type": "execute_result"
    }
   ],
   "source": [
    "df.describe()"
   ]
  },
  {
   "cell_type": "markdown",
   "metadata": {},
   "source": [
    "## Data Pre-processing:"
   ]
  },
  {
   "cell_type": "code",
   "execution_count": 6,
   "metadata": {},
   "outputs": [
    {
     "data": {
      "text/html": [
       "<div>\n",
       "<style scoped>\n",
       "    .dataframe tbody tr th:only-of-type {\n",
       "        vertical-align: middle;\n",
       "    }\n",
       "\n",
       "    .dataframe tbody tr th {\n",
       "        vertical-align: top;\n",
       "    }\n",
       "\n",
       "    .dataframe thead th {\n",
       "        text-align: right;\n",
       "    }\n",
       "</style>\n",
       "<table border=\"1\" class=\"dataframe\">\n",
       "  <thead>\n",
       "    <tr style=\"text-align: right;\">\n",
       "      <th></th>\n",
       "      <th>Date</th>\n",
       "      <th>Market</th>\n",
       "      <th>Keyword</th>\n",
       "      <th>Average.Position</th>\n",
       "      <th>CPC</th>\n",
       "      <th>Clicks</th>\n",
       "      <th>CTR</th>\n",
       "      <th>Impressions</th>\n",
       "      <th>Cost</th>\n",
       "    </tr>\n",
       "  </thead>\n",
       "  <tbody>\n",
       "    <tr>\n",
       "      <td>0</td>\n",
       "      <td>20120524</td>\n",
       "      <td>US-Market</td>\n",
       "      <td>secure online back up</td>\n",
       "      <td>0.0</td>\n",
       "      <td>0.0</td>\n",
       "      <td>0.00</td>\n",
       "      <td>0.0</td>\n",
       "      <td>0.0</td>\n",
       "      <td>0.00</td>\n",
       "    </tr>\n",
       "    <tr>\n",
       "      <td>1</td>\n",
       "      <td>20120524</td>\n",
       "      <td>US-Market</td>\n",
       "      <td>agile management software</td>\n",
       "      <td>1.0</td>\n",
       "      <td>1.2</td>\n",
       "      <td>21.22</td>\n",
       "      <td>8.2</td>\n",
       "      <td>260.0</td>\n",
       "      <td>25.45</td>\n",
       "    </tr>\n",
       "    <tr>\n",
       "      <td>2</td>\n",
       "      <td>20120524</td>\n",
       "      <td>US-Market</td>\n",
       "      <td>crm for financial</td>\n",
       "      <td>0.0</td>\n",
       "      <td>0.0</td>\n",
       "      <td>0.00</td>\n",
       "      <td>0.0</td>\n",
       "      <td>0.0</td>\n",
       "      <td>0.00</td>\n",
       "    </tr>\n",
       "    <tr>\n",
       "      <td>3</td>\n",
       "      <td>20120524</td>\n",
       "      <td>US-Market</td>\n",
       "      <td>disaster recovery planning for it</td>\n",
       "      <td>0.0</td>\n",
       "      <td>0.0</td>\n",
       "      <td>0.00</td>\n",
       "      <td>0.0</td>\n",
       "      <td>0.0</td>\n",
       "      <td>0.00</td>\n",
       "    </tr>\n",
       "    <tr>\n",
       "      <td>4</td>\n",
       "      <td>20120524</td>\n",
       "      <td>US-Market</td>\n",
       "      <td>tracking a vehicle</td>\n",
       "      <td>0.0</td>\n",
       "      <td>0.0</td>\n",
       "      <td>0.00</td>\n",
       "      <td>0.0</td>\n",
       "      <td>0.0</td>\n",
       "      <td>0.00</td>\n",
       "    </tr>\n",
       "  </tbody>\n",
       "</table>\n",
       "</div>"
      ],
      "text/plain": [
       "       Date     Market                            Keyword  Average.Position  \\\n",
       "0  20120524  US-Market              secure online back up               0.0   \n",
       "1  20120524  US-Market          agile management software               1.0   \n",
       "2  20120524  US-Market                  crm for financial               0.0   \n",
       "3  20120524  US-Market  disaster recovery planning for it               0.0   \n",
       "4  20120524  US-Market                 tracking a vehicle               0.0   \n",
       "\n",
       "   CPC  Clicks  CTR  Impressions   Cost  \n",
       "0  0.0    0.00  0.0          0.0   0.00  \n",
       "1  1.2   21.22  8.2        260.0  25.45  \n",
       "2  0.0    0.00  0.0          0.0   0.00  \n",
       "3  0.0    0.00  0.0          0.0   0.00  \n",
       "4  0.0    0.00  0.0          0.0   0.00  "
      ]
     },
     "execution_count": 6,
     "metadata": {},
     "output_type": "execute_result"
    }
   ],
   "source": [
    "df['CTR'] = df['CTR'].apply(lambda x: float(str(x).replace('%', ''))) # remove extra character string\n",
    "\n",
    "df = df.dropna() # drop the null values \n",
    "\n",
    "# df['Market'] = pd.get_dummies(df['Market']) # set dummies for market feature (binary)\n",
    "\n",
    "df.head() # check head"
   ]
  },
  {
   "cell_type": "code",
   "execution_count": 7,
   "metadata": {},
   "outputs": [
    {
     "data": {
      "text/plain": [
       "Date                False\n",
       "Market              False\n",
       "Keyword             False\n",
       "Average.Position    False\n",
       "CPC                 False\n",
       "Clicks              False\n",
       "CTR                 False\n",
       "Impressions         False\n",
       "Cost                False\n",
       "dtype: bool"
      ]
     },
     "execution_count": 7,
     "metadata": {},
     "output_type": "execute_result"
    }
   ],
   "source": [
    "# Let's quickly make sure we are not left with any null value in out data set\n",
    "#  plt.figure(figsize = (12,6))\n",
    "# sns.heatmap(df.isnull(), cmap = 'YlGnBu')\n",
    "df.isnull().any()"
   ]
  },
  {
   "cell_type": "code",
   "execution_count": 8,
   "metadata": {},
   "outputs": [
    {
     "name": "stdout",
     "output_type": "stream",
     "text": [
      "<class 'pandas.core.frame.DataFrame'>\n",
      "Int64Index: 203595 entries, 1 to 356039\n",
      "Data columns (total 9 columns):\n",
      "Date                203595 non-null int64\n",
      "Market              203595 non-null int64\n",
      "Keyword             203595 non-null object\n",
      "Average.Position    203595 non-null float64\n",
      "CPC                 203595 non-null float64\n",
      "Clicks              203595 non-null float64\n",
      "CTR                 203595 non-null float64\n",
      "Impressions         203595 non-null float64\n",
      "Cost                203595 non-null float64\n",
      "dtypes: float64(6), int64(2), object(1)\n",
      "memory usage: 15.5+ MB\n"
     ]
    },
    {
     "data": {
      "text/html": [
       "<div>\n",
       "<style scoped>\n",
       "    .dataframe tbody tr th:only-of-type {\n",
       "        vertical-align: middle;\n",
       "    }\n",
       "\n",
       "    .dataframe tbody tr th {\n",
       "        vertical-align: top;\n",
       "    }\n",
       "\n",
       "    .dataframe thead th {\n",
       "        text-align: right;\n",
       "    }\n",
       "</style>\n",
       "<table border=\"1\" class=\"dataframe\">\n",
       "  <thead>\n",
       "    <tr style=\"text-align: right;\">\n",
       "      <th></th>\n",
       "      <th>Date</th>\n",
       "      <th>Market</th>\n",
       "      <th>Keyword</th>\n",
       "      <th>Average.Position</th>\n",
       "      <th>CPC</th>\n",
       "      <th>Clicks</th>\n",
       "      <th>CTR</th>\n",
       "      <th>Impressions</th>\n",
       "      <th>Cost</th>\n",
       "    </tr>\n",
       "  </thead>\n",
       "  <tbody>\n",
       "    <tr>\n",
       "      <td>1</td>\n",
       "      <td>20120524</td>\n",
       "      <td>1</td>\n",
       "      <td>agile management software</td>\n",
       "      <td>1.0</td>\n",
       "      <td>1.20</td>\n",
       "      <td>21.22</td>\n",
       "      <td>8.2</td>\n",
       "      <td>260.0</td>\n",
       "      <td>25.45</td>\n",
       "    </tr>\n",
       "    <tr>\n",
       "      <td>9</td>\n",
       "      <td>20120524</td>\n",
       "      <td>1</td>\n",
       "      <td>android app developers</td>\n",
       "      <td>1.0</td>\n",
       "      <td>0.66</td>\n",
       "      <td>23.31</td>\n",
       "      <td>8.6</td>\n",
       "      <td>270.0</td>\n",
       "      <td>15.31</td>\n",
       "    </tr>\n",
       "    <tr>\n",
       "      <td>13</td>\n",
       "      <td>20120524</td>\n",
       "      <td>1</td>\n",
       "      <td>android application developer</td>\n",
       "      <td>1.0</td>\n",
       "      <td>1.02</td>\n",
       "      <td>46.92</td>\n",
       "      <td>8.6</td>\n",
       "      <td>546.0</td>\n",
       "      <td>47.77</td>\n",
       "    </tr>\n",
       "    <tr>\n",
       "      <td>14</td>\n",
       "      <td>20120524</td>\n",
       "      <td>1</td>\n",
       "      <td>android app developer</td>\n",
       "      <td>1.0</td>\n",
       "      <td>1.30</td>\n",
       "      <td>147.46</td>\n",
       "      <td>6.0</td>\n",
       "      <td>2469.0</td>\n",
       "      <td>191.99</td>\n",
       "    </tr>\n",
       "    <tr>\n",
       "      <td>17</td>\n",
       "      <td>20120524</td>\n",
       "      <td>1</td>\n",
       "      <td>mobile applications developers</td>\n",
       "      <td>1.0</td>\n",
       "      <td>0.57</td>\n",
       "      <td>21.69</td>\n",
       "      <td>8.3</td>\n",
       "      <td>260.0</td>\n",
       "      <td>12.31</td>\n",
       "    </tr>\n",
       "    <tr>\n",
       "      <td>19</td>\n",
       "      <td>20120524</td>\n",
       "      <td>1</td>\n",
       "      <td>cloud computing for dummies</td>\n",
       "      <td>1.0</td>\n",
       "      <td>0.50</td>\n",
       "      <td>37.89</td>\n",
       "      <td>11.4</td>\n",
       "      <td>330.0</td>\n",
       "      <td>19.10</td>\n",
       "    </tr>\n",
       "    <tr>\n",
       "      <td>24</td>\n",
       "      <td>20120524</td>\n",
       "      <td>1</td>\n",
       "      <td>apps development</td>\n",
       "      <td>1.0</td>\n",
       "      <td>0.69</td>\n",
       "      <td>23.69</td>\n",
       "      <td>5.5</td>\n",
       "      <td>433.0</td>\n",
       "      <td>16.25</td>\n",
       "    </tr>\n",
       "    <tr>\n",
       "      <td>27</td>\n",
       "      <td>20120524</td>\n",
       "      <td>1</td>\n",
       "      <td>mobile apps developers</td>\n",
       "      <td>1.0</td>\n",
       "      <td>2.53</td>\n",
       "      <td>22.94</td>\n",
       "      <td>4.3</td>\n",
       "      <td>529.0</td>\n",
       "      <td>58.04</td>\n",
       "    </tr>\n",
       "    <tr>\n",
       "      <td>28</td>\n",
       "      <td>20120524</td>\n",
       "      <td>1</td>\n",
       "      <td>joomla designers</td>\n",
       "      <td>1.0</td>\n",
       "      <td>1.37</td>\n",
       "      <td>17.84</td>\n",
       "      <td>6.6</td>\n",
       "      <td>268.0</td>\n",
       "      <td>24.36</td>\n",
       "    </tr>\n",
       "    <tr>\n",
       "      <td>44</td>\n",
       "      <td>20120524</td>\n",
       "      <td>1</td>\n",
       "      <td>ink 8560</td>\n",
       "      <td>1.0</td>\n",
       "      <td>1.59</td>\n",
       "      <td>0.26</td>\n",
       "      <td>0.1</td>\n",
       "      <td>216.0</td>\n",
       "      <td>0.41</td>\n",
       "    </tr>\n",
       "  </tbody>\n",
       "</table>\n",
       "</div>"
      ],
      "text/plain": [
       "        Date  Market                         Keyword  Average.Position   CPC  \\\n",
       "1   20120524       1       agile management software               1.0  1.20   \n",
       "9   20120524       1          android app developers               1.0  0.66   \n",
       "13  20120524       1   android application developer               1.0  1.02   \n",
       "14  20120524       1           android app developer               1.0  1.30   \n",
       "17  20120524       1  mobile applications developers               1.0  0.57   \n",
       "19  20120524       1     cloud computing for dummies               1.0  0.50   \n",
       "24  20120524       1                apps development               1.0  0.69   \n",
       "27  20120524       1          mobile apps developers               1.0  2.53   \n",
       "28  20120524       1                joomla designers               1.0  1.37   \n",
       "44  20120524       1                        ink 8560               1.0  1.59   \n",
       "\n",
       "    Clicks   CTR  Impressions    Cost  \n",
       "1    21.22   8.2        260.0   25.45  \n",
       "9    23.31   8.6        270.0   15.31  \n",
       "13   46.92   8.6        546.0   47.77  \n",
       "14  147.46   6.0       2469.0  191.99  \n",
       "17   21.69   8.3        260.0   12.31  \n",
       "19   37.89  11.4        330.0   19.10  \n",
       "24   23.69   5.5        433.0   16.25  \n",
       "27   22.94   4.3        529.0   58.04  \n",
       "28   17.84   6.6        268.0   24.36  \n",
       "44    0.26   0.1        216.0    0.41  "
      ]
     },
     "execution_count": 8,
     "metadata": {},
     "output_type": "execute_result"
    }
   ],
   "source": [
    "# Now as we can see we have a lot of values that are \"zeros\"\n",
    "# having those values in our data set make the model not learn properly and might overfit\n",
    "# due to the repeated nature. So we might wanna eliminate those zero values \n",
    "# from our data set \n",
    "\n",
    "mapped_market = {'US-Market': 1, 'UK-Market': -1}\n",
    "\n",
    "new_df = df[df['CPC'] != 0]\n",
    "new_df['Market'] = new_df[\"Market\"].map(mapped_market) # map the market values with 1's and 0's\n",
    "new_df.info() # new data set with \"CPC\" not equals to \"Zero\"\n",
    "new_df.head(10)\n",
    "\n",
    "# Now we have 2 data sets\n",
    "# one with all the observations i.e with \"CPC\" having zero values\n",
    "# other, having \"CPC\" not equals to zero"
   ]
  },
  {
   "cell_type": "code",
   "execution_count": 9,
   "metadata": {},
   "outputs": [
    {
     "data": {
      "text/plain": [
       "2"
      ]
     },
     "execution_count": 9,
     "metadata": {},
     "output_type": "execute_result"
    }
   ],
   "source": [
    "new_df = shuffle(new_df)\n",
    "new_df.head()\n",
    "\n",
    "new_df['Market'].nunique()"
   ]
  },
  {
   "cell_type": "code",
   "execution_count": 10,
   "metadata": {},
   "outputs": [
    {
     "data": {
      "text/html": [
       "<div>\n",
       "<style scoped>\n",
       "    .dataframe tbody tr th:only-of-type {\n",
       "        vertical-align: middle;\n",
       "    }\n",
       "\n",
       "    .dataframe tbody tr th {\n",
       "        vertical-align: top;\n",
       "    }\n",
       "\n",
       "    .dataframe thead th {\n",
       "        text-align: right;\n",
       "    }\n",
       "</style>\n",
       "<table border=\"1\" class=\"dataframe\">\n",
       "  <thead>\n",
       "    <tr style=\"text-align: right;\">\n",
       "      <th></th>\n",
       "      <th>Date</th>\n",
       "      <th>Market</th>\n",
       "      <th>Keyword</th>\n",
       "      <th>Average.Position</th>\n",
       "      <th>CPC</th>\n",
       "      <th>Clicks</th>\n",
       "      <th>CTR</th>\n",
       "      <th>Impressions</th>\n",
       "      <th>Cost</th>\n",
       "    </tr>\n",
       "  </thead>\n",
       "  <tbody>\n",
       "    <tr>\n",
       "      <td>255498</td>\n",
       "      <td>20120901</td>\n",
       "      <td>-1</td>\n",
       "      <td>lending</td>\n",
       "      <td>4.5</td>\n",
       "      <td>184.79</td>\n",
       "      <td>0.00</td>\n",
       "      <td>0.0</td>\n",
       "      <td>415.0</td>\n",
       "      <td>0.46</td>\n",
       "    </tr>\n",
       "    <tr>\n",
       "      <td>204660</td>\n",
       "      <td>20121227</td>\n",
       "      <td>1</td>\n",
       "      <td>credit card deals</td>\n",
       "      <td>1.0</td>\n",
       "      <td>19.61</td>\n",
       "      <td>78.70</td>\n",
       "      <td>2.9</td>\n",
       "      <td>2747.0</td>\n",
       "      <td>1542.93</td>\n",
       "    </tr>\n",
       "    <tr>\n",
       "      <td>147744</td>\n",
       "      <td>20120925</td>\n",
       "      <td>1</td>\n",
       "      <td>small business insurance</td>\n",
       "      <td>1.0</td>\n",
       "      <td>101.02</td>\n",
       "      <td>4.05</td>\n",
       "      <td>0.5</td>\n",
       "      <td>760.0</td>\n",
       "      <td>409.20</td>\n",
       "    </tr>\n",
       "    <tr>\n",
       "      <td>184780</td>\n",
       "      <td>20121125</td>\n",
       "      <td>1</td>\n",
       "      <td>register domain</td>\n",
       "      <td>1.0</td>\n",
       "      <td>30.63</td>\n",
       "      <td>288.43</td>\n",
       "      <td>2.2</td>\n",
       "      <td>12858.0</td>\n",
       "      <td>8834.91</td>\n",
       "    </tr>\n",
       "    <tr>\n",
       "      <td>208495</td>\n",
       "      <td>20130102</td>\n",
       "      <td>1</td>\n",
       "      <td>citi credit card</td>\n",
       "      <td>1.0</td>\n",
       "      <td>52.94</td>\n",
       "      <td>56.66</td>\n",
       "      <td>2.5</td>\n",
       "      <td>2283.0</td>\n",
       "      <td>2999.53</td>\n",
       "    </tr>\n",
       "  </tbody>\n",
       "</table>\n",
       "</div>"
      ],
      "text/plain": [
       "            Date  Market                   Keyword  Average.Position     CPC  \\\n",
       "255498  20120901      -1                   lending               4.5  184.79   \n",
       "204660  20121227       1         credit card deals               1.0   19.61   \n",
       "147744  20120925       1  small business insurance               1.0  101.02   \n",
       "184780  20121125       1           register domain               1.0   30.63   \n",
       "208495  20130102       1          citi credit card               1.0   52.94   \n",
       "\n",
       "        Clicks  CTR  Impressions     Cost  \n",
       "255498    0.00  0.0        415.0     0.46  \n",
       "204660   78.70  2.9       2747.0  1542.93  \n",
       "147744    4.05  0.5        760.0   409.20  \n",
       "184780  288.43  2.2      12858.0  8834.91  \n",
       "208495   56.66  2.5       2283.0  2999.53  "
      ]
     },
     "execution_count": 10,
     "metadata": {},
     "output_type": "execute_result"
    }
   ],
   "source": [
    "new_df.head()"
   ]
  },
  {
   "cell_type": "code",
   "execution_count": 11,
   "metadata": {},
   "outputs": [
    {
     "name": "stdout",
     "output_type": "stream",
     "text": [
      "203595\n",
      "501285\n",
      "['lending', 'credit', 'card', 'deals', 'small', 'business', 'insurance', 'register', 'domain', 'citi']\n"
     ]
    }
   ],
   "source": [
    "keyword_list = list(new_df['Keyword'])\n",
    "total_keywords = []\n",
    "\n",
    "for segment in keyword_list:\n",
    "    index_segment = segment.split()\n",
    "    for w in index_segment:\n",
    "        total_keywords.append(w)\n",
    "        \n",
    "print(len(keyword_list))\n",
    "print(len(total_keywords))\n",
    "print(total_keywords[:10])\n",
    "\n",
    "# total_distinct_words = Counter(total_keywords)\n",
    "# print(len(total_distinct_words))\n",
    "# total_distinct_words.most_common()"
   ]
  },
  {
   "cell_type": "code",
   "execution_count": 12,
   "metadata": {},
   "outputs": [
    {
     "name": "stderr",
     "output_type": "stream",
     "text": [
      "[nltk_data] Downloading package stopwords to C:\\Users\\Umair\n",
      "[nltk_data]     Gillani\\AppData\\Roaming\\nltk_data...\n",
      "[nltk_data]   Package stopwords is already up-to-date!\n"
     ]
    },
    {
     "data": {
      "text/plain": [
       "True"
      ]
     },
     "execution_count": 12,
     "metadata": {},
     "output_type": "execute_result"
    }
   ],
   "source": [
    "nltk.download(\"stopwords\") # downloading all the stopwords for English from nltk"
   ]
  },
  {
   "cell_type": "code",
   "execution_count": 13,
   "metadata": {},
   "outputs": [],
   "source": [
    "stopwords = set(stopwords.words(\"english\"))"
   ]
  },
  {
   "cell_type": "code",
   "execution_count": 14,
   "metadata": {},
   "outputs": [
    {
     "data": {
      "text/plain": [
       "480702"
      ]
     },
     "execution_count": 14,
     "metadata": {},
     "output_type": "execute_result"
    }
   ],
   "source": [
    "def remove_stops(example_sent):\n",
    "    word_tokens = example_sent.split()\n",
    "    filtered_sentence = ' '.join([word for word in word_tokens if not word in stopwords])\n",
    "    return filtered_sentence\n",
    "\n",
    "new_df['Keyword'] = new_df['Keyword'].apply(remove_stops)\n",
    "new_df.head()\n",
    "\n",
    "cleaned_list = []\n",
    "\n",
    "for word in list(new_df[\"Keyword\"]):\n",
    "    for w in word.split():\n",
    "        cleaned_list.append(w)\n",
    "        \n",
    "len(cleaned_list) # Length of the words has reduced to 480702 from 501285 after removing stop words!"
   ]
  },
  {
   "cell_type": "markdown",
   "metadata": {},
   "source": [
    "## Data Normalization:"
   ]
  },
  {
   "cell_type": "code",
   "execution_count": 15,
   "metadata": {},
   "outputs": [
    {
     "data": {
      "text/html": [
       "<div>\n",
       "<style scoped>\n",
       "    .dataframe tbody tr th:only-of-type {\n",
       "        vertical-align: middle;\n",
       "    }\n",
       "\n",
       "    .dataframe tbody tr th {\n",
       "        vertical-align: top;\n",
       "    }\n",
       "\n",
       "    .dataframe thead th {\n",
       "        text-align: right;\n",
       "    }\n",
       "</style>\n",
       "<table border=\"1\" class=\"dataframe\">\n",
       "  <thead>\n",
       "    <tr style=\"text-align: right;\">\n",
       "      <th></th>\n",
       "      <th>Date</th>\n",
       "      <th>Market</th>\n",
       "      <th>Keyword</th>\n",
       "      <th>Average.Position</th>\n",
       "      <th>CPC</th>\n",
       "      <th>Clicks</th>\n",
       "      <th>CTR</th>\n",
       "      <th>Impressions</th>\n",
       "      <th>Cost</th>\n",
       "    </tr>\n",
       "  </thead>\n",
       "  <tbody>\n",
       "    <tr>\n",
       "      <td>255498</td>\n",
       "      <td>20120901</td>\n",
       "      <td>-1</td>\n",
       "      <td>lending</td>\n",
       "      <td>4.5</td>\n",
       "      <td>184.79</td>\n",
       "      <td>0.00</td>\n",
       "      <td>0.0</td>\n",
       "      <td>415.0</td>\n",
       "      <td>0.46</td>\n",
       "    </tr>\n",
       "    <tr>\n",
       "      <td>204660</td>\n",
       "      <td>20121227</td>\n",
       "      <td>1</td>\n",
       "      <td>credit card deals</td>\n",
       "      <td>1.0</td>\n",
       "      <td>19.61</td>\n",
       "      <td>78.70</td>\n",
       "      <td>2.9</td>\n",
       "      <td>2747.0</td>\n",
       "      <td>1542.93</td>\n",
       "    </tr>\n",
       "    <tr>\n",
       "      <td>147744</td>\n",
       "      <td>20120925</td>\n",
       "      <td>1</td>\n",
       "      <td>small business insurance</td>\n",
       "      <td>1.0</td>\n",
       "      <td>101.02</td>\n",
       "      <td>4.05</td>\n",
       "      <td>0.5</td>\n",
       "      <td>760.0</td>\n",
       "      <td>409.20</td>\n",
       "    </tr>\n",
       "    <tr>\n",
       "      <td>184780</td>\n",
       "      <td>20121125</td>\n",
       "      <td>1</td>\n",
       "      <td>register domain</td>\n",
       "      <td>1.0</td>\n",
       "      <td>30.63</td>\n",
       "      <td>288.43</td>\n",
       "      <td>2.2</td>\n",
       "      <td>12858.0</td>\n",
       "      <td>8834.91</td>\n",
       "    </tr>\n",
       "    <tr>\n",
       "      <td>208495</td>\n",
       "      <td>20130102</td>\n",
       "      <td>1</td>\n",
       "      <td>citi credit card</td>\n",
       "      <td>1.0</td>\n",
       "      <td>52.94</td>\n",
       "      <td>56.66</td>\n",
       "      <td>2.5</td>\n",
       "      <td>2283.0</td>\n",
       "      <td>2999.53</td>\n",
       "    </tr>\n",
       "  </tbody>\n",
       "</table>\n",
       "</div>"
      ],
      "text/plain": [
       "            Date  Market                   Keyword  Average.Position     CPC  \\\n",
       "255498  20120901      -1                   lending               4.5  184.79   \n",
       "204660  20121227       1         credit card deals               1.0   19.61   \n",
       "147744  20120925       1  small business insurance               1.0  101.02   \n",
       "184780  20121125       1           register domain               1.0   30.63   \n",
       "208495  20130102       1          citi credit card               1.0   52.94   \n",
       "\n",
       "        Clicks  CTR  Impressions     Cost  \n",
       "255498    0.00  0.0        415.0     0.46  \n",
       "204660   78.70  2.9       2747.0  1542.93  \n",
       "147744    4.05  0.5        760.0   409.20  \n",
       "184780  288.43  2.2      12858.0  8834.91  \n",
       "208495   56.66  2.5       2283.0  2999.53  "
      ]
     },
     "execution_count": 15,
     "metadata": {},
     "output_type": "execute_result"
    }
   ],
   "source": [
    "new_df.head()"
   ]
  },
  {
   "cell_type": "code",
   "execution_count": 16,
   "metadata": {},
   "outputs": [
    {
     "name": "stdout",
     "output_type": "stream",
     "text": [
      "Prediction Accuracy: 72.108\n"
     ]
    }
   ],
   "source": [
    "scaler = MinMaxScaler()\n",
    "from sklearn.linear_model import LinearRegression\n",
    "\n",
    "data = df[['CPC', 'CTR', 'Impressions', 'Cost', 'Date']]\n",
    "scaler.fit(data)\n",
    "scaled_features = scaler.transform(data)\n",
    "featured_df = pd.DataFrame(scaled_features, columns = ['CPC', 'CTR', 'Impressions', 'Cost', 'Date'])\n",
    "featured_df.head()\n",
    "X = data\n",
    "y = df['Clicks']\n",
    "\n",
    "X_train, X_test, y_train, y_test = train_test_split(X, y, test_size = 0.3, random_state = 101)\n",
    "# Randome Linear Regression Test\n",
    "model = LinearRegression()\n",
    "model.fit(X_train, y_train)\n",
    "predictions = model.predict(X_test)\n",
    "print(\"Prediction Accuracy: {0:0.3f}\".format(metrics.r2_score(y_test, predictions) * 100))"
   ]
  },
  {
   "cell_type": "markdown",
   "metadata": {},
   "source": [
    "## Data Visualization:"
   ]
  },
  {
   "cell_type": "code",
   "execution_count": 17,
   "metadata": {},
   "outputs": [
    {
     "data": {
      "text/plain": [
       "<matplotlib.axes._subplots.AxesSubplot at 0x115674a3ac8>"
      ]
     },
     "execution_count": 17,
     "metadata": {},
     "output_type": "execute_result"
    },
    {
     "data": {
      "image/png": "[encoded data removed]",
      "text/plain": [
       "<Figure size 864x432 with 1 Axes>"
      ]
     },
     "metadata": {
      "needs_background": "light"
     },
     "output_type": "display_data"
    }
   ],
   "source": [
    "plt.figure(figsize = (12,6))\n",
    "sns.scatterplot(x = new_df['CTR'], y = new_df['Clicks'])"
   ]
  },
  {
   "cell_type": "code",
   "execution_count": 18,
   "metadata": {},
   "outputs": [
    {
     "data": {
      "text/plain": [
       "<seaborn.axisgrid.FacetGrid at 0x11570a34088>"
      ]
     },
     "execution_count": 18,
     "metadata": {},
     "output_type": "execute_result"
    },
    {
     "data": {
      "text/plain": [
       "<Figure size 864x432 with 0 Axes>"
      ]
     },
     "metadata": {},
     "output_type": "display_data"
    },
    {
     "data": {
      "image/png": "[encoded data removed]",
      "text/plain": [
       "<Figure size 430.625x360 with 1 Axes>"
      ]
     },
     "metadata": {
      "needs_background": "light"
     },
     "output_type": "display_data"
    }
   ],
   "source": [
    "plt.figure(figsize = (12,6))\n",
    "sns.relplot(x = 'CPC', y = 'Clicks', data = new_df, hue = 'Market')"
   ]
  },
  {
   "cell_type": "code",
   "execution_count": 19,
   "metadata": {},
   "outputs": [
    {
     "data": {
      "text/plain": [
       "<matplotlib.axes._subplots.AxesSubplot at 0x1157c641588>"
      ]
     },
     "execution_count": 19,
     "metadata": {},
     "output_type": "execute_result"
    },
    {
     "data": {
      "image/png": "[encoded data removed]",
      "text/plain": [
       "<Figure size 864x432 with 1 Axes>"
      ]
     },
     "metadata": {
      "needs_background": "light"
     },
     "output_type": "display_data"
    }
   ],
   "source": [
    "# Lets quickly check how our target variable is distribted \n",
    "plt.figure(figsize = (12,6))\n",
    "sns.distplot(new_df['Clicks'], bins = 40, kde = True)"
   ]
  },
  {
   "cell_type": "code",
   "execution_count": 20,
   "metadata": {},
   "outputs": [
    {
     "data": {
      "text/plain": [
       "89233.58"
      ]
     },
     "execution_count": 20,
     "metadata": {},
     "output_type": "execute_result"
    }
   ],
   "source": [
    "clicks = list(new_df['Clicks'])\n",
    "\n",
    "max(clicks)"
   ]
  },
  {
   "cell_type": "code",
   "execution_count": 21,
   "metadata": {},
   "outputs": [
    {
     "data": {
      "text/plain": [
       "<matplotlib.axes._subplots.AxesSubplot at 0x115674cf888>"
      ]
     },
     "execution_count": 21,
     "metadata": {},
     "output_type": "execute_result"
    },
    {
     "data": {
      "image/png": "[encoded data removed]",
      "text/plain": [
       "<Figure size 864x432 with 2 Axes>"
      ]
     },
     "metadata": {
      "needs_background": "light"
     },
     "output_type": "display_data"
    }
   ],
   "source": [
    "corr = new_df.corr()\n",
    "\n",
    "plt.figure(figsize = (12,6))\n",
    "sns.heatmap(data = corr, cmap = 'viridis')"
   ]
  },
  {
   "cell_type": "code",
   "execution_count": 22,
   "metadata": {},
   "outputs": [
    {
     "data": {
      "text/plain": [
       "<matplotlib.axes._subplots.AxesSubplot at 0x11577a1b2c8>"
      ]
     },
     "execution_count": 22,
     "metadata": {},
     "output_type": "execute_result"
    },
    {
     "data": {
      "image/png": "[encoded data removed]",
      "text/plain": [
       "<Figure size 432x288 with 1 Axes>"
      ]
     },
     "metadata": {
      "needs_background": "light"
     },
     "output_type": "display_data"
    }
   ],
   "source": [
    "sns.distplot((y_test-predictions), bins = 30)"
   ]
  },
  {
   "cell_type": "markdown",
   "metadata": {},
   "source": [
    "## Correlations:"
   ]
  },
  {
   "cell_type": "code",
   "execution_count": 23,
   "metadata": {},
   "outputs": [],
   "source": [
    "corr = new_df.corr()"
   ]
  },
  {
   "cell_type": "code",
   "execution_count": 24,
   "metadata": {},
   "outputs": [
    {
     "data": {
      "text/plain": [
       "<matplotlib.axes._subplots.AxesSubplot at 0x11577ad7808>"
      ]
     },
     "execution_count": 24,
     "metadata": {},
     "output_type": "execute_result"
    },
    {
     "data": {
      "image/png": "[encoded data removed]",
      "text/plain": [
       "<Figure size 864x432 with 2 Axes>"
      ]
     },
     "metadata": {
      "needs_background": "light"
     },
     "output_type": "display_data"
    }
   ],
   "source": [
    "plt.figure(figsize = (12,6))\n",
    "sns.heatmap(corr)"
   ]
  },
  {
   "cell_type": "code",
   "execution_count": 25,
   "metadata": {},
   "outputs": [
    {
     "data": {
      "text/plain": [
       "0.5307991295567502"
      ]
     },
     "execution_count": 25,
     "metadata": {},
     "output_type": "execute_result"
    }
   ],
   "source": [
    "new_df['Clicks'].corr(new_df['Cost'])"
   ]
  },
  {
   "cell_type": "markdown",
   "metadata": {},
   "source": [
    "## Keras Test:"
   ]
  },
  {
   "cell_type": "code",
   "execution_count": 26,
   "metadata": {},
   "outputs": [
    {
     "data": {
      "text/html": [
       "<div>\n",
       "<style scoped>\n",
       "    .dataframe tbody tr th:only-of-type {\n",
       "        vertical-align: middle;\n",
       "    }\n",
       "\n",
       "    .dataframe tbody tr th {\n",
       "        vertical-align: top;\n",
       "    }\n",
       "\n",
       "    .dataframe thead th {\n",
       "        text-align: right;\n",
       "    }\n",
       "</style>\n",
       "<table border=\"1\" class=\"dataframe\">\n",
       "  <thead>\n",
       "    <tr style=\"text-align: right;\">\n",
       "      <th></th>\n",
       "      <th>Date</th>\n",
       "      <th>CPC</th>\n",
       "      <th>Market</th>\n",
       "      <th>CTR</th>\n",
       "      <th>Impressions</th>\n",
       "      <th>Cost</th>\n",
       "      <th>Clicks</th>\n",
       "    </tr>\n",
       "  </thead>\n",
       "  <tbody>\n",
       "    <tr>\n",
       "      <td>0</td>\n",
       "      <td>0.038914</td>\n",
       "      <td>0.292041</td>\n",
       "      <td>0.0</td>\n",
       "      <td>0.000000</td>\n",
       "      <td>0.000110</td>\n",
       "      <td>0.000002</td>\n",
       "      <td>0.000000</td>\n",
       "    </tr>\n",
       "    <tr>\n",
       "      <td>1</td>\n",
       "      <td>0.072564</td>\n",
       "      <td>0.030977</td>\n",
       "      <td>1.0</td>\n",
       "      <td>0.122363</td>\n",
       "      <td>0.000746</td>\n",
       "      <td>0.005400</td>\n",
       "      <td>0.000882</td>\n",
       "    </tr>\n",
       "    <tr>\n",
       "      <td>2</td>\n",
       "      <td>0.041391</td>\n",
       "      <td>0.159644</td>\n",
       "      <td>1.0</td>\n",
       "      <td>0.021097</td>\n",
       "      <td>0.000204</td>\n",
       "      <td>0.001432</td>\n",
       "      <td>0.000045</td>\n",
       "    </tr>\n",
       "    <tr>\n",
       "      <td>3</td>\n",
       "      <td>0.062036</td>\n",
       "      <td>0.048394</td>\n",
       "      <td>1.0</td>\n",
       "      <td>0.092827</td>\n",
       "      <td>0.003504</td>\n",
       "      <td>0.030922</td>\n",
       "      <td>0.003232</td>\n",
       "    </tr>\n",
       "    <tr>\n",
       "      <td>4</td>\n",
       "      <td>0.988646</td>\n",
       "      <td>0.083655</td>\n",
       "      <td>1.0</td>\n",
       "      <td>0.105485</td>\n",
       "      <td>0.000619</td>\n",
       "      <td>0.010498</td>\n",
       "      <td>0.000635</td>\n",
       "    </tr>\n",
       "  </tbody>\n",
       "</table>\n",
       "</div>"
      ],
      "text/plain": [
       "       Date       CPC  Market       CTR  Impressions      Cost    Clicks\n",
       "0  0.038914  0.292041     0.0  0.000000     0.000110  0.000002  0.000000\n",
       "1  0.072564  0.030977     1.0  0.122363     0.000746  0.005400  0.000882\n",
       "2  0.041391  0.159644     1.0  0.021097     0.000204  0.001432  0.000045\n",
       "3  0.062036  0.048394     1.0  0.092827     0.003504  0.030922  0.003232\n",
       "4  0.988646  0.083655     1.0  0.105485     0.000619  0.010498  0.000635"
      ]
     },
     "execution_count": 26,
     "metadata": {},
     "output_type": "execute_result"
    }
   ],
   "source": [
    "scaler = MinMaxScaler()\n",
    "scaler.fit(new_df[['Date', 'CPC', 'Market', 'CTR', 'Impressions', 'Cost', 'Clicks']])\n",
    "scaled_features = scaler.transform(new_df[['Date', 'CPC', 'Market', 'CTR', 'Impressions', 'Cost', 'Clicks']])\n",
    "scaled_df = pd.DataFrame(data = scaled_features, columns = ['Date', 'CPC', 'Market', 'CTR', 'Impressions', 'Cost', 'Clicks'])\n",
    "scaled_df.head()"
   ]
  },
  {
   "cell_type": "code",
   "execution_count": 104,
   "metadata": {},
   "outputs": [
    {
     "name": "stdout",
     "output_type": "stream",
     "text": [
      "Model: \"sequential_7\"\n",
      "_________________________________________________________________\n",
      "Layer (type)                 Output Shape              Param #   \n",
      "=================================================================\n",
      "dense_33 (Dense)             (None, 8)                 56        \n",
      "_________________________________________________________________\n",
      "dense_34 (Dense)             (None, 8)                 72        \n",
      "_________________________________________________________________\n",
      "dense_35 (Dense)             (None, 1)                 9         \n",
      "=================================================================\n",
      "Total params: 137\n",
      "Trainable params: 137\n",
      "Non-trainable params: 0\n",
      "_________________________________________________________________\n"
     ]
    }
   ],
   "source": [
    "model = Sequential()\n",
    "model.add(Dense(8, input_dim = 6, activation = 'relu'))\n",
    "model.add(Dense(8, activation = 'relu'))\n",
    "model.add(Dense(1, activation = 'linear'))\n",
    "model.summary()"
   ]
  },
  {
   "cell_type": "code",
   "execution_count": 105,
   "metadata": {},
   "outputs": [],
   "source": [
    "model.compile(loss = 'mse', optimizer = 'adam', metrics = ['accuracy'])"
   ]
  },
  {
   "cell_type": "code",
   "execution_count": 106,
   "metadata": {},
   "outputs": [
    {
     "name": "stdout",
     "output_type": "stream",
     "text": [
      "Train on 114012 samples, validate on 28504 samples\n",
      "Epoch 1/20\n",
      "114012/114012 [==============================] - 2s 17us/step - loss: 5.4404e-04 - accuracy: 0.0060 - val_loss: 1.8113e-04 - val_accuracy: 0.0057\n",
      "Epoch 2/20\n",
      "114012/114012 [==============================] - 2s 18us/step - loss: 2.2036e-04 - accuracy: 0.0060 - val_loss: 1.5608e-04 - val_accuracy: 0.0057\n",
      "Epoch 3/20\n",
      "114012/114012 [==============================] - 2s 15us/step - loss: 1.9426e-04 - accuracy: 0.0060 - val_loss: 1.3360e-04 - val_accuracy: 0.0057\n",
      "Epoch 4/20\n",
      "114012/114012 [==============================] - 2s 15us/step - loss: 1.6851e-04 - accuracy: 0.0060 - val_loss: 1.2922e-04 - val_accuracy: 0.0057\n",
      "Epoch 5/20\n",
      "114012/114012 [==============================] - 2s 15us/step - loss: 1.4861e-04 - accuracy: 0.0060 - val_loss: 1.0690e-04 - val_accuracy: 0.0057\n",
      "Epoch 6/20\n",
      "114012/114012 [==============================] - 2s 14us/step - loss: 1.2942e-04 - accuracy: 0.0060 - val_loss: 9.8922e-05 - val_accuracy: 0.0057\n",
      "Epoch 7/20\n",
      "114012/114012 [==============================] - 2s 14us/step - loss: 1.1517e-04 - accuracy: 0.0060 - val_loss: 8.7043e-05 - val_accuracy: 0.0057\n",
      "Epoch 8/20\n",
      "114012/114012 [==============================] - 2s 14us/step - loss: 1.0324e-04 - accuracy: 0.0060 - val_loss: 9.7253e-05 - val_accuracy: 0.0057\n",
      "Epoch 9/20\n",
      "114012/114012 [==============================] - 2s 15us/step - loss: 9.1797e-05 - accuracy: 0.0060 - val_loss: 7.3517e-05 - val_accuracy: 0.0057\n",
      "Epoch 10/20\n",
      "114012/114012 [==============================] - 2s 15us/step - loss: 8.1645e-05 - accuracy: 0.0060 - val_loss: 8.0281e-05 - val_accuracy: 0.0057\n",
      "Epoch 11/20\n",
      "114012/114012 [==============================] - 2s 14us/step - loss: 7.2699e-05 - accuracy: 0.0060 - val_loss: 6.5945e-05 - val_accuracy: 0.0057\n",
      "Epoch 12/20\n",
      "114012/114012 [==============================] - 2s 15us/step - loss: 6.2937e-05 - accuracy: 0.0060 - val_loss: 5.7471e-05 - val_accuracy: 0.0057\n",
      "Epoch 13/20\n",
      "114012/114012 [==============================] - 2s 16us/step - loss: 5.2387e-05 - accuracy: 0.0060 - val_loss: 4.7291e-05 - val_accuracy: 0.0057\n",
      "Epoch 14/20\n",
      "114012/114012 [==============================] - 2s 17us/step - loss: 4.3510e-05 - accuracy: 0.0060 - val_loss: 4.6225e-05 - val_accuracy: 0.0057\n",
      "Epoch 15/20\n",
      "114012/114012 [==============================] - 2s 14us/step - loss: 3.5841e-05 - accuracy: 0.0060 - val_loss: 3.6187e-05 - val_accuracy: 0.0057\n",
      "Epoch 16/20\n",
      "114012/114012 [==============================] - 2s 14us/step - loss: 3.0634e-05 - accuracy: 0.0060 - val_loss: 3.3478e-05 - val_accuracy: 0.0057\n",
      "Epoch 17/20\n",
      "114012/114012 [==============================] - 2s 15us/step - loss: 2.7122e-05 - accuracy: 0.0060 - val_loss: 2.7976e-05 - val_accuracy: 0.0057\n",
      "Epoch 18/20\n",
      "114012/114012 [==============================] - 2s 13us/step - loss: 2.4118e-05 - accuracy: 0.0060 - val_loss: 2.4095e-05 - val_accuracy: 0.0057\n",
      "Epoch 19/20\n",
      "114012/114012 [==============================] - 2s 14us/step - loss: 2.1552e-05 - accuracy: 0.0060 - val_loss: 2.4283e-05 - val_accuracy: 0.0057\n",
      "Epoch 20/20\n",
      "114012/114012 [==============================] - 2s 14us/step - loss: 2.0809e-05 - accuracy: 0.0060 - val_loss: 2.2394e-05 - val_accuracy: 0.0057\n"
     ]
    }
   ],
   "source": [
    "X = scaled_df.drop('Clicks', axis = 1)\n",
    "y = scaled_df['Clicks']\n",
    "\n",
    "X_train, X_test, y_train, y_test = train_test_split(X, y, test_size = 0.3, random_state = 101)\n",
    "\n",
    "history = model.fit(X_train, y_train, epochs = 20, batch_size = 128,\n",
    "                   validation_split = 0.2, shuffle = True)"
   ]
  },
  {
   "cell_type": "code",
   "execution_count": 47,
   "metadata": {},
   "outputs": [
    {
     "name": "stdout",
     "output_type": "stream",
     "text": [
      "dict_keys(['val_loss', 'val_accuracy', 'loss', 'accuracy'])\n"
     ]
    }
   ],
   "source": [
    "print(history.history.keys())"
   ]
  },
  {
   "cell_type": "code",
   "execution_count": 48,
   "metadata": {},
   "outputs": [
    {
     "data": {
      "image/png": "[encoded data removed]",
      "text/plain": [
       "<Figure size 864x432 with 1 Axes>"
      ]
     },
     "metadata": {
      "needs_background": "light"
     },
     "output_type": "display_data"
    }
   ],
   "source": [
    "plt.figure(figsize = (12,6))\n",
    "plt.plot(history.history['loss'])\n",
    "plt.plot(history.history['val_loss'])\n",
    "plt.title('Model Loss')\n",
    "plt.ylabel('Loss')\n",
    "plt.xlabel('Epochs')\n",
    "plt.legend(['train', 'validation'], loc = 'upper_right')\n",
    "plt.show()"
   ]
  },
  {
   "cell_type": "code",
   "execution_count": 57,
   "metadata": {},
   "outputs": [
    {
     "name": "stdout",
     "output_type": "stream",
     "text": [
      "[['lending'], ['credit', 'card', 'deals'], ['small', 'business', 'insurance'], ['register', 'domain'], ['citi', 'credit', 'card'], ['apps', 'development'], ['affordable', 'insurance'], ['mortgage', 'refinance'], ['direct', 'insurance'], ['watches', 'mens']]\n",
      "203595\n",
      "Here is the Vocabulary Size .. 729\n"
     ]
    }
   ],
   "source": [
    "######## DEALING WITH KEYWORDS COLUMNS:\n",
    "\n",
    "keywords_list = list(new_df['Keyword'])\n",
    "cleaned_keyword_list = list()\n",
    "for line in keywords_list:\n",
    "    rem_token_punc = RegexpTokenizer(r'\\w+')\n",
    "    tokens = rem_token_punc.tokenize(line)\n",
    "    # print(tokens)\n",
    "    words = [w.lower() for w in tokens]\n",
    "    # print(words)\n",
    "    words = [word for word in words if not word in stopwords]\n",
    "    # print(words)\n",
    "    cleaned_keyword_list.append(words)\n",
    "    \n",
    "print(cleaned_keyword_list[:10])\n",
    "print(len(cleaned_keyword_list))\n",
    "\n",
    "EMB_dim = 32\n",
    "\n",
    "# train Word2Vec model\n",
    "model = gensim.models.Word2Vec(sentences = cleaned_keyword_list, size = EMB_dim, workers = 4, min_count = 1)\n",
    "# vocabulary size\n",
    "words = list(model.wv.vocab)\n",
    "print(\"Here is the Vocabulary Size .. %d\" % len(words))"
   ]
  },
  {
   "cell_type": "code",
   "execution_count": 58,
   "metadata": {},
   "outputs": [
    {
     "data": {
      "text/plain": [
       "[('tracking', 0.7841171026229858),\n",
       " ('21', 0.744052529335022),\n",
       " ('quote', 0.6131381988525391),\n",
       " ('assurance', 0.6068543791770935),\n",
       " ('critical', 0.5985984802246094),\n",
       " ('private', 0.5922905206680298),\n",
       " ('century', 0.5743869543075562),\n",
       " ('illness', 0.5685101747512817),\n",
       " ('commercial', 0.5610431432723999),\n",
       " ('universal', 0.5557542443275452)]"
      ]
     },
     "execution_count": 58,
     "metadata": {},
     "output_type": "execute_result"
    }
   ],
   "source": [
    "model.wv.most_similar(\"insurance\")"
   ]
  },
  {
   "cell_type": "code",
   "execution_count": 60,
   "metadata": {},
   "outputs": [
    {
     "name": "stdout",
     "output_type": "stream",
     "text": [
      "[-0.14839362  0.16887376 -0.58849245 -0.43256164  0.91993916  1.4097085\n",
      " -0.26030278  1.623614    3.1626294   0.7453114   2.0667531  -0.25926158\n",
      "  1.2712672  -0.3062495   1.2408758   1.569171   -0.7284779   0.5882181\n",
      "  0.95494175 -1.1042391  -0.5311085  -2.2515917   0.919106    0.16232157\n",
      " -1.8619428  -0.58395    -0.53888494 -1.6574583  -0.8685799  -0.16735254\n",
      "  0.48577067 -2.376726  ]\n"
     ]
    }
   ],
   "source": [
    "card = model['card']\n",
    "\n",
    "print(card)"
   ]
  },
  {
   "cell_type": "code",
   "execution_count": 36,
   "metadata": {},
   "outputs": [
    {
     "data": {
      "text/plain": [
       "Index(['Date', 'CPC', 'Market', 'CTR', 'Impressions', 'Cost', 'Clicks'], dtype='object')"
      ]
     },
     "execution_count": 36,
     "metadata": {},
     "output_type": "execute_result"
    }
   ],
   "source": [
    "scaled_df.columns"
   ]
  },
  {
   "cell_type": "code",
   "execution_count": 37,
   "metadata": {},
   "outputs": [],
   "source": [
    "inputA = Input(shape=(6,))\n",
    "inputB = Input(shape=(724,))\n",
    " \n",
    "# the first branch operates on the first input\n",
    "x = Dense(8, activation=\"relu\")(inputA)\n",
    "x = Dense(8, activation=\"relu\")(x)\n",
    "x = Dense(8, activation = \"relu\")(x)\n",
    "x = Dense(1, activation = \"linear\")(x)\n",
    "x = Model(inputs=inputA, outputs=x)\n",
    " \n",
    "# the second branch opreates on the second input\n",
    "y = Dense(64, activation=\"relu\")(inputB)\n",
    "y = Dense(32, activation=\"relu\")(y)\n",
    "y = Dense(16, activation=\"relu\")(y)\n",
    "y = Dense(4, activation = \"linear\")(y)\n",
    "y = Model(inputs=inputB, outputs=y)\n",
    " \n",
    "# combine the output of the two branches\n",
    "combined = concatenate([x.output, y.output])\n",
    " \n",
    "# apply a FC layer and then a regression prediction on the\n",
    "# combined outputs\n",
    "z = Dense(8, activation=\"relu\")(combined)\n",
    "z = Dense(8, activation=\"relu\")(z)\n",
    "z = Dense(8, activation = \"relu\")(z)\n",
    "z = Dense(1, activation = \"linear\")(z)\n",
    " \n",
    "# our model will accept the inputs of the two branches and\n",
    "# then output a single value\n",
    "model = Model(inputs=[x.input, y.input], outputs=z)"
   ]
  },
  {
   "cell_type": "code",
   "execution_count": 38,
   "metadata": {},
   "outputs": [],
   "source": [
    "model.compile(optimizer = 'adam', loss = 'mse', metrics = ['accuracy'])"
   ]
  },
  {
   "cell_type": "code",
   "execution_count": null,
   "metadata": {},
   "outputs": [],
   "source": [
    "history = model.fit([X_train, X_text_train])"
   ]
  },
  {
   "cell_type": "markdown",
   "metadata": {},
   "source": [
    "## The TF-IDF Approach"
   ]
  },
  {
   "cell_type": "code",
   "execution_count": 66,
   "metadata": {},
   "outputs": [],
   "source": [
    "from sklearn.feature_extraction.text import TfidfVectorizer"
   ]
  },
  {
   "cell_type": "code",
   "execution_count": 113,
   "metadata": {},
   "outputs": [
    {
     "name": "stdout",
     "output_type": "stream",
     "text": [
      "(142516, 724)\n",
      "(142516,)\n"
     ]
    }
   ],
   "source": [
    "corpus = list(new_df['Keyword'])\n",
    "vectorizer = TfidfVectorizer()\n",
    "\n",
    "tf_corpus = vectorizer.fit_transform(corpus)\n",
    "\n",
    "# print(vectorizer.get_feature_names())\n",
    "# print(len(vectorizer.get_feature_names()))\n",
    "\n",
    "X_text = tf_corpus\n",
    "y = new_df['Clicks']\n",
    "\n",
    "X_text_train, X_text_test, y_train, y_test = train_test_split(X_text, y, test_size = 0.3, random_state = 101)\n",
    "\n",
    "print(X_text_train.shape)\n",
    "print(y_train.shape)\n",
    "\n",
    "model1 = Sequential()\n",
    "\n",
    "model1.add(Dense(8, activation = \"relu\", input_dim = X_train.shape[1]))\n",
    "model1.add(Dense(8, activation = \"relu\"))\n",
    "model1.add(Dense(8, activation = \"relu\"))\n",
    "model1.add(Dense(1, activation = \"linear\"))\n",
    "\n",
    "model1.compile(optimizer = \"adam\", loss = \"mse\", metrics = [\"accuracy\"])"
   ]
  },
  {
   "cell_type": "code",
   "execution_count": 114,
   "metadata": {},
   "outputs": [
    {
     "ename": "ValueError",
     "evalue": "Error when checking input: expected dense_44_input to have shape (6,) but got array with shape (724,)",
     "output_type": "error",
     "traceback": [
      "\u001b[1;31m---------------------------------------------------------------------------\u001b[0m",
      "\u001b[1;31mValueError\u001b[0m                                Traceback (most recent call last)",
      "\u001b[1;32m<ipython-input-114-3943c0f0cb49>\u001b[0m in \u001b[0;36m<module>\u001b[1;34m\u001b[0m\n\u001b[0;32m      1\u001b[0m history = model1.fit(x = X_text_train, y = y_train, batch_size = 64, epochs = 50,\n\u001b[1;32m----> 2\u001b[1;33m          verbose = 1, validation_split = 0.2)\n\u001b[0m",
      "\u001b[1;32m~\\Anaconda3\\lib\\site-packages\\keras\\engine\\training.py\u001b[0m in \u001b[0;36mfit\u001b[1;34m(self, x, y, batch_size, epochs, verbose, callbacks, validation_split, validation_data, shuffle, class_weight, sample_weight, initial_epoch, steps_per_epoch, validation_steps, validation_freq, max_queue_size, workers, use_multiprocessing, **kwargs)\u001b[0m\n\u001b[0;32m   1152\u001b[0m             \u001b[0msample_weight\u001b[0m\u001b[1;33m=\u001b[0m\u001b[0msample_weight\u001b[0m\u001b[1;33m,\u001b[0m\u001b[1;33m\u001b[0m\u001b[1;33m\u001b[0m\u001b[0m\n\u001b[0;32m   1153\u001b[0m             \u001b[0mclass_weight\u001b[0m\u001b[1;33m=\u001b[0m\u001b[0mclass_weight\u001b[0m\u001b[1;33m,\u001b[0m\u001b[1;33m\u001b[0m\u001b[1;33m\u001b[0m\u001b[0m\n\u001b[1;32m-> 1154\u001b[1;33m             batch_size=batch_size)\n\u001b[0m\u001b[0;32m   1155\u001b[0m \u001b[1;33m\u001b[0m\u001b[0m\n\u001b[0;32m   1156\u001b[0m         \u001b[1;31m# Prepare validation data.\u001b[0m\u001b[1;33m\u001b[0m\u001b[1;33m\u001b[0m\u001b[1;33m\u001b[0m\u001b[0m\n",
      "\u001b[1;32m~\\Anaconda3\\lib\\site-packages\\keras\\engine\\training.py\u001b[0m in \u001b[0;36m_standardize_user_data\u001b[1;34m(self, x, y, sample_weight, class_weight, check_array_lengths, batch_size)\u001b[0m\n\u001b[0;32m    577\u001b[0m             \u001b[0mfeed_input_shapes\u001b[0m\u001b[1;33m,\u001b[0m\u001b[1;33m\u001b[0m\u001b[1;33m\u001b[0m\u001b[0m\n\u001b[0;32m    578\u001b[0m             \u001b[0mcheck_batch_axis\u001b[0m\u001b[1;33m=\u001b[0m\u001b[1;32mFalse\u001b[0m\u001b[1;33m,\u001b[0m  \u001b[1;31m# Don't enforce the batch size.\u001b[0m\u001b[1;33m\u001b[0m\u001b[1;33m\u001b[0m\u001b[0m\n\u001b[1;32m--> 579\u001b[1;33m             exception_prefix='input')\n\u001b[0m\u001b[0;32m    580\u001b[0m \u001b[1;33m\u001b[0m\u001b[0m\n\u001b[0;32m    581\u001b[0m         \u001b[1;32mif\u001b[0m \u001b[0my\u001b[0m \u001b[1;32mis\u001b[0m \u001b[1;32mnot\u001b[0m \u001b[1;32mNone\u001b[0m\u001b[1;33m:\u001b[0m\u001b[1;33m\u001b[0m\u001b[1;33m\u001b[0m\u001b[0m\n",
      "\u001b[1;32m~\\Anaconda3\\lib\\site-packages\\keras\\engine\\training_utils.py\u001b[0m in \u001b[0;36mstandardize_input_data\u001b[1;34m(data, names, shapes, check_batch_axis, exception_prefix)\u001b[0m\n\u001b[0;32m    143\u001b[0m                             \u001b[1;34m': expected '\u001b[0m \u001b[1;33m+\u001b[0m \u001b[0mnames\u001b[0m\u001b[1;33m[\u001b[0m\u001b[0mi\u001b[0m\u001b[1;33m]\u001b[0m \u001b[1;33m+\u001b[0m \u001b[1;34m' to have shape '\u001b[0m \u001b[1;33m+\u001b[0m\u001b[1;33m\u001b[0m\u001b[1;33m\u001b[0m\u001b[0m\n\u001b[0;32m    144\u001b[0m                             \u001b[0mstr\u001b[0m\u001b[1;33m(\u001b[0m\u001b[0mshape\u001b[0m\u001b[1;33m)\u001b[0m \u001b[1;33m+\u001b[0m \u001b[1;34m' but got array with shape '\u001b[0m \u001b[1;33m+\u001b[0m\u001b[1;33m\u001b[0m\u001b[1;33m\u001b[0m\u001b[0m\n\u001b[1;32m--> 145\u001b[1;33m                             str(data_shape))\n\u001b[0m\u001b[0;32m    146\u001b[0m     \u001b[1;32mreturn\u001b[0m \u001b[0mdata\u001b[0m\u001b[1;33m\u001b[0m\u001b[1;33m\u001b[0m\u001b[0m\n\u001b[0;32m    147\u001b[0m \u001b[1;33m\u001b[0m\u001b[0m\n",
      "\u001b[1;31mValueError\u001b[0m: Error when checking input: expected dense_44_input to have shape (6,) but got array with shape (724,)"
     ]
    }
   ],
   "source": [
    "history = model1.fit(x = X_text_train, y = y_train, batch_size = 64, epochs = 50,\n",
    "         verbose = 1, validation_split = 0.2)"
   ]
  },
  {
   "cell_type": "code",
   "execution_count": 101,
   "metadata": {},
   "outputs": [
    {
     "data": {
      "text/plain": [
       "dict_keys(['val_loss', 'val_accuracy', 'loss', 'accuracy'])"
      ]
     },
     "execution_count": 101,
     "metadata": {},
     "output_type": "execute_result"
    }
   ],
   "source": [
    "history.history.keys()"
   ]
  },
  {
   "cell_type": "code",
   "execution_count": 102,
   "metadata": {},
   "outputs": [
    {
     "data": {
      "image/png": "[encoded data removed]",
      "text/plain": [
       "<Figure size 864x432 with 1 Axes>"
      ]
     },
     "metadata": {
      "needs_background": "light"
     },
     "output_type": "display_data"
    }
   ],
   "source": [
    "plt.figure(figsize = (12,6))\n",
    "plt.plot(history.history['loss'])\n",
    "plt.plot(history.history['val_loss'])\n",
    "plt.title('Model Loss')\n",
    "plt.ylabel('Loss')\n",
    "plt.xlabel('Epochs')\n",
    "plt.legend(['train', 'validation'], loc = 'upper_right')\n",
    "plt.show()"
   ]
  },
  {
   "cell_type": "code",
   "execution_count": null,
   "metadata": {},
   "outputs": [],
   "source": []
  }
 ],
 "metadata": {
  "kernelspec": {
   "display_name": "Python 3",
   "language": "python",
   "name": "python3"
  },
  "language_info": {
   "codemirror_mode": {
    "name": "ipython",
    "version": 3
   },
   "file_extension": ".py",
   "mimetype": "text/x-python",
   "name": "python",
   "nbconvert_exporter": "python",
   "pygments_lexer": "ipython3",
   "version": "3.7.4"
  }
 },
 "nbformat": 4,
 "nbformat_minor": 2
}
