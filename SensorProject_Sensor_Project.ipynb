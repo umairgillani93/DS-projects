{
 "cells": [
  {
   "cell_type": "markdown",
   "metadata": {},
   "source": [
    "### Importing Essential Libraries and Modules"
   ]
  },
  {
   "cell_type": "code",
   "execution_count": 75,
   "metadata": {},
   "outputs": [
    {
     "name": "stderr",
     "output_type": "stream",
     "text": [
      "UsageError: unrecognized arguments: # to see visualizations in Jupyter notebook\n"
     ]
    }
   ],
   "source": [
    "# Below are the few essential libraries and modules we'll be needing during our analysis\n",
    "\n",
    "import pandas as pd # EDA operations\n",
    "import seaborn as sns # Data visualizations\n",
    "import matplotlib.pyplot as plt # Data visualizations\n",
    "import numpy as np # matrix operations\n",
    "import tensorflow as tf # NN classifier\n",
    "from sklearn.preprocessing import StandardScaler # data normalizations\n",
    "from sklearn.decomposition import PCA # features extractions\n",
    "from sklearn.model_selection import train_test_split # train test split\n",
    "from sklearn.linear_model import LogisticRegression # ML classifier\n",
    "from sklearn.metrics import confusion_matrix # accuracy measurer\n",
    "from sklearn.metrics import classification_report # accuracy measurer\n",
    "from sklearn.svm import SVC # ML classifier\n",
    "from sklearn.neighbors import KNeighborsClassifier # ML classifier\n",
    "from sklearn.metrics import accuracy_score # accuracy measurer\n",
    "import csv # to coverted ranked correlated list in csv file\n",
    "\n",
    "%matplotlib inline # to see visualizations in Jupyter notebook"
   ]
  },
  {
   "cell_type": "markdown",
   "metadata": {},
   "source": [
    "### Importing Data Set:"
   ]
  },
  {
   "cell_type": "code",
   "execution_count": 2,
   "metadata": {},
   "outputs": [],
   "source": [
    "df = pd.read_csv('data.csv') # importing data set"
   ]
  },
  {
   "cell_type": "code",
   "execution_count": 3,
   "metadata": {},
   "outputs": [
    {
     "data": {
      "text/html": [
       "<div>\n",
       "<style scoped>\n",
       "    .dataframe tbody tr th:only-of-type {\n",
       "        vertical-align: middle;\n",
       "    }\n",
       "\n",
       "    .dataframe tbody tr th {\n",
       "        vertical-align: top;\n",
       "    }\n",
       "\n",
       "    .dataframe thead th {\n",
       "        text-align: right;\n",
       "    }\n",
       "</style>\n",
       "<table border=\"1\" class=\"dataframe\">\n",
       "  <thead>\n",
       "    <tr style=\"text-align: right;\">\n",
       "      <th></th>\n",
       "      <th>sample index</th>\n",
       "      <th>class_label</th>\n",
       "      <th>sensor0</th>\n",
       "      <th>sensor1</th>\n",
       "      <th>sensor2</th>\n",
       "      <th>sensor3</th>\n",
       "      <th>sensor4</th>\n",
       "      <th>sensor5</th>\n",
       "      <th>sensor6</th>\n",
       "      <th>sensor7</th>\n",
       "      <th>sensor8</th>\n",
       "      <th>sensor9</th>\n",
       "    </tr>\n",
       "  </thead>\n",
       "  <tbody>\n",
       "    <tr>\n",
       "      <th>0</th>\n",
       "      <td>sample0</td>\n",
       "      <td>1.0</td>\n",
       "      <td>0.834251</td>\n",
       "      <td>0.726081</td>\n",
       "      <td>0.535904</td>\n",
       "      <td>0.214896</td>\n",
       "      <td>0.873788</td>\n",
       "      <td>0.767605</td>\n",
       "      <td>0.111308</td>\n",
       "      <td>0.557526</td>\n",
       "      <td>0.599650</td>\n",
       "      <td>0.665569</td>\n",
       "    </tr>\n",
       "    <tr>\n",
       "      <th>1</th>\n",
       "      <td>sample1</td>\n",
       "      <td>1.0</td>\n",
       "      <td>0.804059</td>\n",
       "      <td>0.253135</td>\n",
       "      <td>0.869867</td>\n",
       "      <td>0.334285</td>\n",
       "      <td>0.604075</td>\n",
       "      <td>0.494045</td>\n",
       "      <td>0.833575</td>\n",
       "      <td>0.194190</td>\n",
       "      <td>0.014966</td>\n",
       "      <td>0.802918</td>\n",
       "    </tr>\n",
       "    <tr>\n",
       "      <th>2</th>\n",
       "      <td>sample2</td>\n",
       "      <td>1.0</td>\n",
       "      <td>0.694404</td>\n",
       "      <td>0.595777</td>\n",
       "      <td>0.581294</td>\n",
       "      <td>0.799003</td>\n",
       "      <td>0.762857</td>\n",
       "      <td>0.651393</td>\n",
       "      <td>0.075905</td>\n",
       "      <td>0.007186</td>\n",
       "      <td>0.659633</td>\n",
       "      <td>0.831009</td>\n",
       "    </tr>\n",
       "    <tr>\n",
       "      <th>3</th>\n",
       "      <td>sample3</td>\n",
       "      <td>1.0</td>\n",
       "      <td>0.783690</td>\n",
       "      <td>0.038780</td>\n",
       "      <td>0.285043</td>\n",
       "      <td>0.627305</td>\n",
       "      <td>0.800620</td>\n",
       "      <td>0.486340</td>\n",
       "      <td>0.827723</td>\n",
       "      <td>0.339807</td>\n",
       "      <td>0.731343</td>\n",
       "      <td>0.892359</td>\n",
       "    </tr>\n",
       "    <tr>\n",
       "      <th>4</th>\n",
       "      <td>sample4</td>\n",
       "      <td>1.0</td>\n",
       "      <td>0.788835</td>\n",
       "      <td>0.174433</td>\n",
       "      <td>0.348770</td>\n",
       "      <td>0.938244</td>\n",
       "      <td>0.692065</td>\n",
       "      <td>0.377620</td>\n",
       "      <td>0.183760</td>\n",
       "      <td>0.616805</td>\n",
       "      <td>0.492899</td>\n",
       "      <td>0.930969</td>\n",
       "    </tr>\n",
       "  </tbody>\n",
       "</table>\n",
       "</div>"
      ],
      "text/plain": [
       "  sample index  class_label   sensor0   sensor1   sensor2   sensor3   sensor4  \\\n",
       "0      sample0          1.0  0.834251  0.726081  0.535904  0.214896  0.873788   \n",
       "1      sample1          1.0  0.804059  0.253135  0.869867  0.334285  0.604075   \n",
       "2      sample2          1.0  0.694404  0.595777  0.581294  0.799003  0.762857   \n",
       "3      sample3          1.0  0.783690  0.038780  0.285043  0.627305  0.800620   \n",
       "4      sample4          1.0  0.788835  0.174433  0.348770  0.938244  0.692065   \n",
       "\n",
       "    sensor5   sensor6   sensor7   sensor8   sensor9  \n",
       "0  0.767605  0.111308  0.557526  0.599650  0.665569  \n",
       "1  0.494045  0.833575  0.194190  0.014966  0.802918  \n",
       "2  0.651393  0.075905  0.007186  0.659633  0.831009  \n",
       "3  0.486340  0.827723  0.339807  0.731343  0.892359  \n",
       "4  0.377620  0.183760  0.616805  0.492899  0.930969  "
      ]
     },
     "execution_count": 3,
     "metadata": {},
     "output_type": "execute_result"
    }
   ],
   "source": [
    "df.head()"
   ]
  },
  {
   "cell_type": "markdown",
   "metadata": {},
   "source": [
    "### Exploratory Data Analysis:"
   ]
  },
  {
   "cell_type": "code",
   "execution_count": 4,
   "metadata": {},
   "outputs": [
    {
     "name": "stdout",
     "output_type": "stream",
     "text": [
      "<class 'pandas.core.frame.DataFrame'>\n",
      "RangeIndex: 400 entries, 0 to 399\n",
      "Data columns (total 12 columns):\n",
      "sample index    400 non-null object\n",
      "class_label     400 non-null float64\n",
      "sensor0         400 non-null float64\n",
      "sensor1         400 non-null float64\n",
      "sensor2         400 non-null float64\n",
      "sensor3         400 non-null float64\n",
      "sensor4         400 non-null float64\n",
      "sensor5         400 non-null float64\n",
      "sensor6         400 non-null float64\n",
      "sensor7         400 non-null float64\n",
      "sensor8         400 non-null float64\n",
      "sensor9         400 non-null float64\n",
      "dtypes: float64(11), object(1)\n",
      "memory usage: 37.6+ KB\n"
     ]
    }
   ],
   "source": [
    "df.info() # info method"
   ]
  },
  {
   "cell_type": "code",
   "execution_count": 5,
   "metadata": {
    "scrolled": true
   },
   "outputs": [
    {
     "data": {
      "text/html": [
       "<div>\n",
       "<style scoped>\n",
       "    .dataframe tbody tr th:only-of-type {\n",
       "        vertical-align: middle;\n",
       "    }\n",
       "\n",
       "    .dataframe tbody tr th {\n",
       "        vertical-align: top;\n",
       "    }\n",
       "\n",
       "    .dataframe thead th {\n",
       "        text-align: right;\n",
       "    }\n",
       "</style>\n",
       "<table border=\"1\" class=\"dataframe\">\n",
       "  <thead>\n",
       "    <tr style=\"text-align: right;\">\n",
       "      <th></th>\n",
       "      <th>class_label</th>\n",
       "      <th>sensor0</th>\n",
       "      <th>sensor1</th>\n",
       "      <th>sensor2</th>\n",
       "      <th>sensor3</th>\n",
       "      <th>sensor4</th>\n",
       "      <th>sensor5</th>\n",
       "      <th>sensor6</th>\n",
       "      <th>sensor7</th>\n",
       "      <th>sensor8</th>\n",
       "      <th>sensor9</th>\n",
       "    </tr>\n",
       "  </thead>\n",
       "  <tbody>\n",
       "    <tr>\n",
       "      <th>count</th>\n",
       "      <td>400.000000</td>\n",
       "      <td>400.000000</td>\n",
       "      <td>400.000000</td>\n",
       "      <td>400.000000</td>\n",
       "      <td>400.000000</td>\n",
       "      <td>400.000000</td>\n",
       "      <td>400.000000</td>\n",
       "      <td>400.000000</td>\n",
       "      <td>400.000000</td>\n",
       "      <td>400.000000</td>\n",
       "      <td>400.000000</td>\n",
       "    </tr>\n",
       "    <tr>\n",
       "      <th>mean</th>\n",
       "      <td>0.000000</td>\n",
       "      <td>0.523661</td>\n",
       "      <td>0.509223</td>\n",
       "      <td>0.481238</td>\n",
       "      <td>0.509752</td>\n",
       "      <td>0.497875</td>\n",
       "      <td>0.501065</td>\n",
       "      <td>0.490480</td>\n",
       "      <td>0.482372</td>\n",
       "      <td>0.482822</td>\n",
       "      <td>0.541933</td>\n",
       "    </tr>\n",
       "    <tr>\n",
       "      <th>std</th>\n",
       "      <td>1.001252</td>\n",
       "      <td>0.268194</td>\n",
       "      <td>0.276878</td>\n",
       "      <td>0.287584</td>\n",
       "      <td>0.297712</td>\n",
       "      <td>0.288208</td>\n",
       "      <td>0.287634</td>\n",
       "      <td>0.289954</td>\n",
       "      <td>0.282714</td>\n",
       "      <td>0.296180</td>\n",
       "      <td>0.272490</td>\n",
       "    </tr>\n",
       "    <tr>\n",
       "      <th>min</th>\n",
       "      <td>-1.000000</td>\n",
       "      <td>0.007775</td>\n",
       "      <td>0.003865</td>\n",
       "      <td>0.004473</td>\n",
       "      <td>0.001466</td>\n",
       "      <td>0.000250</td>\n",
       "      <td>0.000425</td>\n",
       "      <td>0.000173</td>\n",
       "      <td>0.003322</td>\n",
       "      <td>0.003165</td>\n",
       "      <td>0.000452</td>\n",
       "    </tr>\n",
       "    <tr>\n",
       "      <th>25%</th>\n",
       "      <td>-1.000000</td>\n",
       "      <td>0.299792</td>\n",
       "      <td>0.283004</td>\n",
       "      <td>0.235544</td>\n",
       "      <td>0.262697</td>\n",
       "      <td>0.249369</td>\n",
       "      <td>0.269430</td>\n",
       "      <td>0.226687</td>\n",
       "      <td>0.242848</td>\n",
       "      <td>0.213626</td>\n",
       "      <td>0.321264</td>\n",
       "    </tr>\n",
       "    <tr>\n",
       "      <th>50%</th>\n",
       "      <td>0.000000</td>\n",
       "      <td>0.534906</td>\n",
       "      <td>0.507583</td>\n",
       "      <td>0.460241</td>\n",
       "      <td>0.510066</td>\n",
       "      <td>0.497842</td>\n",
       "      <td>0.497108</td>\n",
       "      <td>0.477341</td>\n",
       "      <td>0.463438</td>\n",
       "      <td>0.462251</td>\n",
       "      <td>0.578389</td>\n",
       "    </tr>\n",
       "    <tr>\n",
       "      <th>75%</th>\n",
       "      <td>1.000000</td>\n",
       "      <td>0.751887</td>\n",
       "      <td>0.727843</td>\n",
       "      <td>0.734937</td>\n",
       "      <td>0.768975</td>\n",
       "      <td>0.743401</td>\n",
       "      <td>0.738854</td>\n",
       "      <td>0.735304</td>\n",
       "      <td>0.732483</td>\n",
       "      <td>0.740542</td>\n",
       "      <td>0.768990</td>\n",
       "    </tr>\n",
       "    <tr>\n",
       "      <th>max</th>\n",
       "      <td>1.000000</td>\n",
       "      <td>0.999476</td>\n",
       "      <td>0.998680</td>\n",
       "      <td>0.992963</td>\n",
       "      <td>0.995119</td>\n",
       "      <td>0.999412</td>\n",
       "      <td>0.997367</td>\n",
       "      <td>0.997141</td>\n",
       "      <td>0.998230</td>\n",
       "      <td>0.996098</td>\n",
       "      <td>0.999465</td>\n",
       "    </tr>\n",
       "  </tbody>\n",
       "</table>\n",
       "</div>"
      ],
      "text/plain": [
       "       class_label     sensor0     sensor1     sensor2     sensor3  \\\n",
       "count   400.000000  400.000000  400.000000  400.000000  400.000000   \n",
       "mean      0.000000    0.523661    0.509223    0.481238    0.509752   \n",
       "std       1.001252    0.268194    0.276878    0.287584    0.297712   \n",
       "min      -1.000000    0.007775    0.003865    0.004473    0.001466   \n",
       "25%      -1.000000    0.299792    0.283004    0.235544    0.262697   \n",
       "50%       0.000000    0.534906    0.507583    0.460241    0.510066   \n",
       "75%       1.000000    0.751887    0.727843    0.734937    0.768975   \n",
       "max       1.000000    0.999476    0.998680    0.992963    0.995119   \n",
       "\n",
       "          sensor4     sensor5     sensor6     sensor7     sensor8     sensor9  \n",
       "count  400.000000  400.000000  400.000000  400.000000  400.000000  400.000000  \n",
       "mean     0.497875    0.501065    0.490480    0.482372    0.482822    0.541933  \n",
       "std      0.288208    0.287634    0.289954    0.282714    0.296180    0.272490  \n",
       "min      0.000250    0.000425    0.000173    0.003322    0.003165    0.000452  \n",
       "25%      0.249369    0.269430    0.226687    0.242848    0.213626    0.321264  \n",
       "50%      0.497842    0.497108    0.477341    0.463438    0.462251    0.578389  \n",
       "75%      0.743401    0.738854    0.735304    0.732483    0.740542    0.768990  \n",
       "max      0.999412    0.997367    0.997141    0.998230    0.996098    0.999465  "
      ]
     },
     "execution_count": 5,
     "metadata": {},
     "output_type": "execute_result"
    }
   ],
   "source": [
    "df.describe() # Shows statistical features of only those columns having Numerical values. Which is obvious!"
   ]
  },
  {
   "cell_type": "code",
   "execution_count": 6,
   "metadata": {},
   "outputs": [
    {
     "data": {
      "text/html": [
       "<div>\n",
       "<style scoped>\n",
       "    .dataframe tbody tr th:only-of-type {\n",
       "        vertical-align: middle;\n",
       "    }\n",
       "\n",
       "    .dataframe tbody tr th {\n",
       "        vertical-align: top;\n",
       "    }\n",
       "\n",
       "    .dataframe thead th {\n",
       "        text-align: right;\n",
       "    }\n",
       "</style>\n",
       "<table border=\"1\" class=\"dataframe\">\n",
       "  <thead>\n",
       "    <tr style=\"text-align: right;\">\n",
       "      <th></th>\n",
       "      <th>sample index</th>\n",
       "      <th>class_label</th>\n",
       "      <th>sensor0</th>\n",
       "      <th>sensor1</th>\n",
       "      <th>sensor2</th>\n",
       "      <th>sensor3</th>\n",
       "      <th>sensor4</th>\n",
       "      <th>sensor5</th>\n",
       "      <th>sensor6</th>\n",
       "      <th>sensor7</th>\n",
       "      <th>sensor8</th>\n",
       "      <th>sensor9</th>\n",
       "    </tr>\n",
       "  </thead>\n",
       "  <tbody>\n",
       "    <tr>\n",
       "      <th>0</th>\n",
       "      <td>False</td>\n",
       "      <td>False</td>\n",
       "      <td>False</td>\n",
       "      <td>False</td>\n",
       "      <td>False</td>\n",
       "      <td>False</td>\n",
       "      <td>False</td>\n",
       "      <td>False</td>\n",
       "      <td>False</td>\n",
       "      <td>False</td>\n",
       "      <td>False</td>\n",
       "      <td>False</td>\n",
       "    </tr>\n",
       "    <tr>\n",
       "      <th>1</th>\n",
       "      <td>False</td>\n",
       "      <td>False</td>\n",
       "      <td>False</td>\n",
       "      <td>False</td>\n",
       "      <td>False</td>\n",
       "      <td>False</td>\n",
       "      <td>False</td>\n",
       "      <td>False</td>\n",
       "      <td>False</td>\n",
       "      <td>False</td>\n",
       "      <td>False</td>\n",
       "      <td>False</td>\n",
       "    </tr>\n",
       "    <tr>\n",
       "      <th>2</th>\n",
       "      <td>False</td>\n",
       "      <td>False</td>\n",
       "      <td>False</td>\n",
       "      <td>False</td>\n",
       "      <td>False</td>\n",
       "      <td>False</td>\n",
       "      <td>False</td>\n",
       "      <td>False</td>\n",
       "      <td>False</td>\n",
       "      <td>False</td>\n",
       "      <td>False</td>\n",
       "      <td>False</td>\n",
       "    </tr>\n",
       "    <tr>\n",
       "      <th>3</th>\n",
       "      <td>False</td>\n",
       "      <td>False</td>\n",
       "      <td>False</td>\n",
       "      <td>False</td>\n",
       "      <td>False</td>\n",
       "      <td>False</td>\n",
       "      <td>False</td>\n",
       "      <td>False</td>\n",
       "      <td>False</td>\n",
       "      <td>False</td>\n",
       "      <td>False</td>\n",
       "      <td>False</td>\n",
       "    </tr>\n",
       "    <tr>\n",
       "      <th>4</th>\n",
       "      <td>False</td>\n",
       "      <td>False</td>\n",
       "      <td>False</td>\n",
       "      <td>False</td>\n",
       "      <td>False</td>\n",
       "      <td>False</td>\n",
       "      <td>False</td>\n",
       "      <td>False</td>\n",
       "      <td>False</td>\n",
       "      <td>False</td>\n",
       "      <td>False</td>\n",
       "      <td>False</td>\n",
       "    </tr>\n",
       "  </tbody>\n",
       "</table>\n",
       "</div>"
      ],
      "text/plain": [
       "   sample index  class_label  sensor0  sensor1  sensor2  sensor3  sensor4  \\\n",
       "0         False        False    False    False    False    False    False   \n",
       "1         False        False    False    False    False    False    False   \n",
       "2         False        False    False    False    False    False    False   \n",
       "3         False        False    False    False    False    False    False   \n",
       "4         False        False    False    False    False    False    False   \n",
       "\n",
       "   sensor5  sensor6  sensor7  sensor8  sensor9  \n",
       "0    False    False    False    False    False  \n",
       "1    False    False    False    False    False  \n",
       "2    False    False    False    False    False  \n",
       "3    False    False    False    False    False  \n",
       "4    False    False    False    False    False  "
      ]
     },
     "execution_count": 6,
     "metadata": {},
     "output_type": "execute_result"
    }
   ],
   "source": [
    "df.isnull().head() # Checking only head of the dataframe, cuz I have already tested it. Calling head method\n",
    "# on entire dataset makes it a humangous cell output. We'll confirm it later through visualizations!"
   ]
  },
  {
   "cell_type": "code",
   "execution_count": 7,
   "metadata": {},
   "outputs": [
    {
     "data": {
      "text/plain": [
       "-1.0    200\n",
       " 1.0    200\n",
       "Name: class_label, dtype: int64"
      ]
     },
     "execution_count": 7,
     "metadata": {},
     "output_type": "execute_result"
    }
   ],
   "source": [
    "df['class_label'].value_counts() # Equal proportion of Classes!"
   ]
  },
  {
   "cell_type": "code",
   "execution_count": 8,
   "metadata": {},
   "outputs": [
    {
     "data": {
      "text/plain": [
       "Index(['sample index', 'class_label', 'sensor0', 'sensor1', 'sensor2',\n",
       "       'sensor3', 'sensor4', 'sensor5', 'sensor6', 'sensor7', 'sensor8',\n",
       "       'sensor9'],\n",
       "      dtype='object')"
      ]
     },
     "execution_count": 8,
     "metadata": {},
     "output_type": "execute_result"
    }
   ],
   "source": [
    "df.columns"
   ]
  },
  {
   "cell_type": "code",
   "execution_count": 9,
   "metadata": {},
   "outputs": [],
   "source": [
    "df.drop('sample index', axis = 1, inplace = True) # chopping off unwanted columns"
   ]
  },
  {
   "cell_type": "code",
   "execution_count": 10,
   "metadata": {},
   "outputs": [
    {
     "data": {
      "text/html": [
       "<div>\n",
       "<style scoped>\n",
       "    .dataframe tbody tr th:only-of-type {\n",
       "        vertical-align: middle;\n",
       "    }\n",
       "\n",
       "    .dataframe tbody tr th {\n",
       "        vertical-align: top;\n",
       "    }\n",
       "\n",
       "    .dataframe thead th {\n",
       "        text-align: right;\n",
       "    }\n",
       "</style>\n",
       "<table border=\"1\" class=\"dataframe\">\n",
       "  <thead>\n",
       "    <tr style=\"text-align: right;\">\n",
       "      <th></th>\n",
       "      <th>class_label</th>\n",
       "      <th>sensor0</th>\n",
       "      <th>sensor1</th>\n",
       "      <th>sensor2</th>\n",
       "      <th>sensor3</th>\n",
       "      <th>sensor4</th>\n",
       "      <th>sensor5</th>\n",
       "      <th>sensor6</th>\n",
       "      <th>sensor7</th>\n",
       "      <th>sensor8</th>\n",
       "      <th>sensor9</th>\n",
       "    </tr>\n",
       "  </thead>\n",
       "  <tbody>\n",
       "    <tr>\n",
       "      <th>0</th>\n",
       "      <td>1.0</td>\n",
       "      <td>0.834251</td>\n",
       "      <td>0.726081</td>\n",
       "      <td>0.535904</td>\n",
       "      <td>0.214896</td>\n",
       "      <td>0.873788</td>\n",
       "      <td>0.767605</td>\n",
       "      <td>0.111308</td>\n",
       "      <td>0.557526</td>\n",
       "      <td>0.599650</td>\n",
       "      <td>0.665569</td>\n",
       "    </tr>\n",
       "    <tr>\n",
       "      <th>1</th>\n",
       "      <td>1.0</td>\n",
       "      <td>0.804059</td>\n",
       "      <td>0.253135</td>\n",
       "      <td>0.869867</td>\n",
       "      <td>0.334285</td>\n",
       "      <td>0.604075</td>\n",
       "      <td>0.494045</td>\n",
       "      <td>0.833575</td>\n",
       "      <td>0.194190</td>\n",
       "      <td>0.014966</td>\n",
       "      <td>0.802918</td>\n",
       "    </tr>\n",
       "    <tr>\n",
       "      <th>2</th>\n",
       "      <td>1.0</td>\n",
       "      <td>0.694404</td>\n",
       "      <td>0.595777</td>\n",
       "      <td>0.581294</td>\n",
       "      <td>0.799003</td>\n",
       "      <td>0.762857</td>\n",
       "      <td>0.651393</td>\n",
       "      <td>0.075905</td>\n",
       "      <td>0.007186</td>\n",
       "      <td>0.659633</td>\n",
       "      <td>0.831009</td>\n",
       "    </tr>\n",
       "    <tr>\n",
       "      <th>3</th>\n",
       "      <td>1.0</td>\n",
       "      <td>0.783690</td>\n",
       "      <td>0.038780</td>\n",
       "      <td>0.285043</td>\n",
       "      <td>0.627305</td>\n",
       "      <td>0.800620</td>\n",
       "      <td>0.486340</td>\n",
       "      <td>0.827723</td>\n",
       "      <td>0.339807</td>\n",
       "      <td>0.731343</td>\n",
       "      <td>0.892359</td>\n",
       "    </tr>\n",
       "    <tr>\n",
       "      <th>4</th>\n",
       "      <td>1.0</td>\n",
       "      <td>0.788835</td>\n",
       "      <td>0.174433</td>\n",
       "      <td>0.348770</td>\n",
       "      <td>0.938244</td>\n",
       "      <td>0.692065</td>\n",
       "      <td>0.377620</td>\n",
       "      <td>0.183760</td>\n",
       "      <td>0.616805</td>\n",
       "      <td>0.492899</td>\n",
       "      <td>0.930969</td>\n",
       "    </tr>\n",
       "  </tbody>\n",
       "</table>\n",
       "</div>"
      ],
      "text/plain": [
       "   class_label   sensor0   sensor1   sensor2   sensor3   sensor4   sensor5  \\\n",
       "0          1.0  0.834251  0.726081  0.535904  0.214896  0.873788  0.767605   \n",
       "1          1.0  0.804059  0.253135  0.869867  0.334285  0.604075  0.494045   \n",
       "2          1.0  0.694404  0.595777  0.581294  0.799003  0.762857  0.651393   \n",
       "3          1.0  0.783690  0.038780  0.285043  0.627305  0.800620  0.486340   \n",
       "4          1.0  0.788835  0.174433  0.348770  0.938244  0.692065  0.377620   \n",
       "\n",
       "    sensor6   sensor7   sensor8   sensor9  \n",
       "0  0.111308  0.557526  0.599650  0.665569  \n",
       "1  0.833575  0.194190  0.014966  0.802918  \n",
       "2  0.075905  0.007186  0.659633  0.831009  \n",
       "3  0.827723  0.339807  0.731343  0.892359  \n",
       "4  0.183760  0.616805  0.492899  0.930969  "
      ]
     },
     "execution_count": 10,
     "metadata": {},
     "output_type": "execute_result"
    }
   ],
   "source": [
    "df.head() # Check Point!"
   ]
  },
  {
   "cell_type": "markdown",
   "metadata": {},
   "source": [
    "### Finding Correlations of The Features:"
   ]
  },
  {
   "cell_type": "code",
   "execution_count": 11,
   "metadata": {},
   "outputs": [
    {
     "data": {
      "text/html": [
       "<div>\n",
       "<style scoped>\n",
       "    .dataframe tbody tr th:only-of-type {\n",
       "        vertical-align: middle;\n",
       "    }\n",
       "\n",
       "    .dataframe tbody tr th {\n",
       "        vertical-align: top;\n",
       "    }\n",
       "\n",
       "    .dataframe thead th {\n",
       "        text-align: right;\n",
       "    }\n",
       "</style>\n",
       "<table border=\"1\" class=\"dataframe\">\n",
       "  <thead>\n",
       "    <tr style=\"text-align: right;\">\n",
       "      <th></th>\n",
       "      <th>class_label</th>\n",
       "      <th>sensor0</th>\n",
       "      <th>sensor1</th>\n",
       "      <th>sensor2</th>\n",
       "      <th>sensor3</th>\n",
       "      <th>sensor4</th>\n",
       "      <th>sensor5</th>\n",
       "      <th>sensor6</th>\n",
       "      <th>sensor7</th>\n",
       "      <th>sensor8</th>\n",
       "      <th>sensor9</th>\n",
       "    </tr>\n",
       "  </thead>\n",
       "  <tbody>\n",
       "    <tr>\n",
       "      <th>class_label</th>\n",
       "      <td>1.000000</td>\n",
       "      <td>0.543295</td>\n",
       "      <td>-0.252007</td>\n",
       "      <td>0.038775</td>\n",
       "      <td>0.433636</td>\n",
       "      <td>0.607623</td>\n",
       "      <td>0.224147</td>\n",
       "      <td>-0.007414</td>\n",
       "      <td>0.175612</td>\n",
       "      <td>0.660618</td>\n",
       "      <td>0.094907</td>\n",
       "    </tr>\n",
       "    <tr>\n",
       "      <th>sensor0</th>\n",
       "      <td>0.543295</td>\n",
       "      <td>1.000000</td>\n",
       "      <td>-0.215668</td>\n",
       "      <td>0.019521</td>\n",
       "      <td>0.253244</td>\n",
       "      <td>0.300760</td>\n",
       "      <td>0.164243</td>\n",
       "      <td>-0.007849</td>\n",
       "      <td>0.080306</td>\n",
       "      <td>0.361751</td>\n",
       "      <td>0.001317</td>\n",
       "    </tr>\n",
       "    <tr>\n",
       "      <th>sensor1</th>\n",
       "      <td>-0.252007</td>\n",
       "      <td>-0.215668</td>\n",
       "      <td>1.000000</td>\n",
       "      <td>0.056042</td>\n",
       "      <td>-0.111347</td>\n",
       "      <td>-0.130463</td>\n",
       "      <td>0.055401</td>\n",
       "      <td>-0.106082</td>\n",
       "      <td>0.031513</td>\n",
       "      <td>-0.163818</td>\n",
       "      <td>-0.023655</td>\n",
       "    </tr>\n",
       "    <tr>\n",
       "      <th>sensor2</th>\n",
       "      <td>0.038775</td>\n",
       "      <td>0.019521</td>\n",
       "      <td>0.056042</td>\n",
       "      <td>1.000000</td>\n",
       "      <td>0.093447</td>\n",
       "      <td>-0.023486</td>\n",
       "      <td>-0.008948</td>\n",
       "      <td>-0.057090</td>\n",
       "      <td>0.006899</td>\n",
       "      <td>-0.008308</td>\n",
       "      <td>-0.058528</td>\n",
       "    </tr>\n",
       "    <tr>\n",
       "      <th>sensor3</th>\n",
       "      <td>0.433636</td>\n",
       "      <td>0.253244</td>\n",
       "      <td>-0.111347</td>\n",
       "      <td>0.093447</td>\n",
       "      <td>1.000000</td>\n",
       "      <td>0.295136</td>\n",
       "      <td>0.038152</td>\n",
       "      <td>-0.105005</td>\n",
       "      <td>0.001243</td>\n",
       "      <td>0.287776</td>\n",
       "      <td>0.013732</td>\n",
       "    </tr>\n",
       "    <tr>\n",
       "      <th>sensor4</th>\n",
       "      <td>0.607623</td>\n",
       "      <td>0.300760</td>\n",
       "      <td>-0.130463</td>\n",
       "      <td>-0.023486</td>\n",
       "      <td>0.295136</td>\n",
       "      <td>1.000000</td>\n",
       "      <td>0.183916</td>\n",
       "      <td>-0.022690</td>\n",
       "      <td>0.090186</td>\n",
       "      <td>0.378306</td>\n",
       "      <td>0.023776</td>\n",
       "    </tr>\n",
       "    <tr>\n",
       "      <th>sensor5</th>\n",
       "      <td>0.224147</td>\n",
       "      <td>0.164243</td>\n",
       "      <td>0.055401</td>\n",
       "      <td>-0.008948</td>\n",
       "      <td>0.038152</td>\n",
       "      <td>0.183916</td>\n",
       "      <td>1.000000</td>\n",
       "      <td>-0.061238</td>\n",
       "      <td>0.020814</td>\n",
       "      <td>0.220014</td>\n",
       "      <td>0.071258</td>\n",
       "    </tr>\n",
       "    <tr>\n",
       "      <th>sensor6</th>\n",
       "      <td>-0.007414</td>\n",
       "      <td>-0.007849</td>\n",
       "      <td>-0.106082</td>\n",
       "      <td>-0.057090</td>\n",
       "      <td>-0.105005</td>\n",
       "      <td>-0.022690</td>\n",
       "      <td>-0.061238</td>\n",
       "      <td>1.000000</td>\n",
       "      <td>0.065211</td>\n",
       "      <td>-0.073309</td>\n",
       "      <td>0.040744</td>\n",
       "    </tr>\n",
       "    <tr>\n",
       "      <th>sensor7</th>\n",
       "      <td>0.175612</td>\n",
       "      <td>0.080306</td>\n",
       "      <td>0.031513</td>\n",
       "      <td>0.006899</td>\n",
       "      <td>0.001243</td>\n",
       "      <td>0.090186</td>\n",
       "      <td>0.020814</td>\n",
       "      <td>0.065211</td>\n",
       "      <td>1.000000</td>\n",
       "      <td>0.060028</td>\n",
       "      <td>0.059341</td>\n",
       "    </tr>\n",
       "    <tr>\n",
       "      <th>sensor8</th>\n",
       "      <td>0.660618</td>\n",
       "      <td>0.361751</td>\n",
       "      <td>-0.163818</td>\n",
       "      <td>-0.008308</td>\n",
       "      <td>0.287776</td>\n",
       "      <td>0.378306</td>\n",
       "      <td>0.220014</td>\n",
       "      <td>-0.073309</td>\n",
       "      <td>0.060028</td>\n",
       "      <td>1.000000</td>\n",
       "      <td>-0.033991</td>\n",
       "    </tr>\n",
       "    <tr>\n",
       "      <th>sensor9</th>\n",
       "      <td>0.094907</td>\n",
       "      <td>0.001317</td>\n",
       "      <td>-0.023655</td>\n",
       "      <td>-0.058528</td>\n",
       "      <td>0.013732</td>\n",
       "      <td>0.023776</td>\n",
       "      <td>0.071258</td>\n",
       "      <td>0.040744</td>\n",
       "      <td>0.059341</td>\n",
       "      <td>-0.033991</td>\n",
       "      <td>1.000000</td>\n",
       "    </tr>\n",
       "  </tbody>\n",
       "</table>\n",
       "</div>"
      ],
      "text/plain": [
       "             class_label   sensor0   sensor1   sensor2   sensor3   sensor4  \\\n",
       "class_label     1.000000  0.543295 -0.252007  0.038775  0.433636  0.607623   \n",
       "sensor0         0.543295  1.000000 -0.215668  0.019521  0.253244  0.300760   \n",
       "sensor1        -0.252007 -0.215668  1.000000  0.056042 -0.111347 -0.130463   \n",
       "sensor2         0.038775  0.019521  0.056042  1.000000  0.093447 -0.023486   \n",
       "sensor3         0.433636  0.253244 -0.111347  0.093447  1.000000  0.295136   \n",
       "sensor4         0.607623  0.300760 -0.130463 -0.023486  0.295136  1.000000   \n",
       "sensor5         0.224147  0.164243  0.055401 -0.008948  0.038152  0.183916   \n",
       "sensor6        -0.007414 -0.007849 -0.106082 -0.057090 -0.105005 -0.022690   \n",
       "sensor7         0.175612  0.080306  0.031513  0.006899  0.001243  0.090186   \n",
       "sensor8         0.660618  0.361751 -0.163818 -0.008308  0.287776  0.378306   \n",
       "sensor9         0.094907  0.001317 -0.023655 -0.058528  0.013732  0.023776   \n",
       "\n",
       "              sensor5   sensor6   sensor7   sensor8   sensor9  \n",
       "class_label  0.224147 -0.007414  0.175612  0.660618  0.094907  \n",
       "sensor0      0.164243 -0.007849  0.080306  0.361751  0.001317  \n",
       "sensor1      0.055401 -0.106082  0.031513 -0.163818 -0.023655  \n",
       "sensor2     -0.008948 -0.057090  0.006899 -0.008308 -0.058528  \n",
       "sensor3      0.038152 -0.105005  0.001243  0.287776  0.013732  \n",
       "sensor4      0.183916 -0.022690  0.090186  0.378306  0.023776  \n",
       "sensor5      1.000000 -0.061238  0.020814  0.220014  0.071258  \n",
       "sensor6     -0.061238  1.000000  0.065211 -0.073309  0.040744  \n",
       "sensor7      0.020814  0.065211  1.000000  0.060028  0.059341  \n",
       "sensor8      0.220014 -0.073309  0.060028  1.000000 -0.033991  \n",
       "sensor9      0.071258  0.040744  0.059341 -0.033991  1.000000  "
      ]
     },
     "execution_count": 11,
     "metadata": {},
     "output_type": "execute_result"
    }
   ],
   "source": [
    "df.corr() # finding correlations among features"
   ]
  },
  {
   "cell_type": "code",
   "execution_count": 12,
   "metadata": {},
   "outputs": [
    {
     "name": "stdout",
     "output_type": "stream",
     "text": [
      "Feature class_label : Correlation 1.0\n",
      "Feature sensor0 : Correlation 0.5432950594605451\n",
      "Feature sensor1 : Correlation -0.25200734226009575\n",
      "Feature sensor2 : Correlation 0.03877543484999283\n",
      "Feature sensor3 : Correlation 0.43363644436420123\n",
      "Feature sensor4 : Correlation 0.6076228345496761\n",
      "Feature sensor5 : Correlation 0.22414719421524462\n",
      "Feature sensor6 : Correlation -0.0074144251226751475\n",
      "Feature sensor7 : Correlation 0.1756121918018469\n",
      "Feature sensor8 : Correlation 0.6606179222510381\n",
      "Feature sensor9 : Correlation 0.09490706714608717\n"
     ]
    }
   ],
   "source": [
    "corr_list = [] # reports back correlations list\n",
    "\n",
    "for index,column in enumerate(df[:]):\n",
    "    corr = df['class_label'].corr(df[column])\n",
    "    print('Feature {} : Correlation {}'.format(column, corr))\n",
    "    corr_list.append(corr)"
   ]
  },
  {
   "cell_type": "code",
   "execution_count": 76,
   "metadata": {},
   "outputs": [
    {
     "name": "stdout",
     "output_type": "stream",
     "text": [
      "[1.0, 0.6606179222510381, 0.6076228345496761, 0.5432950594605451, 0.43363644436420123, 0.22414719421524462, 0.1756121918018469, 0.09490706714608717, 0.03877543484999283, -0.0074144251226751475, -0.25200734226009575]\n"
     ]
    }
   ],
   "source": [
    "ranked_correlations = sorted(corr_list, reverse = True) # sorted out the correlations values in descending order\n",
    "\n",
    "print(ranked_correlations) # Check Point!"
   ]
  },
  {
   "cell_type": "code",
   "execution_count": 14,
   "metadata": {},
   "outputs": [
    {
     "data": {
      "text/plain": [
       "0.0013165657520929522"
      ]
     },
     "execution_count": 14,
     "metadata": {},
     "output_type": "execute_result"
    }
   ],
   "source": [
    "df['sensor0'].corr(df['sensor9']) # random correlations among independent values"
   ]
  },
  {
   "cell_type": "code",
   "execution_count": 15,
   "metadata": {},
   "outputs": [
    {
     "data": {
      "text/plain": [
       "-0.02365495273856215"
      ]
     },
     "execution_count": 15,
     "metadata": {},
     "output_type": "execute_result"
    }
   ],
   "source": [
    "df['sensor1'].corr(df['sensor9'])"
   ]
  },
  {
   "cell_type": "code",
   "execution_count": 16,
   "metadata": {},
   "outputs": [
    {
     "data": {
      "text/plain": [
       "-0.05852832526643016"
      ]
     },
     "execution_count": 16,
     "metadata": {},
     "output_type": "execute_result"
    }
   ],
   "source": [
    "df['sensor2'].corr(df['sensor9'])"
   ]
  },
  {
   "cell_type": "code",
   "execution_count": 17,
   "metadata": {},
   "outputs": [
    {
     "data": {
      "text/plain": [
       "0.013731608990796578"
      ]
     },
     "execution_count": 17,
     "metadata": {},
     "output_type": "execute_result"
    }
   ],
   "source": [
    "df['sensor3'].corr(df['sensor9'])"
   ]
  },
  {
   "cell_type": "code",
   "execution_count": 18,
   "metadata": {},
   "outputs": [],
   "source": [
    "# df.drop('sample index', axis = 1, inplace = True)"
   ]
  },
  {
   "cell_type": "code",
   "execution_count": 19,
   "metadata": {},
   "outputs": [
    {
     "data": {
      "text/html": [
       "<div>\n",
       "<style scoped>\n",
       "    .dataframe tbody tr th:only-of-type {\n",
       "        vertical-align: middle;\n",
       "    }\n",
       "\n",
       "    .dataframe tbody tr th {\n",
       "        vertical-align: top;\n",
       "    }\n",
       "\n",
       "    .dataframe thead th {\n",
       "        text-align: right;\n",
       "    }\n",
       "</style>\n",
       "<table border=\"1\" class=\"dataframe\">\n",
       "  <thead>\n",
       "    <tr style=\"text-align: right;\">\n",
       "      <th></th>\n",
       "      <th>class_label</th>\n",
       "      <th>sensor0</th>\n",
       "      <th>sensor1</th>\n",
       "      <th>sensor2</th>\n",
       "      <th>sensor3</th>\n",
       "      <th>sensor4</th>\n",
       "      <th>sensor5</th>\n",
       "      <th>sensor6</th>\n",
       "      <th>sensor7</th>\n",
       "      <th>sensor8</th>\n",
       "      <th>sensor9</th>\n",
       "    </tr>\n",
       "  </thead>\n",
       "  <tbody>\n",
       "    <tr>\n",
       "      <th>0</th>\n",
       "      <td>1.0</td>\n",
       "      <td>0.834251</td>\n",
       "      <td>0.726081</td>\n",
       "      <td>0.535904</td>\n",
       "      <td>0.214896</td>\n",
       "      <td>0.873788</td>\n",
       "      <td>0.767605</td>\n",
       "      <td>0.111308</td>\n",
       "      <td>0.557526</td>\n",
       "      <td>0.599650</td>\n",
       "      <td>0.665569</td>\n",
       "    </tr>\n",
       "    <tr>\n",
       "      <th>1</th>\n",
       "      <td>1.0</td>\n",
       "      <td>0.804059</td>\n",
       "      <td>0.253135</td>\n",
       "      <td>0.869867</td>\n",
       "      <td>0.334285</td>\n",
       "      <td>0.604075</td>\n",
       "      <td>0.494045</td>\n",
       "      <td>0.833575</td>\n",
       "      <td>0.194190</td>\n",
       "      <td>0.014966</td>\n",
       "      <td>0.802918</td>\n",
       "    </tr>\n",
       "    <tr>\n",
       "      <th>2</th>\n",
       "      <td>1.0</td>\n",
       "      <td>0.694404</td>\n",
       "      <td>0.595777</td>\n",
       "      <td>0.581294</td>\n",
       "      <td>0.799003</td>\n",
       "      <td>0.762857</td>\n",
       "      <td>0.651393</td>\n",
       "      <td>0.075905</td>\n",
       "      <td>0.007186</td>\n",
       "      <td>0.659633</td>\n",
       "      <td>0.831009</td>\n",
       "    </tr>\n",
       "    <tr>\n",
       "      <th>3</th>\n",
       "      <td>1.0</td>\n",
       "      <td>0.783690</td>\n",
       "      <td>0.038780</td>\n",
       "      <td>0.285043</td>\n",
       "      <td>0.627305</td>\n",
       "      <td>0.800620</td>\n",
       "      <td>0.486340</td>\n",
       "      <td>0.827723</td>\n",
       "      <td>0.339807</td>\n",
       "      <td>0.731343</td>\n",
       "      <td>0.892359</td>\n",
       "    </tr>\n",
       "    <tr>\n",
       "      <th>4</th>\n",
       "      <td>1.0</td>\n",
       "      <td>0.788835</td>\n",
       "      <td>0.174433</td>\n",
       "      <td>0.348770</td>\n",
       "      <td>0.938244</td>\n",
       "      <td>0.692065</td>\n",
       "      <td>0.377620</td>\n",
       "      <td>0.183760</td>\n",
       "      <td>0.616805</td>\n",
       "      <td>0.492899</td>\n",
       "      <td>0.930969</td>\n",
       "    </tr>\n",
       "  </tbody>\n",
       "</table>\n",
       "</div>"
      ],
      "text/plain": [
       "   class_label   sensor0   sensor1   sensor2   sensor3   sensor4   sensor5  \\\n",
       "0          1.0  0.834251  0.726081  0.535904  0.214896  0.873788  0.767605   \n",
       "1          1.0  0.804059  0.253135  0.869867  0.334285  0.604075  0.494045   \n",
       "2          1.0  0.694404  0.595777  0.581294  0.799003  0.762857  0.651393   \n",
       "3          1.0  0.783690  0.038780  0.285043  0.627305  0.800620  0.486340   \n",
       "4          1.0  0.788835  0.174433  0.348770  0.938244  0.692065  0.377620   \n",
       "\n",
       "    sensor6   sensor7   sensor8   sensor9  \n",
       "0  0.111308  0.557526  0.599650  0.665569  \n",
       "1  0.833575  0.194190  0.014966  0.802918  \n",
       "2  0.075905  0.007186  0.659633  0.831009  \n",
       "3  0.827723  0.339807  0.731343  0.892359  \n",
       "4  0.183760  0.616805  0.492899  0.930969  "
      ]
     },
     "execution_count": 19,
     "metadata": {},
     "output_type": "execute_result"
    }
   ],
   "source": [
    "df.head() # -> CHECK POINT"
   ]
  },
  {
   "cell_type": "markdown",
   "metadata": {},
   "source": [
    "### Data Visualization:"
   ]
  },
  {
   "cell_type": "code",
   "execution_count": 20,
   "metadata": {
    "scrolled": true
   },
   "outputs": [
    {
     "data": {
      "text/plain": [
       "<matplotlib.axes._subplots.AxesSubplot at 0x7fd0ca2fcf60>"
      ]
     },
     "execution_count": 20,
     "metadata": {},
     "output_type": "execute_result"
    },
    {
     "data": {
      "image/png": "[encoded data removed]",
      "text/plain": [
       "<Figure size 432x288 with 2 Axes>"
      ]
     },
     "metadata": {
      "needs_background": "light"
     },
     "output_type": "display_data"
    }
   ],
   "source": [
    "# lets confirm if we have any null value inside our data set\n",
    "\n",
    "sns.heatmap(data = df.isnull())"
   ]
  },
  {
   "cell_type": "code",
   "execution_count": 21,
   "metadata": {},
   "outputs": [
    {
     "data": {
      "text/plain": [
       "<matplotlib.axes._subplots.AxesSubplot at 0x7fd0c820f320>"
      ]
     },
     "execution_count": 21,
     "metadata": {},
     "output_type": "execute_result"
    },
    {
     "data": {
      "image/png": "[encoded data removed]",
      "text/plain": [
       "<Figure size 432x288 with 1 Axes>"
      ]
     },
     "metadata": {
      "needs_background": "light"
     },
     "output_type": "display_data"
    }
   ],
   "source": [
    "# Univeriate Plotting\n",
    "\n",
    "sns.distplot(df['class_label']) \n",
    "\n",
    "# Equally distribute which was obvious from EDA we performed earlier!"
   ]
  },
  {
   "cell_type": "code",
   "execution_count": 22,
   "metadata": {},
   "outputs": [],
   "source": [
    "# Lets grab few more plots, and see if we find some important information regarding our data set"
   ]
  },
  {
   "cell_type": "code",
   "execution_count": 23,
   "metadata": {},
   "outputs": [
    {
     "data": {
      "text/plain": [
       "<matplotlib.axes._subplots.AxesSubplot at 0x7fd0c81af908>"
      ]
     },
     "execution_count": 23,
     "metadata": {},
     "output_type": "execute_result"
    },
    {
     "data": {
      "image/png": "[encoded data removed]",
      "text/plain": [
       "<Figure size 432x288 with 1 Axes>"
      ]
     },
     "metadata": {
      "needs_background": "light"
     },
     "output_type": "display_data"
    }
   ],
   "source": [
    "sns.distplot(df['sensor0'], kde = True, bins = 30)"
   ]
  },
  {
   "cell_type": "code",
   "execution_count": 24,
   "metadata": {},
   "outputs": [
    {
     "data": {
      "text/plain": [
       "<seaborn.axisgrid.JointGrid at 0x7fd0c80e6208>"
      ]
     },
     "execution_count": 24,
     "metadata": {},
     "output_type": "execute_result"
    },
    {
     "data": {
      "image/png": "[encoded data removed]",
      "text/plain": [
       "<Figure size 432x432 with 3 Axes>"
      ]
     },
     "metadata": {
      "needs_background": "light"
     },
     "output_type": "display_data"
    }
   ],
   "source": [
    "# Bivariate Plotting\n",
    "\n",
    "sns.jointplot(x = 'sensor0', y = 'class_label', data = df)"
   ]
  },
  {
   "cell_type": "code",
   "execution_count": 25,
   "metadata": {},
   "outputs": [
    {
     "data": {
      "text/plain": [
       "<seaborn.axisgrid.JointGrid at 0x7fd0c7f30f60>"
      ]
     },
     "execution_count": 25,
     "metadata": {},
     "output_type": "execute_result"
    },
    {
     "data": {
      "image/png": "[encoded data removed]",
      "text/plain": [
       "<Figure size 432x432 with 3 Axes>"
      ]
     },
     "metadata": {
      "needs_background": "light"
     },
     "output_type": "display_data"
    }
   ],
   "source": [
    "# Bivariate plotting\n",
    "\n",
    "sns.jointplot(x = 'sensor1', y = 'class_label', data = df) # "
   ]
  },
  {
   "cell_type": "code",
   "execution_count": 26,
   "metadata": {},
   "outputs": [
    {
     "data": {
      "text/plain": [
       "<seaborn.axisgrid.JointGrid at 0x7fd0c7e8ac50>"
      ]
     },
     "execution_count": 26,
     "metadata": {},
     "output_type": "execute_result"
    },
    {
     "data": {
      "image/png": "[encoded data removed]",
      "text/plain": [
       "<Figure size 432x432 with 3 Axes>"
      ]
     },
     "metadata": {
      "needs_background": "light"
     },
     "output_type": "display_data"
    }
   ],
   "source": [
    "sns.jointplot(x = 'sensor0', y = 'sensor1', data = df)"
   ]
  },
  {
   "cell_type": "code",
   "execution_count": 27,
   "metadata": {},
   "outputs": [
    {
     "data": {
      "text/plain": [
       "<matplotlib.axes._subplots.AxesSubplot at 0x7fd0c7cdd080>"
      ]
     },
     "execution_count": 27,
     "metadata": {},
     "output_type": "execute_result"
    },
    {
     "data": {
      "image/png": "[encoded data removed]",
      "text/plain": [
       "<Figure size 432x288 with 1 Axes>"
      ]
     },
     "metadata": {
      "needs_background": "light"
     },
     "output_type": "display_data"
    }
   ],
   "source": [
    "sns.barplot(x = 'class_label', y = 'sensor0', data = df)"
   ]
  },
  {
   "cell_type": "code",
   "execution_count": 28,
   "metadata": {},
   "outputs": [
    {
     "data": {
      "text/plain": [
       "<matplotlib.axes._subplots.AxesSubplot at 0x7fd0c7ca72e8>"
      ]
     },
     "execution_count": 28,
     "metadata": {},
     "output_type": "execute_result"
    },
    {
     "data": {
      "image/png": "[encoded data removed]",
      "text/plain": [
       "<Figure size 432x288 with 1 Axes>"
      ]
     },
     "metadata": {
      "needs_background": "light"
     },
     "output_type": "display_data"
    }
   ],
   "source": [
    "sns.barplot(x = 'class_label', y = 'sensor1', data = df)"
   ]
  },
  {
   "cell_type": "markdown",
   "metadata": {},
   "source": [
    "### Data Normalization and Features Scaling:"
   ]
  },
  {
   "cell_type": "code",
   "execution_count": 29,
   "metadata": {},
   "outputs": [],
   "source": [
    "scaler = StandardScaler() # creating scaler object of StandardScaler class"
   ]
  },
  {
   "cell_type": "code",
   "execution_count": 30,
   "metadata": {},
   "outputs": [
    {
     "data": {
      "text/plain": [
       "StandardScaler(copy=True, with_mean=True, with_std=True)"
      ]
     },
     "execution_count": 30,
     "metadata": {},
     "output_type": "execute_result"
    }
   ],
   "source": [
    "scaler.fit(df) # fit the data"
   ]
  },
  {
   "cell_type": "code",
   "execution_count": 31,
   "metadata": {},
   "outputs": [
    {
     "name": "stdout",
     "output_type": "stream",
     "text": [
      "[0.         0.52366059 0.50922306 0.48123849 0.50975199 0.49787532\n",
      " 0.50106504 0.49048014 0.4823716  0.48282233 0.54193334]\n"
     ]
    }
   ],
   "source": [
    "print(scaler.mean_) # mean of scaled feautures"
   ]
  },
  {
   "cell_type": "code",
   "execution_count": 32,
   "metadata": {},
   "outputs": [
    {
     "data": {
      "text/html": [
       "<div>\n",
       "<style scoped>\n",
       "    .dataframe tbody tr th:only-of-type {\n",
       "        vertical-align: middle;\n",
       "    }\n",
       "\n",
       "    .dataframe tbody tr th {\n",
       "        vertical-align: top;\n",
       "    }\n",
       "\n",
       "    .dataframe thead th {\n",
       "        text-align: right;\n",
       "    }\n",
       "</style>\n",
       "<table border=\"1\" class=\"dataframe\">\n",
       "  <thead>\n",
       "    <tr style=\"text-align: right;\">\n",
       "      <th></th>\n",
       "      <th>class_label</th>\n",
       "      <th>sensor0</th>\n",
       "      <th>sensor1</th>\n",
       "      <th>sensor2</th>\n",
       "      <th>sensor3</th>\n",
       "      <th>sensor4</th>\n",
       "      <th>sensor5</th>\n",
       "      <th>sensor6</th>\n",
       "      <th>sensor7</th>\n",
       "      <th>sensor8</th>\n",
       "      <th>sensor9</th>\n",
       "    </tr>\n",
       "  </thead>\n",
       "  <tbody>\n",
       "    <tr>\n",
       "      <th>count</th>\n",
       "      <td>400.000000</td>\n",
       "      <td>400.000000</td>\n",
       "      <td>400.000000</td>\n",
       "      <td>400.000000</td>\n",
       "      <td>400.000000</td>\n",
       "      <td>400.000000</td>\n",
       "      <td>400.000000</td>\n",
       "      <td>400.000000</td>\n",
       "      <td>400.000000</td>\n",
       "      <td>400.000000</td>\n",
       "      <td>400.000000</td>\n",
       "    </tr>\n",
       "    <tr>\n",
       "      <th>mean</th>\n",
       "      <td>0.000000</td>\n",
       "      <td>0.523661</td>\n",
       "      <td>0.509223</td>\n",
       "      <td>0.481238</td>\n",
       "      <td>0.509752</td>\n",
       "      <td>0.497875</td>\n",
       "      <td>0.501065</td>\n",
       "      <td>0.490480</td>\n",
       "      <td>0.482372</td>\n",
       "      <td>0.482822</td>\n",
       "      <td>0.541933</td>\n",
       "    </tr>\n",
       "    <tr>\n",
       "      <th>std</th>\n",
       "      <td>1.001252</td>\n",
       "      <td>0.268194</td>\n",
       "      <td>0.276878</td>\n",
       "      <td>0.287584</td>\n",
       "      <td>0.297712</td>\n",
       "      <td>0.288208</td>\n",
       "      <td>0.287634</td>\n",
       "      <td>0.289954</td>\n",
       "      <td>0.282714</td>\n",
       "      <td>0.296180</td>\n",
       "      <td>0.272490</td>\n",
       "    </tr>\n",
       "    <tr>\n",
       "      <th>min</th>\n",
       "      <td>-1.000000</td>\n",
       "      <td>0.007775</td>\n",
       "      <td>0.003865</td>\n",
       "      <td>0.004473</td>\n",
       "      <td>0.001466</td>\n",
       "      <td>0.000250</td>\n",
       "      <td>0.000425</td>\n",
       "      <td>0.000173</td>\n",
       "      <td>0.003322</td>\n",
       "      <td>0.003165</td>\n",
       "      <td>0.000452</td>\n",
       "    </tr>\n",
       "    <tr>\n",
       "      <th>25%</th>\n",
       "      <td>-1.000000</td>\n",
       "      <td>0.299792</td>\n",
       "      <td>0.283004</td>\n",
       "      <td>0.235544</td>\n",
       "      <td>0.262697</td>\n",
       "      <td>0.249369</td>\n",
       "      <td>0.269430</td>\n",
       "      <td>0.226687</td>\n",
       "      <td>0.242848</td>\n",
       "      <td>0.213626</td>\n",
       "      <td>0.321264</td>\n",
       "    </tr>\n",
       "    <tr>\n",
       "      <th>50%</th>\n",
       "      <td>0.000000</td>\n",
       "      <td>0.534906</td>\n",
       "      <td>0.507583</td>\n",
       "      <td>0.460241</td>\n",
       "      <td>0.510066</td>\n",
       "      <td>0.497842</td>\n",
       "      <td>0.497108</td>\n",
       "      <td>0.477341</td>\n",
       "      <td>0.463438</td>\n",
       "      <td>0.462251</td>\n",
       "      <td>0.578389</td>\n",
       "    </tr>\n",
       "    <tr>\n",
       "      <th>75%</th>\n",
       "      <td>1.000000</td>\n",
       "      <td>0.751887</td>\n",
       "      <td>0.727843</td>\n",
       "      <td>0.734937</td>\n",
       "      <td>0.768975</td>\n",
       "      <td>0.743401</td>\n",
       "      <td>0.738854</td>\n",
       "      <td>0.735304</td>\n",
       "      <td>0.732483</td>\n",
       "      <td>0.740542</td>\n",
       "      <td>0.768990</td>\n",
       "    </tr>\n",
       "    <tr>\n",
       "      <th>max</th>\n",
       "      <td>1.000000</td>\n",
       "      <td>0.999476</td>\n",
       "      <td>0.998680</td>\n",
       "      <td>0.992963</td>\n",
       "      <td>0.995119</td>\n",
       "      <td>0.999412</td>\n",
       "      <td>0.997367</td>\n",
       "      <td>0.997141</td>\n",
       "      <td>0.998230</td>\n",
       "      <td>0.996098</td>\n",
       "      <td>0.999465</td>\n",
       "    </tr>\n",
       "  </tbody>\n",
       "</table>\n",
       "</div>"
      ],
      "text/plain": [
       "       class_label     sensor0     sensor1     sensor2     sensor3  \\\n",
       "count   400.000000  400.000000  400.000000  400.000000  400.000000   \n",
       "mean      0.000000    0.523661    0.509223    0.481238    0.509752   \n",
       "std       1.001252    0.268194    0.276878    0.287584    0.297712   \n",
       "min      -1.000000    0.007775    0.003865    0.004473    0.001466   \n",
       "25%      -1.000000    0.299792    0.283004    0.235544    0.262697   \n",
       "50%       0.000000    0.534906    0.507583    0.460241    0.510066   \n",
       "75%       1.000000    0.751887    0.727843    0.734937    0.768975   \n",
       "max       1.000000    0.999476    0.998680    0.992963    0.995119   \n",
       "\n",
       "          sensor4     sensor5     sensor6     sensor7     sensor8     sensor9  \n",
       "count  400.000000  400.000000  400.000000  400.000000  400.000000  400.000000  \n",
       "mean     0.497875    0.501065    0.490480    0.482372    0.482822    0.541933  \n",
       "std      0.288208    0.287634    0.289954    0.282714    0.296180    0.272490  \n",
       "min      0.000250    0.000425    0.000173    0.003322    0.003165    0.000452  \n",
       "25%      0.249369    0.269430    0.226687    0.242848    0.213626    0.321264  \n",
       "50%      0.497842    0.497108    0.477341    0.463438    0.462251    0.578389  \n",
       "75%      0.743401    0.738854    0.735304    0.732483    0.740542    0.768990  \n",
       "max      0.999412    0.997367    0.997141    0.998230    0.996098    0.999465  "
      ]
     },
     "execution_count": 32,
     "metadata": {},
     "output_type": "execute_result"
    }
   ],
   "source": [
    "df.describe()"
   ]
  },
  {
   "cell_type": "code",
   "execution_count": 33,
   "metadata": {},
   "outputs": [],
   "source": [
    "scaled_features = scaler.transform(df) # applyed transformation"
   ]
  },
  {
   "cell_type": "code",
   "execution_count": 34,
   "metadata": {},
   "outputs": [],
   "source": [
    "df_feat = pd.DataFrame(data = scaled_features, columns = df.columns[:]) # dataframe of scaled values"
   ]
  },
  {
   "cell_type": "code",
   "execution_count": 35,
   "metadata": {},
   "outputs": [
    {
     "data": {
      "text/html": [
       "<div>\n",
       "<style scoped>\n",
       "    .dataframe tbody tr th:only-of-type {\n",
       "        vertical-align: middle;\n",
       "    }\n",
       "\n",
       "    .dataframe tbody tr th {\n",
       "        vertical-align: top;\n",
       "    }\n",
       "\n",
       "    .dataframe thead th {\n",
       "        text-align: right;\n",
       "    }\n",
       "</style>\n",
       "<table border=\"1\" class=\"dataframe\">\n",
       "  <thead>\n",
       "    <tr style=\"text-align: right;\">\n",
       "      <th></th>\n",
       "      <th>class_label</th>\n",
       "      <th>sensor0</th>\n",
       "      <th>sensor1</th>\n",
       "      <th>sensor2</th>\n",
       "      <th>sensor3</th>\n",
       "      <th>sensor4</th>\n",
       "      <th>sensor5</th>\n",
       "      <th>sensor6</th>\n",
       "      <th>sensor7</th>\n",
       "      <th>sensor8</th>\n",
       "      <th>sensor9</th>\n",
       "    </tr>\n",
       "  </thead>\n",
       "  <tbody>\n",
       "    <tr>\n",
       "      <th>0</th>\n",
       "      <td>1.0</td>\n",
       "      <td>1.159533</td>\n",
       "      <td>0.784209</td>\n",
       "      <td>0.190322</td>\n",
       "      <td>-0.991648</td>\n",
       "      <td>1.305944</td>\n",
       "      <td>0.927822</td>\n",
       "      <td>-1.309333</td>\n",
       "      <td>0.266167</td>\n",
       "      <td>0.394942</td>\n",
       "      <td>0.454293</td>\n",
       "    </tr>\n",
       "    <tr>\n",
       "      <th>1</th>\n",
       "      <td>1.0</td>\n",
       "      <td>1.046817</td>\n",
       "      <td>-0.926072</td>\n",
       "      <td>1.353050</td>\n",
       "      <td>-0.590123</td>\n",
       "      <td>0.368943</td>\n",
       "      <td>-0.024436</td>\n",
       "      <td>1.184756</td>\n",
       "      <td>-1.020618</td>\n",
       "      <td>-1.581615</td>\n",
       "      <td>0.958976</td>\n",
       "    </tr>\n",
       "    <tr>\n",
       "      <th>2</th>\n",
       "      <td>1.0</td>\n",
       "      <td>0.637440</td>\n",
       "      <td>0.312997</td>\n",
       "      <td>0.348354</td>\n",
       "      <td>0.972798</td>\n",
       "      <td>0.920561</td>\n",
       "      <td>0.523290</td>\n",
       "      <td>-1.431585</td>\n",
       "      <td>-1.682906</td>\n",
       "      <td>0.597719</td>\n",
       "      <td>1.062195</td>\n",
       "    </tr>\n",
       "    <tr>\n",
       "      <th>3</th>\n",
       "      <td>1.0</td>\n",
       "      <td>0.970771</td>\n",
       "      <td>-1.701231</td>\n",
       "      <td>-0.683073</td>\n",
       "      <td>0.395351</td>\n",
       "      <td>1.051752</td>\n",
       "      <td>-0.051257</td>\n",
       "      <td>1.164548</td>\n",
       "      <td>-0.504903</td>\n",
       "      <td>0.840140</td>\n",
       "      <td>1.287622</td>\n",
       "    </tr>\n",
       "    <tr>\n",
       "      <th>4</th>\n",
       "      <td>1.0</td>\n",
       "      <td>0.989982</td>\n",
       "      <td>-1.210676</td>\n",
       "      <td>-0.461201</td>\n",
       "      <td>1.441087</td>\n",
       "      <td>0.674625</td>\n",
       "      <td>-0.429712</td>\n",
       "      <td>-1.059149</td>\n",
       "      <td>0.476105</td>\n",
       "      <td>0.034065</td>\n",
       "      <td>1.429494</td>\n",
       "    </tr>\n",
       "  </tbody>\n",
       "</table>\n",
       "</div>"
      ],
      "text/plain": [
       "   class_label   sensor0   sensor1   sensor2   sensor3   sensor4   sensor5  \\\n",
       "0          1.0  1.159533  0.784209  0.190322 -0.991648  1.305944  0.927822   \n",
       "1          1.0  1.046817 -0.926072  1.353050 -0.590123  0.368943 -0.024436   \n",
       "2          1.0  0.637440  0.312997  0.348354  0.972798  0.920561  0.523290   \n",
       "3          1.0  0.970771 -1.701231 -0.683073  0.395351  1.051752 -0.051257   \n",
       "4          1.0  0.989982 -1.210676 -0.461201  1.441087  0.674625 -0.429712   \n",
       "\n",
       "    sensor6   sensor7   sensor8   sensor9  \n",
       "0 -1.309333  0.266167  0.394942  0.454293  \n",
       "1  1.184756 -1.020618 -1.581615  0.958976  \n",
       "2 -1.431585 -1.682906  0.597719  1.062195  \n",
       "3  1.164548 -0.504903  0.840140  1.287622  \n",
       "4 -1.059149  0.476105  0.034065  1.429494  "
      ]
     },
     "execution_count": 35,
     "metadata": {},
     "output_type": "execute_result"
    }
   ],
   "source": [
    "df_feat.head()\n",
    "\n",
    "# Perfect! Now we have perfectly standardized and scaled dataframe"
   ]
  },
  {
   "cell_type": "markdown",
   "metadata": {},
   "source": [
    "### Features Engineerig with PCA:"
   ]
  },
  {
   "cell_type": "code",
   "execution_count": 36,
   "metadata": {},
   "outputs": [],
   "source": [
    "pca = PCA(n_components = 2) # features extractions with 2 PC"
   ]
  },
  {
   "cell_type": "code",
   "execution_count": 37,
   "metadata": {},
   "outputs": [
    {
     "data": {
      "text/plain": [
       "PCA(copy=True, iterated_power='auto', n_components=2, random_state=None,\n",
       "  svd_solver='auto', tol=0.0, whiten=False)"
      ]
     },
     "execution_count": 37,
     "metadata": {},
     "output_type": "execute_result"
    }
   ],
   "source": [
    "pca.fit(scaled_features) # fitting the scaled features"
   ]
  },
  {
   "cell_type": "code",
   "execution_count": 38,
   "metadata": {},
   "outputs": [],
   "source": [
    "# Transforms the data to first two components\n",
    "x_pca = pca.transform(scaled_features)"
   ]
  },
  {
   "cell_type": "code",
   "execution_count": 39,
   "metadata": {},
   "outputs": [
    {
     "data": {
      "text/plain": [
       "(400, 2)"
      ]
     },
     "execution_count": 39,
     "metadata": {},
     "output_type": "execute_result"
    }
   ],
   "source": [
    "x_pca.shape # CheckPoint!"
   ]
  },
  {
   "cell_type": "code",
   "execution_count": 40,
   "metadata": {},
   "outputs": [
    {
     "data": {
      "text/plain": [
       "numpy.ndarray"
      ]
     },
     "execution_count": 40,
     "metadata": {},
     "output_type": "execute_result"
    }
   ],
   "source": [
    "type(x_pca)"
   ]
  },
  {
   "cell_type": "code",
   "execution_count": 41,
   "metadata": {},
   "outputs": [],
   "source": [
    "df_pca = pd.DataFrame(x_pca) # creating dataframe off of extracted scaled features"
   ]
  },
  {
   "cell_type": "code",
   "execution_count": 42,
   "metadata": {},
   "outputs": [
    {
     "data": {
      "text/html": [
       "<div>\n",
       "<style scoped>\n",
       "    .dataframe tbody tr th:only-of-type {\n",
       "        vertical-align: middle;\n",
       "    }\n",
       "\n",
       "    .dataframe tbody tr th {\n",
       "        vertical-align: top;\n",
       "    }\n",
       "\n",
       "    .dataframe thead th {\n",
       "        text-align: right;\n",
       "    }\n",
       "</style>\n",
       "<table border=\"1\" class=\"dataframe\">\n",
       "  <thead>\n",
       "    <tr style=\"text-align: right;\">\n",
       "      <th></th>\n",
       "      <th>0</th>\n",
       "      <th>1</th>\n",
       "    </tr>\n",
       "  </thead>\n",
       "  <tbody>\n",
       "    <tr>\n",
       "      <th>0</th>\n",
       "      <td>-1.503023</td>\n",
       "      <td>-0.871964</td>\n",
       "    </tr>\n",
       "    <tr>\n",
       "      <th>1</th>\n",
       "      <td>-0.303019</td>\n",
       "      <td>0.980826</td>\n",
       "    </tr>\n",
       "    <tr>\n",
       "      <th>2</th>\n",
       "      <td>-1.718560</td>\n",
       "      <td>-1.492466</td>\n",
       "    </tr>\n",
       "    <tr>\n",
       "      <th>3</th>\n",
       "      <td>-2.114390</td>\n",
       "      <td>2.001712</td>\n",
       "    </tr>\n",
       "    <tr>\n",
       "      <th>4</th>\n",
       "      <td>-1.971729</td>\n",
       "      <td>0.456742</td>\n",
       "    </tr>\n",
       "  </tbody>\n",
       "</table>\n",
       "</div>"
      ],
      "text/plain": [
       "          0         1\n",
       "0 -1.503023 -0.871964\n",
       "1 -0.303019  0.980826\n",
       "2 -1.718560 -1.492466\n",
       "3 -2.114390  2.001712\n",
       "4 -1.971729  0.456742"
      ]
     },
     "execution_count": 42,
     "metadata": {},
     "output_type": "execute_result"
    }
   ],
   "source": [
    "df_pca.head()"
   ]
  },
  {
   "cell_type": "markdown",
   "metadata": {},
   "source": [
    "### My Own Assumption:"
   ]
  },
  {
   "cell_type": "code",
   "execution_count": 43,
   "metadata": {},
   "outputs": [
    {
     "name": "stdout",
     "output_type": "stream",
     "text": [
      "[[53  2]\n",
      " [ 4 61]]\n",
      "classification report:\n",
      "              precision    recall  f1-score   support\n",
      "\n",
      "        -1.0       0.93      0.96      0.95        55\n",
      "         1.0       0.97      0.94      0.95        65\n",
      "\n",
      "   micro avg       0.95      0.95      0.95       120\n",
      "   macro avg       0.95      0.95      0.95       120\n",
      "weighted avg       0.95      0.95      0.95       120\n",
      "\n",
      "Accuracy: 95.000\n"
     ]
    }
   ],
   "source": [
    "# Now that, we have performed EDA, Data visualization, Data Normalization, Features extraction!\n",
    "# Data Scaling and Transformation, we are ready to predict classes off of this final dataframe!\n",
    "\n",
    "# Remeber! First we are going to perdict the classes off of the Normalized data, without PCA and dimentionality reduction\n",
    "# and try to observe how well our classifier has trained just by normalizing the data set!\n",
    "\n",
    "# So let's give it a shot!\n",
    "\n",
    "# for my assumptions what I think would be the best classifier for it is either KNN or Logistic Regression,\n",
    "# and I'll explain it later why!\n",
    "\n",
    "# Lets try KNN first\n",
    "\n",
    "X0 = df.drop('class_label', axis = 1)\n",
    "y0 = df['class_label']\n",
    "\n",
    "X0_train, X0_test, y0_train, y0_test = train_test_split(X0, y0, test_size = 0.3, random_state = 101)\n",
    "\n",
    "knn_model = KNeighborsClassifier(n_neighbors = 5)\n",
    "\n",
    "knn_model.fit(X0_train,y0_train)\n",
    "\n",
    "my_assump_predictions = knn_model.predict(X0_test)\n",
    "\n",
    "print(confusion_matrix(y0_test, my_assump_predictions))\n",
    "print('classification report:')\n",
    "print(classification_report(y0_test, my_assump_predictions))\n",
    "print('Accuracy: {0:.3f}'.format(accuracy_score(y0_test, my_assump_predictions) * 100))\n"
   ]
  },
  {
   "cell_type": "markdown",
   "metadata": {},
   "source": [
    "### 1. Logistic Regression:"
   ]
  },
  {
   "cell_type": "code",
   "execution_count": 44,
   "metadata": {},
   "outputs": [],
   "source": [
    "log_model = LogisticRegression()"
   ]
  },
  {
   "cell_type": "code",
   "execution_count": 46,
   "metadata": {},
   "outputs": [],
   "source": [
    "X = df_feat\n",
    "y = df['class_label']\n",
    "\n",
    "X_train, X_test, y_train, y_test = train_test_split(X, y, test_size = 0.3, random_state = 101)"
   ]
  },
  {
   "cell_type": "code",
   "execution_count": 47,
   "metadata": {},
   "outputs": [
    {
     "name": "stderr",
     "output_type": "stream",
     "text": [
      "/home/umairshah/anaconda3/lib/python3.7/site-packages/sklearn/linear_model/logistic.py:433: FutureWarning: Default solver will be changed to 'lbfgs' in 0.22. Specify a solver to silence this warning.\n",
      "  FutureWarning)\n"
     ]
    },
    {
     "data": {
      "text/plain": [
       "LogisticRegression(C=1.0, class_weight=None, dual=False, fit_intercept=True,\n",
       "          intercept_scaling=1, max_iter=100, multi_class='warn',\n",
       "          n_jobs=None, penalty='l2', random_state=None, solver='warn',\n",
       "          tol=0.0001, verbose=0, warm_start=False)"
      ]
     },
     "execution_count": 47,
     "metadata": {},
     "output_type": "execute_result"
    }
   ],
   "source": [
    "log_model.fit(X_train, y_train)"
   ]
  },
  {
   "cell_type": "code",
   "execution_count": 48,
   "metadata": {},
   "outputs": [],
   "source": [
    "predictions = log_model.predict(X_test)"
   ]
  },
  {
   "cell_type": "code",
   "execution_count": 49,
   "metadata": {},
   "outputs": [
    {
     "name": "stdout",
     "output_type": "stream",
     "text": [
      "[[55  0]\n",
      " [ 0 65]]\n",
      "\n",
      "\n",
      "              precision    recall  f1-score   support\n",
      "\n",
      "        -1.0       1.00      1.00      1.00        55\n",
      "         1.0       1.00      1.00      1.00        65\n",
      "\n",
      "   micro avg       1.00      1.00      1.00       120\n",
      "   macro avg       1.00      1.00      1.00       120\n",
      "weighted avg       1.00      1.00      1.00       120\n",
      "\n",
      "Accuracy: 100.000\n"
     ]
    }
   ],
   "source": [
    "from sklearn.metrics import accuracy_score\n",
    "print(confusion_matrix(y_test, predictions))\n",
    "print('\\n')\n",
    "print(classification_report(y_test, predictions))\n",
    "print('Accuracy: {0:.3f}'.format(accuracy_score(y_test, predictions) * 100))\n",
    "\n",
    "# Have a look at the performace of our classifier, which has been trained on Normalized data set!\n",
    "# It's come up with excellent resutls, which shows our data frame has already trained awesome!"
   ]
  },
  {
   "cell_type": "markdown",
   "metadata": {},
   "source": [
    "### 2. Support Vector Machines:"
   ]
  },
  {
   "cell_type": "code",
   "execution_count": 50,
   "metadata": {},
   "outputs": [],
   "source": [
    "svm = SVC()"
   ]
  },
  {
   "cell_type": "code",
   "execution_count": 51,
   "metadata": {},
   "outputs": [],
   "source": [
    "X1 = df_feat\n",
    "y1 = df['class_label']\n",
    "\n",
    "X1_train, X1_test, y1_train, y1_test = train_test_split(X1, y1, test_size = 0.3, random_state = 101)"
   ]
  },
  {
   "cell_type": "code",
   "execution_count": 52,
   "metadata": {},
   "outputs": [
    {
     "name": "stderr",
     "output_type": "stream",
     "text": [
      "/home/umairshah/anaconda3/lib/python3.7/site-packages/sklearn/svm/base.py:196: FutureWarning: The default value of gamma will change from 'auto' to 'scale' in version 0.22 to account better for unscaled features. Set gamma explicitly to 'auto' or 'scale' to avoid this warning.\n",
      "  \"avoid this warning.\", FutureWarning)\n"
     ]
    },
    {
     "data": {
      "text/plain": [
       "SVC(C=1.0, cache_size=200, class_weight=None, coef0=0.0,\n",
       "  decision_function_shape='ovr', degree=3, gamma='auto_deprecated',\n",
       "  kernel='rbf', max_iter=-1, probability=False, random_state=None,\n",
       "  shrinking=True, tol=0.001, verbose=False)"
      ]
     },
     "execution_count": 52,
     "metadata": {},
     "output_type": "execute_result"
    }
   ],
   "source": [
    "svm.fit(X1_train, y1_train)"
   ]
  },
  {
   "cell_type": "code",
   "execution_count": 53,
   "metadata": {},
   "outputs": [],
   "source": [
    "predictions_1 = svm.predict(X1_test)"
   ]
  },
  {
   "cell_type": "code",
   "execution_count": 54,
   "metadata": {},
   "outputs": [
    {
     "name": "stdout",
     "output_type": "stream",
     "text": [
      "[[55  0]\n",
      " [ 0 65]]\n",
      "\n",
      "\n",
      "              precision    recall  f1-score   support\n",
      "\n",
      "        -1.0       1.00      1.00      1.00        55\n",
      "         1.0       1.00      1.00      1.00        65\n",
      "\n",
      "   micro avg       1.00      1.00      1.00       120\n",
      "   macro avg       1.00      1.00      1.00       120\n",
      "weighted avg       1.00      1.00      1.00       120\n",
      "\n",
      "Accuracy: 100.000\n"
     ]
    }
   ],
   "source": [
    "print(confusion_matrix(y1_test, predictions_1))\n",
    "print('\\n')\n",
    "print(classification_report(y1_test, predictions_1))\n",
    "print('Accuracy: {0:.3f}'.format(accuracy_score(y1_test, predictions_1) * 100))"
   ]
  },
  {
   "cell_type": "code",
   "execution_count": 55,
   "metadata": {},
   "outputs": [],
   "source": [
    "# Of all classes we predicted"
   ]
  },
  {
   "cell_type": "markdown",
   "metadata": {},
   "source": [
    "### 3. Classification with Dimetionality Reduction:"
   ]
  },
  {
   "cell_type": "code",
   "execution_count": 56,
   "metadata": {},
   "outputs": [],
   "source": [
    "# Now lets try to train our model, with feature Engineered data set we made earlier.\n",
    "# We reduced the dimentionality of our features, and extraced our the features that doesn't really impact our\n",
    "# target class. Let's go ahead and grab that data set"
   ]
  },
  {
   "cell_type": "code",
   "execution_count": 57,
   "metadata": {},
   "outputs": [
    {
     "data": {
      "text/html": [
       "<div>\n",
       "<style scoped>\n",
       "    .dataframe tbody tr th:only-of-type {\n",
       "        vertical-align: middle;\n",
       "    }\n",
       "\n",
       "    .dataframe tbody tr th {\n",
       "        vertical-align: top;\n",
       "    }\n",
       "\n",
       "    .dataframe thead th {\n",
       "        text-align: right;\n",
       "    }\n",
       "</style>\n",
       "<table border=\"1\" class=\"dataframe\">\n",
       "  <thead>\n",
       "    <tr style=\"text-align: right;\">\n",
       "      <th></th>\n",
       "      <th>0</th>\n",
       "      <th>1</th>\n",
       "    </tr>\n",
       "  </thead>\n",
       "  <tbody>\n",
       "    <tr>\n",
       "      <th>0</th>\n",
       "      <td>-1.503023</td>\n",
       "      <td>-0.871964</td>\n",
       "    </tr>\n",
       "    <tr>\n",
       "      <th>1</th>\n",
       "      <td>-0.303019</td>\n",
       "      <td>0.980826</td>\n",
       "    </tr>\n",
       "    <tr>\n",
       "      <th>2</th>\n",
       "      <td>-1.718560</td>\n",
       "      <td>-1.492466</td>\n",
       "    </tr>\n",
       "    <tr>\n",
       "      <th>3</th>\n",
       "      <td>-2.114390</td>\n",
       "      <td>2.001712</td>\n",
       "    </tr>\n",
       "    <tr>\n",
       "      <th>4</th>\n",
       "      <td>-1.971729</td>\n",
       "      <td>0.456742</td>\n",
       "    </tr>\n",
       "  </tbody>\n",
       "</table>\n",
       "</div>"
      ],
      "text/plain": [
       "          0         1\n",
       "0 -1.503023 -0.871964\n",
       "1 -0.303019  0.980826\n",
       "2 -1.718560 -1.492466\n",
       "3 -2.114390  2.001712\n",
       "4 -1.971729  0.456742"
      ]
     },
     "execution_count": 57,
     "metadata": {},
     "output_type": "execute_result"
    }
   ],
   "source": [
    "df_pca.head() # there it is. The dataframe with the features that associate our target class the most!"
   ]
  },
  {
   "cell_type": "code",
   "execution_count": 58,
   "metadata": {},
   "outputs": [
    {
     "data": {
      "text/plain": [
       "(400, 2)"
      ]
     },
     "execution_count": 58,
     "metadata": {},
     "output_type": "execute_result"
    }
   ],
   "source": [
    "x_pca.shape"
   ]
  },
  {
   "cell_type": "code",
   "execution_count": 59,
   "metadata": {},
   "outputs": [
    {
     "data": {
      "text/plain": [
       "Text(0, 0.5, 'Second Principle Component')"
      ]
     },
     "execution_count": 59,
     "metadata": {},
     "output_type": "execute_result"
    },
    {
     "data": {
      "image/png": "[encoded data removed]",
      "text/plain": [
       "<Figure size 576x432 with 1 Axes>"
      ]
     },
     "metadata": {
      "needs_background": "light"
     },
     "output_type": "display_data"
    }
   ],
   "source": [
    "plt.figure(figsize = (8,6))\n",
    "plt.scatter(x_pca[:,0], x_pca[:,1], c = df_feat['class_label'], cmap = 'plasma')\n",
    "plt.xlabel('First Principle Component')\n",
    "plt.ylabel('Second Principle Component')\n",
    "\n",
    "# clearly using the two components we can easily seperate these two classes\n",
    "# the problem is we don't know what these two components are!\n",
    "# I'll tell you what, It's gonna come up with insane results!\n",
    "# Can't wait to see the confusion matrix, and classification report\n",
    "# Let's do it!"
   ]
  },
  {
   "cell_type": "code",
   "execution_count": 60,
   "metadata": {},
   "outputs": [],
   "source": [
    "X2 = df_pca\n",
    "y2 = df['class_label']\n",
    "\n",
    "X2_train, X2_test, y2_train, y2_test = train_test_split(X2, y2, test_size = 0.3, random_state = 101)"
   ]
  },
  {
   "cell_type": "code",
   "execution_count": 61,
   "metadata": {},
   "outputs": [
    {
     "name": "stderr",
     "output_type": "stream",
     "text": [
      "/home/umairshah/anaconda3/lib/python3.7/site-packages/sklearn/linear_model/logistic.py:433: FutureWarning: Default solver will be changed to 'lbfgs' in 0.22. Specify a solver to silence this warning.\n",
      "  FutureWarning)\n"
     ]
    },
    {
     "data": {
      "text/plain": [
       "LogisticRegression(C=1.0, class_weight=None, dual=False, fit_intercept=True,\n",
       "          intercept_scaling=1, max_iter=100, multi_class='warn',\n",
       "          n_jobs=None, penalty='l2', random_state=None, solver='warn',\n",
       "          tol=0.0001, verbose=0, warm_start=False)"
      ]
     },
     "execution_count": 61,
     "metadata": {},
     "output_type": "execute_result"
    }
   ],
   "source": [
    "log_model.fit(X2,y2)"
   ]
  },
  {
   "cell_type": "code",
   "execution_count": 62,
   "metadata": {},
   "outputs": [],
   "source": [
    "predictions_2 = log_model.predict(X2_test)"
   ]
  },
  {
   "cell_type": "code",
   "execution_count": 63,
   "metadata": {},
   "outputs": [
    {
     "name": "stdout",
     "output_type": "stream",
     "text": [
      "[[53  2]\n",
      " [ 3 62]]\n",
      "\n",
      "\n",
      "              precision    recall  f1-score   support\n",
      "\n",
      "        -1.0       0.95      0.96      0.95        55\n",
      "         1.0       0.97      0.95      0.96        65\n",
      "\n",
      "   micro avg       0.96      0.96      0.96       120\n",
      "   macro avg       0.96      0.96      0.96       120\n",
      "weighted avg       0.96      0.96      0.96       120\n",
      "\n",
      "Accuracy: 95.833 \n"
     ]
    }
   ],
   "source": [
    "print(confusion_matrix(y2_test, predictions_2))\n",
    "print('\\n')\n",
    "print(classification_report(y2_test, predictions_2))\n",
    "print('Accuracy: {0:.3f} '.format(accuracy_score(y2_test, predictions_2) * 100))\n",
    "\n",
    "# Have a look at the accuracy of our classifier! It's close to 96%\n",
    "# Lets try to find out, if we can improve it a bit more!"
   ]
  },
  {
   "cell_type": "markdown",
   "metadata": {},
   "source": [
    "### 3. K-Nearest Neighbors:"
   ]
  },
  {
   "cell_type": "code",
   "execution_count": 64,
   "metadata": {},
   "outputs": [],
   "source": [
    "X2 = df_feat\n",
    "y2 = df['class_label']"
   ]
  },
  {
   "cell_type": "code",
   "execution_count": 65,
   "metadata": {},
   "outputs": [],
   "source": [
    "X2_train, X2_test, y2_train, y2_test = train_test_split(scaled_features, y2, test_size = 0.3, random_state = 101)"
   ]
  },
  {
   "cell_type": "code",
   "execution_count": 66,
   "metadata": {},
   "outputs": [],
   "source": [
    "knn = KNeighborsClassifier(n_neighbors=5)"
   ]
  },
  {
   "cell_type": "code",
   "execution_count": 67,
   "metadata": {},
   "outputs": [
    {
     "data": {
      "text/plain": [
       "KNeighborsClassifier(algorithm='auto', leaf_size=30, metric='minkowski',\n",
       "           metric_params=None, n_jobs=None, n_neighbors=5, p=2,\n",
       "           weights='uniform')"
      ]
     },
     "execution_count": 67,
     "metadata": {},
     "output_type": "execute_result"
    }
   ],
   "source": [
    "knn.fit(X2_train, y2_train)"
   ]
  },
  {
   "cell_type": "code",
   "execution_count": 68,
   "metadata": {},
   "outputs": [],
   "source": [
    "predictions_2 = knn.predict(X2_test)"
   ]
  },
  {
   "cell_type": "code",
   "execution_count": 69,
   "metadata": {},
   "outputs": [],
   "source": [
    "# let's evaluate our knn model"
   ]
  },
  {
   "cell_type": "code",
   "execution_count": 70,
   "metadata": {},
   "outputs": [
    {
     "name": "stdout",
     "output_type": "stream",
     "text": [
      "[[55  0]\n",
      " [ 0 65]]\n",
      "classification report:\n",
      "              precision    recall  f1-score   support\n",
      "\n",
      "        -1.0       1.00      1.00      1.00        55\n",
      "         1.0       1.00      1.00      1.00        65\n",
      "\n",
      "   micro avg       1.00      1.00      1.00       120\n",
      "   macro avg       1.00      1.00      1.00       120\n",
      "weighted avg       1.00      1.00      1.00       120\n",
      "\n",
      "Accuracy: 100.000\n"
     ]
    }
   ],
   "source": [
    "print(confusion_matrix(y_test, predictions_2))\n",
    "print('classification report:')\n",
    "print(classification_report(y_test, predictions_2))\n",
    "print('Accuracy: {0:.3f}'.format(accuracy_score(y2_test, predictions_2) * 100))\n",
    "\n",
    "# Woowww!! Accuracy, up to perfection!"
   ]
  },
  {
   "cell_type": "code",
   "execution_count": 71,
   "metadata": {},
   "outputs": [],
   "source": [
    "import pickle"
   ]
  },
  {
   "cell_type": "code",
   "execution_count": 74,
   "metadata": {},
   "outputs": [],
   "source": [
    "with open('LogRegression', 'wb') as f:\n",
    "    pickle.dump(log_model, f)"
   ]
  },
  {
   "cell_type": "code",
   "execution_count": 79,
   "metadata": {},
   "outputs": [],
   "source": [
    "with open('ranked_correlations.csv', 'w') as file:\n",
    "    thewriter = csv.writer(file)\n",
    "    \n",
    "    thewriter.writerow(ranked_correlations)"
   ]
  },
  {
   "cell_type": "code",
   "execution_count": 83,
   "metadata": {},
   "outputs": [
    {
     "data": {
      "text/plain": [
       "[1.0,\n",
       " 0.6606179222510381,\n",
       " 0.6076228345496761,\n",
       " 0.5432950594605451,\n",
       " 0.43363644436420123,\n",
       " 0.22414719421524462,\n",
       " 0.1756121918018469,\n",
       " 0.09490706714608717,\n",
       " 0.03877543484999283,\n",
       " -0.0074144251226751475,\n",
       " -0.25200734226009575]"
      ]
     },
     "execution_count": 83,
     "metadata": {},
     "output_type": "execute_result"
    }
   ],
   "source": [
    "ranked_correlations"
   ]
  },
  {
   "cell_type": "code",
   "execution_count": null,
   "metadata": {},
   "outputs": [],
   "source": []
  }
 ],
 "metadata": {
  "kernelspec": {
   "display_name": "Python 3",
   "language": "python",
   "name": "python3"
  },
  "language_info": {
   "codemirror_mode": {
    "name": "ipython",
    "version": 3
   },
   "file_extension": ".py",
   "mimetype": "text/x-python",
   "name": "python",
   "nbconvert_exporter": "python",
   "pygments_lexer": "ipython3",
   "version": "3.7.3"
  }
 },
 "nbformat": 4,
 "nbformat_minor": 2
}
