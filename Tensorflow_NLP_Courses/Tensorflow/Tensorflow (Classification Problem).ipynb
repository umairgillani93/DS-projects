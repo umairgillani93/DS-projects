{
 "cells": [
  {
   "cell_type": "markdown",
   "metadata": {},
   "source": [
    "## Classification with Tensorflow:\n",
    "\n",
    "Previously, in our **Regression** based problem, we were generating artificial data, to feed in to our Neural Network classifier, in order to predict the results. Now in this **Classification** based problem we'll be using __pima-indians-diabetes-dataset__ for our predictive analysis with Tensorflow.\n",
    "\n",
    "We'll be using __tf.estimator API__, and we'll also be showing how to use __Categorical__ and __Continuous__ features columns. A lot of real life datasets, aren't just gonna have pure __Continuous__ numerical features, instead they may have __Categorical__ features. So, we're gonna show you how to deal with those using the __tf.estimator API__, and then we'll also show you how you can use the __tf.estimator API__ to switch the models between like a __Linear Classifier__ to a __Dense Neural Network Classifier__.\n",
    "\n",
    "So, let's go ahead and GET STARTED!!"
   ]
  },
  {
   "cell_type": "code",
   "execution_count": 31,
   "metadata": {},
   "outputs": [],
   "source": [
    "import pandas as pd"
   ]
  },
  {
   "cell_type": "code",
   "execution_count": 35,
   "metadata": {},
   "outputs": [
    {
     "data": {
      "text/plain": [
       "'/home/umairshah'"
      ]
     },
     "execution_count": 35,
     "metadata": {},
     "output_type": "execute_result"
    }
   ],
   "source": [
    "pwd # reports back the current working directory!"
   ]
  },
  {
   "cell_type": "code",
   "execution_count": 36,
   "metadata": {},
   "outputs": [],
   "source": [
    "diabetes = pd.read_csv('/home/umairshah/Datasets/Pima/diabetes.csv')"
   ]
  },
  {
   "cell_type": "code",
   "execution_count": 37,
   "metadata": {},
   "outputs": [
    {
     "data": {
      "text/html": [
       "<div>\n",
       "<style scoped>\n",
       "    .dataframe tbody tr th:only-of-type {\n",
       "        vertical-align: middle;\n",
       "    }\n",
       "\n",
       "    .dataframe tbody tr th {\n",
       "        vertical-align: top;\n",
       "    }\n",
       "\n",
       "    .dataframe thead th {\n",
       "        text-align: right;\n",
       "    }\n",
       "</style>\n",
       "<table border=\"1\" class=\"dataframe\">\n",
       "  <thead>\n",
       "    <tr style=\"text-align: right;\">\n",
       "      <th></th>\n",
       "      <th>Pregnancies</th>\n",
       "      <th>Glucose</th>\n",
       "      <th>BloodPressure</th>\n",
       "      <th>SkinThickness</th>\n",
       "      <th>Insulin</th>\n",
       "      <th>BMI</th>\n",
       "      <th>DiabetesPedigreeFunction</th>\n",
       "      <th>Age</th>\n",
       "      <th>Outcome</th>\n",
       "    </tr>\n",
       "  </thead>\n",
       "  <tbody>\n",
       "    <tr>\n",
       "      <th>0</th>\n",
       "      <td>6</td>\n",
       "      <td>148</td>\n",
       "      <td>72</td>\n",
       "      <td>35</td>\n",
       "      <td>0</td>\n",
       "      <td>33.6</td>\n",
       "      <td>0.627</td>\n",
       "      <td>50</td>\n",
       "      <td>1</td>\n",
       "    </tr>\n",
       "    <tr>\n",
       "      <th>1</th>\n",
       "      <td>1</td>\n",
       "      <td>85</td>\n",
       "      <td>66</td>\n",
       "      <td>29</td>\n",
       "      <td>0</td>\n",
       "      <td>26.6</td>\n",
       "      <td>0.351</td>\n",
       "      <td>31</td>\n",
       "      <td>0</td>\n",
       "    </tr>\n",
       "    <tr>\n",
       "      <th>2</th>\n",
       "      <td>8</td>\n",
       "      <td>183</td>\n",
       "      <td>64</td>\n",
       "      <td>0</td>\n",
       "      <td>0</td>\n",
       "      <td>23.3</td>\n",
       "      <td>0.672</td>\n",
       "      <td>32</td>\n",
       "      <td>1</td>\n",
       "    </tr>\n",
       "    <tr>\n",
       "      <th>3</th>\n",
       "      <td>1</td>\n",
       "      <td>89</td>\n",
       "      <td>66</td>\n",
       "      <td>23</td>\n",
       "      <td>94</td>\n",
       "      <td>28.1</td>\n",
       "      <td>0.167</td>\n",
       "      <td>21</td>\n",
       "      <td>0</td>\n",
       "    </tr>\n",
       "    <tr>\n",
       "      <th>4</th>\n",
       "      <td>0</td>\n",
       "      <td>137</td>\n",
       "      <td>40</td>\n",
       "      <td>35</td>\n",
       "      <td>168</td>\n",
       "      <td>43.1</td>\n",
       "      <td>2.288</td>\n",
       "      <td>33</td>\n",
       "      <td>1</td>\n",
       "    </tr>\n",
       "  </tbody>\n",
       "</table>\n",
       "</div>"
      ],
      "text/plain": [
       "   Pregnancies  Glucose  BloodPressure  SkinThickness  Insulin   BMI  \\\n",
       "0            6      148             72             35        0  33.6   \n",
       "1            1       85             66             29        0  26.6   \n",
       "2            8      183             64              0        0  23.3   \n",
       "3            1       89             66             23       94  28.1   \n",
       "4            0      137             40             35      168  43.1   \n",
       "\n",
       "   DiabetesPedigreeFunction  Age  Outcome  \n",
       "0                     0.627   50        1  \n",
       "1                     0.351   31        0  \n",
       "2                     0.672   32        1  \n",
       "3                     0.167   21        0  \n",
       "4                     2.288   33        1  "
      ]
     },
     "execution_count": 37,
     "metadata": {},
     "output_type": "execute_result"
    }
   ],
   "source": [
    "diabetes.head()"
   ]
  },
  {
   "cell_type": "code",
   "execution_count": 38,
   "metadata": {},
   "outputs": [],
   "source": [
    "diabetes.rename(columns = {'Outcome':'Class'}, inplace = True)"
   ]
  },
  {
   "cell_type": "code",
   "execution_count": 39,
   "metadata": {
    "scrolled": true
   },
   "outputs": [
    {
     "data": {
      "text/html": [
       "<div>\n",
       "<style scoped>\n",
       "    .dataframe tbody tr th:only-of-type {\n",
       "        vertical-align: middle;\n",
       "    }\n",
       "\n",
       "    .dataframe tbody tr th {\n",
       "        vertical-align: top;\n",
       "    }\n",
       "\n",
       "    .dataframe thead th {\n",
       "        text-align: right;\n",
       "    }\n",
       "</style>\n",
       "<table border=\"1\" class=\"dataframe\">\n",
       "  <thead>\n",
       "    <tr style=\"text-align: right;\">\n",
       "      <th></th>\n",
       "      <th>Pregnancies</th>\n",
       "      <th>Glucose</th>\n",
       "      <th>BloodPressure</th>\n",
       "      <th>SkinThickness</th>\n",
       "      <th>Insulin</th>\n",
       "      <th>BMI</th>\n",
       "      <th>DiabetesPedigreeFunction</th>\n",
       "      <th>Age</th>\n",
       "      <th>Class</th>\n",
       "    </tr>\n",
       "  </thead>\n",
       "  <tbody>\n",
       "    <tr>\n",
       "      <th>0</th>\n",
       "      <td>6</td>\n",
       "      <td>148</td>\n",
       "      <td>72</td>\n",
       "      <td>35</td>\n",
       "      <td>0</td>\n",
       "      <td>33.6</td>\n",
       "      <td>0.627</td>\n",
       "      <td>50</td>\n",
       "      <td>1</td>\n",
       "    </tr>\n",
       "    <tr>\n",
       "      <th>1</th>\n",
       "      <td>1</td>\n",
       "      <td>85</td>\n",
       "      <td>66</td>\n",
       "      <td>29</td>\n",
       "      <td>0</td>\n",
       "      <td>26.6</td>\n",
       "      <td>0.351</td>\n",
       "      <td>31</td>\n",
       "      <td>0</td>\n",
       "    </tr>\n",
       "    <tr>\n",
       "      <th>2</th>\n",
       "      <td>8</td>\n",
       "      <td>183</td>\n",
       "      <td>64</td>\n",
       "      <td>0</td>\n",
       "      <td>0</td>\n",
       "      <td>23.3</td>\n",
       "      <td>0.672</td>\n",
       "      <td>32</td>\n",
       "      <td>1</td>\n",
       "    </tr>\n",
       "    <tr>\n",
       "      <th>3</th>\n",
       "      <td>1</td>\n",
       "      <td>89</td>\n",
       "      <td>66</td>\n",
       "      <td>23</td>\n",
       "      <td>94</td>\n",
       "      <td>28.1</td>\n",
       "      <td>0.167</td>\n",
       "      <td>21</td>\n",
       "      <td>0</td>\n",
       "    </tr>\n",
       "    <tr>\n",
       "      <th>4</th>\n",
       "      <td>0</td>\n",
       "      <td>137</td>\n",
       "      <td>40</td>\n",
       "      <td>35</td>\n",
       "      <td>168</td>\n",
       "      <td>43.1</td>\n",
       "      <td>2.288</td>\n",
       "      <td>33</td>\n",
       "      <td>1</td>\n",
       "    </tr>\n",
       "  </tbody>\n",
       "</table>\n",
       "</div>"
      ],
      "text/plain": [
       "   Pregnancies  Glucose  BloodPressure  SkinThickness  Insulin   BMI  \\\n",
       "0            6      148             72             35        0  33.6   \n",
       "1            1       85             66             29        0  26.6   \n",
       "2            8      183             64              0        0  23.3   \n",
       "3            1       89             66             23       94  28.1   \n",
       "4            0      137             40             35      168  43.1   \n",
       "\n",
       "   DiabetesPedigreeFunction  Age  Class  \n",
       "0                     0.627   50      1  \n",
       "1                     0.351   31      0  \n",
       "2                     0.672   32      1  \n",
       "3                     0.167   21      0  \n",
       "4                     2.288   33      1  "
      ]
     },
     "execution_count": 39,
     "metadata": {},
     "output_type": "execute_result"
    }
   ],
   "source": [
    "diabetes.head()"
   ]
  },
  {
   "cell_type": "markdown",
   "metadata": {},
   "source": [
    "## Data Normalization:"
   ]
  },
  {
   "cell_type": "code",
   "execution_count": 40,
   "metadata": {},
   "outputs": [
    {
     "data": {
      "text/plain": [
       "Index(['Pregnancies', 'Glucose', 'BloodPressure', 'SkinThickness', 'Insulin',\n",
       "       'BMI', 'DiabetesPedigreeFunction', 'Age', 'Class'],\n",
       "      dtype='object')"
      ]
     },
     "execution_count": 40,
     "metadata": {},
     "output_type": "execute_result"
    }
   ],
   "source": [
    "diabetes.columns"
   ]
  },
  {
   "cell_type": "code",
   "execution_count": 41,
   "metadata": {},
   "outputs": [],
   "source": [
    "cols_to_norm = ['Pregnancies', 'Glucose', 'BloodPressure', 'SkinThickness', 'Insulin',\n",
    "       'BMI', 'DiabetesPedigreeFunction']"
   ]
  },
  {
   "cell_type": "code",
   "execution_count": 43,
   "metadata": {},
   "outputs": [],
   "source": [
    "# Handy way to normalizing the columns!\n",
    "\n",
    "diabetes[cols_to_norm] = diabetes[cols_to_norm].apply(lambda x: (x - x.min()) / (x.max() - x.min()))"
   ]
  },
  {
   "cell_type": "code",
   "execution_count": 44,
   "metadata": {},
   "outputs": [
    {
     "data": {
      "text/html": [
       "<div>\n",
       "<style scoped>\n",
       "    .dataframe tbody tr th:only-of-type {\n",
       "        vertical-align: middle;\n",
       "    }\n",
       "\n",
       "    .dataframe tbody tr th {\n",
       "        vertical-align: top;\n",
       "    }\n",
       "\n",
       "    .dataframe thead th {\n",
       "        text-align: right;\n",
       "    }\n",
       "</style>\n",
       "<table border=\"1\" class=\"dataframe\">\n",
       "  <thead>\n",
       "    <tr style=\"text-align: right;\">\n",
       "      <th></th>\n",
       "      <th>Pregnancies</th>\n",
       "      <th>Glucose</th>\n",
       "      <th>BloodPressure</th>\n",
       "      <th>SkinThickness</th>\n",
       "      <th>Insulin</th>\n",
       "      <th>BMI</th>\n",
       "      <th>DiabetesPedigreeFunction</th>\n",
       "      <th>Age</th>\n",
       "      <th>Class</th>\n",
       "    </tr>\n",
       "  </thead>\n",
       "  <tbody>\n",
       "    <tr>\n",
       "      <th>0</th>\n",
       "      <td>0.352941</td>\n",
       "      <td>0.743719</td>\n",
       "      <td>0.590164</td>\n",
       "      <td>0.353535</td>\n",
       "      <td>0.000000</td>\n",
       "      <td>0.500745</td>\n",
       "      <td>0.234415</td>\n",
       "      <td>50</td>\n",
       "      <td>1</td>\n",
       "    </tr>\n",
       "    <tr>\n",
       "      <th>1</th>\n",
       "      <td>0.058824</td>\n",
       "      <td>0.427136</td>\n",
       "      <td>0.540984</td>\n",
       "      <td>0.292929</td>\n",
       "      <td>0.000000</td>\n",
       "      <td>0.396423</td>\n",
       "      <td>0.116567</td>\n",
       "      <td>31</td>\n",
       "      <td>0</td>\n",
       "    </tr>\n",
       "    <tr>\n",
       "      <th>2</th>\n",
       "      <td>0.470588</td>\n",
       "      <td>0.919598</td>\n",
       "      <td>0.524590</td>\n",
       "      <td>0.000000</td>\n",
       "      <td>0.000000</td>\n",
       "      <td>0.347243</td>\n",
       "      <td>0.253629</td>\n",
       "      <td>32</td>\n",
       "      <td>1</td>\n",
       "    </tr>\n",
       "    <tr>\n",
       "      <th>3</th>\n",
       "      <td>0.058824</td>\n",
       "      <td>0.447236</td>\n",
       "      <td>0.540984</td>\n",
       "      <td>0.232323</td>\n",
       "      <td>0.111111</td>\n",
       "      <td>0.418778</td>\n",
       "      <td>0.038002</td>\n",
       "      <td>21</td>\n",
       "      <td>0</td>\n",
       "    </tr>\n",
       "    <tr>\n",
       "      <th>4</th>\n",
       "      <td>0.000000</td>\n",
       "      <td>0.688442</td>\n",
       "      <td>0.327869</td>\n",
       "      <td>0.353535</td>\n",
       "      <td>0.198582</td>\n",
       "      <td>0.642325</td>\n",
       "      <td>0.943638</td>\n",
       "      <td>33</td>\n",
       "      <td>1</td>\n",
       "    </tr>\n",
       "  </tbody>\n",
       "</table>\n",
       "</div>"
      ],
      "text/plain": [
       "   Pregnancies   Glucose  BloodPressure  SkinThickness   Insulin       BMI  \\\n",
       "0     0.352941  0.743719       0.590164       0.353535  0.000000  0.500745   \n",
       "1     0.058824  0.427136       0.540984       0.292929  0.000000  0.396423   \n",
       "2     0.470588  0.919598       0.524590       0.000000  0.000000  0.347243   \n",
       "3     0.058824  0.447236       0.540984       0.232323  0.111111  0.418778   \n",
       "4     0.000000  0.688442       0.327869       0.353535  0.198582  0.642325   \n",
       "\n",
       "   DiabetesPedigreeFunction  Age  Class  \n",
       "0                  0.234415   50      1  \n",
       "1                  0.116567   31      0  \n",
       "2                  0.253629   32      1  \n",
       "3                  0.038002   21      0  \n",
       "4                  0.943638   33      1  "
      ]
     },
     "execution_count": 44,
     "metadata": {},
     "output_type": "execute_result"
    }
   ],
   "source": [
    "diabetes.head()"
   ]
  },
  {
   "cell_type": "code",
   "execution_count": 45,
   "metadata": {},
   "outputs": [],
   "source": [
    "import tensorflow as tf"
   ]
  },
  {
   "cell_type": "code",
   "execution_count": 62,
   "metadata": {},
   "outputs": [],
   "source": [
    "# Transforming them all into Numeric columns!\n",
    "\n",
    "num_preg = tf.feature_column.numeric_column('Pregnancies')\n",
    "plasma_gluc = tf.feature_column.numeric_column('Glucose')\n",
    "dias_press = tf.feature_column.numeric_column('BloodPressure')\n",
    "skin_thick = tf.feature_column.numeric_column('SkinThickness')\n",
    "insulin = tf.feature_column.numeric_column('Insulin')\n",
    "bmi = tf.feature_column.numeric_column('BMI')\n",
    "diabetes_pedigree = tf.feature_column.numeric_column('DiabetesPedigreeFunction')\n",
    "age = tf.feature_column.numeric_column('Age')"
   ]
  },
  {
   "cell_type": "code",
   "execution_count": 53,
   "metadata": {},
   "outputs": [],
   "source": [
    "# Trasnformating 'Class' and 'Age' to Categorical columns usig 'Hash bucket'\n",
    "\n",
    "group = tf.feature_column.categorical_column_with_vocabulary_list('Group', ['A','B','C','D'])"
   ]
  },
  {
   "cell_type": "code",
   "execution_count": 57,
   "metadata": {},
   "outputs": [],
   "source": [
    "# Converting Continuous column to a Categorical column!\n",
    "# Let's first Visualize this\n",
    "\n",
    "\n",
    "import matplotlib.pyplot as plt\n",
    "%matplotlib inline"
   ]
  },
  {
   "cell_type": "code",
   "execution_count": 76,
   "metadata": {
    "scrolled": true
   },
   "outputs": [
    {
     "data": {
      "text/plain": [
       "<matplotlib.axes._subplots.AxesSubplot at 0x7fc0ed552e10>"
      ]
     },
     "execution_count": 76,
     "metadata": {},
     "output_type": "execute_result"
    },
    {
     "data": {
      "image/png": "[encoded data removed]",
      "text/plain": [
       "<Figure size 864x288 with 1 Axes>"
      ]
     },
     "metadata": {
      "needs_background": "light"
     },
     "output_type": "display_data"
    }
   ],
   "source": [
    "plt.figure(figsize = (12,4))\n",
    "diabetes['Age'].hist(bins = 20)"
   ]
  },
  {
   "cell_type": "code",
   "execution_count": 61,
   "metadata": {},
   "outputs": [],
   "source": [
    "# Bucketing a Continuous Value to a Categorical Value\n",
    "\n",
    "age_bucket = tf.feature_column.bucketized_column(age, boundaries = [20,30,40,50,60,70,80])\n",
    "\n",
    " # -> pass in the continuous value as argument, and set the boudaries 20-30, 30-40 and so on.. for different buckets"
   ]
  },
  {
   "cell_type": "code",
   "execution_count": 82,
   "metadata": {},
   "outputs": [],
   "source": [
    "feat_cols = [num_preg, plasma_gluc, dias_press, skin_thick, insulin, bmi, diabetes_pedigree, age_bucket]"
   ]
  },
  {
   "cell_type": "code",
   "execution_count": 83,
   "metadata": {},
   "outputs": [],
   "source": [
    "# TRAIN TEST SPLIT:\n",
    "\n",
    "x_data = diabetes.drop('Class', axis = 1)\n",
    "labels = diabetes['Class']"
   ]
  },
  {
   "cell_type": "code",
   "execution_count": 84,
   "metadata": {},
   "outputs": [
    {
     "data": {
      "text/html": [
       "<div>\n",
       "<style scoped>\n",
       "    .dataframe tbody tr th:only-of-type {\n",
       "        vertical-align: middle;\n",
       "    }\n",
       "\n",
       "    .dataframe tbody tr th {\n",
       "        vertical-align: top;\n",
       "    }\n",
       "\n",
       "    .dataframe thead th {\n",
       "        text-align: right;\n",
       "    }\n",
       "</style>\n",
       "<table border=\"1\" class=\"dataframe\">\n",
       "  <thead>\n",
       "    <tr style=\"text-align: right;\">\n",
       "      <th></th>\n",
       "      <th>Pregnancies</th>\n",
       "      <th>Glucose</th>\n",
       "      <th>BloodPressure</th>\n",
       "      <th>SkinThickness</th>\n",
       "      <th>Insulin</th>\n",
       "      <th>BMI</th>\n",
       "      <th>DiabetesPedigreeFunction</th>\n",
       "      <th>Age</th>\n",
       "    </tr>\n",
       "  </thead>\n",
       "  <tbody>\n",
       "    <tr>\n",
       "      <th>0</th>\n",
       "      <td>0.352941</td>\n",
       "      <td>0.743719</td>\n",
       "      <td>0.590164</td>\n",
       "      <td>0.353535</td>\n",
       "      <td>0.000000</td>\n",
       "      <td>0.500745</td>\n",
       "      <td>0.234415</td>\n",
       "      <td>50</td>\n",
       "    </tr>\n",
       "    <tr>\n",
       "      <th>1</th>\n",
       "      <td>0.058824</td>\n",
       "      <td>0.427136</td>\n",
       "      <td>0.540984</td>\n",
       "      <td>0.292929</td>\n",
       "      <td>0.000000</td>\n",
       "      <td>0.396423</td>\n",
       "      <td>0.116567</td>\n",
       "      <td>31</td>\n",
       "    </tr>\n",
       "    <tr>\n",
       "      <th>2</th>\n",
       "      <td>0.470588</td>\n",
       "      <td>0.919598</td>\n",
       "      <td>0.524590</td>\n",
       "      <td>0.000000</td>\n",
       "      <td>0.000000</td>\n",
       "      <td>0.347243</td>\n",
       "      <td>0.253629</td>\n",
       "      <td>32</td>\n",
       "    </tr>\n",
       "    <tr>\n",
       "      <th>3</th>\n",
       "      <td>0.058824</td>\n",
       "      <td>0.447236</td>\n",
       "      <td>0.540984</td>\n",
       "      <td>0.232323</td>\n",
       "      <td>0.111111</td>\n",
       "      <td>0.418778</td>\n",
       "      <td>0.038002</td>\n",
       "      <td>21</td>\n",
       "    </tr>\n",
       "    <tr>\n",
       "      <th>4</th>\n",
       "      <td>0.000000</td>\n",
       "      <td>0.688442</td>\n",
       "      <td>0.327869</td>\n",
       "      <td>0.353535</td>\n",
       "      <td>0.198582</td>\n",
       "      <td>0.642325</td>\n",
       "      <td>0.943638</td>\n",
       "      <td>33</td>\n",
       "    </tr>\n",
       "  </tbody>\n",
       "</table>\n",
       "</div>"
      ],
      "text/plain": [
       "   Pregnancies   Glucose  BloodPressure  SkinThickness   Insulin       BMI  \\\n",
       "0     0.352941  0.743719       0.590164       0.353535  0.000000  0.500745   \n",
       "1     0.058824  0.427136       0.540984       0.292929  0.000000  0.396423   \n",
       "2     0.470588  0.919598       0.524590       0.000000  0.000000  0.347243   \n",
       "3     0.058824  0.447236       0.540984       0.232323  0.111111  0.418778   \n",
       "4     0.000000  0.688442       0.327869       0.353535  0.198582  0.642325   \n",
       "\n",
       "   DiabetesPedigreeFunction  Age  \n",
       "0                  0.234415   50  \n",
       "1                  0.116567   31  \n",
       "2                  0.253629   32  \n",
       "3                  0.038002   21  \n",
       "4                  0.943638   33  "
      ]
     },
     "execution_count": 84,
     "metadata": {},
     "output_type": "execute_result"
    }
   ],
   "source": [
    "x_data.head()"
   ]
  },
  {
   "cell_type": "code",
   "execution_count": 85,
   "metadata": {},
   "outputs": [
    {
     "data": {
      "text/plain": [
       "0    1\n",
       "1    0\n",
       "2    1\n",
       "3    0\n",
       "4    1\n",
       "Name: Class, dtype: int64"
      ]
     },
     "execution_count": 85,
     "metadata": {},
     "output_type": "execute_result"
    }
   ],
   "source": [
    "labels.head()"
   ]
  },
  {
   "cell_type": "markdown",
   "metadata": {},
   "source": [
    "## Train Test Split:"
   ]
  },
  {
   "cell_type": "code",
   "execution_count": 86,
   "metadata": {},
   "outputs": [],
   "source": [
    "from sklearn.model_selection import train_test_split"
   ]
  },
  {
   "cell_type": "code",
   "execution_count": 87,
   "metadata": {},
   "outputs": [],
   "source": [
    "X_train, X_test, y_train, y_test = train_test_split(x_data, labels, test_size = 0.3, random_state = 101)"
   ]
  },
  {
   "cell_type": "markdown",
   "metadata": {},
   "source": [
    "## Input Functions:"
   ]
  },
  {
   "cell_type": "code",
   "execution_count": 88,
   "metadata": {},
   "outputs": [],
   "source": [
    "input_func = tf.estimator.inputs.pandas_input_fn(x = X_train, y = y_train, batch_size = 10,\n",
    "                                                num_epochs = 1000, shuffle = True)"
   ]
  },
  {
   "cell_type": "code",
   "execution_count": 89,
   "metadata": {},
   "outputs": [
    {
     "name": "stderr",
     "output_type": "stream",
     "text": [
      "W0823 16:29:38.296988 140468405307200 estimator.py:1811] Using temporary folder as model directory: /tmp/tmp6_vwixop\n"
     ]
    }
   ],
   "source": [
    "# Linear Classifier\n",
    "\n",
    "model = tf.estimator.LinearClassifier(feature_columns = feat_cols, n_classes = 2)"
   ]
  },
  {
   "cell_type": "code",
   "execution_count": 90,
   "metadata": {},
   "outputs": [
    {
     "name": "stderr",
     "output_type": "stream",
     "text": [
      "W0823 16:29:39.068390 140468405307200 deprecation.py:323] From /home/umairshah/anaconda3/lib/python3.7/site-packages/tensorflow_estimator/python/estimator/canned/linear.py:308: to_float (from tensorflow.python.ops.math_ops) is deprecated and will be removed in a future version.\n",
      "Instructions for updating:\n",
      "Use `tf.cast` instead.\n",
      "W0823 16:29:40.235168 140468405307200 deprecation.py:323] From /home/umairshah/anaconda3/lib/python3.7/site-packages/tensorflow/python/training/monitored_session.py:875: start_queue_runners (from tensorflow.python.training.queue_runner_impl) is deprecated and will be removed in a future version.\n",
      "Instructions for updating:\n",
      "To construct input pipelines, use the `tf.data` module.\n"
     ]
    },
    {
     "data": {
      "text/plain": [
       "<tensorflow_estimator.python.estimator.canned.linear.LinearClassifier at 0x7fc0ed01c320>"
      ]
     },
     "execution_count": 90,
     "metadata": {},
     "output_type": "execute_result"
    }
   ],
   "source": [
    "model.train(input_fn = input_func, steps = 1000)"
   ]
  },
  {
   "cell_type": "code",
   "execution_count": 91,
   "metadata": {},
   "outputs": [],
   "source": [
    "# Evaluating the Model\n",
    "\n",
    "eval_input_func = tf.estimator.inputs.pandas_input_fn(x = X_test, y = y_test,\n",
    "                                                     batch_size = 10, num_epochs = 1,\n",
    "                                                     shuffle = False)"
   ]
  },
  {
   "cell_type": "code",
   "execution_count": 93,
   "metadata": {},
   "outputs": [
    {
     "name": "stderr",
     "output_type": "stream",
     "text": [
      "W0823 16:35:59.985953 140468405307200 deprecation.py:323] From /home/umairshah/anaconda3/lib/python3.7/site-packages/tensorflow/python/ops/metrics_impl.py:2027: div (from tensorflow.python.ops.math_ops) is deprecated and will be removed in a future version.\n",
      "Instructions for updating:\n",
      "Deprecated in favor of operator or tf.math.divide.\n",
      "W0823 16:36:00.602383 140468405307200 metrics_impl.py:804] Trapezoidal rule is known to produce incorrect PR-AUCs; please switch to \"careful_interpolation\" instead.\n",
      "W0823 16:36:00.638809 140468405307200 metrics_impl.py:804] Trapezoidal rule is known to produce incorrect PR-AUCs; please switch to \"careful_interpolation\" instead.\n",
      "W0823 16:36:00.970854 140468405307200 deprecation.py:323] From /home/umairshah/anaconda3/lib/python3.7/site-packages/tensorflow/python/training/saver.py:1276: checkpoint_exists (from tensorflow.python.training.checkpoint_management) is deprecated and will be removed in a future version.\n",
      "Instructions for updating:\n",
      "Use standard file APIs to check for files with this prefix.\n"
     ]
    }
   ],
   "source": [
    "# Results \n",
    "\n",
    "results = model.evaluate(eval_input_func)"
   ]
  },
  {
   "cell_type": "code",
   "execution_count": 96,
   "metadata": {},
   "outputs": [
    {
     "data": {
      "text/plain": [
       "{'accuracy': 0.7316017,\n",
       " 'accuracy_baseline': 0.64935064,\n",
       " 'auc': 0.79460907,\n",
       " 'auc_precision_recall': 0.64358723,\n",
       " 'average_loss': 0.53082895,\n",
       " 'label/mean': 0.35064936,\n",
       " 'loss': 5.1092286,\n",
       " 'precision': 0.63013697,\n",
       " 'prediction/mean': 0.37430257,\n",
       " 'recall': 0.56790125,\n",
       " 'global_step': 1000}"
      ]
     },
     "execution_count": 96,
     "metadata": {},
     "output_type": "execute_result"
    }
   ],
   "source": [
    "results\n",
    "\n",
    "# Around 73% accurate results"
   ]
  },
  {
   "cell_type": "code",
   "execution_count": 98,
   "metadata": {},
   "outputs": [],
   "source": [
    "# Predictions\n",
    "\n",
    "pred_input_func = tf.estimator.inputs.pandas_input_fn(x = X_test, batch_size = 10,\n",
    "                                                     num_epochs = 1, shuffle = False)\n",
    "\n",
    "predictions = model.predict(pred_input_func)"
   ]
  },
  {
   "cell_type": "code",
   "execution_count": 99,
   "metadata": {},
   "outputs": [],
   "source": [
    "my_pred = list(predictions)"
   ]
  },
  {
   "cell_type": "code",
   "execution_count": 103,
   "metadata": {},
   "outputs": [
    {
     "name": "stdout",
     "output_type": "stream",
     "text": [
      "[{'logits': array([0.08399415], dtype=float32), 'logistic': array([0.5209862], dtype=float32), 'probabilities': array([0.4790138, 0.5209862], dtype=float32), 'class_ids': array([1]), 'classes': array([b'1'], dtype=object), 'all_class_ids': array([0, 1], dtype=int32), 'all_classes': array([b'0', b'1'], dtype=object)}, {'logits': array([0.5701761], dtype=float32), 'logistic': array([0.6388038], dtype=float32), 'probabilities': array([0.3611962, 0.6388038], dtype=float32), 'class_ids': array([1]), 'classes': array([b'1'], dtype=object), 'all_class_ids': array([0, 1], dtype=int32), 'all_classes': array([b'0', b'1'], dtype=object)}, {'logits': array([-0.34220123], dtype=float32), 'logistic': array([0.4152749], dtype=float32), 'probabilities': array([0.58472514, 0.41527486], dtype=float32), 'class_ids': array([0]), 'classes': array([b'0'], dtype=object), 'all_class_ids': array([0, 1], dtype=int32), 'all_classes': array([b'0', b'1'], dtype=object)}, {'logits': array([-0.74964607], dtype=float32), 'logistic': array([0.32089844], dtype=float32), 'probabilities': array([0.6791016, 0.3208984], dtype=float32), 'class_ids': array([0]), 'classes': array([b'0'], dtype=object), 'all_class_ids': array([0, 1], dtype=int32), 'all_classes': array([b'0', b'1'], dtype=object)}, {'logits': array([-1.7773398], dtype=float32), 'logistic': array([0.14463189], dtype=float32), 'probabilities': array([0.855368 , 0.1446319], dtype=float32), 'class_ids': array([0]), 'classes': array([b'0'], dtype=object), 'all_class_ids': array([0, 1], dtype=int32), 'all_classes': array([b'0', b'1'], dtype=object)}, {'logits': array([0.57205045], dtype=float32), 'logistic': array([0.6392362], dtype=float32), 'probabilities': array([0.36076382, 0.63923615], dtype=float32), 'class_ids': array([1]), 'classes': array([b'1'], dtype=object), 'all_class_ids': array([0, 1], dtype=int32), 'all_classes': array([b'0', b'1'], dtype=object)}, {'logits': array([0.47049582], dtype=float32), 'logistic': array([0.6155011], dtype=float32), 'probabilities': array([0.3844989, 0.6155011], dtype=float32), 'class_ids': array([1]), 'classes': array([b'1'], dtype=object), 'all_class_ids': array([0, 1], dtype=int32), 'all_classes': array([b'0', b'1'], dtype=object)}, {'logits': array([-0.52283305], dtype=float32), 'logistic': array([0.37219], dtype=float32), 'probabilities': array([0.62781   , 0.37219003], dtype=float32), 'class_ids': array([0]), 'classes': array([b'0'], dtype=object), 'all_class_ids': array([0, 1], dtype=int32), 'all_classes': array([b'0', b'1'], dtype=object)}, {'logits': array([-1.1268865], dtype=float32), 'logistic': array([0.24473616], dtype=float32), 'probabilities': array([0.7552638 , 0.24473614], dtype=float32), 'class_ids': array([0]), 'classes': array([b'0'], dtype=object), 'all_class_ids': array([0, 1], dtype=int32), 'all_classes': array([b'0', b'1'], dtype=object)}, {'logits': array([-1.2023137], dtype=float32), 'logistic': array([0.23106389], dtype=float32), 'probabilities': array([0.76893616, 0.2310639 ], dtype=float32), 'class_ids': array([0]), 'classes': array([b'0'], dtype=object), 'all_class_ids': array([0, 1], dtype=int32), 'all_classes': array([b'0', b'1'], dtype=object)}, {'logits': array([-1.6969789], dtype=float32), 'logistic': array([0.15486026], dtype=float32), 'probabilities': array([0.84513974, 0.15486024], dtype=float32), 'class_ids': array([0]), 'classes': array([b'0'], dtype=object), 'all_class_ids': array([0, 1], dtype=int32), 'all_classes': array([b'0', b'1'], dtype=object)}, {'logits': array([-1.710278], dtype=float32), 'logistic': array([0.15312764], dtype=float32), 'probabilities': array([0.8468724 , 0.15312767], dtype=float32), 'class_ids': array([0]), 'classes': array([b'0'], dtype=object), 'all_class_ids': array([0, 1], dtype=int32), 'all_classes': array([b'0', b'1'], dtype=object)}, {'logits': array([-0.7468044], dtype=float32), 'logistic': array([0.32151803], dtype=float32), 'probabilities': array([0.67848206, 0.32151803], dtype=float32), 'class_ids': array([0]), 'classes': array([b'0'], dtype=object), 'all_class_ids': array([0, 1], dtype=int32), 'all_classes': array([b'0', b'1'], dtype=object)}, {'logits': array([0.30818117], dtype=float32), 'logistic': array([0.5764412], dtype=float32), 'probabilities': array([0.42355877, 0.5764412 ], dtype=float32), 'class_ids': array([1]), 'classes': array([b'1'], dtype=object), 'all_class_ids': array([0, 1], dtype=int32), 'all_classes': array([b'0', b'1'], dtype=object)}, {'logits': array([-1.4258188], dtype=float32), 'logistic': array([0.193751], dtype=float32), 'probabilities': array([0.806249, 0.193751], dtype=float32), 'class_ids': array([0]), 'classes': array([b'0'], dtype=object), 'all_class_ids': array([0, 1], dtype=int32), 'all_classes': array([b'0', b'1'], dtype=object)}, {'logits': array([-0.6735885], dtype=float32), 'logistic': array([0.33769378], dtype=float32), 'probabilities': array([0.66230625, 0.33769378], dtype=float32), 'class_ids': array([0]), 'classes': array([b'0'], dtype=object), 'all_class_ids': array([0, 1], dtype=int32), 'all_classes': array([b'0', b'1'], dtype=object)}, {'logits': array([-0.46688902], dtype=float32), 'logistic': array([0.38535285], dtype=float32), 'probabilities': array([0.61464715, 0.38535282], dtype=float32), 'class_ids': array([0]), 'classes': array([b'0'], dtype=object), 'all_class_ids': array([0, 1], dtype=int32), 'all_classes': array([b'0', b'1'], dtype=object)}, {'logits': array([-1.7432933], dtype=float32), 'logistic': array([0.14889511], dtype=float32), 'probabilities': array([0.85110486, 0.1488951 ], dtype=float32), 'class_ids': array([0]), 'classes': array([b'0'], dtype=object), 'all_class_ids': array([0, 1], dtype=int32), 'all_classes': array([b'0', b'1'], dtype=object)}, {'logits': array([-0.4573279], dtype=float32), 'logistic': array([0.3876199], dtype=float32), 'probabilities': array([0.6123801, 0.3876199], dtype=float32), 'class_ids': array([0]), 'classes': array([b'0'], dtype=object), 'all_class_ids': array([0, 1], dtype=int32), 'all_classes': array([b'0', b'1'], dtype=object)}, {'logits': array([-1.761692], dtype=float32), 'logistic': array([0.14657855], dtype=float32), 'probabilities': array([0.85342145, 0.14657855], dtype=float32), 'class_ids': array([0]), 'classes': array([b'0'], dtype=object), 'all_class_ids': array([0, 1], dtype=int32), 'all_classes': array([b'0', b'1'], dtype=object)}, {'logits': array([-1.2145228], dtype=float32), 'logistic': array([0.22890177], dtype=float32), 'probabilities': array([0.77109826, 0.22890177], dtype=float32), 'class_ids': array([0]), 'classes': array([b'0'], dtype=object), 'all_class_ids': array([0, 1], dtype=int32), 'all_classes': array([b'0', b'1'], dtype=object)}, {'logits': array([-0.87694067], dtype=float32), 'logistic': array([0.29381216], dtype=float32), 'probabilities': array([0.70618784, 0.29381216], dtype=float32), 'class_ids': array([0]), 'classes': array([b'0'], dtype=object), 'all_class_ids': array([0, 1], dtype=int32), 'all_classes': array([b'0', b'1'], dtype=object)}, {'logits': array([0.6553788], dtype=float32), 'logistic': array([0.65822154], dtype=float32), 'probabilities': array([0.34177846, 0.65822154], dtype=float32), 'class_ids': array([1]), 'classes': array([b'1'], dtype=object), 'all_class_ids': array([0, 1], dtype=int32), 'all_classes': array([b'0', b'1'], dtype=object)}, {'logits': array([-1.3907042], dtype=float32), 'logistic': array([0.19929537], dtype=float32), 'probabilities': array([0.80070466, 0.19929537], dtype=float32), 'class_ids': array([0]), 'classes': array([b'0'], dtype=object), 'all_class_ids': array([0, 1], dtype=int32), 'all_classes': array([b'0', b'1'], dtype=object)}, {'logits': array([-1.397526], dtype=float32), 'logistic': array([0.19820899], dtype=float32), 'probabilities': array([0.801791  , 0.19820899], dtype=float32), 'class_ids': array([0]), 'classes': array([b'0'], dtype=object), 'all_class_ids': array([0, 1], dtype=int32), 'all_classes': array([b'0', b'1'], dtype=object)}, {'logits': array([1.2443322], dtype=float32), 'logistic': array([0.7763171], dtype=float32), 'probabilities': array([0.2236828, 0.7763172], dtype=float32), 'class_ids': array([1]), 'classes': array([b'1'], dtype=object), 'all_class_ids': array([0, 1], dtype=int32), 'all_classes': array([b'0', b'1'], dtype=object)}, {'logits': array([-1.4432254], dtype=float32), 'logistic': array([0.19104639], dtype=float32), 'probabilities': array([0.80895364, 0.19104639], dtype=float32), 'class_ids': array([0]), 'classes': array([b'0'], dtype=object), 'all_class_ids': array([0, 1], dtype=int32), 'all_classes': array([b'0', b'1'], dtype=object)}, {'logits': array([-0.7626781], dtype=float32), 'logistic': array([0.3180651], dtype=float32), 'probabilities': array([0.6819349, 0.3180651], dtype=float32), 'class_ids': array([0]), 'classes': array([b'0'], dtype=object), 'all_class_ids': array([0, 1], dtype=int32), 'all_classes': array([b'0', b'1'], dtype=object)}, {'logits': array([-1.919831], dtype=float32), 'logistic': array([0.12788041], dtype=float32), 'probabilities': array([0.8721196 , 0.12788041], dtype=float32), 'class_ids': array([0]), 'classes': array([b'0'], dtype=object), 'all_class_ids': array([0, 1], dtype=int32), 'all_classes': array([b'0', b'1'], dtype=object)}, {'logits': array([0.36425352], dtype=float32), 'logistic': array([0.5900697], dtype=float32), 'probabilities': array([0.4099303, 0.5900697], dtype=float32), 'class_ids': array([1]), 'classes': array([b'1'], dtype=object), 'all_class_ids': array([0, 1], dtype=int32), 'all_classes': array([b'0', b'1'], dtype=object)}, {'logits': array([2.548123], dtype=float32), 'logistic': array([0.9274473], dtype=float32), 'probabilities': array([0.07255269, 0.9274473 ], dtype=float32), 'class_ids': array([1]), 'classes': array([b'1'], dtype=object), 'all_class_ids': array([0, 1], dtype=int32), 'all_classes': array([b'0', b'1'], dtype=object)}, {'logits': array([-0.4350202], dtype=float32), 'logistic': array([0.3929282], dtype=float32), 'probabilities': array([0.6070718, 0.3929282], dtype=float32), 'class_ids': array([0]), 'classes': array([b'0'], dtype=object), 'all_class_ids': array([0, 1], dtype=int32), 'all_classes': array([b'0', b'1'], dtype=object)}, {'logits': array([-0.8066291], dtype=float32), 'logistic': array([0.3086093], dtype=float32), 'probabilities': array([0.69139075, 0.3086093 ], dtype=float32), 'class_ids': array([0]), 'classes': array([b'0'], dtype=object), 'all_class_ids': array([0, 1], dtype=int32), 'all_classes': array([b'0', b'1'], dtype=object)}, {'logits': array([0.19481206], dtype=float32), 'logistic': array([0.54854953], dtype=float32), 'probabilities': array([0.4514504 , 0.54854953], dtype=float32), 'class_ids': array([1]), 'classes': array([b'1'], dtype=object), 'all_class_ids': array([0, 1], dtype=int32), 'all_classes': array([b'0', b'1'], dtype=object)}, {'logits': array([-1.0196053], dtype=float32), 'logistic': array([0.2651043], dtype=float32), 'probabilities': array([0.7348957, 0.2651043], dtype=float32), 'class_ids': array([0]), 'classes': array([b'0'], dtype=object), 'all_class_ids': array([0, 1], dtype=int32), 'all_classes': array([b'0', b'1'], dtype=object)}, {'logits': array([-0.29488736], dtype=float32), 'logistic': array([0.4268078], dtype=float32), 'probabilities': array([0.57319224, 0.4268078 ], dtype=float32), 'class_ids': array([0]), 'classes': array([b'0'], dtype=object), 'all_class_ids': array([0, 1], dtype=int32), 'all_classes': array([b'0', b'1'], dtype=object)}, {'logits': array([0.05560827], dtype=float32), 'logistic': array([0.5138985], dtype=float32), 'probabilities': array([0.48610154, 0.5138985 ], dtype=float32), 'class_ids': array([1]), 'classes': array([b'1'], dtype=object), 'all_class_ids': array([0, 1], dtype=int32), 'all_classes': array([b'0', b'1'], dtype=object)}, {'logits': array([0.4429474], dtype=float32), 'logistic': array([0.6089611], dtype=float32), 'probabilities': array([0.3910389, 0.6089611], dtype=float32), 'class_ids': array([1]), 'classes': array([b'1'], dtype=object), 'all_class_ids': array([0, 1], dtype=int32), 'all_classes': array([b'0', b'1'], dtype=object)}, {'logits': array([1.1807622], dtype=float32), 'logistic': array([0.7650848], dtype=float32), 'probabilities': array([0.23491518, 0.7650848 ], dtype=float32), 'class_ids': array([1]), 'classes': array([b'1'], dtype=object), 'all_class_ids': array([0, 1], dtype=int32), 'all_classes': array([b'0', b'1'], dtype=object)}, {'logits': array([-0.6409828], dtype=float32), 'logistic': array([0.3450244], dtype=float32), 'probabilities': array([0.6549756, 0.3450244], dtype=float32), 'class_ids': array([0]), 'classes': array([b'0'], dtype=object), 'all_class_ids': array([0, 1], dtype=int32), 'all_classes': array([b'0', b'1'], dtype=object)}, {'logits': array([-1.4276698], dtype=float32), 'logistic': array([0.19346201], dtype=float32), 'probabilities': array([0.806538  , 0.19346203], dtype=float32), 'class_ids': array([0]), 'classes': array([b'0'], dtype=object), 'all_class_ids': array([0, 1], dtype=int32), 'all_classes': array([b'0', b'1'], dtype=object)}, {'logits': array([0.33386767], dtype=float32), 'logistic': array([0.58270013], dtype=float32), 'probabilities': array([0.41729987, 0.58270013], dtype=float32), 'class_ids': array([1]), 'classes': array([b'1'], dtype=object), 'all_class_ids': array([0, 1], dtype=int32), 'all_classes': array([b'0', b'1'], dtype=object)}, {'logits': array([-1.5565491], dtype=float32), 'logistic': array([0.17414242], dtype=float32), 'probabilities': array([0.8258576 , 0.17414239], dtype=float32), 'class_ids': array([0]), 'classes': array([b'0'], dtype=object), 'all_class_ids': array([0, 1], dtype=int32), 'all_classes': array([b'0', b'1'], dtype=object)}, {'logits': array([0.1425916], dtype=float32), 'logistic': array([0.5355876], dtype=float32), 'probabilities': array([0.46441236, 0.5355876 ], dtype=float32), 'class_ids': array([1]), 'classes': array([b'1'], dtype=object), 'all_class_ids': array([0, 1], dtype=int32), 'all_classes': array([b'0', b'1'], dtype=object)}, {'logits': array([-1.6183329], dtype=float32), 'logistic': array([0.1654349], dtype=float32), 'probabilities': array([0.8345651 , 0.16543491], dtype=float32), 'class_ids': array([0]), 'classes': array([b'0'], dtype=object), 'all_class_ids': array([0, 1], dtype=int32), 'all_classes': array([b'0', b'1'], dtype=object)}, {'logits': array([-1.8906176], dtype=float32), 'logistic': array([0.13117403], dtype=float32), 'probabilities': array([0.8688259 , 0.13117406], dtype=float32), 'class_ids': array([0]), 'classes': array([b'0'], dtype=object), 'all_class_ids': array([0, 1], dtype=int32), 'all_classes': array([b'0', b'1'], dtype=object)}, {'logits': array([0.26992357], dtype=float32), 'logistic': array([0.5670741], dtype=float32), 'probabilities': array([0.43292585, 0.5670741 ], dtype=float32), 'class_ids': array([1]), 'classes': array([b'1'], dtype=object), 'all_class_ids': array([0, 1], dtype=int32), 'all_classes': array([b'0', b'1'], dtype=object)}, {'logits': array([-1.55343], dtype=float32), 'logistic': array([0.17459142], dtype=float32), 'probabilities': array([0.8254085 , 0.17459142], dtype=float32), 'class_ids': array([0]), 'classes': array([b'0'], dtype=object), 'all_class_ids': array([0, 1], dtype=int32), 'all_classes': array([b'0', b'1'], dtype=object)}, {'logits': array([-1.3086302], dtype=float32), 'logistic': array([0.21271616], dtype=float32), 'probabilities': array([0.78728384, 0.21271615], dtype=float32), 'class_ids': array([0]), 'classes': array([b'0'], dtype=object), 'all_class_ids': array([0, 1], dtype=int32), 'all_classes': array([b'0', b'1'], dtype=object)}, {'logits': array([-1.6540357], dtype=float32), 'logistic': array([0.16056426], dtype=float32), 'probabilities': array([0.83943576, 0.16056426], dtype=float32), 'class_ids': array([0]), 'classes': array([b'0'], dtype=object), 'all_class_ids': array([0, 1], dtype=int32), 'all_classes': array([b'0', b'1'], dtype=object)}, {'logits': array([-1.5728856], dtype=float32), 'logistic': array([0.17180538], dtype=float32), 'probabilities': array([0.82819456, 0.17180541], dtype=float32), 'class_ids': array([0]), 'classes': array([b'0'], dtype=object), 'all_class_ids': array([0, 1], dtype=int32), 'all_classes': array([b'0', b'1'], dtype=object)}, {'logits': array([-1.0607343], dtype=float32), 'logistic': array([0.2571692], dtype=float32), 'probabilities': array([0.7428308 , 0.25716916], dtype=float32), 'class_ids': array([0]), 'classes': array([b'0'], dtype=object), 'all_class_ids': array([0, 1], dtype=int32), 'all_classes': array([b'0', b'1'], dtype=object)}, {'logits': array([-1.0677632], dtype=float32), 'logistic': array([0.25582874], dtype=float32), 'probabilities': array([0.7441713, 0.2558287], dtype=float32), 'class_ids': array([0]), 'classes': array([b'0'], dtype=object), 'all_class_ids': array([0, 1], dtype=int32), 'all_classes': array([b'0', b'1'], dtype=object)}, {'logits': array([-0.47864753], dtype=float32), 'logistic': array([0.38257158], dtype=float32), 'probabilities': array([0.6174285 , 0.38257158], dtype=float32), 'class_ids': array([0]), 'classes': array([b'0'], dtype=object), 'all_class_ids': array([0, 1], dtype=int32), 'all_classes': array([b'0', b'1'], dtype=object)}, {'logits': array([-1.7303282], dtype=float32), 'logistic': array([0.15054563], dtype=float32), 'probabilities': array([0.8494544, 0.1505456], dtype=float32), 'class_ids': array([0]), 'classes': array([b'0'], dtype=object), 'all_class_ids': array([0, 1], dtype=int32), 'all_classes': array([b'0', b'1'], dtype=object)}, {'logits': array([-1.2852343], dtype=float32), 'logistic': array([0.21666056], dtype=float32), 'probabilities': array([0.78333944, 0.21666053], dtype=float32), 'class_ids': array([0]), 'classes': array([b'0'], dtype=object), 'all_class_ids': array([0, 1], dtype=int32), 'all_classes': array([b'0', b'1'], dtype=object)}, {'logits': array([-1.4104729], dtype=float32), 'logistic': array([0.19615945], dtype=float32), 'probabilities': array([0.8038405 , 0.19615948], dtype=float32), 'class_ids': array([0]), 'classes': array([b'0'], dtype=object), 'all_class_ids': array([0, 1], dtype=int32), 'all_classes': array([b'0', b'1'], dtype=object)}, {'logits': array([-1.2198584], dtype=float32), 'logistic': array([0.22796139], dtype=float32), 'probabilities': array([0.77203864, 0.22796136], dtype=float32), 'class_ids': array([0]), 'classes': array([b'0'], dtype=object), 'all_class_ids': array([0, 1], dtype=int32), 'all_classes': array([b'0', b'1'], dtype=object)}, {'logits': array([0.02671409], dtype=float32), 'logistic': array([0.5066781], dtype=float32), 'probabilities': array([0.49332187, 0.5066781 ], dtype=float32), 'class_ids': array([1]), 'classes': array([b'1'], dtype=object), 'all_class_ids': array([0, 1], dtype=int32), 'all_classes': array([b'0', b'1'], dtype=object)}, {'logits': array([-1.6034923], dtype=float32), 'logistic': array([0.16749409], dtype=float32), 'probabilities': array([0.83250594, 0.1674941 ], dtype=float32), 'class_ids': array([0]), 'classes': array([b'0'], dtype=object), 'all_class_ids': array([0, 1], dtype=int32), 'all_classes': array([b'0', b'1'], dtype=object)}, {'logits': array([-1.0897673], dtype=float32), 'logistic': array([0.2516621], dtype=float32), 'probabilities': array([0.7483379 , 0.25166208], dtype=float32), 'class_ids': array([0]), 'classes': array([b'0'], dtype=object), 'all_class_ids': array([0, 1], dtype=int32), 'all_classes': array([b'0', b'1'], dtype=object)}, {'logits': array([0.5011685], dtype=float32), 'logistic': array([0.6227339], dtype=float32), 'probabilities': array([0.37726608, 0.6227339 ], dtype=float32), 'class_ids': array([1]), 'classes': array([b'1'], dtype=object), 'all_class_ids': array([0, 1], dtype=int32), 'all_classes': array([b'0', b'1'], dtype=object)}, {'logits': array([0.50421464], dtype=float32), 'logistic': array([0.62344927], dtype=float32), 'probabilities': array([0.3765507 , 0.62344927], dtype=float32), 'class_ids': array([1]), 'classes': array([b'1'], dtype=object), 'all_class_ids': array([0, 1], dtype=int32), 'all_classes': array([b'0', b'1'], dtype=object)}, {'logits': array([0.18243206], dtype=float32), 'logistic': array([0.5454819], dtype=float32), 'probabilities': array([0.45451808, 0.545482  ], dtype=float32), 'class_ids': array([1]), 'classes': array([b'1'], dtype=object), 'all_class_ids': array([0, 1], dtype=int32), 'all_classes': array([b'0', b'1'], dtype=object)}, {'logits': array([-0.62786543], dtype=float32), 'logistic': array([0.34799471], dtype=float32), 'probabilities': array([0.6520053, 0.3479947], dtype=float32), 'class_ids': array([0]), 'classes': array([b'0'], dtype=object), 'all_class_ids': array([0, 1], dtype=int32), 'all_classes': array([b'0', b'1'], dtype=object)}, {'logits': array([-0.02678704], dtype=float32), 'logistic': array([0.49330363], dtype=float32), 'probabilities': array([0.50669634, 0.49330363], dtype=float32), 'class_ids': array([0]), 'classes': array([b'0'], dtype=object), 'all_class_ids': array([0, 1], dtype=int32), 'all_classes': array([b'0', b'1'], dtype=object)}, {'logits': array([-1.3416836], dtype=float32), 'logistic': array([0.20723334], dtype=float32), 'probabilities': array([0.79276663, 0.20723332], dtype=float32), 'class_ids': array([0]), 'classes': array([b'0'], dtype=object), 'all_class_ids': array([0, 1], dtype=int32), 'all_classes': array([b'0', b'1'], dtype=object)}, {'logits': array([-1.225624], dtype=float32), 'logistic': array([0.22694823], dtype=float32), 'probabilities': array([0.77305174, 0.22694825], dtype=float32), 'class_ids': array([0]), 'classes': array([b'0'], dtype=object), 'all_class_ids': array([0, 1], dtype=int32), 'all_classes': array([b'0', b'1'], dtype=object)}, {'logits': array([-1.6328123], dtype=float32), 'logistic': array([0.16344547], dtype=float32), 'probabilities': array([0.8365545 , 0.16344547], dtype=float32), 'class_ids': array([0]), 'classes': array([b'0'], dtype=object), 'all_class_ids': array([0, 1], dtype=int32), 'all_classes': array([b'0', b'1'], dtype=object)}, {'logits': array([-1.7610581], dtype=float32), 'logistic': array([0.14665787], dtype=float32), 'probabilities': array([0.8533421 , 0.14665787], dtype=float32), 'class_ids': array([0]), 'classes': array([b'0'], dtype=object), 'all_class_ids': array([0, 1], dtype=int32), 'all_classes': array([b'0', b'1'], dtype=object)}, {'logits': array([0.5036849], dtype=float32), 'logistic': array([0.6233249], dtype=float32), 'probabilities': array([0.3766751, 0.6233249], dtype=float32), 'class_ids': array([1]), 'classes': array([b'1'], dtype=object), 'all_class_ids': array([0, 1], dtype=int32), 'all_classes': array([b'0', b'1'], dtype=object)}, {'logits': array([-1.0463382], dtype=float32), 'logistic': array([0.25992888], dtype=float32), 'probabilities': array([0.74007106, 0.25992888], dtype=float32), 'class_ids': array([0]), 'classes': array([b'0'], dtype=object), 'all_class_ids': array([0, 1], dtype=int32), 'all_classes': array([b'0', b'1'], dtype=object)}, {'logits': array([-0.29842752], dtype=float32), 'logistic': array([0.42594194], dtype=float32), 'probabilities': array([0.57405806, 0.42594194], dtype=float32), 'class_ids': array([0]), 'classes': array([b'0'], dtype=object), 'all_class_ids': array([0, 1], dtype=int32), 'all_classes': array([b'0', b'1'], dtype=object)}, {'logits': array([0.26467073], dtype=float32), 'logistic': array([0.5657841], dtype=float32), 'probabilities': array([0.43421587, 0.5657841 ], dtype=float32), 'class_ids': array([1]), 'classes': array([b'1'], dtype=object), 'all_class_ids': array([0, 1], dtype=int32), 'all_classes': array([b'0', b'1'], dtype=object)}, {'logits': array([-0.8223972], dtype=float32), 'logistic': array([0.30525506], dtype=float32), 'probabilities': array([0.694745  , 0.30525506], dtype=float32), 'class_ids': array([0]), 'classes': array([b'0'], dtype=object), 'all_class_ids': array([0, 1], dtype=int32), 'all_classes': array([b'0', b'1'], dtype=object)}, {'logits': array([0.44928908], dtype=float32), 'logistic': array([0.6104702], dtype=float32), 'probabilities': array([0.38952982, 0.61047024], dtype=float32), 'class_ids': array([1]), 'classes': array([b'1'], dtype=object), 'all_class_ids': array([0, 1], dtype=int32), 'all_classes': array([b'0', b'1'], dtype=object)}, {'logits': array([-1.8928506], dtype=float32), 'logistic': array([0.13091975], dtype=float32), 'probabilities': array([0.8690802 , 0.13091977], dtype=float32), 'class_ids': array([0]), 'classes': array([b'0'], dtype=object), 'all_class_ids': array([0, 1], dtype=int32), 'all_classes': array([b'0', b'1'], dtype=object)}, {'logits': array([0.4577924], dtype=float32), 'logistic': array([0.61249036], dtype=float32), 'probabilities': array([0.38750967, 0.61249036], dtype=float32), 'class_ids': array([1]), 'classes': array([b'1'], dtype=object), 'all_class_ids': array([0, 1], dtype=int32), 'all_classes': array([b'0', b'1'], dtype=object)}, {'logits': array([-1.7580179], dtype=float32), 'logistic': array([0.14703876], dtype=float32), 'probabilities': array([0.8529613 , 0.14703877], dtype=float32), 'class_ids': array([0]), 'classes': array([b'0'], dtype=object), 'all_class_ids': array([0, 1], dtype=int32), 'all_classes': array([b'0', b'1'], dtype=object)}, {'logits': array([0.30981326], dtype=float32), 'logistic': array([0.5768397], dtype=float32), 'probabilities': array([0.4231603, 0.5768397], dtype=float32), 'class_ids': array([1]), 'classes': array([b'1'], dtype=object), 'all_class_ids': array([0, 1], dtype=int32), 'all_classes': array([b'0', b'1'], dtype=object)}, {'logits': array([-0.6517997], dtype=float32), 'logistic': array([0.3425841], dtype=float32), 'probabilities': array([0.6574159, 0.3425841], dtype=float32), 'class_ids': array([0]), 'classes': array([b'0'], dtype=object), 'all_class_ids': array([0, 1], dtype=int32), 'all_classes': array([b'0', b'1'], dtype=object)}, {'logits': array([-1.432249], dtype=float32), 'logistic': array([0.19274849], dtype=float32), 'probabilities': array([0.8072515 , 0.19274852], dtype=float32), 'class_ids': array([0]), 'classes': array([b'0'], dtype=object), 'all_class_ids': array([0, 1], dtype=int32), 'all_classes': array([b'0', b'1'], dtype=object)}, {'logits': array([0.3053335], dtype=float32), 'logistic': array([0.5757458], dtype=float32), 'probabilities': array([0.42425418, 0.5757458 ], dtype=float32), 'class_ids': array([1]), 'classes': array([b'1'], dtype=object), 'all_class_ids': array([0, 1], dtype=int32), 'all_classes': array([b'0', b'1'], dtype=object)}, {'logits': array([0.33069766], dtype=float32), 'logistic': array([0.5819291], dtype=float32), 'probabilities': array([0.41807085, 0.5819291 ], dtype=float32), 'class_ids': array([1]), 'classes': array([b'1'], dtype=object), 'all_class_ids': array([0, 1], dtype=int32), 'all_classes': array([b'0', b'1'], dtype=object)}, {'logits': array([0.19869757], dtype=float32), 'logistic': array([0.5495116], dtype=float32), 'probabilities': array([0.4504884, 0.5495116], dtype=float32), 'class_ids': array([1]), 'classes': array([b'1'], dtype=object), 'all_class_ids': array([0, 1], dtype=int32), 'all_classes': array([b'0', b'1'], dtype=object)}, {'logits': array([-1.5213742], dtype=float32), 'logistic': array([0.17925921], dtype=float32), 'probabilities': array([0.82074076, 0.17925926], dtype=float32), 'class_ids': array([0]), 'classes': array([b'0'], dtype=object), 'all_class_ids': array([0, 1], dtype=int32), 'all_classes': array([b'0', b'1'], dtype=object)}, {'logits': array([-0.35436672], dtype=float32), 'logistic': array([0.41232392], dtype=float32), 'probabilities': array([0.5876761, 0.4123239], dtype=float32), 'class_ids': array([0]), 'classes': array([b'0'], dtype=object), 'all_class_ids': array([0, 1], dtype=int32), 'all_classes': array([b'0', b'1'], dtype=object)}, {'logits': array([-1.6349506], dtype=float32), 'logistic': array([0.16315329], dtype=float32), 'probabilities': array([0.83684665, 0.16315329], dtype=float32), 'class_ids': array([0]), 'classes': array([b'0'], dtype=object), 'all_class_ids': array([0, 1], dtype=int32), 'all_classes': array([b'0', b'1'], dtype=object)}, {'logits': array([0.90890646], dtype=float32), 'logistic': array([0.71277636], dtype=float32), 'probabilities': array([0.28722367, 0.71277636], dtype=float32), 'class_ids': array([1]), 'classes': array([b'1'], dtype=object), 'all_class_ids': array([0, 1], dtype=int32), 'all_classes': array([b'0', b'1'], dtype=object)}, {'logits': array([1.3885742], dtype=float32), 'logistic': array([0.80036455], dtype=float32), 'probabilities': array([0.19963548, 0.80036455], dtype=float32), 'class_ids': array([1]), 'classes': array([b'1'], dtype=object), 'all_class_ids': array([0, 1], dtype=int32), 'all_classes': array([b'0', b'1'], dtype=object)}, {'logits': array([0.40283358], dtype=float32), 'logistic': array([0.5993683], dtype=float32), 'probabilities': array([0.40063173, 0.5993683 ], dtype=float32), 'class_ids': array([1]), 'classes': array([b'1'], dtype=object), 'all_class_ids': array([0, 1], dtype=int32), 'all_classes': array([b'0', b'1'], dtype=object)}, {'logits': array([-1.3832965], dtype=float32), 'logistic': array([0.20048007], dtype=float32), 'probabilities': array([0.79951996, 0.2004801 ], dtype=float32), 'class_ids': array([0]), 'classes': array([b'0'], dtype=object), 'all_class_ids': array([0, 1], dtype=int32), 'all_classes': array([b'0', b'1'], dtype=object)}, {'logits': array([-0.04119408], dtype=float32), 'logistic': array([0.48970294], dtype=float32), 'probabilities': array([0.51029706, 0.48970294], dtype=float32), 'class_ids': array([0]), 'classes': array([b'0'], dtype=object), 'all_class_ids': array([0, 1], dtype=int32), 'all_classes': array([b'0', b'1'], dtype=object)}, {'logits': array([-0.5071764], dtype=float32), 'logistic': array([0.37585568], dtype=float32), 'probabilities': array([0.6241443 , 0.37585568], dtype=float32), 'class_ids': array([0]), 'classes': array([b'0'], dtype=object), 'all_class_ids': array([0, 1], dtype=int32), 'all_classes': array([b'0', b'1'], dtype=object)}, {'logits': array([0.00519204], dtype=float32), 'logistic': array([0.501298], dtype=float32), 'probabilities': array([0.498702, 0.501298], dtype=float32), 'class_ids': array([1]), 'classes': array([b'1'], dtype=object), 'all_class_ids': array([0, 1], dtype=int32), 'all_classes': array([b'0', b'1'], dtype=object)}, {'logits': array([-0.46309978], dtype=float32), 'logistic': array([0.38625073], dtype=float32), 'probabilities': array([0.61374927, 0.3862507 ], dtype=float32), 'class_ids': array([0]), 'classes': array([b'0'], dtype=object), 'all_class_ids': array([0, 1], dtype=int32), 'all_classes': array([b'0', b'1'], dtype=object)}, {'logits': array([-0.14045793], dtype=float32), 'logistic': array([0.46494314], dtype=float32), 'probabilities': array([0.5350569 , 0.46494314], dtype=float32), 'class_ids': array([0]), 'classes': array([b'0'], dtype=object), 'all_class_ids': array([0, 1], dtype=int32), 'all_classes': array([b'0', b'1'], dtype=object)}, {'logits': array([-1.5226816], dtype=float32), 'logistic': array([0.17906696], dtype=float32), 'probabilities': array([0.82093304, 0.17906699], dtype=float32), 'class_ids': array([0]), 'classes': array([b'0'], dtype=object), 'all_class_ids': array([0, 1], dtype=int32), 'all_classes': array([b'0', b'1'], dtype=object)}, {'logits': array([0.2647568], dtype=float32), 'logistic': array([0.56580526], dtype=float32), 'probabilities': array([0.43419474, 0.56580526], dtype=float32), 'class_ids': array([1]), 'classes': array([b'1'], dtype=object), 'all_class_ids': array([0, 1], dtype=int32), 'all_classes': array([b'0', b'1'], dtype=object)}, {'logits': array([0.16736221], dtype=float32), 'logistic': array([0.54174316], dtype=float32), 'probabilities': array([0.4582568 , 0.54174316], dtype=float32), 'class_ids': array([1]), 'classes': array([b'1'], dtype=object), 'all_class_ids': array([0, 1], dtype=int32), 'all_classes': array([b'0', b'1'], dtype=object)}, {'logits': array([-1.2535288], dtype=float32), 'logistic': array([0.22208989], dtype=float32), 'probabilities': array([0.7779101 , 0.22208987], dtype=float32), 'class_ids': array([0]), 'classes': array([b'0'], dtype=object), 'all_class_ids': array([0, 1], dtype=int32), 'all_classes': array([b'0', b'1'], dtype=object)}, {'logits': array([-1.3619776], dtype=float32), 'logistic': array([0.20391908], dtype=float32), 'probabilities': array([0.79608095, 0.20391908], dtype=float32), 'class_ids': array([0]), 'classes': array([b'0'], dtype=object), 'all_class_ids': array([0, 1], dtype=int32), 'all_classes': array([b'0', b'1'], dtype=object)}, {'logits': array([-1.5167725], dtype=float32), 'logistic': array([0.17993727], dtype=float32), 'probabilities': array([0.82006276, 0.17993727], dtype=float32), 'class_ids': array([0]), 'classes': array([b'0'], dtype=object), 'all_class_ids': array([0, 1], dtype=int32), 'all_classes': array([b'0', b'1'], dtype=object)}, {'logits': array([-1.0207644], dtype=float32), 'logistic': array([0.26487857], dtype=float32), 'probabilities': array([0.7351215 , 0.26487857], dtype=float32), 'class_ids': array([0]), 'classes': array([b'0'], dtype=object), 'all_class_ids': array([0, 1], dtype=int32), 'all_classes': array([b'0', b'1'], dtype=object)}, {'logits': array([-0.40963626], dtype=float32), 'logistic': array([0.39899936], dtype=float32), 'probabilities': array([0.60100067, 0.39899933], dtype=float32), 'class_ids': array([0]), 'classes': array([b'0'], dtype=object), 'all_class_ids': array([0, 1], dtype=int32), 'all_classes': array([b'0', b'1'], dtype=object)}, {'logits': array([-1.6651633], dtype=float32), 'logistic': array([0.1590701], dtype=float32), 'probabilities': array([0.8409299, 0.1590701], dtype=float32), 'class_ids': array([0]), 'classes': array([b'0'], dtype=object), 'all_class_ids': array([0, 1], dtype=int32), 'all_classes': array([b'0', b'1'], dtype=object)}, {'logits': array([-0.72720635], dtype=float32), 'logistic': array([0.32580808], dtype=float32), 'probabilities': array([0.6741919 , 0.32580805], dtype=float32), 'class_ids': array([0]), 'classes': array([b'0'], dtype=object), 'all_class_ids': array([0, 1], dtype=int32), 'all_classes': array([b'0', b'1'], dtype=object)}, {'logits': array([-1.1441772], dtype=float32), 'logistic': array([0.24155426], dtype=float32), 'probabilities': array([0.75844574, 0.24155425], dtype=float32), 'class_ids': array([0]), 'classes': array([b'0'], dtype=object), 'all_class_ids': array([0, 1], dtype=int32), 'all_classes': array([b'0', b'1'], dtype=object)}, {'logits': array([-2.0564647], dtype=float32), 'logistic': array([0.11340079], dtype=float32), 'probabilities': array([0.8865992 , 0.11340078], dtype=float32), 'class_ids': array([0]), 'classes': array([b'0'], dtype=object), 'all_class_ids': array([0, 1], dtype=int32), 'all_classes': array([b'0', b'1'], dtype=object)}, {'logits': array([-1.7420135], dtype=float32), 'logistic': array([0.14905736], dtype=float32), 'probabilities': array([0.8509427 , 0.14905737], dtype=float32), 'class_ids': array([0]), 'classes': array([b'0'], dtype=object), 'all_class_ids': array([0, 1], dtype=int32), 'all_classes': array([b'0', b'1'], dtype=object)}, {'logits': array([0.89583206], dtype=float32), 'logistic': array([0.7100922], dtype=float32), 'probabilities': array([0.28990775, 0.71009225], dtype=float32), 'class_ids': array([1]), 'classes': array([b'1'], dtype=object), 'all_class_ids': array([0, 1], dtype=int32), 'all_classes': array([b'0', b'1'], dtype=object)}, {'logits': array([-1.4180517], dtype=float32), 'logistic': array([0.19496718], dtype=float32), 'probabilities': array([0.80503285, 0.1949672 ], dtype=float32), 'class_ids': array([0]), 'classes': array([b'0'], dtype=object), 'all_class_ids': array([0, 1], dtype=int32), 'all_classes': array([b'0', b'1'], dtype=object)}, {'logits': array([-1.6790752], dtype=float32), 'logistic': array([0.15721798], dtype=float32), 'probabilities': array([0.842782  , 0.15721796], dtype=float32), 'class_ids': array([0]), 'classes': array([b'0'], dtype=object), 'all_class_ids': array([0, 1], dtype=int32), 'all_classes': array([b'0', b'1'], dtype=object)}, {'logits': array([-1.5852405], dtype=float32), 'logistic': array([0.17005458], dtype=float32), 'probabilities': array([0.82994545, 0.17005458], dtype=float32), 'class_ids': array([0]), 'classes': array([b'0'], dtype=object), 'all_class_ids': array([0, 1], dtype=int32), 'all_classes': array([b'0', b'1'], dtype=object)}, {'logits': array([0.00436413], dtype=float32), 'logistic': array([0.501091], dtype=float32), 'probabilities': array([0.49890897, 0.501091  ], dtype=float32), 'class_ids': array([1]), 'classes': array([b'1'], dtype=object), 'all_class_ids': array([0, 1], dtype=int32), 'all_classes': array([b'0', b'1'], dtype=object)}, {'logits': array([-0.20936787], dtype=float32), 'logistic': array([0.4478484], dtype=float32), 'probabilities': array([0.5521516, 0.4478484], dtype=float32), 'class_ids': array([0]), 'classes': array([b'0'], dtype=object), 'all_class_ids': array([0, 1], dtype=int32), 'all_classes': array([b'0', b'1'], dtype=object)}, {'logits': array([-1.0578129], dtype=float32), 'logistic': array([0.25772765], dtype=float32), 'probabilities': array([0.7422724 , 0.25772762], dtype=float32), 'class_ids': array([0]), 'classes': array([b'0'], dtype=object), 'all_class_ids': array([0, 1], dtype=int32), 'all_classes': array([b'0', b'1'], dtype=object)}, {'logits': array([-0.27071607], dtype=float32), 'logistic': array([0.43273133], dtype=float32), 'probabilities': array([0.56726867, 0.4327313 ], dtype=float32), 'class_ids': array([0]), 'classes': array([b'0'], dtype=object), 'all_class_ids': array([0, 1], dtype=int32), 'all_classes': array([b'0', b'1'], dtype=object)}, {'logits': array([-1.3121393], dtype=float32), 'logistic': array([0.2121291], dtype=float32), 'probabilities': array([0.7878709 , 0.21212907], dtype=float32), 'class_ids': array([0]), 'classes': array([b'0'], dtype=object), 'all_class_ids': array([0, 1], dtype=int32), 'all_classes': array([b'0', b'1'], dtype=object)}, {'logits': array([-1.2546273], dtype=float32), 'logistic': array([0.22190014], dtype=float32), 'probabilities': array([0.77809983, 0.22190014], dtype=float32), 'class_ids': array([0]), 'classes': array([b'0'], dtype=object), 'all_class_ids': array([0, 1], dtype=int32), 'all_classes': array([b'0', b'1'], dtype=object)}, {'logits': array([-0.04995847], dtype=float32), 'logistic': array([0.48751298], dtype=float32), 'probabilities': array([0.51248705, 0.487513  ], dtype=float32), 'class_ids': array([0]), 'classes': array([b'0'], dtype=object), 'all_class_ids': array([0, 1], dtype=int32), 'all_classes': array([b'0', b'1'], dtype=object)}, {'logits': array([0.07397461], dtype=float32), 'logistic': array([0.51848525], dtype=float32), 'probabilities': array([0.48151478, 0.51848525], dtype=float32), 'class_ids': array([1]), 'classes': array([b'1'], dtype=object), 'all_class_ids': array([0, 1], dtype=int32), 'all_classes': array([b'0', b'1'], dtype=object)}, {'logits': array([-1.6837112], dtype=float32), 'logistic': array([0.15660465], dtype=float32), 'probabilities': array([0.8433953 , 0.15660466], dtype=float32), 'class_ids': array([0]), 'classes': array([b'0'], dtype=object), 'all_class_ids': array([0, 1], dtype=int32), 'all_classes': array([b'0', b'1'], dtype=object)}, {'logits': array([-0.40807718], dtype=float32), 'logistic': array([0.3993733], dtype=float32), 'probabilities': array([0.60062677, 0.3993733 ], dtype=float32), 'class_ids': array([0]), 'classes': array([b'0'], dtype=object), 'all_class_ids': array([0, 1], dtype=int32), 'all_classes': array([b'0', b'1'], dtype=object)}, {'logits': array([0.67073655], dtype=float32), 'logistic': array([0.66166806], dtype=float32), 'probabilities': array([0.3383319 , 0.66166806], dtype=float32), 'class_ids': array([1]), 'classes': array([b'1'], dtype=object), 'all_class_ids': array([0, 1], dtype=int32), 'all_classes': array([b'0', b'1'], dtype=object)}, {'logits': array([0.20754802], dtype=float32), 'logistic': array([0.55170155], dtype=float32), 'probabilities': array([0.44829845, 0.55170155], dtype=float32), 'class_ids': array([1]), 'classes': array([b'1'], dtype=object), 'all_class_ids': array([0, 1], dtype=int32), 'all_classes': array([b'0', b'1'], dtype=object)}, {'logits': array([-0.3191228], dtype=float32), 'logistic': array([0.42088956], dtype=float32), 'probabilities': array([0.57911044, 0.42088956], dtype=float32), 'class_ids': array([0]), 'classes': array([b'0'], dtype=object), 'all_class_ids': array([0, 1], dtype=int32), 'all_classes': array([b'0', b'1'], dtype=object)}, {'logits': array([0.32503355], dtype=float32), 'logistic': array([0.58055043], dtype=float32), 'probabilities': array([0.4194495 , 0.58055043], dtype=float32), 'class_ids': array([1]), 'classes': array([b'1'], dtype=object), 'all_class_ids': array([0, 1], dtype=int32), 'all_classes': array([b'0', b'1'], dtype=object)}, {'logits': array([-1.1674078], dtype=float32), 'logistic': array([0.23732387], dtype=float32), 'probabilities': array([0.7626762, 0.2373239], dtype=float32), 'class_ids': array([0]), 'classes': array([b'0'], dtype=object), 'all_class_ids': array([0, 1], dtype=int32), 'all_classes': array([b'0', b'1'], dtype=object)}, {'logits': array([-1.2868307], dtype=float32), 'logistic': array([0.21638975], dtype=float32), 'probabilities': array([0.7836102 , 0.21638973], dtype=float32), 'class_ids': array([0]), 'classes': array([b'0'], dtype=object), 'all_class_ids': array([0, 1], dtype=int32), 'all_classes': array([b'0', b'1'], dtype=object)}, {'logits': array([-1.6925309], dtype=float32), 'logistic': array([0.15544328], dtype=float32), 'probabilities': array([0.8445566 , 0.15544328], dtype=float32), 'class_ids': array([0]), 'classes': array([b'0'], dtype=object), 'all_class_ids': array([0, 1], dtype=int32), 'all_classes': array([b'0', b'1'], dtype=object)}, {'logits': array([-1.0009531], dtype=float32), 'logistic': array([0.2687541], dtype=float32), 'probabilities': array([0.73124593, 0.26875407], dtype=float32), 'class_ids': array([0]), 'classes': array([b'0'], dtype=object), 'all_class_ids': array([0, 1], dtype=int32), 'all_classes': array([b'0', b'1'], dtype=object)}, {'logits': array([0.08407938], dtype=float32), 'logistic': array([0.5210075], dtype=float32), 'probabilities': array([0.47899252, 0.5210075 ], dtype=float32), 'class_ids': array([1]), 'classes': array([b'1'], dtype=object), 'all_class_ids': array([0, 1], dtype=int32), 'all_classes': array([b'0', b'1'], dtype=object)}, {'logits': array([0.64817095], dtype=float32), 'logistic': array([0.65659815], dtype=float32), 'probabilities': array([0.34340185, 0.6565982 ], dtype=float32), 'class_ids': array([1]), 'classes': array([b'1'], dtype=object), 'all_class_ids': array([0, 1], dtype=int32), 'all_classes': array([b'0', b'1'], dtype=object)}, {'logits': array([-1.0972826], dtype=float32), 'logistic': array([0.2502494], dtype=float32), 'probabilities': array([0.7497506, 0.2502494], dtype=float32), 'class_ids': array([0]), 'classes': array([b'0'], dtype=object), 'all_class_ids': array([0, 1], dtype=int32), 'all_classes': array([b'0', b'1'], dtype=object)}, {'logits': array([-1.5264771], dtype=float32), 'logistic': array([0.17850971], dtype=float32), 'probabilities': array([0.8214903 , 0.17850971], dtype=float32), 'class_ids': array([0]), 'classes': array([b'0'], dtype=object), 'all_class_ids': array([0, 1], dtype=int32), 'all_classes': array([b'0', b'1'], dtype=object)}, {'logits': array([-0.36522746], dtype=float32), 'logistic': array([0.40969473], dtype=float32), 'probabilities': array([0.59030527, 0.40969473], dtype=float32), 'class_ids': array([0]), 'classes': array([b'0'], dtype=object), 'all_class_ids': array([0, 1], dtype=int32), 'all_classes': array([b'0', b'1'], dtype=object)}, {'logits': array([-1.1460093], dtype=float32), 'logistic': array([0.24121875], dtype=float32), 'probabilities': array([0.75878125, 0.24121876], dtype=float32), 'class_ids': array([0]), 'classes': array([b'0'], dtype=object), 'all_class_ids': array([0, 1], dtype=int32), 'all_classes': array([b'0', b'1'], dtype=object)}, {'logits': array([-1.6354846], dtype=float32), 'logistic': array([0.16308041], dtype=float32), 'probabilities': array([0.83691955, 0.16308041], dtype=float32), 'class_ids': array([0]), 'classes': array([b'0'], dtype=object), 'all_class_ids': array([0, 1], dtype=int32), 'all_classes': array([b'0', b'1'], dtype=object)}, {'logits': array([-1.478071], dtype=float32), 'logistic': array([0.18571897], dtype=float32), 'probabilities': array([0.81428105, 0.18571897], dtype=float32), 'class_ids': array([0]), 'classes': array([b'0'], dtype=object), 'all_class_ids': array([0, 1], dtype=int32), 'all_classes': array([b'0', b'1'], dtype=object)}, {'logits': array([-1.7264038], dtype=float32), 'logistic': array([0.15104812], dtype=float32), 'probabilities': array([0.8489519 , 0.15104815], dtype=float32), 'class_ids': array([0]), 'classes': array([b'0'], dtype=object), 'all_class_ids': array([0, 1], dtype=int32), 'all_classes': array([b'0', b'1'], dtype=object)}, {'logits': array([-0.52205896], dtype=float32), 'logistic': array([0.3723709], dtype=float32), 'probabilities': array([0.6276291 , 0.37237093], dtype=float32), 'class_ids': array([0]), 'classes': array([b'0'], dtype=object), 'all_class_ids': array([0, 1], dtype=int32), 'all_classes': array([b'0', b'1'], dtype=object)}, {'logits': array([0.94768727], dtype=float32), 'logistic': array([0.72064984], dtype=float32), 'probabilities': array([0.27935016, 0.72064984], dtype=float32), 'class_ids': array([1]), 'classes': array([b'1'], dtype=object), 'all_class_ids': array([0, 1], dtype=int32), 'all_classes': array([b'0', b'1'], dtype=object)}, {'logits': array([1.2143885], dtype=float32), 'logistic': array([0.77107453], dtype=float32), 'probabilities': array([0.22892548, 0.77107453], dtype=float32), 'class_ids': array([1]), 'classes': array([b'1'], dtype=object), 'all_class_ids': array([0, 1], dtype=int32), 'all_classes': array([b'0', b'1'], dtype=object)}, {'logits': array([0.1726762], dtype=float32), 'logistic': array([0.5430621], dtype=float32), 'probabilities': array([0.4569379, 0.5430621], dtype=float32), 'class_ids': array([1]), 'classes': array([b'1'], dtype=object), 'all_class_ids': array([0, 1], dtype=int32), 'all_classes': array([b'0', b'1'], dtype=object)}, {'logits': array([0.13876033], dtype=float32), 'logistic': array([0.53463453], dtype=float32), 'probabilities': array([0.46536547, 0.53463453], dtype=float32), 'class_ids': array([1]), 'classes': array([b'1'], dtype=object), 'all_class_ids': array([0, 1], dtype=int32), 'all_classes': array([b'0', b'1'], dtype=object)}, {'logits': array([0.25457537], dtype=float32), 'logistic': array([0.56330234], dtype=float32), 'probabilities': array([0.43669766, 0.56330234], dtype=float32), 'class_ids': array([1]), 'classes': array([b'1'], dtype=object), 'all_class_ids': array([0, 1], dtype=int32), 'all_classes': array([b'0', b'1'], dtype=object)}, {'logits': array([-1.9021046], dtype=float32), 'logistic': array([0.12987041], dtype=float32), 'probabilities': array([0.8701295 , 0.12987046], dtype=float32), 'class_ids': array([0]), 'classes': array([b'0'], dtype=object), 'all_class_ids': array([0, 1], dtype=int32), 'all_classes': array([b'0', b'1'], dtype=object)}, {'logits': array([0.163759], dtype=float32), 'logistic': array([0.5408485], dtype=float32), 'probabilities': array([0.45915148, 0.5408485 ], dtype=float32), 'class_ids': array([1]), 'classes': array([b'1'], dtype=object), 'all_class_ids': array([0, 1], dtype=int32), 'all_classes': array([b'0', b'1'], dtype=object)}, {'logits': array([0.9859985], dtype=float32), 'logistic': array([0.7282968], dtype=float32), 'probabilities': array([0.27170318, 0.7282968 ], dtype=float32), 'class_ids': array([1]), 'classes': array([b'1'], dtype=object), 'all_class_ids': array([0, 1], dtype=int32), 'all_classes': array([b'0', b'1'], dtype=object)}, {'logits': array([-0.2097848], dtype=float32), 'logistic': array([0.4477453], dtype=float32), 'probabilities': array([0.5522547, 0.4477453], dtype=float32), 'class_ids': array([0]), 'classes': array([b'0'], dtype=object), 'all_class_ids': array([0, 1], dtype=int32), 'all_classes': array([b'0', b'1'], dtype=object)}, {'logits': array([-0.93865854], dtype=float32), 'logistic': array([0.2811714], dtype=float32), 'probabilities': array([0.7188286, 0.2811714], dtype=float32), 'class_ids': array([0]), 'classes': array([b'0'], dtype=object), 'all_class_ids': array([0, 1], dtype=int32), 'all_classes': array([b'0', b'1'], dtype=object)}, {'logits': array([-0.47954804], dtype=float32), 'logistic': array([0.38235885], dtype=float32), 'probabilities': array([0.61764115, 0.38235888], dtype=float32), 'class_ids': array([0]), 'classes': array([b'0'], dtype=object), 'all_class_ids': array([0, 1], dtype=int32), 'all_classes': array([b'0', b'1'], dtype=object)}, {'logits': array([0.28973746], dtype=float32), 'logistic': array([0.57193184], dtype=float32), 'probabilities': array([0.42806813, 0.57193184], dtype=float32), 'class_ids': array([1]), 'classes': array([b'1'], dtype=object), 'all_class_ids': array([0, 1], dtype=int32), 'all_classes': array([b'0', b'1'], dtype=object)}, {'logits': array([-1.1037115], dtype=float32), 'logistic': array([0.24904513], dtype=float32), 'probabilities': array([0.7509549 , 0.24904513], dtype=float32), 'class_ids': array([0]), 'classes': array([b'0'], dtype=object), 'all_class_ids': array([0, 1], dtype=int32), 'all_classes': array([b'0', b'1'], dtype=object)}, {'logits': array([0.59083736], dtype=float32), 'logistic': array([0.64355725], dtype=float32), 'probabilities': array([0.35644272, 0.64355725], dtype=float32), 'class_ids': array([1]), 'classes': array([b'1'], dtype=object), 'all_class_ids': array([0, 1], dtype=int32), 'all_classes': array([b'0', b'1'], dtype=object)}, {'logits': array([-0.1875534], dtype=float32), 'logistic': array([0.45324862], dtype=float32), 'probabilities': array([0.5467514 , 0.45324862], dtype=float32), 'class_ids': array([0]), 'classes': array([b'0'], dtype=object), 'all_class_ids': array([0, 1], dtype=int32), 'all_classes': array([b'0', b'1'], dtype=object)}, {'logits': array([-0.25660276], dtype=float32), 'logistic': array([0.436199], dtype=float32), 'probabilities': array([0.563801, 0.436199], dtype=float32), 'class_ids': array([0]), 'classes': array([b'0'], dtype=object), 'all_class_ids': array([0, 1], dtype=int32), 'all_classes': array([b'0', b'1'], dtype=object)}, {'logits': array([-1.5772767], dtype=float32), 'logistic': array([0.1711815], dtype=float32), 'probabilities': array([0.8288185 , 0.17118151], dtype=float32), 'class_ids': array([0]), 'classes': array([b'0'], dtype=object), 'all_class_ids': array([0, 1], dtype=int32), 'all_classes': array([b'0', b'1'], dtype=object)}, {'logits': array([-1.3291799], dtype=float32), 'logistic': array([0.20929506], dtype=float32), 'probabilities': array([0.79070497, 0.20929505], dtype=float32), 'class_ids': array([0]), 'classes': array([b'0'], dtype=object), 'all_class_ids': array([0, 1], dtype=int32), 'all_classes': array([b'0', b'1'], dtype=object)}, {'logits': array([-1.4027431], dtype=float32), 'logistic': array([0.19738117], dtype=float32), 'probabilities': array([0.8026188 , 0.19738118], dtype=float32), 'class_ids': array([0]), 'classes': array([b'0'], dtype=object), 'all_class_ids': array([0, 1], dtype=int32), 'all_classes': array([b'0', b'1'], dtype=object)}, {'logits': array([-0.20913404], dtype=float32), 'logistic': array([0.44790623], dtype=float32), 'probabilities': array([0.5520938 , 0.44790623], dtype=float32), 'class_ids': array([0]), 'classes': array([b'0'], dtype=object), 'all_class_ids': array([0, 1], dtype=int32), 'all_classes': array([b'0', b'1'], dtype=object)}, {'logits': array([-1.6069834], dtype=float32), 'logistic': array([0.16700786], dtype=float32), 'probabilities': array([0.83299214, 0.16700785], dtype=float32), 'class_ids': array([0]), 'classes': array([b'0'], dtype=object), 'all_class_ids': array([0, 1], dtype=int32), 'all_classes': array([b'0', b'1'], dtype=object)}, {'logits': array([1.0451475], dtype=float32), 'logistic': array([0.739842], dtype=float32), 'probabilities': array([0.26015797, 0.739842  ], dtype=float32), 'class_ids': array([1]), 'classes': array([b'1'], dtype=object), 'all_class_ids': array([0, 1], dtype=int32), 'all_classes': array([b'0', b'1'], dtype=object)}, {'logits': array([-1.393103], dtype=float32), 'logistic': array([0.19891283], dtype=float32), 'probabilities': array([0.80108714, 0.19891284], dtype=float32), 'class_ids': array([0]), 'classes': array([b'0'], dtype=object), 'all_class_ids': array([0, 1], dtype=int32), 'all_classes': array([b'0', b'1'], dtype=object)}, {'logits': array([-0.03204775], dtype=float32), 'logistic': array([0.49198875], dtype=float32), 'probabilities': array([0.5080113 , 0.49198878], dtype=float32), 'class_ids': array([0]), 'classes': array([b'0'], dtype=object), 'all_class_ids': array([0, 1], dtype=int32), 'all_classes': array([b'0', b'1'], dtype=object)}, {'logits': array([-1.5470383], dtype=float32), 'logistic': array([0.17551446], dtype=float32), 'probabilities': array([0.82448554, 0.17551443], dtype=float32), 'class_ids': array([0]), 'classes': array([b'0'], dtype=object), 'all_class_ids': array([0, 1], dtype=int32), 'all_classes': array([b'0', b'1'], dtype=object)}, {'logits': array([0.69222724], dtype=float32), 'logistic': array([0.6664622], dtype=float32), 'probabilities': array([0.33353785, 0.66646224], dtype=float32), 'class_ids': array([1]), 'classes': array([b'1'], dtype=object), 'all_class_ids': array([0, 1], dtype=int32), 'all_classes': array([b'0', b'1'], dtype=object)}, {'logits': array([-0.77071285], dtype=float32), 'logistic': array([0.31632492], dtype=float32), 'probabilities': array([0.6836751 , 0.31632492], dtype=float32), 'class_ids': array([0]), 'classes': array([b'0'], dtype=object), 'all_class_ids': array([0, 1], dtype=int32), 'all_classes': array([b'0', b'1'], dtype=object)}, {'logits': array([-1.4337764], dtype=float32), 'logistic': array([0.19251096], dtype=float32), 'probabilities': array([0.80748904, 0.19251096], dtype=float32), 'class_ids': array([0]), 'classes': array([b'0'], dtype=object), 'all_class_ids': array([0, 1], dtype=int32), 'all_classes': array([b'0', b'1'], dtype=object)}, {'logits': array([-0.5716305], dtype=float32), 'logistic': array([0.3608607], dtype=float32), 'probabilities': array([0.63913935, 0.3608607 ], dtype=float32), 'class_ids': array([0]), 'classes': array([b'0'], dtype=object), 'all_class_ids': array([0, 1], dtype=int32), 'all_classes': array([b'0', b'1'], dtype=object)}, {'logits': array([-0.7433296], dtype=float32), 'logistic': array([0.32227647], dtype=float32), 'probabilities': array([0.6777235, 0.3222765], dtype=float32), 'class_ids': array([0]), 'classes': array([b'0'], dtype=object), 'all_class_ids': array([0, 1], dtype=int32), 'all_classes': array([b'0', b'1'], dtype=object)}, {'logits': array([-1.5413693], dtype=float32), 'logistic': array([0.17633629], dtype=float32), 'probabilities': array([0.8236637 , 0.17633632], dtype=float32), 'class_ids': array([0]), 'classes': array([b'0'], dtype=object), 'all_class_ids': array([0, 1], dtype=int32), 'all_classes': array([b'0', b'1'], dtype=object)}, {'logits': array([0.6961788], dtype=float32), 'logistic': array([0.66734004], dtype=float32), 'probabilities': array([0.33265996, 0.66734   ], dtype=float32), 'class_ids': array([1]), 'classes': array([b'1'], dtype=object), 'all_class_ids': array([0, 1], dtype=int32), 'all_classes': array([b'0', b'1'], dtype=object)}, {'logits': array([-1.4851563], dtype=float32), 'logistic': array([0.18464985], dtype=float32), 'probabilities': array([0.8153502 , 0.18464985], dtype=float32), 'class_ids': array([0]), 'classes': array([b'0'], dtype=object), 'all_class_ids': array([0, 1], dtype=int32), 'all_classes': array([b'0', b'1'], dtype=object)}, {'logits': array([-1.5447329], dtype=float32), 'logistic': array([0.1758483], dtype=float32), 'probabilities': array([0.8241517 , 0.17584829], dtype=float32), 'class_ids': array([0]), 'classes': array([b'0'], dtype=object), 'all_class_ids': array([0, 1], dtype=int32), 'all_classes': array([b'0', b'1'], dtype=object)}, {'logits': array([-0.8331593], dtype=float32), 'logistic': array([0.30297747], dtype=float32), 'probabilities': array([0.69702256, 0.30297747], dtype=float32), 'class_ids': array([0]), 'classes': array([b'0'], dtype=object), 'all_class_ids': array([0, 1], dtype=int32), 'all_classes': array([b'0', b'1'], dtype=object)}, {'logits': array([-0.05702478], dtype=float32), 'logistic': array([0.48574767], dtype=float32), 'probabilities': array([0.5142523 , 0.48574764], dtype=float32), 'class_ids': array([0]), 'classes': array([b'0'], dtype=object), 'all_class_ids': array([0, 1], dtype=int32), 'all_classes': array([b'0', b'1'], dtype=object)}, {'logits': array([-0.97009027], dtype=float32), 'logistic': array([0.2748625], dtype=float32), 'probabilities': array([0.7251375, 0.2748625], dtype=float32), 'class_ids': array([0]), 'classes': array([b'0'], dtype=object), 'all_class_ids': array([0, 1], dtype=int32), 'all_classes': array([b'0', b'1'], dtype=object)}, {'logits': array([-1.8029249], dtype=float32), 'logistic': array([0.14149539], dtype=float32), 'probabilities': array([0.8585046 , 0.14149539], dtype=float32), 'class_ids': array([0]), 'classes': array([b'0'], dtype=object), 'all_class_ids': array([0, 1], dtype=int32), 'all_classes': array([b'0', b'1'], dtype=object)}, {'logits': array([1.4034647], dtype=float32), 'logistic': array([0.8027331], dtype=float32), 'probabilities': array([0.19726689, 0.80273306], dtype=float32), 'class_ids': array([1]), 'classes': array([b'1'], dtype=object), 'all_class_ids': array([0, 1], dtype=int32), 'all_classes': array([b'0', b'1'], dtype=object)}, {'logits': array([0.61600244], dtype=float32), 'logistic': array([0.6493088], dtype=float32), 'probabilities': array([0.3506912 , 0.64930886], dtype=float32), 'class_ids': array([1]), 'classes': array([b'1'], dtype=object), 'all_class_ids': array([0, 1], dtype=int32), 'all_classes': array([b'0', b'1'], dtype=object)}, {'logits': array([0.14842522], dtype=float32), 'logistic': array([0.5370383], dtype=float32), 'probabilities': array([0.46296167, 0.5370383 ], dtype=float32), 'class_ids': array([1]), 'classes': array([b'1'], dtype=object), 'all_class_ids': array([0, 1], dtype=int32), 'all_classes': array([b'0', b'1'], dtype=object)}, {'logits': array([0.95314944], dtype=float32), 'logistic': array([0.7217481], dtype=float32), 'probabilities': array([0.27825186, 0.72174805], dtype=float32), 'class_ids': array([1]), 'classes': array([b'1'], dtype=object), 'all_class_ids': array([0, 1], dtype=int32), 'all_classes': array([b'0', b'1'], dtype=object)}, {'logits': array([-1.697582], dtype=float32), 'logistic': array([0.15478131], dtype=float32), 'probabilities': array([0.8452187 , 0.15478134], dtype=float32), 'class_ids': array([0]), 'classes': array([b'0'], dtype=object), 'all_class_ids': array([0, 1], dtype=int32), 'all_classes': array([b'0', b'1'], dtype=object)}, {'logits': array([-1.6880529], dtype=float32), 'logistic': array([0.15603209], dtype=float32), 'probabilities': array([0.8439679 , 0.15603207], dtype=float32), 'class_ids': array([0]), 'classes': array([b'0'], dtype=object), 'all_class_ids': array([0, 1], dtype=int32), 'all_classes': array([b'0', b'1'], dtype=object)}, {'logits': array([-1.1678066], dtype=float32), 'logistic': array([0.2372517], dtype=float32), 'probabilities': array([0.7627483 , 0.23725167], dtype=float32), 'class_ids': array([0]), 'classes': array([b'0'], dtype=object), 'all_class_ids': array([0, 1], dtype=int32), 'all_classes': array([b'0', b'1'], dtype=object)}, {'logits': array([-0.763446], dtype=float32), 'logistic': array([0.31789857], dtype=float32), 'probabilities': array([0.6821014 , 0.31789857], dtype=float32), 'class_ids': array([0]), 'classes': array([b'0'], dtype=object), 'all_class_ids': array([0, 1], dtype=int32), 'all_classes': array([b'0', b'1'], dtype=object)}, {'logits': array([-0.5358318], dtype=float32), 'logistic': array([0.36915776], dtype=float32), 'probabilities': array([0.63084227, 0.36915773], dtype=float32), 'class_ids': array([0]), 'classes': array([b'0'], dtype=object), 'all_class_ids': array([0, 1], dtype=int32), 'all_classes': array([b'0', b'1'], dtype=object)}, {'logits': array([0.20117128], dtype=float32), 'logistic': array([0.5501239], dtype=float32), 'probabilities': array([0.44987607, 0.5501239 ], dtype=float32), 'class_ids': array([1]), 'classes': array([b'1'], dtype=object), 'all_class_ids': array([0, 1], dtype=int32), 'all_classes': array([b'0', b'1'], dtype=object)}, {'logits': array([0.29080784], dtype=float32), 'logistic': array([0.57219386], dtype=float32), 'probabilities': array([0.4278061, 0.5721939], dtype=float32), 'class_ids': array([1]), 'classes': array([b'1'], dtype=object), 'all_class_ids': array([0, 1], dtype=int32), 'all_classes': array([b'0', b'1'], dtype=object)}, {'logits': array([-0.35017312], dtype=float32), 'logistic': array([0.41334045], dtype=float32), 'probabilities': array([0.58665955, 0.41334045], dtype=float32), 'class_ids': array([0]), 'classes': array([b'0'], dtype=object), 'all_class_ids': array([0, 1], dtype=int32), 'all_classes': array([b'0', b'1'], dtype=object)}, {'logits': array([-0.4069991], dtype=float32), 'logistic': array([0.39963192], dtype=float32), 'probabilities': array([0.6003681 , 0.39963186], dtype=float32), 'class_ids': array([0]), 'classes': array([b'0'], dtype=object), 'all_class_ids': array([0, 1], dtype=int32), 'all_classes': array([b'0', b'1'], dtype=object)}, {'logits': array([-0.5692805], dtype=float32), 'logistic': array([0.36140287], dtype=float32), 'probabilities': array([0.63859713, 0.36140287], dtype=float32), 'class_ids': array([0]), 'classes': array([b'0'], dtype=object), 'all_class_ids': array([0, 1], dtype=int32), 'all_classes': array([b'0', b'1'], dtype=object)}, {'logits': array([-1.4549873], dtype=float32), 'logistic': array([0.18923518], dtype=float32), 'probabilities': array([0.8107648, 0.1892352], dtype=float32), 'class_ids': array([0]), 'classes': array([b'0'], dtype=object), 'all_class_ids': array([0, 1], dtype=int32), 'all_classes': array([b'0', b'1'], dtype=object)}, {'logits': array([0.5544592], dtype=float32), 'logistic': array([0.63516957], dtype=float32), 'probabilities': array([0.36483046, 0.63516957], dtype=float32), 'class_ids': array([1]), 'classes': array([b'1'], dtype=object), 'all_class_ids': array([0, 1], dtype=int32), 'all_classes': array([b'0', b'1'], dtype=object)}, {'logits': array([-1.6777959], dtype=float32), 'logistic': array([0.15738755], dtype=float32), 'probabilities': array([0.84261245, 0.15738755], dtype=float32), 'class_ids': array([0]), 'classes': array([b'0'], dtype=object), 'all_class_ids': array([0, 1], dtype=int32), 'all_classes': array([b'0', b'1'], dtype=object)}, {'logits': array([-0.9926034], dtype=float32), 'logistic': array([0.2703982], dtype=float32), 'probabilities': array([0.72960186, 0.27039817], dtype=float32), 'class_ids': array([0]), 'classes': array([b'0'], dtype=object), 'all_class_ids': array([0, 1], dtype=int32), 'all_classes': array([b'0', b'1'], dtype=object)}, {'logits': array([0.25948298], dtype=float32), 'logistic': array([0.5645092], dtype=float32), 'probabilities': array([0.43549082, 0.5645092 ], dtype=float32), 'class_ids': array([1]), 'classes': array([b'1'], dtype=object), 'all_class_ids': array([0, 1], dtype=int32), 'all_classes': array([b'0', b'1'], dtype=object)}, {'logits': array([-0.55464685], dtype=float32), 'logistic': array([0.36478698], dtype=float32), 'probabilities': array([0.635213  , 0.36478695], dtype=float32), 'class_ids': array([0]), 'classes': array([b'0'], dtype=object), 'all_class_ids': array([0, 1], dtype=int32), 'all_classes': array([b'0', b'1'], dtype=object)}, {'logits': array([-1.4671346], dtype=float32), 'logistic': array([0.18737853], dtype=float32), 'probabilities': array([0.8126215 , 0.18737854], dtype=float32), 'class_ids': array([0]), 'classes': array([b'0'], dtype=object), 'all_class_ids': array([0, 1], dtype=int32), 'all_classes': array([b'0', b'1'], dtype=object)}, {'logits': array([-0.8677209], dtype=float32), 'logistic': array([0.29572874], dtype=float32), 'probabilities': array([0.70427126, 0.29572877], dtype=float32), 'class_ids': array([0]), 'classes': array([b'0'], dtype=object), 'all_class_ids': array([0, 1], dtype=int32), 'all_classes': array([b'0', b'1'], dtype=object)}, {'logits': array([-1.1109021], dtype=float32), 'logistic': array([0.24770275], dtype=float32), 'probabilities': array([0.7522973 , 0.24770276], dtype=float32), 'class_ids': array([0]), 'classes': array([b'0'], dtype=object), 'all_class_ids': array([0, 1], dtype=int32), 'all_classes': array([b'0', b'1'], dtype=object)}, {'logits': array([-1.6801383], dtype=float32), 'logistic': array([0.15707713], dtype=float32), 'probabilities': array([0.84292287, 0.15707716], dtype=float32), 'class_ids': array([0]), 'classes': array([b'0'], dtype=object), 'all_class_ids': array([0, 1], dtype=int32), 'all_classes': array([b'0', b'1'], dtype=object)}, {'logits': array([-1.2269726], dtype=float32), 'logistic': array([0.22671175], dtype=float32), 'probabilities': array([0.77328825, 0.22671172], dtype=float32), 'class_ids': array([0]), 'classes': array([b'0'], dtype=object), 'all_class_ids': array([0, 1], dtype=int32), 'all_classes': array([b'0', b'1'], dtype=object)}, {'logits': array([0.24496484], dtype=float32), 'logistic': array([0.5609368], dtype=float32), 'probabilities': array([0.43906322, 0.5609368 ], dtype=float32), 'class_ids': array([1]), 'classes': array([b'1'], dtype=object), 'all_class_ids': array([0, 1], dtype=int32), 'all_classes': array([b'0', b'1'], dtype=object)}, {'logits': array([0.7537507], dtype=float32), 'logistic': array([0.6799954], dtype=float32), 'probabilities': array([0.32000455, 0.67999536], dtype=float32), 'class_ids': array([1]), 'classes': array([b'1'], dtype=object), 'all_class_ids': array([0, 1], dtype=int32), 'all_classes': array([b'0', b'1'], dtype=object)}, {'logits': array([0.5279225], dtype=float32), 'logistic': array([0.6289984], dtype=float32), 'probabilities': array([0.3710016 , 0.62899846], dtype=float32), 'class_ids': array([1]), 'classes': array([b'1'], dtype=object), 'all_class_ids': array([0, 1], dtype=int32), 'all_classes': array([b'0', b'1'], dtype=object)}, {'logits': array([0.7719325], dtype=float32), 'logistic': array([0.6839388], dtype=float32), 'probabilities': array([0.31606123, 0.6839388 ], dtype=float32), 'class_ids': array([1]), 'classes': array([b'1'], dtype=object), 'all_class_ids': array([0, 1], dtype=int32), 'all_classes': array([b'0', b'1'], dtype=object)}, {'logits': array([-0.33263952], dtype=float32), 'logistic': array([0.41759852], dtype=float32), 'probabilities': array([0.58240145, 0.41759852], dtype=float32), 'class_ids': array([0]), 'classes': array([b'0'], dtype=object), 'all_class_ids': array([0, 1], dtype=int32), 'all_classes': array([b'0', b'1'], dtype=object)}, {'logits': array([-0.6961364], dtype=float32), 'logistic': array([0.33266938], dtype=float32), 'probabilities': array([0.6673306, 0.3326694], dtype=float32), 'class_ids': array([0]), 'classes': array([b'0'], dtype=object), 'all_class_ids': array([0, 1], dtype=int32), 'all_classes': array([b'0', b'1'], dtype=object)}, {'logits': array([0.17099643], dtype=float32), 'logistic': array([0.5426452], dtype=float32), 'probabilities': array([0.45735478, 0.5426453 ], dtype=float32), 'class_ids': array([1]), 'classes': array([b'1'], dtype=object), 'all_class_ids': array([0, 1], dtype=int32), 'all_classes': array([b'0', b'1'], dtype=object)}, {'logits': array([-1.3693815], dtype=float32), 'logistic': array([0.20271981], dtype=float32), 'probabilities': array([0.79728025, 0.20271981], dtype=float32), 'class_ids': array([0]), 'classes': array([b'0'], dtype=object), 'all_class_ids': array([0, 1], dtype=int32), 'all_classes': array([b'0', b'1'], dtype=object)}, {'logits': array([-1.5437099], dtype=float32), 'logistic': array([0.1759966], dtype=float32), 'probabilities': array([0.82400334, 0.17599662], dtype=float32), 'class_ids': array([0]), 'classes': array([b'0'], dtype=object), 'all_class_ids': array([0, 1], dtype=int32), 'all_classes': array([b'0', b'1'], dtype=object)}, {'logits': array([-1.4009161], dtype=float32), 'logistic': array([0.19767079], dtype=float32), 'probabilities': array([0.80232924, 0.19767079], dtype=float32), 'class_ids': array([0]), 'classes': array([b'0'], dtype=object), 'all_class_ids': array([0, 1], dtype=int32), 'all_classes': array([b'0', b'1'], dtype=object)}, {'logits': array([0.02882695], dtype=float32), 'logistic': array([0.50720626], dtype=float32), 'probabilities': array([0.49279377, 0.50720626], dtype=float32), 'class_ids': array([1]), 'classes': array([b'1'], dtype=object), 'all_class_ids': array([0, 1], dtype=int32), 'all_classes': array([b'0', b'1'], dtype=object)}, {'logits': array([-2.5112314], dtype=float32), 'logistic': array([0.07507449], dtype=float32), 'probabilities': array([0.9249255 , 0.07507456], dtype=float32), 'class_ids': array([0]), 'classes': array([b'0'], dtype=object), 'all_class_ids': array([0, 1], dtype=int32), 'all_classes': array([b'0', b'1'], dtype=object)}, {'logits': array([-0.8825351], dtype=float32), 'logistic': array([0.29265273], dtype=float32), 'probabilities': array([0.7073473 , 0.29265273], dtype=float32), 'class_ids': array([0]), 'classes': array([b'0'], dtype=object), 'all_class_ids': array([0, 1], dtype=int32), 'all_classes': array([b'0', b'1'], dtype=object)}, {'logits': array([-1.5890968], dtype=float32), 'logistic': array([0.16951102], dtype=float32), 'probabilities': array([0.830489, 0.169511], dtype=float32), 'class_ids': array([0]), 'classes': array([b'0'], dtype=object), 'all_class_ids': array([0, 1], dtype=int32), 'all_classes': array([b'0', b'1'], dtype=object)}, {'logits': array([-0.9518151], dtype=float32), 'logistic': array([0.27851993], dtype=float32), 'probabilities': array([0.72148  , 0.2785199], dtype=float32), 'class_ids': array([0]), 'classes': array([b'0'], dtype=object), 'all_class_ids': array([0, 1], dtype=int32), 'all_classes': array([b'0', b'1'], dtype=object)}, {'logits': array([-1.03654], dtype=float32), 'logistic': array([0.26181814], dtype=float32), 'probabilities': array([0.7381818 , 0.26181817], dtype=float32), 'class_ids': array([0]), 'classes': array([b'0'], dtype=object), 'all_class_ids': array([0, 1], dtype=int32), 'all_classes': array([b'0', b'1'], dtype=object)}, {'logits': array([-0.8716451], dtype=float32), 'logistic': array([0.29491213], dtype=float32), 'probabilities': array([0.70508784, 0.29491207], dtype=float32), 'class_ids': array([0]), 'classes': array([b'0'], dtype=object), 'all_class_ids': array([0, 1], dtype=int32), 'all_classes': array([b'0', b'1'], dtype=object)}, {'logits': array([1.3161584], dtype=float32), 'logistic': array([0.7885419], dtype=float32), 'probabilities': array([0.21145816, 0.7885419 ], dtype=float32), 'class_ids': array([1]), 'classes': array([b'1'], dtype=object), 'all_class_ids': array([0, 1], dtype=int32), 'all_classes': array([b'0', b'1'], dtype=object)}, {'logits': array([-1.3720975], dtype=float32), 'logistic': array([0.20228118], dtype=float32), 'probabilities': array([0.7977188 , 0.20228116], dtype=float32), 'class_ids': array([0]), 'classes': array([b'0'], dtype=object), 'all_class_ids': array([0, 1], dtype=int32), 'all_classes': array([b'0', b'1'], dtype=object)}, {'logits': array([-1.753493], dtype=float32), 'logistic': array([0.14760718], dtype=float32), 'probabilities': array([0.8523928 , 0.14760718], dtype=float32), 'class_ids': array([0]), 'classes': array([b'0'], dtype=object), 'all_class_ids': array([0, 1], dtype=int32), 'all_classes': array([b'0', b'1'], dtype=object)}, {'logits': array([0.4109062], dtype=float32), 'logistic': array([0.6013051], dtype=float32), 'probabilities': array([0.3986948, 0.6013051], dtype=float32), 'class_ids': array([1]), 'classes': array([b'1'], dtype=object), 'all_class_ids': array([0, 1], dtype=int32), 'all_classes': array([b'0', b'1'], dtype=object)}, {'logits': array([-0.13382572], dtype=float32), 'logistic': array([0.4665934], dtype=float32), 'probabilities': array([0.5334066 , 0.46659344], dtype=float32), 'class_ids': array([0]), 'classes': array([b'0'], dtype=object), 'all_class_ids': array([0, 1], dtype=int32), 'all_classes': array([b'0', b'1'], dtype=object)}, {'logits': array([1.7174588], dtype=float32), 'logistic': array([0.8478012], dtype=float32), 'probabilities': array([0.15219878, 0.8478012 ], dtype=float32), 'class_ids': array([1]), 'classes': array([b'1'], dtype=object), 'all_class_ids': array([0, 1], dtype=int32), 'all_classes': array([b'0', b'1'], dtype=object)}, {'logits': array([0.55898917], dtype=float32), 'logistic': array([0.6362186], dtype=float32), 'probabilities': array([0.36378136, 0.6362186 ], dtype=float32), 'class_ids': array([1]), 'classes': array([b'1'], dtype=object), 'all_class_ids': array([0, 1], dtype=int32), 'all_classes': array([b'0', b'1'], dtype=object)}, {'logits': array([-1.7407796], dtype=float32), 'logistic': array([0.14921394], dtype=float32), 'probabilities': array([0.8507861 , 0.14921394], dtype=float32), 'class_ids': array([0]), 'classes': array([b'0'], dtype=object), 'all_class_ids': array([0, 1], dtype=int32), 'all_classes': array([b'0', b'1'], dtype=object)}, {'logits': array([0.42561793], dtype=float32), 'logistic': array([0.6048268], dtype=float32), 'probabilities': array([0.39517322, 0.6048268 ], dtype=float32), 'class_ids': array([1]), 'classes': array([b'1'], dtype=object), 'all_class_ids': array([0, 1], dtype=int32), 'all_classes': array([b'0', b'1'], dtype=object)}]\n"
     ]
    }
   ],
   "source": [
    "print(my_pred)"
   ]
  },
  {
   "cell_type": "markdown",
   "metadata": {},
   "source": [
    "## Dense Neural Network Classifier:"
   ]
  },
  {
   "cell_type": "code",
   "execution_count": 105,
   "metadata": {},
   "outputs": [
    {
     "name": "stderr",
     "output_type": "stream",
     "text": [
      "W0823 17:53:29.439922 140468405307200 estimator.py:1811] Using temporary folder as model directory: /tmp/tmp97jb946l\n"
     ]
    }
   ],
   "source": [
    "dnn_model = tf.estimator.DNNClassifier(hidden_units = [10,10,10], feature_columns = feat_cols,\n",
    "                                      n_classes = 2)\n",
    "\n",
    "# hidden_units = [10,10,10] -> 10 hidden layers, with 10 Neurons each!\n",
    "# n_classes = no. of classes to predict"
   ]
  },
  {
   "cell_type": "markdown",
   "metadata": {},
   "source": [
    "### Training the Model:"
   ]
  },
  {
   "cell_type": "code",
   "execution_count": 109,
   "metadata": {},
   "outputs": [
    {
     "data": {
      "text/plain": [
       "<tensorflow_estimator.python.estimator.canned.dnn.DNNClassifier at 0x7fc0cb0de978>"
      ]
     },
     "execution_count": 109,
     "metadata": {},
     "output_type": "execute_result"
    }
   ],
   "source": [
    "dnn_model.train(input_fn = input_func, steps = 1000)"
   ]
  },
  {
   "cell_type": "markdown",
   "metadata": {},
   "source": [
    "### Evaluating Model:"
   ]
  },
  {
   "cell_type": "code",
   "execution_count": 113,
   "metadata": {},
   "outputs": [
    {
     "name": "stderr",
     "output_type": "stream",
     "text": [
      "W0823 18:06:13.223000 140468405307200 metrics_impl.py:804] Trapezoidal rule is known to produce incorrect PR-AUCs; please switch to \"careful_interpolation\" instead.\n",
      "W0823 18:06:13.253137 140468405307200 metrics_impl.py:804] Trapezoidal rule is known to produce incorrect PR-AUCs; please switch to \"careful_interpolation\" instead.\n"
     ]
    },
    {
     "data": {
      "text/plain": [
       "{'accuracy': 0.75757575,\n",
       " 'accuracy_baseline': 0.64935064,\n",
       " 'auc': 0.83897126,\n",
       " 'auc_precision_recall': 0.7141355,\n",
       " 'average_loss': 0.48286295,\n",
       " 'label/mean': 0.35064936,\n",
       " 'loss': 4.647556,\n",
       " 'precision': 0.64044946,\n",
       " 'prediction/mean': 0.405599,\n",
       " 'recall': 0.7037037,\n",
       " 'global_step': 3000}"
      ]
     },
     "execution_count": 113,
     "metadata": {},
     "output_type": "execute_result"
    }
   ],
   "source": [
    "eval_input_func = tf.estimator.inputs.pandas_input_fn(x = X_test, y = y_test,\n",
    "                                                     batch_size = 10, num_epochs = 1,\n",
    "                                                     shuffle = False)\n",
    "\n",
    "dnn_model.evaluate(eval_input_func)\n",
    "\n",
    "# Looks like we got around same 'Accuracy' as we get earlier with 'Linear Classifier'"
   ]
  },
  {
   "cell_type": "code",
   "execution_count": 114,
   "metadata": {},
   "outputs": [
    {
     "name": "stderr",
     "output_type": "stream",
     "text": [
      "W0823 18:16:44.645871 140468405307200 estimator.py:1811] Using temporary folder as model directory: /tmp/tmp_2x6zj7u\n",
      "W0823 18:16:50.087977 140468405307200 metrics_impl.py:804] Trapezoidal rule is known to produce incorrect PR-AUCs; please switch to \"careful_interpolation\" instead.\n",
      "W0823 18:16:50.121584 140468405307200 metrics_impl.py:804] Trapezoidal rule is known to produce incorrect PR-AUCs; please switch to \"careful_interpolation\" instead.\n"
     ]
    },
    {
     "data": {
      "text/plain": [
       "{'accuracy': 0.7056277,\n",
       " 'accuracy_baseline': 0.64935064,\n",
       " 'auc': 0.8221399,\n",
       " 'auc_precision_recall': 0.7095708,\n",
       " 'average_loss': 0.6023138,\n",
       " 'label/mean': 0.35064936,\n",
       " 'loss': 5.7972703,\n",
       " 'precision': 0.553719,\n",
       " 'prediction/mean': 0.5163829,\n",
       " 'recall': 0.8271605,\n",
       " 'global_step': 1000}"
      ]
     },
     "execution_count": 114,
     "metadata": {},
     "output_type": "execute_result"
    }
   ],
   "source": [
    "# Let's see what happens with accuracy, if we go crazy on 'Dense layers' and 'No of Neurons'\n",
    "\n",
    "dnn_model1 = tf.estimator.DNNClassifier(hidden_units = [20,20,20,20,20], feature_columns = feat_cols,\n",
    "                                       n_classes = 2)\n",
    "\n",
    "dnn_model1.train = dnn_model1.train(input_fn = input_func, steps = 1000)\n",
    "\n",
    "eval_input_func1 = tf.estimator.inputs.pandas_input_fn(x = X_test, y = y_test,\n",
    "                                                     batch_size = 10, num_epochs = 1,\n",
    "                                                     shuffle = False)\n",
    "\n",
    "dnn_model1.evaluate(eval_input_func1)"
   ]
  },
  {
   "cell_type": "code",
   "execution_count": 115,
   "metadata": {},
   "outputs": [],
   "source": [
    "# Reports back almost same results, hopefully our classifier has reach it's maximum limits for Accuracy!"
   ]
  },
  {
   "cell_type": "code",
   "execution_count": null,
   "metadata": {},
   "outputs": [],
   "source": []
  }
 ],
 "metadata": {
  "kernelspec": {
   "display_name": "Python 3",
   "language": "python",
   "name": "python3"
  },
  "language_info": {
   "codemirror_mode": {
    "name": "ipython",
    "version": 3
   },
   "file_extension": ".py",
   "mimetype": "text/x-python",
   "name": "python",
   "nbconvert_exporter": "python",
   "pygments_lexer": "ipython3",
   "version": "3.7.3"
  }
 },
 "nbformat": 4,
 "nbformat_minor": 2
}
