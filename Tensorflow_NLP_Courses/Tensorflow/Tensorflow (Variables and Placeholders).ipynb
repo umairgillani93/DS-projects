{
 "cells": [
  {
   "cell_type": "markdown",
   "metadata": {},
   "source": [
    "## Tensorflow Variables and Placeholders:\n",
    "\n",
    "There are two main types of Tensor objects in Graph\n",
    "\n",
    "* Variables\n",
    "* Placeholders\n",
    "\n",
    "### Variables:\n",
    "\n",
    "During the optimization process, Tensorflow tunes the Parameters of the model, to try to get a better fit on our Training data. And the **Variables** can hold the values of __Weights__ and __Biases__ throughout the session. Variables need to be initialized, so when we are running the session, we are going to run a line command that initializes all the __Variables__ we have already defined.\n",
    "\n",
    "### Placeholders:\n",
    "\n",
    "Placeholders are initially empty, and are used to feed in the actual training examples. However, they do need a declared expected dtype (e.g: tf.float32) with an optional _shape_ argument. So, what the __Placeholder__ is doing, it's going to be empty as first, and then our data is going to be fed into that Placeholder, a lot of times in _small batches_\n",
    "\n",
    "Alright! Let's go ahead and see a few example of each!\n",
    "\n",
    "LET'S JUMP INTO IT!"
   ]
  },
  {
   "cell_type": "code",
   "execution_count": 1,
   "metadata": {},
   "outputs": [],
   "source": [
    "import tensorflow as tf"
   ]
  },
  {
   "cell_type": "code",
   "execution_count": 2,
   "metadata": {},
   "outputs": [],
   "source": [
    "sess = tf.InteractiveSession()"
   ]
  },
  {
   "cell_type": "code",
   "execution_count": 3,
   "metadata": {},
   "outputs": [],
   "source": [
    "my_tensor = tf.random_uniform((4,4), 0 ,1) # (4,4) -> shape of matrix, 0 -> minval, 1 -> maxval"
   ]
  },
  {
   "cell_type": "code",
   "execution_count": 5,
   "metadata": {},
   "outputs": [
    {
     "data": {
      "text/plain": [
       "<tf.Tensor 'random_uniform:0' shape=(4, 4) dtype=float32>"
      ]
     },
     "execution_count": 5,
     "metadata": {},
     "output_type": "execute_result"
    }
   ],
   "source": [
    "my_tensor # reports back the dtype -> float32"
   ]
  },
  {
   "cell_type": "code",
   "execution_count": 19,
   "metadata": {},
   "outputs": [],
   "source": [
    "# CREATING VARIABLES\n",
    "\n",
    "my_var = tf.Variable(initial_value = my_tensor) # initialized the 'Variable' with some initial value"
   ]
  },
  {
   "cell_type": "code",
   "execution_count": 11,
   "metadata": {},
   "outputs": [
    {
     "name": "stdout",
     "output_type": "stream",
     "text": [
      "<tf.Variable 'Variable:0' shape=(4, 4) dtype=float32_ref>\n"
     ]
    }
   ],
   "source": [
    "print(my_var)"
   ]
  },
  {
   "cell_type": "code",
   "execution_count": 13,
   "metadata": {},
   "outputs": [],
   "source": [
    "# Now let's see how we can run this Variable we just created with Tensorflow\n",
    "# If we direclty run it, it's gonna throuw back an error \n",
    "\n",
    "# sess.run(my_var)"
   ]
  },
  {
   "cell_type": "code",
   "execution_count": 15,
   "metadata": {},
   "outputs": [],
   "source": [
    "# So let's first initialize the 'global variables'\n",
    "\n",
    "init = tf.global_variables_initializer()\n",
    "\n",
    "sess.run(init) # now all the global variables have been initialized!"
   ]
  },
  {
   "cell_type": "code",
   "execution_count": 18,
   "metadata": {},
   "outputs": [
    {
     "data": {
      "text/plain": [
       "array([[0.53534365, 0.4791186 , 0.5270115 , 0.27529883],\n",
       "       [0.56509864, 0.87557995, 0.62024486, 0.02648413],\n",
       "       [0.6357933 , 0.13564467, 0.19906592, 0.67222774],\n",
       "       [0.06086791, 0.48623753, 0.72477555, 0.9262675 ]], dtype=float32)"
      ]
     },
     "execution_count": 18,
     "metadata": {},
     "output_type": "execute_result"
    }
   ],
   "source": [
    "# Now let's go ahead and run our Variable\n",
    "\n",
    "sess.run(my_var)\n",
    "\n",
    "# -> create tensor\n",
    "# -> store tensor into a variable, with initialization\n",
    "# -> initialize all the globally created variables"
   ]
  },
  {
   "cell_type": "code",
   "execution_count": 21,
   "metadata": {},
   "outputs": [],
   "source": [
    "# CREATING PLACEHOLDERS\n",
    "\n",
    "ph = tf.placeholder(dtype = tf.float32) # dtype -> data type of placerholder"
   ]
  },
  {
   "cell_type": "code",
   "execution_count": null,
   "metadata": {},
   "outputs": [],
   "source": []
  }
 ],
 "metadata": {
  "kernelspec": {
   "display_name": "Python 3",
   "language": "python",
   "name": "python3"
  },
  "language_info": {
   "codemirror_mode": {
    "name": "ipython",
    "version": 3
   },
   "file_extension": ".py",
   "mimetype": "text/x-python",
   "name": "python",
   "nbconvert_exporter": "python",
   "pygments_lexer": "ipython3",
   "version": "3.7.3"
  }
 },
 "nbformat": 4,
 "nbformat_minor": 2
}
