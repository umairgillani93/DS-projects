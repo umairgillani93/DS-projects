{
 "cells": [
  {
   "cell_type": "markdown",
   "metadata": {},
   "source": [
    "## Tensorflow Syntax Basics:"
   ]
  },
  {
   "cell_type": "code",
   "execution_count": 1,
   "metadata": {},
   "outputs": [],
   "source": [
    "import tensorflow as tf"
   ]
  },
  {
   "cell_type": "code",
   "execution_count": 3,
   "metadata": {},
   "outputs": [
    {
     "name": "stdout",
     "output_type": "stream",
     "text": [
      "1.14.0\n"
     ]
    }
   ],
   "source": [
    "# lets check out the version of our tensorflow\n",
    "print(tf.__version__)"
   ]
  },
  {
   "cell_type": "code",
   "execution_count": 12,
   "metadata": {},
   "outputs": [],
   "source": [
    "# Word tensor is just a fancy word for 'n-dimentional array'\n",
    "# let's define some tensors using tensorflow syntax\n",
    "\n",
    "hello = tf.constant(\"Hello \")\n",
    "world = tf.constant(\"World \")"
   ]
  },
  {
   "cell_type": "code",
   "execution_count": 13,
   "metadata": {},
   "outputs": [
    {
     "name": "stdout",
     "output_type": "stream",
     "text": [
      "Tensor(\"Const_4:0\", shape=(), dtype=string)\n"
     ]
    }
   ],
   "source": [
    "# now if we want to print these tensors, let's see what we get\n",
    "\n",
    "print(hello)\n",
    "\n",
    "# It's not gonna print it as a string, it's rather gonna show some information related to the corresponding tensor"
   ]
  },
  {
   "cell_type": "code",
   "execution_count": 14,
   "metadata": {},
   "outputs": [
    {
     "data": {
      "text/plain": [
       "tensorflow.python.framework.ops.Tensor"
      ]
     },
     "execution_count": 14,
     "metadata": {},
     "output_type": "execute_result"
    }
   ],
   "source": [
    "# Let's check out the type of it, to get a bit more clear picture!\n",
    "\n",
    "type(world)\n",
    "\n",
    "# reports back that it's a tensor object!"
   ]
  },
  {
   "cell_type": "code",
   "execution_count": 15,
   "metadata": {},
   "outputs": [],
   "source": [
    "# Now lets go ahead and create a Tensorflow session, it order to have these tensors work!\n",
    "\n",
    "with tf.Session() as sess:\n",
    "    # and we can have block of code that corresponds to the operations we want to perform in tensorflow\n",
    "    # with tensor objects\n",
    "    result = sess.run(hello + world)"
   ]
  },
  {
   "cell_type": "code",
   "execution_count": 16,
   "metadata": {},
   "outputs": [
    {
     "name": "stdout",
     "output_type": "stream",
     "text": [
      "b'Hello World '\n"
     ]
    }
   ],
   "source": [
    "print(result)"
   ]
  },
  {
   "cell_type": "code",
   "execution_count": 19,
   "metadata": {},
   "outputs": [
    {
     "name": "stdout",
     "output_type": "stream",
     "text": [
      "\n",
      "\n",
      "Tensor(\"Const_9:0\", shape=(), dtype=int32)\n",
      "Tensor(\"Const_10:0\", shape=(), dtype=int32)\n",
      "\n",
      "\n",
      "Tensor(\"add_3:0\", shape=(), dtype=int32)\n",
      "\n",
      "\n",
      "30\n"
     ]
    }
   ],
   "source": [
    "# Let's perform another similar type of Example\n",
    "\n",
    "a = tf.constant(10)\n",
    "b = tf.constant(20)\n",
    "print('\\n')\n",
    "print(a)\n",
    "print(b)\n",
    "print('\\n')\n",
    "print(a + b)\n",
    "print('\\n')\n",
    "with tf.Session() as sess:\n",
    "    result = sess.run(a + b)\n",
    "\n",
    "print(result)"
   ]
  },
  {
   "cell_type": "markdown",
   "metadata": {},
   "source": [
    "Now let's go ahead and create a bunch of basic operations we can perform with Tensorflow\n",
    "\n",
    "### Constant():\n",
    "\n",
    "create a Tensorflow constant"
   ]
  },
  {
   "cell_type": "code",
   "execution_count": 21,
   "metadata": {},
   "outputs": [],
   "source": [
    "const = tf.constant(10)"
   ]
  },
  {
   "cell_type": "markdown",
   "metadata": {},
   "source": [
    "### Fill():\n",
    "\n",
    "Fill out the Tensor (fancy word for n-dimentional array) with provided value 'X'"
   ]
  },
  {
   "cell_type": "code",
   "execution_count": 23,
   "metadata": {},
   "outputs": [],
   "source": [
    "fill_mat = tf.fill((4,4), 10) # (4,4) -> dimentions, (10) -> value to be filled in"
   ]
  },
  {
   "cell_type": "markdown",
   "metadata": {},
   "source": [
    "### Zeros():\n",
    "\n",
    "Create a zeros Tensor (n-dimentional array)"
   ]
  },
  {
   "cell_type": "code",
   "execution_count": 24,
   "metadata": {},
   "outputs": [],
   "source": [
    "zeros = tf.zeros((4,4)) # (4,4) -> dimentions"
   ]
  },
  {
   "cell_type": "markdown",
   "metadata": {},
   "source": [
    "### Ones():\n",
    "\n",
    "Creates a One Tensor(n-dimentional matrix)"
   ]
  },
  {
   "cell_type": "code",
   "execution_count": 25,
   "metadata": {},
   "outputs": [],
   "source": [
    "ones = tf.ones((5,5)) # (5,5) -> dimentions"
   ]
  },
  {
   "cell_type": "markdown",
   "metadata": {},
   "source": [
    "### random_normal():\n",
    "\n",
    "Creates a random Tensor with normally distributed values."
   ]
  },
  {
   "cell_type": "code",
   "execution_count": 29,
   "metadata": {},
   "outputs": [],
   "source": [
    "\n",
    "randn = tf.random_normal((4,4), mean = 0, stddev = 1) # (4,4) -> shape, mean -> mean, stddev -> standard deviation"
   ]
  },
  {
   "cell_type": "markdown",
   "metadata": {},
   "source": [
    "### random_uniform():\n",
    "\n",
    "Creates a random Tensor with uniformly distributed values."
   ]
  },
  {
   "cell_type": "code",
   "execution_count": 30,
   "metadata": {},
   "outputs": [],
   "source": [
    "randu = tf.random_uniform((4,4), minval = 0, maxval = 1) # (4,4) -> shape, minval -> minimum value, maxval -> maximum value"
   ]
  },
  {
   "cell_type": "markdown",
   "metadata": {},
   "source": [
    "None of these operations have been executed up till now.\n",
    "\n",
    "Let's go ahead and create a list of these operations!\n",
    "\n",
    "And then we'll run these inside a session!"
   ]
  },
  {
   "cell_type": "code",
   "execution_count": 31,
   "metadata": {},
   "outputs": [],
   "source": [
    "my_ops = [const, fill_mat, zeros, ones, randn, randu]"
   ]
  },
  {
   "cell_type": "markdown",
   "metadata": {},
   "source": [
    "### InteractiveSession():\n",
    "\n",
    "If we use InteractiveSession(), It's going to allow us to call it throughout multiples cells, and we don't have to start the sessoin every single time using 'with' keyword, and basically the rest of the cells are going to kind of pretend that they've already been called from 'with tf.Session()'\n",
    "\n",
    "So, let's go ahead and create one!"
   ]
  },
  {
   "cell_type": "code",
   "execution_count": 33,
   "metadata": {},
   "outputs": [
    {
     "name": "stdout",
     "output_type": "stream",
     "text": [
      "10\n",
      "\n",
      "\n",
      "[[10 10 10 10]\n",
      " [10 10 10 10]\n",
      " [10 10 10 10]\n",
      " [10 10 10 10]]\n",
      "\n",
      "\n",
      "[[0. 0. 0. 0.]\n",
      " [0. 0. 0. 0.]\n",
      " [0. 0. 0. 0.]\n",
      " [0. 0. 0. 0.]]\n",
      "\n",
      "\n",
      "[[1. 1. 1. 1. 1.]\n",
      " [1. 1. 1. 1. 1.]\n",
      " [1. 1. 1. 1. 1.]\n",
      " [1. 1. 1. 1. 1.]\n",
      " [1. 1. 1. 1. 1.]]\n",
      "\n",
      "\n",
      "[[ 1.0651757   0.80298215 -1.0739136   0.08529232]\n",
      " [-0.5517949   0.9912124  -1.0719582  -0.23076953]\n",
      " [-0.12018985  1.3075441   1.1031972   0.09825155]\n",
      " [-1.173949   -1.2848837   1.5681969  -0.5819555 ]]\n",
      "\n",
      "\n",
      "[[0.3927815  0.28550804 0.19761574 0.27789497]\n",
      " [0.54044366 0.63720524 0.04658639 0.96757543]\n",
      " [0.2532357  0.8552934  0.2741543  0.7035191 ]\n",
      " [0.12524533 0.86633456 0.7963407  0.18922484]]\n",
      "\n",
      "\n"
     ]
    },
    {
     "name": "stderr",
     "output_type": "stream",
     "text": [
      "/home/umairshah/anaconda3/lib/python3.7/site-packages/tensorflow/python/client/session.py:1735: UserWarning: An interactive session is already active. This can cause out-of-memory errors in some cases. You must explicitly call `InteractiveSession.close()` to release resources held by the other session(s).\n",
      "  warnings.warn('An interactive session is already active. This can '\n"
     ]
    }
   ],
   "source": [
    "sess = tf.InteractiveSession()\n",
    "\n",
    "for op in my_ops:\n",
    "    print(sess.run(op))\n",
    "    print('\\n')"
   ]
  },
  {
   "cell_type": "markdown",
   "metadata": {},
   "source": [
    "### get_shape():\n",
    "\n",
    "Reports back the shape of the Tensor(n-dimentional array)!"
   ]
  },
  {
   "cell_type": "code",
   "execution_count": 36,
   "metadata": {},
   "outputs": [
    {
     "name": "stdout",
     "output_type": "stream",
     "text": [
      "(2, 2)\n"
     ]
    }
   ],
   "source": [
    "mat1 = tf.constant([[1,2],\n",
    "                   [3,4]])\n",
    "\n",
    "print(mat1.get_shape()) # ()2,2) matrix"
   ]
  },
  {
   "cell_type": "code",
   "execution_count": 37,
   "metadata": {},
   "outputs": [],
   "source": [
    "mat2 = tf.constant([[2],\n",
    "                   [7]])"
   ]
  },
  {
   "cell_type": "code",
   "execution_count": 38,
   "metadata": {},
   "outputs": [
    {
     "name": "stdout",
     "output_type": "stream",
     "text": [
      "(2, 1)\n"
     ]
    }
   ],
   "source": [
    "print(mat2.get_shape())"
   ]
  },
  {
   "cell_type": "markdown",
   "metadata": {},
   "source": [
    "### matmul():\n",
    "\n",
    "Multiplies two matrices, that must have columns of first Matrix equals rows of second Matrix"
   ]
  },
  {
   "cell_type": "code",
   "execution_count": 39,
   "metadata": {},
   "outputs": [],
   "source": [
    "result = tf.matmul(mat1, mat2)"
   ]
  },
  {
   "cell_type": "code",
   "execution_count": 40,
   "metadata": {},
   "outputs": [
    {
     "data": {
      "text/plain": [
       "array([[16],\n",
       "       [34]], dtype=int32)"
      ]
     },
     "execution_count": 40,
     "metadata": {},
     "output_type": "execute_result"
    }
   ],
   "source": [
    "sess.run(result)"
   ]
  },
  {
   "cell_type": "code",
   "execution_count": 42,
   "metadata": {},
   "outputs": [
    {
     "data": {
      "text/plain": [
       "array([[16],\n",
       "       [34]], dtype=int32)"
      ]
     },
     "execution_count": 42,
     "metadata": {},
     "output_type": "execute_result"
    }
   ],
   "source": [
    "result.eval() # we can also go ahead and call. eval() method off of result object, to get the results!"
   ]
  },
  {
   "cell_type": "code",
   "execution_count": null,
   "metadata": {},
   "outputs": [],
   "source": []
  }
 ],
 "metadata": {
  "kernelspec": {
   "display_name": "Python 3",
   "language": "python",
   "name": "python3"
  },
  "language_info": {
   "codemirror_mode": {
    "name": "ipython",
    "version": 3
   },
   "file_extension": ".py",
   "mimetype": "text/x-python",
   "name": "python",
   "nbconvert_exporter": "python",
   "pygments_lexer": "ipython3",
   "version": "3.7.3"
  }
 },
 "nbformat": 4,
 "nbformat_minor": 2
}
