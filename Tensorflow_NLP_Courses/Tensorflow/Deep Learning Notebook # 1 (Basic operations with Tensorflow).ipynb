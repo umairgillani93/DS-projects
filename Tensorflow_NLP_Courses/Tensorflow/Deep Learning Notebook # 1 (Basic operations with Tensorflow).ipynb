{
 "cells": [
  {
   "cell_type": "code",
   "execution_count": 1,
   "metadata": {},
   "outputs": [],
   "source": [
    "import tensorflow as tf"
   ]
  },
  {
   "cell_type": "code",
   "execution_count": 3,
   "metadata": {},
   "outputs": [],
   "source": [
    "hello = tf.constant('hello')"
   ]
  },
  {
   "cell_type": "code",
   "execution_count": 4,
   "metadata": {},
   "outputs": [
    {
     "data": {
      "text/plain": [
       "<tf.Tensor 'Const:0' shape=() dtype=string>"
      ]
     },
     "execution_count": 4,
     "metadata": {},
     "output_type": "execute_result"
    }
   ],
   "source": [
    "hello"
   ]
  },
  {
   "cell_type": "code",
   "execution_count": 5,
   "metadata": {},
   "outputs": [],
   "source": [
    "sess = tf.Session()"
   ]
  },
  {
   "cell_type": "code",
   "execution_count": 6,
   "metadata": {},
   "outputs": [],
   "source": [
    "hellow = sess.run(hello)"
   ]
  },
  {
   "cell_type": "code",
   "execution_count": 7,
   "metadata": {},
   "outputs": [
    {
     "data": {
      "text/plain": [
       "b'hello'"
      ]
     },
     "execution_count": 7,
     "metadata": {},
     "output_type": "execute_result"
    }
   ],
   "source": [
    "hellow"
   ]
  },
  {
   "cell_type": "code",
   "execution_count": 8,
   "metadata": {},
   "outputs": [
    {
     "data": {
      "text/plain": [
       "str"
      ]
     },
     "execution_count": 8,
     "metadata": {},
     "output_type": "execute_result"
    }
   ],
   "source": [
    "hellow = str(hellow)\n",
    "type(hellow)"
   ]
  },
  {
   "cell_type": "code",
   "execution_count": 15,
   "metadata": {},
   "outputs": [
    {
     "name": "stdout",
     "output_type": "stream",
     "text": [
      "Operations using Tensorflow:\n",
      "\n",
      "\n",
      "Additions:  5\n",
      "Multiplications:  6\n",
      "Division:  1.5\n",
      "Subtraction 1\n"
     ]
    }
   ],
   "source": [
    "x = tf.constant(3)\n",
    "y = tf.constant(2)\n",
    "\n",
    "print('Operations using Tensorflow:')\n",
    "print('\\n')\n",
    "print('Additions: ', sess.run(x+y))\n",
    "print('Multiplications: ', sess.run(x*y))\n",
    "print('Division: ', sess.run(x/y))\n",
    "print('Subtraction', sess.run(x-y))"
   ]
  },
  {
   "cell_type": "code",
   "execution_count": 11,
   "metadata": {},
   "outputs": [
    {
     "data": {
      "text/plain": [
       "<tf.Tensor 'Const_1:0' shape=() dtype=int32>"
      ]
     },
     "execution_count": 11,
     "metadata": {},
     "output_type": "execute_result"
    }
   ],
   "source": [
    "x"
   ]
  },
  {
   "cell_type": "code",
   "execution_count": 12,
   "metadata": {},
   "outputs": [
    {
     "data": {
      "text/plain": [
       "10"
      ]
     },
     "execution_count": 12,
     "metadata": {},
     "output_type": "execute_result"
    }
   ],
   "source": [
    "sess.run(x)"
   ]
  },
  {
   "cell_type": "code",
   "execution_count": 2,
   "metadata": {},
   "outputs": [],
   "source": [
    "sess = tf.Session()"
   ]
  },
  {
   "cell_type": "code",
   "execution_count": 3,
   "metadata": {},
   "outputs": [
    {
     "data": {
      "text/plain": [
       "b'hello world'"
      ]
     },
     "execution_count": 3,
     "metadata": {},
     "output_type": "execute_result"
    }
   ],
   "source": [
    "a = tf.constant('hello world')\n",
    "sess.run(a)"
   ]
  },
  {
   "cell_type": "code",
   "execution_count": 4,
   "metadata": {},
   "outputs": [
    {
     "data": {
      "text/plain": [
       "tensorflow.python.framework.ops.Tensor"
      ]
     },
     "execution_count": 4,
     "metadata": {},
     "output_type": "execute_result"
    }
   ],
   "source": [
    "type(a)"
   ]
  },
  {
   "cell_type": "code",
   "execution_count": 5,
   "metadata": {},
   "outputs": [
    {
     "data": {
      "text/plain": [
       "bytes"
      ]
     },
     "execution_count": 5,
     "metadata": {},
     "output_type": "execute_result"
    }
   ],
   "source": [
    "type(sess.run(a))"
   ]
  },
  {
   "cell_type": "code",
   "execution_count": 6,
   "metadata": {},
   "outputs": [
    {
     "name": "stdout",
     "output_type": "stream",
     "text": [
      "Operations with Tensorflow!\n",
      "Addition 50\n",
      "Subtraction 10\n"
     ]
    }
   ],
   "source": [
    "x = tf.constant(30)\n",
    "y = tf.constant(20)\n",
    "\n",
    "with tf.Session() as sess:\n",
    "    print('Operations with Tensorflow!')\n",
    "    print('Addition',sess.run(x+y))\n",
    "    print('Subtraction',sess.run(x-y))"
   ]
  },
  {
   "cell_type": "code",
   "execution_count": 13,
   "metadata": {},
   "outputs": [
    {
     "name": "stdout",
     "output_type": "stream",
     "text": [
      "Operations with Placeholders!\n",
      "\n",
      "\n",
      "Additions:  30\n",
      "Substration 10\n",
      "Multiplication 6\n",
      "Division 1\n"
     ]
    }
   ],
   "source": [
    "# Operations with PlaceHolders in Tensorflow\n",
    "\n",
    "x = tf.placeholder(tf.int32)\n",
    "y = tf.placeholder(tf.int32)\n",
    "\n",
    "add = tf.add(x,y)\n",
    "sub = tf.subtract(x,y)\n",
    "mul = tf.multiply(x,y)\n",
    "div = tf.div(x,y)\n",
    "\n",
    "with tf.Session() as sess:\n",
    "    print('Operations with Placeholders!')\n",
    "    print('\\n')\n",
    "    print('Additions: ',sess.run(add,feed_dict = {x:20, y:10}))\n",
    "    print('Substration',sess.run(sub,feed_dict = {x:20, y:10}))\n",
    "    print('Multiplication',sess.run(mul,feed_dict = {x:2, y:3}))\n",
    "    print('Division',sess.run(div,feed_dict = {x:4, y:4}))"
   ]
  },
  {
   "cell_type": "code",
   "execution_count": 14,
   "metadata": {},
   "outputs": [],
   "source": [
    "import numpy as np"
   ]
  },
  {
   "cell_type": "code",
   "execution_count": 21,
   "metadata": {},
   "outputs": [
    {
     "name": "stdout",
     "output_type": "stream",
     "text": [
      "Matrix Multiplication with Tensorflow\n",
      "[[20.]]\n"
     ]
    }
   ],
   "source": [
    "# Matrix multiplications using tensorflow\n",
    "\n",
    "mat_1 = np.array([[5.0,5.0]])\n",
    "mat_2 = np.array([[2.0],[2.0]])\n",
    "\n",
    "mat_1 = tf.constant(mat_1)\n",
    "mat_2 = tf.constant(mat_2)\n",
    "\n",
    "# type(mat_1), type(mat_2)\n",
    "\n",
    "mat_multi = tf.matmul(mat_1,mat_2)\n",
    "\n",
    "with tf.Session() as sess:\n",
    "    print('Matrix Multiplication with Tensorflow')\n",
    "    result = sess.run(mat_multi)\n",
    "    print(result)"
   ]
  },
  {
   "cell_type": "code",
   "execution_count": null,
   "metadata": {},
   "outputs": [],
   "source": []
  }
 ],
 "metadata": {
  "kernelspec": {
   "display_name": "Python 3",
   "language": "python",
   "name": "python3"
  },
  "language_info": {
   "codemirror_mode": {
    "name": "ipython",
    "version": 3
   },
   "file_extension": ".py",
   "mimetype": "text/x-python",
   "name": "python",
   "nbconvert_exporter": "python",
   "pygments_lexer": "ipython3",
   "version": "3.7.3"
  }
 },
 "nbformat": 4,
 "nbformat_minor": 2
}
