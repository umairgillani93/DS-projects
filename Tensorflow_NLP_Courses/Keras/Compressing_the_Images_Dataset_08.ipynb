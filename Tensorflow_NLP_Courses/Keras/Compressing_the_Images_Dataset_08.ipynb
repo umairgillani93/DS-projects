{
 "cells": [
  {
   "cell_type": "code",
   "execution_count": 1,
   "metadata": {},
   "outputs": [
    {
     "name": "stdout",
     "output_type": "stream",
     "text": [
      "--2019-11-04 16:48:21--  https://storage.googleapis.com/laurencemoroney-blog.appspot.com/horse-or-human.zip\n",
      "Resolving storage.googleapis.com (storage.googleapis.com)... 172.217.169.240, 2a00:1450:4018:801::2010\n",
      "Connecting to storage.googleapis.com (storage.googleapis.com)|172.217.169.240|:443... connected.\n",
      "HTTP request sent, awaiting response... 200 OK\n",
      "Length: 149574867 (143M) [application/zip]\n",
      "Saving to: ‘/tmp/horse-or-human.zip’\n",
      "\n",
      "/tmp/horse-or-human 100%[===================>] 142.65M  3.07MB/s    in 45s     \n",
      "\n",
      "2019-11-04 16:49:07 (3.15 MB/s) - ‘/tmp/horse-or-human.zip’ saved [149574867/149574867]\n",
      "\n"
     ]
    }
   ],
   "source": [
    "!wget --no-check-certificate \\\n",
    "    https://storage.googleapis.com/laurencemoroney-blog.appspot.com/horse-or-human.zip \\\n",
    "    -O /tmp/horse-or-human.zip"
   ]
  },
  {
   "cell_type": "code",
   "execution_count": 2,
   "metadata": {},
   "outputs": [
    {
     "name": "stdout",
     "output_type": "stream",
     "text": [
      "--2019-11-04 16:49:10--  https://storage.googleapis.com/laurencemoroney-blog.appspot.com/validation-horse-or-human.zip\n",
      "Resolving storage.googleapis.com (storage.googleapis.com)... 172.217.169.240, 2a00:1450:4018:801::2010\n",
      "Connecting to storage.googleapis.com (storage.googleapis.com)|172.217.169.240|:443... connected.\n",
      "HTTP request sent, awaiting response... 200 OK\n",
      "Length: 11480187 (11M) [application/zip]\n",
      "Saving to: ‘/tmp/validation-horse-or-human.zip’\n",
      "\n",
      "/tmp/validation-hor 100%[===================>]  10.95M  3.30MB/s    in 3.5s    \n",
      "\n",
      "2019-11-04 16:49:14 (3.10 MB/s) - ‘/tmp/validation-horse-or-human.zip’ saved [11480187/11480187]\n",
      "\n"
     ]
    }
   ],
   "source": [
    "!wget --no-check-certificate \\\n",
    "    https://storage.googleapis.com/laurencemoroney-blog.appspot.com/validation-horse-or-human.zip \\\n",
    "    -O /tmp/validation-horse-or-human.zip"
   ]
  },
  {
   "cell_type": "code",
   "execution_count": 4,
   "metadata": {},
   "outputs": [],
   "source": [
    "import os\n",
    "import zipfile\n",
    "\n",
    "local_zip = '/tmp/horse-or-human.zip'\n",
    "zip_ref = zipfile.ZipFile(local_zip, 'r')\n",
    "zip_ref.extractall('/tmp/horse-or-human')\n",
    "local_zip = '/tmp/validation-horse-or-human.zip'\n",
    "zip_ref = zipfile.ZipFile(local_zip, 'r')\n",
    "zip_ref.extractall('/tmp/validation-horse-or-human')\n",
    "zip_ref.close()"
   ]
  },
  {
   "cell_type": "code",
   "execution_count": 5,
   "metadata": {},
   "outputs": [],
   "source": [
    "# Directory with our training horse pictures\n",
    "train_horse_dir = os.path.join('/tmp/horse-or-human/horses')\n",
    "\n",
    "# Directory with our training human pictures\n",
    "train_human_dir = os.path.join('/tmp/horse-or-human/humans')\n",
    "\n",
    "# Directory with our training horse pictures\n",
    "validation_horse_dir = os.path.join('/tmp/validation-horse-or-human/validation-horses')\n",
    "\n",
    "# Directory with our training human pictures\n",
    "validation_human_dir = os.path.join('/tmp/validation-horse-or-human/validation-humans')"
   ]
  },
  {
   "cell_type": "code",
   "execution_count": 6,
   "metadata": {},
   "outputs": [
    {
     "name": "stdout",
     "output_type": "stream",
     "text": [
      "1.13.1\n"
     ]
    }
   ],
   "source": [
    "import tensorflow as tf\n",
    "print(tf.__version__)"
   ]
  },
  {
   "cell_type": "code",
   "execution_count": 8,
   "metadata": {},
   "outputs": [
    {
     "name": "stdout",
     "output_type": "stream",
     "text": [
      "_________________________________________________________________\n",
      "Layer (type)                 Output Shape              Param #   \n",
      "=================================================================\n",
      "conv2d_3 (Conv2D)            (None, 148, 148, 16)      448       \n",
      "_________________________________________________________________\n",
      "max_pooling2d_3 (MaxPooling2 (None, 74, 74, 16)        0         \n",
      "_________________________________________________________________\n",
      "conv2d_4 (Conv2D)            (None, 72, 72, 32)        4640      \n",
      "_________________________________________________________________\n",
      "max_pooling2d_4 (MaxPooling2 (None, 36, 36, 32)        0         \n",
      "_________________________________________________________________\n",
      "conv2d_5 (Conv2D)            (None, 34, 34, 64)        18496     \n",
      "_________________________________________________________________\n",
      "max_pooling2d_5 (MaxPooling2 (None, 17, 17, 64)        0         \n",
      "_________________________________________________________________\n",
      "flatten_1 (Flatten)          (None, 18496)             0         \n",
      "_________________________________________________________________\n",
      "dense_2 (Dense)              (None, 512)               9470464   \n",
      "_________________________________________________________________\n",
      "dense_3 (Dense)              (None, 1)                 513       \n",
      "=================================================================\n",
      "Total params: 9,494,561\n",
      "Trainable params: 9,494,561\n",
      "Non-trainable params: 0\n",
      "_________________________________________________________________\n",
      "None\n"
     ]
    }
   ],
   "source": [
    "model = tf.keras.models.Sequential([\n",
    "    # Note the input shape is the desired size of the image 150x150 with 3 bytes color\n",
    "    # This is the first convolution\n",
    "    tf.keras.layers.Conv2D(16, (3,3), activation='relu', input_shape=(150, 150, 3)),\n",
    "    tf.keras.layers.MaxPooling2D(2, 2),\n",
    "    # The second convolution\n",
    "    tf.keras.layers.Conv2D(32, (3,3), activation='relu'),\n",
    "    tf.keras.layers.MaxPooling2D(2,2),\n",
    "    # The third convolution\n",
    "    tf.keras.layers.Conv2D(64, (3,3), activation='relu'),\n",
    "    tf.keras.layers.MaxPooling2D(2,2),\n",
    "    # The fourth convolution\n",
    "    #tf.keras.layers.Conv2D(64, (3,3), activation='relu'),\n",
    "    #tf.keras.layers.MaxPooling2D(2,2),\n",
    "    # The fifth convolution\n",
    "    #tf.keras.layers.Conv2D(64, (3,3), activation='relu'),\n",
    "    #tf.keras.layers.MaxPooling2D(2,2),\n",
    "    # Flatten the results to feed into a DNN\n",
    "    tf.keras.layers.Flatten(),\n",
    "    # 512 neuron hidden layer\n",
    "    tf.keras.layers.Dense(512, activation='relu'),\n",
    "    # Only 1 output neuron. It will contain a value from 0-1 where 0 for 1 class ('horses') and 1 for the other ('humans')\n",
    "    tf.keras.layers.Dense(1, activation='sigmoid')\n",
    "])\n",
    "\n",
    "print(model.summary())"
   ]
  },
  {
   "cell_type": "code",
   "execution_count": 9,
   "metadata": {},
   "outputs": [],
   "source": [
    "from tensorflow.keras.optimizers import RMSprop\n",
    "\n",
    "model.compile(loss='binary_crossentropy',\n",
    "              optimizer=RMSprop(lr=0.001),\n",
    "              metrics=['acc'])"
   ]
  },
  {
   "cell_type": "code",
   "execution_count": 10,
   "metadata": {},
   "outputs": [
    {
     "name": "stdout",
     "output_type": "stream",
     "text": [
      "Found 1027 images belonging to 2 classes.\n",
      "Found 256 images belonging to 2 classes.\n"
     ]
    }
   ],
   "source": [
    "from tensorflow.keras.preprocessing.image import ImageDataGenerator\n",
    "\n",
    "# All images will be rescaled by 1./255\n",
    "train_datagen = ImageDataGenerator(rescale=1/255)\n",
    "validation_datagen = ImageDataGenerator(rescale=1/255)\n",
    "\n",
    "# Flow training images in batches of 128 using train_datagen generator\n",
    "train_generator = train_datagen.flow_from_directory(\n",
    "        '/tmp/horse-or-human/',  # This is the source directory for training images\n",
    "        target_size=(150, 150),  # All images will be resized to 150x150\n",
    "        batch_size=128,\n",
    "        # Since we use binary_crossentropy loss, we need binary labels\n",
    "        class_mode='binary')\n",
    "\n",
    "# Flow training images in batches of 128 using train_datagen generator\n",
    "validation_generator = validation_datagen.flow_from_directory(\n",
    "        '/tmp/validation-horse-or-human/',  # This is the source directory for training images\n",
    "        target_size=(150, 150),  # All images will be resized to 150x150\n",
    "        batch_size=32,\n",
    "        # Since we use binary_crossentropy loss, we need binary labels\n",
    "        class_mode='binary')"
   ]
  },
  {
   "cell_type": "code",
   "execution_count": 11,
   "metadata": {},
   "outputs": [
    {
     "name": "stdout",
     "output_type": "stream",
     "text": [
      "WARNING:tensorflow:From /home/umairshah/anaconda3/lib/python3.7/site-packages/tensorflow/python/ops/math_ops.py:3066: to_int32 (from tensorflow.python.ops.math_ops) is deprecated and will be removed in a future version.\n",
      "Instructions for updating:\n",
      "Use tf.cast instead.\n",
      "Epoch 1/15\n",
      "8/8 [==============================] - 3s 388ms/step - loss: 0.3800 - acc: 0.8516\n",
      "9/9 [==============================] - 29s 3s/step - loss: 2.0622 - acc: 0.5521 - val_loss: 0.3800 - val_acc: 0.8516\n",
      "Epoch 2/15\n",
      "8/8 [==============================] - 2s 309ms/step - loss: 0.4397 - acc: 0.8789\n",
      "9/9 [==============================] - 31s 3s/step - loss: 0.4901 - acc: 0.8140 - val_loss: 0.4397 - val_acc: 0.8789\n",
      "Epoch 3/15\n",
      "8/8 [==============================] - 2s 305ms/step - loss: 1.2538 - acc: 0.7422\n",
      "9/9 [==============================] - 27s 3s/step - loss: 0.4477 - acc: 0.8315 - val_loss: 1.2538 - val_acc: 0.7422\n",
      "Epoch 4/15\n",
      "8/8 [==============================] - 3s 357ms/step - loss: 1.6260 - acc: 0.7578\n",
      "9/9 [==============================] - 32s 4s/step - loss: 0.1286 - acc: 0.9484 - val_loss: 1.6260 - val_acc: 0.7578\n",
      "Epoch 5/15\n",
      "8/8 [==============================] - 3s 330ms/step - loss: 1.2981 - acc: 0.8047\n",
      "9/9 [==============================] - 28s 3s/step - loss: 0.1769 - acc: 0.9221 - val_loss: 1.2981 - val_acc: 0.8047\n",
      "Epoch 6/15\n",
      "8/8 [==============================] - 3s 413ms/step - loss: 2.4497 - acc: 0.6875\n",
      "9/9 [==============================] - 32s 4s/step - loss: 0.0739 - acc: 0.9688 - val_loss: 2.4497 - val_acc: 0.6875\n",
      "Epoch 7/15\n",
      "8/8 [==============================] - 4s 469ms/step - loss: 1.2813 - acc: 0.8438\n",
      "9/9 [==============================] - 33s 4s/step - loss: 0.0885 - acc: 0.9533 - val_loss: 1.2813 - val_acc: 0.8438\n",
      "Epoch 8/15\n",
      "8/8 [==============================] - 3s 336ms/step - loss: 1.5265 - acc: 0.7148\n",
      "9/9 [==============================] - 33s 4s/step - loss: 1.0086 - acc: 0.9143 - val_loss: 1.5265 - val_acc: 0.7148\n",
      "Epoch 9/15\n",
      "8/8 [==============================] - 4s 453ms/step - loss: 1.9599 - acc: 0.7656\n",
      "9/9 [==============================] - 33s 4s/step - loss: 0.0635 - acc: 0.9834 - val_loss: 1.9599 - val_acc: 0.7656\n",
      "Epoch 10/15\n",
      "8/8 [==============================] - 3s 354ms/step - loss: 1.9246 - acc: 0.7812\n",
      "9/9 [==============================] - 32s 4s/step - loss: 0.0176 - acc: 0.9922 - val_loss: 1.9246 - val_acc: 0.7812\n",
      "Epoch 11/15\n",
      "8/8 [==============================] - 3s 313ms/step - loss: 1.8671 - acc: 0.8203\n",
      "9/9 [==============================] - 30s 3s/step - loss: 0.0100 - acc: 0.9981 - val_loss: 1.8671 - val_acc: 0.8203\n",
      "Epoch 12/15\n",
      "8/8 [==============================] - 2s 305ms/step - loss: 4.8248 - acc: 0.5352\n",
      "9/9 [==============================] - 27s 3s/step - loss: 0.2110 - acc: 0.9708 - val_loss: 4.8248 - val_acc: 0.5352\n",
      "Epoch 13/15\n",
      "8/8 [==============================] - 2s 300ms/step - loss: 1.5056 - acc: 0.7969\n",
      "9/9 [==============================] - 25s 3s/step - loss: 0.1914 - acc: 0.9348 - val_loss: 1.5056 - val_acc: 0.7969\n",
      "Epoch 14/15\n",
      "8/8 [==============================] - 2s 300ms/step - loss: 1.7753 - acc: 0.8047\n",
      "9/9 [==============================] - 26s 3s/step - loss: 0.0105 - acc: 1.0000 - val_loss: 1.7753 - val_acc: 0.8047\n",
      "Epoch 15/15\n",
      "8/8 [==============================] - 2s 300ms/step - loss: 2.1979 - acc: 0.7930\n",
      "9/9 [==============================] - 26s 3s/step - loss: 0.0045 - acc: 1.0000 - val_loss: 2.1979 - val_acc: 0.7930\n"
     ]
    }
   ],
   "source": [
    "history = model.fit_generator(\n",
    "      train_generator,\n",
    "      steps_per_epoch=8,  \n",
    "      epochs=15,\n",
    "      verbose=1,\n",
    "      validation_data = validation_generator,\n",
    "      validation_steps=8)"
   ]
  },
  {
   "cell_type": "code",
   "execution_count": null,
   "metadata": {},
   "outputs": [],
   "source": []
  }
 ],
 "metadata": {
  "kernelspec": {
   "display_name": "Python 3",
   "language": "python",
   "name": "python3"
  },
  "language_info": {
   "codemirror_mode": {
    "name": "ipython",
    "version": 3
   },
   "file_extension": ".py",
   "mimetype": "text/x-python",
   "name": "python",
   "nbconvert_exporter": "python",
   "pygments_lexer": "ipython3",
   "version": "3.7.3"
  }
 },
 "nbformat": 4,
 "nbformat_minor": 2
}
