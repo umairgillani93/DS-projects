{
 "cells": [
  {
   "cell_type": "markdown",
   "metadata": {},
   "source": [
    "### Assignment No. 03 (Numerical Python)"
   ]
  },
  {
   "cell_type": "markdown",
   "metadata": {},
   "source": [
    "__Hello Everyone!__\n",
    "\n",
    "Here we are with your Assignment No.3 related to NumPy. Now before, you go ahead and solve it, here's bunch of instructions I want you to follow:\n",
    "\n",
    "* Edit the title of the Notebook with your name, and assignment number\n",
    "* No plagiarism is allowed, if found copied content, the question will be cancelled immediately and zero marks will be given.\n",
    "* The code has to be well explained, with complete documentation, and has to make sense.\n",
    "* __Do not change question__, if found edited zero marks will be given.\n",
    "* Each question is left with an empty cell below, right your code inside that given cell.\n",
    "* The deadline for the Assignment is **July 31 17:00** from the time it has been sent to you. The questions are simple and logical, if you've gone through the documentation, and understood basics concepts, this shouldn't take much time.\n",
    "\n",
    "#### GOOD LUCK!"
   ]
  },
  {
   "cell_type": "markdown",
   "metadata": {},
   "source": [
    "### Question No. 1\n",
    "\n",
    "Create a vector of size 10 with each entry equals to the value 7."
   ]
  },
  {
   "cell_type": "code",
   "execution_count": 1,
   "metadata": {},
   "outputs": [
    {
     "data": {
      "text/plain": [
       "array([7., 7., 7., 7., 7., 7., 7., 7., 7., 7.])"
      ]
     },
     "execution_count": 1,
     "metadata": {},
     "output_type": "execute_result"
    }
   ],
   "source": [
    "import numpy as np\n",
    "\n",
    "vector1 = np.ones(10) * 7\n",
    "\n",
    "vector1"
   ]
  },
  {
   "cell_type": "markdown",
   "metadata": {},
   "source": [
    "### Question No. 2\n",
    "\n",
    "Write a Python code to find the size of a Numpy array on memory?"
   ]
  },
  {
   "cell_type": "code",
   "execution_count": 3,
   "metadata": {},
   "outputs": [
    {
     "name": "stdout",
     "output_type": "stream",
     "text": [
      "10\n",
      "8\n",
      "80 bytes\n"
     ]
    }
   ],
   "source": [
    "z = np.zeros(10)\n",
    "print(z.size)\n",
    "print(z.itemsize)\n",
    "print(\"%d bytes\" % (z.size * z.itemsize))"
   ]
  },
  {
   "cell_type": "markdown",
   "metadata": {},
   "source": [
    "### Question No. 3\n",
    "\n",
    "Create a null vector of size 10 but the fifth value which is 8."
   ]
  },
  {
   "cell_type": "code",
   "execution_count": 4,
   "metadata": {},
   "outputs": [
    {
     "name": "stdout",
     "output_type": "stream",
     "text": [
      "[0. 0. 0. 0. 0. 0. 0. 8. 0. 0.]\n"
     ]
    }
   ],
   "source": [
    "null_vector = np.zeros(10)\n",
    "null_vector[7]  = 8\n",
    "\n",
    "print(null_vector)"
   ]
  },
  {
   "cell_type": "markdown",
   "metadata": {},
   "source": [
    "### Question No. 4\n",
    "\n",
    "Transform a vector in such a way that first value becomes the last."
   ]
  },
  {
   "cell_type": "code",
   "execution_count": 5,
   "metadata": {},
   "outputs": [
    {
     "name": "stdout",
     "output_type": "stream",
     "text": [
      "[9 8 7 6 5 4 3 2 1 0]\n"
     ]
    }
   ],
   "source": [
    "vec_ = np.arange(10)\n",
    "vec_transform = vec_[::-1]\n",
    "\n",
    "print(vec_transform)"
   ]
  },
  {
   "cell_type": "markdown",
   "metadata": {},
   "source": [
    "### Question No. 5\n",
    "\n",
    "Find indices of non-zero elements from [1,2,0,0,4,0]"
   ]
  },
  {
   "cell_type": "code",
   "execution_count": 6,
   "metadata": {},
   "outputs": [
    {
     "name": "stdout",
     "output_type": "stream",
     "text": [
      "(array([0, 1, 4]),)\n"
     ]
    }
   ],
   "source": [
    "non_zero_index = np.nonzero([1,2,0,0,4,0])\n",
    "\n",
    "print(non_zero_index)"
   ]
  },
  {
   "cell_type": "markdown",
   "metadata": {},
   "source": [
    "### Question No. 6\n",
    "\n",
    "Create a 10 dimentional Matrix, with random values and find the minimum and maximum values"
   ]
  },
  {
   "cell_type": "code",
   "execution_count": 7,
   "metadata": {},
   "outputs": [
    {
     "name": "stdout",
     "output_type": "stream",
     "text": [
      "\n",
      "\n",
      "[[ 0  1  2  3  4  5  6  7  8  9]\n",
      " [10 11 12 13 14 15 16 17 18 19]\n",
      " [20 21 22 23 24 25 26 27 28 29]\n",
      " [30 31 32 33 34 35 36 37 38 39]\n",
      " [40 41 42 43 44 45 46 47 48 49]\n",
      " [50 51 52 53 54 55 56 57 58 59]\n",
      " [60 61 62 63 64 65 66 67 68 69]\n",
      " [70 71 72 73 74 75 76 77 78 79]\n",
      " [80 81 82 83 84 85 86 87 88 89]\n",
      " [90 91 92 93 94 95 96 97 98 99]]\n",
      "\n",
      "\n",
      "0\n",
      "99\n"
     ]
    }
   ],
   "source": [
    "ten_dimentional = np.arange(100).reshape(10,10)\n",
    "print('\\n')\n",
    "print(ten_dimentional)\n",
    "print('\\n')\n",
    "min_value = np.min(ten_dimentional)\n",
    "max_value = np.max(ten_dimentional)\n",
    "\n",
    "print(min_value)\n",
    "print(max_value)"
   ]
  },
  {
   "cell_type": "markdown",
   "metadata": {},
   "source": [
    "### Question No. 7\n",
    "\n",
    "Create a 2d array with 1's on the border and 0's inside"
   ]
  },
  {
   "cell_type": "code",
   "execution_count": 8,
   "metadata": {},
   "outputs": [
    {
     "name": "stdout",
     "output_type": "stream",
     "text": [
      "[[1. 1. 1. 1. 1.]\n",
      " [1. 0. 0. 0. 1.]\n",
      " [1. 0. 0. 0. 1.]\n",
      " [1. 0. 0. 0. 1.]\n",
      " [1. 1. 1. 1. 1.]]\n"
     ]
    }
   ],
   "source": [
    "array_2 = np.ones((5,5))\n",
    "array_2[1:-1,1:-1] = 0\n",
    "print(array_2)"
   ]
  },
  {
   "cell_type": "markdown",
   "metadata": {},
   "source": [
    "### Question No. 8\n",
    "\n",
    "Create a 5x5 matrix with values 1,2,3,4 just below the diagonal"
   ]
  },
  {
   "cell_type": "code",
   "execution_count": 9,
   "metadata": {},
   "outputs": [
    {
     "name": "stdout",
     "output_type": "stream",
     "text": [
      "[[0 0 0 0 0]\n",
      " [1 0 0 0 0]\n",
      " [0 2 0 0 0]\n",
      " [0 0 3 0 0]\n",
      " [0 0 0 4 0]]\n"
     ]
    }
   ],
   "source": [
    "below_digonal = np.diag(1+np.arange(4),k=-1)\n",
    "print(below_digonal)"
   ]
  },
  {
   "cell_type": "markdown",
   "metadata": {},
   "source": [
    "### Question No. 9\n",
    "\n",
    "Normalize a 5x5 random matrix (you must know what is Normalization)"
   ]
  },
  {
   "cell_type": "code",
   "execution_count": 10,
   "metadata": {},
   "outputs": [
    {
     "name": "stdout",
     "output_type": "stream",
     "text": [
      "[[0.53506466 0.4320625  0.58276317 0.52294262 0.06287109]\n",
      " [0.73107598 0.39286988 0.77541174 0.13653241 0.55642668]\n",
      " [0.91723116 0.44594238 0.48604092 0.53396186 0.02147698]\n",
      " [0.05651883 0.49908033 0.35170655 0.59239467 0.74938514]\n",
      " [0.57489641 0.70316027 0.53973318 0.04451525 0.11170993]]\n",
      "\n",
      "\n",
      "[[-1.30022686 -1.40322902 -1.25252835 -1.31234891 -1.77242043]\n",
      " [-1.10421554 -1.44242164 -1.05987978 -1.69875911 -1.27886484]\n",
      " [-0.91806036 -1.38934914 -1.3492506  -1.30132966 -1.81381454]\n",
      " [-1.77877269 -1.33621119 -1.48358497 -1.24289685 -1.08590639]\n",
      " [-1.26039512 -1.13213125 -1.29555834 -1.79077627 -1.72358159]]\n"
     ]
    }
   ],
   "source": [
    "random_matrix = np.random.random((5,5))\n",
    "print(random_matrix)\n",
    "\n",
    "nor_matrix = (random_matrix - np.mean(random_matrix) / np.std(random_matrix))\n",
    "print('\\n') # Normalized matrix -> Matrix - mean values / standard deviation\n",
    "\n",
    "print(nor_matrix)"
   ]
  },
  {
   "cell_type": "markdown",
   "metadata": {},
   "source": [
    "### Question No. 10\n",
    "\n",
    " Multiply a 5x3 matrix by a 3x2 matrix"
   ]
  },
  {
   "cell_type": "code",
   "execution_count": 11,
   "metadata": {},
   "outputs": [
    {
     "name": "stdout",
     "output_type": "stream",
     "text": [
      "[[ 10  13]\n",
      " [ 28  40]\n",
      " [ 46  67]\n",
      " [ 64  94]\n",
      " [ 82 121]]\n",
      "\n",
      "\n",
      "(5, 2)\n"
     ]
    }
   ],
   "source": [
    "mat1 = np.arange(15).reshape(5,3)\n",
    "mat2 = np.arange(6).reshape(3,2)\n",
    "\n",
    "mat_product = np.dot(mat1, mat2)\n",
    "print(mat_product)\n",
    "print('\\n')\n",
    "print(mat_product.shape)\n",
    "\n",
    "# mat1 = (p * q)\n",
    "# mat2 = (x * y)\n",
    "# product dimention = p * y"
   ]
  },
  {
   "cell_type": "markdown",
   "metadata": {},
   "source": [
    "### Question No. 11\n",
    "\n",
    "How to find common values between two arrays?"
   ]
  },
  {
   "cell_type": "code",
   "execution_count": 12,
   "metadata": {},
   "outputs": [
    {
     "name": "stdout",
     "output_type": "stream",
     "text": [
      "[]\n"
     ]
    }
   ],
   "source": [
    "array1 = np.arange(1,11)\n",
    "array2 = np.arange(11,21)\n",
    "\n",
    "common_values = np.intersect1d(array1,array2)\n",
    "print(common_values) # reports back no common values"
   ]
  },
  {
   "cell_type": "markdown",
   "metadata": {},
   "source": [
    "### Question No. 12\n",
    "\n",
    "Create a 5x5 matrix with row values ranging from 0 to 4 "
   ]
  },
  {
   "cell_type": "code",
   "execution_count": 13,
   "metadata": {},
   "outputs": [
    {
     "name": "stdout",
     "output_type": "stream",
     "text": [
      "[[0. 1. 2. 3. 4.]\n",
      " [0. 1. 2. 3. 4.]\n",
      " [0. 1. 2. 3. 4.]\n",
      " [0. 1. 2. 3. 4.]\n",
      " [0. 1. 2. 3. 4.]]\n"
     ]
    }
   ],
   "source": [
    "mat1 = np.zeros((5,5))\n",
    "\n",
    "mat1 += np.arange(5)\n",
    "\n",
    "print(mat1)"
   ]
  },
  {
   "cell_type": "markdown",
   "metadata": {},
   "source": [
    "### Question No. 13\n",
    "\n",
    "Consider a generator function that generates 10 integers and use it to build an array (Hint: You can try fromiter method from Numpy)"
   ]
  },
  {
   "cell_type": "code",
   "execution_count": 14,
   "metadata": {},
   "outputs": [
    {
     "name": "stdout",
     "output_type": "stream",
     "text": [
      "[0 1 2 3 4 5 6 7 8 9]\n"
     ]
    }
   ],
   "source": [
    "def myfunc():\n",
    "    for num in range(10):\n",
    "        yield num\n",
    "        \n",
    "arr = np.fromiter(myfunc(), dtype = int, count = -1)\n",
    "\n",
    "print(arr)"
   ]
  },
  {
   "cell_type": "markdown",
   "metadata": {},
   "source": [
    "### Question No. 14\n",
    "\n",
    "Create a vector of size 10 with values ranging from 0 to 1, both excluded "
   ]
  },
  {
   "cell_type": "code",
   "execution_count": 15,
   "metadata": {},
   "outputs": [
    {
     "name": "stdout",
     "output_type": "stream",
     "text": [
      "[0.11111111 0.22222222 0.33333333 0.44444444 0.55555556 0.66666667\n",
      " 0.77777778 0.88888889]\n"
     ]
    }
   ],
   "source": [
    "vector_10 = np.linspace(0,1,10)[1:-1]\n",
    "print(vector_10)"
   ]
  },
  {
   "cell_type": "markdown",
   "metadata": {},
   "source": [
    "### Question No. 15\n",
    "\n",
    "How to sum a small array faster than np.sum?"
   ]
  },
  {
   "cell_type": "code",
   "execution_count": 16,
   "metadata": {},
   "outputs": [
    {
     "name": "stdout",
     "output_type": "stream",
     "text": [
      "45\n",
      "45\n"
     ]
    }
   ],
   "source": [
    "suming_array = np.arange(10)\n",
    "\n",
    "fast_sum = np.add.reduce(suming_array)\n",
    "\n",
    "print(fast_sum)\n",
    "\n",
    "# ALTERNATIVELY!\n",
    "\n",
    "slow_sum = np.sum(suming_array)\n",
    "\n",
    "print(slow_sum)"
   ]
  },
  {
   "cell_type": "markdown",
   "metadata": {},
   "source": [
    "### Question No. 16\n",
    "\n",
    "Consider a random 10x2 matrix representing cartesian coordinates, convert them to polar coordinates.\n",
    "\n",
    ">> Cartesian coordinates: (x,y) for 2d Plane\n",
    ">> Polar Coordinates: (r,angle) for 3d Space"
   ]
  },
  {
   "cell_type": "code",
   "execution_count": 17,
   "metadata": {},
   "outputs": [
    {
     "name": "stdout",
     "output_type": "stream",
     "text": [
      "[[0.30144039 0.96888059]\n",
      " [0.27247046 0.82496124]\n",
      " [0.51628472 0.27247953]\n",
      " [0.65126772 0.32311511]\n",
      " [0.40134299 0.58461495]\n",
      " [0.95977084 0.99857524]\n",
      " [0.00385911 0.24248022]\n",
      " [0.19127323 0.88687617]\n",
      " [0.11224971 0.23601473]\n",
      " [0.79488324 0.33529479]]\n",
      "\n",
      "\n",
      "[]\n",
      "[[0.30144039 0.96888059]]\n",
      "[]\n",
      "[]\n"
     ]
    }
   ],
   "source": [
    "# POLAR COORDINATES:\n",
    "\n",
    "# r = sqrt(x^2 + y^2)\n",
    "# angle = arctan(y/x)\n",
    "\n",
    "# CARTESIAN COORDINATES:\n",
    "\n",
    "# x = r*cos(angle)\n",
    "# y = r*sin(angle)\n",
    "\n",
    "# so lets do it\n",
    "\n",
    "# 10 * 2 Matrix\n",
    "matrix = np.random.random((10,2))\n",
    "\n",
    "x,y = matrix[:0], matrix[:1]\n",
    "\n",
    "print(matrix)\n",
    "print('\\n')\n",
    "\n",
    "print(x)\n",
    "print(y)\n",
    "\n",
    "r = np.sqrt(x**2 + y**2)\n",
    "angle = np.arctan(y,x)\n",
    "\n",
    "print(r)\n",
    "print(angle)"
   ]
  },
  {
   "cell_type": "code",
   "execution_count": 18,
   "metadata": {},
   "outputs": [
    {
     "name": "stdout",
     "output_type": "stream",
     "text": [
      "[0.86508985 0.54951292 0.48983253 0.91435555 1.17082266 1.03296638\n",
      " 0.7798167  0.96778762 0.58529501 0.37143916]\n",
      "[0.10898676 1.36790533 1.13714291 0.91175216 0.83460904 0.8409368\n",
      " 1.16973902 0.29928695 0.64127586 1.29894338]\n"
     ]
    }
   ],
   "source": [
    "# ALTERNATIVELY!\n",
    "\n",
    "Z = np.random.random((10,2))\n",
    "X,Y = Z[:,0], Z[:,1]\n",
    "R = np.sqrt(X**2+Y**2)\n",
    "T = np.arctan2(Y,X)\n",
    "print(R)\n",
    "print(T)"
   ]
  },
  {
   "cell_type": "markdown",
   "metadata": {},
   "source": [
    "### Question No. 17\n",
    "\n",
    "How to convert a float (32 bits) array into an integer (32 bits) in place?"
   ]
  },
  {
   "cell_type": "code",
   "execution_count": 19,
   "metadata": {},
   "outputs": [
    {
     "name": "stdout",
     "output_type": "stream",
     "text": [
      "[0. 1. 2. 3. 4. 5. 6. 7. 8. 9.]\n",
      "[0 1 2 3 4 5 6 7 8 9]\n"
     ]
    }
   ],
   "source": [
    "Z_ = np.arange(10, dtype=np.float32)\n",
    "Z = Z_.astype(np.int32, copy=False) # used type casting\n",
    "print(Z_)\n",
    "print(Z)"
   ]
  },
  {
   "cell_type": "markdown",
   "metadata": {},
   "source": [
    "### Question No. 18\n",
    "\n",
    "What is the equivalent of enumerate for numpy arrays? Code at least one example"
   ]
  },
  {
   "cell_type": "code",
   "execution_count": 20,
   "metadata": {},
   "outputs": [
    {
     "name": "stdout",
     "output_type": "stream",
     "text": [
      "[11 12 13 14 15 16 17 18 19 20]\n",
      "\n",
      "\n",
      "(0,) 11\n",
      "(1,) 12\n",
      "(2,) 13\n",
      "(3,) 14\n",
      "(4,) 15\n",
      "(5,) 16\n",
      "(6,) 17\n",
      "(7,) 18\n",
      "(8,) 19\n",
      "(9,) 20\n"
     ]
    }
   ],
   "source": [
    "array_ = np.arange(11,21)\n",
    "print(array_)\n",
    "print('\\n')\n",
    "\n",
    "for index,entry in np.ndenumerate(array_):\n",
    "    print(index,entry)"
   ]
  },
  {
   "cell_type": "markdown",
   "metadata": {},
   "source": [
    "### Question No. 19 (Bonus Question)\n",
    "\n",
    "Create the following Mathematical functions using Numpy:\n",
    "* Linear\n",
    "* Sigmoid\n",
    "* Tanh\n",
    "* ReLU\n",
    "* Leaky ReLU\n",
    "* Softmax\n"
   ]
  },
  {
   "cell_type": "code",
   "execution_count": 21,
   "metadata": {},
   "outputs": [],
   "source": [
    "import numpy as np\n",
    "import matplotlib.pyplot as plt \n",
    "%matplotlib inline\n",
    "\n",
    "# LINEAR -> y = const * x (general example)\n",
    "def linear():\n",
    "    x = np.arange(10)\n",
    "    y = 2 * x\n",
    "    return y\n",
    "\n",
    "# SIGMOID -> 1 / (1 + exp^(-x))\n",
    "def sigmoid():\n",
    "    x = np.arange(-10,25)\n",
    "    y = 1 / (1 + np.exp(-x))\n",
    "    return y\n",
    "    \n",
    "# TANH -> sinh / consh = exp^(x) - exp^(-x) / exp^(x) + exp^(-x)\n",
    "def tanh():\n",
    "    x = np.linspace(-10,10,100)\n",
    "    return (np.exp(x) - np.exp(-x)) / (np.exp(x) + np.exp(-x))\n",
    "\n",
    "# ReLU -> f(x) = x {x >= 0: 0 otherwise}\n",
    "def rel():\n",
    "    x = np.linspace(-100,100,20)\n",
    "    y = np.array([0 if num < 0 else num for num in x])\n",
    "    return y\n",
    "    \n",
    "def leaky_relu():\n",
    "    x = np.linspace(-100,100,20)\n",
    "    y_ = []\n",
    "    y = np.array([0.01 if num < 0 else num for num in x])\n",
    "    y_.append(y)\n",
    "    return y_\n",
    "\n",
    "# SOFTMAX -> exp^(x - max(x)) / sum(exp^(x) - max(x))\n",
    "def softmax():\n",
    "    \n",
    "    x = np.arange(-20,10)\n",
    "    \n",
    "    e_x = np.exp(x - np.max(x))\n",
    "    return e_x / e_x.sum()\n",
    "\n"
   ]
  },
  {
   "cell_type": "code",
   "execution_count": 23,
   "metadata": {},
   "outputs": [
    {
     "data": {
      "text/plain": [
       "<matplotlib.collections.PathCollection at 0x7f4a4a2b31d0>"
      ]
     },
     "execution_count": 23,
     "metadata": {},
     "output_type": "execute_result"
    },
    {
     "data": {
      "image/png": "[encoded data removed]",
      "text/plain": [
       "<Figure size 864x432 with 1 Axes>"
      ]
     },
     "metadata": {
      "needs_background": "light"
     },
     "output_type": "display_data"
    }
   ],
   "source": [
    "# LINEAR FUNCTION!\n",
    "\n",
    "plt.figure(figsize = (12,6))\n",
    "plt.xlabel('Function Response')\n",
    "plt.ylabel('Values')\n",
    "plt.title('Linear Function')\n",
    "lin = linear()\n",
    "x1 = np.arange(10)\n",
    "plt.scatter(lin,x1)"
   ]
  },
  {
   "cell_type": "code",
   "execution_count": 24,
   "metadata": {},
   "outputs": [
    {
     "data": {
      "text/plain": [
       "<matplotlib.collections.PathCollection at 0x7f4a4a5217b8>"
      ]
     },
     "execution_count": 24,
     "metadata": {},
     "output_type": "execute_result"
    },
    {
     "data": {
      "image/png": "[encoded data removed]",
      "text/plain": [
       "<Figure size 864x432 with 1 Axes>"
      ]
     },
     "metadata": {
      "needs_background": "light"
     },
     "output_type": "display_data"
    }
   ],
   "source": [
    "# SIGMOID FUNCTION!\n",
    "\n",
    "plt.figure(figsize = (12,6))\n",
    "plt.xlabel('Function Response')\n",
    "plt.ylabel('Values')\n",
    "plt.title('Sigmoid Function')\n",
    "x2 = np.arange(-10,25)\n",
    "sig = sigmoid()\n",
    "plt.scatter(sig,x2)"
   ]
  },
  {
   "cell_type": "code",
   "execution_count": 25,
   "metadata": {},
   "outputs": [
    {
     "data": {
      "text/plain": [
       "<matplotlib.collections.PathCollection at 0x7f4a4a4ffe80>"
      ]
     },
     "execution_count": 25,
     "metadata": {},
     "output_type": "execute_result"
    },
    {
     "data": {
      "image/png": "[encoded data removed]",
      "text/plain": [
       "<Figure size 864x432 with 1 Axes>"
      ]
     },
     "metadata": {
      "needs_background": "light"
     },
     "output_type": "display_data"
    }
   ],
   "source": [
    "# TANH FUNCTION!\n",
    "\n",
    "plt.figure(figsize = (12,6))\n",
    "plt.xlabel('Function Response')\n",
    "plt.ylabel('Values')\n",
    "plt.title('Sigmoid Function')\n",
    "x3 = np.linspace(-10,10,100)\n",
    "tan_h = tanh()\n",
    "plt.scatter(tan_h,x3)"
   ]
  },
  {
   "cell_type": "code",
   "execution_count": 26,
   "metadata": {},
   "outputs": [
    {
     "data": {
      "text/plain": [
       "<matplotlib.collections.PathCollection at 0x7f4a4a46f780>"
      ]
     },
     "execution_count": 26,
     "metadata": {},
     "output_type": "execute_result"
    },
    {
     "data": {
      "image/png": "[encoded data removed]",
      "text/plain": [
       "<Figure size 864x432 with 1 Axes>"
      ]
     },
     "metadata": {
      "needs_background": "light"
     },
     "output_type": "display_data"
    }
   ],
   "source": [
    "# ReLU FUNCTION!\n",
    "\n",
    "plt.figure(figsize = (12,6))\n",
    "plt.xlabel('Function Response')\n",
    "plt.ylabel('Values')\n",
    "plt.title('ReLU Function')\n",
    "x4 = np.linspace(-100,100,20)\n",
    "relu = rel()\n",
    "plt.scatter(relu, x4)"
   ]
  },
  {
   "cell_type": "code",
   "execution_count": 27,
   "metadata": {},
   "outputs": [
    {
     "data": {
      "text/plain": [
       "<matplotlib.collections.PathCollection at 0x7f4a4a2162e8>"
      ]
     },
     "execution_count": 27,
     "metadata": {},
     "output_type": "execute_result"
    },
    {
     "data": {
      "image/png": "[encoded data removed]",
      "text/plain": [
       "<Figure size 864x432 with 1 Axes>"
      ]
     },
     "metadata": {
      "needs_background": "light"
     },
     "output_type": "display_data"
    }
   ],
   "source": [
    "# LEAKY ReLU\n",
    "\n",
    "plt.figure(figsize = (12,6))\n",
    "plt.xlabel('Function Response')\n",
    "plt.ylabel('Values')\n",
    "plt.title('Leaky ReLU Function')\n",
    "x5 = x = np.linspace(-100,100,20)\n",
    "l_relu = leaky_relu()\n",
    "plt.scatter(x5, l_relu)"
   ]
  },
  {
   "cell_type": "code",
   "execution_count": 28,
   "metadata": {},
   "outputs": [
    {
     "data": {
      "text/plain": [
       "<matplotlib.collections.PathCollection at 0x7f4a4a1f4d68>"
      ]
     },
     "execution_count": 28,
     "metadata": {},
     "output_type": "execute_result"
    },
    {
     "data": {
      "image/png": "[encoded data removed]",
      "text/plain": [
       "<Figure size 864x432 with 1 Axes>"
      ]
     },
     "metadata": {
      "needs_background": "light"
     },
     "output_type": "display_data"
    }
   ],
   "source": [
    "# SOFTMAX FUNCTION!\n",
    "\n",
    "plt.figure(figsize = (12,6))\n",
    "plt.xlabel('Function Response')\n",
    "plt.ylabel('Values')\n",
    "plt.title('ReLU Function')\n",
    "x6 = np.arange(-20,10)\n",
    "soft = softmax()\n",
    "plt.scatter(soft, x6)"
   ]
  },
  {
   "cell_type": "markdown",
   "metadata": {},
   "source": [
    "## Good Job!"
   ]
  },
  {
   "cell_type": "code",
   "execution_count": null,
   "metadata": {},
   "outputs": [],
   "source": []
  }
 ],
 "metadata": {
  "kernelspec": {
   "display_name": "Python 3",
   "language": "python",
   "name": "python3"
  },
  "language_info": {
   "codemirror_mode": {
    "name": "ipython",
    "version": 3
   },
   "file_extension": ".py",
   "mimetype": "text/x-python",
   "name": "python",
   "nbconvert_exporter": "python",
   "pygments_lexer": "ipython3",
   "version": "3.7.3"
  }
 },
 "nbformat": 4,
 "nbformat_minor": 2
}
