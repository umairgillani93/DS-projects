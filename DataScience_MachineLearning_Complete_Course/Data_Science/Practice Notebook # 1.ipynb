{
 "cells": [
  {
   "cell_type": "code",
   "execution_count": 337,
   "metadata": {},
   "outputs": [],
   "source": [
    "# Revision of some of the basic concepts of Data Wrangling\n",
    "\n",
    "import numpy as np\n",
    "import pandas as pd\n",
    "import matplotlib.pyplot as plt\n",
    "import seaborn as sns\n",
    "%matplotlib inline"
   ]
  },
  {
   "cell_type": "code",
   "execution_count": 338,
   "metadata": {},
   "outputs": [],
   "source": [
    "df = pd.read_csv('911.csv')"
   ]
  },
  {
   "cell_type": "code",
   "execution_count": 339,
   "metadata": {},
   "outputs": [],
   "source": [
    "df = pd.DataFrame(data = df)"
   ]
  },
  {
   "cell_type": "code",
   "execution_count": 340,
   "metadata": {},
   "outputs": [
    {
     "data": {
      "text/html": [
       "<div>\n",
       "<style scoped>\n",
       "    .dataframe tbody tr th:only-of-type {\n",
       "        vertical-align: middle;\n",
       "    }\n",
       "\n",
       "    .dataframe tbody tr th {\n",
       "        vertical-align: top;\n",
       "    }\n",
       "\n",
       "    .dataframe thead th {\n",
       "        text-align: right;\n",
       "    }\n",
       "</style>\n",
       "<table border=\"1\" class=\"dataframe\">\n",
       "  <thead>\n",
       "    <tr style=\"text-align: right;\">\n",
       "      <th></th>\n",
       "      <th>lat</th>\n",
       "      <th>lng</th>\n",
       "      <th>desc</th>\n",
       "      <th>zip</th>\n",
       "      <th>title</th>\n",
       "      <th>timeStamp</th>\n",
       "      <th>twp</th>\n",
       "      <th>addr</th>\n",
       "      <th>e</th>\n",
       "    </tr>\n",
       "  </thead>\n",
       "  <tbody>\n",
       "    <tr>\n",
       "      <th>0</th>\n",
       "      <td>40.297876</td>\n",
       "      <td>-75.581294</td>\n",
       "      <td>REINDEER CT &amp; DEAD END;  NEW HANOVER; Station ...</td>\n",
       "      <td>19525.0</td>\n",
       "      <td>EMS: BACK PAINS/INJURY</td>\n",
       "      <td>2015-12-10 17:40:00</td>\n",
       "      <td>NEW HANOVER</td>\n",
       "      <td>REINDEER CT &amp; DEAD END</td>\n",
       "      <td>1</td>\n",
       "    </tr>\n",
       "    <tr>\n",
       "      <th>1</th>\n",
       "      <td>40.258061</td>\n",
       "      <td>-75.264680</td>\n",
       "      <td>BRIAR PATH &amp; WHITEMARSH LN;  HATFIELD TOWNSHIP...</td>\n",
       "      <td>19446.0</td>\n",
       "      <td>EMS: DIABETIC EMERGENCY</td>\n",
       "      <td>2015-12-10 17:40:00</td>\n",
       "      <td>HATFIELD TOWNSHIP</td>\n",
       "      <td>BRIAR PATH &amp; WHITEMARSH LN</td>\n",
       "      <td>1</td>\n",
       "    </tr>\n",
       "    <tr>\n",
       "      <th>2</th>\n",
       "      <td>40.121182</td>\n",
       "      <td>-75.351975</td>\n",
       "      <td>HAWS AVE; NORRISTOWN; 2015-12-10 @ 14:39:21-St...</td>\n",
       "      <td>19401.0</td>\n",
       "      <td>Fire: GAS-ODOR/LEAK</td>\n",
       "      <td>2015-12-10 17:40:00</td>\n",
       "      <td>NORRISTOWN</td>\n",
       "      <td>HAWS AVE</td>\n",
       "      <td>1</td>\n",
       "    </tr>\n",
       "    <tr>\n",
       "      <th>3</th>\n",
       "      <td>40.116153</td>\n",
       "      <td>-75.343513</td>\n",
       "      <td>AIRY ST &amp; SWEDE ST;  NORRISTOWN; Station 308A;...</td>\n",
       "      <td>19401.0</td>\n",
       "      <td>EMS: CARDIAC EMERGENCY</td>\n",
       "      <td>2015-12-10 17:40:01</td>\n",
       "      <td>NORRISTOWN</td>\n",
       "      <td>AIRY ST &amp; SWEDE ST</td>\n",
       "      <td>1</td>\n",
       "    </tr>\n",
       "    <tr>\n",
       "      <th>4</th>\n",
       "      <td>40.251492</td>\n",
       "      <td>-75.603350</td>\n",
       "      <td>CHERRYWOOD CT &amp; DEAD END;  LOWER POTTSGROVE; S...</td>\n",
       "      <td>NaN</td>\n",
       "      <td>EMS: DIZZINESS</td>\n",
       "      <td>2015-12-10 17:40:01</td>\n",
       "      <td>LOWER POTTSGROVE</td>\n",
       "      <td>CHERRYWOOD CT &amp; DEAD END</td>\n",
       "      <td>1</td>\n",
       "    </tr>\n",
       "  </tbody>\n",
       "</table>\n",
       "</div>"
      ],
      "text/plain": [
       "         lat        lng                                               desc  \\\n",
       "0  40.297876 -75.581294  REINDEER CT & DEAD END;  NEW HANOVER; Station ...   \n",
       "1  40.258061 -75.264680  BRIAR PATH & WHITEMARSH LN;  HATFIELD TOWNSHIP...   \n",
       "2  40.121182 -75.351975  HAWS AVE; NORRISTOWN; 2015-12-10 @ 14:39:21-St...   \n",
       "3  40.116153 -75.343513  AIRY ST & SWEDE ST;  NORRISTOWN; Station 308A;...   \n",
       "4  40.251492 -75.603350  CHERRYWOOD CT & DEAD END;  LOWER POTTSGROVE; S...   \n",
       "\n",
       "       zip                    title            timeStamp                twp  \\\n",
       "0  19525.0   EMS: BACK PAINS/INJURY  2015-12-10 17:40:00        NEW HANOVER   \n",
       "1  19446.0  EMS: DIABETIC EMERGENCY  2015-12-10 17:40:00  HATFIELD TOWNSHIP   \n",
       "2  19401.0      Fire: GAS-ODOR/LEAK  2015-12-10 17:40:00         NORRISTOWN   \n",
       "3  19401.0   EMS: CARDIAC EMERGENCY  2015-12-10 17:40:01         NORRISTOWN   \n",
       "4      NaN           EMS: DIZZINESS  2015-12-10 17:40:01   LOWER POTTSGROVE   \n",
       "\n",
       "                         addr  e  \n",
       "0      REINDEER CT & DEAD END  1  \n",
       "1  BRIAR PATH & WHITEMARSH LN  1  \n",
       "2                    HAWS AVE  1  \n",
       "3          AIRY ST & SWEDE ST  1  \n",
       "4    CHERRYWOOD CT & DEAD END  1  "
      ]
     },
     "execution_count": 340,
     "metadata": {},
     "output_type": "execute_result"
    }
   ],
   "source": [
    "df.head()"
   ]
  },
  {
   "cell_type": "code",
   "execution_count": 341,
   "metadata": {},
   "outputs": [
    {
     "data": {
      "text/plain": [
       "RangeIndex(start=0, stop=99492, step=1)"
      ]
     },
     "execution_count": 341,
     "metadata": {},
     "output_type": "execute_result"
    }
   ],
   "source": [
    "df.index"
   ]
  },
  {
   "cell_type": "code",
   "execution_count": 342,
   "metadata": {},
   "outputs": [
    {
     "data": {
      "text/html": [
       "<div>\n",
       "<style scoped>\n",
       "    .dataframe tbody tr th:only-of-type {\n",
       "        vertical-align: middle;\n",
       "    }\n",
       "\n",
       "    .dataframe tbody tr th {\n",
       "        vertical-align: top;\n",
       "    }\n",
       "\n",
       "    .dataframe thead th {\n",
       "        text-align: right;\n",
       "    }\n",
       "</style>\n",
       "<table border=\"1\" class=\"dataframe\">\n",
       "  <thead>\n",
       "    <tr style=\"text-align: right;\">\n",
       "      <th></th>\n",
       "      <th>lat</th>\n",
       "      <th>lng</th>\n",
       "      <th>desc</th>\n",
       "      <th>zip</th>\n",
       "      <th>title</th>\n",
       "      <th>timeStamp</th>\n",
       "      <th>twp</th>\n",
       "      <th>addr</th>\n",
       "      <th>e</th>\n",
       "    </tr>\n",
       "  </thead>\n",
       "  <tbody>\n",
       "    <tr>\n",
       "      <th>4</th>\n",
       "      <td>40.251492</td>\n",
       "      <td>-75.603350</td>\n",
       "      <td>CHERRYWOOD CT &amp; DEAD END;  LOWER POTTSGROVE; S...</td>\n",
       "      <td>NaN</td>\n",
       "      <td>EMS: DIZZINESS</td>\n",
       "      <td>2015-12-10 17:40:01</td>\n",
       "      <td>LOWER POTTSGROVE</td>\n",
       "      <td>CHERRYWOOD CT &amp; DEAD END</td>\n",
       "      <td>1</td>\n",
       "    </tr>\n",
       "    <tr>\n",
       "      <th>10</th>\n",
       "      <td>40.231990</td>\n",
       "      <td>-75.251891</td>\n",
       "      <td>RT202 PKWY &amp; KNAPP RD; MONTGOMERY; 2015-12-10 ...</td>\n",
       "      <td>NaN</td>\n",
       "      <td>Traffic: VEHICLE ACCIDENT -</td>\n",
       "      <td>2015-12-10 17:40:01</td>\n",
       "      <td>MONTGOMERY</td>\n",
       "      <td>RT202 PKWY &amp; KNAPP RD</td>\n",
       "      <td>1</td>\n",
       "    </tr>\n",
       "    <tr>\n",
       "      <th>14</th>\n",
       "      <td>40.097222</td>\n",
       "      <td>-75.376195</td>\n",
       "      <td>SCHUYLKILL EXPY &amp; CROTON RD UNDERPASS; UPPER M...</td>\n",
       "      <td>NaN</td>\n",
       "      <td>Traffic: VEHICLE ACCIDENT -</td>\n",
       "      <td>2015-12-10 17:40:02</td>\n",
       "      <td>UPPER MERION</td>\n",
       "      <td>SCHUYLKILL EXPY &amp; CROTON RD UNDERPASS</td>\n",
       "      <td>1</td>\n",
       "    </tr>\n",
       "    <tr>\n",
       "      <th>23</th>\n",
       "      <td>40.143326</td>\n",
       "      <td>-75.422819</td>\n",
       "      <td>RT422  &amp; PAWLINGS RD OVERPASS; LOWER PROVIDENC...</td>\n",
       "      <td>NaN</td>\n",
       "      <td>Traffic: DISABLED VEHICLE -</td>\n",
       "      <td>2015-12-10 18:02:02</td>\n",
       "      <td>LOWER PROVIDENCE</td>\n",
       "      <td>RT422  &amp; PAWLINGS RD OVERPASS</td>\n",
       "      <td>1</td>\n",
       "    </tr>\n",
       "    <tr>\n",
       "      <th>24</th>\n",
       "      <td>40.153268</td>\n",
       "      <td>-75.189558</td>\n",
       "      <td>SUMMIT AVE &amp; RT309 UNDERPASS; UPPER DUBLIN; 20...</td>\n",
       "      <td>NaN</td>\n",
       "      <td>Traffic: VEHICLE ACCIDENT -</td>\n",
       "      <td>2015-12-10 18:02:02</td>\n",
       "      <td>UPPER DUBLIN</td>\n",
       "      <td>SUMMIT AVE &amp; RT309 UNDERPASS</td>\n",
       "      <td>1</td>\n",
       "    </tr>\n",
       "    <tr>\n",
       "      <th>28</th>\n",
       "      <td>40.097222</td>\n",
       "      <td>-75.376195</td>\n",
       "      <td>SCHUYLKILL EXPY &amp; WEADLEY RD OVERPASS; UPPER M...</td>\n",
       "      <td>NaN</td>\n",
       "      <td>Traffic: VEHICLE ACCIDENT -</td>\n",
       "      <td>2015-12-10 18:06:26</td>\n",
       "      <td>UPPER MERION</td>\n",
       "      <td>SCHUYLKILL EXPY &amp; WEADLEY RD OVERPASS</td>\n",
       "      <td>1</td>\n",
       "    </tr>\n",
       "    <tr>\n",
       "      <th>30</th>\n",
       "      <td>40.097222</td>\n",
       "      <td>-75.376195</td>\n",
       "      <td>SCHUYLKILL EXPY &amp; WEADLEY RD OVERPASS; UPPER M...</td>\n",
       "      <td>NaN</td>\n",
       "      <td>Traffic: VEHICLE ACCIDENT -</td>\n",
       "      <td>2015-12-10 18:11:01</td>\n",
       "      <td>UPPER MERION</td>\n",
       "      <td>SCHUYLKILL EXPY &amp; WEADLEY RD OVERPASS</td>\n",
       "      <td>1</td>\n",
       "    </tr>\n",
       "    <tr>\n",
       "      <th>34</th>\n",
       "      <td>40.081260</td>\n",
       "      <td>-75.137025</td>\n",
       "      <td>; CHELTENHAM; 2015-12-10 @ 18:20:28;</td>\n",
       "      <td>NaN</td>\n",
       "      <td>Traffic: DISABLED VEHICLE -</td>\n",
       "      <td>2015-12-10 18:26:02</td>\n",
       "      <td>CHELTENHAM</td>\n",
       "      <td>NaN</td>\n",
       "      <td>1</td>\n",
       "    </tr>\n",
       "    <tr>\n",
       "      <th>36</th>\n",
       "      <td>40.221227</td>\n",
       "      <td>-75.288737</td>\n",
       "      <td>MORRIS RD &amp; MUHLENBURG DR; UPPER GWYNEDD; 2015...</td>\n",
       "      <td>NaN</td>\n",
       "      <td>Traffic: DISABLED VEHICLE -</td>\n",
       "      <td>2015-12-10 18:27:01</td>\n",
       "      <td>UPPER GWYNEDD</td>\n",
       "      <td>MORRIS RD &amp; MUHLENBURG DR</td>\n",
       "      <td>1</td>\n",
       "    </tr>\n",
       "    <tr>\n",
       "      <th>39</th>\n",
       "      <td>40.066718</td>\n",
       "      <td>-75.307176</td>\n",
       "      <td>CONSHOHOCKEN STATE RD;  WEST CONSHOHOCKEN; Sta...</td>\n",
       "      <td>NaN</td>\n",
       "      <td>EMS: VEHICLE ACCIDENT</td>\n",
       "      <td>2015-12-10 18:32:02</td>\n",
       "      <td>WEST CONSHOHOCKEN</td>\n",
       "      <td>CONSHOHOCKEN STATE RD</td>\n",
       "      <td>1</td>\n",
       "    </tr>\n",
       "    <tr>\n",
       "      <th>44</th>\n",
       "      <td>40.024967</td>\n",
       "      <td>-75.282905</td>\n",
       "      <td>ROSEMONT AVE &amp; DEAD END;  LOWER MERION; Statio...</td>\n",
       "      <td>NaN</td>\n",
       "      <td>EMS: CARDIAC EMERGENCY</td>\n",
       "      <td>2015-12-10 18:47:01</td>\n",
       "      <td>LOWER MERION</td>\n",
       "      <td>ROSEMONT AVE &amp; DEAD END</td>\n",
       "      <td>1</td>\n",
       "    </tr>\n",
       "    <tr>\n",
       "      <th>50</th>\n",
       "      <td>40.251523</td>\n",
       "      <td>-75.329557</td>\n",
       "      <td>DOCK DR &amp; DEAD END;  TOWAMENCIN; Station 345B;...</td>\n",
       "      <td>NaN</td>\n",
       "      <td>EMS: ALTERED MENTAL STATUS</td>\n",
       "      <td>2015-12-10 19:01:02</td>\n",
       "      <td>TOWAMENCIN</td>\n",
       "      <td>DOCK DR &amp; DEAD END</td>\n",
       "      <td>1</td>\n",
       "    </tr>\n",
       "    <tr>\n",
       "      <th>51</th>\n",
       "      <td>40.165393</td>\n",
       "      <td>-75.282905</td>\n",
       "      <td>HARROW LN &amp; DEAD END; WHITPAIN; 2015-12-10 @ 1...</td>\n",
       "      <td>NaN</td>\n",
       "      <td>Fire: FIRE ALARM</td>\n",
       "      <td>2015-12-10 19:02:01</td>\n",
       "      <td>WHITPAIN</td>\n",
       "      <td>HARROW LN &amp; DEAD END</td>\n",
       "      <td>1</td>\n",
       "    </tr>\n",
       "    <tr>\n",
       "      <th>56</th>\n",
       "      <td>40.156847</td>\n",
       "      <td>-75.101994</td>\n",
       "      <td>YORK RD &amp; RR CROSSING;  UPPER MORELAND; Statio...</td>\n",
       "      <td>NaN</td>\n",
       "      <td>EMS: UNKNOWN MEDICAL EMERGENCY</td>\n",
       "      <td>2015-12-10 19:26:02</td>\n",
       "      <td>UPPER MORELAND</td>\n",
       "      <td>YORK RD &amp; RR CROSSING</td>\n",
       "      <td>1</td>\n",
       "    </tr>\n",
       "    <tr>\n",
       "      <th>72</th>\n",
       "      <td>40.024967</td>\n",
       "      <td>-75.282905</td>\n",
       "      <td>AVIGNON DR &amp; DEAD END; LOWER MERION; 2015-12-1...</td>\n",
       "      <td>NaN</td>\n",
       "      <td>Fire: GAS-ODOR/LEAK</td>\n",
       "      <td>2015-12-10 20:06:01</td>\n",
       "      <td>LOWER MERION</td>\n",
       "      <td>AVIGNON DR &amp; DEAD END</td>\n",
       "      <td>1</td>\n",
       "    </tr>\n",
       "    <tr>\n",
       "      <th>121</th>\n",
       "      <td>40.097222</td>\n",
       "      <td>-75.376195</td>\n",
       "      <td>; UPPER MERION; 2015-12-11 @ 01:15:42;</td>\n",
       "      <td>NaN</td>\n",
       "      <td>Traffic: DISABLED VEHICLE -</td>\n",
       "      <td>2015-12-11 01:17:02</td>\n",
       "      <td>UPPER MERION</td>\n",
       "      <td>NaN</td>\n",
       "      <td>1</td>\n",
       "    </tr>\n",
       "    <tr>\n",
       "      <th>122</th>\n",
       "      <td>40.150711</td>\n",
       "      <td>-75.055274</td>\n",
       "      <td>RED LION RD &amp; RR CROSSING; LOWER MORELAND; 201...</td>\n",
       "      <td>NaN</td>\n",
       "      <td>Traffic: DISABLED VEHICLE -</td>\n",
       "      <td>2015-12-11 01:24:01</td>\n",
       "      <td>LOWER MORELAND</td>\n",
       "      <td>RED LION RD &amp; RR CROSSING</td>\n",
       "      <td>1</td>\n",
       "    </tr>\n",
       "    <tr>\n",
       "      <th>143</th>\n",
       "      <td>40.165393</td>\n",
       "      <td>-75.282905</td>\n",
       "      <td>NORTHGATE BLVD &amp; QUAKERTOWN RD; WHITPAIN; 2015...</td>\n",
       "      <td>NaN</td>\n",
       "      <td>Traffic: VEHICLE ACCIDENT -</td>\n",
       "      <td>2015-12-11 05:22:00</td>\n",
       "      <td>WHITPAIN</td>\n",
       "      <td>NORTHGATE BLVD &amp; QUAKERTOWN RD</td>\n",
       "      <td>1</td>\n",
       "    </tr>\n",
       "    <tr>\n",
       "      <th>159</th>\n",
       "      <td>40.024967</td>\n",
       "      <td>-75.282905</td>\n",
       "      <td>SCHUYLKILL EXPY &amp; MILL CREEK RD UNDERPASS; LOW...</td>\n",
       "      <td>NaN</td>\n",
       "      <td>Traffic: DISABLED VEHICLE -</td>\n",
       "      <td>2015-12-11 07:11:02</td>\n",
       "      <td>LOWER MERION</td>\n",
       "      <td>SCHUYLKILL EXPY &amp; MILL CREEK RD UNDERPASS</td>\n",
       "      <td>1</td>\n",
       "    </tr>\n",
       "    <tr>\n",
       "      <th>172</th>\n",
       "      <td>40.241495</td>\n",
       "      <td>-75.283786</td>\n",
       "      <td>HANCOCK ST &amp; RR CROSSING; LANSDALE; 2015-12-11...</td>\n",
       "      <td>NaN</td>\n",
       "      <td>Traffic: VEHICLE ACCIDENT -</td>\n",
       "      <td>2015-12-11 08:12:01</td>\n",
       "      <td>LANSDALE</td>\n",
       "      <td>HANCOCK ST &amp; RR CROSSING</td>\n",
       "      <td>1</td>\n",
       "    </tr>\n",
       "    <tr>\n",
       "      <th>177</th>\n",
       "      <td>40.119833</td>\n",
       "      <td>-75.125349</td>\n",
       "      <td>SUSQUEHANNA RD &amp; TYSON AVE OVERPASS; ABINGTON;...</td>\n",
       "      <td>NaN</td>\n",
       "      <td>Traffic: VEHICLE ACCIDENT -</td>\n",
       "      <td>2015-12-11 08:17:01</td>\n",
       "      <td>ABINGTON</td>\n",
       "      <td>SUSQUEHANNA RD &amp; TYSON AVE OVERPASS</td>\n",
       "      <td>1</td>\n",
       "    </tr>\n",
       "    <tr>\n",
       "      <th>178</th>\n",
       "      <td>40.229008</td>\n",
       "      <td>-75.387853</td>\n",
       "      <td>BROAD ST &amp; S WAYNE AVE;  HATFIELD BORO; Statio...</td>\n",
       "      <td>NaN</td>\n",
       "      <td>EMS: GENERAL WEAKNESS</td>\n",
       "      <td>2015-12-11 08:22:00</td>\n",
       "      <td>HATFIELD BORO</td>\n",
       "      <td>BROAD ST &amp; S WAYNE AVE</td>\n",
       "      <td>1</td>\n",
       "    </tr>\n",
       "    <tr>\n",
       "      <th>183</th>\n",
       "      <td>40.221227</td>\n",
       "      <td>-75.288737</td>\n",
       "      <td>SUMNEYTOWN PIKE &amp; RR OVERPASS;  UPPER GWYNEDD;...</td>\n",
       "      <td>NaN</td>\n",
       "      <td>EMS: SUBJECT IN PAIN</td>\n",
       "      <td>2015-12-11 08:37:01</td>\n",
       "      <td>UPPER GWYNEDD</td>\n",
       "      <td>SUMNEYTOWN PIKE &amp; RR OVERPASS</td>\n",
       "      <td>1</td>\n",
       "    </tr>\n",
       "    <tr>\n",
       "      <th>184</th>\n",
       "      <td>40.239436</td>\n",
       "      <td>-75.236238</td>\n",
       "      <td>HORSHAM RD &amp; DOYLESTOWN PIKE; MONTGOMERY; 2015...</td>\n",
       "      <td>NaN</td>\n",
       "      <td>Traffic: VEHICLE ACCIDENT -</td>\n",
       "      <td>2015-12-11 08:37:01</td>\n",
       "      <td>MONTGOMERY</td>\n",
       "      <td>HORSHAM RD &amp; DOYLESTOWN PIKE</td>\n",
       "      <td>1</td>\n",
       "    </tr>\n",
       "    <tr>\n",
       "      <th>191</th>\n",
       "      <td>40.154553</td>\n",
       "      <td>-75.221565</td>\n",
       "      <td>PARK ON ALLENTOWN  ; AMBLER; 2015-12-11 @ 08:5...</td>\n",
       "      <td>NaN</td>\n",
       "      <td>Traffic: DISABLED VEHICLE -</td>\n",
       "      <td>2015-12-11 08:52:02</td>\n",
       "      <td>AMBLER</td>\n",
       "      <td>PARK ON ALLENTOWN</td>\n",
       "      <td>1</td>\n",
       "    </tr>\n",
       "    <tr>\n",
       "      <th>192</th>\n",
       "      <td>40.179375</td>\n",
       "      <td>-75.236238</td>\n",
       "      <td>RT309 EXPY &amp; NORRISTOWN RD UNDERPASS; LOWER GW...</td>\n",
       "      <td>NaN</td>\n",
       "      <td>Traffic: DISABLED VEHICLE -</td>\n",
       "      <td>2015-12-11 08:52:02</td>\n",
       "      <td>LOWER GWYNEDD</td>\n",
       "      <td>RT309 EXPY &amp; NORRISTOWN RD UNDERPASS</td>\n",
       "      <td>1</td>\n",
       "    </tr>\n",
       "    <tr>\n",
       "      <th>193</th>\n",
       "      <td>40.179375</td>\n",
       "      <td>-75.236238</td>\n",
       "      <td>RT309 EXPY &amp; NORRISTOWN RD UNDERPASS; LOWER GW...</td>\n",
       "      <td>NaN</td>\n",
       "      <td>Traffic: DISABLED VEHICLE -</td>\n",
       "      <td>2015-12-11 08:52:02</td>\n",
       "      <td>LOWER GWYNEDD</td>\n",
       "      <td>RT309 EXPY &amp; NORRISTOWN RD UNDERPASS</td>\n",
       "      <td>1</td>\n",
       "    </tr>\n",
       "    <tr>\n",
       "      <th>204</th>\n",
       "      <td>40.081260</td>\n",
       "      <td>-75.137025</td>\n",
       "      <td>LIMEKILN PIKE &amp; RT309 EXPY SB;  CHELTENHAM; St...</td>\n",
       "      <td>NaN</td>\n",
       "      <td>EMS: UNKNOWN MEDICAL EMERGENCY</td>\n",
       "      <td>2015-12-11 09:42:01</td>\n",
       "      <td>CHELTENHAM</td>\n",
       "      <td>LIMEKILN PIKE &amp; RT309 EXPY SB</td>\n",
       "      <td>1</td>\n",
       "    </tr>\n",
       "    <tr>\n",
       "      <th>212</th>\n",
       "      <td>40.138524</td>\n",
       "      <td>-75.503251</td>\n",
       "      <td>BRIDGE ST;  UPPER PROVIDENCE; Station 3A85; 20...</td>\n",
       "      <td>NaN</td>\n",
       "      <td>EMS: VEHICLE ACCIDENT</td>\n",
       "      <td>2015-12-11 10:32:01</td>\n",
       "      <td>UPPER PROVIDENCE</td>\n",
       "      <td>BRIDGE ST</td>\n",
       "      <td>1</td>\n",
       "    </tr>\n",
       "    <tr>\n",
       "      <th>214</th>\n",
       "      <td>40.172314</td>\n",
       "      <td>-75.492728</td>\n",
       "      <td>BRIDGE ST &amp; RR OVERPASS; UPPER PROVIDENCE; 201...</td>\n",
       "      <td>NaN</td>\n",
       "      <td>Traffic: VEHICLE ACCIDENT -</td>\n",
       "      <td>2015-12-11 10:36:02</td>\n",
       "      <td>UPPER PROVIDENCE</td>\n",
       "      <td>BRIDGE ST &amp; RR OVERPASS</td>\n",
       "      <td>1</td>\n",
       "    </tr>\n",
       "    <tr>\n",
       "      <th>...</th>\n",
       "      <td>...</td>\n",
       "      <td>...</td>\n",
       "      <td>...</td>\n",
       "      <td>...</td>\n",
       "      <td>...</td>\n",
       "      <td>...</td>\n",
       "      <td>...</td>\n",
       "      <td>...</td>\n",
       "      <td>...</td>\n",
       "    </tr>\n",
       "    <tr>\n",
       "      <th>99328</th>\n",
       "      <td>40.105108</td>\n",
       "      <td>-75.345184</td>\n",
       "      <td>BORO LINE RD &amp; DEAD END; BRIDGEPORT; 2016-08-2...</td>\n",
       "      <td>NaN</td>\n",
       "      <td>Traffic: VEHICLE ACCIDENT -</td>\n",
       "      <td>2016-08-23 21:42:05</td>\n",
       "      <td>BRIDGEPORT</td>\n",
       "      <td>BORO LINE RD &amp; DEAD END</td>\n",
       "      <td>1</td>\n",
       "    </tr>\n",
       "    <tr>\n",
       "      <th>99352</th>\n",
       "      <td>40.172314</td>\n",
       "      <td>-75.492728</td>\n",
       "      <td>RT422  &amp; TROUTMAN RD UNDERPASS;  UPPER PROVIDE...</td>\n",
       "      <td>NaN</td>\n",
       "      <td>EMS: VEHICLE ACCIDENT</td>\n",
       "      <td>2016-08-23 23:46:01</td>\n",
       "      <td>UPPER PROVIDENCE</td>\n",
       "      <td>RT422  &amp; TROUTMAN RD UNDERPASS</td>\n",
       "      <td>1</td>\n",
       "    </tr>\n",
       "    <tr>\n",
       "      <th>99353</th>\n",
       "      <td>40.172314</td>\n",
       "      <td>-75.492728</td>\n",
       "      <td>RT422  &amp; TROUTMAN RD UNDERPASS; UPPER PROVIDEN...</td>\n",
       "      <td>NaN</td>\n",
       "      <td>Fire: VEHICLE ACCIDENT</td>\n",
       "      <td>2016-08-23 23:46:01</td>\n",
       "      <td>UPPER PROVIDENCE</td>\n",
       "      <td>RT422  &amp; TROUTMAN RD UNDERPASS</td>\n",
       "      <td>1</td>\n",
       "    </tr>\n",
       "    <tr>\n",
       "      <th>99355</th>\n",
       "      <td>40.172314</td>\n",
       "      <td>-75.492728</td>\n",
       "      <td>RT422  &amp; TROUTMAN RD UNDERPASS; UPPER PROVIDEN...</td>\n",
       "      <td>NaN</td>\n",
       "      <td>Traffic: VEHICLE ACCIDENT -</td>\n",
       "      <td>2016-08-23 23:51:00</td>\n",
       "      <td>UPPER PROVIDENCE</td>\n",
       "      <td>RT422  &amp; TROUTMAN RD UNDERPASS</td>\n",
       "      <td>1</td>\n",
       "    </tr>\n",
       "    <tr>\n",
       "      <th>99377</th>\n",
       "      <td>40.172519</td>\n",
       "      <td>-75.313916</td>\n",
       "      <td>NORTH WALES RD; WHITPAIN; 2016-08-24 @ 01:51:1...</td>\n",
       "      <td>NaN</td>\n",
       "      <td>Fire: VEHICLE ACCIDENT</td>\n",
       "      <td>2016-08-24 01:56:00</td>\n",
       "      <td>WHITPAIN</td>\n",
       "      <td>NORTH WALES RD</td>\n",
       "      <td>1</td>\n",
       "    </tr>\n",
       "    <tr>\n",
       "      <th>99379</th>\n",
       "      <td>40.172519</td>\n",
       "      <td>-75.313916</td>\n",
       "      <td>NORTH WALES RD;  WHITPAIN; Station 385; 2016-0...</td>\n",
       "      <td>NaN</td>\n",
       "      <td>EMS: VEHICLE ACCIDENT</td>\n",
       "      <td>2016-08-24 01:56:01</td>\n",
       "      <td>WHITPAIN</td>\n",
       "      <td>NORTH WALES RD</td>\n",
       "      <td>1</td>\n",
       "    </tr>\n",
       "    <tr>\n",
       "      <th>99389</th>\n",
       "      <td>40.069832</td>\n",
       "      <td>-75.316295</td>\n",
       "      <td>BLUEROUTE  &amp; FRONT ST UNDERPASS; WEST CONSHOHO...</td>\n",
       "      <td>NaN</td>\n",
       "      <td>Traffic: DISABLED VEHICLE -</td>\n",
       "      <td>2016-08-24 03:41:03</td>\n",
       "      <td>WEST CONSHOHOCKEN</td>\n",
       "      <td>BLUEROUTE  &amp; FRONT ST UNDERPASS</td>\n",
       "      <td>1</td>\n",
       "    </tr>\n",
       "    <tr>\n",
       "      <th>99398</th>\n",
       "      <td>40.097222</td>\n",
       "      <td>-75.376195</td>\n",
       "      <td>SCHUYLKILL EXPY &amp; WEADLEY RD OVERPASS; UPPER M...</td>\n",
       "      <td>NaN</td>\n",
       "      <td>Traffic: VEHICLE ACCIDENT -</td>\n",
       "      <td>2016-08-24 04:47:00</td>\n",
       "      <td>UPPER MERION</td>\n",
       "      <td>SCHUYLKILL EXPY &amp; WEADLEY RD OVERPASS</td>\n",
       "      <td>1</td>\n",
       "    </tr>\n",
       "    <tr>\n",
       "      <th>99401</th>\n",
       "      <td>40.172314</td>\n",
       "      <td>-75.492728</td>\n",
       "      <td>RT422  &amp; RAMP RT422 EB TO RT29; UPPER PROVIDEN...</td>\n",
       "      <td>NaN</td>\n",
       "      <td>Traffic: VEHICLE ACCIDENT -</td>\n",
       "      <td>2016-08-24 05:16:01</td>\n",
       "      <td>UPPER PROVIDENCE</td>\n",
       "      <td>RT422  &amp; RAMP RT422 EB TO RT29</td>\n",
       "      <td>1</td>\n",
       "    </tr>\n",
       "    <tr>\n",
       "      <th>99402</th>\n",
       "      <td>40.172314</td>\n",
       "      <td>-75.492728</td>\n",
       "      <td>RT422  &amp; RAMP RT422 EB TO RT29; UPPER PROVIDEN...</td>\n",
       "      <td>NaN</td>\n",
       "      <td>Fire: VEHICLE ACCIDENT</td>\n",
       "      <td>2016-08-24 05:17:00</td>\n",
       "      <td>UPPER PROVIDENCE</td>\n",
       "      <td>RT422  &amp; RAMP RT422 EB TO RT29</td>\n",
       "      <td>1</td>\n",
       "    </tr>\n",
       "    <tr>\n",
       "      <th>99403</th>\n",
       "      <td>40.229008</td>\n",
       "      <td>-75.387853</td>\n",
       "      <td>SCHUYLKILL RD &amp; RAMP RT724 TO RT100 SB;  CHEST...</td>\n",
       "      <td>NaN</td>\n",
       "      <td>EMS: UNRESPONSIVE SUBJECT</td>\n",
       "      <td>2016-08-24 05:17:01</td>\n",
       "      <td>CHESTER COUNTY</td>\n",
       "      <td>SCHUYLKILL RD &amp; RAMP RT724 TO RT100 SB</td>\n",
       "      <td>1</td>\n",
       "    </tr>\n",
       "    <tr>\n",
       "      <th>99404</th>\n",
       "      <td>40.172314</td>\n",
       "      <td>-75.492728</td>\n",
       "      <td>RT422  &amp; RAMP RT422 EB TO RT29;  UPPER PROVIDE...</td>\n",
       "      <td>NaN</td>\n",
       "      <td>EMS: VEHICLE ACCIDENT</td>\n",
       "      <td>2016-08-24 05:17:01</td>\n",
       "      <td>UPPER PROVIDENCE</td>\n",
       "      <td>RT422  &amp; RAMP RT422 EB TO RT29</td>\n",
       "      <td>1</td>\n",
       "    </tr>\n",
       "    <tr>\n",
       "      <th>99408</th>\n",
       "      <td>40.172314</td>\n",
       "      <td>-75.492728</td>\n",
       "      <td>RT422  &amp; RAMP RT422 EB TO RT29; UPPER PROVIDEN...</td>\n",
       "      <td>NaN</td>\n",
       "      <td>Traffic: VEHICLE ACCIDENT -</td>\n",
       "      <td>2016-08-24 05:36:02</td>\n",
       "      <td>UPPER PROVIDENCE</td>\n",
       "      <td>RT422  &amp; RAMP RT422 EB TO RT29</td>\n",
       "      <td>1</td>\n",
       "    </tr>\n",
       "    <tr>\n",
       "      <th>99409</th>\n",
       "      <td>40.172314</td>\n",
       "      <td>-75.492728</td>\n",
       "      <td>RT422  &amp; RAMP RT422 EB TO RT29; UPPER PROVIDEN...</td>\n",
       "      <td>NaN</td>\n",
       "      <td>Traffic: VEHICLE ACCIDENT -</td>\n",
       "      <td>2016-08-24 06:11:01</td>\n",
       "      <td>UPPER PROVIDENCE</td>\n",
       "      <td>RT422  &amp; RAMP RT422 EB TO RT29</td>\n",
       "      <td>1</td>\n",
       "    </tr>\n",
       "    <tr>\n",
       "      <th>99410</th>\n",
       "      <td>40.148337</td>\n",
       "      <td>-75.097747</td>\n",
       "      <td>TERWOOD RD;  UPPER MORELAND; Station 381; 2016...</td>\n",
       "      <td>NaN</td>\n",
       "      <td>EMS: VEHICLE ACCIDENT</td>\n",
       "      <td>2016-08-24 06:22:01</td>\n",
       "      <td>UPPER MORELAND</td>\n",
       "      <td>TERWOOD RD</td>\n",
       "      <td>1</td>\n",
       "    </tr>\n",
       "    <tr>\n",
       "      <th>99414</th>\n",
       "      <td>40.143326</td>\n",
       "      <td>-75.422819</td>\n",
       "      <td>NANCY DR &amp; DEAD END;  LOWER PROVIDENCE; Statio...</td>\n",
       "      <td>NaN</td>\n",
       "      <td>EMS: ABDOMINAL PAINS</td>\n",
       "      <td>2016-08-24 06:36:08</td>\n",
       "      <td>LOWER PROVIDENCE</td>\n",
       "      <td>NANCY DR &amp; DEAD END</td>\n",
       "      <td>1</td>\n",
       "    </tr>\n",
       "    <tr>\n",
       "      <th>99418</th>\n",
       "      <td>40.075482</td>\n",
       "      <td>-75.385572</td>\n",
       "      <td>BROOKS RD &amp; CROTON RD; UPPER MERION; 2016-08-2...</td>\n",
       "      <td>NaN</td>\n",
       "      <td>Traffic: VEHICLE ACCIDENT -</td>\n",
       "      <td>2016-08-24 07:17:02</td>\n",
       "      <td>UPPER MERION</td>\n",
       "      <td>BROOKS RD &amp; CROTON RD</td>\n",
       "      <td>1</td>\n",
       "    </tr>\n",
       "    <tr>\n",
       "      <th>99424</th>\n",
       "      <td>40.222882</td>\n",
       "      <td>-75.398789</td>\n",
       "      <td>PENN DR &amp; DEAD END;  SKIPPACK; Station 336; 20...</td>\n",
       "      <td>NaN</td>\n",
       "      <td>EMS: HEMORRHAGING</td>\n",
       "      <td>2016-08-24 07:47:01</td>\n",
       "      <td>SKIPPACK</td>\n",
       "      <td>PENN DR &amp; DEAD END</td>\n",
       "      <td>1</td>\n",
       "    </tr>\n",
       "    <tr>\n",
       "      <th>99425</th>\n",
       "      <td>40.179375</td>\n",
       "      <td>-75.236238</td>\n",
       "      <td>NORRISTOWN RD &amp; RT309 OVERPASS; LOWER GWYNEDD;...</td>\n",
       "      <td>NaN</td>\n",
       "      <td>Traffic: ROAD OBSTRUCTION -</td>\n",
       "      <td>2016-08-24 07:56:03</td>\n",
       "      <td>LOWER GWYNEDD</td>\n",
       "      <td>NORRISTOWN RD &amp; RT309 OVERPASS</td>\n",
       "      <td>1</td>\n",
       "    </tr>\n",
       "    <tr>\n",
       "      <th>99431</th>\n",
       "      <td>40.100423</td>\n",
       "      <td>-75.207064</td>\n",
       "      <td>RT309 EXPY &amp; HAWS LN UNDERPASS; SPRINGFIELD; 2...</td>\n",
       "      <td>NaN</td>\n",
       "      <td>Traffic: ROAD OBSTRUCTION -</td>\n",
       "      <td>2016-08-24 08:12:01</td>\n",
       "      <td>SPRINGFIELD</td>\n",
       "      <td>RT309 EXPY &amp; HAWS LN UNDERPASS</td>\n",
       "      <td>1</td>\n",
       "    </tr>\n",
       "    <tr>\n",
       "      <th>99435</th>\n",
       "      <td>40.174672</td>\n",
       "      <td>-75.124521</td>\n",
       "      <td>BLAIR MILL RD;  UPPER MORELAND; Station 384; 2...</td>\n",
       "      <td>NaN</td>\n",
       "      <td>EMS: VEHICLE ACCIDENT</td>\n",
       "      <td>2016-08-24 08:22:00</td>\n",
       "      <td>UPPER MORELAND</td>\n",
       "      <td>BLAIR MILL RD</td>\n",
       "      <td>1</td>\n",
       "    </tr>\n",
       "    <tr>\n",
       "      <th>99437</th>\n",
       "      <td>40.100423</td>\n",
       "      <td>-75.207064</td>\n",
       "      <td>RT309 EXPY &amp; HAWS LN UNDERPASS; SPRINGFIELD; 2...</td>\n",
       "      <td>NaN</td>\n",
       "      <td>Traffic: ROAD OBSTRUCTION -</td>\n",
       "      <td>2016-08-24 08:31:01</td>\n",
       "      <td>SPRINGFIELD</td>\n",
       "      <td>RT309 EXPY &amp; HAWS LN UNDERPASS</td>\n",
       "      <td>1</td>\n",
       "    </tr>\n",
       "    <tr>\n",
       "      <th>99439</th>\n",
       "      <td>40.069832</td>\n",
       "      <td>-75.316295</td>\n",
       "      <td>BLUEROUTE  &amp; RAMP I476 NB TO I76 EB; WEST CONS...</td>\n",
       "      <td>NaN</td>\n",
       "      <td>Traffic: VEHICLE ACCIDENT -</td>\n",
       "      <td>2016-08-24 08:37:01</td>\n",
       "      <td>WEST CONSHOHOCKEN</td>\n",
       "      <td>BLUEROUTE  &amp; RAMP I476 NB TO I76 EB</td>\n",
       "      <td>1</td>\n",
       "    </tr>\n",
       "    <tr>\n",
       "      <th>99447</th>\n",
       "      <td>40.121341</td>\n",
       "      <td>-75.133677</td>\n",
       "      <td>SUSQUEHANNA RD;  ABINGTON; Station 382; 2016-0...</td>\n",
       "      <td>NaN</td>\n",
       "      <td>EMS: VEHICLE ACCIDENT</td>\n",
       "      <td>2016-08-24 09:01:03</td>\n",
       "      <td>ABINGTON</td>\n",
       "      <td>SUSQUEHANNA RD</td>\n",
       "      <td>1</td>\n",
       "    </tr>\n",
       "    <tr>\n",
       "      <th>99456</th>\n",
       "      <td>40.235613</td>\n",
       "      <td>-75.225128</td>\n",
       "      <td>RT202 PKWY &amp; HORSHAM RD; MONTGOMERY; 2016-08-2...</td>\n",
       "      <td>NaN</td>\n",
       "      <td>Traffic: VEHICLE ACCIDENT -</td>\n",
       "      <td>2016-08-24 09:11:05</td>\n",
       "      <td>MONTGOMERY</td>\n",
       "      <td>RT202 PKWY &amp; HORSHAM RD</td>\n",
       "      <td>1</td>\n",
       "    </tr>\n",
       "    <tr>\n",
       "      <th>99459</th>\n",
       "      <td>40.233713</td>\n",
       "      <td>-75.463603</td>\n",
       "      <td>HIGHLAND MANOR DR &amp; DEAD END;  PERKIOMEN; Stat...</td>\n",
       "      <td>NaN</td>\n",
       "      <td>EMS: FALL VICTIM</td>\n",
       "      <td>2016-08-24 09:27:01</td>\n",
       "      <td>PERKIOMEN</td>\n",
       "      <td>HIGHLAND MANOR DR &amp; DEAD END</td>\n",
       "      <td>1</td>\n",
       "    </tr>\n",
       "    <tr>\n",
       "      <th>99479</th>\n",
       "      <td>40.221227</td>\n",
       "      <td>-75.288737</td>\n",
       "      <td>SUMNEYTOWN PIKE &amp; RR OVERPASS;  UPPER GWYNEDD;...</td>\n",
       "      <td>NaN</td>\n",
       "      <td>EMS: CARDIAC EMERGENCY</td>\n",
       "      <td>2016-08-24 10:52:01</td>\n",
       "      <td>UPPER GWYNEDD</td>\n",
       "      <td>SUMNEYTOWN PIKE &amp; RR OVERPASS</td>\n",
       "      <td>1</td>\n",
       "    </tr>\n",
       "    <tr>\n",
       "      <th>99480</th>\n",
       "      <td>40.221227</td>\n",
       "      <td>-75.288737</td>\n",
       "      <td>SUMNEYTOWN PIKE &amp; RR OVERPASS;  UPPER GWYNEDD;...</td>\n",
       "      <td>NaN</td>\n",
       "      <td>EMS: DIABETIC EMERGENCY</td>\n",
       "      <td>2016-08-24 10:52:01</td>\n",
       "      <td>UPPER GWYNEDD</td>\n",
       "      <td>SUMNEYTOWN PIKE &amp; RR OVERPASS</td>\n",
       "      <td>1</td>\n",
       "    </tr>\n",
       "    <tr>\n",
       "      <th>99481</th>\n",
       "      <td>40.221227</td>\n",
       "      <td>-75.288737</td>\n",
       "      <td>SUMNEYTOWN PIKE &amp; RR OVERPASS;  UPPER GWYNEDD;...</td>\n",
       "      <td>NaN</td>\n",
       "      <td>EMS: DIZZINESS</td>\n",
       "      <td>2016-08-24 10:52:01</td>\n",
       "      <td>UPPER GWYNEDD</td>\n",
       "      <td>SUMNEYTOWN PIKE &amp; RR OVERPASS</td>\n",
       "      <td>1</td>\n",
       "    </tr>\n",
       "    <tr>\n",
       "      <th>99482</th>\n",
       "      <td>40.340072</td>\n",
       "      <td>-75.591709</td>\n",
       "      <td>RT100 SB &amp; E PHILADELPHIA AVE OVERPASS; DOUGLA...</td>\n",
       "      <td>NaN</td>\n",
       "      <td>Traffic: DISABLED VEHICLE -</td>\n",
       "      <td>2016-08-24 10:52:03</td>\n",
       "      <td>DOUGLASS</td>\n",
       "      <td>RT100 SB &amp; E PHILADELPHIA AVE OVERPASS</td>\n",
       "      <td>1</td>\n",
       "    </tr>\n",
       "  </tbody>\n",
       "</table>\n",
       "<p>12855 rows × 9 columns</p>\n",
       "</div>"
      ],
      "text/plain": [
       "             lat        lng  \\\n",
       "4      40.251492 -75.603350   \n",
       "10     40.231990 -75.251891   \n",
       "14     40.097222 -75.376195   \n",
       "23     40.143326 -75.422819   \n",
       "24     40.153268 -75.189558   \n",
       "28     40.097222 -75.376195   \n",
       "30     40.097222 -75.376195   \n",
       "34     40.081260 -75.137025   \n",
       "36     40.221227 -75.288737   \n",
       "39     40.066718 -75.307176   \n",
       "44     40.024967 -75.282905   \n",
       "50     40.251523 -75.329557   \n",
       "51     40.165393 -75.282905   \n",
       "56     40.156847 -75.101994   \n",
       "72     40.024967 -75.282905   \n",
       "121    40.097222 -75.376195   \n",
       "122    40.150711 -75.055274   \n",
       "143    40.165393 -75.282905   \n",
       "159    40.024967 -75.282905   \n",
       "172    40.241495 -75.283786   \n",
       "177    40.119833 -75.125349   \n",
       "178    40.229008 -75.387853   \n",
       "183    40.221227 -75.288737   \n",
       "184    40.239436 -75.236238   \n",
       "191    40.154553 -75.221565   \n",
       "192    40.179375 -75.236238   \n",
       "193    40.179375 -75.236238   \n",
       "204    40.081260 -75.137025   \n",
       "212    40.138524 -75.503251   \n",
       "214    40.172314 -75.492728   \n",
       "...          ...        ...   \n",
       "99328  40.105108 -75.345184   \n",
       "99352  40.172314 -75.492728   \n",
       "99353  40.172314 -75.492728   \n",
       "99355  40.172314 -75.492728   \n",
       "99377  40.172519 -75.313916   \n",
       "99379  40.172519 -75.313916   \n",
       "99389  40.069832 -75.316295   \n",
       "99398  40.097222 -75.376195   \n",
       "99401  40.172314 -75.492728   \n",
       "99402  40.172314 -75.492728   \n",
       "99403  40.229008 -75.387853   \n",
       "99404  40.172314 -75.492728   \n",
       "99408  40.172314 -75.492728   \n",
       "99409  40.172314 -75.492728   \n",
       "99410  40.148337 -75.097747   \n",
       "99414  40.143326 -75.422819   \n",
       "99418  40.075482 -75.385572   \n",
       "99424  40.222882 -75.398789   \n",
       "99425  40.179375 -75.236238   \n",
       "99431  40.100423 -75.207064   \n",
       "99435  40.174672 -75.124521   \n",
       "99437  40.100423 -75.207064   \n",
       "99439  40.069832 -75.316295   \n",
       "99447  40.121341 -75.133677   \n",
       "99456  40.235613 -75.225128   \n",
       "99459  40.233713 -75.463603   \n",
       "99479  40.221227 -75.288737   \n",
       "99480  40.221227 -75.288737   \n",
       "99481  40.221227 -75.288737   \n",
       "99482  40.340072 -75.591709   \n",
       "\n",
       "                                                    desc  zip  \\\n",
       "4      CHERRYWOOD CT & DEAD END;  LOWER POTTSGROVE; S...  NaN   \n",
       "10     RT202 PKWY & KNAPP RD; MONTGOMERY; 2015-12-10 ...  NaN   \n",
       "14     SCHUYLKILL EXPY & CROTON RD UNDERPASS; UPPER M...  NaN   \n",
       "23     RT422  & PAWLINGS RD OVERPASS; LOWER PROVIDENC...  NaN   \n",
       "24     SUMMIT AVE & RT309 UNDERPASS; UPPER DUBLIN; 20...  NaN   \n",
       "28     SCHUYLKILL EXPY & WEADLEY RD OVERPASS; UPPER M...  NaN   \n",
       "30     SCHUYLKILL EXPY & WEADLEY RD OVERPASS; UPPER M...  NaN   \n",
       "34                  ; CHELTENHAM; 2015-12-10 @ 18:20:28;  NaN   \n",
       "36     MORRIS RD & MUHLENBURG DR; UPPER GWYNEDD; 2015...  NaN   \n",
       "39     CONSHOHOCKEN STATE RD;  WEST CONSHOHOCKEN; Sta...  NaN   \n",
       "44     ROSEMONT AVE & DEAD END;  LOWER MERION; Statio...  NaN   \n",
       "50     DOCK DR & DEAD END;  TOWAMENCIN; Station 345B;...  NaN   \n",
       "51     HARROW LN & DEAD END; WHITPAIN; 2015-12-10 @ 1...  NaN   \n",
       "56     YORK RD & RR CROSSING;  UPPER MORELAND; Statio...  NaN   \n",
       "72     AVIGNON DR & DEAD END; LOWER MERION; 2015-12-1...  NaN   \n",
       "121               ; UPPER MERION; 2015-12-11 @ 01:15:42;  NaN   \n",
       "122    RED LION RD & RR CROSSING; LOWER MORELAND; 201...  NaN   \n",
       "143    NORTHGATE BLVD & QUAKERTOWN RD; WHITPAIN; 2015...  NaN   \n",
       "159    SCHUYLKILL EXPY & MILL CREEK RD UNDERPASS; LOW...  NaN   \n",
       "172    HANCOCK ST & RR CROSSING; LANSDALE; 2015-12-11...  NaN   \n",
       "177    SUSQUEHANNA RD & TYSON AVE OVERPASS; ABINGTON;...  NaN   \n",
       "178    BROAD ST & S WAYNE AVE;  HATFIELD BORO; Statio...  NaN   \n",
       "183    SUMNEYTOWN PIKE & RR OVERPASS;  UPPER GWYNEDD;...  NaN   \n",
       "184    HORSHAM RD & DOYLESTOWN PIKE; MONTGOMERY; 2015...  NaN   \n",
       "191    PARK ON ALLENTOWN  ; AMBLER; 2015-12-11 @ 08:5...  NaN   \n",
       "192    RT309 EXPY & NORRISTOWN RD UNDERPASS; LOWER GW...  NaN   \n",
       "193    RT309 EXPY & NORRISTOWN RD UNDERPASS; LOWER GW...  NaN   \n",
       "204    LIMEKILN PIKE & RT309 EXPY SB;  CHELTENHAM; St...  NaN   \n",
       "212    BRIDGE ST;  UPPER PROVIDENCE; Station 3A85; 20...  NaN   \n",
       "214    BRIDGE ST & RR OVERPASS; UPPER PROVIDENCE; 201...  NaN   \n",
       "...                                                  ...  ...   \n",
       "99328  BORO LINE RD & DEAD END; BRIDGEPORT; 2016-08-2...  NaN   \n",
       "99352  RT422  & TROUTMAN RD UNDERPASS;  UPPER PROVIDE...  NaN   \n",
       "99353  RT422  & TROUTMAN RD UNDERPASS; UPPER PROVIDEN...  NaN   \n",
       "99355  RT422  & TROUTMAN RD UNDERPASS; UPPER PROVIDEN...  NaN   \n",
       "99377  NORTH WALES RD; WHITPAIN; 2016-08-24 @ 01:51:1...  NaN   \n",
       "99379  NORTH WALES RD;  WHITPAIN; Station 385; 2016-0...  NaN   \n",
       "99389  BLUEROUTE  & FRONT ST UNDERPASS; WEST CONSHOHO...  NaN   \n",
       "99398  SCHUYLKILL EXPY & WEADLEY RD OVERPASS; UPPER M...  NaN   \n",
       "99401  RT422  & RAMP RT422 EB TO RT29; UPPER PROVIDEN...  NaN   \n",
       "99402  RT422  & RAMP RT422 EB TO RT29; UPPER PROVIDEN...  NaN   \n",
       "99403  SCHUYLKILL RD & RAMP RT724 TO RT100 SB;  CHEST...  NaN   \n",
       "99404  RT422  & RAMP RT422 EB TO RT29;  UPPER PROVIDE...  NaN   \n",
       "99408  RT422  & RAMP RT422 EB TO RT29; UPPER PROVIDEN...  NaN   \n",
       "99409  RT422  & RAMP RT422 EB TO RT29; UPPER PROVIDEN...  NaN   \n",
       "99410  TERWOOD RD;  UPPER MORELAND; Station 381; 2016...  NaN   \n",
       "99414  NANCY DR & DEAD END;  LOWER PROVIDENCE; Statio...  NaN   \n",
       "99418  BROOKS RD & CROTON RD; UPPER MERION; 2016-08-2...  NaN   \n",
       "99424  PENN DR & DEAD END;  SKIPPACK; Station 336; 20...  NaN   \n",
       "99425  NORRISTOWN RD & RT309 OVERPASS; LOWER GWYNEDD;...  NaN   \n",
       "99431  RT309 EXPY & HAWS LN UNDERPASS; SPRINGFIELD; 2...  NaN   \n",
       "99435  BLAIR MILL RD;  UPPER MORELAND; Station 384; 2...  NaN   \n",
       "99437  RT309 EXPY & HAWS LN UNDERPASS; SPRINGFIELD; 2...  NaN   \n",
       "99439  BLUEROUTE  & RAMP I476 NB TO I76 EB; WEST CONS...  NaN   \n",
       "99447  SUSQUEHANNA RD;  ABINGTON; Station 382; 2016-0...  NaN   \n",
       "99456  RT202 PKWY & HORSHAM RD; MONTGOMERY; 2016-08-2...  NaN   \n",
       "99459  HIGHLAND MANOR DR & DEAD END;  PERKIOMEN; Stat...  NaN   \n",
       "99479  SUMNEYTOWN PIKE & RR OVERPASS;  UPPER GWYNEDD;...  NaN   \n",
       "99480  SUMNEYTOWN PIKE & RR OVERPASS;  UPPER GWYNEDD;...  NaN   \n",
       "99481  SUMNEYTOWN PIKE & RR OVERPASS;  UPPER GWYNEDD;...  NaN   \n",
       "99482  RT100 SB & E PHILADELPHIA AVE OVERPASS; DOUGLA...  NaN   \n",
       "\n",
       "                                title            timeStamp                twp  \\\n",
       "4                      EMS: DIZZINESS  2015-12-10 17:40:01   LOWER POTTSGROVE   \n",
       "10        Traffic: VEHICLE ACCIDENT -  2015-12-10 17:40:01         MONTGOMERY   \n",
       "14        Traffic: VEHICLE ACCIDENT -  2015-12-10 17:40:02       UPPER MERION   \n",
       "23        Traffic: DISABLED VEHICLE -  2015-12-10 18:02:02   LOWER PROVIDENCE   \n",
       "24        Traffic: VEHICLE ACCIDENT -  2015-12-10 18:02:02       UPPER DUBLIN   \n",
       "28        Traffic: VEHICLE ACCIDENT -  2015-12-10 18:06:26       UPPER MERION   \n",
       "30        Traffic: VEHICLE ACCIDENT -  2015-12-10 18:11:01       UPPER MERION   \n",
       "34        Traffic: DISABLED VEHICLE -  2015-12-10 18:26:02         CHELTENHAM   \n",
       "36        Traffic: DISABLED VEHICLE -  2015-12-10 18:27:01      UPPER GWYNEDD   \n",
       "39              EMS: VEHICLE ACCIDENT  2015-12-10 18:32:02  WEST CONSHOHOCKEN   \n",
       "44             EMS: CARDIAC EMERGENCY  2015-12-10 18:47:01       LOWER MERION   \n",
       "50         EMS: ALTERED MENTAL STATUS  2015-12-10 19:01:02         TOWAMENCIN   \n",
       "51                   Fire: FIRE ALARM  2015-12-10 19:02:01           WHITPAIN   \n",
       "56     EMS: UNKNOWN MEDICAL EMERGENCY  2015-12-10 19:26:02     UPPER MORELAND   \n",
       "72                Fire: GAS-ODOR/LEAK  2015-12-10 20:06:01       LOWER MERION   \n",
       "121       Traffic: DISABLED VEHICLE -  2015-12-11 01:17:02       UPPER MERION   \n",
       "122       Traffic: DISABLED VEHICLE -  2015-12-11 01:24:01     LOWER MORELAND   \n",
       "143       Traffic: VEHICLE ACCIDENT -  2015-12-11 05:22:00           WHITPAIN   \n",
       "159       Traffic: DISABLED VEHICLE -  2015-12-11 07:11:02       LOWER MERION   \n",
       "172       Traffic: VEHICLE ACCIDENT -  2015-12-11 08:12:01           LANSDALE   \n",
       "177       Traffic: VEHICLE ACCIDENT -  2015-12-11 08:17:01           ABINGTON   \n",
       "178             EMS: GENERAL WEAKNESS  2015-12-11 08:22:00      HATFIELD BORO   \n",
       "183              EMS: SUBJECT IN PAIN  2015-12-11 08:37:01      UPPER GWYNEDD   \n",
       "184       Traffic: VEHICLE ACCIDENT -  2015-12-11 08:37:01         MONTGOMERY   \n",
       "191       Traffic: DISABLED VEHICLE -  2015-12-11 08:52:02             AMBLER   \n",
       "192       Traffic: DISABLED VEHICLE -  2015-12-11 08:52:02      LOWER GWYNEDD   \n",
       "193       Traffic: DISABLED VEHICLE -  2015-12-11 08:52:02      LOWER GWYNEDD   \n",
       "204    EMS: UNKNOWN MEDICAL EMERGENCY  2015-12-11 09:42:01         CHELTENHAM   \n",
       "212             EMS: VEHICLE ACCIDENT  2015-12-11 10:32:01   UPPER PROVIDENCE   \n",
       "214       Traffic: VEHICLE ACCIDENT -  2015-12-11 10:36:02   UPPER PROVIDENCE   \n",
       "...                               ...                  ...                ...   \n",
       "99328     Traffic: VEHICLE ACCIDENT -  2016-08-23 21:42:05         BRIDGEPORT   \n",
       "99352           EMS: VEHICLE ACCIDENT  2016-08-23 23:46:01   UPPER PROVIDENCE   \n",
       "99353          Fire: VEHICLE ACCIDENT  2016-08-23 23:46:01   UPPER PROVIDENCE   \n",
       "99355     Traffic: VEHICLE ACCIDENT -  2016-08-23 23:51:00   UPPER PROVIDENCE   \n",
       "99377          Fire: VEHICLE ACCIDENT  2016-08-24 01:56:00           WHITPAIN   \n",
       "99379           EMS: VEHICLE ACCIDENT  2016-08-24 01:56:01           WHITPAIN   \n",
       "99389     Traffic: DISABLED VEHICLE -  2016-08-24 03:41:03  WEST CONSHOHOCKEN   \n",
       "99398     Traffic: VEHICLE ACCIDENT -  2016-08-24 04:47:00       UPPER MERION   \n",
       "99401     Traffic: VEHICLE ACCIDENT -  2016-08-24 05:16:01   UPPER PROVIDENCE   \n",
       "99402          Fire: VEHICLE ACCIDENT  2016-08-24 05:17:00   UPPER PROVIDENCE   \n",
       "99403       EMS: UNRESPONSIVE SUBJECT  2016-08-24 05:17:01     CHESTER COUNTY   \n",
       "99404           EMS: VEHICLE ACCIDENT  2016-08-24 05:17:01   UPPER PROVIDENCE   \n",
       "99408     Traffic: VEHICLE ACCIDENT -  2016-08-24 05:36:02   UPPER PROVIDENCE   \n",
       "99409     Traffic: VEHICLE ACCIDENT -  2016-08-24 06:11:01   UPPER PROVIDENCE   \n",
       "99410           EMS: VEHICLE ACCIDENT  2016-08-24 06:22:01     UPPER MORELAND   \n",
       "99414            EMS: ABDOMINAL PAINS  2016-08-24 06:36:08   LOWER PROVIDENCE   \n",
       "99418     Traffic: VEHICLE ACCIDENT -  2016-08-24 07:17:02       UPPER MERION   \n",
       "99424               EMS: HEMORRHAGING  2016-08-24 07:47:01           SKIPPACK   \n",
       "99425     Traffic: ROAD OBSTRUCTION -  2016-08-24 07:56:03      LOWER GWYNEDD   \n",
       "99431     Traffic: ROAD OBSTRUCTION -  2016-08-24 08:12:01        SPRINGFIELD   \n",
       "99435           EMS: VEHICLE ACCIDENT  2016-08-24 08:22:00     UPPER MORELAND   \n",
       "99437     Traffic: ROAD OBSTRUCTION -  2016-08-24 08:31:01        SPRINGFIELD   \n",
       "99439     Traffic: VEHICLE ACCIDENT -  2016-08-24 08:37:01  WEST CONSHOHOCKEN   \n",
       "99447           EMS: VEHICLE ACCIDENT  2016-08-24 09:01:03           ABINGTON   \n",
       "99456     Traffic: VEHICLE ACCIDENT -  2016-08-24 09:11:05         MONTGOMERY   \n",
       "99459                EMS: FALL VICTIM  2016-08-24 09:27:01          PERKIOMEN   \n",
       "99479          EMS: CARDIAC EMERGENCY  2016-08-24 10:52:01      UPPER GWYNEDD   \n",
       "99480         EMS: DIABETIC EMERGENCY  2016-08-24 10:52:01      UPPER GWYNEDD   \n",
       "99481                  EMS: DIZZINESS  2016-08-24 10:52:01      UPPER GWYNEDD   \n",
       "99482     Traffic: DISABLED VEHICLE -  2016-08-24 10:52:03           DOUGLASS   \n",
       "\n",
       "                                            addr  e  \n",
       "4                       CHERRYWOOD CT & DEAD END  1  \n",
       "10                         RT202 PKWY & KNAPP RD  1  \n",
       "14         SCHUYLKILL EXPY & CROTON RD UNDERPASS  1  \n",
       "23                 RT422  & PAWLINGS RD OVERPASS  1  \n",
       "24                  SUMMIT AVE & RT309 UNDERPASS  1  \n",
       "28         SCHUYLKILL EXPY & WEADLEY RD OVERPASS  1  \n",
       "30         SCHUYLKILL EXPY & WEADLEY RD OVERPASS  1  \n",
       "34                                           NaN  1  \n",
       "36                     MORRIS RD & MUHLENBURG DR  1  \n",
       "39                         CONSHOHOCKEN STATE RD  1  \n",
       "44                       ROSEMONT AVE & DEAD END  1  \n",
       "50                            DOCK DR & DEAD END  1  \n",
       "51                          HARROW LN & DEAD END  1  \n",
       "56                         YORK RD & RR CROSSING  1  \n",
       "72                         AVIGNON DR & DEAD END  1  \n",
       "121                                          NaN  1  \n",
       "122                    RED LION RD & RR CROSSING  1  \n",
       "143               NORTHGATE BLVD & QUAKERTOWN RD  1  \n",
       "159    SCHUYLKILL EXPY & MILL CREEK RD UNDERPASS  1  \n",
       "172                     HANCOCK ST & RR CROSSING  1  \n",
       "177          SUSQUEHANNA RD & TYSON AVE OVERPASS  1  \n",
       "178                       BROAD ST & S WAYNE AVE  1  \n",
       "183                SUMNEYTOWN PIKE & RR OVERPASS  1  \n",
       "184                 HORSHAM RD & DOYLESTOWN PIKE  1  \n",
       "191                            PARK ON ALLENTOWN  1  \n",
       "192         RT309 EXPY & NORRISTOWN RD UNDERPASS  1  \n",
       "193         RT309 EXPY & NORRISTOWN RD UNDERPASS  1  \n",
       "204                LIMEKILN PIKE & RT309 EXPY SB  1  \n",
       "212                                    BRIDGE ST  1  \n",
       "214                      BRIDGE ST & RR OVERPASS  1  \n",
       "...                                          ... ..  \n",
       "99328                    BORO LINE RD & DEAD END  1  \n",
       "99352             RT422  & TROUTMAN RD UNDERPASS  1  \n",
       "99353             RT422  & TROUTMAN RD UNDERPASS  1  \n",
       "99355             RT422  & TROUTMAN RD UNDERPASS  1  \n",
       "99377                             NORTH WALES RD  1  \n",
       "99379                             NORTH WALES RD  1  \n",
       "99389            BLUEROUTE  & FRONT ST UNDERPASS  1  \n",
       "99398      SCHUYLKILL EXPY & WEADLEY RD OVERPASS  1  \n",
       "99401             RT422  & RAMP RT422 EB TO RT29  1  \n",
       "99402             RT422  & RAMP RT422 EB TO RT29  1  \n",
       "99403     SCHUYLKILL RD & RAMP RT724 TO RT100 SB  1  \n",
       "99404             RT422  & RAMP RT422 EB TO RT29  1  \n",
       "99408             RT422  & RAMP RT422 EB TO RT29  1  \n",
       "99409             RT422  & RAMP RT422 EB TO RT29  1  \n",
       "99410                                 TERWOOD RD  1  \n",
       "99414                        NANCY DR & DEAD END  1  \n",
       "99418                      BROOKS RD & CROTON RD  1  \n",
       "99424                         PENN DR & DEAD END  1  \n",
       "99425             NORRISTOWN RD & RT309 OVERPASS  1  \n",
       "99431             RT309 EXPY & HAWS LN UNDERPASS  1  \n",
       "99435                              BLAIR MILL RD  1  \n",
       "99437             RT309 EXPY & HAWS LN UNDERPASS  1  \n",
       "99439        BLUEROUTE  & RAMP I476 NB TO I76 EB  1  \n",
       "99447                             SUSQUEHANNA RD  1  \n",
       "99456                    RT202 PKWY & HORSHAM RD  1  \n",
       "99459               HIGHLAND MANOR DR & DEAD END  1  \n",
       "99479              SUMNEYTOWN PIKE & RR OVERPASS  1  \n",
       "99480              SUMNEYTOWN PIKE & RR OVERPASS  1  \n",
       "99481              SUMNEYTOWN PIKE & RR OVERPASS  1  \n",
       "99482     RT100 SB & E PHILADELPHIA AVE OVERPASS  1  \n",
       "\n",
       "[12855 rows x 9 columns]"
      ]
     },
     "execution_count": 342,
     "metadata": {},
     "output_type": "execute_result"
    }
   ],
   "source": [
    "df[df['zip'].isnull()] # reports back null DataFrame for null values of col 'zip'"
   ]
  },
  {
   "cell_type": "code",
   "execution_count": 343,
   "metadata": {},
   "outputs": [],
   "source": [
    "df.fillna(value = 'filled value', inplace = True)"
   ]
  },
  {
   "cell_type": "code",
   "execution_count": 344,
   "metadata": {},
   "outputs": [
    {
     "data": {
      "text/plain": [
       "(99492,)"
      ]
     },
     "execution_count": 344,
     "metadata": {},
     "output_type": "execute_result"
    }
   ],
   "source": [
    "shape = df['zip']\n",
    "shape.shape # shape method applies on Pandas Series as well rather then just on Numpy array"
   ]
  },
  {
   "cell_type": "code",
   "execution_count": 345,
   "metadata": {},
   "outputs": [
    {
     "data": {
      "text/html": [
       "<div>\n",
       "<style scoped>\n",
       "    .dataframe tbody tr th:only-of-type {\n",
       "        vertical-align: middle;\n",
       "    }\n",
       "\n",
       "    .dataframe tbody tr th {\n",
       "        vertical-align: top;\n",
       "    }\n",
       "\n",
       "    .dataframe thead th {\n",
       "        text-align: right;\n",
       "    }\n",
       "</style>\n",
       "<table border=\"1\" class=\"dataframe\">\n",
       "  <thead>\n",
       "    <tr style=\"text-align: right;\">\n",
       "      <th></th>\n",
       "      <th>lat</th>\n",
       "      <th>lng</th>\n",
       "      <th>desc</th>\n",
       "      <th>zip</th>\n",
       "      <th>title</th>\n",
       "      <th>timeStamp</th>\n",
       "      <th>twp</th>\n",
       "      <th>addr</th>\n",
       "      <th>e</th>\n",
       "    </tr>\n",
       "  </thead>\n",
       "  <tbody>\n",
       "    <tr>\n",
       "      <th>0</th>\n",
       "      <td>40.297876</td>\n",
       "      <td>-75.581294</td>\n",
       "      <td>REINDEER CT &amp; DEAD END;  NEW HANOVER; Station ...</td>\n",
       "      <td>19525</td>\n",
       "      <td>EMS: BACK PAINS/INJURY</td>\n",
       "      <td>2015-12-10 17:40:00</td>\n",
       "      <td>NEW HANOVER</td>\n",
       "      <td>REINDEER CT &amp; DEAD END</td>\n",
       "      <td>1</td>\n",
       "    </tr>\n",
       "    <tr>\n",
       "      <th>1</th>\n",
       "      <td>40.258061</td>\n",
       "      <td>-75.264680</td>\n",
       "      <td>BRIAR PATH &amp; WHITEMARSH LN;  HATFIELD TOWNSHIP...</td>\n",
       "      <td>19446</td>\n",
       "      <td>EMS: DIABETIC EMERGENCY</td>\n",
       "      <td>2015-12-10 17:40:00</td>\n",
       "      <td>HATFIELD TOWNSHIP</td>\n",
       "      <td>BRIAR PATH &amp; WHITEMARSH LN</td>\n",
       "      <td>1</td>\n",
       "    </tr>\n",
       "    <tr>\n",
       "      <th>2</th>\n",
       "      <td>40.121182</td>\n",
       "      <td>-75.351975</td>\n",
       "      <td>HAWS AVE; NORRISTOWN; 2015-12-10 @ 14:39:21-St...</td>\n",
       "      <td>19401</td>\n",
       "      <td>Fire: GAS-ODOR/LEAK</td>\n",
       "      <td>2015-12-10 17:40:00</td>\n",
       "      <td>NORRISTOWN</td>\n",
       "      <td>HAWS AVE</td>\n",
       "      <td>1</td>\n",
       "    </tr>\n",
       "    <tr>\n",
       "      <th>3</th>\n",
       "      <td>40.116153</td>\n",
       "      <td>-75.343513</td>\n",
       "      <td>AIRY ST &amp; SWEDE ST;  NORRISTOWN; Station 308A;...</td>\n",
       "      <td>19401</td>\n",
       "      <td>EMS: CARDIAC EMERGENCY</td>\n",
       "      <td>2015-12-10 17:40:01</td>\n",
       "      <td>NORRISTOWN</td>\n",
       "      <td>AIRY ST &amp; SWEDE ST</td>\n",
       "      <td>1</td>\n",
       "    </tr>\n",
       "    <tr>\n",
       "      <th>4</th>\n",
       "      <td>40.251492</td>\n",
       "      <td>-75.603350</td>\n",
       "      <td>CHERRYWOOD CT &amp; DEAD END;  LOWER POTTSGROVE; S...</td>\n",
       "      <td>filled value</td>\n",
       "      <td>EMS: DIZZINESS</td>\n",
       "      <td>2015-12-10 17:40:01</td>\n",
       "      <td>LOWER POTTSGROVE</td>\n",
       "      <td>CHERRYWOOD CT &amp; DEAD END</td>\n",
       "      <td>1</td>\n",
       "    </tr>\n",
       "  </tbody>\n",
       "</table>\n",
       "</div>"
      ],
      "text/plain": [
       "         lat        lng                                               desc  \\\n",
       "0  40.297876 -75.581294  REINDEER CT & DEAD END;  NEW HANOVER; Station ...   \n",
       "1  40.258061 -75.264680  BRIAR PATH & WHITEMARSH LN;  HATFIELD TOWNSHIP...   \n",
       "2  40.121182 -75.351975  HAWS AVE; NORRISTOWN; 2015-12-10 @ 14:39:21-St...   \n",
       "3  40.116153 -75.343513  AIRY ST & SWEDE ST;  NORRISTOWN; Station 308A;...   \n",
       "4  40.251492 -75.603350  CHERRYWOOD CT & DEAD END;  LOWER POTTSGROVE; S...   \n",
       "\n",
       "            zip                    title            timeStamp  \\\n",
       "0         19525   EMS: BACK PAINS/INJURY  2015-12-10 17:40:00   \n",
       "1         19446  EMS: DIABETIC EMERGENCY  2015-12-10 17:40:00   \n",
       "2         19401      Fire: GAS-ODOR/LEAK  2015-12-10 17:40:00   \n",
       "3         19401   EMS: CARDIAC EMERGENCY  2015-12-10 17:40:01   \n",
       "4  filled value           EMS: DIZZINESS  2015-12-10 17:40:01   \n",
       "\n",
       "                 twp                        addr  e  \n",
       "0        NEW HANOVER      REINDEER CT & DEAD END  1  \n",
       "1  HATFIELD TOWNSHIP  BRIAR PATH & WHITEMARSH LN  1  \n",
       "2         NORRISTOWN                    HAWS AVE  1  \n",
       "3         NORRISTOWN          AIRY ST & SWEDE ST  1  \n",
       "4   LOWER POTTSGROVE    CHERRYWOOD CT & DEAD END  1  "
      ]
     },
     "execution_count": 345,
     "metadata": {},
     "output_type": "execute_result"
    }
   ],
   "source": [
    "df.head()"
   ]
  },
  {
   "cell_type": "code",
   "execution_count": 346,
   "metadata": {},
   "outputs": [
    {
     "data": {
      "text/html": [
       "<div>\n",
       "<style scoped>\n",
       "    .dataframe tbody tr th:only-of-type {\n",
       "        vertical-align: middle;\n",
       "    }\n",
       "\n",
       "    .dataframe tbody tr th {\n",
       "        vertical-align: top;\n",
       "    }\n",
       "\n",
       "    .dataframe thead th {\n",
       "        text-align: right;\n",
       "    }\n",
       "</style>\n",
       "<table border=\"1\" class=\"dataframe\">\n",
       "  <thead>\n",
       "    <tr style=\"text-align: right;\">\n",
       "      <th></th>\n",
       "      <th>lat</th>\n",
       "      <th>lng</th>\n",
       "      <th>e</th>\n",
       "    </tr>\n",
       "  </thead>\n",
       "  <tbody>\n",
       "    <tr>\n",
       "      <th>count</th>\n",
       "      <td>99492.000000</td>\n",
       "      <td>99492.000000</td>\n",
       "      <td>99492.0</td>\n",
       "    </tr>\n",
       "    <tr>\n",
       "      <th>mean</th>\n",
       "      <td>40.159526</td>\n",
       "      <td>-75.317464</td>\n",
       "      <td>1.0</td>\n",
       "    </tr>\n",
       "    <tr>\n",
       "      <th>std</th>\n",
       "      <td>0.094446</td>\n",
       "      <td>0.174826</td>\n",
       "      <td>0.0</td>\n",
       "    </tr>\n",
       "    <tr>\n",
       "      <th>min</th>\n",
       "      <td>30.333596</td>\n",
       "      <td>-95.595595</td>\n",
       "      <td>1.0</td>\n",
       "    </tr>\n",
       "    <tr>\n",
       "      <th>25%</th>\n",
       "      <td>40.100423</td>\n",
       "      <td>-75.392104</td>\n",
       "      <td>1.0</td>\n",
       "    </tr>\n",
       "    <tr>\n",
       "      <th>50%</th>\n",
       "      <td>40.145223</td>\n",
       "      <td>-75.304667</td>\n",
       "      <td>1.0</td>\n",
       "    </tr>\n",
       "    <tr>\n",
       "      <th>75%</th>\n",
       "      <td>40.229008</td>\n",
       "      <td>-75.212513</td>\n",
       "      <td>1.0</td>\n",
       "    </tr>\n",
       "    <tr>\n",
       "      <th>max</th>\n",
       "      <td>41.167156</td>\n",
       "      <td>-74.995041</td>\n",
       "      <td>1.0</td>\n",
       "    </tr>\n",
       "  </tbody>\n",
       "</table>\n",
       "</div>"
      ],
      "text/plain": [
       "                lat           lng        e\n",
       "count  99492.000000  99492.000000  99492.0\n",
       "mean      40.159526    -75.317464      1.0\n",
       "std        0.094446      0.174826      0.0\n",
       "min       30.333596    -95.595595      1.0\n",
       "25%       40.100423    -75.392104      1.0\n",
       "50%       40.145223    -75.304667      1.0\n",
       "75%       40.229008    -75.212513      1.0\n",
       "max       41.167156    -74.995041      1.0"
      ]
     },
     "execution_count": 346,
     "metadata": {},
     "output_type": "execute_result"
    }
   ],
   "source": [
    "df.describe() # reports back parameters of only numerica values"
   ]
  },
  {
   "cell_type": "code",
   "execution_count": 347,
   "metadata": {},
   "outputs": [
    {
     "data": {
      "text/plain": [
       "pandas.core.series.Series"
      ]
     },
     "execution_count": 347,
     "metadata": {},
     "output_type": "execute_result"
    }
   ],
   "source": [
    "type(df['zip'])"
   ]
  },
  {
   "cell_type": "code",
   "execution_count": 348,
   "metadata": {},
   "outputs": [],
   "source": [
    "# df['zip'].value_counts()\n",
    "value_count = {}\n",
    "\n",
    "for value in df['zip']:\n",
    "    if value in value_count:\n",
    "        value_count[value] += 1\n",
    "    else:\n",
    "        value_count[value] = 1"
   ]
  },
  {
   "cell_type": "code",
   "execution_count": 349,
   "metadata": {},
   "outputs": [
    {
     "data": {
      "text/plain": [
       "filled value    12855\n",
       "19401.0          6979\n",
       "19464.0          6643\n",
       "19403.0          4854\n",
       "19446.0          4748\n",
       "Name: zip, dtype: int64"
      ]
     },
     "execution_count": 349,
     "metadata": {},
     "output_type": "execute_result"
    }
   ],
   "source": [
    "df['zip'].value_counts().head()"
   ]
  },
  {
   "cell_type": "code",
   "execution_count": 350,
   "metadata": {},
   "outputs": [
    {
     "data": {
      "text/plain": [
       "Index(['lat', 'lng', 'desc', 'zip', 'title', 'timeStamp', 'twp', 'addr', 'e'], dtype='object')"
      ]
     },
     "execution_count": 350,
     "metadata": {},
     "output_type": "execute_result"
    }
   ],
   "source": [
    "df.columns"
   ]
  },
  {
   "cell_type": "code",
   "execution_count": 351,
   "metadata": {},
   "outputs": [
    {
     "data": {
      "text/plain": [
       "RangeIndex(start=0, stop=99492, step=1)"
      ]
     },
     "execution_count": 351,
     "metadata": {},
     "output_type": "execute_result"
    }
   ],
   "source": [
    "df.index"
   ]
  },
  {
   "cell_type": "code",
   "execution_count": 352,
   "metadata": {},
   "outputs": [
    {
     "data": {
      "text/html": [
       "<div>\n",
       "<style scoped>\n",
       "    .dataframe tbody tr th:only-of-type {\n",
       "        vertical-align: middle;\n",
       "    }\n",
       "\n",
       "    .dataframe tbody tr th {\n",
       "        vertical-align: top;\n",
       "    }\n",
       "\n",
       "    .dataframe thead th {\n",
       "        text-align: right;\n",
       "    }\n",
       "</style>\n",
       "<table border=\"1\" class=\"dataframe\">\n",
       "  <thead>\n",
       "    <tr style=\"text-align: right;\">\n",
       "      <th></th>\n",
       "      <th>lat</th>\n",
       "      <th>lng</th>\n",
       "      <th>desc</th>\n",
       "      <th>zip</th>\n",
       "      <th>title</th>\n",
       "      <th>timeStamp</th>\n",
       "      <th>twp</th>\n",
       "      <th>addr</th>\n",
       "      <th>e</th>\n",
       "    </tr>\n",
       "  </thead>\n",
       "  <tbody>\n",
       "    <tr>\n",
       "      <th>0</th>\n",
       "      <td>40.297876</td>\n",
       "      <td>-75.581294</td>\n",
       "      <td>REINDEER CT &amp; DEAD END;  NEW HANOVER; Station ...</td>\n",
       "      <td>19525</td>\n",
       "      <td>EMS: BACK PAINS/INJURY</td>\n",
       "      <td>2015-12-10 17:40:00</td>\n",
       "      <td>NEW HANOVER</td>\n",
       "      <td>REINDEER CT &amp; DEAD END</td>\n",
       "      <td>1</td>\n",
       "    </tr>\n",
       "    <tr>\n",
       "      <th>1</th>\n",
       "      <td>40.258061</td>\n",
       "      <td>-75.264680</td>\n",
       "      <td>BRIAR PATH &amp; WHITEMARSH LN;  HATFIELD TOWNSHIP...</td>\n",
       "      <td>19446</td>\n",
       "      <td>EMS: DIABETIC EMERGENCY</td>\n",
       "      <td>2015-12-10 17:40:00</td>\n",
       "      <td>HATFIELD TOWNSHIP</td>\n",
       "      <td>BRIAR PATH &amp; WHITEMARSH LN</td>\n",
       "      <td>1</td>\n",
       "    </tr>\n",
       "    <tr>\n",
       "      <th>2</th>\n",
       "      <td>40.121182</td>\n",
       "      <td>-75.351975</td>\n",
       "      <td>HAWS AVE; NORRISTOWN; 2015-12-10 @ 14:39:21-St...</td>\n",
       "      <td>19401</td>\n",
       "      <td>Fire: GAS-ODOR/LEAK</td>\n",
       "      <td>2015-12-10 17:40:00</td>\n",
       "      <td>NORRISTOWN</td>\n",
       "      <td>HAWS AVE</td>\n",
       "      <td>1</td>\n",
       "    </tr>\n",
       "    <tr>\n",
       "      <th>3</th>\n",
       "      <td>40.116153</td>\n",
       "      <td>-75.343513</td>\n",
       "      <td>AIRY ST &amp; SWEDE ST;  NORRISTOWN; Station 308A;...</td>\n",
       "      <td>19401</td>\n",
       "      <td>EMS: CARDIAC EMERGENCY</td>\n",
       "      <td>2015-12-10 17:40:01</td>\n",
       "      <td>NORRISTOWN</td>\n",
       "      <td>AIRY ST &amp; SWEDE ST</td>\n",
       "      <td>1</td>\n",
       "    </tr>\n",
       "    <tr>\n",
       "      <th>4</th>\n",
       "      <td>40.251492</td>\n",
       "      <td>-75.603350</td>\n",
       "      <td>CHERRYWOOD CT &amp; DEAD END;  LOWER POTTSGROVE; S...</td>\n",
       "      <td>filled value</td>\n",
       "      <td>EMS: DIZZINESS</td>\n",
       "      <td>2015-12-10 17:40:01</td>\n",
       "      <td>LOWER POTTSGROVE</td>\n",
       "      <td>CHERRYWOOD CT &amp; DEAD END</td>\n",
       "      <td>1</td>\n",
       "    </tr>\n",
       "  </tbody>\n",
       "</table>\n",
       "</div>"
      ],
      "text/plain": [
       "         lat        lng                                               desc  \\\n",
       "0  40.297876 -75.581294  REINDEER CT & DEAD END;  NEW HANOVER; Station ...   \n",
       "1  40.258061 -75.264680  BRIAR PATH & WHITEMARSH LN;  HATFIELD TOWNSHIP...   \n",
       "2  40.121182 -75.351975  HAWS AVE; NORRISTOWN; 2015-12-10 @ 14:39:21-St...   \n",
       "3  40.116153 -75.343513  AIRY ST & SWEDE ST;  NORRISTOWN; Station 308A;...   \n",
       "4  40.251492 -75.603350  CHERRYWOOD CT & DEAD END;  LOWER POTTSGROVE; S...   \n",
       "\n",
       "            zip                    title            timeStamp  \\\n",
       "0         19525   EMS: BACK PAINS/INJURY  2015-12-10 17:40:00   \n",
       "1         19446  EMS: DIABETIC EMERGENCY  2015-12-10 17:40:00   \n",
       "2         19401      Fire: GAS-ODOR/LEAK  2015-12-10 17:40:00   \n",
       "3         19401   EMS: CARDIAC EMERGENCY  2015-12-10 17:40:01   \n",
       "4  filled value           EMS: DIZZINESS  2015-12-10 17:40:01   \n",
       "\n",
       "                 twp                        addr  e  \n",
       "0        NEW HANOVER      REINDEER CT & DEAD END  1  \n",
       "1  HATFIELD TOWNSHIP  BRIAR PATH & WHITEMARSH LN  1  \n",
       "2         NORRISTOWN                    HAWS AVE  1  \n",
       "3         NORRISTOWN          AIRY ST & SWEDE ST  1  \n",
       "4   LOWER POTTSGROVE    CHERRYWOOD CT & DEAD END  1  "
      ]
     },
     "execution_count": 352,
     "metadata": {},
     "output_type": "execute_result"
    }
   ],
   "source": [
    "df.head()"
   ]
  },
  {
   "cell_type": "code",
   "execution_count": 353,
   "metadata": {},
   "outputs": [
    {
     "data": {
      "text/plain": [
       "str"
      ]
     },
     "execution_count": 353,
     "metadata": {},
     "output_type": "execute_result"
    }
   ],
   "source": [
    "# df['title']\n",
    "\n",
    "# report back the department for each complain\n",
    "\n",
    "type(df['title'][0])"
   ]
  },
  {
   "cell_type": "code",
   "execution_count": 354,
   "metadata": {},
   "outputs": [],
   "source": [
    "df['Reason'] = df['title'].apply(lambda entry: entry.split(':')[0])"
   ]
  },
  {
   "cell_type": "code",
   "execution_count": 355,
   "metadata": {},
   "outputs": [
    {
     "data": {
      "text/plain": [
       "0     EMS\n",
       "1     EMS\n",
       "2    Fire\n",
       "3     EMS\n",
       "4     EMS\n",
       "Name: Reason, dtype: object"
      ]
     },
     "execution_count": 355,
     "metadata": {},
     "output_type": "execute_result"
    }
   ],
   "source": [
    "df['Reason'].head()"
   ]
  },
  {
   "cell_type": "code",
   "execution_count": 356,
   "metadata": {},
   "outputs": [],
   "source": [
    "# that's how we can calculate the value_counts using for loops and dictionaries\n",
    "\n",
    "Reasons_valuecounts = {}\n",
    "\n",
    "for value in df['Reason']:\n",
    "    if value in Reasons_valuecounts:\n",
    "        Reasons_valuecounts[value] += 1\n",
    "    else:\n",
    "        Reasons_valuecounts[value] = 1"
   ]
  },
  {
   "cell_type": "code",
   "execution_count": 357,
   "metadata": {},
   "outputs": [
    {
     "data": {
      "text/plain": [
       "{'EMS': 48877, 'Fire': 14920, 'Traffic': 35695}"
      ]
     },
     "execution_count": 357,
     "metadata": {},
     "output_type": "execute_result"
    }
   ],
   "source": [
    "Reasons_valuecounts"
   ]
  },
  {
   "cell_type": "code",
   "execution_count": 358,
   "metadata": {},
   "outputs": [
    {
     "data": {
      "text/plain": [
       "('Traffic', 35695)"
      ]
     },
     "execution_count": 358,
     "metadata": {},
     "output_type": "execute_result"
    }
   ],
   "source": [
    "Reasons_valuecounts.popitem()"
   ]
  },
  {
   "cell_type": "code",
   "execution_count": 359,
   "metadata": {},
   "outputs": [
    {
     "data": {
      "text/plain": [
       "<matplotlib.axes._subplots.AxesSubplot at 0x17e5f4367b8>"
      ]
     },
     "execution_count": 359,
     "metadata": {},
     "output_type": "execute_result"
    },
    {
     "data": {
      "image/png": "[encoded data removed]",
      "text/plain": [
       "<Figure size 432x288 with 1 Axes>"
      ]
     },
     "metadata": {
      "needs_background": "light"
     },
     "output_type": "display_data"
    }
   ],
   "source": [
    "# countplot\n",
    "\n",
    "sns.countplot(df['Reason'])"
   ]
  },
  {
   "cell_type": "code",
   "execution_count": 360,
   "metadata": {},
   "outputs": [
    {
     "data": {
      "text/plain": [
       "EMS        48877\n",
       "Traffic    35695\n",
       "Fire       14920\n",
       "Name: Reason, dtype: int64"
      ]
     },
     "execution_count": 360,
     "metadata": {},
     "output_type": "execute_result"
    }
   ],
   "source": [
    "df['Reason'].value_counts()"
   ]
  },
  {
   "cell_type": "code",
   "execution_count": 361,
   "metadata": {},
   "outputs": [
    {
     "data": {
      "text/plain": [
       "pandas.core.series.Series"
      ]
     },
     "execution_count": 361,
     "metadata": {},
     "output_type": "execute_result"
    }
   ],
   "source": [
    "# Checking datatype for specific column\n",
    "\n",
    "type(df['timeStamp'])"
   ]
  },
  {
   "cell_type": "code",
   "execution_count": 362,
   "metadata": {},
   "outputs": [
    {
     "data": {
      "text/plain": [
       "str"
      ]
     },
     "execution_count": 362,
     "metadata": {},
     "output_type": "execute_result"
    }
   ],
   "source": [
    "type(df['timeStamp'][0])"
   ]
  },
  {
   "cell_type": "code",
   "execution_count": 363,
   "metadata": {},
   "outputs": [],
   "source": [
    "# changing datatype of a specific column\n",
    "\n",
    "df['timeStamp'] = pd.to_datetime(df['timeStamp'])"
   ]
  },
  {
   "cell_type": "code",
   "execution_count": 364,
   "metadata": {},
   "outputs": [
    {
     "data": {
      "text/plain": [
       "pandas.core.series.Series"
      ]
     },
     "execution_count": 364,
     "metadata": {},
     "output_type": "execute_result"
    }
   ],
   "source": [
    "type(df['timeStamp'])"
   ]
  },
  {
   "cell_type": "code",
   "execution_count": 365,
   "metadata": {},
   "outputs": [
    {
     "data": {
      "text/plain": [
       "pandas._libs.tslibs.timestamps.Timestamp"
      ]
     },
     "execution_count": 365,
     "metadata": {},
     "output_type": "execute_result"
    }
   ],
   "source": [
    "type(df['timeStamp'][0]) # datatype changed to datetime"
   ]
  },
  {
   "cell_type": "code",
   "execution_count": 366,
   "metadata": {},
   "outputs": [
    {
     "data": {
      "text/plain": [
       "Timestamp('2015-12-10 17:40:00')"
      ]
     },
     "execution_count": 366,
     "metadata": {},
     "output_type": "execute_result"
    }
   ],
   "source": [
    "df['timeStamp'].iloc[0]"
   ]
  },
  {
   "cell_type": "code",
   "execution_count": 367,
   "metadata": {},
   "outputs": [],
   "source": [
    "x = df['timeStamp'][0]"
   ]
  },
  {
   "cell_type": "code",
   "execution_count": 368,
   "metadata": {},
   "outputs": [
    {
     "data": {
      "text/plain": [
       "10"
      ]
     },
     "execution_count": 368,
     "metadata": {},
     "output_type": "execute_result"
    }
   ],
   "source": [
    "x.day"
   ]
  },
  {
   "cell_type": "code",
   "execution_count": 369,
   "metadata": {},
   "outputs": [
    {
     "data": {
      "text/plain": [
       "'Thursday'"
      ]
     },
     "execution_count": 369,
     "metadata": {},
     "output_type": "execute_result"
    }
   ],
   "source": [
    "x.day_name()"
   ]
  },
  {
   "cell_type": "code",
   "execution_count": 370,
   "metadata": {},
   "outputs": [],
   "source": [
    "# hour column off of 'timeStamp' column\n",
    "\n",
    "df['Hour'] = df['timeStamp'].apply(lambda time: time.hour)"
   ]
  },
  {
   "cell_type": "code",
   "execution_count": 371,
   "metadata": {},
   "outputs": [],
   "source": [
    "# similarly for other columns\n",
    "\n",
    "df['Date'] = df['timeStamp'].apply(lambda x : x.date())"
   ]
  },
  {
   "cell_type": "code",
   "execution_count": 372,
   "metadata": {},
   "outputs": [],
   "source": [
    "df['Day of Week'] = df['timeStamp'].apply(lambda x: x.dayofweek)"
   ]
  },
  {
   "cell_type": "code",
   "execution_count": 373,
   "metadata": {},
   "outputs": [],
   "source": [
    "df['Month'] = df['timeStamp'].apply(lambda x: x.month)"
   ]
  },
  {
   "cell_type": "code",
   "execution_count": 374,
   "metadata": {},
   "outputs": [
    {
     "data": {
      "text/plain": [
       "0    12\n",
       "1    12\n",
       "2    12\n",
       "3    12\n",
       "4    12\n",
       "Name: Month, dtype: int64"
      ]
     },
     "execution_count": 374,
     "metadata": {},
     "output_type": "execute_result"
    }
   ],
   "source": [
    "df['Month'].head()"
   ]
  },
  {
   "cell_type": "code",
   "execution_count": 375,
   "metadata": {},
   "outputs": [
    {
     "data": {
      "text/plain": [
       "0    3\n",
       "1    3\n",
       "2    3\n",
       "3    3\n",
       "4    3\n",
       "Name: Day of Week, dtype: int64"
      ]
     },
     "execution_count": 375,
     "metadata": {},
     "output_type": "execute_result"
    }
   ],
   "source": [
    "days_dict = {0:'Monday', 1:'Tuesday', 2:'Wednesday', 3:'Thursday', 4:'Friday', 5:'Saturday', 6:'Sunday'}\n",
    "\n",
    "df['Day of Week'].head()"
   ]
  },
  {
   "cell_type": "code",
   "execution_count": 376,
   "metadata": {},
   "outputs": [],
   "source": [
    "df['Day of Week'] = df['Day of Week'].map(days_dict)"
   ]
  },
  {
   "cell_type": "code",
   "execution_count": 377,
   "metadata": {},
   "outputs": [
    {
     "data": {
      "text/plain": [
       "0    Thursday\n",
       "1    Thursday\n",
       "2    Thursday\n",
       "3    Thursday\n",
       "4    Thursday\n",
       "Name: Day of Week, dtype: object"
      ]
     },
     "execution_count": 377,
     "metadata": {},
     "output_type": "execute_result"
    }
   ],
   "source": [
    "df['Day of Week'].head()"
   ]
  },
  {
   "cell_type": "code",
   "execution_count": 378,
   "metadata": {},
   "outputs": [
    {
     "data": {
      "image/png": "[encoded data removed]",
      "text/plain": [
       "<Figure size 432x288 with 1 Axes>"
      ]
     },
     "metadata": {
      "needs_background": "light"
     },
     "output_type": "display_data"
    }
   ],
   "source": [
    "# countplot of col 'Day of Week'\n",
    "\n",
    "sns.countplot(x = df['Day of Week'])\n",
    "plt.tight_layout()"
   ]
  },
  {
   "cell_type": "code",
   "execution_count": 379,
   "metadata": {},
   "outputs": [
    {
     "data": {
      "text/plain": [
       "Tuesday      15150\n",
       "Wednesday    14879\n",
       "Friday       14833\n",
       "Monday       14680\n",
       "Thursday     14478\n",
       "Saturday     13336\n",
       "Sunday       12136\n",
       "Name: Day of Week, dtype: int64"
      ]
     },
     "execution_count": 379,
     "metadata": {},
     "output_type": "execute_result"
    }
   ],
   "source": [
    "df['Day of Week'].value_counts()"
   ]
  },
  {
   "cell_type": "code",
   "execution_count": 380,
   "metadata": {},
   "outputs": [
    {
     "data": {
      "text/plain": [
       "<matplotlib.legend.Legend at 0x17e58cf60f0>"
      ]
     },
     "execution_count": 380,
     "metadata": {},
     "output_type": "execute_result"
    },
    {
     "data": {
      "image/png": "[encoded data removed]",
      "text/plain": [
       "<Figure size 432x288 with 1 Axes>"
      ]
     },
     "metadata": {
      "needs_background": "light"
     },
     "output_type": "display_data"
    }
   ],
   "source": [
    "sns.countplot(x = df['Day of Week'], hue = df['Reason'])\n",
    "plt.legend()"
   ]
  },
  {
   "cell_type": "code",
   "execution_count": 381,
   "metadata": {},
   "outputs": [
    {
     "data": {
      "text/plain": [
       "<matplotlib.axes._subplots.AxesSubplot at 0x17e57aa0b38>"
      ]
     },
     "execution_count": 381,
     "metadata": {},
     "output_type": "execute_result"
    },
    {
     "data": {
      "image/png": "[encoded data removed]",
      "text/plain": [
       "<Figure size 432x288 with 1 Axes>"
      ]
     },
     "metadata": {
      "needs_background": "light"
     },
     "output_type": "display_data"
    }
   ],
   "source": [
    "sns.countplot(x = 'Month', hue = 'Reason', data = df)"
   ]
  },
  {
   "cell_type": "code",
   "execution_count": 382,
   "metadata": {},
   "outputs": [
    {
     "data": {
      "text/plain": [
       "0    12\n",
       "1    12\n",
       "2    12\n",
       "3    12\n",
       "4    12\n",
       "Name: Month, dtype: int64"
      ]
     },
     "execution_count": 382,
     "metadata": {},
     "output_type": "execute_result"
    }
   ],
   "source": [
    "month_dict = {1:'January', 2:'Febaury', 3:'March', 4:'April', 5:'May', 6:'June', 7:'July', 8:'August',\n",
    "             9:'September', 10:'October', 11:'November', 12:'December'}\n",
    "\n",
    "df['Month'].head()"
   ]
  },
  {
   "cell_type": "code",
   "execution_count": 383,
   "metadata": {},
   "outputs": [
    {
     "data": {
      "text/plain": [
       "{1: 'January',\n",
       " 2: 'Febaury',\n",
       " 3: 'March',\n",
       " 4: 'April',\n",
       " 5: 'May',\n",
       " 6: 'June',\n",
       " 7: 'July',\n",
       " 8: 'August',\n",
       " 9: 'September',\n",
       " 10: 'October',\n",
       " 11: 'November',\n",
       " 12: 'December'}"
      ]
     },
     "execution_count": 383,
     "metadata": {},
     "output_type": "execute_result"
    }
   ],
   "source": [
    "month_dict"
   ]
  },
  {
   "cell_type": "code",
   "execution_count": 384,
   "metadata": {},
   "outputs": [],
   "source": [
    "df['Month'] = df['Month'].map(month_dict)"
   ]
  },
  {
   "cell_type": "code",
   "execution_count": 385,
   "metadata": {},
   "outputs": [
    {
     "data": {
      "text/plain": [
       "0    December\n",
       "1    December\n",
       "2    December\n",
       "3    December\n",
       "4    December\n",
       "Name: Month, dtype: object"
      ]
     },
     "execution_count": 385,
     "metadata": {},
     "output_type": "execute_result"
    }
   ],
   "source": [
    "df['Month'].head()"
   ]
  },
  {
   "cell_type": "code",
   "execution_count": 386,
   "metadata": {},
   "outputs": [],
   "source": [
    "by_month = df.groupby('Month')"
   ]
  },
  {
   "cell_type": "code",
   "execution_count": 387,
   "metadata": {},
   "outputs": [
    {
     "data": {
      "text/html": [
       "<div>\n",
       "<style scoped>\n",
       "    .dataframe tbody tr th:only-of-type {\n",
       "        vertical-align: middle;\n",
       "    }\n",
       "\n",
       "    .dataframe tbody tr th {\n",
       "        vertical-align: top;\n",
       "    }\n",
       "\n",
       "    .dataframe thead th {\n",
       "        text-align: right;\n",
       "    }\n",
       "</style>\n",
       "<table border=\"1\" class=\"dataframe\">\n",
       "  <thead>\n",
       "    <tr style=\"text-align: right;\">\n",
       "      <th></th>\n",
       "      <th>lat</th>\n",
       "      <th>lng</th>\n",
       "      <th>desc</th>\n",
       "      <th>zip</th>\n",
       "      <th>title</th>\n",
       "      <th>timeStamp</th>\n",
       "      <th>twp</th>\n",
       "      <th>addr</th>\n",
       "      <th>e</th>\n",
       "      <th>Reason</th>\n",
       "      <th>Hour</th>\n",
       "      <th>Date</th>\n",
       "      <th>Day of Week</th>\n",
       "    </tr>\n",
       "    <tr>\n",
       "      <th>Month</th>\n",
       "      <th></th>\n",
       "      <th></th>\n",
       "      <th></th>\n",
       "      <th></th>\n",
       "      <th></th>\n",
       "      <th></th>\n",
       "      <th></th>\n",
       "      <th></th>\n",
       "      <th></th>\n",
       "      <th></th>\n",
       "      <th></th>\n",
       "      <th></th>\n",
       "      <th></th>\n",
       "    </tr>\n",
       "  </thead>\n",
       "  <tbody>\n",
       "    <tr>\n",
       "      <th>April</th>\n",
       "      <td>11326</td>\n",
       "      <td>11326</td>\n",
       "      <td>11326</td>\n",
       "      <td>11326</td>\n",
       "      <td>11326</td>\n",
       "      <td>11326</td>\n",
       "      <td>11326</td>\n",
       "      <td>11326</td>\n",
       "      <td>11326</td>\n",
       "      <td>11326</td>\n",
       "      <td>11326</td>\n",
       "      <td>11326</td>\n",
       "      <td>11326</td>\n",
       "    </tr>\n",
       "    <tr>\n",
       "      <th>August</th>\n",
       "      <td>9078</td>\n",
       "      <td>9078</td>\n",
       "      <td>9078</td>\n",
       "      <td>9078</td>\n",
       "      <td>9078</td>\n",
       "      <td>9078</td>\n",
       "      <td>9078</td>\n",
       "      <td>9078</td>\n",
       "      <td>9078</td>\n",
       "      <td>9078</td>\n",
       "      <td>9078</td>\n",
       "      <td>9078</td>\n",
       "      <td>9078</td>\n",
       "    </tr>\n",
       "    <tr>\n",
       "      <th>December</th>\n",
       "      <td>7969</td>\n",
       "      <td>7969</td>\n",
       "      <td>7969</td>\n",
       "      <td>7969</td>\n",
       "      <td>7969</td>\n",
       "      <td>7969</td>\n",
       "      <td>7969</td>\n",
       "      <td>7969</td>\n",
       "      <td>7969</td>\n",
       "      <td>7969</td>\n",
       "      <td>7969</td>\n",
       "      <td>7969</td>\n",
       "      <td>7969</td>\n",
       "    </tr>\n",
       "    <tr>\n",
       "      <th>Febaury</th>\n",
       "      <td>11467</td>\n",
       "      <td>11467</td>\n",
       "      <td>11467</td>\n",
       "      <td>11467</td>\n",
       "      <td>11467</td>\n",
       "      <td>11467</td>\n",
       "      <td>11467</td>\n",
       "      <td>11467</td>\n",
       "      <td>11467</td>\n",
       "      <td>11467</td>\n",
       "      <td>11467</td>\n",
       "      <td>11467</td>\n",
       "      <td>11467</td>\n",
       "    </tr>\n",
       "    <tr>\n",
       "      <th>January</th>\n",
       "      <td>13205</td>\n",
       "      <td>13205</td>\n",
       "      <td>13205</td>\n",
       "      <td>13205</td>\n",
       "      <td>13205</td>\n",
       "      <td>13205</td>\n",
       "      <td>13205</td>\n",
       "      <td>13205</td>\n",
       "      <td>13205</td>\n",
       "      <td>13205</td>\n",
       "      <td>13205</td>\n",
       "      <td>13205</td>\n",
       "      <td>13205</td>\n",
       "    </tr>\n",
       "    <tr>\n",
       "      <th>July</th>\n",
       "      <td>12137</td>\n",
       "      <td>12137</td>\n",
       "      <td>12137</td>\n",
       "      <td>12137</td>\n",
       "      <td>12137</td>\n",
       "      <td>12137</td>\n",
       "      <td>12137</td>\n",
       "      <td>12137</td>\n",
       "      <td>12137</td>\n",
       "      <td>12137</td>\n",
       "      <td>12137</td>\n",
       "      <td>12137</td>\n",
       "      <td>12137</td>\n",
       "    </tr>\n",
       "    <tr>\n",
       "      <th>June</th>\n",
       "      <td>11786</td>\n",
       "      <td>11786</td>\n",
       "      <td>11786</td>\n",
       "      <td>11786</td>\n",
       "      <td>11786</td>\n",
       "      <td>11786</td>\n",
       "      <td>11786</td>\n",
       "      <td>11786</td>\n",
       "      <td>11786</td>\n",
       "      <td>11786</td>\n",
       "      <td>11786</td>\n",
       "      <td>11786</td>\n",
       "      <td>11786</td>\n",
       "    </tr>\n",
       "    <tr>\n",
       "      <th>March</th>\n",
       "      <td>11101</td>\n",
       "      <td>11101</td>\n",
       "      <td>11101</td>\n",
       "      <td>11101</td>\n",
       "      <td>11101</td>\n",
       "      <td>11101</td>\n",
       "      <td>11101</td>\n",
       "      <td>11101</td>\n",
       "      <td>11101</td>\n",
       "      <td>11101</td>\n",
       "      <td>11101</td>\n",
       "      <td>11101</td>\n",
       "      <td>11101</td>\n",
       "    </tr>\n",
       "    <tr>\n",
       "      <th>May</th>\n",
       "      <td>11423</td>\n",
       "      <td>11423</td>\n",
       "      <td>11423</td>\n",
       "      <td>11423</td>\n",
       "      <td>11423</td>\n",
       "      <td>11423</td>\n",
       "      <td>11423</td>\n",
       "      <td>11423</td>\n",
       "      <td>11423</td>\n",
       "      <td>11423</td>\n",
       "      <td>11423</td>\n",
       "      <td>11423</td>\n",
       "      <td>11423</td>\n",
       "    </tr>\n",
       "  </tbody>\n",
       "</table>\n",
       "</div>"
      ],
      "text/plain": [
       "            lat    lng   desc    zip  title  timeStamp    twp   addr      e  \\\n",
       "Month                                                                         \n",
       "April     11326  11326  11326  11326  11326      11326  11326  11326  11326   \n",
       "August     9078   9078   9078   9078   9078       9078   9078   9078   9078   \n",
       "December   7969   7969   7969   7969   7969       7969   7969   7969   7969   \n",
       "Febaury   11467  11467  11467  11467  11467      11467  11467  11467  11467   \n",
       "January   13205  13205  13205  13205  13205      13205  13205  13205  13205   \n",
       "July      12137  12137  12137  12137  12137      12137  12137  12137  12137   \n",
       "June      11786  11786  11786  11786  11786      11786  11786  11786  11786   \n",
       "March     11101  11101  11101  11101  11101      11101  11101  11101  11101   \n",
       "May       11423  11423  11423  11423  11423      11423  11423  11423  11423   \n",
       "\n",
       "          Reason   Hour   Date  Day of Week  \n",
       "Month                                        \n",
       "April      11326  11326  11326        11326  \n",
       "August      9078   9078   9078         9078  \n",
       "December    7969   7969   7969         7969  \n",
       "Febaury    11467  11467  11467        11467  \n",
       "January    13205  13205  13205        13205  \n",
       "July       12137  12137  12137        12137  \n",
       "June       11786  11786  11786        11786  \n",
       "March      11101  11101  11101        11101  \n",
       "May        11423  11423  11423        11423  "
      ]
     },
     "execution_count": 387,
     "metadata": {},
     "output_type": "execute_result"
    }
   ],
   "source": [
    "by_month.count() # groupby method arranges colum entries in alphabatical order"
   ]
  },
  {
   "cell_type": "code",
   "execution_count": 388,
   "metadata": {},
   "outputs": [],
   "source": [
    "month_nums = {'January':1, 'Febuary':2, 'March':3, 'April':4, 'May':5, 'June':6, 'July':7,\n",
    "             'August':8, 'September':9, 'October':10, 'November':11, 'December':12}\n",
    "\n",
    "df['Month'] = df['Month'].map(month_nums)"
   ]
  },
  {
   "cell_type": "code",
   "execution_count": 389,
   "metadata": {},
   "outputs": [
    {
     "data": {
      "image/png": "[encoded data removed]",
      "text/plain": [
       "<Figure size 864x432 with 1 Axes>"
      ]
     },
     "metadata": {
      "needs_background": "light"
     },
     "output_type": "display_data"
    }
   ],
   "source": [
    "plt.figure(figsize = (12,6))\n",
    "by_month['lat'].count().plot()\n",
    "plt.tight_layout()"
   ]
  },
  {
   "cell_type": "code",
   "execution_count": 390,
   "metadata": {},
   "outputs": [
    {
     "data": {
      "text/plain": [
       "LOWER MERION    8443\n",
       "ABINGTON        5977\n",
       "NORRISTOWN      5890\n",
       "UPPER MERION    5227\n",
       "CHELTENHAM      4575\n",
       "Name: twp, dtype: int64"
      ]
     },
     "execution_count": 390,
     "metadata": {},
     "output_type": "execute_result"
    }
   ],
   "source": [
    "df['twp'].value_counts().head()"
   ]
  },
  {
   "cell_type": "code",
   "execution_count": 391,
   "metadata": {},
   "outputs": [],
   "source": [
    "by_month = by_month.count()"
   ]
  },
  {
   "cell_type": "code",
   "execution_count": 392,
   "metadata": {},
   "outputs": [
    {
     "data": {
      "text/plain": [
       "0    2015-12-10\n",
       "1    2015-12-10\n",
       "2    2015-12-10\n",
       "3    2015-12-10\n",
       "4    2015-12-10\n",
       "Name: Date, dtype: object"
      ]
     },
     "execution_count": 392,
     "metadata": {},
     "output_type": "execute_result"
    }
   ],
   "source": [
    "df['Date'].head()"
   ]
  },
  {
   "cell_type": "code",
   "execution_count": 393,
   "metadata": {},
   "outputs": [
    {
     "data": {
      "text/plain": [
       "Text(0.5, 1.0, 'Count of Latitude entries Grouped by Date')"
      ]
     },
     "execution_count": 393,
     "metadata": {},
     "output_type": "execute_result"
    },
    {
     "data": {
      "image/png": "[encoded data removed]",
      "text/plain": [
       "<Figure size 432x288 with 1 Axes>"
      ]
     },
     "metadata": {
      "needs_background": "light"
     },
     "output_type": "display_data"
    }
   ],
   "source": [
    "byDate = df.groupby('Date').count()['lat'].plot()\n",
    "plt.tight_layout()\n",
    "plt.title('Count of Latitude entries Grouped by Date')"
   ]
  },
  {
   "cell_type": "code",
   "execution_count": 394,
   "metadata": {},
   "outputs": [],
   "source": [
    "byDate = df.groupby('Date').count()"
   ]
  },
  {
   "cell_type": "code",
   "execution_count": 395,
   "metadata": {},
   "outputs": [
    {
     "data": {
      "text/html": [
       "<div>\n",
       "<style scoped>\n",
       "    .dataframe tbody tr th:only-of-type {\n",
       "        vertical-align: middle;\n",
       "    }\n",
       "\n",
       "    .dataframe tbody tr th {\n",
       "        vertical-align: top;\n",
       "    }\n",
       "\n",
       "    .dataframe thead th {\n",
       "        text-align: right;\n",
       "    }\n",
       "</style>\n",
       "<table border=\"1\" class=\"dataframe\">\n",
       "  <thead>\n",
       "    <tr style=\"text-align: right;\">\n",
       "      <th></th>\n",
       "      <th>lat</th>\n",
       "      <th>lng</th>\n",
       "      <th>desc</th>\n",
       "      <th>zip</th>\n",
       "      <th>title</th>\n",
       "      <th>timeStamp</th>\n",
       "      <th>twp</th>\n",
       "      <th>addr</th>\n",
       "      <th>e</th>\n",
       "      <th>Reason</th>\n",
       "      <th>Hour</th>\n",
       "      <th>Date</th>\n",
       "      <th>Day of Week</th>\n",
       "      <th>Month</th>\n",
       "    </tr>\n",
       "  </thead>\n",
       "  <tbody>\n",
       "    <tr>\n",
       "      <th>0</th>\n",
       "      <td>40.297876</td>\n",
       "      <td>-75.581294</td>\n",
       "      <td>REINDEER CT &amp; DEAD END;  NEW HANOVER; Station ...</td>\n",
       "      <td>19525</td>\n",
       "      <td>EMS: BACK PAINS/INJURY</td>\n",
       "      <td>2015-12-10 17:40:00</td>\n",
       "      <td>NEW HANOVER</td>\n",
       "      <td>REINDEER CT &amp; DEAD END</td>\n",
       "      <td>1</td>\n",
       "      <td>EMS</td>\n",
       "      <td>17</td>\n",
       "      <td>2015-12-10</td>\n",
       "      <td>Thursday</td>\n",
       "      <td>12.0</td>\n",
       "    </tr>\n",
       "    <tr>\n",
       "      <th>1</th>\n",
       "      <td>40.258061</td>\n",
       "      <td>-75.264680</td>\n",
       "      <td>BRIAR PATH &amp; WHITEMARSH LN;  HATFIELD TOWNSHIP...</td>\n",
       "      <td>19446</td>\n",
       "      <td>EMS: DIABETIC EMERGENCY</td>\n",
       "      <td>2015-12-10 17:40:00</td>\n",
       "      <td>HATFIELD TOWNSHIP</td>\n",
       "      <td>BRIAR PATH &amp; WHITEMARSH LN</td>\n",
       "      <td>1</td>\n",
       "      <td>EMS</td>\n",
       "      <td>17</td>\n",
       "      <td>2015-12-10</td>\n",
       "      <td>Thursday</td>\n",
       "      <td>12.0</td>\n",
       "    </tr>\n",
       "    <tr>\n",
       "      <th>2</th>\n",
       "      <td>40.121182</td>\n",
       "      <td>-75.351975</td>\n",
       "      <td>HAWS AVE; NORRISTOWN; 2015-12-10 @ 14:39:21-St...</td>\n",
       "      <td>19401</td>\n",
       "      <td>Fire: GAS-ODOR/LEAK</td>\n",
       "      <td>2015-12-10 17:40:00</td>\n",
       "      <td>NORRISTOWN</td>\n",
       "      <td>HAWS AVE</td>\n",
       "      <td>1</td>\n",
       "      <td>Fire</td>\n",
       "      <td>17</td>\n",
       "      <td>2015-12-10</td>\n",
       "      <td>Thursday</td>\n",
       "      <td>12.0</td>\n",
       "    </tr>\n",
       "    <tr>\n",
       "      <th>3</th>\n",
       "      <td>40.116153</td>\n",
       "      <td>-75.343513</td>\n",
       "      <td>AIRY ST &amp; SWEDE ST;  NORRISTOWN; Station 308A;...</td>\n",
       "      <td>19401</td>\n",
       "      <td>EMS: CARDIAC EMERGENCY</td>\n",
       "      <td>2015-12-10 17:40:01</td>\n",
       "      <td>NORRISTOWN</td>\n",
       "      <td>AIRY ST &amp; SWEDE ST</td>\n",
       "      <td>1</td>\n",
       "      <td>EMS</td>\n",
       "      <td>17</td>\n",
       "      <td>2015-12-10</td>\n",
       "      <td>Thursday</td>\n",
       "      <td>12.0</td>\n",
       "    </tr>\n",
       "    <tr>\n",
       "      <th>4</th>\n",
       "      <td>40.251492</td>\n",
       "      <td>-75.603350</td>\n",
       "      <td>CHERRYWOOD CT &amp; DEAD END;  LOWER POTTSGROVE; S...</td>\n",
       "      <td>filled value</td>\n",
       "      <td>EMS: DIZZINESS</td>\n",
       "      <td>2015-12-10 17:40:01</td>\n",
       "      <td>LOWER POTTSGROVE</td>\n",
       "      <td>CHERRYWOOD CT &amp; DEAD END</td>\n",
       "      <td>1</td>\n",
       "      <td>EMS</td>\n",
       "      <td>17</td>\n",
       "      <td>2015-12-10</td>\n",
       "      <td>Thursday</td>\n",
       "      <td>12.0</td>\n",
       "    </tr>\n",
       "  </tbody>\n",
       "</table>\n",
       "</div>"
      ],
      "text/plain": [
       "         lat        lng                                               desc  \\\n",
       "0  40.297876 -75.581294  REINDEER CT & DEAD END;  NEW HANOVER; Station ...   \n",
       "1  40.258061 -75.264680  BRIAR PATH & WHITEMARSH LN;  HATFIELD TOWNSHIP...   \n",
       "2  40.121182 -75.351975  HAWS AVE; NORRISTOWN; 2015-12-10 @ 14:39:21-St...   \n",
       "3  40.116153 -75.343513  AIRY ST & SWEDE ST;  NORRISTOWN; Station 308A;...   \n",
       "4  40.251492 -75.603350  CHERRYWOOD CT & DEAD END;  LOWER POTTSGROVE; S...   \n",
       "\n",
       "            zip                    title           timeStamp  \\\n",
       "0         19525   EMS: BACK PAINS/INJURY 2015-12-10 17:40:00   \n",
       "1         19446  EMS: DIABETIC EMERGENCY 2015-12-10 17:40:00   \n",
       "2         19401      Fire: GAS-ODOR/LEAK 2015-12-10 17:40:00   \n",
       "3         19401   EMS: CARDIAC EMERGENCY 2015-12-10 17:40:01   \n",
       "4  filled value           EMS: DIZZINESS 2015-12-10 17:40:01   \n",
       "\n",
       "                 twp                        addr  e Reason  Hour        Date  \\\n",
       "0        NEW HANOVER      REINDEER CT & DEAD END  1    EMS    17  2015-12-10   \n",
       "1  HATFIELD TOWNSHIP  BRIAR PATH & WHITEMARSH LN  1    EMS    17  2015-12-10   \n",
       "2         NORRISTOWN                    HAWS AVE  1   Fire    17  2015-12-10   \n",
       "3         NORRISTOWN          AIRY ST & SWEDE ST  1    EMS    17  2015-12-10   \n",
       "4   LOWER POTTSGROVE    CHERRYWOOD CT & DEAD END  1    EMS    17  2015-12-10   \n",
       "\n",
       "  Day of Week  Month  \n",
       "0    Thursday   12.0  \n",
       "1    Thursday   12.0  \n",
       "2    Thursday   12.0  \n",
       "3    Thursday   12.0  \n",
       "4    Thursday   12.0  "
      ]
     },
     "execution_count": 395,
     "metadata": {},
     "output_type": "execute_result"
    }
   ],
   "source": [
    "df.head()"
   ]
  },
  {
   "cell_type": "code",
   "execution_count": 399,
   "metadata": {},
   "outputs": [
    {
     "data": {
      "text/plain": [
       "Text(0.5, 1.0, 'Count of Longitude Grouped by Date')"
      ]
     },
     "execution_count": 399,
     "metadata": {},
     "output_type": "execute_result"
    },
    {
     "data": {
      "image/png": "[encoded data removed]",
      "text/plain": [
       "<Figure size 432x288 with 1 Axes>"
      ]
     },
     "metadata": {
      "needs_background": "light"
     },
     "output_type": "display_data"
    }
   ],
   "source": [
    "byDate['lng'].plot()\n",
    "plt.tight_layout()\n",
    "plt.title('Count of Longitude Grouped by Date')"
   ]
  },
  {
   "cell_type": "code",
   "execution_count": 400,
   "metadata": {},
   "outputs": [
    {
     "data": {
      "text/plain": [
       "<matplotlib.axes._subplots.AxesSubplot at 0x17e534b9048>"
      ]
     },
     "execution_count": 400,
     "metadata": {},
     "output_type": "execute_result"
    },
    {
     "data": {
      "image/png": "[encoded data removed]",
      "text/plain": [
       "<Figure size 432x288 with 1 Axes>"
      ]
     },
     "metadata": {
      "needs_background": "light"
     },
     "output_type": "display_data"
    }
   ],
   "source": [
    "df[df['Reason'] == 'Traffic'].groupby('Date').count()['lat'].plot()"
   ]
  },
  {
   "cell_type": "code",
   "execution_count": 402,
   "metadata": {},
   "outputs": [
    {
     "data": {
      "text/plain": [
       "Text(0.5, 1.0, 'Latitude entries corres. EMS/Reason  counts grouped by Date')"
      ]
     },
     "execution_count": 402,
     "metadata": {},
     "output_type": "execute_result"
    },
    {
     "data": {
      "image/png": "[encoded data removed]",
      "text/plain": [
       "<Figure size 432x288 with 1 Axes>"
      ]
     },
     "metadata": {
      "needs_background": "light"
     },
     "output_type": "display_data"
    }
   ],
   "source": [
    "df[df['Reason'] == 'EMS'].groupby('Date').count()['lat'].plot()\n",
    "plt.tight_layout()\n",
    "plt.title('Latitude entries corres. EMS/Reason  counts grouped by Date')"
   ]
  },
  {
   "cell_type": "code",
   "execution_count": 403,
   "metadata": {},
   "outputs": [
    {
     "data": {
      "image/png": "[encoded data removed]",
      "text/plain": [
       "<Figure size 720x432 with 1 Axes>"
      ]
     },
     "metadata": {
      "needs_background": "light"
     },
     "output_type": "display_data"
    }
   ],
   "source": [
    "plt.figure(figsize = (10,6))\n",
    "df[df['Reason'] == 'Fire'].groupby('Date').count()['lat'].plot()\n",
    "plt.tight_layout()"
   ]
  },
  {
   "cell_type": "code",
   "execution_count": 414,
   "metadata": {},
   "outputs": [],
   "source": [
    "dayHour = df.groupby(['Day of Week', 'Hour']).count()['Reason'].unstack()"
   ]
  },
  {
   "cell_type": "code",
   "execution_count": 415,
   "metadata": {},
   "outputs": [
    {
     "data": {
      "text/html": [
       "<div>\n",
       "<style scoped>\n",
       "    .dataframe tbody tr th:only-of-type {\n",
       "        vertical-align: middle;\n",
       "    }\n",
       "\n",
       "    .dataframe tbody tr th {\n",
       "        vertical-align: top;\n",
       "    }\n",
       "\n",
       "    .dataframe thead th {\n",
       "        text-align: right;\n",
       "    }\n",
       "</style>\n",
       "<table border=\"1\" class=\"dataframe\">\n",
       "  <thead>\n",
       "    <tr style=\"text-align: right;\">\n",
       "      <th>Hour</th>\n",
       "      <th>0</th>\n",
       "      <th>1</th>\n",
       "      <th>2</th>\n",
       "      <th>3</th>\n",
       "      <th>4</th>\n",
       "      <th>5</th>\n",
       "      <th>6</th>\n",
       "      <th>7</th>\n",
       "      <th>8</th>\n",
       "      <th>9</th>\n",
       "      <th>...</th>\n",
       "      <th>14</th>\n",
       "      <th>15</th>\n",
       "      <th>16</th>\n",
       "      <th>17</th>\n",
       "      <th>18</th>\n",
       "      <th>19</th>\n",
       "      <th>20</th>\n",
       "      <th>21</th>\n",
       "      <th>22</th>\n",
       "      <th>23</th>\n",
       "    </tr>\n",
       "    <tr>\n",
       "      <th>Day of Week</th>\n",
       "      <th></th>\n",
       "      <th></th>\n",
       "      <th></th>\n",
       "      <th></th>\n",
       "      <th></th>\n",
       "      <th></th>\n",
       "      <th></th>\n",
       "      <th></th>\n",
       "      <th></th>\n",
       "      <th></th>\n",
       "      <th></th>\n",
       "      <th></th>\n",
       "      <th></th>\n",
       "      <th></th>\n",
       "      <th></th>\n",
       "      <th></th>\n",
       "      <th></th>\n",
       "      <th></th>\n",
       "      <th></th>\n",
       "      <th></th>\n",
       "      <th></th>\n",
       "    </tr>\n",
       "  </thead>\n",
       "  <tbody>\n",
       "    <tr>\n",
       "      <th>Friday</th>\n",
       "      <td>275</td>\n",
       "      <td>235</td>\n",
       "      <td>191</td>\n",
       "      <td>175</td>\n",
       "      <td>201</td>\n",
       "      <td>194</td>\n",
       "      <td>372</td>\n",
       "      <td>598</td>\n",
       "      <td>742</td>\n",
       "      <td>752</td>\n",
       "      <td>...</td>\n",
       "      <td>932</td>\n",
       "      <td>980</td>\n",
       "      <td>1039</td>\n",
       "      <td>980</td>\n",
       "      <td>820</td>\n",
       "      <td>696</td>\n",
       "      <td>667</td>\n",
       "      <td>559</td>\n",
       "      <td>514</td>\n",
       "      <td>474</td>\n",
       "    </tr>\n",
       "    <tr>\n",
       "      <th>Monday</th>\n",
       "      <td>282</td>\n",
       "      <td>221</td>\n",
       "      <td>201</td>\n",
       "      <td>194</td>\n",
       "      <td>204</td>\n",
       "      <td>267</td>\n",
       "      <td>397</td>\n",
       "      <td>653</td>\n",
       "      <td>819</td>\n",
       "      <td>786</td>\n",
       "      <td>...</td>\n",
       "      <td>869</td>\n",
       "      <td>913</td>\n",
       "      <td>989</td>\n",
       "      <td>997</td>\n",
       "      <td>885</td>\n",
       "      <td>746</td>\n",
       "      <td>613</td>\n",
       "      <td>497</td>\n",
       "      <td>472</td>\n",
       "      <td>325</td>\n",
       "    </tr>\n",
       "    <tr>\n",
       "      <th>Saturday</th>\n",
       "      <td>375</td>\n",
       "      <td>301</td>\n",
       "      <td>263</td>\n",
       "      <td>260</td>\n",
       "      <td>224</td>\n",
       "      <td>231</td>\n",
       "      <td>257</td>\n",
       "      <td>391</td>\n",
       "      <td>459</td>\n",
       "      <td>640</td>\n",
       "      <td>...</td>\n",
       "      <td>789</td>\n",
       "      <td>796</td>\n",
       "      <td>848</td>\n",
       "      <td>757</td>\n",
       "      <td>778</td>\n",
       "      <td>696</td>\n",
       "      <td>628</td>\n",
       "      <td>572</td>\n",
       "      <td>506</td>\n",
       "      <td>467</td>\n",
       "    </tr>\n",
       "    <tr>\n",
       "      <th>Sunday</th>\n",
       "      <td>383</td>\n",
       "      <td>306</td>\n",
       "      <td>286</td>\n",
       "      <td>268</td>\n",
       "      <td>242</td>\n",
       "      <td>240</td>\n",
       "      <td>300</td>\n",
       "      <td>402</td>\n",
       "      <td>483</td>\n",
       "      <td>620</td>\n",
       "      <td>...</td>\n",
       "      <td>684</td>\n",
       "      <td>691</td>\n",
       "      <td>663</td>\n",
       "      <td>714</td>\n",
       "      <td>670</td>\n",
       "      <td>655</td>\n",
       "      <td>537</td>\n",
       "      <td>461</td>\n",
       "      <td>415</td>\n",
       "      <td>330</td>\n",
       "    </tr>\n",
       "    <tr>\n",
       "      <th>Thursday</th>\n",
       "      <td>278</td>\n",
       "      <td>202</td>\n",
       "      <td>233</td>\n",
       "      <td>159</td>\n",
       "      <td>182</td>\n",
       "      <td>203</td>\n",
       "      <td>362</td>\n",
       "      <td>570</td>\n",
       "      <td>777</td>\n",
       "      <td>828</td>\n",
       "      <td>...</td>\n",
       "      <td>876</td>\n",
       "      <td>969</td>\n",
       "      <td>935</td>\n",
       "      <td>1013</td>\n",
       "      <td>810</td>\n",
       "      <td>698</td>\n",
       "      <td>617</td>\n",
       "      <td>553</td>\n",
       "      <td>424</td>\n",
       "      <td>354</td>\n",
       "    </tr>\n",
       "    <tr>\n",
       "      <th>Tuesday</th>\n",
       "      <td>269</td>\n",
       "      <td>240</td>\n",
       "      <td>186</td>\n",
       "      <td>170</td>\n",
       "      <td>209</td>\n",
       "      <td>239</td>\n",
       "      <td>415</td>\n",
       "      <td>655</td>\n",
       "      <td>889</td>\n",
       "      <td>880</td>\n",
       "      <td>...</td>\n",
       "      <td>943</td>\n",
       "      <td>938</td>\n",
       "      <td>1026</td>\n",
       "      <td>1019</td>\n",
       "      <td>905</td>\n",
       "      <td>731</td>\n",
       "      <td>647</td>\n",
       "      <td>571</td>\n",
       "      <td>462</td>\n",
       "      <td>274</td>\n",
       "    </tr>\n",
       "    <tr>\n",
       "      <th>Wednesday</th>\n",
       "      <td>250</td>\n",
       "      <td>216</td>\n",
       "      <td>189</td>\n",
       "      <td>209</td>\n",
       "      <td>156</td>\n",
       "      <td>255</td>\n",
       "      <td>410</td>\n",
       "      <td>701</td>\n",
       "      <td>875</td>\n",
       "      <td>808</td>\n",
       "      <td>...</td>\n",
       "      <td>904</td>\n",
       "      <td>867</td>\n",
       "      <td>990</td>\n",
       "      <td>1037</td>\n",
       "      <td>894</td>\n",
       "      <td>686</td>\n",
       "      <td>668</td>\n",
       "      <td>575</td>\n",
       "      <td>490</td>\n",
       "      <td>335</td>\n",
       "    </tr>\n",
       "  </tbody>\n",
       "</table>\n",
       "<p>7 rows × 24 columns</p>\n",
       "</div>"
      ],
      "text/plain": [
       "Hour          0    1    2    3    4    5    6    7    8    9   ...   14   15  \\\n",
       "Day of Week                                                    ...             \n",
       "Friday       275  235  191  175  201  194  372  598  742  752  ...  932  980   \n",
       "Monday       282  221  201  194  204  267  397  653  819  786  ...  869  913   \n",
       "Saturday     375  301  263  260  224  231  257  391  459  640  ...  789  796   \n",
       "Sunday       383  306  286  268  242  240  300  402  483  620  ...  684  691   \n",
       "Thursday     278  202  233  159  182  203  362  570  777  828  ...  876  969   \n",
       "Tuesday      269  240  186  170  209  239  415  655  889  880  ...  943  938   \n",
       "Wednesday    250  216  189  209  156  255  410  701  875  808  ...  904  867   \n",
       "\n",
       "Hour           16    17   18   19   20   21   22   23  \n",
       "Day of Week                                            \n",
       "Friday       1039   980  820  696  667  559  514  474  \n",
       "Monday        989   997  885  746  613  497  472  325  \n",
       "Saturday      848   757  778  696  628  572  506  467  \n",
       "Sunday        663   714  670  655  537  461  415  330  \n",
       "Thursday      935  1013  810  698  617  553  424  354  \n",
       "Tuesday      1026  1019  905  731  647  571  462  274  \n",
       "Wednesday     990  1037  894  686  668  575  490  335  \n",
       "\n",
       "[7 rows x 24 columns]"
      ]
     },
     "execution_count": 415,
     "metadata": {},
     "output_type": "execute_result"
    }
   ],
   "source": [
    "dayHour"
   ]
  },
  {
   "cell_type": "code",
   "execution_count": 425,
   "metadata": {},
   "outputs": [],
   "source": [
    "byHour = df.groupby(['Day of Week','Hour'])['Reason'].count().unstack() "
   ]
  },
  {
   "cell_type": "code",
   "execution_count": 428,
   "metadata": {},
   "outputs": [
    {
     "data": {
      "text/plain": [
       "<matplotlib.axes._subplots.AxesSubplot at 0x17e55c88470>"
      ]
     },
     "execution_count": 428,
     "metadata": {},
     "output_type": "execute_result"
    },
    {
     "data": {
      "image/png": "[encoded data removed]",
      "text/plain": [
       "<Figure size 720x432 with 2 Axes>"
      ]
     },
     "metadata": {
      "needs_background": "light"
     },
     "output_type": "display_data"
    }
   ],
   "source": [
    "plt.figure(figsize = (10,6))\n",
    "sns.heatmap(data = byHour)"
   ]
  },
  {
   "cell_type": "code",
   "execution_count": 429,
   "metadata": {},
   "outputs": [
    {
     "data": {
      "text/plain": [
       "<seaborn.matrix.ClusterGrid at 0x17e55cbd550>"
      ]
     },
     "execution_count": 429,
     "metadata": {},
     "output_type": "execute_result"
    },
    {
     "data": {
      "image/png": "[encoded data removed]",
      "text/plain": [
       "<Figure size 720x720 with 4 Axes>"
      ]
     },
     "metadata": {
      "needs_background": "light"
     },
     "output_type": "display_data"
    }
   ],
   "source": [
    "sns.clustermap(data = byHour)"
   ]
  },
  {
   "cell_type": "code",
   "execution_count": 431,
   "metadata": {},
   "outputs": [],
   "source": [
    "byMonth = df.groupby(['Day of Week', 'Month'])['Reason'].count().unstack()"
   ]
  },
  {
   "cell_type": "code",
   "execution_count": 432,
   "metadata": {
    "scrolled": true
   },
   "outputs": [
    {
     "data": {
      "text/plain": [
       "<matplotlib.axes._subplots.AxesSubplot at 0x17e5a0a6630>"
      ]
     },
     "execution_count": 432,
     "metadata": {},
     "output_type": "execute_result"
    },
    {
     "data": {
      "image/png": "[encoded data removed]",
      "text/plain": [
       "<Figure size 432x288 with 2 Axes>"
      ]
     },
     "metadata": {
      "needs_background": "light"
     },
     "output_type": "display_data"
    }
   ],
   "source": [
    "sns.heatmap(data = byMonth)"
   ]
  },
  {
   "cell_type": "code",
   "execution_count": 444,
   "metadata": {},
   "outputs": [],
   "source": [
    "byMonth = df.groupby(['Day of Week','Month'])['Reason'].count().unstack()"
   ]
  },
  {
   "cell_type": "code",
   "execution_count": 445,
   "metadata": {},
   "outputs": [
    {
     "data": {
      "text/plain": [
       "<matplotlib.axes._subplots.AxesSubplot at 0x17e5b003860>"
      ]
     },
     "execution_count": 445,
     "metadata": {},
     "output_type": "execute_result"
    },
    {
     "data": {
      "image/png": "[encoded data removed]",
      "text/plain": [
       "<Figure size 432x288 with 2 Axes>"
      ]
     },
     "metadata": {
      "needs_background": "light"
     },
     "output_type": "display_data"
    }
   ],
   "source": [
    "sns.heatmap(data = byMonth)"
   ]
  },
  {
   "cell_type": "code",
   "execution_count": 446,
   "metadata": {},
   "outputs": [
    {
     "data": {
      "text/plain": [
       "<seaborn.matrix.ClusterGrid at 0x17e5a037240>"
      ]
     },
     "execution_count": 446,
     "metadata": {},
     "output_type": "execute_result"
    },
    {
     "data": {
      "image/png": "[encoded data removed]",
      "text/plain": [
       "<Figure size 720x720 with 4 Axes>"
      ]
     },
     "metadata": {
      "needs_background": "light"
     },
     "output_type": "display_data"
    }
   ],
   "source": [
    "sns.clustermap(data = byMonth)"
   ]
  },
  {
   "cell_type": "code",
   "execution_count": null,
   "metadata": {},
   "outputs": [],
   "source": []
  }
 ],
 "metadata": {
  "kernelspec": {
   "display_name": "Python 3",
   "language": "python",
   "name": "python3"
  },
  "language_info": {
   "codemirror_mode": {
    "name": "ipython",
    "version": 3
   },
   "file_extension": ".py",
   "mimetype": "text/x-python",
   "name": "python",
   "nbconvert_exporter": "python",
   "pygments_lexer": "ipython3",
   "version": "3.7.3"
  }
 },
 "nbformat": 4,
 "nbformat_minor": 2
}
