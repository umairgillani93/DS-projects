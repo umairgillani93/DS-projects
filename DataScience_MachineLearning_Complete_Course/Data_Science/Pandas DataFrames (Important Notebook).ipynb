{
 "cells": [
  {
   "cell_type": "markdown",
   "metadata": {},
   "source": [
    "## DataFrames:\n",
    "\n",
    "#### We can think of DataFrames as a bunch of series, that share the common index. Let's explore DataFrames in detail."
   ]
  },
  {
   "cell_type": "code",
   "execution_count": 2,
   "metadata": {},
   "outputs": [],
   "source": [
    "import numpy as np\n",
    "import pandas as pd"
   ]
  },
  {
   "cell_type": "code",
   "execution_count": 6,
   "metadata": {},
   "outputs": [],
   "source": [
    "# lets go ahead and quickly create a random DataFrame\n",
    "\n",
    "df = pd.DataFrame(data = np.random.randn(5,4), index = 'A B C D E'.split(), columns = 'W X Y Z'.split())"
   ]
  },
  {
   "cell_type": "code",
   "execution_count": 7,
   "metadata": {},
   "outputs": [
    {
     "data": {
      "text/html": [
       "<div>\n",
       "<style scoped>\n",
       "    .dataframe tbody tr th:only-of-type {\n",
       "        vertical-align: middle;\n",
       "    }\n",
       "\n",
       "    .dataframe tbody tr th {\n",
       "        vertical-align: top;\n",
       "    }\n",
       "\n",
       "    .dataframe thead th {\n",
       "        text-align: right;\n",
       "    }\n",
       "</style>\n",
       "<table border=\"1\" class=\"dataframe\">\n",
       "  <thead>\n",
       "    <tr style=\"text-align: right;\">\n",
       "      <th></th>\n",
       "      <th>W</th>\n",
       "      <th>X</th>\n",
       "      <th>Y</th>\n",
       "      <th>Z</th>\n",
       "    </tr>\n",
       "  </thead>\n",
       "  <tbody>\n",
       "    <tr>\n",
       "      <th>A</th>\n",
       "      <td>-0.410090</td>\n",
       "      <td>0.162665</td>\n",
       "      <td>0.388813</td>\n",
       "      <td>-0.567844</td>\n",
       "    </tr>\n",
       "    <tr>\n",
       "      <th>B</th>\n",
       "      <td>0.443548</td>\n",
       "      <td>-0.457618</td>\n",
       "      <td>-0.617701</td>\n",
       "      <td>1.273738</td>\n",
       "    </tr>\n",
       "    <tr>\n",
       "      <th>C</th>\n",
       "      <td>-1.273016</td>\n",
       "      <td>0.336221</td>\n",
       "      <td>1.457579</td>\n",
       "      <td>-0.196704</td>\n",
       "    </tr>\n",
       "    <tr>\n",
       "      <th>D</th>\n",
       "      <td>-2.233890</td>\n",
       "      <td>-1.149824</td>\n",
       "      <td>1.914845</td>\n",
       "      <td>-0.206768</td>\n",
       "    </tr>\n",
       "    <tr>\n",
       "      <th>E</th>\n",
       "      <td>-0.283420</td>\n",
       "      <td>-1.084131</td>\n",
       "      <td>0.510533</td>\n",
       "      <td>1.645422</td>\n",
       "    </tr>\n",
       "  </tbody>\n",
       "</table>\n",
       "</div>"
      ],
      "text/plain": [
       "          W         X         Y         Z\n",
       "A -0.410090  0.162665  0.388813 -0.567844\n",
       "B  0.443548 -0.457618 -0.617701  1.273738\n",
       "C -1.273016  0.336221  1.457579 -0.196704\n",
       "D -2.233890 -1.149824  1.914845 -0.206768\n",
       "E -0.283420 -1.084131  0.510533  1.645422"
      ]
     },
     "execution_count": 7,
     "metadata": {},
     "output_type": "execute_result"
    }
   ],
   "source": [
    "df"
   ]
  },
  {
   "cell_type": "markdown",
   "metadata": {},
   "source": [
    "## Selections And Indexing:"
   ]
  },
  {
   "cell_type": "code",
   "execution_count": 13,
   "metadata": {},
   "outputs": [],
   "source": [
    "ser = pd.Series(data = 'umair obaid junaid farhan tahir'.split())"
   ]
  },
  {
   "cell_type": "code",
   "execution_count": 14,
   "metadata": {},
   "outputs": [
    {
     "data": {
      "text/plain": [
       "0     umair\n",
       "1     obaid\n",
       "2    junaid\n",
       "3    farhan\n",
       "4     tahir\n",
       "dtype: object"
      ]
     },
     "execution_count": 14,
     "metadata": {},
     "output_type": "execute_result"
    }
   ],
   "source": [
    "ser"
   ]
  },
  {
   "cell_type": "code",
   "execution_count": 17,
   "metadata": {},
   "outputs": [
    {
     "data": {
      "text/plain": [
       "'junaid'"
      ]
     },
     "execution_count": 17,
     "metadata": {},
     "output_type": "execute_result"
    }
   ],
   "source": [
    "ser[2] # reports back the corresponding data at 2 index number of the series"
   ]
  },
  {
   "cell_type": "code",
   "execution_count": 18,
   "metadata": {},
   "outputs": [
    {
     "data": {
      "text/html": [
       "<div>\n",
       "<style scoped>\n",
       "    .dataframe tbody tr th:only-of-type {\n",
       "        vertical-align: middle;\n",
       "    }\n",
       "\n",
       "    .dataframe tbody tr th {\n",
       "        vertical-align: top;\n",
       "    }\n",
       "\n",
       "    .dataframe thead th {\n",
       "        text-align: right;\n",
       "    }\n",
       "</style>\n",
       "<table border=\"1\" class=\"dataframe\">\n",
       "  <thead>\n",
       "    <tr style=\"text-align: right;\">\n",
       "      <th></th>\n",
       "      <th>W</th>\n",
       "      <th>X</th>\n",
       "      <th>Y</th>\n",
       "      <th>Z</th>\n",
       "    </tr>\n",
       "  </thead>\n",
       "  <tbody>\n",
       "    <tr>\n",
       "      <th>A</th>\n",
       "      <td>-0.410090</td>\n",
       "      <td>0.162665</td>\n",
       "      <td>0.388813</td>\n",
       "      <td>-0.567844</td>\n",
       "    </tr>\n",
       "    <tr>\n",
       "      <th>B</th>\n",
       "      <td>0.443548</td>\n",
       "      <td>-0.457618</td>\n",
       "      <td>-0.617701</td>\n",
       "      <td>1.273738</td>\n",
       "    </tr>\n",
       "    <tr>\n",
       "      <th>C</th>\n",
       "      <td>-1.273016</td>\n",
       "      <td>0.336221</td>\n",
       "      <td>1.457579</td>\n",
       "      <td>-0.196704</td>\n",
       "    </tr>\n",
       "    <tr>\n",
       "      <th>D</th>\n",
       "      <td>-2.233890</td>\n",
       "      <td>-1.149824</td>\n",
       "      <td>1.914845</td>\n",
       "      <td>-0.206768</td>\n",
       "    </tr>\n",
       "    <tr>\n",
       "      <th>E</th>\n",
       "      <td>-0.283420</td>\n",
       "      <td>-1.084131</td>\n",
       "      <td>0.510533</td>\n",
       "      <td>1.645422</td>\n",
       "    </tr>\n",
       "  </tbody>\n",
       "</table>\n",
       "</div>"
      ],
      "text/plain": [
       "          W         X         Y         Z\n",
       "A -0.410090  0.162665  0.388813 -0.567844\n",
       "B  0.443548 -0.457618 -0.617701  1.273738\n",
       "C -1.273016  0.336221  1.457579 -0.196704\n",
       "D -2.233890 -1.149824  1.914845 -0.206768\n",
       "E -0.283420 -1.084131  0.510533  1.645422"
      ]
     },
     "execution_count": 18,
     "metadata": {},
     "output_type": "execute_result"
    }
   ],
   "source": [
    "df"
   ]
  },
  {
   "cell_type": "code",
   "execution_count": 20,
   "metadata": {},
   "outputs": [
    {
     "data": {
      "text/plain": [
       "A   -0.410090\n",
       "B    0.443548\n",
       "C   -1.273016\n",
       "D   -2.233890\n",
       "E   -0.283420\n",
       "Name: W, dtype: float64"
      ]
     },
     "execution_count": 20,
     "metadata": {},
     "output_type": "execute_result"
    }
   ],
   "source": [
    "df['W'] # reports back 'W' column from DataFrame"
   ]
  },
  {
   "cell_type": "code",
   "execution_count": 23,
   "metadata": {},
   "outputs": [
    {
     "data": {
      "text/plain": [
       "A    0.162665\n",
       "B   -0.457618\n",
       "C    0.336221\n",
       "D   -1.149824\n",
       "E   -1.084131\n",
       "Name: X, dtype: float64"
      ]
     },
     "execution_count": 23,
     "metadata": {},
     "output_type": "execute_result"
    }
   ],
   "source": [
    "df['X']  # reports back the 'X' column from DataFrame\n",
    "\n",
    "# *notice we have index common for every column"
   ]
  },
  {
   "cell_type": "code",
   "execution_count": 24,
   "metadata": {},
   "outputs": [
    {
     "data": {
      "text/html": [
       "<div>\n",
       "<style scoped>\n",
       "    .dataframe tbody tr th:only-of-type {\n",
       "        vertical-align: middle;\n",
       "    }\n",
       "\n",
       "    .dataframe tbody tr th {\n",
       "        vertical-align: top;\n",
       "    }\n",
       "\n",
       "    .dataframe thead th {\n",
       "        text-align: right;\n",
       "    }\n",
       "</style>\n",
       "<table border=\"1\" class=\"dataframe\">\n",
       "  <thead>\n",
       "    <tr style=\"text-align: right;\">\n",
       "      <th></th>\n",
       "      <th>W</th>\n",
       "      <th>Y</th>\n",
       "    </tr>\n",
       "  </thead>\n",
       "  <tbody>\n",
       "    <tr>\n",
       "      <th>A</th>\n",
       "      <td>-0.410090</td>\n",
       "      <td>0.388813</td>\n",
       "    </tr>\n",
       "    <tr>\n",
       "      <th>B</th>\n",
       "      <td>0.443548</td>\n",
       "      <td>-0.617701</td>\n",
       "    </tr>\n",
       "    <tr>\n",
       "      <th>C</th>\n",
       "      <td>-1.273016</td>\n",
       "      <td>1.457579</td>\n",
       "    </tr>\n",
       "    <tr>\n",
       "      <th>D</th>\n",
       "      <td>-2.233890</td>\n",
       "      <td>1.914845</td>\n",
       "    </tr>\n",
       "    <tr>\n",
       "      <th>E</th>\n",
       "      <td>-0.283420</td>\n",
       "      <td>0.510533</td>\n",
       "    </tr>\n",
       "  </tbody>\n",
       "</table>\n",
       "</div>"
      ],
      "text/plain": [
       "          W         Y\n",
       "A -0.410090  0.388813\n",
       "B  0.443548 -0.617701\n",
       "C -1.273016  1.457579\n",
       "D -2.233890  1.914845\n",
       "E -0.283420  0.510533"
      ]
     },
     "execution_count": 24,
     "metadata": {},
     "output_type": "execute_result"
    }
   ],
   "source": [
    "# we can also pass a list of column names\n",
    "\n",
    "df[['W','Y']]"
   ]
  },
  {
   "cell_type": "code",
   "execution_count": 27,
   "metadata": {},
   "outputs": [
    {
     "data": {
      "text/html": [
       "<div>\n",
       "<style scoped>\n",
       "    .dataframe tbody tr th:only-of-type {\n",
       "        vertical-align: middle;\n",
       "    }\n",
       "\n",
       "    .dataframe tbody tr th {\n",
       "        vertical-align: top;\n",
       "    }\n",
       "\n",
       "    .dataframe thead th {\n",
       "        text-align: right;\n",
       "    }\n",
       "</style>\n",
       "<table border=\"1\" class=\"dataframe\">\n",
       "  <thead>\n",
       "    <tr style=\"text-align: right;\">\n",
       "      <th></th>\n",
       "      <th>W</th>\n",
       "      <th>Z</th>\n",
       "    </tr>\n",
       "  </thead>\n",
       "  <tbody>\n",
       "    <tr>\n",
       "      <th>A</th>\n",
       "      <td>-0.410090</td>\n",
       "      <td>-0.567844</td>\n",
       "    </tr>\n",
       "    <tr>\n",
       "      <th>B</th>\n",
       "      <td>0.443548</td>\n",
       "      <td>1.273738</td>\n",
       "    </tr>\n",
       "    <tr>\n",
       "      <th>C</th>\n",
       "      <td>-1.273016</td>\n",
       "      <td>-0.196704</td>\n",
       "    </tr>\n",
       "    <tr>\n",
       "      <th>D</th>\n",
       "      <td>-2.233890</td>\n",
       "      <td>-0.206768</td>\n",
       "    </tr>\n",
       "    <tr>\n",
       "      <th>E</th>\n",
       "      <td>-0.283420</td>\n",
       "      <td>1.645422</td>\n",
       "    </tr>\n",
       "  </tbody>\n",
       "</table>\n",
       "</div>"
      ],
      "text/plain": [
       "          W         Z\n",
       "A -0.410090 -0.567844\n",
       "B  0.443548  1.273738\n",
       "C -1.273016 -0.196704\n",
       "D -2.233890 -0.206768\n",
       "E -0.283420  1.645422"
      ]
     },
     "execution_count": 27,
     "metadata": {},
     "output_type": "execute_result"
    }
   ],
   "source": [
    "df[['W','Z']]"
   ]
  },
  {
   "cell_type": "code",
   "execution_count": 30,
   "metadata": {},
   "outputs": [
    {
     "data": {
      "text/html": [
       "<div>\n",
       "<style scoped>\n",
       "    .dataframe tbody tr th:only-of-type {\n",
       "        vertical-align: middle;\n",
       "    }\n",
       "\n",
       "    .dataframe tbody tr th {\n",
       "        vertical-align: top;\n",
       "    }\n",
       "\n",
       "    .dataframe thead th {\n",
       "        text-align: right;\n",
       "    }\n",
       "</style>\n",
       "<table border=\"1\" class=\"dataframe\">\n",
       "  <thead>\n",
       "    <tr style=\"text-align: right;\">\n",
       "      <th></th>\n",
       "      <th>W</th>\n",
       "      <th>Y</th>\n",
       "      <th>Z</th>\n",
       "    </tr>\n",
       "  </thead>\n",
       "  <tbody>\n",
       "    <tr>\n",
       "      <th>A</th>\n",
       "      <td>-0.410090</td>\n",
       "      <td>0.388813</td>\n",
       "      <td>-0.567844</td>\n",
       "    </tr>\n",
       "    <tr>\n",
       "      <th>B</th>\n",
       "      <td>0.443548</td>\n",
       "      <td>-0.617701</td>\n",
       "      <td>1.273738</td>\n",
       "    </tr>\n",
       "    <tr>\n",
       "      <th>C</th>\n",
       "      <td>-1.273016</td>\n",
       "      <td>1.457579</td>\n",
       "      <td>-0.196704</td>\n",
       "    </tr>\n",
       "    <tr>\n",
       "      <th>D</th>\n",
       "      <td>-2.233890</td>\n",
       "      <td>1.914845</td>\n",
       "      <td>-0.206768</td>\n",
       "    </tr>\n",
       "    <tr>\n",
       "      <th>E</th>\n",
       "      <td>-0.283420</td>\n",
       "      <td>0.510533</td>\n",
       "      <td>1.645422</td>\n",
       "    </tr>\n",
       "  </tbody>\n",
       "</table>\n",
       "</div>"
      ],
      "text/plain": [
       "          W         Y         Z\n",
       "A -0.410090  0.388813 -0.567844\n",
       "B  0.443548 -0.617701  1.273738\n",
       "C -1.273016  1.457579 -0.196704\n",
       "D -2.233890  1.914845 -0.206768\n",
       "E -0.283420  0.510533  1.645422"
      ]
     },
     "execution_count": 30,
     "metadata": {},
     "output_type": "execute_result"
    }
   ],
   "source": [
    "df[['W','Y','Z']]"
   ]
  },
  {
   "cell_type": "code",
   "execution_count": 36,
   "metadata": {},
   "outputs": [
    {
     "data": {
      "text/plain": [
       "A   -0.410090\n",
       "B    0.443548\n",
       "C   -1.273016\n",
       "D   -2.233890\n",
       "E   -0.283420\n",
       "Name: W, dtype: float64"
      ]
     },
     "execution_count": 36,
     "metadata": {},
     "output_type": "execute_result"
    }
   ],
   "source": [
    "# SQL style syntax\n",
    "\n",
    "df.W  # not recommended"
   ]
  },
  {
   "cell_type": "code",
   "execution_count": 38,
   "metadata": {},
   "outputs": [
    {
     "data": {
      "text/plain": [
       "pandas.core.series.Series"
      ]
     },
     "execution_count": 38,
     "metadata": {},
     "output_type": "execute_result"
    }
   ],
   "source": [
    "type(df['W'])  # reports back that its a pandas series"
   ]
  },
  {
   "cell_type": "code",
   "execution_count": 40,
   "metadata": {},
   "outputs": [
    {
     "data": {
      "text/plain": [
       "pandas.core.frame.DataFrame"
      ]
     },
     "execution_count": 40,
     "metadata": {},
     "output_type": "execute_result"
    }
   ],
   "source": [
    "type(df[['W','X']])  # reports back its a pandas DataFrame"
   ]
  },
  {
   "cell_type": "markdown",
   "metadata": {},
   "source": [
    "## Creating a new column:"
   ]
  },
  {
   "cell_type": "code",
   "execution_count": 41,
   "metadata": {},
   "outputs": [],
   "source": [
    "df['Column Name'] = df['W'] + df['X']"
   ]
  },
  {
   "cell_type": "code",
   "execution_count": 51,
   "metadata": {},
   "outputs": [
    {
     "data": {
      "text/html": [
       "<div>\n",
       "<style scoped>\n",
       "    .dataframe tbody tr th:only-of-type {\n",
       "        vertical-align: middle;\n",
       "    }\n",
       "\n",
       "    .dataframe tbody tr th {\n",
       "        vertical-align: top;\n",
       "    }\n",
       "\n",
       "    .dataframe thead th {\n",
       "        text-align: right;\n",
       "    }\n",
       "</style>\n",
       "<table border=\"1\" class=\"dataframe\">\n",
       "  <thead>\n",
       "    <tr style=\"text-align: right;\">\n",
       "      <th></th>\n",
       "      <th>W</th>\n",
       "      <th>X</th>\n",
       "      <th>Y</th>\n",
       "      <th>Z</th>\n",
       "      <th>Column Name</th>\n",
       "    </tr>\n",
       "  </thead>\n",
       "  <tbody>\n",
       "    <tr>\n",
       "      <th>A</th>\n",
       "      <td>-0.410090</td>\n",
       "      <td>0.162665</td>\n",
       "      <td>0.388813</td>\n",
       "      <td>-0.567844</td>\n",
       "      <td>-0.247426</td>\n",
       "    </tr>\n",
       "    <tr>\n",
       "      <th>B</th>\n",
       "      <td>0.443548</td>\n",
       "      <td>-0.457618</td>\n",
       "      <td>-0.617701</td>\n",
       "      <td>1.273738</td>\n",
       "      <td>-0.014069</td>\n",
       "    </tr>\n",
       "    <tr>\n",
       "      <th>C</th>\n",
       "      <td>-1.273016</td>\n",
       "      <td>0.336221</td>\n",
       "      <td>1.457579</td>\n",
       "      <td>-0.196704</td>\n",
       "      <td>-0.936795</td>\n",
       "    </tr>\n",
       "    <tr>\n",
       "      <th>D</th>\n",
       "      <td>-2.233890</td>\n",
       "      <td>-1.149824</td>\n",
       "      <td>1.914845</td>\n",
       "      <td>-0.206768</td>\n",
       "      <td>-3.383714</td>\n",
       "    </tr>\n",
       "    <tr>\n",
       "      <th>E</th>\n",
       "      <td>-0.283420</td>\n",
       "      <td>-1.084131</td>\n",
       "      <td>0.510533</td>\n",
       "      <td>1.645422</td>\n",
       "      <td>-1.367551</td>\n",
       "    </tr>\n",
       "  </tbody>\n",
       "</table>\n",
       "</div>"
      ],
      "text/plain": [
       "          W         X         Y         Z  Column Name\n",
       "A -0.410090  0.162665  0.388813 -0.567844    -0.247426\n",
       "B  0.443548 -0.457618 -0.617701  1.273738    -0.014069\n",
       "C -1.273016  0.336221  1.457579 -0.196704    -0.936795\n",
       "D -2.233890 -1.149824  1.914845 -0.206768    -3.383714\n",
       "E -0.283420 -1.084131  0.510533  1.645422    -1.367551"
      ]
     },
     "execution_count": 51,
     "metadata": {},
     "output_type": "execute_result"
    }
   ],
   "source": [
    "df"
   ]
  },
  {
   "cell_type": "code",
   "execution_count": 52,
   "metadata": {},
   "outputs": [],
   "source": [
    "df['Other'] = df['Y'] + df['Z']"
   ]
  },
  {
   "cell_type": "code",
   "execution_count": 53,
   "metadata": {},
   "outputs": [
    {
     "data": {
      "text/html": [
       "<div>\n",
       "<style scoped>\n",
       "    .dataframe tbody tr th:only-of-type {\n",
       "        vertical-align: middle;\n",
       "    }\n",
       "\n",
       "    .dataframe tbody tr th {\n",
       "        vertical-align: top;\n",
       "    }\n",
       "\n",
       "    .dataframe thead th {\n",
       "        text-align: right;\n",
       "    }\n",
       "</style>\n",
       "<table border=\"1\" class=\"dataframe\">\n",
       "  <thead>\n",
       "    <tr style=\"text-align: right;\">\n",
       "      <th></th>\n",
       "      <th>W</th>\n",
       "      <th>X</th>\n",
       "      <th>Y</th>\n",
       "      <th>Z</th>\n",
       "      <th>Column Name</th>\n",
       "      <th>Other</th>\n",
       "    </tr>\n",
       "  </thead>\n",
       "  <tbody>\n",
       "    <tr>\n",
       "      <th>A</th>\n",
       "      <td>-0.410090</td>\n",
       "      <td>0.162665</td>\n",
       "      <td>0.388813</td>\n",
       "      <td>-0.567844</td>\n",
       "      <td>-0.247426</td>\n",
       "      <td>-0.179032</td>\n",
       "    </tr>\n",
       "    <tr>\n",
       "      <th>B</th>\n",
       "      <td>0.443548</td>\n",
       "      <td>-0.457618</td>\n",
       "      <td>-0.617701</td>\n",
       "      <td>1.273738</td>\n",
       "      <td>-0.014069</td>\n",
       "      <td>0.656037</td>\n",
       "    </tr>\n",
       "    <tr>\n",
       "      <th>C</th>\n",
       "      <td>-1.273016</td>\n",
       "      <td>0.336221</td>\n",
       "      <td>1.457579</td>\n",
       "      <td>-0.196704</td>\n",
       "      <td>-0.936795</td>\n",
       "      <td>1.260875</td>\n",
       "    </tr>\n",
       "    <tr>\n",
       "      <th>D</th>\n",
       "      <td>-2.233890</td>\n",
       "      <td>-1.149824</td>\n",
       "      <td>1.914845</td>\n",
       "      <td>-0.206768</td>\n",
       "      <td>-3.383714</td>\n",
       "      <td>1.708077</td>\n",
       "    </tr>\n",
       "    <tr>\n",
       "      <th>E</th>\n",
       "      <td>-0.283420</td>\n",
       "      <td>-1.084131</td>\n",
       "      <td>0.510533</td>\n",
       "      <td>1.645422</td>\n",
       "      <td>-1.367551</td>\n",
       "      <td>2.155955</td>\n",
       "    </tr>\n",
       "  </tbody>\n",
       "</table>\n",
       "</div>"
      ],
      "text/plain": [
       "          W         X         Y         Z  Column Name     Other\n",
       "A -0.410090  0.162665  0.388813 -0.567844    -0.247426 -0.179032\n",
       "B  0.443548 -0.457618 -0.617701  1.273738    -0.014069  0.656037\n",
       "C -1.273016  0.336221  1.457579 -0.196704    -0.936795  1.260875\n",
       "D -2.233890 -1.149824  1.914845 -0.206768    -3.383714  1.708077\n",
       "E -0.283420 -1.084131  0.510533  1.645422    -1.367551  2.155955"
      ]
     },
     "execution_count": 53,
     "metadata": {},
     "output_type": "execute_result"
    }
   ],
   "source": [
    "df"
   ]
  },
  {
   "cell_type": "markdown",
   "metadata": {},
   "source": [
    "## Removing columns:"
   ]
  },
  {
   "cell_type": "code",
   "execution_count": 54,
   "metadata": {},
   "outputs": [
    {
     "data": {
      "text/html": [
       "<div>\n",
       "<style scoped>\n",
       "    .dataframe tbody tr th:only-of-type {\n",
       "        vertical-align: middle;\n",
       "    }\n",
       "\n",
       "    .dataframe tbody tr th {\n",
       "        vertical-align: top;\n",
       "    }\n",
       "\n",
       "    .dataframe thead th {\n",
       "        text-align: right;\n",
       "    }\n",
       "</style>\n",
       "<table border=\"1\" class=\"dataframe\">\n",
       "  <thead>\n",
       "    <tr style=\"text-align: right;\">\n",
       "      <th></th>\n",
       "      <th>W</th>\n",
       "      <th>X</th>\n",
       "      <th>Y</th>\n",
       "      <th>Z</th>\n",
       "      <th>Other</th>\n",
       "    </tr>\n",
       "  </thead>\n",
       "  <tbody>\n",
       "    <tr>\n",
       "      <th>A</th>\n",
       "      <td>-0.410090</td>\n",
       "      <td>0.162665</td>\n",
       "      <td>0.388813</td>\n",
       "      <td>-0.567844</td>\n",
       "      <td>-0.179032</td>\n",
       "    </tr>\n",
       "    <tr>\n",
       "      <th>B</th>\n",
       "      <td>0.443548</td>\n",
       "      <td>-0.457618</td>\n",
       "      <td>-0.617701</td>\n",
       "      <td>1.273738</td>\n",
       "      <td>0.656037</td>\n",
       "    </tr>\n",
       "    <tr>\n",
       "      <th>C</th>\n",
       "      <td>-1.273016</td>\n",
       "      <td>0.336221</td>\n",
       "      <td>1.457579</td>\n",
       "      <td>-0.196704</td>\n",
       "      <td>1.260875</td>\n",
       "    </tr>\n",
       "    <tr>\n",
       "      <th>D</th>\n",
       "      <td>-2.233890</td>\n",
       "      <td>-1.149824</td>\n",
       "      <td>1.914845</td>\n",
       "      <td>-0.206768</td>\n",
       "      <td>1.708077</td>\n",
       "    </tr>\n",
       "    <tr>\n",
       "      <th>E</th>\n",
       "      <td>-0.283420</td>\n",
       "      <td>-1.084131</td>\n",
       "      <td>0.510533</td>\n",
       "      <td>1.645422</td>\n",
       "      <td>2.155955</td>\n",
       "    </tr>\n",
       "  </tbody>\n",
       "</table>\n",
       "</div>"
      ],
      "text/plain": [
       "          W         X         Y         Z     Other\n",
       "A -0.410090  0.162665  0.388813 -0.567844 -0.179032\n",
       "B  0.443548 -0.457618 -0.617701  1.273738  0.656037\n",
       "C -1.273016  0.336221  1.457579 -0.196704  1.260875\n",
       "D -2.233890 -1.149824  1.914845 -0.206768  1.708077\n",
       "E -0.283420 -1.084131  0.510533  1.645422  2.155955"
      ]
     },
     "execution_count": 54,
     "metadata": {},
     "output_type": "execute_result"
    }
   ],
   "source": [
    "df.drop('Column Name', axis = 1)"
   ]
  },
  {
   "cell_type": "code",
   "execution_count": 60,
   "metadata": {},
   "outputs": [],
   "source": [
    "# df.drop('Column Name', axis = 1, inplace = True) # inplace = True removes the corresponding column permanently"
   ]
  },
  {
   "cell_type": "code",
   "execution_count": 61,
   "metadata": {},
   "outputs": [
    {
     "data": {
      "text/html": [
       "<div>\n",
       "<style scoped>\n",
       "    .dataframe tbody tr th:only-of-type {\n",
       "        vertical-align: middle;\n",
       "    }\n",
       "\n",
       "    .dataframe tbody tr th {\n",
       "        vertical-align: top;\n",
       "    }\n",
       "\n",
       "    .dataframe thead th {\n",
       "        text-align: right;\n",
       "    }\n",
       "</style>\n",
       "<table border=\"1\" class=\"dataframe\">\n",
       "  <thead>\n",
       "    <tr style=\"text-align: right;\">\n",
       "      <th></th>\n",
       "      <th>W</th>\n",
       "      <th>X</th>\n",
       "      <th>Y</th>\n",
       "      <th>Z</th>\n",
       "      <th>Other</th>\n",
       "    </tr>\n",
       "  </thead>\n",
       "  <tbody>\n",
       "    <tr>\n",
       "      <th>A</th>\n",
       "      <td>-0.410090</td>\n",
       "      <td>0.162665</td>\n",
       "      <td>0.388813</td>\n",
       "      <td>-0.567844</td>\n",
       "      <td>-0.179032</td>\n",
       "    </tr>\n",
       "    <tr>\n",
       "      <th>B</th>\n",
       "      <td>0.443548</td>\n",
       "      <td>-0.457618</td>\n",
       "      <td>-0.617701</td>\n",
       "      <td>1.273738</td>\n",
       "      <td>0.656037</td>\n",
       "    </tr>\n",
       "    <tr>\n",
       "      <th>C</th>\n",
       "      <td>-1.273016</td>\n",
       "      <td>0.336221</td>\n",
       "      <td>1.457579</td>\n",
       "      <td>-0.196704</td>\n",
       "      <td>1.260875</td>\n",
       "    </tr>\n",
       "    <tr>\n",
       "      <th>D</th>\n",
       "      <td>-2.233890</td>\n",
       "      <td>-1.149824</td>\n",
       "      <td>1.914845</td>\n",
       "      <td>-0.206768</td>\n",
       "      <td>1.708077</td>\n",
       "    </tr>\n",
       "    <tr>\n",
       "      <th>E</th>\n",
       "      <td>-0.283420</td>\n",
       "      <td>-1.084131</td>\n",
       "      <td>0.510533</td>\n",
       "      <td>1.645422</td>\n",
       "      <td>2.155955</td>\n",
       "    </tr>\n",
       "  </tbody>\n",
       "</table>\n",
       "</div>"
      ],
      "text/plain": [
       "          W         X         Y         Z     Other\n",
       "A -0.410090  0.162665  0.388813 -0.567844 -0.179032\n",
       "B  0.443548 -0.457618 -0.617701  1.273738  0.656037\n",
       "C -1.273016  0.336221  1.457579 -0.196704  1.260875\n",
       "D -2.233890 -1.149824  1.914845 -0.206768  1.708077\n",
       "E -0.283420 -1.084131  0.510533  1.645422  2.155955"
      ]
     },
     "execution_count": 61,
     "metadata": {},
     "output_type": "execute_result"
    }
   ],
   "source": [
    "df"
   ]
  },
  {
   "cell_type": "code",
   "execution_count": 62,
   "metadata": {},
   "outputs": [
    {
     "data": {
      "text/html": [
       "<div>\n",
       "<style scoped>\n",
       "    .dataframe tbody tr th:only-of-type {\n",
       "        vertical-align: middle;\n",
       "    }\n",
       "\n",
       "    .dataframe tbody tr th {\n",
       "        vertical-align: top;\n",
       "    }\n",
       "\n",
       "    .dataframe thead th {\n",
       "        text-align: right;\n",
       "    }\n",
       "</style>\n",
       "<table border=\"1\" class=\"dataframe\">\n",
       "  <thead>\n",
       "    <tr style=\"text-align: right;\">\n",
       "      <th></th>\n",
       "      <th>W</th>\n",
       "      <th>X</th>\n",
       "      <th>Y</th>\n",
       "      <th>Z</th>\n",
       "      <th>Other</th>\n",
       "    </tr>\n",
       "  </thead>\n",
       "  <tbody>\n",
       "    <tr>\n",
       "      <th>A</th>\n",
       "      <td>-0.410090</td>\n",
       "      <td>0.162665</td>\n",
       "      <td>0.388813</td>\n",
       "      <td>-0.567844</td>\n",
       "      <td>-0.179032</td>\n",
       "    </tr>\n",
       "    <tr>\n",
       "      <th>B</th>\n",
       "      <td>0.443548</td>\n",
       "      <td>-0.457618</td>\n",
       "      <td>-0.617701</td>\n",
       "      <td>1.273738</td>\n",
       "      <td>0.656037</td>\n",
       "    </tr>\n",
       "    <tr>\n",
       "      <th>C</th>\n",
       "      <td>-1.273016</td>\n",
       "      <td>0.336221</td>\n",
       "      <td>1.457579</td>\n",
       "      <td>-0.196704</td>\n",
       "      <td>1.260875</td>\n",
       "    </tr>\n",
       "    <tr>\n",
       "      <th>D</th>\n",
       "      <td>-2.233890</td>\n",
       "      <td>-1.149824</td>\n",
       "      <td>1.914845</td>\n",
       "      <td>-0.206768</td>\n",
       "      <td>1.708077</td>\n",
       "    </tr>\n",
       "  </tbody>\n",
       "</table>\n",
       "</div>"
      ],
      "text/plain": [
       "          W         X         Y         Z     Other\n",
       "A -0.410090  0.162665  0.388813 -0.567844 -0.179032\n",
       "B  0.443548 -0.457618 -0.617701  1.273738  0.656037\n",
       "C -1.273016  0.336221  1.457579 -0.196704  1.260875\n",
       "D -2.233890 -1.149824  1.914845 -0.206768  1.708077"
      ]
     },
     "execution_count": 62,
     "metadata": {},
     "output_type": "execute_result"
    }
   ],
   "source": [
    "# can also drop rows this way\n",
    "\n",
    "df.drop('E', axis = 0) # axis = 0,1 for rows,columns"
   ]
  },
  {
   "cell_type": "code",
   "execution_count": 64,
   "metadata": {},
   "outputs": [
    {
     "data": {
      "text/plain": [
       "W        0.443548\n",
       "X       -0.457618\n",
       "Y       -0.617701\n",
       "Z        1.273738\n",
       "Other    0.656037\n",
       "Name: B, dtype: float64"
      ]
     },
     "execution_count": 64,
     "metadata": {},
     "output_type": "execute_result"
    }
   ],
   "source": [
    "df.loc['B'] # grabs the row at index 'B'"
   ]
  },
  {
   "cell_type": "code",
   "execution_count": 66,
   "metadata": {},
   "outputs": [
    {
     "data": {
      "text/plain": [
       "W        0.443548\n",
       "X       -0.457618\n",
       "Y       -0.617701\n",
       "Z        1.273738\n",
       "Other    0.656037\n",
       "Name: B, dtype: float64"
      ]
     },
     "execution_count": 66,
     "metadata": {},
     "output_type": "execute_result"
    }
   ],
   "source": [
    "df.iloc[1] # reports back the row at index location 1 --> iloc = index location"
   ]
  },
  {
   "cell_type": "code",
   "execution_count": 67,
   "metadata": {},
   "outputs": [
    {
     "data": {
      "text/plain": [
       "A   -0.410090\n",
       "B    0.443548\n",
       "C   -1.273016\n",
       "D   -2.233890\n",
       "E   -0.283420\n",
       "Name: W, dtype: float64"
      ]
     },
     "execution_count": 67,
     "metadata": {},
     "output_type": "execute_result"
    }
   ],
   "source": [
    "# once more time\n",
    "\n",
    "# to grab a column we have\n",
    "\n",
    "df['W']"
   ]
  },
  {
   "cell_type": "code",
   "execution_count": 68,
   "metadata": {},
   "outputs": [
    {
     "data": {
      "text/html": [
       "<div>\n",
       "<style scoped>\n",
       "    .dataframe tbody tr th:only-of-type {\n",
       "        vertical-align: middle;\n",
       "    }\n",
       "\n",
       "    .dataframe tbody tr th {\n",
       "        vertical-align: top;\n",
       "    }\n",
       "\n",
       "    .dataframe thead th {\n",
       "        text-align: right;\n",
       "    }\n",
       "</style>\n",
       "<table border=\"1\" class=\"dataframe\">\n",
       "  <thead>\n",
       "    <tr style=\"text-align: right;\">\n",
       "      <th></th>\n",
       "      <th>W</th>\n",
       "      <th>X</th>\n",
       "    </tr>\n",
       "  </thead>\n",
       "  <tbody>\n",
       "    <tr>\n",
       "      <th>A</th>\n",
       "      <td>-0.410090</td>\n",
       "      <td>0.162665</td>\n",
       "    </tr>\n",
       "    <tr>\n",
       "      <th>B</th>\n",
       "      <td>0.443548</td>\n",
       "      <td>-0.457618</td>\n",
       "    </tr>\n",
       "    <tr>\n",
       "      <th>C</th>\n",
       "      <td>-1.273016</td>\n",
       "      <td>0.336221</td>\n",
       "    </tr>\n",
       "    <tr>\n",
       "      <th>D</th>\n",
       "      <td>-2.233890</td>\n",
       "      <td>-1.149824</td>\n",
       "    </tr>\n",
       "    <tr>\n",
       "      <th>E</th>\n",
       "      <td>-0.283420</td>\n",
       "      <td>-1.084131</td>\n",
       "    </tr>\n",
       "  </tbody>\n",
       "</table>\n",
       "</div>"
      ],
      "text/plain": [
       "          W         X\n",
       "A -0.410090  0.162665\n",
       "B  0.443548 -0.457618\n",
       "C -1.273016  0.336221\n",
       "D -2.233890 -1.149824\n",
       "E -0.283420 -1.084131"
      ]
     },
     "execution_count": 68,
     "metadata": {},
     "output_type": "execute_result"
    }
   ],
   "source": [
    "# to grab a list of columns we have\n",
    "\n",
    "df[['W','X']]"
   ]
  },
  {
   "cell_type": "code",
   "execution_count": 69,
   "metadata": {},
   "outputs": [
    {
     "data": {
      "text/html": [
       "<div>\n",
       "<style scoped>\n",
       "    .dataframe tbody tr th:only-of-type {\n",
       "        vertical-align: middle;\n",
       "    }\n",
       "\n",
       "    .dataframe tbody tr th {\n",
       "        vertical-align: top;\n",
       "    }\n",
       "\n",
       "    .dataframe thead th {\n",
       "        text-align: right;\n",
       "    }\n",
       "</style>\n",
       "<table border=\"1\" class=\"dataframe\">\n",
       "  <thead>\n",
       "    <tr style=\"text-align: right;\">\n",
       "      <th></th>\n",
       "      <th>X</th>\n",
       "      <th>Y</th>\n",
       "      <th>Z</th>\n",
       "      <th>Other</th>\n",
       "    </tr>\n",
       "  </thead>\n",
       "  <tbody>\n",
       "    <tr>\n",
       "      <th>A</th>\n",
       "      <td>0.162665</td>\n",
       "      <td>0.388813</td>\n",
       "      <td>-0.567844</td>\n",
       "      <td>-0.179032</td>\n",
       "    </tr>\n",
       "    <tr>\n",
       "      <th>B</th>\n",
       "      <td>-0.457618</td>\n",
       "      <td>-0.617701</td>\n",
       "      <td>1.273738</td>\n",
       "      <td>0.656037</td>\n",
       "    </tr>\n",
       "    <tr>\n",
       "      <th>C</th>\n",
       "      <td>0.336221</td>\n",
       "      <td>1.457579</td>\n",
       "      <td>-0.196704</td>\n",
       "      <td>1.260875</td>\n",
       "    </tr>\n",
       "    <tr>\n",
       "      <th>D</th>\n",
       "      <td>-1.149824</td>\n",
       "      <td>1.914845</td>\n",
       "      <td>-0.206768</td>\n",
       "      <td>1.708077</td>\n",
       "    </tr>\n",
       "    <tr>\n",
       "      <th>E</th>\n",
       "      <td>-1.084131</td>\n",
       "      <td>0.510533</td>\n",
       "      <td>1.645422</td>\n",
       "      <td>2.155955</td>\n",
       "    </tr>\n",
       "  </tbody>\n",
       "</table>\n",
       "</div>"
      ],
      "text/plain": [
       "          X         Y         Z     Other\n",
       "A  0.162665  0.388813 -0.567844 -0.179032\n",
       "B -0.457618 -0.617701  1.273738  0.656037\n",
       "C  0.336221  1.457579 -0.196704  1.260875\n",
       "D -1.149824  1.914845 -0.206768  1.708077\n",
       "E -1.084131  0.510533  1.645422  2.155955"
      ]
     },
     "execution_count": 69,
     "metadata": {},
     "output_type": "execute_result"
    }
   ],
   "source": [
    "# to drop a column we have\n",
    "\n",
    "df.drop('W',axis = 1)"
   ]
  },
  {
   "cell_type": "code",
   "execution_count": 70,
   "metadata": {},
   "outputs": [
    {
     "data": {
      "text/html": [
       "<div>\n",
       "<style scoped>\n",
       "    .dataframe tbody tr th:only-of-type {\n",
       "        vertical-align: middle;\n",
       "    }\n",
       "\n",
       "    .dataframe tbody tr th {\n",
       "        vertical-align: top;\n",
       "    }\n",
       "\n",
       "    .dataframe thead th {\n",
       "        text-align: right;\n",
       "    }\n",
       "</style>\n",
       "<table border=\"1\" class=\"dataframe\">\n",
       "  <thead>\n",
       "    <tr style=\"text-align: right;\">\n",
       "      <th></th>\n",
       "      <th>W</th>\n",
       "      <th>Z</th>\n",
       "      <th>Other</th>\n",
       "    </tr>\n",
       "  </thead>\n",
       "  <tbody>\n",
       "    <tr>\n",
       "      <th>A</th>\n",
       "      <td>-0.410090</td>\n",
       "      <td>-0.567844</td>\n",
       "      <td>-0.179032</td>\n",
       "    </tr>\n",
       "    <tr>\n",
       "      <th>B</th>\n",
       "      <td>0.443548</td>\n",
       "      <td>1.273738</td>\n",
       "      <td>0.656037</td>\n",
       "    </tr>\n",
       "    <tr>\n",
       "      <th>C</th>\n",
       "      <td>-1.273016</td>\n",
       "      <td>-0.196704</td>\n",
       "      <td>1.260875</td>\n",
       "    </tr>\n",
       "    <tr>\n",
       "      <th>D</th>\n",
       "      <td>-2.233890</td>\n",
       "      <td>-0.206768</td>\n",
       "      <td>1.708077</td>\n",
       "    </tr>\n",
       "    <tr>\n",
       "      <th>E</th>\n",
       "      <td>-0.283420</td>\n",
       "      <td>1.645422</td>\n",
       "      <td>2.155955</td>\n",
       "    </tr>\n",
       "  </tbody>\n",
       "</table>\n",
       "</div>"
      ],
      "text/plain": [
       "          W         Z     Other\n",
       "A -0.410090 -0.567844 -0.179032\n",
       "B  0.443548  1.273738  0.656037\n",
       "C -1.273016 -0.196704  1.260875\n",
       "D -2.233890 -0.206768  1.708077\n",
       "E -0.283420  1.645422  2.155955"
      ]
     },
     "execution_count": 70,
     "metadata": {},
     "output_type": "execute_result"
    }
   ],
   "source": [
    "# to drop a list of columns we have\n",
    "\n",
    "df.drop(['X','Y'], axis = 1)"
   ]
  },
  {
   "cell_type": "code",
   "execution_count": 71,
   "metadata": {},
   "outputs": [
    {
     "data": {
      "text/plain": [
       "W        0.443548\n",
       "X       -0.457618\n",
       "Y       -0.617701\n",
       "Z        1.273738\n",
       "Other    0.656037\n",
       "Name: B, dtype: float64"
      ]
     },
     "execution_count": 71,
     "metadata": {},
     "output_type": "execute_result"
    }
   ],
   "source": [
    "# to grab a row we have\n",
    "\n",
    "df.loc['B']"
   ]
  },
  {
   "cell_type": "code",
   "execution_count": 72,
   "metadata": {},
   "outputs": [
    {
     "data": {
      "text/plain": [
       "W       -1.273016\n",
       "X        0.336221\n",
       "Y        1.457579\n",
       "Z       -0.196704\n",
       "Other    1.260875\n",
       "Name: C, dtype: float64"
      ]
     },
     "execution_count": 72,
     "metadata": {},
     "output_type": "execute_result"
    }
   ],
   "source": [
    "# again\n",
    "\n",
    "df.loc['C']"
   ]
  },
  {
   "cell_type": "code",
   "execution_count": 74,
   "metadata": {},
   "outputs": [
    {
     "data": {
      "text/plain": [
       "W       -1.273016\n",
       "X        0.336221\n",
       "Y        1.457579\n",
       "Z       -0.196704\n",
       "Other    1.260875\n",
       "Name: C, dtype: float64"
      ]
     },
     "execution_count": 74,
     "metadata": {},
     "output_type": "execute_result"
    }
   ],
   "source": [
    "# we can also grab rows from index locations\n",
    "\n",
    "df.iloc[2]"
   ]
  },
  {
   "cell_type": "code",
   "execution_count": 75,
   "metadata": {},
   "outputs": [
    {
     "data": {
      "text/plain": [
       "W       -2.233890\n",
       "X       -1.149824\n",
       "Y        1.914845\n",
       "Z       -0.206768\n",
       "Other    1.708077\n",
       "Name: D, dtype: float64"
      ]
     },
     "execution_count": 75,
     "metadata": {},
     "output_type": "execute_result"
    }
   ],
   "source": [
    "df.iloc[3]"
   ]
  },
  {
   "cell_type": "code",
   "execution_count": 77,
   "metadata": {},
   "outputs": [
    {
     "data": {
      "text/html": [
       "<div>\n",
       "<style scoped>\n",
       "    .dataframe tbody tr th:only-of-type {\n",
       "        vertical-align: middle;\n",
       "    }\n",
       "\n",
       "    .dataframe tbody tr th {\n",
       "        vertical-align: top;\n",
       "    }\n",
       "\n",
       "    .dataframe thead th {\n",
       "        text-align: right;\n",
       "    }\n",
       "</style>\n",
       "<table border=\"1\" class=\"dataframe\">\n",
       "  <thead>\n",
       "    <tr style=\"text-align: right;\">\n",
       "      <th></th>\n",
       "      <th>W</th>\n",
       "      <th>X</th>\n",
       "      <th>Y</th>\n",
       "      <th>Z</th>\n",
       "      <th>Other</th>\n",
       "    </tr>\n",
       "  </thead>\n",
       "  <tbody>\n",
       "    <tr>\n",
       "      <th>E</th>\n",
       "      <td>-0.28342</td>\n",
       "      <td>-1.084131</td>\n",
       "      <td>0.510533</td>\n",
       "      <td>1.645422</td>\n",
       "      <td>2.155955</td>\n",
       "    </tr>\n",
       "    <tr>\n",
       "      <th>D</th>\n",
       "      <td>-2.23389</td>\n",
       "      <td>-1.149824</td>\n",
       "      <td>1.914845</td>\n",
       "      <td>-0.206768</td>\n",
       "      <td>1.708077</td>\n",
       "    </tr>\n",
       "  </tbody>\n",
       "</table>\n",
       "</div>"
      ],
      "text/plain": [
       "         W         X         Y         Z     Other\n",
       "E -0.28342 -1.084131  0.510533  1.645422  2.155955\n",
       "D -2.23389 -1.149824  1.914845 -0.206768  1.708077"
      ]
     },
     "execution_count": 77,
     "metadata": {},
     "output_type": "execute_result"
    }
   ],
   "source": [
    "# to grab list of rows we have\n",
    "\n",
    "df.loc[['E','D']]\n"
   ]
  },
  {
   "cell_type": "code",
   "execution_count": 79,
   "metadata": {},
   "outputs": [
    {
     "data": {
      "text/html": [
       "<div>\n",
       "<style scoped>\n",
       "    .dataframe tbody tr th:only-of-type {\n",
       "        vertical-align: middle;\n",
       "    }\n",
       "\n",
       "    .dataframe tbody tr th {\n",
       "        vertical-align: top;\n",
       "    }\n",
       "\n",
       "    .dataframe thead th {\n",
       "        text-align: right;\n",
       "    }\n",
       "</style>\n",
       "<table border=\"1\" class=\"dataframe\">\n",
       "  <thead>\n",
       "    <tr style=\"text-align: right;\">\n",
       "      <th></th>\n",
       "      <th>W</th>\n",
       "      <th>X</th>\n",
       "      <th>Y</th>\n",
       "      <th>Z</th>\n",
       "      <th>Other</th>\n",
       "    </tr>\n",
       "  </thead>\n",
       "  <tbody>\n",
       "    <tr>\n",
       "      <th>C</th>\n",
       "      <td>-1.273016</td>\n",
       "      <td>0.336221</td>\n",
       "      <td>1.457579</td>\n",
       "      <td>-0.196704</td>\n",
       "      <td>1.260875</td>\n",
       "    </tr>\n",
       "    <tr>\n",
       "      <th>D</th>\n",
       "      <td>-2.233890</td>\n",
       "      <td>-1.149824</td>\n",
       "      <td>1.914845</td>\n",
       "      <td>-0.206768</td>\n",
       "      <td>1.708077</td>\n",
       "    </tr>\n",
       "  </tbody>\n",
       "</table>\n",
       "</div>"
      ],
      "text/plain": [
       "          W         X         Y         Z     Other\n",
       "C -1.273016  0.336221  1.457579 -0.196704  1.260875\n",
       "D -2.233890 -1.149824  1.914845 -0.206768  1.708077"
      ]
     },
     "execution_count": 79,
     "metadata": {},
     "output_type": "execute_result"
    }
   ],
   "source": [
    "# to grab a list of row using index location\n",
    "\n",
    "df.iloc[[2,3]]"
   ]
  },
  {
   "cell_type": "code",
   "execution_count": 80,
   "metadata": {},
   "outputs": [
    {
     "data": {
      "text/html": [
       "<div>\n",
       "<style scoped>\n",
       "    .dataframe tbody tr th:only-of-type {\n",
       "        vertical-align: middle;\n",
       "    }\n",
       "\n",
       "    .dataframe tbody tr th {\n",
       "        vertical-align: top;\n",
       "    }\n",
       "\n",
       "    .dataframe thead th {\n",
       "        text-align: right;\n",
       "    }\n",
       "</style>\n",
       "<table border=\"1\" class=\"dataframe\">\n",
       "  <thead>\n",
       "    <tr style=\"text-align: right;\">\n",
       "      <th></th>\n",
       "      <th>W</th>\n",
       "      <th>X</th>\n",
       "      <th>Y</th>\n",
       "      <th>Z</th>\n",
       "      <th>Other</th>\n",
       "    </tr>\n",
       "  </thead>\n",
       "  <tbody>\n",
       "    <tr>\n",
       "      <th>A</th>\n",
       "      <td>-0.410090</td>\n",
       "      <td>0.162665</td>\n",
       "      <td>0.388813</td>\n",
       "      <td>-0.567844</td>\n",
       "      <td>-0.179032</td>\n",
       "    </tr>\n",
       "    <tr>\n",
       "      <th>B</th>\n",
       "      <td>0.443548</td>\n",
       "      <td>-0.457618</td>\n",
       "      <td>-0.617701</td>\n",
       "      <td>1.273738</td>\n",
       "      <td>0.656037</td>\n",
       "    </tr>\n",
       "    <tr>\n",
       "      <th>C</th>\n",
       "      <td>-1.273016</td>\n",
       "      <td>0.336221</td>\n",
       "      <td>1.457579</td>\n",
       "      <td>-0.196704</td>\n",
       "      <td>1.260875</td>\n",
       "    </tr>\n",
       "    <tr>\n",
       "      <th>D</th>\n",
       "      <td>-2.233890</td>\n",
       "      <td>-1.149824</td>\n",
       "      <td>1.914845</td>\n",
       "      <td>-0.206768</td>\n",
       "      <td>1.708077</td>\n",
       "    </tr>\n",
       "  </tbody>\n",
       "</table>\n",
       "</div>"
      ],
      "text/plain": [
       "          W         X         Y         Z     Other\n",
       "A -0.410090  0.162665  0.388813 -0.567844 -0.179032\n",
       "B  0.443548 -0.457618 -0.617701  1.273738  0.656037\n",
       "C -1.273016  0.336221  1.457579 -0.196704  1.260875\n",
       "D -2.233890 -1.149824  1.914845 -0.206768  1.708077"
      ]
     },
     "execution_count": 80,
     "metadata": {},
     "output_type": "execute_result"
    }
   ],
   "source": [
    "# to drop a row\n",
    "\n",
    "df.drop('E', axis = 0)"
   ]
  },
  {
   "cell_type": "code",
   "execution_count": 81,
   "metadata": {},
   "outputs": [
    {
     "data": {
      "text/html": [
       "<div>\n",
       "<style scoped>\n",
       "    .dataframe tbody tr th:only-of-type {\n",
       "        vertical-align: middle;\n",
       "    }\n",
       "\n",
       "    .dataframe tbody tr th {\n",
       "        vertical-align: top;\n",
       "    }\n",
       "\n",
       "    .dataframe thead th {\n",
       "        text-align: right;\n",
       "    }\n",
       "</style>\n",
       "<table border=\"1\" class=\"dataframe\">\n",
       "  <thead>\n",
       "    <tr style=\"text-align: right;\">\n",
       "      <th></th>\n",
       "      <th>W</th>\n",
       "      <th>X</th>\n",
       "      <th>Y</th>\n",
       "      <th>Z</th>\n",
       "      <th>Other</th>\n",
       "    </tr>\n",
       "  </thead>\n",
       "  <tbody>\n",
       "    <tr>\n",
       "      <th>A</th>\n",
       "      <td>-0.410090</td>\n",
       "      <td>0.162665</td>\n",
       "      <td>0.388813</td>\n",
       "      <td>-0.567844</td>\n",
       "      <td>-0.179032</td>\n",
       "    </tr>\n",
       "    <tr>\n",
       "      <th>B</th>\n",
       "      <td>0.443548</td>\n",
       "      <td>-0.457618</td>\n",
       "      <td>-0.617701</td>\n",
       "      <td>1.273738</td>\n",
       "      <td>0.656037</td>\n",
       "    </tr>\n",
       "    <tr>\n",
       "      <th>C</th>\n",
       "      <td>-1.273016</td>\n",
       "      <td>0.336221</td>\n",
       "      <td>1.457579</td>\n",
       "      <td>-0.196704</td>\n",
       "      <td>1.260875</td>\n",
       "    </tr>\n",
       "  </tbody>\n",
       "</table>\n",
       "</div>"
      ],
      "text/plain": [
       "          W         X         Y         Z     Other\n",
       "A -0.410090  0.162665  0.388813 -0.567844 -0.179032\n",
       "B  0.443548 -0.457618 -0.617701  1.273738  0.656037\n",
       "C -1.273016  0.336221  1.457579 -0.196704  1.260875"
      ]
     },
     "execution_count": 81,
     "metadata": {},
     "output_type": "execute_result"
    }
   ],
   "source": [
    "# to drop list of rows\n",
    "\n",
    "df.drop(['E','D'], axis = 0)"
   ]
  },
  {
   "cell_type": "code",
   "execution_count": 83,
   "metadata": {},
   "outputs": [
    {
     "data": {
      "text/plain": [
       "W       -0.283420\n",
       "X       -1.084131\n",
       "Y        0.510533\n",
       "Z        1.645422\n",
       "Other    2.155955\n",
       "Name: E, dtype: float64"
      ]
     },
     "execution_count": 83,
     "metadata": {},
     "output_type": "execute_result"
    }
   ],
   "source": [
    "# grab a row\n",
    "\n",
    "df.loc['E']"
   ]
  },
  {
   "cell_type": "code",
   "execution_count": 84,
   "metadata": {},
   "outputs": [
    {
     "data": {
      "text/plain": [
       "A   -0.410090\n",
       "B    0.443548\n",
       "C   -1.273016\n",
       "D   -2.233890\n",
       "E   -0.283420\n",
       "Name: W, dtype: float64"
      ]
     },
     "execution_count": 84,
     "metadata": {},
     "output_type": "execute_result"
    }
   ],
   "source": [
    "# grab a column\n",
    "\n",
    "df['W']"
   ]
  },
  {
   "cell_type": "code",
   "execution_count": 85,
   "metadata": {},
   "outputs": [
    {
     "data": {
      "text/plain": [
       "W       -2.233890\n",
       "X       -1.149824\n",
       "Y        1.914845\n",
       "Z       -0.206768\n",
       "Other    1.708077\n",
       "Name: D, dtype: float64"
      ]
     },
     "execution_count": 85,
     "metadata": {},
     "output_type": "execute_result"
    }
   ],
   "source": [
    "# grab a row at index 3\n",
    "\n",
    "df.iloc[3]"
   ]
  },
  {
   "cell_type": "code",
   "execution_count": 86,
   "metadata": {},
   "outputs": [
    {
     "data": {
      "text/html": [
       "<div>\n",
       "<style scoped>\n",
       "    .dataframe tbody tr th:only-of-type {\n",
       "        vertical-align: middle;\n",
       "    }\n",
       "\n",
       "    .dataframe tbody tr th {\n",
       "        vertical-align: top;\n",
       "    }\n",
       "\n",
       "    .dataframe thead th {\n",
       "        text-align: right;\n",
       "    }\n",
       "</style>\n",
       "<table border=\"1\" class=\"dataframe\">\n",
       "  <thead>\n",
       "    <tr style=\"text-align: right;\">\n",
       "      <th></th>\n",
       "      <th>W</th>\n",
       "      <th>X</th>\n",
       "      <th>Y</th>\n",
       "      <th>Z</th>\n",
       "      <th>Other</th>\n",
       "    </tr>\n",
       "  </thead>\n",
       "  <tbody>\n",
       "    <tr>\n",
       "      <th>E</th>\n",
       "      <td>-0.28342</td>\n",
       "      <td>-1.084131</td>\n",
       "      <td>0.510533</td>\n",
       "      <td>1.645422</td>\n",
       "      <td>2.155955</td>\n",
       "    </tr>\n",
       "    <tr>\n",
       "      <th>D</th>\n",
       "      <td>-2.23389</td>\n",
       "      <td>-1.149824</td>\n",
       "      <td>1.914845</td>\n",
       "      <td>-0.206768</td>\n",
       "      <td>1.708077</td>\n",
       "    </tr>\n",
       "  </tbody>\n",
       "</table>\n",
       "</div>"
      ],
      "text/plain": [
       "         W         X         Y         Z     Other\n",
       "E -0.28342 -1.084131  0.510533  1.645422  2.155955\n",
       "D -2.23389 -1.149824  1.914845 -0.206768  1.708077"
      ]
     },
     "execution_count": 86,
     "metadata": {},
     "output_type": "execute_result"
    }
   ],
   "source": [
    "# grab a list of rows\n",
    "\n",
    "df.loc[['E','D']]"
   ]
  },
  {
   "cell_type": "code",
   "execution_count": 87,
   "metadata": {},
   "outputs": [
    {
     "data": {
      "text/html": [
       "<div>\n",
       "<style scoped>\n",
       "    .dataframe tbody tr th:only-of-type {\n",
       "        vertical-align: middle;\n",
       "    }\n",
       "\n",
       "    .dataframe tbody tr th {\n",
       "        vertical-align: top;\n",
       "    }\n",
       "\n",
       "    .dataframe thead th {\n",
       "        text-align: right;\n",
       "    }\n",
       "</style>\n",
       "<table border=\"1\" class=\"dataframe\">\n",
       "  <thead>\n",
       "    <tr style=\"text-align: right;\">\n",
       "      <th></th>\n",
       "      <th>W</th>\n",
       "      <th>X</th>\n",
       "    </tr>\n",
       "  </thead>\n",
       "  <tbody>\n",
       "    <tr>\n",
       "      <th>A</th>\n",
       "      <td>-0.410090</td>\n",
       "      <td>0.162665</td>\n",
       "    </tr>\n",
       "    <tr>\n",
       "      <th>B</th>\n",
       "      <td>0.443548</td>\n",
       "      <td>-0.457618</td>\n",
       "    </tr>\n",
       "    <tr>\n",
       "      <th>C</th>\n",
       "      <td>-1.273016</td>\n",
       "      <td>0.336221</td>\n",
       "    </tr>\n",
       "    <tr>\n",
       "      <th>D</th>\n",
       "      <td>-2.233890</td>\n",
       "      <td>-1.149824</td>\n",
       "    </tr>\n",
       "    <tr>\n",
       "      <th>E</th>\n",
       "      <td>-0.283420</td>\n",
       "      <td>-1.084131</td>\n",
       "    </tr>\n",
       "  </tbody>\n",
       "</table>\n",
       "</div>"
      ],
      "text/plain": [
       "          W         X\n",
       "A -0.410090  0.162665\n",
       "B  0.443548 -0.457618\n",
       "C -1.273016  0.336221\n",
       "D -2.233890 -1.149824\n",
       "E -0.283420 -1.084131"
      ]
     },
     "execution_count": 87,
     "metadata": {},
     "output_type": "execute_result"
    }
   ],
   "source": [
    "# grab a list of columns\n",
    "\n",
    "df[['W','X']]"
   ]
  },
  {
   "cell_type": "markdown",
   "metadata": {},
   "source": [
    "## Selecting subsets of rows and columns:"
   ]
  },
  {
   "cell_type": "code",
   "execution_count": 88,
   "metadata": {},
   "outputs": [
    {
     "data": {
      "text/plain": [
       "-0.6177010607121989"
      ]
     },
     "execution_count": 88,
     "metadata": {},
     "output_type": "execute_result"
    }
   ],
   "source": [
    "df.loc['B','Y'] # 'B' represents row 'B' and 'Y' represents columns 'Y'"
   ]
  },
  {
   "cell_type": "code",
   "execution_count": 90,
   "metadata": {},
   "outputs": [
    {
     "data": {
      "text/html": [
       "<div>\n",
       "<style scoped>\n",
       "    .dataframe tbody tr th:only-of-type {\n",
       "        vertical-align: middle;\n",
       "    }\n",
       "\n",
       "    .dataframe tbody tr th {\n",
       "        vertical-align: top;\n",
       "    }\n",
       "\n",
       "    .dataframe thead th {\n",
       "        text-align: right;\n",
       "    }\n",
       "</style>\n",
       "<table border=\"1\" class=\"dataframe\">\n",
       "  <thead>\n",
       "    <tr style=\"text-align: right;\">\n",
       "      <th></th>\n",
       "      <th>W</th>\n",
       "      <th>X</th>\n",
       "      <th>Y</th>\n",
       "      <th>Z</th>\n",
       "      <th>Other</th>\n",
       "    </tr>\n",
       "  </thead>\n",
       "  <tbody>\n",
       "    <tr>\n",
       "      <th>A</th>\n",
       "      <td>-0.410090</td>\n",
       "      <td>0.162665</td>\n",
       "      <td>0.388813</td>\n",
       "      <td>-0.567844</td>\n",
       "      <td>-0.179032</td>\n",
       "    </tr>\n",
       "    <tr>\n",
       "      <th>B</th>\n",
       "      <td>0.443548</td>\n",
       "      <td>-0.457618</td>\n",
       "      <td>-0.617701</td>\n",
       "      <td>1.273738</td>\n",
       "      <td>0.656037</td>\n",
       "    </tr>\n",
       "    <tr>\n",
       "      <th>C</th>\n",
       "      <td>-1.273016</td>\n",
       "      <td>0.336221</td>\n",
       "      <td>1.457579</td>\n",
       "      <td>-0.196704</td>\n",
       "      <td>1.260875</td>\n",
       "    </tr>\n",
       "    <tr>\n",
       "      <th>D</th>\n",
       "      <td>-2.233890</td>\n",
       "      <td>-1.149824</td>\n",
       "      <td>1.914845</td>\n",
       "      <td>-0.206768</td>\n",
       "      <td>1.708077</td>\n",
       "    </tr>\n",
       "    <tr>\n",
       "      <th>E</th>\n",
       "      <td>-0.283420</td>\n",
       "      <td>-1.084131</td>\n",
       "      <td>0.510533</td>\n",
       "      <td>1.645422</td>\n",
       "      <td>2.155955</td>\n",
       "    </tr>\n",
       "  </tbody>\n",
       "</table>\n",
       "</div>"
      ],
      "text/plain": [
       "          W         X         Y         Z     Other\n",
       "A -0.410090  0.162665  0.388813 -0.567844 -0.179032\n",
       "B  0.443548 -0.457618 -0.617701  1.273738  0.656037\n",
       "C -1.273016  0.336221  1.457579 -0.196704  1.260875\n",
       "D -2.233890 -1.149824  1.914845 -0.206768  1.708077\n",
       "E -0.283420 -1.084131  0.510533  1.645422  2.155955"
      ]
     },
     "execution_count": 90,
     "metadata": {},
     "output_type": "execute_result"
    }
   ],
   "source": [
    "df # just for confirmation"
   ]
  },
  {
   "cell_type": "code",
   "execution_count": 91,
   "metadata": {},
   "outputs": [
    {
     "data": {
      "text/plain": [
       "Index(['W', 'X', 'Y', 'Z', 'Other'], dtype='object')"
      ]
     },
     "execution_count": 91,
     "metadata": {},
     "output_type": "execute_result"
    }
   ],
   "source": [
    "# similarly \n",
    "\n",
    "df.columns"
   ]
  },
  {
   "cell_type": "code",
   "execution_count": 92,
   "metadata": {},
   "outputs": [],
   "source": [
    "# lets change the tagging of columns in order to better understand what we are gonna do with our DataFrame"
   ]
  },
  {
   "cell_type": "code",
   "execution_count": 94,
   "metadata": {},
   "outputs": [],
   "source": [
    "df.columns = [1,2,3,4,5]"
   ]
  },
  {
   "cell_type": "code",
   "execution_count": 95,
   "metadata": {},
   "outputs": [
    {
     "data": {
      "text/html": [
       "<div>\n",
       "<style scoped>\n",
       "    .dataframe tbody tr th:only-of-type {\n",
       "        vertical-align: middle;\n",
       "    }\n",
       "\n",
       "    .dataframe tbody tr th {\n",
       "        vertical-align: top;\n",
       "    }\n",
       "\n",
       "    .dataframe thead th {\n",
       "        text-align: right;\n",
       "    }\n",
       "</style>\n",
       "<table border=\"1\" class=\"dataframe\">\n",
       "  <thead>\n",
       "    <tr style=\"text-align: right;\">\n",
       "      <th></th>\n",
       "      <th>1</th>\n",
       "      <th>2</th>\n",
       "      <th>3</th>\n",
       "      <th>4</th>\n",
       "      <th>5</th>\n",
       "    </tr>\n",
       "  </thead>\n",
       "  <tbody>\n",
       "    <tr>\n",
       "      <th>A</th>\n",
       "      <td>-0.410090</td>\n",
       "      <td>0.162665</td>\n",
       "      <td>0.388813</td>\n",
       "      <td>-0.567844</td>\n",
       "      <td>-0.179032</td>\n",
       "    </tr>\n",
       "    <tr>\n",
       "      <th>B</th>\n",
       "      <td>0.443548</td>\n",
       "      <td>-0.457618</td>\n",
       "      <td>-0.617701</td>\n",
       "      <td>1.273738</td>\n",
       "      <td>0.656037</td>\n",
       "    </tr>\n",
       "    <tr>\n",
       "      <th>C</th>\n",
       "      <td>-1.273016</td>\n",
       "      <td>0.336221</td>\n",
       "      <td>1.457579</td>\n",
       "      <td>-0.196704</td>\n",
       "      <td>1.260875</td>\n",
       "    </tr>\n",
       "    <tr>\n",
       "      <th>D</th>\n",
       "      <td>-2.233890</td>\n",
       "      <td>-1.149824</td>\n",
       "      <td>1.914845</td>\n",
       "      <td>-0.206768</td>\n",
       "      <td>1.708077</td>\n",
       "    </tr>\n",
       "    <tr>\n",
       "      <th>E</th>\n",
       "      <td>-0.283420</td>\n",
       "      <td>-1.084131</td>\n",
       "      <td>0.510533</td>\n",
       "      <td>1.645422</td>\n",
       "      <td>2.155955</td>\n",
       "    </tr>\n",
       "  </tbody>\n",
       "</table>\n",
       "</div>"
      ],
      "text/plain": [
       "          1         2         3         4         5\n",
       "A -0.410090  0.162665  0.388813 -0.567844 -0.179032\n",
       "B  0.443548 -0.457618 -0.617701  1.273738  0.656037\n",
       "C -1.273016  0.336221  1.457579 -0.196704  1.260875\n",
       "D -2.233890 -1.149824  1.914845 -0.206768  1.708077\n",
       "E -0.283420 -1.084131  0.510533  1.645422  2.155955"
      ]
     },
     "execution_count": 95,
     "metadata": {},
     "output_type": "execute_result"
    }
   ],
   "source": [
    "df"
   ]
  },
  {
   "cell_type": "code",
   "execution_count": 96,
   "metadata": {},
   "outputs": [
    {
     "data": {
      "text/html": [
       "<div>\n",
       "<style scoped>\n",
       "    .dataframe tbody tr th:only-of-type {\n",
       "        vertical-align: middle;\n",
       "    }\n",
       "\n",
       "    .dataframe tbody tr th {\n",
       "        vertical-align: top;\n",
       "    }\n",
       "\n",
       "    .dataframe thead th {\n",
       "        text-align: right;\n",
       "    }\n",
       "</style>\n",
       "<table border=\"1\" class=\"dataframe\">\n",
       "  <thead>\n",
       "    <tr style=\"text-align: right;\">\n",
       "      <th></th>\n",
       "      <th>1</th>\n",
       "      <th>2</th>\n",
       "      <th>3</th>\n",
       "      <th>4</th>\n",
       "      <th>5</th>\n",
       "    </tr>\n",
       "  </thead>\n",
       "  <tbody>\n",
       "    <tr>\n",
       "      <th>A</th>\n",
       "      <td>-0.410090</td>\n",
       "      <td>0.162665</td>\n",
       "      <td>0.388813</td>\n",
       "      <td>-0.567844</td>\n",
       "      <td>-0.179032</td>\n",
       "    </tr>\n",
       "    <tr>\n",
       "      <th>B</th>\n",
       "      <td>0.443548</td>\n",
       "      <td>-0.457618</td>\n",
       "      <td>-0.617701</td>\n",
       "      <td>1.273738</td>\n",
       "      <td>0.656037</td>\n",
       "    </tr>\n",
       "    <tr>\n",
       "      <th>C</th>\n",
       "      <td>-1.273016</td>\n",
       "      <td>0.336221</td>\n",
       "      <td>1.457579</td>\n",
       "      <td>-0.196704</td>\n",
       "      <td>1.260875</td>\n",
       "    </tr>\n",
       "    <tr>\n",
       "      <th>D</th>\n",
       "      <td>-2.233890</td>\n",
       "      <td>-1.149824</td>\n",
       "      <td>1.914845</td>\n",
       "      <td>-0.206768</td>\n",
       "      <td>1.708077</td>\n",
       "    </tr>\n",
       "    <tr>\n",
       "      <th>E</th>\n",
       "      <td>-0.283420</td>\n",
       "      <td>-1.084131</td>\n",
       "      <td>0.510533</td>\n",
       "      <td>1.645422</td>\n",
       "      <td>2.155955</td>\n",
       "    </tr>\n",
       "  </tbody>\n",
       "</table>\n",
       "</div>"
      ],
      "text/plain": [
       "          1         2         3         4         5\n",
       "A -0.410090  0.162665  0.388813 -0.567844 -0.179032\n",
       "B  0.443548 -0.457618 -0.617701  1.273738  0.656037\n",
       "C -1.273016  0.336221  1.457579 -0.196704  1.260875\n",
       "D -2.233890 -1.149824  1.914845 -0.206768  1.708077\n",
       "E -0.283420 -1.084131  0.510533  1.645422  2.155955"
      ]
     },
     "execution_count": 96,
     "metadata": {},
     "output_type": "execute_result"
    }
   ],
   "source": [
    "df.head()"
   ]
  },
  {
   "cell_type": "code",
   "execution_count": 98,
   "metadata": {},
   "outputs": [
    {
     "data": {
      "text/plain": [
       "-0.20676825721008243"
      ]
     },
     "execution_count": 98,
     "metadata": {},
     "output_type": "execute_result"
    }
   ],
   "source": [
    "# now lets grab the chunks of values from our DataFrame\n",
    "\n",
    "# row --> D, column --> 4\n",
    "\n",
    "df.loc['D',4]  # reports back the above mentioned value"
   ]
  },
  {
   "cell_type": "code",
   "execution_count": 99,
   "metadata": {},
   "outputs": [
    {
     "data": {
      "text/plain": [
       "-1.084131487310038"
      ]
     },
     "execution_count": 99,
     "metadata": {},
     "output_type": "execute_result"
    }
   ],
   "source": [
    "# row -> E, column -> 2\n",
    "\n",
    "df.loc['E',2]"
   ]
  },
  {
   "cell_type": "code",
   "execution_count": 102,
   "metadata": {},
   "outputs": [
    {
     "data": {
      "text/plain": [
       "numpy.float64"
      ]
     },
     "execution_count": 102,
     "metadata": {},
     "output_type": "execute_result"
    }
   ],
   "source": [
    "type(df.loc['D',1])  # float integer of 64 bits"
   ]
  },
  {
   "cell_type": "code",
   "execution_count": 103,
   "metadata": {},
   "outputs": [
    {
     "data": {
      "text/html": [
       "<div>\n",
       "<style scoped>\n",
       "    .dataframe tbody tr th:only-of-type {\n",
       "        vertical-align: middle;\n",
       "    }\n",
       "\n",
       "    .dataframe tbody tr th {\n",
       "        vertical-align: top;\n",
       "    }\n",
       "\n",
       "    .dataframe thead th {\n",
       "        text-align: right;\n",
       "    }\n",
       "</style>\n",
       "<table border=\"1\" class=\"dataframe\">\n",
       "  <thead>\n",
       "    <tr style=\"text-align: right;\">\n",
       "      <th></th>\n",
       "      <th>1</th>\n",
       "      <th>2</th>\n",
       "    </tr>\n",
       "  </thead>\n",
       "  <tbody>\n",
       "    <tr>\n",
       "      <th>A</th>\n",
       "      <td>-0.410090</td>\n",
       "      <td>0.162665</td>\n",
       "    </tr>\n",
       "    <tr>\n",
       "      <th>B</th>\n",
       "      <td>0.443548</td>\n",
       "      <td>-0.457618</td>\n",
       "    </tr>\n",
       "  </tbody>\n",
       "</table>\n",
       "</div>"
      ],
      "text/plain": [
       "          1         2\n",
       "A -0.410090  0.162665\n",
       "B  0.443548 -0.457618"
      ]
     },
     "execution_count": 103,
     "metadata": {},
     "output_type": "execute_result"
    }
   ],
   "source": [
    "# now we want to grab chunks of our DataFrame rather than individual values\n",
    "\n",
    "df.loc[['A','B'],[1,2]] # reports back rows --> A,B and columns --> 1,2"
   ]
  },
  {
   "cell_type": "code",
   "execution_count": 104,
   "metadata": {},
   "outputs": [
    {
     "data": {
      "text/html": [
       "<div>\n",
       "<style scoped>\n",
       "    .dataframe tbody tr th:only-of-type {\n",
       "        vertical-align: middle;\n",
       "    }\n",
       "\n",
       "    .dataframe tbody tr th {\n",
       "        vertical-align: top;\n",
       "    }\n",
       "\n",
       "    .dataframe thead th {\n",
       "        text-align: right;\n",
       "    }\n",
       "</style>\n",
       "<table border=\"1\" class=\"dataframe\">\n",
       "  <thead>\n",
       "    <tr style=\"text-align: right;\">\n",
       "      <th></th>\n",
       "      <th>1</th>\n",
       "      <th>2</th>\n",
       "      <th>3</th>\n",
       "      <th>4</th>\n",
       "      <th>5</th>\n",
       "    </tr>\n",
       "  </thead>\n",
       "  <tbody>\n",
       "    <tr>\n",
       "      <th>A</th>\n",
       "      <td>-0.410090</td>\n",
       "      <td>0.162665</td>\n",
       "      <td>0.388813</td>\n",
       "      <td>-0.567844</td>\n",
       "      <td>-0.179032</td>\n",
       "    </tr>\n",
       "    <tr>\n",
       "      <th>B</th>\n",
       "      <td>0.443548</td>\n",
       "      <td>-0.457618</td>\n",
       "      <td>-0.617701</td>\n",
       "      <td>1.273738</td>\n",
       "      <td>0.656037</td>\n",
       "    </tr>\n",
       "    <tr>\n",
       "      <th>C</th>\n",
       "      <td>-1.273016</td>\n",
       "      <td>0.336221</td>\n",
       "      <td>1.457579</td>\n",
       "      <td>-0.196704</td>\n",
       "      <td>1.260875</td>\n",
       "    </tr>\n",
       "    <tr>\n",
       "      <th>D</th>\n",
       "      <td>-2.233890</td>\n",
       "      <td>-1.149824</td>\n",
       "      <td>1.914845</td>\n",
       "      <td>-0.206768</td>\n",
       "      <td>1.708077</td>\n",
       "    </tr>\n",
       "    <tr>\n",
       "      <th>E</th>\n",
       "      <td>-0.283420</td>\n",
       "      <td>-1.084131</td>\n",
       "      <td>0.510533</td>\n",
       "      <td>1.645422</td>\n",
       "      <td>2.155955</td>\n",
       "    </tr>\n",
       "  </tbody>\n",
       "</table>\n",
       "</div>"
      ],
      "text/plain": [
       "          1         2         3         4         5\n",
       "A -0.410090  0.162665  0.388813 -0.567844 -0.179032\n",
       "B  0.443548 -0.457618 -0.617701  1.273738  0.656037\n",
       "C -1.273016  0.336221  1.457579 -0.196704  1.260875\n",
       "D -2.233890 -1.149824  1.914845 -0.206768  1.708077\n",
       "E -0.283420 -1.084131  0.510533  1.645422  2.155955"
      ]
     },
     "execution_count": 104,
     "metadata": {},
     "output_type": "execute_result"
    }
   ],
   "source": [
    "df"
   ]
  },
  {
   "cell_type": "code",
   "execution_count": 105,
   "metadata": {},
   "outputs": [
    {
     "data": {
      "text/html": [
       "<div>\n",
       "<style scoped>\n",
       "    .dataframe tbody tr th:only-of-type {\n",
       "        vertical-align: middle;\n",
       "    }\n",
       "\n",
       "    .dataframe tbody tr th {\n",
       "        vertical-align: top;\n",
       "    }\n",
       "\n",
       "    .dataframe thead th {\n",
       "        text-align: right;\n",
       "    }\n",
       "</style>\n",
       "<table border=\"1\" class=\"dataframe\">\n",
       "  <thead>\n",
       "    <tr style=\"text-align: right;\">\n",
       "      <th></th>\n",
       "      <th>2</th>\n",
       "      <th>3</th>\n",
       "    </tr>\n",
       "  </thead>\n",
       "  <tbody>\n",
       "    <tr>\n",
       "      <th>B</th>\n",
       "      <td>-0.457618</td>\n",
       "      <td>-0.617701</td>\n",
       "    </tr>\n",
       "    <tr>\n",
       "      <th>C</th>\n",
       "      <td>0.336221</td>\n",
       "      <td>1.457579</td>\n",
       "    </tr>\n",
       "  </tbody>\n",
       "</table>\n",
       "</div>"
      ],
      "text/plain": [
       "          2         3\n",
       "B -0.457618 -0.617701\n",
       "C  0.336221  1.457579"
      ]
     },
     "execution_count": 105,
     "metadata": {},
     "output_type": "execute_result"
    }
   ],
   "source": [
    "# lets grab another DataFrame chunk\n",
    "\n",
    "# rows --> B,C\n",
    "# columns --> 2,3\n",
    "\n",
    "df.loc[['B','C'],[2,3]]"
   ]
  },
  {
   "cell_type": "code",
   "execution_count": 106,
   "metadata": {},
   "outputs": [
    {
     "data": {
      "text/html": [
       "<div>\n",
       "<style scoped>\n",
       "    .dataframe tbody tr th:only-of-type {\n",
       "        vertical-align: middle;\n",
       "    }\n",
       "\n",
       "    .dataframe tbody tr th {\n",
       "        vertical-align: top;\n",
       "    }\n",
       "\n",
       "    .dataframe thead th {\n",
       "        text-align: right;\n",
       "    }\n",
       "</style>\n",
       "<table border=\"1\" class=\"dataframe\">\n",
       "  <thead>\n",
       "    <tr style=\"text-align: right;\">\n",
       "      <th></th>\n",
       "      <th>1</th>\n",
       "      <th>2</th>\n",
       "      <th>3</th>\n",
       "      <th>4</th>\n",
       "      <th>5</th>\n",
       "    </tr>\n",
       "  </thead>\n",
       "  <tbody>\n",
       "    <tr>\n",
       "      <th>A</th>\n",
       "      <td>-0.410090</td>\n",
       "      <td>0.162665</td>\n",
       "      <td>0.388813</td>\n",
       "      <td>-0.567844</td>\n",
       "      <td>-0.179032</td>\n",
       "    </tr>\n",
       "    <tr>\n",
       "      <th>B</th>\n",
       "      <td>0.443548</td>\n",
       "      <td>-0.457618</td>\n",
       "      <td>-0.617701</td>\n",
       "      <td>1.273738</td>\n",
       "      <td>0.656037</td>\n",
       "    </tr>\n",
       "    <tr>\n",
       "      <th>C</th>\n",
       "      <td>-1.273016</td>\n",
       "      <td>0.336221</td>\n",
       "      <td>1.457579</td>\n",
       "      <td>-0.196704</td>\n",
       "      <td>1.260875</td>\n",
       "    </tr>\n",
       "    <tr>\n",
       "      <th>D</th>\n",
       "      <td>-2.233890</td>\n",
       "      <td>-1.149824</td>\n",
       "      <td>1.914845</td>\n",
       "      <td>-0.206768</td>\n",
       "      <td>1.708077</td>\n",
       "    </tr>\n",
       "    <tr>\n",
       "      <th>E</th>\n",
       "      <td>-0.283420</td>\n",
       "      <td>-1.084131</td>\n",
       "      <td>0.510533</td>\n",
       "      <td>1.645422</td>\n",
       "      <td>2.155955</td>\n",
       "    </tr>\n",
       "  </tbody>\n",
       "</table>\n",
       "</div>"
      ],
      "text/plain": [
       "          1         2         3         4         5\n",
       "A -0.410090  0.162665  0.388813 -0.567844 -0.179032\n",
       "B  0.443548 -0.457618 -0.617701  1.273738  0.656037\n",
       "C -1.273016  0.336221  1.457579 -0.196704  1.260875\n",
       "D -2.233890 -1.149824  1.914845 -0.206768  1.708077\n",
       "E -0.283420 -1.084131  0.510533  1.645422  2.155955"
      ]
     },
     "execution_count": 106,
     "metadata": {},
     "output_type": "execute_result"
    }
   ],
   "source": [
    "df"
   ]
  },
  {
   "cell_type": "code",
   "execution_count": 107,
   "metadata": {},
   "outputs": [
    {
     "data": {
      "text/html": [
       "<div>\n",
       "<style scoped>\n",
       "    .dataframe tbody tr th:only-of-type {\n",
       "        vertical-align: middle;\n",
       "    }\n",
       "\n",
       "    .dataframe tbody tr th {\n",
       "        vertical-align: top;\n",
       "    }\n",
       "\n",
       "    .dataframe thead th {\n",
       "        text-align: right;\n",
       "    }\n",
       "</style>\n",
       "<table border=\"1\" class=\"dataframe\">\n",
       "  <thead>\n",
       "    <tr style=\"text-align: right;\">\n",
       "      <th></th>\n",
       "      <th>2</th>\n",
       "      <th>4</th>\n",
       "    </tr>\n",
       "  </thead>\n",
       "  <tbody>\n",
       "    <tr>\n",
       "      <th>B</th>\n",
       "      <td>-0.457618</td>\n",
       "      <td>1.273738</td>\n",
       "    </tr>\n",
       "    <tr>\n",
       "      <th>D</th>\n",
       "      <td>-1.149824</td>\n",
       "      <td>-0.206768</td>\n",
       "    </tr>\n",
       "  </tbody>\n",
       "</table>\n",
       "</div>"
      ],
      "text/plain": [
       "          2         4\n",
       "B -0.457618  1.273738\n",
       "D -1.149824 -0.206768"
      ]
     },
     "execution_count": 107,
     "metadata": {},
     "output_type": "execute_result"
    }
   ],
   "source": [
    "# rows --> B,D\n",
    "# columns --> 2,4\n",
    "\n",
    "df.loc[['B','D'],[2,4]]"
   ]
  },
  {
   "cell_type": "code",
   "execution_count": 109,
   "metadata": {},
   "outputs": [
    {
     "data": {
      "text/plain": [
       "-0.19670448466085977"
      ]
     },
     "execution_count": 109,
     "metadata": {},
     "output_type": "execute_result"
    }
   ],
   "source": [
    "df.iloc[2,3]"
   ]
  },
  {
   "cell_type": "code",
   "execution_count": 112,
   "metadata": {},
   "outputs": [
    {
     "data": {
      "text/html": [
       "<div>\n",
       "<style scoped>\n",
       "    .dataframe tbody tr th:only-of-type {\n",
       "        vertical-align: middle;\n",
       "    }\n",
       "\n",
       "    .dataframe tbody tr th {\n",
       "        vertical-align: top;\n",
       "    }\n",
       "\n",
       "    .dataframe thead th {\n",
       "        text-align: right;\n",
       "    }\n",
       "</style>\n",
       "<table border=\"1\" class=\"dataframe\">\n",
       "  <thead>\n",
       "    <tr style=\"text-align: right;\">\n",
       "      <th></th>\n",
       "      <th>4</th>\n",
       "      <th>5</th>\n",
       "    </tr>\n",
       "  </thead>\n",
       "  <tbody>\n",
       "    <tr>\n",
       "      <th>C</th>\n",
       "      <td>-0.196704</td>\n",
       "      <td>1.260875</td>\n",
       "    </tr>\n",
       "    <tr>\n",
       "      <th>D</th>\n",
       "      <td>-0.206768</td>\n",
       "      <td>1.708077</td>\n",
       "    </tr>\n",
       "  </tbody>\n",
       "</table>\n",
       "</div>"
      ],
      "text/plain": [
       "          4         5\n",
       "C -0.196704  1.260875\n",
       "D -0.206768  1.708077"
      ]
     },
     "execution_count": 112,
     "metadata": {},
     "output_type": "execute_result"
    }
   ],
   "source": [
    "df.iloc[[2,3],[3,4]]  # reports back corresponding indexed rows and colmns"
   ]
  },
  {
   "cell_type": "markdown",
   "metadata": {},
   "source": [
    "## Conditional selections:"
   ]
  },
  {
   "cell_type": "code",
   "execution_count": 113,
   "metadata": {},
   "outputs": [
    {
     "data": {
      "text/html": [
       "<div>\n",
       "<style scoped>\n",
       "    .dataframe tbody tr th:only-of-type {\n",
       "        vertical-align: middle;\n",
       "    }\n",
       "\n",
       "    .dataframe tbody tr th {\n",
       "        vertical-align: top;\n",
       "    }\n",
       "\n",
       "    .dataframe thead th {\n",
       "        text-align: right;\n",
       "    }\n",
       "</style>\n",
       "<table border=\"1\" class=\"dataframe\">\n",
       "  <thead>\n",
       "    <tr style=\"text-align: right;\">\n",
       "      <th></th>\n",
       "      <th>1</th>\n",
       "      <th>2</th>\n",
       "      <th>3</th>\n",
       "      <th>4</th>\n",
       "      <th>5</th>\n",
       "    </tr>\n",
       "  </thead>\n",
       "  <tbody>\n",
       "    <tr>\n",
       "      <th>A</th>\n",
       "      <td>-0.410090</td>\n",
       "      <td>0.162665</td>\n",
       "      <td>0.388813</td>\n",
       "      <td>-0.567844</td>\n",
       "      <td>-0.179032</td>\n",
       "    </tr>\n",
       "    <tr>\n",
       "      <th>B</th>\n",
       "      <td>0.443548</td>\n",
       "      <td>-0.457618</td>\n",
       "      <td>-0.617701</td>\n",
       "      <td>1.273738</td>\n",
       "      <td>0.656037</td>\n",
       "    </tr>\n",
       "    <tr>\n",
       "      <th>C</th>\n",
       "      <td>-1.273016</td>\n",
       "      <td>0.336221</td>\n",
       "      <td>1.457579</td>\n",
       "      <td>-0.196704</td>\n",
       "      <td>1.260875</td>\n",
       "    </tr>\n",
       "    <tr>\n",
       "      <th>D</th>\n",
       "      <td>-2.233890</td>\n",
       "      <td>-1.149824</td>\n",
       "      <td>1.914845</td>\n",
       "      <td>-0.206768</td>\n",
       "      <td>1.708077</td>\n",
       "    </tr>\n",
       "    <tr>\n",
       "      <th>E</th>\n",
       "      <td>-0.283420</td>\n",
       "      <td>-1.084131</td>\n",
       "      <td>0.510533</td>\n",
       "      <td>1.645422</td>\n",
       "      <td>2.155955</td>\n",
       "    </tr>\n",
       "  </tbody>\n",
       "</table>\n",
       "</div>"
      ],
      "text/plain": [
       "          1         2         3         4         5\n",
       "A -0.410090  0.162665  0.388813 -0.567844 -0.179032\n",
       "B  0.443548 -0.457618 -0.617701  1.273738  0.656037\n",
       "C -1.273016  0.336221  1.457579 -0.196704  1.260875\n",
       "D -2.233890 -1.149824  1.914845 -0.206768  1.708077\n",
       "E -0.283420 -1.084131  0.510533  1.645422  2.155955"
      ]
     },
     "execution_count": 113,
     "metadata": {},
     "output_type": "execute_result"
    }
   ],
   "source": [
    "# selections using conditional operators\n",
    "\n",
    "df"
   ]
  },
  {
   "cell_type": "code",
   "execution_count": 118,
   "metadata": {},
   "outputs": [
    {
     "data": {
      "text/html": [
       "<div>\n",
       "<style scoped>\n",
       "    .dataframe tbody tr th:only-of-type {\n",
       "        vertical-align: middle;\n",
       "    }\n",
       "\n",
       "    .dataframe tbody tr th {\n",
       "        vertical-align: top;\n",
       "    }\n",
       "\n",
       "    .dataframe thead th {\n",
       "        text-align: right;\n",
       "    }\n",
       "</style>\n",
       "<table border=\"1\" class=\"dataframe\">\n",
       "  <thead>\n",
       "    <tr style=\"text-align: right;\">\n",
       "      <th></th>\n",
       "      <th>1</th>\n",
       "      <th>2</th>\n",
       "      <th>3</th>\n",
       "      <th>4</th>\n",
       "      <th>5</th>\n",
       "    </tr>\n",
       "  </thead>\n",
       "  <tbody>\n",
       "    <tr>\n",
       "      <th>A</th>\n",
       "      <td>False</td>\n",
       "      <td>True</td>\n",
       "      <td>True</td>\n",
       "      <td>False</td>\n",
       "      <td>False</td>\n",
       "    </tr>\n",
       "    <tr>\n",
       "      <th>B</th>\n",
       "      <td>True</td>\n",
       "      <td>False</td>\n",
       "      <td>False</td>\n",
       "      <td>True</td>\n",
       "      <td>True</td>\n",
       "    </tr>\n",
       "    <tr>\n",
       "      <th>C</th>\n",
       "      <td>False</td>\n",
       "      <td>True</td>\n",
       "      <td>True</td>\n",
       "      <td>False</td>\n",
       "      <td>True</td>\n",
       "    </tr>\n",
       "    <tr>\n",
       "      <th>D</th>\n",
       "      <td>False</td>\n",
       "      <td>False</td>\n",
       "      <td>True</td>\n",
       "      <td>False</td>\n",
       "      <td>True</td>\n",
       "    </tr>\n",
       "    <tr>\n",
       "      <th>E</th>\n",
       "      <td>False</td>\n",
       "      <td>False</td>\n",
       "      <td>True</td>\n",
       "      <td>True</td>\n",
       "      <td>True</td>\n",
       "    </tr>\n",
       "  </tbody>\n",
       "</table>\n",
       "</div>"
      ],
      "text/plain": [
       "       1      2      3      4      5\n",
       "A  False   True   True  False  False\n",
       "B   True  False  False   True   True\n",
       "C  False   True   True  False   True\n",
       "D  False  False   True  False   True\n",
       "E  False  False   True   True   True"
      ]
     },
     "execution_count": 118,
     "metadata": {},
     "output_type": "execute_result"
    }
   ],
   "source": [
    "df > 0 # reports back boolean results for Ture and False"
   ]
  },
  {
   "cell_type": "code",
   "execution_count": 119,
   "metadata": {},
   "outputs": [
    {
     "data": {
      "text/html": [
       "<div>\n",
       "<style scoped>\n",
       "    .dataframe tbody tr th:only-of-type {\n",
       "        vertical-align: middle;\n",
       "    }\n",
       "\n",
       "    .dataframe tbody tr th {\n",
       "        vertical-align: top;\n",
       "    }\n",
       "\n",
       "    .dataframe thead th {\n",
       "        text-align: right;\n",
       "    }\n",
       "</style>\n",
       "<table border=\"1\" class=\"dataframe\">\n",
       "  <thead>\n",
       "    <tr style=\"text-align: right;\">\n",
       "      <th></th>\n",
       "      <th>1</th>\n",
       "      <th>2</th>\n",
       "      <th>3</th>\n",
       "      <th>4</th>\n",
       "      <th>5</th>\n",
       "    </tr>\n",
       "  </thead>\n",
       "  <tbody>\n",
       "    <tr>\n",
       "      <th>A</th>\n",
       "      <td>NaN</td>\n",
       "      <td>0.162665</td>\n",
       "      <td>0.388813</td>\n",
       "      <td>NaN</td>\n",
       "      <td>NaN</td>\n",
       "    </tr>\n",
       "    <tr>\n",
       "      <th>B</th>\n",
       "      <td>0.443548</td>\n",
       "      <td>NaN</td>\n",
       "      <td>NaN</td>\n",
       "      <td>1.273738</td>\n",
       "      <td>0.656037</td>\n",
       "    </tr>\n",
       "    <tr>\n",
       "      <th>C</th>\n",
       "      <td>NaN</td>\n",
       "      <td>0.336221</td>\n",
       "      <td>1.457579</td>\n",
       "      <td>NaN</td>\n",
       "      <td>1.260875</td>\n",
       "    </tr>\n",
       "    <tr>\n",
       "      <th>D</th>\n",
       "      <td>NaN</td>\n",
       "      <td>NaN</td>\n",
       "      <td>1.914845</td>\n",
       "      <td>NaN</td>\n",
       "      <td>1.708077</td>\n",
       "    </tr>\n",
       "    <tr>\n",
       "      <th>E</th>\n",
       "      <td>NaN</td>\n",
       "      <td>NaN</td>\n",
       "      <td>0.510533</td>\n",
       "      <td>1.645422</td>\n",
       "      <td>2.155955</td>\n",
       "    </tr>\n",
       "  </tbody>\n",
       "</table>\n",
       "</div>"
      ],
      "text/plain": [
       "          1         2         3         4         5\n",
       "A       NaN  0.162665  0.388813       NaN       NaN\n",
       "B  0.443548       NaN       NaN  1.273738  0.656037\n",
       "C       NaN  0.336221  1.457579       NaN  1.260875\n",
       "D       NaN       NaN  1.914845       NaN  1.708077\n",
       "E       NaN       NaN  0.510533  1.645422  2.155955"
      ]
     },
     "execution_count": 119,
     "metadata": {},
     "output_type": "execute_result"
    }
   ],
   "source": [
    "df[df > 0] # reports back actual values, where conditions is True, else NaN"
   ]
  },
  {
   "cell_type": "code",
   "execution_count": 120,
   "metadata": {},
   "outputs": [
    {
     "data": {
      "text/html": [
       "<div>\n",
       "<style scoped>\n",
       "    .dataframe tbody tr th:only-of-type {\n",
       "        vertical-align: middle;\n",
       "    }\n",
       "\n",
       "    .dataframe tbody tr th {\n",
       "        vertical-align: top;\n",
       "    }\n",
       "\n",
       "    .dataframe thead th {\n",
       "        text-align: right;\n",
       "    }\n",
       "</style>\n",
       "<table border=\"1\" class=\"dataframe\">\n",
       "  <thead>\n",
       "    <tr style=\"text-align: right;\">\n",
       "      <th></th>\n",
       "      <th>1</th>\n",
       "      <th>2</th>\n",
       "      <th>3</th>\n",
       "      <th>4</th>\n",
       "      <th>5</th>\n",
       "    </tr>\n",
       "  </thead>\n",
       "  <tbody>\n",
       "    <tr>\n",
       "      <th>A</th>\n",
       "      <td>True</td>\n",
       "      <td>False</td>\n",
       "      <td>False</td>\n",
       "      <td>True</td>\n",
       "      <td>True</td>\n",
       "    </tr>\n",
       "    <tr>\n",
       "      <th>B</th>\n",
       "      <td>False</td>\n",
       "      <td>True</td>\n",
       "      <td>True</td>\n",
       "      <td>False</td>\n",
       "      <td>False</td>\n",
       "    </tr>\n",
       "    <tr>\n",
       "      <th>C</th>\n",
       "      <td>True</td>\n",
       "      <td>False</td>\n",
       "      <td>False</td>\n",
       "      <td>True</td>\n",
       "      <td>False</td>\n",
       "    </tr>\n",
       "    <tr>\n",
       "      <th>D</th>\n",
       "      <td>True</td>\n",
       "      <td>True</td>\n",
       "      <td>False</td>\n",
       "      <td>True</td>\n",
       "      <td>False</td>\n",
       "    </tr>\n",
       "    <tr>\n",
       "      <th>E</th>\n",
       "      <td>True</td>\n",
       "      <td>True</td>\n",
       "      <td>False</td>\n",
       "      <td>False</td>\n",
       "      <td>False</td>\n",
       "    </tr>\n",
       "  </tbody>\n",
       "</table>\n",
       "</div>"
      ],
      "text/plain": [
       "       1      2      3      4      5\n",
       "A   True  False  False   True   True\n",
       "B  False   True   True  False  False\n",
       "C   True  False  False   True  False\n",
       "D   True   True  False   True  False\n",
       "E   True   True  False  False  False"
      ]
     },
     "execution_count": 120,
     "metadata": {},
     "output_type": "execute_result"
    }
   ],
   "source": [
    "df < 0"
   ]
  },
  {
   "cell_type": "code",
   "execution_count": 121,
   "metadata": {},
   "outputs": [
    {
     "data": {
      "text/html": [
       "<div>\n",
       "<style scoped>\n",
       "    .dataframe tbody tr th:only-of-type {\n",
       "        vertical-align: middle;\n",
       "    }\n",
       "\n",
       "    .dataframe tbody tr th {\n",
       "        vertical-align: top;\n",
       "    }\n",
       "\n",
       "    .dataframe thead th {\n",
       "        text-align: right;\n",
       "    }\n",
       "</style>\n",
       "<table border=\"1\" class=\"dataframe\">\n",
       "  <thead>\n",
       "    <tr style=\"text-align: right;\">\n",
       "      <th></th>\n",
       "      <th>1</th>\n",
       "      <th>2</th>\n",
       "      <th>3</th>\n",
       "      <th>4</th>\n",
       "      <th>5</th>\n",
       "    </tr>\n",
       "  </thead>\n",
       "  <tbody>\n",
       "    <tr>\n",
       "      <th>A</th>\n",
       "      <td>-0.410090</td>\n",
       "      <td>NaN</td>\n",
       "      <td>NaN</td>\n",
       "      <td>-0.567844</td>\n",
       "      <td>-0.179032</td>\n",
       "    </tr>\n",
       "    <tr>\n",
       "      <th>B</th>\n",
       "      <td>NaN</td>\n",
       "      <td>-0.457618</td>\n",
       "      <td>-0.617701</td>\n",
       "      <td>NaN</td>\n",
       "      <td>NaN</td>\n",
       "    </tr>\n",
       "    <tr>\n",
       "      <th>C</th>\n",
       "      <td>-1.273016</td>\n",
       "      <td>NaN</td>\n",
       "      <td>NaN</td>\n",
       "      <td>-0.196704</td>\n",
       "      <td>NaN</td>\n",
       "    </tr>\n",
       "    <tr>\n",
       "      <th>D</th>\n",
       "      <td>-2.233890</td>\n",
       "      <td>-1.149824</td>\n",
       "      <td>NaN</td>\n",
       "      <td>-0.206768</td>\n",
       "      <td>NaN</td>\n",
       "    </tr>\n",
       "    <tr>\n",
       "      <th>E</th>\n",
       "      <td>-0.283420</td>\n",
       "      <td>-1.084131</td>\n",
       "      <td>NaN</td>\n",
       "      <td>NaN</td>\n",
       "      <td>NaN</td>\n",
       "    </tr>\n",
       "  </tbody>\n",
       "</table>\n",
       "</div>"
      ],
      "text/plain": [
       "          1         2         3         4         5\n",
       "A -0.410090       NaN       NaN -0.567844 -0.179032\n",
       "B       NaN -0.457618 -0.617701       NaN       NaN\n",
       "C -1.273016       NaN       NaN -0.196704       NaN\n",
       "D -2.233890 -1.149824       NaN -0.206768       NaN\n",
       "E -0.283420 -1.084131       NaN       NaN       NaN"
      ]
     },
     "execution_count": 121,
     "metadata": {},
     "output_type": "execute_result"
    }
   ],
   "source": [
    "df[df < 0]"
   ]
  },
  {
   "cell_type": "code",
   "execution_count": 122,
   "metadata": {},
   "outputs": [
    {
     "data": {
      "text/html": [
       "<div>\n",
       "<style scoped>\n",
       "    .dataframe tbody tr th:only-of-type {\n",
       "        vertical-align: middle;\n",
       "    }\n",
       "\n",
       "    .dataframe tbody tr th {\n",
       "        vertical-align: top;\n",
       "    }\n",
       "\n",
       "    .dataframe thead th {\n",
       "        text-align: right;\n",
       "    }\n",
       "</style>\n",
       "<table border=\"1\" class=\"dataframe\">\n",
       "  <thead>\n",
       "    <tr style=\"text-align: right;\">\n",
       "      <th></th>\n",
       "      <th>1</th>\n",
       "      <th>2</th>\n",
       "      <th>3</th>\n",
       "      <th>4</th>\n",
       "      <th>5</th>\n",
       "    </tr>\n",
       "  </thead>\n",
       "  <tbody>\n",
       "    <tr>\n",
       "      <th>A</th>\n",
       "      <td>False</td>\n",
       "      <td>False</td>\n",
       "      <td>False</td>\n",
       "      <td>False</td>\n",
       "      <td>False</td>\n",
       "    </tr>\n",
       "    <tr>\n",
       "      <th>B</th>\n",
       "      <td>False</td>\n",
       "      <td>False</td>\n",
       "      <td>False</td>\n",
       "      <td>True</td>\n",
       "      <td>False</td>\n",
       "    </tr>\n",
       "    <tr>\n",
       "      <th>C</th>\n",
       "      <td>False</td>\n",
       "      <td>False</td>\n",
       "      <td>True</td>\n",
       "      <td>False</td>\n",
       "      <td>True</td>\n",
       "    </tr>\n",
       "    <tr>\n",
       "      <th>D</th>\n",
       "      <td>False</td>\n",
       "      <td>False</td>\n",
       "      <td>True</td>\n",
       "      <td>False</td>\n",
       "      <td>True</td>\n",
       "    </tr>\n",
       "    <tr>\n",
       "      <th>E</th>\n",
       "      <td>False</td>\n",
       "      <td>False</td>\n",
       "      <td>False</td>\n",
       "      <td>True</td>\n",
       "      <td>True</td>\n",
       "    </tr>\n",
       "  </tbody>\n",
       "</table>\n",
       "</div>"
      ],
      "text/plain": [
       "       1      2      3      4      5\n",
       "A  False  False  False  False  False\n",
       "B  False  False  False   True  False\n",
       "C  False  False   True  False   True\n",
       "D  False  False   True  False   True\n",
       "E  False  False  False   True   True"
      ]
     },
     "execution_count": 122,
     "metadata": {},
     "output_type": "execute_result"
    }
   ],
   "source": [
    "df > 1"
   ]
  },
  {
   "cell_type": "code",
   "execution_count": 123,
   "metadata": {},
   "outputs": [
    {
     "data": {
      "text/html": [
       "<div>\n",
       "<style scoped>\n",
       "    .dataframe tbody tr th:only-of-type {\n",
       "        vertical-align: middle;\n",
       "    }\n",
       "\n",
       "    .dataframe tbody tr th {\n",
       "        vertical-align: top;\n",
       "    }\n",
       "\n",
       "    .dataframe thead th {\n",
       "        text-align: right;\n",
       "    }\n",
       "</style>\n",
       "<table border=\"1\" class=\"dataframe\">\n",
       "  <thead>\n",
       "    <tr style=\"text-align: right;\">\n",
       "      <th></th>\n",
       "      <th>1</th>\n",
       "      <th>2</th>\n",
       "      <th>3</th>\n",
       "      <th>4</th>\n",
       "      <th>5</th>\n",
       "    </tr>\n",
       "  </thead>\n",
       "  <tbody>\n",
       "    <tr>\n",
       "      <th>A</th>\n",
       "      <td>NaN</td>\n",
       "      <td>NaN</td>\n",
       "      <td>NaN</td>\n",
       "      <td>NaN</td>\n",
       "      <td>NaN</td>\n",
       "    </tr>\n",
       "    <tr>\n",
       "      <th>B</th>\n",
       "      <td>NaN</td>\n",
       "      <td>NaN</td>\n",
       "      <td>NaN</td>\n",
       "      <td>1.273738</td>\n",
       "      <td>NaN</td>\n",
       "    </tr>\n",
       "    <tr>\n",
       "      <th>C</th>\n",
       "      <td>NaN</td>\n",
       "      <td>NaN</td>\n",
       "      <td>1.457579</td>\n",
       "      <td>NaN</td>\n",
       "      <td>1.260875</td>\n",
       "    </tr>\n",
       "    <tr>\n",
       "      <th>D</th>\n",
       "      <td>NaN</td>\n",
       "      <td>NaN</td>\n",
       "      <td>1.914845</td>\n",
       "      <td>NaN</td>\n",
       "      <td>1.708077</td>\n",
       "    </tr>\n",
       "    <tr>\n",
       "      <th>E</th>\n",
       "      <td>NaN</td>\n",
       "      <td>NaN</td>\n",
       "      <td>NaN</td>\n",
       "      <td>1.645422</td>\n",
       "      <td>2.155955</td>\n",
       "    </tr>\n",
       "  </tbody>\n",
       "</table>\n",
       "</div>"
      ],
      "text/plain": [
       "    1   2         3         4         5\n",
       "A NaN NaN       NaN       NaN       NaN\n",
       "B NaN NaN       NaN  1.273738       NaN\n",
       "C NaN NaN  1.457579       NaN  1.260875\n",
       "D NaN NaN  1.914845       NaN  1.708077\n",
       "E NaN NaN       NaN  1.645422  2.155955"
      ]
     },
     "execution_count": 123,
     "metadata": {},
     "output_type": "execute_result"
    }
   ],
   "source": [
    "df[df > 1]"
   ]
  },
  {
   "cell_type": "code",
   "execution_count": 127,
   "metadata": {},
   "outputs": [
    {
     "data": {
      "text/html": [
       "<div>\n",
       "<style scoped>\n",
       "    .dataframe tbody tr th:only-of-type {\n",
       "        vertical-align: middle;\n",
       "    }\n",
       "\n",
       "    .dataframe tbody tr th {\n",
       "        vertical-align: top;\n",
       "    }\n",
       "\n",
       "    .dataframe thead th {\n",
       "        text-align: right;\n",
       "    }\n",
       "</style>\n",
       "<table border=\"1\" class=\"dataframe\">\n",
       "  <thead>\n",
       "    <tr style=\"text-align: right;\">\n",
       "      <th></th>\n",
       "      <th>1</th>\n",
       "      <th>2</th>\n",
       "      <th>3</th>\n",
       "      <th>4</th>\n",
       "      <th>5</th>\n",
       "    </tr>\n",
       "  </thead>\n",
       "  <tbody>\n",
       "    <tr>\n",
       "      <th>B</th>\n",
       "      <td>0.443548</td>\n",
       "      <td>-0.457618</td>\n",
       "      <td>-0.617701</td>\n",
       "      <td>1.273738</td>\n",
       "      <td>0.656037</td>\n",
       "    </tr>\n",
       "  </tbody>\n",
       "</table>\n",
       "</div>"
      ],
      "text/plain": [
       "          1         2         3         4         5\n",
       "B  0.443548 -0.457618 -0.617701  1.273738  0.656037"
      ]
     },
     "execution_count": 127,
     "metadata": {},
     "output_type": "execute_result"
    }
   ],
   "source": [
    "# we can also select values for particular columns or rows\n",
    "\n",
    "# for column --> 1\n",
    "\n",
    "df[df[1]>0]"
   ]
  },
  {
   "cell_type": "code",
   "execution_count": 128,
   "metadata": {},
   "outputs": [
    {
     "data": {
      "text/plain": [
       "A    False\n",
       "B     True\n",
       "C    False\n",
       "D    False\n",
       "E    False\n",
       "Name: 1, dtype: bool"
      ]
     },
     "execution_count": 128,
     "metadata": {},
     "output_type": "execute_result"
    }
   ],
   "source": [
    "df[1] > 0"
   ]
  },
  {
   "cell_type": "code",
   "execution_count": 133,
   "metadata": {},
   "outputs": [],
   "source": [
    "df.columns = 'V W X Y Z'.split()"
   ]
  },
  {
   "cell_type": "code",
   "execution_count": 134,
   "metadata": {},
   "outputs": [
    {
     "data": {
      "text/html": [
       "<div>\n",
       "<style scoped>\n",
       "    .dataframe tbody tr th:only-of-type {\n",
       "        vertical-align: middle;\n",
       "    }\n",
       "\n",
       "    .dataframe tbody tr th {\n",
       "        vertical-align: top;\n",
       "    }\n",
       "\n",
       "    .dataframe thead th {\n",
       "        text-align: right;\n",
       "    }\n",
       "</style>\n",
       "<table border=\"1\" class=\"dataframe\">\n",
       "  <thead>\n",
       "    <tr style=\"text-align: right;\">\n",
       "      <th></th>\n",
       "      <th>V</th>\n",
       "      <th>W</th>\n",
       "      <th>X</th>\n",
       "      <th>Y</th>\n",
       "      <th>Z</th>\n",
       "    </tr>\n",
       "  </thead>\n",
       "  <tbody>\n",
       "    <tr>\n",
       "      <th>A</th>\n",
       "      <td>-0.410090</td>\n",
       "      <td>0.162665</td>\n",
       "      <td>0.388813</td>\n",
       "      <td>-0.567844</td>\n",
       "      <td>-0.179032</td>\n",
       "    </tr>\n",
       "    <tr>\n",
       "      <th>B</th>\n",
       "      <td>0.443548</td>\n",
       "      <td>-0.457618</td>\n",
       "      <td>-0.617701</td>\n",
       "      <td>1.273738</td>\n",
       "      <td>0.656037</td>\n",
       "    </tr>\n",
       "    <tr>\n",
       "      <th>C</th>\n",
       "      <td>-1.273016</td>\n",
       "      <td>0.336221</td>\n",
       "      <td>1.457579</td>\n",
       "      <td>-0.196704</td>\n",
       "      <td>1.260875</td>\n",
       "    </tr>\n",
       "    <tr>\n",
       "      <th>D</th>\n",
       "      <td>-2.233890</td>\n",
       "      <td>-1.149824</td>\n",
       "      <td>1.914845</td>\n",
       "      <td>-0.206768</td>\n",
       "      <td>1.708077</td>\n",
       "    </tr>\n",
       "    <tr>\n",
       "      <th>E</th>\n",
       "      <td>-0.283420</td>\n",
       "      <td>-1.084131</td>\n",
       "      <td>0.510533</td>\n",
       "      <td>1.645422</td>\n",
       "      <td>2.155955</td>\n",
       "    </tr>\n",
       "  </tbody>\n",
       "</table>\n",
       "</div>"
      ],
      "text/plain": [
       "          V         W         X         Y         Z\n",
       "A -0.410090  0.162665  0.388813 -0.567844 -0.179032\n",
       "B  0.443548 -0.457618 -0.617701  1.273738  0.656037\n",
       "C -1.273016  0.336221  1.457579 -0.196704  1.260875\n",
       "D -2.233890 -1.149824  1.914845 -0.206768  1.708077\n",
       "E -0.283420 -1.084131  0.510533  1.645422  2.155955"
      ]
     },
     "execution_count": 134,
     "metadata": {},
     "output_type": "execute_result"
    }
   ],
   "source": [
    "df"
   ]
  },
  {
   "cell_type": "code",
   "execution_count": 135,
   "metadata": {},
   "outputs": [
    {
     "data": {
      "text/plain": [
       "A     True\n",
       "B    False\n",
       "C     True\n",
       "D    False\n",
       "E    False\n",
       "Name: W, dtype: bool"
      ]
     },
     "execution_count": 135,
     "metadata": {},
     "output_type": "execute_result"
    }
   ],
   "source": [
    "df['W'] > 0"
   ]
  },
  {
   "cell_type": "code",
   "execution_count": 137,
   "metadata": {},
   "outputs": [
    {
     "data": {
      "text/html": [
       "<div>\n",
       "<style scoped>\n",
       "    .dataframe tbody tr th:only-of-type {\n",
       "        vertical-align: middle;\n",
       "    }\n",
       "\n",
       "    .dataframe tbody tr th {\n",
       "        vertical-align: top;\n",
       "    }\n",
       "\n",
       "    .dataframe thead th {\n",
       "        text-align: right;\n",
       "    }\n",
       "</style>\n",
       "<table border=\"1\" class=\"dataframe\">\n",
       "  <thead>\n",
       "    <tr style=\"text-align: right;\">\n",
       "      <th></th>\n",
       "      <th>V</th>\n",
       "      <th>W</th>\n",
       "      <th>X</th>\n",
       "      <th>Y</th>\n",
       "      <th>Z</th>\n",
       "    </tr>\n",
       "  </thead>\n",
       "  <tbody>\n",
       "    <tr>\n",
       "      <th>A</th>\n",
       "      <td>-0.410090</td>\n",
       "      <td>0.162665</td>\n",
       "      <td>0.388813</td>\n",
       "      <td>-0.567844</td>\n",
       "      <td>-0.179032</td>\n",
       "    </tr>\n",
       "    <tr>\n",
       "      <th>C</th>\n",
       "      <td>-1.273016</td>\n",
       "      <td>0.336221</td>\n",
       "      <td>1.457579</td>\n",
       "      <td>-0.196704</td>\n",
       "      <td>1.260875</td>\n",
       "    </tr>\n",
       "  </tbody>\n",
       "</table>\n",
       "</div>"
      ],
      "text/plain": [
       "          V         W         X         Y         Z\n",
       "A -0.410090  0.162665  0.388813 -0.567844 -0.179032\n",
       "C -1.273016  0.336221  1.457579 -0.196704  1.260875"
      ]
     },
     "execution_count": 137,
     "metadata": {},
     "output_type": "execute_result"
    }
   ],
   "source": [
    "df[df['W'] > 0]  # reports back values where 'W' column is greater than 0"
   ]
  },
  {
   "cell_type": "code",
   "execution_count": 139,
   "metadata": {},
   "outputs": [
    {
     "data": {
      "text/html": [
       "<div>\n",
       "<style scoped>\n",
       "    .dataframe tbody tr th:only-of-type {\n",
       "        vertical-align: middle;\n",
       "    }\n",
       "\n",
       "    .dataframe tbody tr th {\n",
       "        vertical-align: top;\n",
       "    }\n",
       "\n",
       "    .dataframe thead th {\n",
       "        text-align: right;\n",
       "    }\n",
       "</style>\n",
       "<table border=\"1\" class=\"dataframe\">\n",
       "  <thead>\n",
       "    <tr style=\"text-align: right;\">\n",
       "      <th></th>\n",
       "      <th>V</th>\n",
       "      <th>W</th>\n",
       "      <th>X</th>\n",
       "      <th>Y</th>\n",
       "      <th>Z</th>\n",
       "    </tr>\n",
       "  </thead>\n",
       "  <tbody>\n",
       "    <tr>\n",
       "      <th>C</th>\n",
       "      <td>-1.273016</td>\n",
       "      <td>0.336221</td>\n",
       "      <td>1.457579</td>\n",
       "      <td>-0.196704</td>\n",
       "      <td>1.260875</td>\n",
       "    </tr>\n",
       "    <tr>\n",
       "      <th>D</th>\n",
       "      <td>-2.233890</td>\n",
       "      <td>-1.149824</td>\n",
       "      <td>1.914845</td>\n",
       "      <td>-0.206768</td>\n",
       "      <td>1.708077</td>\n",
       "    </tr>\n",
       "  </tbody>\n",
       "</table>\n",
       "</div>"
      ],
      "text/plain": [
       "          V         W         X         Y         Z\n",
       "C -1.273016  0.336221  1.457579 -0.196704  1.260875\n",
       "D -2.233890 -1.149824  1.914845 -0.206768  1.708077"
      ]
     },
     "execution_count": 139,
     "metadata": {},
     "output_type": "execute_result"
    }
   ],
   "source": [
    "df[df['X'] > 1]"
   ]
  },
  {
   "cell_type": "code",
   "execution_count": 140,
   "metadata": {},
   "outputs": [
    {
     "data": {
      "text/html": [
       "<div>\n",
       "<style scoped>\n",
       "    .dataframe tbody tr th:only-of-type {\n",
       "        vertical-align: middle;\n",
       "    }\n",
       "\n",
       "    .dataframe tbody tr th {\n",
       "        vertical-align: top;\n",
       "    }\n",
       "\n",
       "    .dataframe thead th {\n",
       "        text-align: right;\n",
       "    }\n",
       "</style>\n",
       "<table border=\"1\" class=\"dataframe\">\n",
       "  <thead>\n",
       "    <tr style=\"text-align: right;\">\n",
       "      <th></th>\n",
       "      <th>V</th>\n",
       "      <th>W</th>\n",
       "      <th>X</th>\n",
       "      <th>Y</th>\n",
       "      <th>Z</th>\n",
       "    </tr>\n",
       "  </thead>\n",
       "  <tbody>\n",
       "    <tr>\n",
       "      <th>A</th>\n",
       "      <td>-0.410090</td>\n",
       "      <td>0.162665</td>\n",
       "      <td>0.388813</td>\n",
       "      <td>-0.567844</td>\n",
       "      <td>-0.179032</td>\n",
       "    </tr>\n",
       "    <tr>\n",
       "      <th>B</th>\n",
       "      <td>0.443548</td>\n",
       "      <td>-0.457618</td>\n",
       "      <td>-0.617701</td>\n",
       "      <td>1.273738</td>\n",
       "      <td>0.656037</td>\n",
       "    </tr>\n",
       "    <tr>\n",
       "      <th>C</th>\n",
       "      <td>-1.273016</td>\n",
       "      <td>0.336221</td>\n",
       "      <td>1.457579</td>\n",
       "      <td>-0.196704</td>\n",
       "      <td>1.260875</td>\n",
       "    </tr>\n",
       "    <tr>\n",
       "      <th>D</th>\n",
       "      <td>-2.233890</td>\n",
       "      <td>-1.149824</td>\n",
       "      <td>1.914845</td>\n",
       "      <td>-0.206768</td>\n",
       "      <td>1.708077</td>\n",
       "    </tr>\n",
       "    <tr>\n",
       "      <th>E</th>\n",
       "      <td>-0.283420</td>\n",
       "      <td>-1.084131</td>\n",
       "      <td>0.510533</td>\n",
       "      <td>1.645422</td>\n",
       "      <td>2.155955</td>\n",
       "    </tr>\n",
       "  </tbody>\n",
       "</table>\n",
       "</div>"
      ],
      "text/plain": [
       "          V         W         X         Y         Z\n",
       "A -0.410090  0.162665  0.388813 -0.567844 -0.179032\n",
       "B  0.443548 -0.457618 -0.617701  1.273738  0.656037\n",
       "C -1.273016  0.336221  1.457579 -0.196704  1.260875\n",
       "D -2.233890 -1.149824  1.914845 -0.206768  1.708077\n",
       "E -0.283420 -1.084131  0.510533  1.645422  2.155955"
      ]
     },
     "execution_count": 140,
     "metadata": {},
     "output_type": "execute_result"
    }
   ],
   "source": [
    "df"
   ]
  },
  {
   "cell_type": "code",
   "execution_count": 143,
   "metadata": {},
   "outputs": [
    {
     "data": {
      "text/html": [
       "<div>\n",
       "<style scoped>\n",
       "    .dataframe tbody tr th:only-of-type {\n",
       "        vertical-align: middle;\n",
       "    }\n",
       "\n",
       "    .dataframe tbody tr th {\n",
       "        vertical-align: top;\n",
       "    }\n",
       "\n",
       "    .dataframe thead th {\n",
       "        text-align: right;\n",
       "    }\n",
       "</style>\n",
       "<table border=\"1\" class=\"dataframe\">\n",
       "  <thead>\n",
       "    <tr style=\"text-align: right;\">\n",
       "      <th></th>\n",
       "      <th>V</th>\n",
       "      <th>W</th>\n",
       "      <th>X</th>\n",
       "      <th>Y</th>\n",
       "      <th>Z</th>\n",
       "    </tr>\n",
       "  </thead>\n",
       "  <tbody>\n",
       "    <tr>\n",
       "      <th>A</th>\n",
       "      <td>-0.410090</td>\n",
       "      <td>0.162665</td>\n",
       "      <td>0.388813</td>\n",
       "      <td>-0.567844</td>\n",
       "      <td>-0.179032</td>\n",
       "    </tr>\n",
       "    <tr>\n",
       "      <th>C</th>\n",
       "      <td>-1.273016</td>\n",
       "      <td>0.336221</td>\n",
       "      <td>1.457579</td>\n",
       "      <td>-0.196704</td>\n",
       "      <td>1.260875</td>\n",
       "    </tr>\n",
       "    <tr>\n",
       "      <th>D</th>\n",
       "      <td>-2.233890</td>\n",
       "      <td>-1.149824</td>\n",
       "      <td>1.914845</td>\n",
       "      <td>-0.206768</td>\n",
       "      <td>1.708077</td>\n",
       "    </tr>\n",
       "  </tbody>\n",
       "</table>\n",
       "</div>"
      ],
      "text/plain": [
       "          V         W         X         Y         Z\n",
       "A -0.410090  0.162665  0.388813 -0.567844 -0.179032\n",
       "C -1.273016  0.336221  1.457579 -0.196704  1.260875\n",
       "D -2.233890 -1.149824  1.914845 -0.206768  1.708077"
      ]
     },
     "execution_count": 143,
     "metadata": {},
     "output_type": "execute_result"
    }
   ],
   "source": [
    "df[df['Y'] < 0] # reports back DataFrame where column 'Y' is less then '0'"
   ]
  },
  {
   "cell_type": "code",
   "execution_count": 144,
   "metadata": {},
   "outputs": [
    {
     "data": {
      "text/html": [
       "<div>\n",
       "<style scoped>\n",
       "    .dataframe tbody tr th:only-of-type {\n",
       "        vertical-align: middle;\n",
       "    }\n",
       "\n",
       "    .dataframe tbody tr th {\n",
       "        vertical-align: top;\n",
       "    }\n",
       "\n",
       "    .dataframe thead th {\n",
       "        text-align: right;\n",
       "    }\n",
       "</style>\n",
       "<table border=\"1\" class=\"dataframe\">\n",
       "  <thead>\n",
       "    <tr style=\"text-align: right;\">\n",
       "      <th></th>\n",
       "      <th>V</th>\n",
       "      <th>W</th>\n",
       "      <th>X</th>\n",
       "      <th>Y</th>\n",
       "      <th>Z</th>\n",
       "    </tr>\n",
       "  </thead>\n",
       "  <tbody>\n",
       "    <tr>\n",
       "      <th>B</th>\n",
       "      <td>0.443548</td>\n",
       "      <td>-0.457618</td>\n",
       "      <td>-0.617701</td>\n",
       "      <td>1.273738</td>\n",
       "      <td>0.656037</td>\n",
       "    </tr>\n",
       "    <tr>\n",
       "      <th>C</th>\n",
       "      <td>-1.273016</td>\n",
       "      <td>0.336221</td>\n",
       "      <td>1.457579</td>\n",
       "      <td>-0.196704</td>\n",
       "      <td>1.260875</td>\n",
       "    </tr>\n",
       "    <tr>\n",
       "      <th>D</th>\n",
       "      <td>-2.233890</td>\n",
       "      <td>-1.149824</td>\n",
       "      <td>1.914845</td>\n",
       "      <td>-0.206768</td>\n",
       "      <td>1.708077</td>\n",
       "    </tr>\n",
       "    <tr>\n",
       "      <th>E</th>\n",
       "      <td>-0.283420</td>\n",
       "      <td>-1.084131</td>\n",
       "      <td>0.510533</td>\n",
       "      <td>1.645422</td>\n",
       "      <td>2.155955</td>\n",
       "    </tr>\n",
       "  </tbody>\n",
       "</table>\n",
       "</div>"
      ],
      "text/plain": [
       "          V         W         X         Y         Z\n",
       "B  0.443548 -0.457618 -0.617701  1.273738  0.656037\n",
       "C -1.273016  0.336221  1.457579 -0.196704  1.260875\n",
       "D -2.233890 -1.149824  1.914845 -0.206768  1.708077\n",
       "E -0.283420 -1.084131  0.510533  1.645422  2.155955"
      ]
     },
     "execution_count": 144,
     "metadata": {},
     "output_type": "execute_result"
    }
   ],
   "source": [
    "df[df['Z'] > 0]  # reports back the DataFrame where column 'Z' is greater then '0'"
   ]
  },
  {
   "cell_type": "code",
   "execution_count": 145,
   "metadata": {},
   "outputs": [
    {
     "data": {
      "text/html": [
       "<div>\n",
       "<style scoped>\n",
       "    .dataframe tbody tr th:only-of-type {\n",
       "        vertical-align: middle;\n",
       "    }\n",
       "\n",
       "    .dataframe tbody tr th {\n",
       "        vertical-align: top;\n",
       "    }\n",
       "\n",
       "    .dataframe thead th {\n",
       "        text-align: right;\n",
       "    }\n",
       "</style>\n",
       "<table border=\"1\" class=\"dataframe\">\n",
       "  <thead>\n",
       "    <tr style=\"text-align: right;\">\n",
       "      <th></th>\n",
       "      <th>V</th>\n",
       "      <th>W</th>\n",
       "      <th>X</th>\n",
       "      <th>Y</th>\n",
       "      <th>Z</th>\n",
       "    </tr>\n",
       "  </thead>\n",
       "  <tbody>\n",
       "    <tr>\n",
       "      <th>A</th>\n",
       "      <td>-0.410090</td>\n",
       "      <td>0.162665</td>\n",
       "      <td>0.388813</td>\n",
       "      <td>-0.567844</td>\n",
       "      <td>-0.179032</td>\n",
       "    </tr>\n",
       "    <tr>\n",
       "      <th>B</th>\n",
       "      <td>0.443548</td>\n",
       "      <td>-0.457618</td>\n",
       "      <td>-0.617701</td>\n",
       "      <td>1.273738</td>\n",
       "      <td>0.656037</td>\n",
       "    </tr>\n",
       "    <tr>\n",
       "      <th>C</th>\n",
       "      <td>-1.273016</td>\n",
       "      <td>0.336221</td>\n",
       "      <td>1.457579</td>\n",
       "      <td>-0.196704</td>\n",
       "      <td>1.260875</td>\n",
       "    </tr>\n",
       "    <tr>\n",
       "      <th>D</th>\n",
       "      <td>-2.233890</td>\n",
       "      <td>-1.149824</td>\n",
       "      <td>1.914845</td>\n",
       "      <td>-0.206768</td>\n",
       "      <td>1.708077</td>\n",
       "    </tr>\n",
       "    <tr>\n",
       "      <th>E</th>\n",
       "      <td>-0.283420</td>\n",
       "      <td>-1.084131</td>\n",
       "      <td>0.510533</td>\n",
       "      <td>1.645422</td>\n",
       "      <td>2.155955</td>\n",
       "    </tr>\n",
       "  </tbody>\n",
       "</table>\n",
       "</div>"
      ],
      "text/plain": [
       "          V         W         X         Y         Z\n",
       "A -0.410090  0.162665  0.388813 -0.567844 -0.179032\n",
       "B  0.443548 -0.457618 -0.617701  1.273738  0.656037\n",
       "C -1.273016  0.336221  1.457579 -0.196704  1.260875\n",
       "D -2.233890 -1.149824  1.914845 -0.206768  1.708077\n",
       "E -0.283420 -1.084131  0.510533  1.645422  2.155955"
      ]
     },
     "execution_count": 145,
     "metadata": {},
     "output_type": "execute_result"
    }
   ],
   "source": [
    "df"
   ]
  },
  {
   "cell_type": "code",
   "execution_count": 147,
   "metadata": {},
   "outputs": [
    {
     "data": {
      "text/html": [
       "<div>\n",
       "<style scoped>\n",
       "    .dataframe tbody tr th:only-of-type {\n",
       "        vertical-align: middle;\n",
       "    }\n",
       "\n",
       "    .dataframe tbody tr th {\n",
       "        vertical-align: top;\n",
       "    }\n",
       "\n",
       "    .dataframe thead th {\n",
       "        text-align: right;\n",
       "    }\n",
       "</style>\n",
       "<table border=\"1\" class=\"dataframe\">\n",
       "  <thead>\n",
       "    <tr style=\"text-align: right;\">\n",
       "      <th></th>\n",
       "      <th>V</th>\n",
       "      <th>W</th>\n",
       "      <th>X</th>\n",
       "      <th>Y</th>\n",
       "      <th>Z</th>\n",
       "    </tr>\n",
       "  </thead>\n",
       "  <tbody>\n",
       "    <tr>\n",
       "      <th>A</th>\n",
       "      <td>-0.410090</td>\n",
       "      <td>0.162665</td>\n",
       "      <td>0.388813</td>\n",
       "      <td>-0.567844</td>\n",
       "      <td>-0.179032</td>\n",
       "    </tr>\n",
       "    <tr>\n",
       "      <th>B</th>\n",
       "      <td>0.443548</td>\n",
       "      <td>-0.457618</td>\n",
       "      <td>-0.617701</td>\n",
       "      <td>1.273738</td>\n",
       "      <td>0.656037</td>\n",
       "    </tr>\n",
       "    <tr>\n",
       "      <th>C</th>\n",
       "      <td>-1.273016</td>\n",
       "      <td>0.336221</td>\n",
       "      <td>1.457579</td>\n",
       "      <td>-0.196704</td>\n",
       "      <td>1.260875</td>\n",
       "    </tr>\n",
       "    <tr>\n",
       "      <th>D</th>\n",
       "      <td>-2.233890</td>\n",
       "      <td>-1.149824</td>\n",
       "      <td>1.914845</td>\n",
       "      <td>-0.206768</td>\n",
       "      <td>1.708077</td>\n",
       "    </tr>\n",
       "    <tr>\n",
       "      <th>E</th>\n",
       "      <td>-0.283420</td>\n",
       "      <td>-1.084131</td>\n",
       "      <td>0.510533</td>\n",
       "      <td>1.645422</td>\n",
       "      <td>2.155955</td>\n",
       "    </tr>\n",
       "  </tbody>\n",
       "</table>\n",
       "</div>"
      ],
      "text/plain": [
       "          V         W         X         Y         Z\n",
       "A -0.410090  0.162665  0.388813 -0.567844 -0.179032\n",
       "B  0.443548 -0.457618 -0.617701  1.273738  0.656037\n",
       "C -1.273016  0.336221  1.457579 -0.196704  1.260875\n",
       "D -2.233890 -1.149824  1.914845 -0.206768  1.708077\n",
       "E -0.283420 -1.084131  0.510533  1.645422  2.155955"
      ]
     },
     "execution_count": 147,
     "metadata": {},
     "output_type": "execute_result"
    }
   ],
   "source": [
    "df[df['V'] < 1] # reports back the DataFrame where column 'V' is less then '1'"
   ]
  },
  {
   "cell_type": "code",
   "execution_count": 148,
   "metadata": {},
   "outputs": [
    {
     "data": {
      "text/plain": [
       "A   -0.567844\n",
       "C   -0.196704\n",
       "Name: Y, dtype: float64"
      ]
     },
     "execution_count": 148,
     "metadata": {},
     "output_type": "execute_result"
    }
   ],
   "source": [
    "# Grabbing the values of one column with respect to other column\n",
    "\n",
    "df[df['W'] > 0]['Y'] # reports back values of column 'Y' where column 'W' is greater then '0'"
   ]
  },
  {
   "cell_type": "code",
   "execution_count": 149,
   "metadata": {},
   "outputs": [
    {
     "data": {
      "text/plain": [
       "A   -0.179032\n",
       "B    0.656037\n",
       "E    2.155955\n",
       "Name: Z, dtype: float64"
      ]
     },
     "execution_count": 149,
     "metadata": {},
     "output_type": "execute_result"
    }
   ],
   "source": [
    "df[df['X'] < 1]['Z'] # reports back the values of column 'Z' where column 'X' is less then '1'"
   ]
  },
  {
   "cell_type": "code",
   "execution_count": 151,
   "metadata": {},
   "outputs": [
    {
     "data": {
      "text/html": [
       "<div>\n",
       "<style scoped>\n",
       "    .dataframe tbody tr th:only-of-type {\n",
       "        vertical-align: middle;\n",
       "    }\n",
       "\n",
       "    .dataframe tbody tr th {\n",
       "        vertical-align: top;\n",
       "    }\n",
       "\n",
       "    .dataframe thead th {\n",
       "        text-align: right;\n",
       "    }\n",
       "</style>\n",
       "<table border=\"1\" class=\"dataframe\">\n",
       "  <thead>\n",
       "    <tr style=\"text-align: right;\">\n",
       "      <th></th>\n",
       "      <th>V</th>\n",
       "      <th>Z</th>\n",
       "    </tr>\n",
       "  </thead>\n",
       "  <tbody>\n",
       "    <tr>\n",
       "      <th>B</th>\n",
       "      <td>0.443548</td>\n",
       "      <td>0.656037</td>\n",
       "    </tr>\n",
       "    <tr>\n",
       "      <th>E</th>\n",
       "      <td>-0.283420</td>\n",
       "      <td>2.155955</td>\n",
       "    </tr>\n",
       "  </tbody>\n",
       "</table>\n",
       "</div>"
      ],
      "text/plain": [
       "          V         Z\n",
       "B  0.443548  0.656037\n",
       "E -0.283420  2.155955"
      ]
     },
     "execution_count": 151,
     "metadata": {},
     "output_type": "execute_result"
    }
   ],
   "source": [
    "# similarly we can also pass in the list of columns\n",
    "\n",
    "# like\n",
    "\n",
    "df[df['Y'] > 0][['V','Z']] # reports back the values of columns 'V' and 'Z' where column 'Y' is greater then '0'"
   ]
  },
  {
   "cell_type": "code",
   "execution_count": 154,
   "metadata": {},
   "outputs": [
    {
     "data": {
      "text/html": [
       "<div>\n",
       "<style scoped>\n",
       "    .dataframe tbody tr th:only-of-type {\n",
       "        vertical-align: middle;\n",
       "    }\n",
       "\n",
       "    .dataframe tbody tr th {\n",
       "        vertical-align: top;\n",
       "    }\n",
       "\n",
       "    .dataframe thead th {\n",
       "        text-align: right;\n",
       "    }\n",
       "</style>\n",
       "<table border=\"1\" class=\"dataframe\">\n",
       "  <thead>\n",
       "    <tr style=\"text-align: right;\">\n",
       "      <th></th>\n",
       "      <th>X</th>\n",
       "      <th>Y</th>\n",
       "    </tr>\n",
       "  </thead>\n",
       "  <tbody>\n",
       "    <tr>\n",
       "      <th>A</th>\n",
       "      <td>0.388813</td>\n",
       "      <td>-0.567844</td>\n",
       "    </tr>\n",
       "    <tr>\n",
       "      <th>B</th>\n",
       "      <td>-0.617701</td>\n",
       "      <td>1.273738</td>\n",
       "    </tr>\n",
       "    <tr>\n",
       "      <th>C</th>\n",
       "      <td>1.457579</td>\n",
       "      <td>-0.196704</td>\n",
       "    </tr>\n",
       "    <tr>\n",
       "      <th>D</th>\n",
       "      <td>1.914845</td>\n",
       "      <td>-0.206768</td>\n",
       "    </tr>\n",
       "    <tr>\n",
       "      <th>E</th>\n",
       "      <td>0.510533</td>\n",
       "      <td>1.645422</td>\n",
       "    </tr>\n",
       "  </tbody>\n",
       "</table>\n",
       "</div>"
      ],
      "text/plain": [
       "          X         Y\n",
       "A  0.388813 -0.567844\n",
       "B -0.617701  1.273738\n",
       "C  1.457579 -0.196704\n",
       "D  1.914845 -0.206768\n",
       "E  0.510533  1.645422"
      ]
     },
     "execution_count": 154,
     "metadata": {},
     "output_type": "execute_result"
    }
   ],
   "source": [
    "df[df['W'] < 1][['X','Y']]"
   ]
  },
  {
   "cell_type": "code",
   "execution_count": 155,
   "metadata": {},
   "outputs": [
    {
     "data": {
      "text/html": [
       "<div>\n",
       "<style scoped>\n",
       "    .dataframe tbody tr th:only-of-type {\n",
       "        vertical-align: middle;\n",
       "    }\n",
       "\n",
       "    .dataframe tbody tr th {\n",
       "        vertical-align: top;\n",
       "    }\n",
       "\n",
       "    .dataframe thead th {\n",
       "        text-align: right;\n",
       "    }\n",
       "</style>\n",
       "<table border=\"1\" class=\"dataframe\">\n",
       "  <thead>\n",
       "    <tr style=\"text-align: right;\">\n",
       "      <th></th>\n",
       "      <th>Y</th>\n",
       "      <th>Z</th>\n",
       "    </tr>\n",
       "  </thead>\n",
       "  <tbody>\n",
       "    <tr>\n",
       "      <th>A</th>\n",
       "      <td>-0.567844</td>\n",
       "      <td>-0.179032</td>\n",
       "    </tr>\n",
       "    <tr>\n",
       "      <th>C</th>\n",
       "      <td>-0.196704</td>\n",
       "      <td>1.260875</td>\n",
       "    </tr>\n",
       "    <tr>\n",
       "      <th>D</th>\n",
       "      <td>-0.206768</td>\n",
       "      <td>1.708077</td>\n",
       "    </tr>\n",
       "    <tr>\n",
       "      <th>E</th>\n",
       "      <td>1.645422</td>\n",
       "      <td>2.155955</td>\n",
       "    </tr>\n",
       "  </tbody>\n",
       "</table>\n",
       "</div>"
      ],
      "text/plain": [
       "          Y         Z\n",
       "A -0.567844 -0.179032\n",
       "C -0.196704  1.260875\n",
       "D -0.206768  1.708077\n",
       "E  1.645422  2.155955"
      ]
     },
     "execution_count": 155,
     "metadata": {},
     "output_type": "execute_result"
    }
   ],
   "source": [
    "df[df['X'] > 0][['Y','Z']] "
   ]
  },
  {
   "cell_type": "code",
   "execution_count": 156,
   "metadata": {},
   "outputs": [],
   "source": [
    "# for two conditions we can use '&' and '|' operators"
   ]
  },
  {
   "cell_type": "code",
   "execution_count": 159,
   "metadata": {},
   "outputs": [
    {
     "data": {
      "text/html": [
       "<div>\n",
       "<style scoped>\n",
       "    .dataframe tbody tr th:only-of-type {\n",
       "        vertical-align: middle;\n",
       "    }\n",
       "\n",
       "    .dataframe tbody tr th {\n",
       "        vertical-align: top;\n",
       "    }\n",
       "\n",
       "    .dataframe thead th {\n",
       "        text-align: right;\n",
       "    }\n",
       "</style>\n",
       "<table border=\"1\" class=\"dataframe\">\n",
       "  <thead>\n",
       "    <tr style=\"text-align: right;\">\n",
       "      <th></th>\n",
       "      <th>V</th>\n",
       "      <th>W</th>\n",
       "      <th>X</th>\n",
       "      <th>Y</th>\n",
       "      <th>Z</th>\n",
       "    </tr>\n",
       "  </thead>\n",
       "  <tbody>\n",
       "    <tr>\n",
       "      <th>A</th>\n",
       "      <td>-0.410090</td>\n",
       "      <td>0.162665</td>\n",
       "      <td>0.388813</td>\n",
       "      <td>-0.567844</td>\n",
       "      <td>-0.179032</td>\n",
       "    </tr>\n",
       "    <tr>\n",
       "      <th>C</th>\n",
       "      <td>-1.273016</td>\n",
       "      <td>0.336221</td>\n",
       "      <td>1.457579</td>\n",
       "      <td>-0.196704</td>\n",
       "      <td>1.260875</td>\n",
       "    </tr>\n",
       "  </tbody>\n",
       "</table>\n",
       "</div>"
      ],
      "text/plain": [
       "          V         W         X         Y         Z\n",
       "A -0.410090  0.162665  0.388813 -0.567844 -0.179032\n",
       "C -1.273016  0.336221  1.457579 -0.196704  1.260875"
      ]
     },
     "execution_count": 159,
     "metadata": {},
     "output_type": "execute_result"
    }
   ],
   "source": [
    "df[(df['W'] > 0) & (df['Y'] < 1)] # will report back the DataFrame where, column 'W' > 0 AND column 'Y' < 1"
   ]
  },
  {
   "cell_type": "code",
   "execution_count": 158,
   "metadata": {},
   "outputs": [
    {
     "data": {
      "text/html": [
       "<div>\n",
       "<style scoped>\n",
       "    .dataframe tbody tr th:only-of-type {\n",
       "        vertical-align: middle;\n",
       "    }\n",
       "\n",
       "    .dataframe tbody tr th {\n",
       "        vertical-align: top;\n",
       "    }\n",
       "\n",
       "    .dataframe thead th {\n",
       "        text-align: right;\n",
       "    }\n",
       "</style>\n",
       "<table border=\"1\" class=\"dataframe\">\n",
       "  <thead>\n",
       "    <tr style=\"text-align: right;\">\n",
       "      <th></th>\n",
       "      <th>V</th>\n",
       "      <th>W</th>\n",
       "      <th>X</th>\n",
       "      <th>Y</th>\n",
       "      <th>Z</th>\n",
       "    </tr>\n",
       "  </thead>\n",
       "  <tbody>\n",
       "    <tr>\n",
       "      <th>A</th>\n",
       "      <td>-0.410090</td>\n",
       "      <td>0.162665</td>\n",
       "      <td>0.388813</td>\n",
       "      <td>-0.567844</td>\n",
       "      <td>-0.179032</td>\n",
       "    </tr>\n",
       "    <tr>\n",
       "      <th>B</th>\n",
       "      <td>0.443548</td>\n",
       "      <td>-0.457618</td>\n",
       "      <td>-0.617701</td>\n",
       "      <td>1.273738</td>\n",
       "      <td>0.656037</td>\n",
       "    </tr>\n",
       "    <tr>\n",
       "      <th>C</th>\n",
       "      <td>-1.273016</td>\n",
       "      <td>0.336221</td>\n",
       "      <td>1.457579</td>\n",
       "      <td>-0.196704</td>\n",
       "      <td>1.260875</td>\n",
       "    </tr>\n",
       "    <tr>\n",
       "      <th>D</th>\n",
       "      <td>-2.233890</td>\n",
       "      <td>-1.149824</td>\n",
       "      <td>1.914845</td>\n",
       "      <td>-0.206768</td>\n",
       "      <td>1.708077</td>\n",
       "    </tr>\n",
       "    <tr>\n",
       "      <th>E</th>\n",
       "      <td>-0.283420</td>\n",
       "      <td>-1.084131</td>\n",
       "      <td>0.510533</td>\n",
       "      <td>1.645422</td>\n",
       "      <td>2.155955</td>\n",
       "    </tr>\n",
       "  </tbody>\n",
       "</table>\n",
       "</div>"
      ],
      "text/plain": [
       "          V         W         X         Y         Z\n",
       "A -0.410090  0.162665  0.388813 -0.567844 -0.179032\n",
       "B  0.443548 -0.457618 -0.617701  1.273738  0.656037\n",
       "C -1.273016  0.336221  1.457579 -0.196704  1.260875\n",
       "D -2.233890 -1.149824  1.914845 -0.206768  1.708077\n",
       "E -0.283420 -1.084131  0.510533  1.645422  2.155955"
      ]
     },
     "execution_count": 158,
     "metadata": {},
     "output_type": "execute_result"
    }
   ],
   "source": [
    "df"
   ]
  },
  {
   "cell_type": "code",
   "execution_count": 163,
   "metadata": {},
   "outputs": [
    {
     "data": {
      "text/html": [
       "<div>\n",
       "<style scoped>\n",
       "    .dataframe tbody tr th:only-of-type {\n",
       "        vertical-align: middle;\n",
       "    }\n",
       "\n",
       "    .dataframe tbody tr th {\n",
       "        vertical-align: top;\n",
       "    }\n",
       "\n",
       "    .dataframe thead th {\n",
       "        text-align: right;\n",
       "    }\n",
       "</style>\n",
       "<table border=\"1\" class=\"dataframe\">\n",
       "  <thead>\n",
       "    <tr style=\"text-align: right;\">\n",
       "      <th></th>\n",
       "      <th>V</th>\n",
       "      <th>W</th>\n",
       "      <th>X</th>\n",
       "      <th>Y</th>\n",
       "      <th>Z</th>\n",
       "    </tr>\n",
       "  </thead>\n",
       "  <tbody>\n",
       "    <tr>\n",
       "      <th>A</th>\n",
       "      <td>-0.41009</td>\n",
       "      <td>0.162665</td>\n",
       "      <td>0.388813</td>\n",
       "      <td>-0.567844</td>\n",
       "      <td>-0.179032</td>\n",
       "    </tr>\n",
       "  </tbody>\n",
       "</table>\n",
       "</div>"
      ],
      "text/plain": [
       "         V         W         X         Y         Z\n",
       "A -0.41009  0.162665  0.388813 -0.567844 -0.179032"
      ]
     },
     "execution_count": 163,
     "metadata": {},
     "output_type": "execute_result"
    }
   ],
   "source": [
    "df[(df['W'] > 0) & (df['Z'] < 0)] # reports back the DataFrame where column 'W' > 0 AND column 'Z' < 0"
   ]
  },
  {
   "cell_type": "code",
   "execution_count": 166,
   "metadata": {},
   "outputs": [
    {
     "data": {
      "text/html": [
       "<div>\n",
       "<style scoped>\n",
       "    .dataframe tbody tr th:only-of-type {\n",
       "        vertical-align: middle;\n",
       "    }\n",
       "\n",
       "    .dataframe tbody tr th {\n",
       "        vertical-align: top;\n",
       "    }\n",
       "\n",
       "    .dataframe thead th {\n",
       "        text-align: right;\n",
       "    }\n",
       "</style>\n",
       "<table border=\"1\" class=\"dataframe\">\n",
       "  <thead>\n",
       "    <tr style=\"text-align: right;\">\n",
       "      <th></th>\n",
       "      <th>V</th>\n",
       "      <th>W</th>\n",
       "      <th>X</th>\n",
       "      <th>Y</th>\n",
       "      <th>Z</th>\n",
       "    </tr>\n",
       "  </thead>\n",
       "  <tbody>\n",
       "    <tr>\n",
       "      <th>A</th>\n",
       "      <td>-0.410090</td>\n",
       "      <td>0.162665</td>\n",
       "      <td>0.388813</td>\n",
       "      <td>-0.567844</td>\n",
       "      <td>-0.179032</td>\n",
       "    </tr>\n",
       "    <tr>\n",
       "      <th>C</th>\n",
       "      <td>-1.273016</td>\n",
       "      <td>0.336221</td>\n",
       "      <td>1.457579</td>\n",
       "      <td>-0.196704</td>\n",
       "      <td>1.260875</td>\n",
       "    </tr>\n",
       "    <tr>\n",
       "      <th>D</th>\n",
       "      <td>-2.233890</td>\n",
       "      <td>-1.149824</td>\n",
       "      <td>1.914845</td>\n",
       "      <td>-0.206768</td>\n",
       "      <td>1.708077</td>\n",
       "    </tr>\n",
       "    <tr>\n",
       "      <th>E</th>\n",
       "      <td>-0.283420</td>\n",
       "      <td>-1.084131</td>\n",
       "      <td>0.510533</td>\n",
       "      <td>1.645422</td>\n",
       "      <td>2.155955</td>\n",
       "    </tr>\n",
       "  </tbody>\n",
       "</table>\n",
       "</div>"
      ],
      "text/plain": [
       "          V         W         X         Y         Z\n",
       "A -0.410090  0.162665  0.388813 -0.567844 -0.179032\n",
       "C -1.273016  0.336221  1.457579 -0.196704  1.260875\n",
       "D -2.233890 -1.149824  1.914845 -0.206768  1.708077\n",
       "E -0.283420 -1.084131  0.510533  1.645422  2.155955"
      ]
     },
     "execution_count": 166,
     "metadata": {},
     "output_type": "execute_result"
    }
   ],
   "source": [
    "df[(df['V'] < 0) | (df['Z'] > 1)]"
   ]
  },
  {
   "cell_type": "code",
   "execution_count": 168,
   "metadata": {},
   "outputs": [
    {
     "data": {
      "text/html": [
       "<div>\n",
       "<style scoped>\n",
       "    .dataframe tbody tr th:only-of-type {\n",
       "        vertical-align: middle;\n",
       "    }\n",
       "\n",
       "    .dataframe tbody tr th {\n",
       "        vertical-align: top;\n",
       "    }\n",
       "\n",
       "    .dataframe thead th {\n",
       "        text-align: right;\n",
       "    }\n",
       "</style>\n",
       "<table border=\"1\" class=\"dataframe\">\n",
       "  <thead>\n",
       "    <tr style=\"text-align: right;\">\n",
       "      <th></th>\n",
       "      <th>V</th>\n",
       "      <th>W</th>\n",
       "      <th>X</th>\n",
       "      <th>Y</th>\n",
       "      <th>Z</th>\n",
       "    </tr>\n",
       "  </thead>\n",
       "  <tbody>\n",
       "  </tbody>\n",
       "</table>\n",
       "</div>"
      ],
      "text/plain": [
       "Empty DataFrame\n",
       "Columns: [V, W, X, Y, Z]\n",
       "Index: []"
      ]
     },
     "execution_count": 168,
     "metadata": {},
     "output_type": "execute_result"
    }
   ],
   "source": [
    "df[(df['V'] > 1) & (df['X'] > 1)]  # reports back the DataFrame where column 'V' > 1 AND column 'X' > 1"
   ]
  },
  {
   "cell_type": "markdown",
   "metadata": {},
   "source": [
    "## More indexing details:"
   ]
  },
  {
   "cell_type": "code",
   "execution_count": 169,
   "metadata": {},
   "outputs": [
    {
     "data": {
      "text/html": [
       "<div>\n",
       "<style scoped>\n",
       "    .dataframe tbody tr th:only-of-type {\n",
       "        vertical-align: middle;\n",
       "    }\n",
       "\n",
       "    .dataframe tbody tr th {\n",
       "        vertical-align: top;\n",
       "    }\n",
       "\n",
       "    .dataframe thead th {\n",
       "        text-align: right;\n",
       "    }\n",
       "</style>\n",
       "<table border=\"1\" class=\"dataframe\">\n",
       "  <thead>\n",
       "    <tr style=\"text-align: right;\">\n",
       "      <th></th>\n",
       "      <th>V</th>\n",
       "      <th>W</th>\n",
       "      <th>X</th>\n",
       "      <th>Y</th>\n",
       "      <th>Z</th>\n",
       "    </tr>\n",
       "  </thead>\n",
       "  <tbody>\n",
       "    <tr>\n",
       "      <th>A</th>\n",
       "      <td>-0.410090</td>\n",
       "      <td>0.162665</td>\n",
       "      <td>0.388813</td>\n",
       "      <td>-0.567844</td>\n",
       "      <td>-0.179032</td>\n",
       "    </tr>\n",
       "    <tr>\n",
       "      <th>B</th>\n",
       "      <td>0.443548</td>\n",
       "      <td>-0.457618</td>\n",
       "      <td>-0.617701</td>\n",
       "      <td>1.273738</td>\n",
       "      <td>0.656037</td>\n",
       "    </tr>\n",
       "    <tr>\n",
       "      <th>C</th>\n",
       "      <td>-1.273016</td>\n",
       "      <td>0.336221</td>\n",
       "      <td>1.457579</td>\n",
       "      <td>-0.196704</td>\n",
       "      <td>1.260875</td>\n",
       "    </tr>\n",
       "    <tr>\n",
       "      <th>D</th>\n",
       "      <td>-2.233890</td>\n",
       "      <td>-1.149824</td>\n",
       "      <td>1.914845</td>\n",
       "      <td>-0.206768</td>\n",
       "      <td>1.708077</td>\n",
       "    </tr>\n",
       "    <tr>\n",
       "      <th>E</th>\n",
       "      <td>-0.283420</td>\n",
       "      <td>-1.084131</td>\n",
       "      <td>0.510533</td>\n",
       "      <td>1.645422</td>\n",
       "      <td>2.155955</td>\n",
       "    </tr>\n",
       "  </tbody>\n",
       "</table>\n",
       "</div>"
      ],
      "text/plain": [
       "          V         W         X         Y         Z\n",
       "A -0.410090  0.162665  0.388813 -0.567844 -0.179032\n",
       "B  0.443548 -0.457618 -0.617701  1.273738  0.656037\n",
       "C -1.273016  0.336221  1.457579 -0.196704  1.260875\n",
       "D -2.233890 -1.149824  1.914845 -0.206768  1.708077\n",
       "E -0.283420 -1.084131  0.510533  1.645422  2.155955"
      ]
     },
     "execution_count": 169,
     "metadata": {},
     "output_type": "execute_result"
    }
   ],
   "source": [
    "df"
   ]
  },
  {
   "cell_type": "code",
   "execution_count": 170,
   "metadata": {},
   "outputs": [
    {
     "data": {
      "text/html": [
       "<div>\n",
       "<style scoped>\n",
       "    .dataframe tbody tr th:only-of-type {\n",
       "        vertical-align: middle;\n",
       "    }\n",
       "\n",
       "    .dataframe tbody tr th {\n",
       "        vertical-align: top;\n",
       "    }\n",
       "\n",
       "    .dataframe thead th {\n",
       "        text-align: right;\n",
       "    }\n",
       "</style>\n",
       "<table border=\"1\" class=\"dataframe\">\n",
       "  <thead>\n",
       "    <tr style=\"text-align: right;\">\n",
       "      <th></th>\n",
       "      <th>index</th>\n",
       "      <th>V</th>\n",
       "      <th>W</th>\n",
       "      <th>X</th>\n",
       "      <th>Y</th>\n",
       "      <th>Z</th>\n",
       "    </tr>\n",
       "  </thead>\n",
       "  <tbody>\n",
       "    <tr>\n",
       "      <th>0</th>\n",
       "      <td>A</td>\n",
       "      <td>-0.410090</td>\n",
       "      <td>0.162665</td>\n",
       "      <td>0.388813</td>\n",
       "      <td>-0.567844</td>\n",
       "      <td>-0.179032</td>\n",
       "    </tr>\n",
       "    <tr>\n",
       "      <th>1</th>\n",
       "      <td>B</td>\n",
       "      <td>0.443548</td>\n",
       "      <td>-0.457618</td>\n",
       "      <td>-0.617701</td>\n",
       "      <td>1.273738</td>\n",
       "      <td>0.656037</td>\n",
       "    </tr>\n",
       "    <tr>\n",
       "      <th>2</th>\n",
       "      <td>C</td>\n",
       "      <td>-1.273016</td>\n",
       "      <td>0.336221</td>\n",
       "      <td>1.457579</td>\n",
       "      <td>-0.196704</td>\n",
       "      <td>1.260875</td>\n",
       "    </tr>\n",
       "    <tr>\n",
       "      <th>3</th>\n",
       "      <td>D</td>\n",
       "      <td>-2.233890</td>\n",
       "      <td>-1.149824</td>\n",
       "      <td>1.914845</td>\n",
       "      <td>-0.206768</td>\n",
       "      <td>1.708077</td>\n",
       "    </tr>\n",
       "    <tr>\n",
       "      <th>4</th>\n",
       "      <td>E</td>\n",
       "      <td>-0.283420</td>\n",
       "      <td>-1.084131</td>\n",
       "      <td>0.510533</td>\n",
       "      <td>1.645422</td>\n",
       "      <td>2.155955</td>\n",
       "    </tr>\n",
       "  </tbody>\n",
       "</table>\n",
       "</div>"
      ],
      "text/plain": [
       "  index         V         W         X         Y         Z\n",
       "0     A -0.410090  0.162665  0.388813 -0.567844 -0.179032\n",
       "1     B  0.443548 -0.457618 -0.617701  1.273738  0.656037\n",
       "2     C -1.273016  0.336221  1.457579 -0.196704  1.260875\n",
       "3     D -2.233890 -1.149824  1.914845 -0.206768  1.708077\n",
       "4     E -0.283420 -1.084131  0.510533  1.645422  2.155955"
      ]
     },
     "execution_count": 170,
     "metadata": {},
     "output_type": "execute_result"
    }
   ],
   "source": [
    "# reset index to default 0,1,2,..\n",
    "\n",
    "df.reset_index()"
   ]
  },
  {
   "cell_type": "code",
   "execution_count": 171,
   "metadata": {},
   "outputs": [
    {
     "data": {
      "text/html": [
       "<div>\n",
       "<style scoped>\n",
       "    .dataframe tbody tr th:only-of-type {\n",
       "        vertical-align: middle;\n",
       "    }\n",
       "\n",
       "    .dataframe tbody tr th {\n",
       "        vertical-align: top;\n",
       "    }\n",
       "\n",
       "    .dataframe thead th {\n",
       "        text-align: right;\n",
       "    }\n",
       "</style>\n",
       "<table border=\"1\" class=\"dataframe\">\n",
       "  <thead>\n",
       "    <tr style=\"text-align: right;\">\n",
       "      <th></th>\n",
       "      <th>index</th>\n",
       "      <th>V</th>\n",
       "      <th>W</th>\n",
       "      <th>X</th>\n",
       "      <th>Y</th>\n",
       "      <th>Z</th>\n",
       "    </tr>\n",
       "  </thead>\n",
       "  <tbody>\n",
       "    <tr>\n",
       "      <th>0</th>\n",
       "      <td>A</td>\n",
       "      <td>-0.410090</td>\n",
       "      <td>0.162665</td>\n",
       "      <td>0.388813</td>\n",
       "      <td>-0.567844</td>\n",
       "      <td>-0.179032</td>\n",
       "    </tr>\n",
       "    <tr>\n",
       "      <th>1</th>\n",
       "      <td>B</td>\n",
       "      <td>0.443548</td>\n",
       "      <td>-0.457618</td>\n",
       "      <td>-0.617701</td>\n",
       "      <td>1.273738</td>\n",
       "      <td>0.656037</td>\n",
       "    </tr>\n",
       "    <tr>\n",
       "      <th>2</th>\n",
       "      <td>C</td>\n",
       "      <td>-1.273016</td>\n",
       "      <td>0.336221</td>\n",
       "      <td>1.457579</td>\n",
       "      <td>-0.196704</td>\n",
       "      <td>1.260875</td>\n",
       "    </tr>\n",
       "    <tr>\n",
       "      <th>3</th>\n",
       "      <td>D</td>\n",
       "      <td>-2.233890</td>\n",
       "      <td>-1.149824</td>\n",
       "      <td>1.914845</td>\n",
       "      <td>-0.206768</td>\n",
       "      <td>1.708077</td>\n",
       "    </tr>\n",
       "    <tr>\n",
       "      <th>4</th>\n",
       "      <td>E</td>\n",
       "      <td>-0.283420</td>\n",
       "      <td>-1.084131</td>\n",
       "      <td>0.510533</td>\n",
       "      <td>1.645422</td>\n",
       "      <td>2.155955</td>\n",
       "    </tr>\n",
       "  </tbody>\n",
       "</table>\n",
       "</div>"
      ],
      "text/plain": [
       "  index         V         W         X         Y         Z\n",
       "0     A -0.410090  0.162665  0.388813 -0.567844 -0.179032\n",
       "1     B  0.443548 -0.457618 -0.617701  1.273738  0.656037\n",
       "2     C -1.273016  0.336221  1.457579 -0.196704  1.260875\n",
       "3     D -2.233890 -1.149824  1.914845 -0.206768  1.708077\n",
       "4     E -0.283420 -1.084131  0.510533  1.645422  2.155955"
      ]
     },
     "execution_count": 171,
     "metadata": {},
     "output_type": "execute_result"
    }
   ],
   "source": [
    "df.reset_index()"
   ]
  },
  {
   "cell_type": "code",
   "execution_count": 178,
   "metadata": {},
   "outputs": [],
   "source": [
    "# Adding new index\n",
    "\n",
    "new_ind = 'KHI LHR PSW RWP ISB'.split()"
   ]
  },
  {
   "cell_type": "code",
   "execution_count": 173,
   "metadata": {},
   "outputs": [],
   "source": [
    "df['Cities'] = new_ind"
   ]
  },
  {
   "cell_type": "code",
   "execution_count": 177,
   "metadata": {},
   "outputs": [
    {
     "data": {
      "text/html": [
       "<div>\n",
       "<style scoped>\n",
       "    .dataframe tbody tr th:only-of-type {\n",
       "        vertical-align: middle;\n",
       "    }\n",
       "\n",
       "    .dataframe tbody tr th {\n",
       "        vertical-align: top;\n",
       "    }\n",
       "\n",
       "    .dataframe thead th {\n",
       "        text-align: right;\n",
       "    }\n",
       "</style>\n",
       "<table border=\"1\" class=\"dataframe\">\n",
       "  <thead>\n",
       "    <tr style=\"text-align: right;\">\n",
       "      <th></th>\n",
       "      <th>V</th>\n",
       "      <th>W</th>\n",
       "      <th>X</th>\n",
       "      <th>Y</th>\n",
       "      <th>Z</th>\n",
       "    </tr>\n",
       "    <tr>\n",
       "      <th>Cities</th>\n",
       "      <th></th>\n",
       "      <th></th>\n",
       "      <th></th>\n",
       "      <th></th>\n",
       "      <th></th>\n",
       "    </tr>\n",
       "  </thead>\n",
       "  <tbody>\n",
       "    <tr>\n",
       "      <th>KHI</th>\n",
       "      <td>-0.410090</td>\n",
       "      <td>0.162665</td>\n",
       "      <td>0.388813</td>\n",
       "      <td>-0.567844</td>\n",
       "      <td>-0.179032</td>\n",
       "    </tr>\n",
       "    <tr>\n",
       "      <th>LHR</th>\n",
       "      <td>0.443548</td>\n",
       "      <td>-0.457618</td>\n",
       "      <td>-0.617701</td>\n",
       "      <td>1.273738</td>\n",
       "      <td>0.656037</td>\n",
       "    </tr>\n",
       "    <tr>\n",
       "      <th>PSW</th>\n",
       "      <td>-1.273016</td>\n",
       "      <td>0.336221</td>\n",
       "      <td>1.457579</td>\n",
       "      <td>-0.196704</td>\n",
       "      <td>1.260875</td>\n",
       "    </tr>\n",
       "    <tr>\n",
       "      <th>RWP</th>\n",
       "      <td>-2.233890</td>\n",
       "      <td>-1.149824</td>\n",
       "      <td>1.914845</td>\n",
       "      <td>-0.206768</td>\n",
       "      <td>1.708077</td>\n",
       "    </tr>\n",
       "    <tr>\n",
       "      <th>ISB</th>\n",
       "      <td>-0.283420</td>\n",
       "      <td>-1.084131</td>\n",
       "      <td>0.510533</td>\n",
       "      <td>1.645422</td>\n",
       "      <td>2.155955</td>\n",
       "    </tr>\n",
       "  </tbody>\n",
       "</table>\n",
       "</div>"
      ],
      "text/plain": [
       "               V         W         X         Y         Z\n",
       "Cities                                                  \n",
       "KHI    -0.410090  0.162665  0.388813 -0.567844 -0.179032\n",
       "LHR     0.443548 -0.457618 -0.617701  1.273738  0.656037\n",
       "PSW    -1.273016  0.336221  1.457579 -0.196704  1.260875\n",
       "RWP    -2.233890 -1.149824  1.914845 -0.206768  1.708077\n",
       "ISB    -0.283420 -1.084131  0.510533  1.645422  2.155955"
      ]
     },
     "execution_count": 177,
     "metadata": {},
     "output_type": "execute_result"
    }
   ],
   "source": [
    "df.set_index('Cities')"
   ]
  },
  {
   "cell_type": "code",
   "execution_count": 179,
   "metadata": {},
   "outputs": [
    {
     "data": {
      "text/html": [
       "<div>\n",
       "<style scoped>\n",
       "    .dataframe tbody tr th:only-of-type {\n",
       "        vertical-align: middle;\n",
       "    }\n",
       "\n",
       "    .dataframe tbody tr th {\n",
       "        vertical-align: top;\n",
       "    }\n",
       "\n",
       "    .dataframe thead th {\n",
       "        text-align: right;\n",
       "    }\n",
       "</style>\n",
       "<table border=\"1\" class=\"dataframe\">\n",
       "  <thead>\n",
       "    <tr style=\"text-align: right;\">\n",
       "      <th></th>\n",
       "      <th>W</th>\n",
       "      <th>X</th>\n",
       "      <th>Y</th>\n",
       "      <th>Z</th>\n",
       "      <th>Cities</th>\n",
       "    </tr>\n",
       "    <tr>\n",
       "      <th>V</th>\n",
       "      <th></th>\n",
       "      <th></th>\n",
       "      <th></th>\n",
       "      <th></th>\n",
       "      <th></th>\n",
       "    </tr>\n",
       "  </thead>\n",
       "  <tbody>\n",
       "    <tr>\n",
       "      <th>-0.410090</th>\n",
       "      <td>0.162665</td>\n",
       "      <td>0.388813</td>\n",
       "      <td>-0.567844</td>\n",
       "      <td>-0.179032</td>\n",
       "      <td>KHI</td>\n",
       "    </tr>\n",
       "    <tr>\n",
       "      <th>0.443548</th>\n",
       "      <td>-0.457618</td>\n",
       "      <td>-0.617701</td>\n",
       "      <td>1.273738</td>\n",
       "      <td>0.656037</td>\n",
       "      <td>LHR</td>\n",
       "    </tr>\n",
       "    <tr>\n",
       "      <th>-1.273016</th>\n",
       "      <td>0.336221</td>\n",
       "      <td>1.457579</td>\n",
       "      <td>-0.196704</td>\n",
       "      <td>1.260875</td>\n",
       "      <td>PSW</td>\n",
       "    </tr>\n",
       "    <tr>\n",
       "      <th>-2.233890</th>\n",
       "      <td>-1.149824</td>\n",
       "      <td>1.914845</td>\n",
       "      <td>-0.206768</td>\n",
       "      <td>1.708077</td>\n",
       "      <td>RWP</td>\n",
       "    </tr>\n",
       "    <tr>\n",
       "      <th>-0.283420</th>\n",
       "      <td>-1.084131</td>\n",
       "      <td>0.510533</td>\n",
       "      <td>1.645422</td>\n",
       "      <td>2.155955</td>\n",
       "      <td>ISB</td>\n",
       "    </tr>\n",
       "  </tbody>\n",
       "</table>\n",
       "</div>"
      ],
      "text/plain": [
       "                  W         X         Y         Z Cities\n",
       "V                                                       \n",
       "-0.410090  0.162665  0.388813 -0.567844 -0.179032    KHI\n",
       " 0.443548 -0.457618 -0.617701  1.273738  0.656037    LHR\n",
       "-1.273016  0.336221  1.457579 -0.196704  1.260875    PSW\n",
       "-2.233890 -1.149824  1.914845 -0.206768  1.708077    RWP\n",
       "-0.283420 -1.084131  0.510533  1.645422  2.155955    ISB"
      ]
     },
     "execution_count": 179,
     "metadata": {},
     "output_type": "execute_result"
    }
   ],
   "source": [
    "# lets say we want to set column 'V' as index\n",
    "\n",
    "df.set_index('V')"
   ]
  },
  {
   "cell_type": "code",
   "execution_count": 180,
   "metadata": {},
   "outputs": [
    {
     "data": {
      "text/html": [
       "<div>\n",
       "<style scoped>\n",
       "    .dataframe tbody tr th:only-of-type {\n",
       "        vertical-align: middle;\n",
       "    }\n",
       "\n",
       "    .dataframe tbody tr th {\n",
       "        vertical-align: top;\n",
       "    }\n",
       "\n",
       "    .dataframe thead th {\n",
       "        text-align: right;\n",
       "    }\n",
       "</style>\n",
       "<table border=\"1\" class=\"dataframe\">\n",
       "  <thead>\n",
       "    <tr style=\"text-align: right;\">\n",
       "      <th></th>\n",
       "      <th>V</th>\n",
       "      <th>W</th>\n",
       "      <th>X</th>\n",
       "      <th>Y</th>\n",
       "      <th>Z</th>\n",
       "    </tr>\n",
       "    <tr>\n",
       "      <th>Cities</th>\n",
       "      <th></th>\n",
       "      <th></th>\n",
       "      <th></th>\n",
       "      <th></th>\n",
       "      <th></th>\n",
       "    </tr>\n",
       "  </thead>\n",
       "  <tbody>\n",
       "    <tr>\n",
       "      <th>KHI</th>\n",
       "      <td>-0.410090</td>\n",
       "      <td>0.162665</td>\n",
       "      <td>0.388813</td>\n",
       "      <td>-0.567844</td>\n",
       "      <td>-0.179032</td>\n",
       "    </tr>\n",
       "    <tr>\n",
       "      <th>LHR</th>\n",
       "      <td>0.443548</td>\n",
       "      <td>-0.457618</td>\n",
       "      <td>-0.617701</td>\n",
       "      <td>1.273738</td>\n",
       "      <td>0.656037</td>\n",
       "    </tr>\n",
       "    <tr>\n",
       "      <th>PSW</th>\n",
       "      <td>-1.273016</td>\n",
       "      <td>0.336221</td>\n",
       "      <td>1.457579</td>\n",
       "      <td>-0.196704</td>\n",
       "      <td>1.260875</td>\n",
       "    </tr>\n",
       "    <tr>\n",
       "      <th>RWP</th>\n",
       "      <td>-2.233890</td>\n",
       "      <td>-1.149824</td>\n",
       "      <td>1.914845</td>\n",
       "      <td>-0.206768</td>\n",
       "      <td>1.708077</td>\n",
       "    </tr>\n",
       "    <tr>\n",
       "      <th>ISB</th>\n",
       "      <td>-0.283420</td>\n",
       "      <td>-1.084131</td>\n",
       "      <td>0.510533</td>\n",
       "      <td>1.645422</td>\n",
       "      <td>2.155955</td>\n",
       "    </tr>\n",
       "  </tbody>\n",
       "</table>\n",
       "</div>"
      ],
      "text/plain": [
       "               V         W         X         Y         Z\n",
       "Cities                                                  \n",
       "KHI    -0.410090  0.162665  0.388813 -0.567844 -0.179032\n",
       "LHR     0.443548 -0.457618 -0.617701  1.273738  0.656037\n",
       "PSW    -1.273016  0.336221  1.457579 -0.196704  1.260875\n",
       "RWP    -2.233890 -1.149824  1.914845 -0.206768  1.708077\n",
       "ISB    -0.283420 -1.084131  0.510533  1.645422  2.155955"
      ]
     },
     "execution_count": 180,
     "metadata": {},
     "output_type": "execute_result"
    }
   ],
   "source": [
    "# againg setting Cities column as index..\n",
    "\n",
    "df.set_index('Cities')"
   ]
  },
  {
   "cell_type": "code",
   "execution_count": 181,
   "metadata": {},
   "outputs": [],
   "source": [
    "df.set_index('Cities', inplace = True)"
   ]
  },
  {
   "cell_type": "code",
   "execution_count": 182,
   "metadata": {},
   "outputs": [
    {
     "data": {
      "text/html": [
       "<div>\n",
       "<style scoped>\n",
       "    .dataframe tbody tr th:only-of-type {\n",
       "        vertical-align: middle;\n",
       "    }\n",
       "\n",
       "    .dataframe tbody tr th {\n",
       "        vertical-align: top;\n",
       "    }\n",
       "\n",
       "    .dataframe thead th {\n",
       "        text-align: right;\n",
       "    }\n",
       "</style>\n",
       "<table border=\"1\" class=\"dataframe\">\n",
       "  <thead>\n",
       "    <tr style=\"text-align: right;\">\n",
       "      <th></th>\n",
       "      <th>V</th>\n",
       "      <th>W</th>\n",
       "      <th>X</th>\n",
       "      <th>Y</th>\n",
       "      <th>Z</th>\n",
       "    </tr>\n",
       "    <tr>\n",
       "      <th>Cities</th>\n",
       "      <th></th>\n",
       "      <th></th>\n",
       "      <th></th>\n",
       "      <th></th>\n",
       "      <th></th>\n",
       "    </tr>\n",
       "  </thead>\n",
       "  <tbody>\n",
       "    <tr>\n",
       "      <th>KHI</th>\n",
       "      <td>-0.410090</td>\n",
       "      <td>0.162665</td>\n",
       "      <td>0.388813</td>\n",
       "      <td>-0.567844</td>\n",
       "      <td>-0.179032</td>\n",
       "    </tr>\n",
       "    <tr>\n",
       "      <th>LHR</th>\n",
       "      <td>0.443548</td>\n",
       "      <td>-0.457618</td>\n",
       "      <td>-0.617701</td>\n",
       "      <td>1.273738</td>\n",
       "      <td>0.656037</td>\n",
       "    </tr>\n",
       "    <tr>\n",
       "      <th>PSW</th>\n",
       "      <td>-1.273016</td>\n",
       "      <td>0.336221</td>\n",
       "      <td>1.457579</td>\n",
       "      <td>-0.196704</td>\n",
       "      <td>1.260875</td>\n",
       "    </tr>\n",
       "    <tr>\n",
       "      <th>RWP</th>\n",
       "      <td>-2.233890</td>\n",
       "      <td>-1.149824</td>\n",
       "      <td>1.914845</td>\n",
       "      <td>-0.206768</td>\n",
       "      <td>1.708077</td>\n",
       "    </tr>\n",
       "    <tr>\n",
       "      <th>ISB</th>\n",
       "      <td>-0.283420</td>\n",
       "      <td>-1.084131</td>\n",
       "      <td>0.510533</td>\n",
       "      <td>1.645422</td>\n",
       "      <td>2.155955</td>\n",
       "    </tr>\n",
       "  </tbody>\n",
       "</table>\n",
       "</div>"
      ],
      "text/plain": [
       "               V         W         X         Y         Z\n",
       "Cities                                                  \n",
       "KHI    -0.410090  0.162665  0.388813 -0.567844 -0.179032\n",
       "LHR     0.443548 -0.457618 -0.617701  1.273738  0.656037\n",
       "PSW    -1.273016  0.336221  1.457579 -0.196704  1.260875\n",
       "RWP    -2.233890 -1.149824  1.914845 -0.206768  1.708077\n",
       "ISB    -0.283420 -1.084131  0.510533  1.645422  2.155955"
      ]
     },
     "execution_count": 182,
     "metadata": {},
     "output_type": "execute_result"
    }
   ],
   "source": [
    "df"
   ]
  },
  {
   "cell_type": "markdown",
   "metadata": {},
   "source": [
    "## Multi-Index And Index Hierarchy:"
   ]
  },
  {
   "cell_type": "code",
   "execution_count": 184,
   "metadata": {},
   "outputs": [],
   "source": [
    "# lets first create a multi-index DataFrame first\n",
    "\n",
    "outer_index = 'G1 G1 G1 G2 G2 G2'.split()\n",
    "inner_index = [1,2,3,1,2,3]\n",
    "hier_index = list(zip(outer_index,inner_index))"
   ]
  },
  {
   "cell_type": "code",
   "execution_count": 185,
   "metadata": {},
   "outputs": [
    {
     "data": {
      "text/plain": [
       "[('G1', 1), ('G1', 2), ('G1', 3), ('G2', 1), ('G2', 2), ('G2', 3)]"
      ]
     },
     "execution_count": 185,
     "metadata": {},
     "output_type": "execute_result"
    }
   ],
   "source": [
    "hier_index"
   ]
  },
  {
   "cell_type": "code",
   "execution_count": 186,
   "metadata": {},
   "outputs": [],
   "source": [
    "hier_index = pd.MultiIndex.from_tuples(hier_index)"
   ]
  },
  {
   "cell_type": "code",
   "execution_count": 187,
   "metadata": {},
   "outputs": [
    {
     "data": {
      "text/plain": [
       "MultiIndex(levels=[['G1', 'G2'], [1, 2, 3]],\n",
       "           codes=[[0, 0, 0, 1, 1, 1], [0, 1, 2, 0, 1, 2]])"
      ]
     },
     "execution_count": 187,
     "metadata": {},
     "output_type": "execute_result"
    }
   ],
   "source": [
    "hier_index"
   ]
  },
  {
   "cell_type": "code",
   "execution_count": 190,
   "metadata": {},
   "outputs": [],
   "source": [
    "df = pd.DataFrame(np.random.randn(6,2),index=hier_index,columns=['A','B'])"
   ]
  },
  {
   "cell_type": "code",
   "execution_count": 192,
   "metadata": {},
   "outputs": [
    {
     "data": {
      "text/html": [
       "<div>\n",
       "<style scoped>\n",
       "    .dataframe tbody tr th:only-of-type {\n",
       "        vertical-align: middle;\n",
       "    }\n",
       "\n",
       "    .dataframe tbody tr th {\n",
       "        vertical-align: top;\n",
       "    }\n",
       "\n",
       "    .dataframe thead th {\n",
       "        text-align: right;\n",
       "    }\n",
       "</style>\n",
       "<table border=\"1\" class=\"dataframe\">\n",
       "  <thead>\n",
       "    <tr style=\"text-align: right;\">\n",
       "      <th></th>\n",
       "      <th></th>\n",
       "      <th>A</th>\n",
       "      <th>B</th>\n",
       "    </tr>\n",
       "  </thead>\n",
       "  <tbody>\n",
       "    <tr>\n",
       "      <th rowspan=\"3\" valign=\"top\">G1</th>\n",
       "      <th>1</th>\n",
       "      <td>-0.891374</td>\n",
       "      <td>-1.073333</td>\n",
       "    </tr>\n",
       "    <tr>\n",
       "      <th>2</th>\n",
       "      <td>0.173286</td>\n",
       "      <td>-0.839165</td>\n",
       "    </tr>\n",
       "    <tr>\n",
       "      <th>3</th>\n",
       "      <td>1.143653</td>\n",
       "      <td>-0.176153</td>\n",
       "    </tr>\n",
       "    <tr>\n",
       "      <th rowspan=\"3\" valign=\"top\">G2</th>\n",
       "      <th>1</th>\n",
       "      <td>0.535412</td>\n",
       "      <td>1.956043</td>\n",
       "    </tr>\n",
       "    <tr>\n",
       "      <th>2</th>\n",
       "      <td>-0.983348</td>\n",
       "      <td>0.048400</td>\n",
       "    </tr>\n",
       "    <tr>\n",
       "      <th>3</th>\n",
       "      <td>0.488516</td>\n",
       "      <td>-1.415226</td>\n",
       "    </tr>\n",
       "  </tbody>\n",
       "</table>\n",
       "</div>"
      ],
      "text/plain": [
       "             A         B\n",
       "G1 1 -0.891374 -1.073333\n",
       "   2  0.173286 -0.839165\n",
       "   3  1.143653 -0.176153\n",
       "G2 1  0.535412  1.956043\n",
       "   2 -0.983348  0.048400\n",
       "   3  0.488516 -1.415226"
      ]
     },
     "execution_count": 192,
     "metadata": {},
     "output_type": "execute_result"
    }
   ],
   "source": [
    "df"
   ]
  },
  {
   "cell_type": "code",
   "execution_count": 194,
   "metadata": {},
   "outputs": [],
   "source": [
    "# lets create our own hier DataFrame\n",
    "\n",
    "outer = 'O1 O1 O1 O2 O2 O2'.split()\n",
    "inner = 'A B C X Y Z'.split()\n",
    "hier = list(zip(outer,inner))"
   ]
  },
  {
   "cell_type": "code",
   "execution_count": 195,
   "metadata": {},
   "outputs": [],
   "source": [
    "hier = pd.MultiIndex.from_tuples(hier)"
   ]
  },
  {
   "cell_type": "code",
   "execution_count": 196,
   "metadata": {},
   "outputs": [
    {
     "data": {
      "text/plain": [
       "MultiIndex(levels=[['O1', 'O2'], ['A', 'B', 'C', 'X', 'Y', 'Z']],\n",
       "           codes=[[0, 0, 0, 1, 1, 1], [0, 1, 2, 3, 4, 5]])"
      ]
     },
     "execution_count": 196,
     "metadata": {},
     "output_type": "execute_result"
    }
   ],
   "source": [
    "hier"
   ]
  },
  {
   "cell_type": "code",
   "execution_count": 197,
   "metadata": {},
   "outputs": [],
   "source": [
    "df_1 = pd.DataFrame(data = np.random.randn(6,3), columns = 'A B C'.split(), index = hier)"
   ]
  },
  {
   "cell_type": "code",
   "execution_count": 199,
   "metadata": {},
   "outputs": [
    {
     "data": {
      "text/html": [
       "<div>\n",
       "<style scoped>\n",
       "    .dataframe tbody tr th:only-of-type {\n",
       "        vertical-align: middle;\n",
       "    }\n",
       "\n",
       "    .dataframe tbody tr th {\n",
       "        vertical-align: top;\n",
       "    }\n",
       "\n",
       "    .dataframe thead th {\n",
       "        text-align: right;\n",
       "    }\n",
       "</style>\n",
       "<table border=\"1\" class=\"dataframe\">\n",
       "  <thead>\n",
       "    <tr style=\"text-align: right;\">\n",
       "      <th></th>\n",
       "      <th></th>\n",
       "      <th>A</th>\n",
       "      <th>B</th>\n",
       "      <th>C</th>\n",
       "    </tr>\n",
       "  </thead>\n",
       "  <tbody>\n",
       "    <tr>\n",
       "      <th rowspan=\"3\" valign=\"top\">O1</th>\n",
       "      <th>A</th>\n",
       "      <td>-1.332380</td>\n",
       "      <td>1.224214</td>\n",
       "      <td>-0.190375</td>\n",
       "    </tr>\n",
       "    <tr>\n",
       "      <th>B</th>\n",
       "      <td>0.161885</td>\n",
       "      <td>0.640056</td>\n",
       "      <td>-0.282391</td>\n",
       "    </tr>\n",
       "    <tr>\n",
       "      <th>C</th>\n",
       "      <td>-0.957009</td>\n",
       "      <td>-1.391016</td>\n",
       "      <td>-0.303468</td>\n",
       "    </tr>\n",
       "    <tr>\n",
       "      <th rowspan=\"3\" valign=\"top\">O2</th>\n",
       "      <th>X</th>\n",
       "      <td>-0.287981</td>\n",
       "      <td>0.442585</td>\n",
       "      <td>0.132143</td>\n",
       "    </tr>\n",
       "    <tr>\n",
       "      <th>Y</th>\n",
       "      <td>-0.611567</td>\n",
       "      <td>-0.313358</td>\n",
       "      <td>-1.030987</td>\n",
       "    </tr>\n",
       "    <tr>\n",
       "      <th>Z</th>\n",
       "      <td>-1.105768</td>\n",
       "      <td>-1.355911</td>\n",
       "      <td>1.246052</td>\n",
       "    </tr>\n",
       "  </tbody>\n",
       "</table>\n",
       "</div>"
      ],
      "text/plain": [
       "             A         B         C\n",
       "O1 A -1.332380  1.224214 -0.190375\n",
       "   B  0.161885  0.640056 -0.282391\n",
       "   C -0.957009 -1.391016 -0.303468\n",
       "O2 X -0.287981  0.442585  0.132143\n",
       "   Y -0.611567 -0.313358 -1.030987\n",
       "   Z -1.105768 -1.355911  1.246052"
      ]
     },
     "execution_count": 199,
     "metadata": {},
     "output_type": "execute_result"
    }
   ],
   "source": [
    "df_1 # that's how you can create a multi index DataFrame"
   ]
  },
  {
   "cell_type": "code",
   "execution_count": 200,
   "metadata": {},
   "outputs": [
    {
     "data": {
      "text/html": [
       "<div>\n",
       "<style scoped>\n",
       "    .dataframe tbody tr th:only-of-type {\n",
       "        vertical-align: middle;\n",
       "    }\n",
       "\n",
       "    .dataframe tbody tr th {\n",
       "        vertical-align: top;\n",
       "    }\n",
       "\n",
       "    .dataframe thead th {\n",
       "        text-align: right;\n",
       "    }\n",
       "</style>\n",
       "<table border=\"1\" class=\"dataframe\">\n",
       "  <thead>\n",
       "    <tr style=\"text-align: right;\">\n",
       "      <th></th>\n",
       "      <th>A</th>\n",
       "      <th>B</th>\n",
       "    </tr>\n",
       "  </thead>\n",
       "  <tbody>\n",
       "    <tr>\n",
       "      <th>1</th>\n",
       "      <td>-0.891374</td>\n",
       "      <td>-1.073333</td>\n",
       "    </tr>\n",
       "    <tr>\n",
       "      <th>2</th>\n",
       "      <td>0.173286</td>\n",
       "      <td>-0.839165</td>\n",
       "    </tr>\n",
       "    <tr>\n",
       "      <th>3</th>\n",
       "      <td>1.143653</td>\n",
       "      <td>-0.176153</td>\n",
       "    </tr>\n",
       "  </tbody>\n",
       "</table>\n",
       "</div>"
      ],
      "text/plain": [
       "          A         B\n",
       "1 -0.891374 -1.073333\n",
       "2  0.173286 -0.839165\n",
       "3  1.143653 -0.176153"
      ]
     },
     "execution_count": 200,
     "metadata": {},
     "output_type": "execute_result"
    }
   ],
   "source": [
    "# now lets grab some values off of our hier_indexed DataFrame\n",
    "\n",
    "# for rows we use df.loc\n",
    "# for columns we simly grab desired column df['X']\n",
    "\n",
    "df.loc['G1']"
   ]
  },
  {
   "cell_type": "code",
   "execution_count": 201,
   "metadata": {},
   "outputs": [
    {
     "data": {
      "text/html": [
       "<div>\n",
       "<style scoped>\n",
       "    .dataframe tbody tr th:only-of-type {\n",
       "        vertical-align: middle;\n",
       "    }\n",
       "\n",
       "    .dataframe tbody tr th {\n",
       "        vertical-align: top;\n",
       "    }\n",
       "\n",
       "    .dataframe thead th {\n",
       "        text-align: right;\n",
       "    }\n",
       "</style>\n",
       "<table border=\"1\" class=\"dataframe\">\n",
       "  <thead>\n",
       "    <tr style=\"text-align: right;\">\n",
       "      <th></th>\n",
       "      <th>A</th>\n",
       "      <th>B</th>\n",
       "    </tr>\n",
       "  </thead>\n",
       "  <tbody>\n",
       "    <tr>\n",
       "      <th>1</th>\n",
       "      <td>0.535412</td>\n",
       "      <td>1.956043</td>\n",
       "    </tr>\n",
       "    <tr>\n",
       "      <th>2</th>\n",
       "      <td>-0.983348</td>\n",
       "      <td>0.048400</td>\n",
       "    </tr>\n",
       "    <tr>\n",
       "      <th>3</th>\n",
       "      <td>0.488516</td>\n",
       "      <td>-1.415226</td>\n",
       "    </tr>\n",
       "  </tbody>\n",
       "</table>\n",
       "</div>"
      ],
      "text/plain": [
       "          A         B\n",
       "1  0.535412  1.956043\n",
       "2 -0.983348  0.048400\n",
       "3  0.488516 -1.415226"
      ]
     },
     "execution_count": 201,
     "metadata": {},
     "output_type": "execute_result"
    }
   ],
   "source": [
    "df.loc['G2']"
   ]
  },
  {
   "cell_type": "code",
   "execution_count": 202,
   "metadata": {},
   "outputs": [
    {
     "data": {
      "text/plain": [
       "A    0.173286\n",
       "B   -0.839165\n",
       "Name: 2, dtype: float64"
      ]
     },
     "execution_count": 202,
     "metadata": {},
     "output_type": "execute_result"
    }
   ],
   "source": [
    "df.loc['G1'].loc[2]"
   ]
  },
  {
   "cell_type": "code",
   "execution_count": 203,
   "metadata": {},
   "outputs": [
    {
     "data": {
      "text/html": [
       "<div>\n",
       "<style scoped>\n",
       "    .dataframe tbody tr th:only-of-type {\n",
       "        vertical-align: middle;\n",
       "    }\n",
       "\n",
       "    .dataframe tbody tr th {\n",
       "        vertical-align: top;\n",
       "    }\n",
       "\n",
       "    .dataframe thead th {\n",
       "        text-align: right;\n",
       "    }\n",
       "</style>\n",
       "<table border=\"1\" class=\"dataframe\">\n",
       "  <thead>\n",
       "    <tr style=\"text-align: right;\">\n",
       "      <th></th>\n",
       "      <th></th>\n",
       "      <th>A</th>\n",
       "      <th>B</th>\n",
       "    </tr>\n",
       "  </thead>\n",
       "  <tbody>\n",
       "    <tr>\n",
       "      <th rowspan=\"3\" valign=\"top\">G1</th>\n",
       "      <th>1</th>\n",
       "      <td>-0.891374</td>\n",
       "      <td>-1.073333</td>\n",
       "    </tr>\n",
       "    <tr>\n",
       "      <th>2</th>\n",
       "      <td>0.173286</td>\n",
       "      <td>-0.839165</td>\n",
       "    </tr>\n",
       "    <tr>\n",
       "      <th>3</th>\n",
       "      <td>1.143653</td>\n",
       "      <td>-0.176153</td>\n",
       "    </tr>\n",
       "    <tr>\n",
       "      <th rowspan=\"3\" valign=\"top\">G2</th>\n",
       "      <th>1</th>\n",
       "      <td>0.535412</td>\n",
       "      <td>1.956043</td>\n",
       "    </tr>\n",
       "    <tr>\n",
       "      <th>2</th>\n",
       "      <td>-0.983348</td>\n",
       "      <td>0.048400</td>\n",
       "    </tr>\n",
       "    <tr>\n",
       "      <th>3</th>\n",
       "      <td>0.488516</td>\n",
       "      <td>-1.415226</td>\n",
       "    </tr>\n",
       "  </tbody>\n",
       "</table>\n",
       "</div>"
      ],
      "text/plain": [
       "             A         B\n",
       "G1 1 -0.891374 -1.073333\n",
       "   2  0.173286 -0.839165\n",
       "   3  1.143653 -0.176153\n",
       "G2 1  0.535412  1.956043\n",
       "   2 -0.983348  0.048400\n",
       "   3  0.488516 -1.415226"
      ]
     },
     "execution_count": 203,
     "metadata": {},
     "output_type": "execute_result"
    }
   ],
   "source": [
    "df"
   ]
  },
  {
   "cell_type": "code",
   "execution_count": 211,
   "metadata": {},
   "outputs": [
    {
     "data": {
      "text/plain": [
       "A    0.488516\n",
       "B   -1.415226\n",
       "Name: 3, dtype: float64"
      ]
     },
     "execution_count": 211,
     "metadata": {},
     "output_type": "execute_result"
    }
   ],
   "source": [
    "df.loc['G2'].loc[3] # reports back label 'G2' and row at index location 3"
   ]
  },
  {
   "cell_type": "code",
   "execution_count": 210,
   "metadata": {},
   "outputs": [
    {
     "data": {
      "text/plain": [
       "1    0.535412\n",
       "2   -0.983348\n",
       "3    0.488516\n",
       "Name: A, dtype: float64"
      ]
     },
     "execution_count": 210,
     "metadata": {},
     "output_type": "execute_result"
    }
   ],
   "source": [
    "df.loc['G2']['A']  # reports back label 'G2' column 'A'"
   ]
  },
  {
   "cell_type": "code",
   "execution_count": 212,
   "metadata": {},
   "outputs": [
    {
     "data": {
      "text/plain": [
       "FrozenList([None, None])"
      ]
     },
     "execution_count": 212,
     "metadata": {},
     "output_type": "execute_result"
    }
   ],
   "source": [
    "df.index.names  # Frozen list, b/c we haven't set any names for our labels yet"
   ]
  },
  {
   "cell_type": "code",
   "execution_count": 215,
   "metadata": {},
   "outputs": [],
   "source": [
    "df.index.names = 'Groups Numbers'.split()"
   ]
  },
  {
   "cell_type": "code",
   "execution_count": 216,
   "metadata": {},
   "outputs": [
    {
     "data": {
      "text/html": [
       "<div>\n",
       "<style scoped>\n",
       "    .dataframe tbody tr th:only-of-type {\n",
       "        vertical-align: middle;\n",
       "    }\n",
       "\n",
       "    .dataframe tbody tr th {\n",
       "        vertical-align: top;\n",
       "    }\n",
       "\n",
       "    .dataframe thead th {\n",
       "        text-align: right;\n",
       "    }\n",
       "</style>\n",
       "<table border=\"1\" class=\"dataframe\">\n",
       "  <thead>\n",
       "    <tr style=\"text-align: right;\">\n",
       "      <th></th>\n",
       "      <th></th>\n",
       "      <th>A</th>\n",
       "      <th>B</th>\n",
       "    </tr>\n",
       "    <tr>\n",
       "      <th>Groups</th>\n",
       "      <th>Numbers</th>\n",
       "      <th></th>\n",
       "      <th></th>\n",
       "    </tr>\n",
       "  </thead>\n",
       "  <tbody>\n",
       "    <tr>\n",
       "      <th rowspan=\"3\" valign=\"top\">G1</th>\n",
       "      <th>1</th>\n",
       "      <td>-0.891374</td>\n",
       "      <td>-1.073333</td>\n",
       "    </tr>\n",
       "    <tr>\n",
       "      <th>2</th>\n",
       "      <td>0.173286</td>\n",
       "      <td>-0.839165</td>\n",
       "    </tr>\n",
       "    <tr>\n",
       "      <th>3</th>\n",
       "      <td>1.143653</td>\n",
       "      <td>-0.176153</td>\n",
       "    </tr>\n",
       "    <tr>\n",
       "      <th rowspan=\"3\" valign=\"top\">G2</th>\n",
       "      <th>1</th>\n",
       "      <td>0.535412</td>\n",
       "      <td>1.956043</td>\n",
       "    </tr>\n",
       "    <tr>\n",
       "      <th>2</th>\n",
       "      <td>-0.983348</td>\n",
       "      <td>0.048400</td>\n",
       "    </tr>\n",
       "    <tr>\n",
       "      <th>3</th>\n",
       "      <td>0.488516</td>\n",
       "      <td>-1.415226</td>\n",
       "    </tr>\n",
       "  </tbody>\n",
       "</table>\n",
       "</div>"
      ],
      "text/plain": [
       "                       A         B\n",
       "Groups Numbers                    \n",
       "G1     1       -0.891374 -1.073333\n",
       "       2        0.173286 -0.839165\n",
       "       3        1.143653 -0.176153\n",
       "G2     1        0.535412  1.956043\n",
       "       2       -0.983348  0.048400\n",
       "       3        0.488516 -1.415226"
      ]
     },
     "execution_count": 216,
     "metadata": {},
     "output_type": "execute_result"
    }
   ],
   "source": [
    "df"
   ]
  },
  {
   "cell_type": "code",
   "execution_count": 217,
   "metadata": {},
   "outputs": [
    {
     "data": {
      "text/plain": [
       "FrozenList(['Groups', 'Numbers'])"
      ]
     },
     "execution_count": 217,
     "metadata": {},
     "output_type": "execute_result"
    }
   ],
   "source": [
    "df.index.names"
   ]
  },
  {
   "cell_type": "code",
   "execution_count": 218,
   "metadata": {},
   "outputs": [
    {
     "data": {
      "text/html": [
       "<div>\n",
       "<style scoped>\n",
       "    .dataframe tbody tr th:only-of-type {\n",
       "        vertical-align: middle;\n",
       "    }\n",
       "\n",
       "    .dataframe tbody tr th {\n",
       "        vertical-align: top;\n",
       "    }\n",
       "\n",
       "    .dataframe thead th {\n",
       "        text-align: right;\n",
       "    }\n",
       "</style>\n",
       "<table border=\"1\" class=\"dataframe\">\n",
       "  <thead>\n",
       "    <tr style=\"text-align: right;\">\n",
       "      <th></th>\n",
       "      <th>A</th>\n",
       "      <th>B</th>\n",
       "    </tr>\n",
       "    <tr>\n",
       "      <th>Numbers</th>\n",
       "      <th></th>\n",
       "      <th></th>\n",
       "    </tr>\n",
       "  </thead>\n",
       "  <tbody>\n",
       "    <tr>\n",
       "      <th>1</th>\n",
       "      <td>-0.891374</td>\n",
       "      <td>-1.073333</td>\n",
       "    </tr>\n",
       "    <tr>\n",
       "      <th>2</th>\n",
       "      <td>0.173286</td>\n",
       "      <td>-0.839165</td>\n",
       "    </tr>\n",
       "    <tr>\n",
       "      <th>3</th>\n",
       "      <td>1.143653</td>\n",
       "      <td>-0.176153</td>\n",
       "    </tr>\n",
       "  </tbody>\n",
       "</table>\n",
       "</div>"
      ],
      "text/plain": [
       "                A         B\n",
       "Numbers                    \n",
       "1       -0.891374 -1.073333\n",
       "2        0.173286 -0.839165\n",
       "3        1.143653 -0.176153"
      ]
     },
     "execution_count": 218,
     "metadata": {},
     "output_type": "execute_result"
    }
   ],
   "source": [
    "df.loc['G1']"
   ]
  },
  {
   "cell_type": "code",
   "execution_count": 219,
   "metadata": {},
   "outputs": [
    {
     "data": {
      "text/html": [
       "<div>\n",
       "<style scoped>\n",
       "    .dataframe tbody tr th:only-of-type {\n",
       "        vertical-align: middle;\n",
       "    }\n",
       "\n",
       "    .dataframe tbody tr th {\n",
       "        vertical-align: top;\n",
       "    }\n",
       "\n",
       "    .dataframe thead th {\n",
       "        text-align: right;\n",
       "    }\n",
       "</style>\n",
       "<table border=\"1\" class=\"dataframe\">\n",
       "  <thead>\n",
       "    <tr style=\"text-align: right;\">\n",
       "      <th></th>\n",
       "      <th>A</th>\n",
       "      <th>B</th>\n",
       "    </tr>\n",
       "    <tr>\n",
       "      <th>Numbers</th>\n",
       "      <th></th>\n",
       "      <th></th>\n",
       "    </tr>\n",
       "  </thead>\n",
       "  <tbody>\n",
       "    <tr>\n",
       "      <th>1</th>\n",
       "      <td>-0.891374</td>\n",
       "      <td>-1.073333</td>\n",
       "    </tr>\n",
       "    <tr>\n",
       "      <th>2</th>\n",
       "      <td>0.173286</td>\n",
       "      <td>-0.839165</td>\n",
       "    </tr>\n",
       "    <tr>\n",
       "      <th>3</th>\n",
       "      <td>1.143653</td>\n",
       "      <td>-0.176153</td>\n",
       "    </tr>\n",
       "  </tbody>\n",
       "</table>\n",
       "</div>"
      ],
      "text/plain": [
       "                A         B\n",
       "Numbers                    \n",
       "1       -0.891374 -1.073333\n",
       "2        0.173286 -0.839165\n",
       "3        1.143653 -0.176153"
      ]
     },
     "execution_count": 219,
     "metadata": {},
     "output_type": "execute_result"
    }
   ],
   "source": [
    "# we can use 'xs' instead if 'loc' as well\n",
    "\n",
    "df.xs('G1')"
   ]
  },
  {
   "cell_type": "code",
   "execution_count": 221,
   "metadata": {},
   "outputs": [
    {
     "data": {
      "text/plain": [
       "A    0.173286\n",
       "B   -0.839165\n",
       "Name: (G1, 2), dtype: float64"
      ]
     },
     "execution_count": 221,
     "metadata": {},
     "output_type": "execute_result"
    }
   ],
   "source": [
    "df.xs(['G1',2]) # reports back values of label 'G1', and location index '2'"
   ]
  },
  {
   "cell_type": "code",
   "execution_count": 224,
   "metadata": {},
   "outputs": [
    {
     "data": {
      "text/plain": [
       "A    0.535412\n",
       "B    1.956043\n",
       "Name: (G2, 1), dtype: float64"
      ]
     },
     "execution_count": 224,
     "metadata": {},
     "output_type": "execute_result"
    }
   ],
   "source": [
    "df.xs(['G2',1]) # reporst back values of label 'G2' and location index '1'"
   ]
  },
  {
   "cell_type": "code",
   "execution_count": 225,
   "metadata": {},
   "outputs": [
    {
     "data": {
      "text/plain": [
       "A    0.488516\n",
       "B   -1.415226\n",
       "Name: (G2, 3), dtype: float64"
      ]
     },
     "execution_count": 225,
     "metadata": {},
     "output_type": "execute_result"
    }
   ],
   "source": [
    "df.xs(['G2',3])"
   ]
  },
  {
   "cell_type": "code",
   "execution_count": 227,
   "metadata": {},
   "outputs": [
    {
     "data": {
      "text/plain": [
       "A    0.488516\n",
       "B   -1.415226\n",
       "Name: 3, dtype: float64"
      ]
     },
     "execution_count": 227,
     "metadata": {},
     "output_type": "execute_result"
    }
   ],
   "source": [
    "# and we can use .loc notation as well\n",
    "\n",
    "df.loc['G2'].loc[3]"
   ]
  },
  {
   "cell_type": "code",
   "execution_count": null,
   "metadata": {},
   "outputs": [],
   "source": []
  }
 ],
 "metadata": {
  "kernelspec": {
   "display_name": "Python 3",
   "language": "python",
   "name": "python3"
  },
  "language_info": {
   "codemirror_mode": {
    "name": "ipython",
    "version": 3
   },
   "file_extension": ".py",
   "mimetype": "text/x-python",
   "name": "python",
   "nbconvert_exporter": "python",
   "pygments_lexer": "ipython3",
   "version": "3.7.3"
  }
 },
 "nbformat": 4,
 "nbformat_minor": 2
}
