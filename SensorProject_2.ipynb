{
 "cells": [
  {
   "cell_type": "markdown",
   "metadata": {},
   "source": [
    "### Importing Essential Libraries and Modules:"
   ]
  },
  {
   "cell_type": "markdown",
   "metadata": {},
   "source": [
    "To get started with our Data Science project, first we need to import few essential data science and machine learning libraries and modules we'll be needing for our analysis. I'll go through each of the one, and will explain their functionality one by one.\n",
    "\n",
    "So, lets get started\n",
    "\n",
    "* Pandas: for Exploratory data analysis\n",
    "* Seaborn : for the visualization of the data plots\n",
    "* matplotlib.pyplot: Here, we are importing the class pyplot, off of matplotlib library, in order to visualize our data set\n",
    "* Numpy: Numerical python, is for the Arithemtic operations, like multiplication of matrices and stuff\n",
    "* Sklearn.decomposition.PCA: For extracting the features off of our data set\n",
    "* Sklearn.model_selection.train_test_split: for splitting our data set in training set, and testing set\n",
    "* Sklearn.linear_model.LogisticRegression: for the classification of our class_label dependent feature\n",
    "* Sklearn.metrics.confusion_matrix: for testing the accuracy of predictions\n",
    "* Sklearn.metrics.classification_report: for testing the accuracy of predictions\n",
    "* Sklearn.svm.SVC: Machine learning algorithm for the classification of our data set\n",
    "* Sklearn.neighbors.KNeighborsClassifier: Alogorithm for classification\n",
    "* Sklearn.metrics.accuracy_score: for measuring the accuracy parameter of our classification\n",
    "* CSV module: for transforming our list of ranked_correlations into a CSV file"
   ]
  },
  {
   "cell_type": "code",
   "execution_count": 1,
   "metadata": {},
   "outputs": [],
   "source": [
    "import pandas as pd\n",
    "import seaborn as sns \n",
    "import matplotlib.pyplot as plt \n",
    "import numpy as np \n",
    "from sklearn.decomposition import PCA \n",
    "from sklearn.model_selection import train_test_split \n",
    "from sklearn.linear_model import LogisticRegression\n",
    "from sklearn.metrics import confusion_matrix\n",
    "from sklearn.metrics import classification_report \n",
    "from sklearn.svm import SVC \n",
    "from sklearn.neighbors import KNeighborsClassifier \n",
    "from sklearn.metrics import accuracy_score \n",
    "import csv \n",
    "\n",
    "%matplotlib inline"
   ]
  },
  {
   "cell_type": "markdown",
   "metadata": {},
   "source": [
    "### Importing Data Set:\n",
    "\n",
    "Now let's go ahead and import our data set, on which we're going to be performing our analysis."
   ]
  },
  {
   "cell_type": "code",
   "execution_count": 2,
   "metadata": {},
   "outputs": [],
   "source": [
    "df = pd.read_csv('data.csv')"
   ]
  },
  {
   "cell_type": "markdown",
   "metadata": {},
   "source": [
    "### Exploratory Data Analysis:\n",
    "\n",
    "We need to make an Exploratory Data Analysis, using Pandas primarily, in order to be aware of some hides and outs of our data set. We first make our statistical analysis, to have a better idea of the statistics of our data set, since most of our data set column's are numerical values. Mainly the statistics features involve the following things:\n",
    "\n",
    "* Number of counts\n",
    "* mean value\n",
    "* std value\n",
    "* Max value\n",
    "* Min value\n",
    "* Min value\n",
    "* 75% and 25% values\n",
    "\n",
    "Then we'll try to find out if there is any Null values in our data set. If we found any, we'll apply some operations to fix that, because we can't afford to have Null values inside our data set for better accuracy measures\n",
    "\n",
    "Also we need to find out the counts of every distinct entry in our target class_label, for this we'll create a logic\n",
    "to find out the counts for each distinct values and check out what proportion of the values of our dependent feature already exists. Finally, we'll go ahead and chop off any unwanted feature we don't need for our algorithms to feed in. This mostly happens when we have string value columns in our data set.\n",
    "\n",
    "So, let's do it\n",
    "\n"
   ]
  },
  {
   "cell_type": "code",
   "execution_count": 3,
   "metadata": {
    "scrolled": true
   },
   "outputs": [
    {
     "data": {
      "text/html": [
       "<div>\n",
       "<style scoped>\n",
       "    .dataframe tbody tr th:only-of-type {\n",
       "        vertical-align: middle;\n",
       "    }\n",
       "\n",
       "    .dataframe tbody tr th {\n",
       "        vertical-align: top;\n",
       "    }\n",
       "\n",
       "    .dataframe thead th {\n",
       "        text-align: right;\n",
       "    }\n",
       "</style>\n",
       "<table border=\"1\" class=\"dataframe\">\n",
       "  <thead>\n",
       "    <tr style=\"text-align: right;\">\n",
       "      <th></th>\n",
       "      <th>class_label</th>\n",
       "      <th>sensor0</th>\n",
       "      <th>sensor1</th>\n",
       "      <th>sensor2</th>\n",
       "      <th>sensor3</th>\n",
       "      <th>sensor4</th>\n",
       "      <th>sensor5</th>\n",
       "      <th>sensor6</th>\n",
       "      <th>sensor7</th>\n",
       "      <th>sensor8</th>\n",
       "      <th>sensor9</th>\n",
       "    </tr>\n",
       "  </thead>\n",
       "  <tbody>\n",
       "    <tr>\n",
       "      <th>count</th>\n",
       "      <td>400.000000</td>\n",
       "      <td>400.000000</td>\n",
       "      <td>400.000000</td>\n",
       "      <td>400.000000</td>\n",
       "      <td>400.000000</td>\n",
       "      <td>400.000000</td>\n",
       "      <td>400.000000</td>\n",
       "      <td>400.000000</td>\n",
       "      <td>400.000000</td>\n",
       "      <td>400.000000</td>\n",
       "      <td>400.000000</td>\n",
       "    </tr>\n",
       "    <tr>\n",
       "      <th>mean</th>\n",
       "      <td>0.000000</td>\n",
       "      <td>0.523661</td>\n",
       "      <td>0.509223</td>\n",
       "      <td>0.481238</td>\n",
       "      <td>0.509752</td>\n",
       "      <td>0.497875</td>\n",
       "      <td>0.501065</td>\n",
       "      <td>0.490480</td>\n",
       "      <td>0.482372</td>\n",
       "      <td>0.482822</td>\n",
       "      <td>0.541933</td>\n",
       "    </tr>\n",
       "    <tr>\n",
       "      <th>std</th>\n",
       "      <td>1.001252</td>\n",
       "      <td>0.268194</td>\n",
       "      <td>0.276878</td>\n",
       "      <td>0.287584</td>\n",
       "      <td>0.297712</td>\n",
       "      <td>0.288208</td>\n",
       "      <td>0.287634</td>\n",
       "      <td>0.289954</td>\n",
       "      <td>0.282714</td>\n",
       "      <td>0.296180</td>\n",
       "      <td>0.272490</td>\n",
       "    </tr>\n",
       "    <tr>\n",
       "      <th>min</th>\n",
       "      <td>-1.000000</td>\n",
       "      <td>0.007775</td>\n",
       "      <td>0.003865</td>\n",
       "      <td>0.004473</td>\n",
       "      <td>0.001466</td>\n",
       "      <td>0.000250</td>\n",
       "      <td>0.000425</td>\n",
       "      <td>0.000173</td>\n",
       "      <td>0.003322</td>\n",
       "      <td>0.003165</td>\n",
       "      <td>0.000452</td>\n",
       "    </tr>\n",
       "    <tr>\n",
       "      <th>25%</th>\n",
       "      <td>-1.000000</td>\n",
       "      <td>0.299792</td>\n",
       "      <td>0.283004</td>\n",
       "      <td>0.235544</td>\n",
       "      <td>0.262697</td>\n",
       "      <td>0.249369</td>\n",
       "      <td>0.269430</td>\n",
       "      <td>0.226687</td>\n",
       "      <td>0.242848</td>\n",
       "      <td>0.213626</td>\n",
       "      <td>0.321264</td>\n",
       "    </tr>\n",
       "    <tr>\n",
       "      <th>50%</th>\n",
       "      <td>0.000000</td>\n",
       "      <td>0.534906</td>\n",
       "      <td>0.507583</td>\n",
       "      <td>0.460241</td>\n",
       "      <td>0.510066</td>\n",
       "      <td>0.497842</td>\n",
       "      <td>0.497108</td>\n",
       "      <td>0.477341</td>\n",
       "      <td>0.463438</td>\n",
       "      <td>0.462251</td>\n",
       "      <td>0.578389</td>\n",
       "    </tr>\n",
       "    <tr>\n",
       "      <th>75%</th>\n",
       "      <td>1.000000</td>\n",
       "      <td>0.751887</td>\n",
       "      <td>0.727843</td>\n",
       "      <td>0.734937</td>\n",
       "      <td>0.768975</td>\n",
       "      <td>0.743401</td>\n",
       "      <td>0.738854</td>\n",
       "      <td>0.735304</td>\n",
       "      <td>0.732483</td>\n",
       "      <td>0.740542</td>\n",
       "      <td>0.768990</td>\n",
       "    </tr>\n",
       "    <tr>\n",
       "      <th>max</th>\n",
       "      <td>1.000000</td>\n",
       "      <td>0.999476</td>\n",
       "      <td>0.998680</td>\n",
       "      <td>0.992963</td>\n",
       "      <td>0.995119</td>\n",
       "      <td>0.999412</td>\n",
       "      <td>0.997367</td>\n",
       "      <td>0.997141</td>\n",
       "      <td>0.998230</td>\n",
       "      <td>0.996098</td>\n",
       "      <td>0.999465</td>\n",
       "    </tr>\n",
       "  </tbody>\n",
       "</table>\n",
       "</div>"
      ],
      "text/plain": [
       "       class_label     sensor0     sensor1     sensor2     sensor3  \\\n",
       "count   400.000000  400.000000  400.000000  400.000000  400.000000   \n",
       "mean      0.000000    0.523661    0.509223    0.481238    0.509752   \n",
       "std       1.001252    0.268194    0.276878    0.287584    0.297712   \n",
       "min      -1.000000    0.007775    0.003865    0.004473    0.001466   \n",
       "25%      -1.000000    0.299792    0.283004    0.235544    0.262697   \n",
       "50%       0.000000    0.534906    0.507583    0.460241    0.510066   \n",
       "75%       1.000000    0.751887    0.727843    0.734937    0.768975   \n",
       "max       1.000000    0.999476    0.998680    0.992963    0.995119   \n",
       "\n",
       "          sensor4     sensor5     sensor6     sensor7     sensor8     sensor9  \n",
       "count  400.000000  400.000000  400.000000  400.000000  400.000000  400.000000  \n",
       "mean     0.497875    0.501065    0.490480    0.482372    0.482822    0.541933  \n",
       "std      0.288208    0.287634    0.289954    0.282714    0.296180    0.272490  \n",
       "min      0.000250    0.000425    0.000173    0.003322    0.003165    0.000452  \n",
       "25%      0.249369    0.269430    0.226687    0.242848    0.213626    0.321264  \n",
       "50%      0.497842    0.497108    0.477341    0.463438    0.462251    0.578389  \n",
       "75%      0.743401    0.738854    0.735304    0.732483    0.740542    0.768990  \n",
       "max      0.999412    0.997367    0.997141    0.998230    0.996098    0.999465  "
      ]
     },
     "execution_count": 3,
     "metadata": {},
     "output_type": "execute_result"
    }
   ],
   "source": [
    "df.describe()"
   ]
  },
  {
   "cell_type": "code",
   "execution_count": 4,
   "metadata": {
    "scrolled": true
   },
   "outputs": [
    {
     "data": {
      "text/html": [
       "<div>\n",
       "<style scoped>\n",
       "    .dataframe tbody tr th:only-of-type {\n",
       "        vertical-align: middle;\n",
       "    }\n",
       "\n",
       "    .dataframe tbody tr th {\n",
       "        vertical-align: top;\n",
       "    }\n",
       "\n",
       "    .dataframe thead th {\n",
       "        text-align: right;\n",
       "    }\n",
       "</style>\n",
       "<table border=\"1\" class=\"dataframe\">\n",
       "  <thead>\n",
       "    <tr style=\"text-align: right;\">\n",
       "      <th></th>\n",
       "      <th>sample index</th>\n",
       "      <th>class_label</th>\n",
       "      <th>sensor0</th>\n",
       "      <th>sensor1</th>\n",
       "      <th>sensor2</th>\n",
       "      <th>sensor3</th>\n",
       "      <th>sensor4</th>\n",
       "      <th>sensor5</th>\n",
       "      <th>sensor6</th>\n",
       "      <th>sensor7</th>\n",
       "      <th>sensor8</th>\n",
       "      <th>sensor9</th>\n",
       "    </tr>\n",
       "  </thead>\n",
       "  <tbody>\n",
       "    <tr>\n",
       "      <th>0</th>\n",
       "      <td>False</td>\n",
       "      <td>False</td>\n",
       "      <td>False</td>\n",
       "      <td>False</td>\n",
       "      <td>False</td>\n",
       "      <td>False</td>\n",
       "      <td>False</td>\n",
       "      <td>False</td>\n",
       "      <td>False</td>\n",
       "      <td>False</td>\n",
       "      <td>False</td>\n",
       "      <td>False</td>\n",
       "    </tr>\n",
       "    <tr>\n",
       "      <th>1</th>\n",
       "      <td>False</td>\n",
       "      <td>False</td>\n",
       "      <td>False</td>\n",
       "      <td>False</td>\n",
       "      <td>False</td>\n",
       "      <td>False</td>\n",
       "      <td>False</td>\n",
       "      <td>False</td>\n",
       "      <td>False</td>\n",
       "      <td>False</td>\n",
       "      <td>False</td>\n",
       "      <td>False</td>\n",
       "    </tr>\n",
       "    <tr>\n",
       "      <th>2</th>\n",
       "      <td>False</td>\n",
       "      <td>False</td>\n",
       "      <td>False</td>\n",
       "      <td>False</td>\n",
       "      <td>False</td>\n",
       "      <td>False</td>\n",
       "      <td>False</td>\n",
       "      <td>False</td>\n",
       "      <td>False</td>\n",
       "      <td>False</td>\n",
       "      <td>False</td>\n",
       "      <td>False</td>\n",
       "    </tr>\n",
       "    <tr>\n",
       "      <th>3</th>\n",
       "      <td>False</td>\n",
       "      <td>False</td>\n",
       "      <td>False</td>\n",
       "      <td>False</td>\n",
       "      <td>False</td>\n",
       "      <td>False</td>\n",
       "      <td>False</td>\n",
       "      <td>False</td>\n",
       "      <td>False</td>\n",
       "      <td>False</td>\n",
       "      <td>False</td>\n",
       "      <td>False</td>\n",
       "    </tr>\n",
       "    <tr>\n",
       "      <th>4</th>\n",
       "      <td>False</td>\n",
       "      <td>False</td>\n",
       "      <td>False</td>\n",
       "      <td>False</td>\n",
       "      <td>False</td>\n",
       "      <td>False</td>\n",
       "      <td>False</td>\n",
       "      <td>False</td>\n",
       "      <td>False</td>\n",
       "      <td>False</td>\n",
       "      <td>False</td>\n",
       "      <td>False</td>\n",
       "    </tr>\n",
       "  </tbody>\n",
       "</table>\n",
       "</div>"
      ],
      "text/plain": [
       "   sample index  class_label  sensor0  sensor1  sensor2  sensor3  sensor4  \\\n",
       "0         False        False    False    False    False    False    False   \n",
       "1         False        False    False    False    False    False    False   \n",
       "2         False        False    False    False    False    False    False   \n",
       "3         False        False    False    False    False    False    False   \n",
       "4         False        False    False    False    False    False    False   \n",
       "\n",
       "   sensor5  sensor6  sensor7  sensor8  sensor9  \n",
       "0    False    False    False    False    False  \n",
       "1    False    False    False    False    False  \n",
       "2    False    False    False    False    False  \n",
       "3    False    False    False    False    False  \n",
       "4    False    False    False    False    False  "
      ]
     },
     "execution_count": 4,
     "metadata": {},
     "output_type": "execute_result"
    }
   ],
   "source": [
    "df.isnull().head()"
   ]
  },
  {
   "cell_type": "code",
   "execution_count": 5,
   "metadata": {},
   "outputs": [
    {
     "data": {
      "text/plain": [
       "{1.0: 200, -1.0: 200}"
      ]
     },
     "execution_count": 5,
     "metadata": {},
     "output_type": "execute_result"
    }
   ],
   "source": [
    "counts = {}\n",
    "\n",
    "for entry in df['class_label']:\n",
    "    if entry in counts:\n",
    "        counts[entry] += 1\n",
    "    else:\n",
    "        counts[entry] = 1\n",
    "        \n",
    "counts"
   ]
  },
  {
   "cell_type": "code",
   "execution_count": 6,
   "metadata": {},
   "outputs": [],
   "source": [
    "df.drop('sample index', axis = 1, inplace = True)"
   ]
  },
  {
   "cell_type": "markdown",
   "metadata": {},
   "source": [
    "### Finding Correlations of The Features:\n",
    "\n",
    "Here's an important part of our analysis, i.e Features Correlations. Normally what happens is, in our data set, there is whole lot of featuer values, and we need to figure out the correlations of of those feature values in order to have an estimate of our data set. There comes features correlation technique, in which we tend to select only those features and columns that have greater impact on our dependent variable. Let's dig a bit deeper inside our data set and try to find out some featuers that're gonna help us come up with better accuracy measures. And finally we're gonna report back those features values in descending order, i.e from highest dependency to the lowest.\n",
    "\n",
    "Finally in order to build a data frame of Sensor names and their correlations with \"class_label\", we have to apply some logics organize our data and create a data frame off of that organized data. So let me quicky explain what going on down there.\n",
    "\n",
    "* First I'll create a list of correlations, and sorted out the list in descending order\n",
    "* Then I'll create the correlations dictionary, from which I'll be able to create an organized dataframe\n",
    "* Finally we'll sort this dictionary out, and off of that we'll build our data frame, that'll report back the feaures as well as their correlations with our \"class_label\"\n",
    "\n",
    "So, let's go ahead and do that..\n"
   ]
  },
  {
   "cell_type": "code",
   "execution_count": 7,
   "metadata": {},
   "outputs": [
    {
     "name": "stdout",
     "output_type": "stream",
     "text": [
      "Feature class_label : Correlation 1.0\n",
      "Feature sensor0 : Correlation 0.5432950594605451\n",
      "Feature sensor1 : Correlation -0.25200734226009575\n",
      "Feature sensor2 : Correlation 0.03877543484999283\n",
      "Feature sensor3 : Correlation 0.43363644436420123\n",
      "Feature sensor4 : Correlation 0.6076228345496761\n",
      "Feature sensor5 : Correlation 0.22414719421524462\n",
      "Feature sensor6 : Correlation -0.0074144251226751475\n",
      "Feature sensor7 : Correlation 0.1756121918018469\n",
      "Feature sensor8 : Correlation 0.6606179222510381\n",
      "Feature sensor9 : Correlation 0.09490706714608717\n"
     ]
    }
   ],
   "source": [
    "corr_list = []\n",
    "\n",
    "for index,column in enumerate(df[:]):\n",
    "    corr = df['class_label'].corr(df[column])\n",
    "    print('Feature {} : Correlation {}'.format(column, corr))\n",
    "    corr_list.append(corr)"
   ]
  },
  {
   "cell_type": "code",
   "execution_count": 8,
   "metadata": {},
   "outputs": [
    {
     "name": "stdout",
     "output_type": "stream",
     "text": [
      "[1.0, 0.6606179222510381, 0.6076228345496761, 0.5432950594605451, 0.43363644436420123, 0.22414719421524462, 0.1756121918018469, 0.09490706714608717, 0.03877543484999283, -0.0074144251226751475, -0.25200734226009575]\n"
     ]
    }
   ],
   "source": [
    "ranked_correlations = sorted(corr_list, reverse = True)\n",
    "print(ranked_correlations) # Check Point!"
   ]
  },
  {
   "cell_type": "code",
   "execution_count": 9,
   "metadata": {},
   "outputs": [
    {
     "data": {
      "text/plain": [
       "{'class_label': 1.0,\n",
       " 'sensor0': 0.5432950594605451,\n",
       " 'sensor1': -0.25200734226009575,\n",
       " 'sensor2': 0.03877543484999283,\n",
       " 'sensor3': 0.43363644436420123,\n",
       " 'sensor4': 0.6076228345496761,\n",
       " 'sensor5': 0.22414719421524462,\n",
       " 'sensor6': -0.0074144251226751475,\n",
       " 'sensor7': 0.1756121918018469,\n",
       " 'sensor8': 0.6606179222510381,\n",
       " 'sensor9': 0.09490706714608717}"
      ]
     },
     "execution_count": 9,
     "metadata": {},
     "output_type": "execute_result"
    }
   ],
   "source": [
    "corr_dict = {}\n",
    "\n",
    "for column in df:\n",
    "    corr = df['class_label'].corr(df[column])\n",
    "    corr_dict[column] = corr\n",
    "    \n",
    "corr_dict"
   ]
  },
  {
   "cell_type": "code",
   "execution_count": 10,
   "metadata": {},
   "outputs": [],
   "source": [
    "ranked_corr_features = sorted(corr_dict.items(), key = lambda t: t[1], reverse = True)"
   ]
  },
  {
   "cell_type": "code",
   "execution_count": 11,
   "metadata": {},
   "outputs": [
    {
     "data": {
      "text/plain": [
       "[('class_label', 1.0),\n",
       " ('sensor8', 0.6606179222510381),\n",
       " ('sensor4', 0.6076228345496761),\n",
       " ('sensor0', 0.5432950594605451),\n",
       " ('sensor3', 0.43363644436420123),\n",
       " ('sensor5', 0.22414719421524462),\n",
       " ('sensor7', 0.1756121918018469),\n",
       " ('sensor9', 0.09490706714608717),\n",
       " ('sensor2', 0.03877543484999283),\n",
       " ('sensor6', -0.0074144251226751475),\n",
       " ('sensor1', -0.25200734226009575)]"
      ]
     },
     "execution_count": 11,
     "metadata": {},
     "output_type": "execute_result"
    }
   ],
   "source": [
    "ranked_corr_features"
   ]
  },
  {
   "cell_type": "code",
   "execution_count": 12,
   "metadata": {},
   "outputs": [],
   "source": [
    "cols = []\n",
    "values = []\n",
    "i = 0\n",
    "for item in ranked_corr_features:\n",
    "    cols.append(item[0])\n",
    "    values.append(item[1])"
   ]
  },
  {
   "cell_type": "code",
   "execution_count": 13,
   "metadata": {},
   "outputs": [],
   "source": [
    "ranked_corr_dict = dict(zip(cols,values))"
   ]
  },
  {
   "cell_type": "code",
   "execution_count": 14,
   "metadata": {},
   "outputs": [
    {
     "data": {
      "text/plain": [
       "{'class_label': 1.0,\n",
       " 'sensor8': 0.6606179222510381,\n",
       " 'sensor4': 0.6076228345496761,\n",
       " 'sensor0': 0.5432950594605451,\n",
       " 'sensor3': 0.43363644436420123,\n",
       " 'sensor5': 0.22414719421524462,\n",
       " 'sensor7': 0.1756121918018469,\n",
       " 'sensor9': 0.09490706714608717,\n",
       " 'sensor2': 0.03877543484999283,\n",
       " 'sensor6': -0.0074144251226751475,\n",
       " 'sensor1': -0.25200734226009575}"
      ]
     },
     "execution_count": 14,
     "metadata": {},
     "output_type": "execute_result"
    }
   ],
   "source": [
    "ranked_corr_dict"
   ]
  },
  {
   "cell_type": "code",
   "execution_count": 15,
   "metadata": {},
   "outputs": [],
   "source": [
    "ranked_corr_df = pd.DataFrame(ranked_corr_dict, index = [0])"
   ]
  },
  {
   "cell_type": "code",
   "execution_count": 16,
   "metadata": {},
   "outputs": [
    {
     "data": {
      "text/html": [
       "<div>\n",
       "<style scoped>\n",
       "    .dataframe tbody tr th:only-of-type {\n",
       "        vertical-align: middle;\n",
       "    }\n",
       "\n",
       "    .dataframe tbody tr th {\n",
       "        vertical-align: top;\n",
       "    }\n",
       "\n",
       "    .dataframe thead th {\n",
       "        text-align: right;\n",
       "    }\n",
       "</style>\n",
       "<table border=\"1\" class=\"dataframe\">\n",
       "  <thead>\n",
       "    <tr style=\"text-align: right;\">\n",
       "      <th></th>\n",
       "      <th>class_label</th>\n",
       "      <th>sensor8</th>\n",
       "      <th>sensor4</th>\n",
       "      <th>sensor0</th>\n",
       "      <th>sensor3</th>\n",
       "      <th>sensor5</th>\n",
       "      <th>sensor7</th>\n",
       "      <th>sensor9</th>\n",
       "      <th>sensor2</th>\n",
       "      <th>sensor6</th>\n",
       "      <th>sensor1</th>\n",
       "    </tr>\n",
       "  </thead>\n",
       "  <tbody>\n",
       "    <tr>\n",
       "      <th>0</th>\n",
       "      <td>1.0</td>\n",
       "      <td>0.660618</td>\n",
       "      <td>0.607623</td>\n",
       "      <td>0.543295</td>\n",
       "      <td>0.433636</td>\n",
       "      <td>0.224147</td>\n",
       "      <td>0.175612</td>\n",
       "      <td>0.094907</td>\n",
       "      <td>0.038775</td>\n",
       "      <td>-0.007414</td>\n",
       "      <td>-0.252007</td>\n",
       "    </tr>\n",
       "  </tbody>\n",
       "</table>\n",
       "</div>"
      ],
      "text/plain": [
       "   class_label   sensor8   sensor4   sensor0   sensor3   sensor5   sensor7  \\\n",
       "0          1.0  0.660618  0.607623  0.543295  0.433636  0.224147  0.175612   \n",
       "\n",
       "    sensor9   sensor2   sensor6   sensor1  \n",
       "0  0.094907  0.038775 -0.007414 -0.252007  "
      ]
     },
     "execution_count": 16,
     "metadata": {},
     "output_type": "execute_result"
    }
   ],
   "source": [
    "ranked_corr_df # Check Point"
   ]
  },
  {
   "cell_type": "markdown",
   "metadata": {},
   "source": [
    "### Data Visualization:\n",
    "\n",
    "Now that we have successfully found out the best possible correlations list. Let's move towards another important aspect of our data analysis, which is Data Visualizations. Data visualization, helps analyse the data, where the data set is very large and we don't have any chance to explore the data just by looking at feature values or just having a statistical knowledge of the feature values. We need to analyse the patterns and sequence through data visualizations and for this offcourse we'll be using Matpoltlib and Seaborns. We're gonna analyse our data set primarily with the following Matplotlib and Seaborn tools:\n",
    "\n",
    "* Heapmaps\n",
    "* Univariate plotting\n",
    "* Bivariate plotting"
   ]
  },
  {
   "cell_type": "code",
   "execution_count": 17,
   "metadata": {
    "scrolled": true
   },
   "outputs": [
    {
     "data": {
      "text/plain": [
       "<matplotlib.axes._subplots.AxesSubplot at 0x7f44760505f8>"
      ]
     },
     "execution_count": 17,
     "metadata": {},
     "output_type": "execute_result"
    },
    {
     "data": {
      "image/png": "[encoded data removed]",
      "text/plain": [
       "<Figure size 432x288 with 2 Axes>"
      ]
     },
     "metadata": {
      "needs_background": "light"
     },
     "output_type": "display_data"
    }
   ],
   "source": [
    "sns.heatmap(data = df.isnull())"
   ]
  },
  {
   "cell_type": "code",
   "execution_count": 18,
   "metadata": {},
   "outputs": [
    {
     "data": {
      "text/plain": [
       "<matplotlib.axes._subplots.AxesSubplot at 0x7f4473f7ba90>"
      ]
     },
     "execution_count": 18,
     "metadata": {},
     "output_type": "execute_result"
    },
    {
     "data": {
      "image/png": "[encoded data removed]",
      "text/plain": [
       "<Figure size 432x288 with 1 Axes>"
      ]
     },
     "metadata": {
      "needs_background": "light"
     },
     "output_type": "display_data"
    }
   ],
   "source": [
    "sns.distplot(df['class_label'])"
   ]
  },
  {
   "cell_type": "code",
   "execution_count": 19,
   "metadata": {},
   "outputs": [
    {
     "data": {
      "text/plain": [
       "<matplotlib.axes._subplots.AxesSubplot at 0x7f4473e632e8>"
      ]
     },
     "execution_count": 19,
     "metadata": {},
     "output_type": "execute_result"
    },
    {
     "data": {
      "image/png": "[encoded data removed]",
      "text/plain": [
       "<Figure size 432x288 with 1 Axes>"
      ]
     },
     "metadata": {
      "needs_background": "light"
     },
     "output_type": "display_data"
    }
   ],
   "source": [
    "sns.distplot(df['sensor0'], kde = True, bins = 30)"
   ]
  },
  {
   "cell_type": "code",
   "execution_count": 20,
   "metadata": {},
   "outputs": [
    {
     "data": {
      "text/plain": [
       "<seaborn.axisgrid.JointGrid at 0x7f4473e636a0>"
      ]
     },
     "execution_count": 20,
     "metadata": {},
     "output_type": "execute_result"
    },
    {
     "data": {
      "image/png": "[encoded data removed]",
      "text/plain": [
       "<Figure size 432x432 with 3 Axes>"
      ]
     },
     "metadata": {
      "needs_background": "light"
     },
     "output_type": "display_data"
    }
   ],
   "source": [
    "sns.jointplot(x = 'sensor0', y = 'class_label', data = df)"
   ]
  },
  {
   "cell_type": "code",
   "execution_count": 21,
   "metadata": {},
   "outputs": [
    {
     "data": {
      "text/plain": [
       "<matplotlib.axes._subplots.AxesSubplot at 0x7f4473dfbf28>"
      ]
     },
     "execution_count": 21,
     "metadata": {},
     "output_type": "execute_result"
    },
    {
     "data": {
      "image/png": "[encoded data removed]",
      "text/plain": [
       "<Figure size 432x288 with 1 Axes>"
      ]
     },
     "metadata": {
      "needs_background": "light"
     },
     "output_type": "display_data"
    }
   ],
   "source": [
    "sns.barplot(x = 'class_label', y = 'sensor1', data = df)"
   ]
  },
  {
   "cell_type": "markdown",
   "metadata": {},
   "source": [
    "### Data Normalization and Features Scaling:\n",
    "\n",
    "Now let's go ahead and normalize our data set, but first let's have some analysis on few things:\n",
    "\n",
    "Looking at the heatmap, it's clear that the data has already been normalized, becauses the values ranging between 0 through 1. \n",
    "\n",
    "So technically we don't need to Normalize the data set, we'll eventually after testing the performance of our classifiers, if the accuracy drops, try some extra tricks to come up with better accuracy. In this way we'll also see what impact does Normalization has on our classification\n",
    "\n",
    "Lets call describe() method off of our data set, and see what kind of Normalized statistical features we have!"
   ]
  },
  {
   "cell_type": "code",
   "execution_count": 22,
   "metadata": {},
   "outputs": [
    {
     "data": {
      "text/html": [
       "<div>\n",
       "<style scoped>\n",
       "    .dataframe tbody tr th:only-of-type {\n",
       "        vertical-align: middle;\n",
       "    }\n",
       "\n",
       "    .dataframe tbody tr th {\n",
       "        vertical-align: top;\n",
       "    }\n",
       "\n",
       "    .dataframe thead th {\n",
       "        text-align: right;\n",
       "    }\n",
       "</style>\n",
       "<table border=\"1\" class=\"dataframe\">\n",
       "  <thead>\n",
       "    <tr style=\"text-align: right;\">\n",
       "      <th></th>\n",
       "      <th>class_label</th>\n",
       "      <th>sensor0</th>\n",
       "      <th>sensor1</th>\n",
       "      <th>sensor2</th>\n",
       "      <th>sensor3</th>\n",
       "      <th>sensor4</th>\n",
       "      <th>sensor5</th>\n",
       "      <th>sensor6</th>\n",
       "      <th>sensor7</th>\n",
       "      <th>sensor8</th>\n",
       "      <th>sensor9</th>\n",
       "    </tr>\n",
       "  </thead>\n",
       "  <tbody>\n",
       "    <tr>\n",
       "      <th>count</th>\n",
       "      <td>400.000000</td>\n",
       "      <td>400.000000</td>\n",
       "      <td>400.000000</td>\n",
       "      <td>400.000000</td>\n",
       "      <td>400.000000</td>\n",
       "      <td>400.000000</td>\n",
       "      <td>400.000000</td>\n",
       "      <td>400.000000</td>\n",
       "      <td>400.000000</td>\n",
       "      <td>400.000000</td>\n",
       "      <td>400.000000</td>\n",
       "    </tr>\n",
       "    <tr>\n",
       "      <th>mean</th>\n",
       "      <td>0.000000</td>\n",
       "      <td>0.523661</td>\n",
       "      <td>0.509223</td>\n",
       "      <td>0.481238</td>\n",
       "      <td>0.509752</td>\n",
       "      <td>0.497875</td>\n",
       "      <td>0.501065</td>\n",
       "      <td>0.490480</td>\n",
       "      <td>0.482372</td>\n",
       "      <td>0.482822</td>\n",
       "      <td>0.541933</td>\n",
       "    </tr>\n",
       "    <tr>\n",
       "      <th>std</th>\n",
       "      <td>1.001252</td>\n",
       "      <td>0.268194</td>\n",
       "      <td>0.276878</td>\n",
       "      <td>0.287584</td>\n",
       "      <td>0.297712</td>\n",
       "      <td>0.288208</td>\n",
       "      <td>0.287634</td>\n",
       "      <td>0.289954</td>\n",
       "      <td>0.282714</td>\n",
       "      <td>0.296180</td>\n",
       "      <td>0.272490</td>\n",
       "    </tr>\n",
       "    <tr>\n",
       "      <th>min</th>\n",
       "      <td>-1.000000</td>\n",
       "      <td>0.007775</td>\n",
       "      <td>0.003865</td>\n",
       "      <td>0.004473</td>\n",
       "      <td>0.001466</td>\n",
       "      <td>0.000250</td>\n",
       "      <td>0.000425</td>\n",
       "      <td>0.000173</td>\n",
       "      <td>0.003322</td>\n",
       "      <td>0.003165</td>\n",
       "      <td>0.000452</td>\n",
       "    </tr>\n",
       "    <tr>\n",
       "      <th>25%</th>\n",
       "      <td>-1.000000</td>\n",
       "      <td>0.299792</td>\n",
       "      <td>0.283004</td>\n",
       "      <td>0.235544</td>\n",
       "      <td>0.262697</td>\n",
       "      <td>0.249369</td>\n",
       "      <td>0.269430</td>\n",
       "      <td>0.226687</td>\n",
       "      <td>0.242848</td>\n",
       "      <td>0.213626</td>\n",
       "      <td>0.321264</td>\n",
       "    </tr>\n",
       "    <tr>\n",
       "      <th>50%</th>\n",
       "      <td>0.000000</td>\n",
       "      <td>0.534906</td>\n",
       "      <td>0.507583</td>\n",
       "      <td>0.460241</td>\n",
       "      <td>0.510066</td>\n",
       "      <td>0.497842</td>\n",
       "      <td>0.497108</td>\n",
       "      <td>0.477341</td>\n",
       "      <td>0.463438</td>\n",
       "      <td>0.462251</td>\n",
       "      <td>0.578389</td>\n",
       "    </tr>\n",
       "    <tr>\n",
       "      <th>75%</th>\n",
       "      <td>1.000000</td>\n",
       "      <td>0.751887</td>\n",
       "      <td>0.727843</td>\n",
       "      <td>0.734937</td>\n",
       "      <td>0.768975</td>\n",
       "      <td>0.743401</td>\n",
       "      <td>0.738854</td>\n",
       "      <td>0.735304</td>\n",
       "      <td>0.732483</td>\n",
       "      <td>0.740542</td>\n",
       "      <td>0.768990</td>\n",
       "    </tr>\n",
       "    <tr>\n",
       "      <th>max</th>\n",
       "      <td>1.000000</td>\n",
       "      <td>0.999476</td>\n",
       "      <td>0.998680</td>\n",
       "      <td>0.992963</td>\n",
       "      <td>0.995119</td>\n",
       "      <td>0.999412</td>\n",
       "      <td>0.997367</td>\n",
       "      <td>0.997141</td>\n",
       "      <td>0.998230</td>\n",
       "      <td>0.996098</td>\n",
       "      <td>0.999465</td>\n",
       "    </tr>\n",
       "  </tbody>\n",
       "</table>\n",
       "</div>"
      ],
      "text/plain": [
       "       class_label     sensor0     sensor1     sensor2     sensor3  \\\n",
       "count   400.000000  400.000000  400.000000  400.000000  400.000000   \n",
       "mean      0.000000    0.523661    0.509223    0.481238    0.509752   \n",
       "std       1.001252    0.268194    0.276878    0.287584    0.297712   \n",
       "min      -1.000000    0.007775    0.003865    0.004473    0.001466   \n",
       "25%      -1.000000    0.299792    0.283004    0.235544    0.262697   \n",
       "50%       0.000000    0.534906    0.507583    0.460241    0.510066   \n",
       "75%       1.000000    0.751887    0.727843    0.734937    0.768975   \n",
       "max       1.000000    0.999476    0.998680    0.992963    0.995119   \n",
       "\n",
       "          sensor4     sensor5     sensor6     sensor7     sensor8     sensor9  \n",
       "count  400.000000  400.000000  400.000000  400.000000  400.000000  400.000000  \n",
       "mean     0.497875    0.501065    0.490480    0.482372    0.482822    0.541933  \n",
       "std      0.288208    0.287634    0.289954    0.282714    0.296180    0.272490  \n",
       "min      0.000250    0.000425    0.000173    0.003322    0.003165    0.000452  \n",
       "25%      0.249369    0.269430    0.226687    0.242848    0.213626    0.321264  \n",
       "50%      0.497842    0.497108    0.477341    0.463438    0.462251    0.578389  \n",
       "75%      0.743401    0.738854    0.735304    0.732483    0.740542    0.768990  \n",
       "max      0.999412    0.997367    0.997141    0.998230    0.996098    0.999465  "
      ]
     },
     "execution_count": 22,
     "metadata": {},
     "output_type": "execute_result"
    }
   ],
   "source": [
    "df.describe()"
   ]
  },
  {
   "cell_type": "markdown",
   "metadata": {},
   "source": [
    "### Features Engineerig with PCA:\n",
    "\n",
    "Here's an important part of our analysis, i.e Features Extractions. Normally what happens is, in our data set, there is whole lot of featuer values, and we need to figure out what values are best suitable for our algorithm in order to have the best accuracy measures?? There comes features extraction technique, in which we tend to select only those features and columns that have greater impact on our dependent variable. Let's dig a bit deeper inside our data set and try to find out some featuers that're gonna help us come up with better accuracy measures.\n",
    "\n",
    "Ok. Let's go ahead and find out the features that are going to impact the most on our 'class_label'. But here's the thing, we need to manually chooose a value of n_components in order to select the number of features, and it's automatically going to select those top 'X' no. of features that have major impact on our dependent feature. And the question is how we are going to select those n_components on which our dependent feature will be predicted. One way is to embedd the values in following formula and try to find out the number of n_components. And the formula is 2 ** (independent features) = No of observations in our data set. \n",
    "\n",
    "Following this formula we have n_components = 9. We'll be computing for n=9 and see what results we come up with, if we thought that our classifier is not predicting well, we can always go ahead and drop the features by the help of exploratory data analysis or by hit and trail. But keep in mind dropping features is not the best idea always!\n"
   ]
  },
  {
   "cell_type": "code",
   "execution_count": 23,
   "metadata": {},
   "outputs": [],
   "source": [
    "pca = PCA(n_components = 9)"
   ]
  },
  {
   "cell_type": "code",
   "execution_count": 24,
   "metadata": {},
   "outputs": [
    {
     "data": {
      "text/plain": [
       "PCA(copy=True, iterated_power='auto', n_components=9, random_state=None,\n",
       "  svd_solver='auto', tol=0.0, whiten=False)"
      ]
     },
     "execution_count": 24,
     "metadata": {},
     "output_type": "execute_result"
    }
   ],
   "source": [
    "pca.fit(df)"
   ]
  },
  {
   "cell_type": "code",
   "execution_count": 25,
   "metadata": {},
   "outputs": [],
   "source": [
    "x_pca = pca.transform(df)"
   ]
  },
  {
   "cell_type": "code",
   "execution_count": 26,
   "metadata": {},
   "outputs": [
    {
     "data": {
      "text/plain": [
       "(400, 9)"
      ]
     },
     "execution_count": 26,
     "metadata": {},
     "output_type": "execute_result"
    }
   ],
   "source": [
    "x_pca.shape"
   ]
  },
  {
   "cell_type": "code",
   "execution_count": 27,
   "metadata": {},
   "outputs": [
    {
     "data": {
      "text/plain": [
       "numpy.ndarray"
      ]
     },
     "execution_count": 27,
     "metadata": {},
     "output_type": "execute_result"
    }
   ],
   "source": [
    "type(x_pca)"
   ]
  },
  {
   "cell_type": "code",
   "execution_count": 28,
   "metadata": {},
   "outputs": [],
   "source": [
    "df_pca = pd.DataFrame(x_pca)"
   ]
  },
  {
   "cell_type": "code",
   "execution_count": 29,
   "metadata": {},
   "outputs": [
    {
     "data": {
      "text/html": [
       "<div>\n",
       "<style scoped>\n",
       "    .dataframe tbody tr th:only-of-type {\n",
       "        vertical-align: middle;\n",
       "    }\n",
       "\n",
       "    .dataframe tbody tr th {\n",
       "        vertical-align: top;\n",
       "    }\n",
       "\n",
       "    .dataframe thead th {\n",
       "        text-align: right;\n",
       "    }\n",
       "</style>\n",
       "<table border=\"1\" class=\"dataframe\">\n",
       "  <thead>\n",
       "    <tr style=\"text-align: right;\">\n",
       "      <th></th>\n",
       "      <th>0</th>\n",
       "      <th>1</th>\n",
       "      <th>2</th>\n",
       "      <th>3</th>\n",
       "      <th>4</th>\n",
       "      <th>5</th>\n",
       "      <th>6</th>\n",
       "      <th>7</th>\n",
       "      <th>8</th>\n",
       "    </tr>\n",
       "  </thead>\n",
       "  <tbody>\n",
       "    <tr>\n",
       "      <th>0</th>\n",
       "      <td>-1.044867</td>\n",
       "      <td>-0.217018</td>\n",
       "      <td>-0.480744</td>\n",
       "      <td>0.027423</td>\n",
       "      <td>0.022602</td>\n",
       "      <td>0.060396</td>\n",
       "      <td>0.240332</td>\n",
       "      <td>0.242750</td>\n",
       "      <td>0.197254</td>\n",
       "    </tr>\n",
       "    <tr>\n",
       "      <th>1</th>\n",
       "      <td>-0.898673</td>\n",
       "      <td>0.300780</td>\n",
       "      <td>0.248800</td>\n",
       "      <td>0.192346</td>\n",
       "      <td>0.167744</td>\n",
       "      <td>-0.614118</td>\n",
       "      <td>0.153778</td>\n",
       "      <td>0.233081</td>\n",
       "      <td>0.232828</td>\n",
       "    </tr>\n",
       "    <tr>\n",
       "      <th>2</th>\n",
       "      <td>-1.072623</td>\n",
       "      <td>-0.501007</td>\n",
       "      <td>-0.041660</td>\n",
       "      <td>-0.292509</td>\n",
       "      <td>-0.233253</td>\n",
       "      <td>-0.357398</td>\n",
       "      <td>-0.014586</td>\n",
       "      <td>0.218153</td>\n",
       "      <td>0.037947</td>\n",
       "    </tr>\n",
       "    <tr>\n",
       "      <th>3</th>\n",
       "      <td>-1.122398</td>\n",
       "      <td>0.475722</td>\n",
       "      <td>0.178598</td>\n",
       "      <td>-0.297890</td>\n",
       "      <td>-0.076354</td>\n",
       "      <td>-0.308010</td>\n",
       "      <td>0.027396</td>\n",
       "      <td>-0.048506</td>\n",
       "      <td>0.069739</td>\n",
       "    </tr>\n",
       "    <tr>\n",
       "      <th>4</th>\n",
       "      <td>-1.099792</td>\n",
       "      <td>-0.003412</td>\n",
       "      <td>0.149508</td>\n",
       "      <td>-0.090173</td>\n",
       "      <td>-0.591424</td>\n",
       "      <td>-0.094310</td>\n",
       "      <td>0.182457</td>\n",
       "      <td>-0.225297</td>\n",
       "      <td>0.069493</td>\n",
       "    </tr>\n",
       "  </tbody>\n",
       "</table>\n",
       "</div>"
      ],
      "text/plain": [
       "          0         1         2         3         4         5         6  \\\n",
       "0 -1.044867 -0.217018 -0.480744  0.027423  0.022602  0.060396  0.240332   \n",
       "1 -0.898673  0.300780  0.248800  0.192346  0.167744 -0.614118  0.153778   \n",
       "2 -1.072623 -0.501007 -0.041660 -0.292509 -0.233253 -0.357398 -0.014586   \n",
       "3 -1.122398  0.475722  0.178598 -0.297890 -0.076354 -0.308010  0.027396   \n",
       "4 -1.099792 -0.003412  0.149508 -0.090173 -0.591424 -0.094310  0.182457   \n",
       "\n",
       "          7         8  \n",
       "0  0.242750  0.197254  \n",
       "1  0.233081  0.232828  \n",
       "2  0.218153  0.037947  \n",
       "3 -0.048506  0.069739  \n",
       "4 -0.225297  0.069493  "
      ]
     },
     "execution_count": 29,
     "metadata": {},
     "output_type": "execute_result"
    }
   ],
   "source": [
    "df_pca.head()"
   ]
  },
  {
   "cell_type": "markdown",
   "metadata": {},
   "source": [
    "###  Logistic Regression:\n",
    "\n",
    "Now that we have done all the mendatory processes on our data in order to apply the Machine learning algorithms, we are ready to go for applying No. of algorithms off of our pre-processed data, and compare the results of each.\n",
    "\n",
    "First let's try to classify the results with LogisticRegression. Binary LogisticRegression is used where the classes are binary, or means we have only two classes to predict. And there's whole lot of variations in that as well, but here since the thresh hold is average value and we are gonna predict the classes off of that threshold value i.e 0 we'll stick to only binary classification. In short LogisticRegression is used when the dependent variable(target) is categorical. For instance:\n",
    "\n",
    "* To predict whether an email is spam (1) or (0)\n",
    "* Whether the tumor is malignant (1) or not (0)\n",
    "\n",
    "So, let's go ahead and implement LogisticRegression in order to predict our target classes!"
   ]
  },
  {
   "cell_type": "code",
   "execution_count": 30,
   "metadata": {},
   "outputs": [
    {
     "name": "stdout",
     "output_type": "stream",
     "text": [
      "[[50  5]\n",
      " [ 6 59]]\n",
      "\n",
      "\n",
      "classification report:\n",
      "\n",
      "\n",
      "              precision    recall  f1-score   support\n",
      "\n",
      "        -1.0       0.89      0.91      0.90        55\n",
      "         1.0       0.92      0.91      0.91        65\n",
      "\n",
      "   micro avg       0.91      0.91      0.91       120\n",
      "   macro avg       0.91      0.91      0.91       120\n",
      "weighted avg       0.91      0.91      0.91       120\n",
      "\n",
      "Accuracy: 90.833\n"
     ]
    },
    {
     "name": "stderr",
     "output_type": "stream",
     "text": [
      "/home/umairshah/anaconda3/lib/python3.7/site-packages/sklearn/linear_model/logistic.py:433: FutureWarning: Default solver will be changed to 'lbfgs' in 0.22. Specify a solver to silence this warning.\n",
      "  FutureWarning)\n"
     ]
    }
   ],
   "source": [
    "X0 = df.drop('class_label', axis = 1)\n",
    "y0 = df['class_label']\n",
    "\n",
    "X0_train, X0_test, y0_train, y0_test = train_test_split(X0, y0, test_size = 0.3, random_state = 101)\n",
    "\n",
    "log0_model = LogisticRegression()\n",
    "\n",
    "log0_model.fit(X0_train,y0_train)\n",
    "\n",
    "my_assump_predictions = log0_model.predict(X0_test)\n",
    "\n",
    "print(confusion_matrix(y0_test, my_assump_predictions))\n",
    "print('\\n')\n",
    "print('classification report:')\n",
    "print('\\n')\n",
    "print(classification_report(y0_test, my_assump_predictions))\n",
    "print('Accuracy: {0:.3f}'.format(accuracy_score(y0_test, my_assump_predictions) * 100))\n"
   ]
  },
  {
   "cell_type": "markdown",
   "metadata": {},
   "source": [
    "Look it has already come up with an excellent accuracy score of almost 91%, which means our classifier is predicting the correct values upto 91% which is truly amazing. Lets go ahead and try out some more algorithms to see if we can imporve our accuracy a bit more. So lets do it"
   ]
  },
  {
   "cell_type": "markdown",
   "metadata": {},
   "source": [
    "### Support Vector Machines:\n",
    "\n",
    "Before implementing Support Vector Machines, let's briefly discuss how SVM actually works. Suppose we are given tow sets of sample classes, in case above, and our job is to draw a line that separates them the best. And by the \"best\" I mean to separate them in such a way that the decision boundary or the line that separates the two classes, creates the widest road (margin) between the two sets of groups. In case of Linear seperable classes, the Kernel version used is Linear kernal.\n",
    "\n",
    "But what if we want to separate the 3D classes. Well, for that the decision boundary is called the Hyperplane, which is the type of plane SVM draws by tranforming the data set into 3D and predicts target classes off of that. Here we'll only stick to Linear kernel we are using, in SVM.\n",
    "\n",
    "Lets go ahead and implement the SVM algorithm and see what sort of results we get!"
   ]
  },
  {
   "cell_type": "code",
   "execution_count": 31,
   "metadata": {},
   "outputs": [
    {
     "name": "stdout",
     "output_type": "stream",
     "text": [
      "[[51  4]\n",
      " [ 7 58]]\n",
      "\n",
      "\n",
      "              precision    recall  f1-score   support\n",
      "\n",
      "        -1.0       0.88      0.93      0.90        55\n",
      "         1.0       0.94      0.89      0.91        65\n",
      "\n",
      "   micro avg       0.91      0.91      0.91       120\n",
      "   macro avg       0.91      0.91      0.91       120\n",
      "weighted avg       0.91      0.91      0.91       120\n",
      "\n",
      "\n",
      "\n",
      "Accuracy: 90.833\n"
     ]
    },
    {
     "name": "stderr",
     "output_type": "stream",
     "text": [
      "/home/umairshah/anaconda3/lib/python3.7/site-packages/sklearn/svm/base.py:196: FutureWarning: The default value of gamma will change from 'auto' to 'scale' in version 0.22 to account better for unscaled features. Set gamma explicitly to 'auto' or 'scale' to avoid this warning.\n",
      "  \"avoid this warning.\", FutureWarning)\n"
     ]
    }
   ],
   "source": [
    "svm = SVC()\n",
    "\n",
    "X1 = df.drop('class_label', axis = 1)\n",
    "y1 = df['class_label']\n",
    "\n",
    "X1_train, X1_test, y1_train, y1_test = train_test_split(X1, y1, test_size = 0.3, random_state = 101)\n",
    "\n",
    "svm.fit(X1_train, y1_train)\n",
    "\n",
    "predictions_1 = svm.predict(X1_test)\n",
    "\n",
    "print(confusion_matrix(y1_test, predictions_1))\n",
    "print('\\n')\n",
    "print(classification_report(y1_test, predictions_1))\n",
    "print('\\n')\n",
    "print('Accuracy: {0:.3f}'.format(accuracy_score(y1_test, predictions_1) * 100))"
   ]
  },
  {
   "cell_type": "markdown",
   "metadata": {},
   "source": [
    "Well surprisengly, it has come up with almost the exact accuracy score as Logistic Regression, but if we pay attention to confusion matrix, we can see the precision and recall values differ for each of the algorithm, which shows the different approach of each of them. Since the Logistic Regression is a probabilistic approch therefore it has it's own ratio of True positives/True Positives + Faslse Positives and so does SVM's"
   ]
  },
  {
   "cell_type": "markdown",
   "metadata": {},
   "source": [
    "### Classification with Dimetionality Reduction:\n",
    "\n",
    "Principle components analysis and dimentionality reduction is applied for data set having atleast more than 10 dimentions, prior to apply any classification algorithm. But here, since our analysis is based on classifying and assesing the performance of algorithms alone, we need to apply dimentionality reduction on a specific type of data set.\n",
    "\n",
    "But, before we apply PCA, let me quickly tell you some of it's advantages:\n",
    "\n",
    "* time efficiency\n",
    "* Removal of dependency of multiple independent features improve the interpretation of the parameters of Machine learning model\n",
    "* It becomes easier to visualize the data when reduced to a very low dimensions\n",
    "\n",
    "Now lets try to train our model, with feature Engineered data set we made earlier.\n",
    "We reduced the dimentionality of our features, and omitted out the features that don't really impact our\n",
    "target class. Let's go ahead and grab that data set"
   ]
  },
  {
   "cell_type": "code",
   "execution_count": 32,
   "metadata": {},
   "outputs": [
    {
     "data": {
      "text/plain": [
       "(400, 9)"
      ]
     },
     "execution_count": 32,
     "metadata": {},
     "output_type": "execute_result"
    }
   ],
   "source": [
    "x_pca.shape"
   ]
  },
  {
   "cell_type": "code",
   "execution_count": 33,
   "metadata": {},
   "outputs": [
    {
     "name": "stdout",
     "output_type": "stream",
     "text": [
      "[[55  0]\n",
      " [ 0 65]]\n",
      "\n",
      "\n",
      "              precision    recall  f1-score   support\n",
      "\n",
      "        -1.0       1.00      1.00      1.00        55\n",
      "         1.0       1.00      1.00      1.00        65\n",
      "\n",
      "   micro avg       1.00      1.00      1.00       120\n",
      "   macro avg       1.00      1.00      1.00       120\n",
      "weighted avg       1.00      1.00      1.00       120\n",
      "\n",
      "Accuracy: 100.000 \n"
     ]
    },
    {
     "name": "stderr",
     "output_type": "stream",
     "text": [
      "/home/umairshah/anaconda3/lib/python3.7/site-packages/sklearn/linear_model/logistic.py:433: FutureWarning: Default solver will be changed to 'lbfgs' in 0.22. Specify a solver to silence this warning.\n",
      "  FutureWarning)\n"
     ]
    }
   ],
   "source": [
    "X2 = df_pca\n",
    "y2 = df['class_label']\n",
    "\n",
    "X2_train, X2_test, y2_train, y2_test = train_test_split(X2, y2, test_size = 0.3, random_state = 101)\n",
    "\n",
    "log_model = LogisticRegression()\n",
    "\n",
    "log_model.fit(X2,y2)\n",
    "\n",
    "predictions_2 = log_model.predict(X2_test)\n",
    "\n",
    "print(confusion_matrix(y2_test, predictions_2))\n",
    "print('\\n')\n",
    "print(classification_report(y2_test, predictions_2))\n",
    "print('Accuracy: {0:.3f} '.format(accuracy_score(y2_test, predictions_2) * 100))"
   ]
  },
  {
   "cell_type": "markdown",
   "metadata": {},
   "source": [
    "### 3. K-Nearest Neighbors:\n",
    "\n",
    "KNN Machine learning algorithm is widely used in classification. It's purpose is to use a data set in which data points are separated into multiple classes to predict the classification of a new sample point.\n",
    "\n",
    "Let's discuss some of it's Pros and Cons:\n",
    "\n",
    "##### Pros:\n",
    "\n",
    "* It's simple to use\n",
    "* High accuracy\n",
    "* Can be used on variety of data sets.\n",
    "* No need to be aware of parameters of a particular observation\n",
    "\n",
    "##### Cons:\n",
    "\n",
    "* A little computationally expensive\n",
    "* Stores the training data\n",
    "* Data needs to be normalized\n",
    "* Sensitive to irrelevant features and the scale of the data\n",
    "\n",
    "### My Own Assumption:\n",
    "\n",
    "Well, what I think would be the best option is to go for the KNN classifier. Now before I explain why I think KNN could out perform lets quickly have a glance at our data set.\n",
    "\n",
    "If we pay attention, we can see that the independent columns are not correlated with one another, but they do relate somehow with our target class. Which means that, we do not necceserly have to go for features reduction, unless we see that there is some major correlations between independent features. So there is no point in extracting the features. Also as per Professor Andrew NG, \"do not go for features reduction unless you don't have any option left\", sort of exactly fits here.\n",
    "\n",
    "secondly, the data set we have is non-parametric. Let me tell you what non-parametric means. You see the independent values are not given any titles, that means it is on the spot to use KNN algorithm to predict the values here, because this is what KNN does, You give the data set to the classifier, telling it look we don't exaclty know what are the parameters of this particular observation, we only know that it belongs to a certain group, now it's your job to find out the patterns which neccesserly contribute it to fall in a certain group. So that's why I would first apply KNN on the given data set, and hopefully under the light of above analysis, we are gonna come up with some interesting results.\n",
    "\n",
    "READY? \n",
    "\n",
    "Let's do it.."
   ]
  },
  {
   "cell_type": "code",
   "execution_count": 34,
   "metadata": {},
   "outputs": [
    {
     "name": "stdout",
     "output_type": "stream",
     "text": [
      "[[55  0]\n",
      " [ 0 65]]\n",
      "classification report:\n",
      "              precision    recall  f1-score   support\n",
      "\n",
      "        -1.0       1.00      1.00      1.00        55\n",
      "         1.0       1.00      1.00      1.00        65\n",
      "\n",
      "   micro avg       1.00      1.00      1.00       120\n",
      "   macro avg       1.00      1.00      1.00       120\n",
      "weighted avg       1.00      1.00      1.00       120\n",
      "\n",
      "Accuracy: 100.000\n"
     ]
    }
   ],
   "source": [
    "X3 = df\n",
    "y3 = df['class_label']\n",
    "\n",
    "X3_train, X3_test, y3_train, y3_test = train_test_split(X3, y3, test_size = 0.3, random_state = 101)\n",
    "\n",
    "knn = KNeighborsClassifier(n_neighbors=5)\n",
    "\n",
    "knn.fit(X3_train, y3_train)\n",
    "\n",
    "predictions_3 = knn.predict(X3_test)\n",
    "\n",
    "print(confusion_matrix(y3_test, predictions_3))\n",
    "print('classification report:')\n",
    "print(classification_report(y3_test, predictions_3))\n",
    "print('Accuracy: {0:.3f}'.format(accuracy_score(y3_test, predictions_3) * 100))"
   ]
  },
  {
   "cell_type": "markdown",
   "metadata": {},
   "source": [
    "And there you go, it has done amazingly awesome classification with accuracy upto 100% plus we have all the features in our data set and we didn't reduce any of them."
   ]
  },
  {
   "cell_type": "markdown",
   "metadata": {},
   "source": [
    "### Pickle the Model:"
   ]
  },
  {
   "cell_type": "markdown",
   "metadata": {},
   "source": [
    "Now that we are done with implementing variety of algorithms and making analysis of our models, it's time to Pickle the models.\n",
    "\n",
    "So before, I go ahead and pickle our models, let me briefly explain what Pickle module does.\n",
    "\n",
    "When we train our model, on a certain data set, we need to store this trained model, in some sort of character stream, so that next time when we want to predict the classes off of our model, we don't have to train the model again and again. This is done through built-in Python module 'Pickle'. Let me show you, what methods we call off of this pickle module in order to save the data, and then reload it, each time we need to predict values off of our model, which has been trained only once.\n",
    "\n",
    "* pickle.dump() >> dumps our trained model, in a special character stream\n",
    "* pickle.load() >> reloads the model, so that we can use it just like our trained model, without bothering about training it again.\n",
    "\n",
    "First we'll pickle our model, and then we'll reload the model, call few methods off of it, just to make sure if we have correctly pickled the model.\n",
    "\n",
    "So, pretty much has been discussed about Pickle, let's go ahead and see this in action!"
   ]
  },
  {
   "cell_type": "code",
   "execution_count": 35,
   "metadata": {},
   "outputs": [],
   "source": [
    "import pickle"
   ]
  },
  {
   "cell_type": "code",
   "execution_count": 36,
   "metadata": {},
   "outputs": [],
   "source": [
    "with open('model1_LogReg', 'wb') as f1:\n",
    "    pickle.dump(log0_model, f1)"
   ]
  },
  {
   "cell_type": "code",
   "execution_count": 37,
   "metadata": {},
   "outputs": [],
   "source": [
    "with open('model1_LogReg', 'rb') as f1:\n",
    "    model1 = pickle.load(f1)"
   ]
  },
  {
   "cell_type": "code",
   "execution_count": 38,
   "metadata": {},
   "outputs": [
    {
     "data": {
      "text/plain": [
       "array([ 1., -1., -1.,  1.,  1., -1.,  1.,  1.,  1.,  1., -1., -1., -1.,\n",
       "        1., -1.,  1., -1.,  1., -1.,  1.,  1., -1., -1., -1., -1.,  1.,\n",
       "        1., -1., -1., -1.,  1.,  1.,  1.,  1., -1., -1., -1., -1., -1.,\n",
       "        1.,  1.,  1.,  1.,  1., -1.,  1.,  1.,  1., -1.,  1., -1., -1.,\n",
       "        1., -1., -1., -1., -1.,  1.,  1., -1., -1., -1.,  1.,  1.,  1.,\n",
       "        1., -1., -1.,  1., -1.,  1.,  1.,  1.,  1.,  1., -1.,  1.,  1.,\n",
       "       -1.,  1.,  1.,  1.,  1.,  1., -1.,  1.,  1., -1., -1., -1., -1.,\n",
       "        1.,  1., -1., -1., -1.,  1., -1., -1.,  1.,  1., -1.,  1.,  1.,\n",
       "       -1.,  1., -1.,  1.,  1., -1.,  1., -1.,  1.,  1., -1., -1.,  1.,\n",
       "       -1.,  1., -1.])"
      ]
     },
     "execution_count": 38,
     "metadata": {},
     "output_type": "execute_result"
    }
   ],
   "source": [
    "model1.predict(X0_test)"
   ]
  },
  {
   "cell_type": "code",
   "execution_count": 39,
   "metadata": {},
   "outputs": [],
   "source": [
    "with open('model2_SVM', 'wb') as f2:\n",
    "    pickle.dump(svm, f2)"
   ]
  },
  {
   "cell_type": "code",
   "execution_count": 40,
   "metadata": {},
   "outputs": [],
   "source": [
    "with open('model2_SVM', 'rb') as f2:\n",
    "    model2 = pickle.load(f2)"
   ]
  },
  {
   "cell_type": "code",
   "execution_count": 41,
   "metadata": {},
   "outputs": [
    {
     "data": {
      "text/plain": [
       "array([ 1., -1., -1.,  1.,  1., -1.,  1.,  1.,  1.,  1., -1., -1., -1.,\n",
       "        1., -1.,  1., -1.,  1., -1.,  1.,  1., -1., -1., -1., -1., -1.,\n",
       "        1., -1., -1., -1.,  1.,  1.,  1.,  1., -1.,  1., -1., -1., -1.,\n",
       "        1.,  1.,  1.,  1.,  1., -1.,  1.,  1.,  1., -1.,  1., -1., -1.,\n",
       "        1., -1., -1., -1., -1.,  1.,  1., -1., -1., -1.,  1.,  1.,  1.,\n",
       "       -1., -1., -1.,  1., -1.,  1.,  1.,  1., -1.,  1., -1.,  1.,  1.,\n",
       "       -1.,  1.,  1.,  1.,  1.,  1., -1.,  1.,  1., -1., -1., -1., -1.,\n",
       "        1.,  1., -1., -1., -1.,  1., -1., -1.,  1.,  1., -1.,  1.,  1.,\n",
       "       -1.,  1., -1.,  1.,  1., -1.,  1., -1.,  1.,  1., -1., -1.,  1.,\n",
       "       -1.,  1., -1.])"
      ]
     },
     "execution_count": 41,
     "metadata": {},
     "output_type": "execute_result"
    }
   ],
   "source": [
    "model2.predict(X1_test)"
   ]
  },
  {
   "cell_type": "code",
   "execution_count": 42,
   "metadata": {},
   "outputs": [],
   "source": [
    "with open('model3_PCA', 'wb') as f3:\n",
    "    pickle.dump(log_model, f3)"
   ]
  },
  {
   "cell_type": "code",
   "execution_count": 43,
   "metadata": {},
   "outputs": [],
   "source": [
    "with open('model3_PCA', 'rb') as f3:\n",
    "    model3 = pickle.load(f3)"
   ]
  },
  {
   "cell_type": "code",
   "execution_count": 44,
   "metadata": {},
   "outputs": [
    {
     "data": {
      "text/plain": [
       "array([ 1., -1., -1.,  1.,  1., -1.,  1.,  1.,  1.,  1., -1., -1.,  1.,\n",
       "        1., -1.,  1., -1.,  1., -1.,  1., -1., -1., -1., -1., -1.,  1.,\n",
       "        1., -1., -1., -1.,  1.,  1.,  1.,  1., -1.,  1., -1., -1., -1.,\n",
       "        1.,  1.,  1.,  1.,  1., -1.,  1.,  1.,  1., -1.,  1., -1., -1.,\n",
       "        1., -1., -1., -1., -1.,  1.,  1., -1., -1., -1.,  1.,  1., -1.,\n",
       "       -1., -1., -1.,  1., -1.,  1.,  1.,  1.,  1.,  1.,  1.,  1.,  1.,\n",
       "       -1.,  1.,  1.,  1.,  1., -1., -1., -1.,  1., -1., -1., -1., -1.,\n",
       "        1.,  1.,  1., -1., -1.,  1., -1., -1.,  1.,  1.,  1.,  1.,  1.,\n",
       "       -1.,  1., -1.,  1.,  1., -1.,  1., -1.,  1.,  1.,  1., -1.,  1.,\n",
       "       -1.,  1., -1.])"
      ]
     },
     "execution_count": 44,
     "metadata": {},
     "output_type": "execute_result"
    }
   ],
   "source": [
    "model3.predict(X2_test)"
   ]
  },
  {
   "cell_type": "code",
   "execution_count": 45,
   "metadata": {},
   "outputs": [],
   "source": [
    "with open('model4_KNN', 'wb') as f4:\n",
    "    pickle.dump(knn, f4)"
   ]
  },
  {
   "cell_type": "code",
   "execution_count": 46,
   "metadata": {},
   "outputs": [],
   "source": [
    "with open('model4_KNN', 'rb') as f4:\n",
    "    model4 = pickle.load(f4)"
   ]
  },
  {
   "cell_type": "code",
   "execution_count": 47,
   "metadata": {},
   "outputs": [
    {
     "data": {
      "text/plain": [
       "array([ 1., -1., -1.,  1.,  1., -1.,  1.,  1.,  1.,  1., -1., -1.,  1.,\n",
       "        1., -1.,  1., -1.,  1., -1.,  1., -1., -1., -1., -1., -1.,  1.,\n",
       "        1., -1., -1., -1.,  1.,  1.,  1.,  1., -1.,  1., -1., -1., -1.,\n",
       "        1.,  1.,  1.,  1.,  1., -1.,  1.,  1.,  1., -1.,  1., -1., -1.,\n",
       "        1., -1., -1., -1., -1.,  1.,  1., -1., -1., -1.,  1.,  1., -1.,\n",
       "       -1., -1., -1.,  1., -1.,  1.,  1.,  1.,  1.,  1.,  1.,  1.,  1.,\n",
       "       -1.,  1.,  1.,  1.,  1., -1., -1., -1.,  1., -1., -1., -1., -1.,\n",
       "        1.,  1.,  1., -1., -1.,  1., -1., -1.,  1.,  1.,  1.,  1.,  1.,\n",
       "       -1.,  1., -1.,  1.,  1., -1.,  1., -1.,  1.,  1.,  1., -1.,  1.,\n",
       "       -1.,  1., -1.])"
      ]
     },
     "execution_count": 47,
     "metadata": {},
     "output_type": "execute_result"
    }
   ],
   "source": [
    "model4.predict(X3_test)"
   ]
  },
  {
   "cell_type": "markdown",
   "metadata": {},
   "source": [
    "### Creating CSV:"
   ]
  },
  {
   "cell_type": "markdown",
   "metadata": {},
   "source": [
    "Finally, let's go ahead and create a CSV file off of our dataframe, which contains the correlations in descending order of different sensor values, with our dependent variable i.e 'class_label'\n",
    "\n",
    "First I'll show you, how the Dataframe looks like, and then we'll go ahead and create a CSV file off of that, and after that we'll test the CSV file we made.\n",
    "\n",
    "So let's give it a shot"
   ]
  },
  {
   "cell_type": "code",
   "execution_count": 48,
   "metadata": {},
   "outputs": [
    {
     "data": {
      "text/html": [
       "<div>\n",
       "<style scoped>\n",
       "    .dataframe tbody tr th:only-of-type {\n",
       "        vertical-align: middle;\n",
       "    }\n",
       "\n",
       "    .dataframe tbody tr th {\n",
       "        vertical-align: top;\n",
       "    }\n",
       "\n",
       "    .dataframe thead th {\n",
       "        text-align: right;\n",
       "    }\n",
       "</style>\n",
       "<table border=\"1\" class=\"dataframe\">\n",
       "  <thead>\n",
       "    <tr style=\"text-align: right;\">\n",
       "      <th></th>\n",
       "      <th>class_label</th>\n",
       "      <th>sensor8</th>\n",
       "      <th>sensor4</th>\n",
       "      <th>sensor0</th>\n",
       "      <th>sensor3</th>\n",
       "      <th>sensor5</th>\n",
       "      <th>sensor7</th>\n",
       "      <th>sensor9</th>\n",
       "      <th>sensor2</th>\n",
       "      <th>sensor6</th>\n",
       "      <th>sensor1</th>\n",
       "    </tr>\n",
       "  </thead>\n",
       "  <tbody>\n",
       "    <tr>\n",
       "      <th>0</th>\n",
       "      <td>1.0</td>\n",
       "      <td>0.660618</td>\n",
       "      <td>0.607623</td>\n",
       "      <td>0.543295</td>\n",
       "      <td>0.433636</td>\n",
       "      <td>0.224147</td>\n",
       "      <td>0.175612</td>\n",
       "      <td>0.094907</td>\n",
       "      <td>0.038775</td>\n",
       "      <td>-0.007414</td>\n",
       "      <td>-0.252007</td>\n",
       "    </tr>\n",
       "  </tbody>\n",
       "</table>\n",
       "</div>"
      ],
      "text/plain": [
       "   class_label   sensor8   sensor4   sensor0   sensor3   sensor5   sensor7  \\\n",
       "0          1.0  0.660618  0.607623  0.543295  0.433636  0.224147  0.175612   \n",
       "\n",
       "    sensor9   sensor2   sensor6   sensor1  \n",
       "0  0.094907  0.038775 -0.007414 -0.252007  "
      ]
     },
     "execution_count": 48,
     "metadata": {},
     "output_type": "execute_result"
    }
   ],
   "source": [
    "ranked_corr_df"
   ]
  },
  {
   "cell_type": "code",
   "execution_count": 49,
   "metadata": {},
   "outputs": [],
   "source": [
    "with open('ranked_corr_df', 'w') as file:\n",
    "    \n",
    "    thewriter = csv.writer(file)\n",
    "    thewriter.writerow(ranked_corr_df)\n",
    "    thewriter.writerow(ranked_correlations)"
   ]
  },
  {
   "cell_type": "code",
   "execution_count": 50,
   "metadata": {},
   "outputs": [],
   "source": [
    "csv_test = pd.read_csv('ranked_corr_df')"
   ]
  },
  {
   "cell_type": "code",
   "execution_count": 51,
   "metadata": {},
   "outputs": [
    {
     "data": {
      "text/html": [
       "<div>\n",
       "<style scoped>\n",
       "    .dataframe tbody tr th:only-of-type {\n",
       "        vertical-align: middle;\n",
       "    }\n",
       "\n",
       "    .dataframe tbody tr th {\n",
       "        vertical-align: top;\n",
       "    }\n",
       "\n",
       "    .dataframe thead th {\n",
       "        text-align: right;\n",
       "    }\n",
       "</style>\n",
       "<table border=\"1\" class=\"dataframe\">\n",
       "  <thead>\n",
       "    <tr style=\"text-align: right;\">\n",
       "      <th></th>\n",
       "      <th>class_label</th>\n",
       "      <th>sensor8</th>\n",
       "      <th>sensor4</th>\n",
       "      <th>sensor0</th>\n",
       "      <th>sensor3</th>\n",
       "      <th>sensor5</th>\n",
       "      <th>sensor7</th>\n",
       "      <th>sensor9</th>\n",
       "      <th>sensor2</th>\n",
       "      <th>sensor6</th>\n",
       "      <th>sensor1</th>\n",
       "    </tr>\n",
       "  </thead>\n",
       "  <tbody>\n",
       "    <tr>\n",
       "      <th>0</th>\n",
       "      <td>1.0</td>\n",
       "      <td>0.660618</td>\n",
       "      <td>0.607623</td>\n",
       "      <td>0.543295</td>\n",
       "      <td>0.433636</td>\n",
       "      <td>0.224147</td>\n",
       "      <td>0.175612</td>\n",
       "      <td>0.094907</td>\n",
       "      <td>0.038775</td>\n",
       "      <td>-0.007414</td>\n",
       "      <td>-0.252007</td>\n",
       "    </tr>\n",
       "  </tbody>\n",
       "</table>\n",
       "</div>"
      ],
      "text/plain": [
       "   class_label   sensor8   sensor4   sensor0   sensor3   sensor5   sensor7  \\\n",
       "0          1.0  0.660618  0.607623  0.543295  0.433636  0.224147  0.175612   \n",
       "\n",
       "    sensor9   sensor2   sensor6   sensor1  \n",
       "0  0.094907  0.038775 -0.007414 -0.252007  "
      ]
     },
     "execution_count": 51,
     "metadata": {},
     "output_type": "execute_result"
    }
   ],
   "source": [
    "csv_test"
   ]
  },
  {
   "cell_type": "code",
   "execution_count": null,
   "metadata": {},
   "outputs": [],
   "source": []
  }
 ],
 "metadata": {
  "kernelspec": {
   "display_name": "Python 3",
   "language": "python",
   "name": "python3"
  },
  "language_info": {
   "codemirror_mode": {
    "name": "ipython",
    "version": 3
   },
   "file_extension": ".py",
   "mimetype": "text/x-python",
   "name": "python",
   "nbconvert_exporter": "python",
   "pygments_lexer": "ipython3",
   "version": "3.7.3"
  }
 },
 "nbformat": 4,
 "nbformat_minor": 2
}
